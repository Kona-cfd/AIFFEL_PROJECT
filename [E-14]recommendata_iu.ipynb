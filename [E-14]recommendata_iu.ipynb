{
 "cells": [
  {
   "cell_type": "markdown",
   "id": "1e8c5412",
   "metadata": {},
   "source": [
    "#### 1) 데이터 준비와 전처리"
   ]
  },
  {
   "cell_type": "markdown",
   "id": "dfebb9fd",
   "metadata": {},
   "source": [
    "Movielens 데이터는 rating.dat 안에 이미 인덱싱까지 완료된 사용자-영화-평점 데이터가 깔끔하게 정리되어 있습니다."
   ]
  },
  {
   "cell_type": "code",
   "execution_count": 1,
   "id": "40ed1461",
   "metadata": {},
   "outputs": [
    {
     "data": {
      "text/html": [
       "<div>\n",
       "<style scoped>\n",
       "    .dataframe tbody tr th:only-of-type {\n",
       "        vertical-align: middle;\n",
       "    }\n",
       "\n",
       "    .dataframe tbody tr th {\n",
       "        vertical-align: top;\n",
       "    }\n",
       "\n",
       "    .dataframe thead th {\n",
       "        text-align: right;\n",
       "    }\n",
       "</style>\n",
       "<table border=\"1\" class=\"dataframe\">\n",
       "  <thead>\n",
       "    <tr style=\"text-align: right;\">\n",
       "      <th></th>\n",
       "      <th>user_id</th>\n",
       "      <th>movie_id</th>\n",
       "      <th>rating</th>\n",
       "      <th>timestamp</th>\n",
       "    </tr>\n",
       "  </thead>\n",
       "  <tbody>\n",
       "    <tr>\n",
       "      <th>0</th>\n",
       "      <td>1</td>\n",
       "      <td>1193</td>\n",
       "      <td>5</td>\n",
       "      <td>978300760</td>\n",
       "    </tr>\n",
       "    <tr>\n",
       "      <th>1</th>\n",
       "      <td>1</td>\n",
       "      <td>661</td>\n",
       "      <td>3</td>\n",
       "      <td>978302109</td>\n",
       "    </tr>\n",
       "    <tr>\n",
       "      <th>2</th>\n",
       "      <td>1</td>\n",
       "      <td>914</td>\n",
       "      <td>3</td>\n",
       "      <td>978301968</td>\n",
       "    </tr>\n",
       "    <tr>\n",
       "      <th>3</th>\n",
       "      <td>1</td>\n",
       "      <td>3408</td>\n",
       "      <td>4</td>\n",
       "      <td>978300275</td>\n",
       "    </tr>\n",
       "    <tr>\n",
       "      <th>4</th>\n",
       "      <td>1</td>\n",
       "      <td>2355</td>\n",
       "      <td>5</td>\n",
       "      <td>978824291</td>\n",
       "    </tr>\n",
       "  </tbody>\n",
       "</table>\n",
       "</div>"
      ],
      "text/plain": [
       "   user_id  movie_id  rating  timestamp\n",
       "0        1      1193       5  978300760\n",
       "1        1       661       3  978302109\n",
       "2        1       914       3  978301968\n",
       "3        1      3408       4  978300275\n",
       "4        1      2355       5  978824291"
      ]
     },
     "execution_count": 1,
     "metadata": {},
     "output_type": "execute_result"
    }
   ],
   "source": [
    "import pandas as pd\n",
    "import os\n",
    "from pathlib import Path\n",
    "\n",
    "# rating_file_path=os.getenv('HOME') + '/aiffel/recommendata_iu/data/ml-1m/ratings.dat'\n",
    "\n",
    "rating_file_path = Path.joinpath(Path.cwd(),'data','ml-1m','ratings.dat')\n",
    "\n",
    "ratings_cols = ['user_id', 'movie_id', 'rating', 'timestamp']\n",
    "ratings = pd.read_csv(rating_file_path, sep='::', names=ratings_cols, engine='python', encoding = \"ISO-8859-1\")\n",
    "orginal_data_size = len(ratings)\n",
    "ratings.head()"
   ]
  },
  {
   "cell_type": "code",
   "execution_count": 2,
   "id": "07464730",
   "metadata": {},
   "outputs": [
    {
     "name": "stdout",
     "output_type": "stream",
     "text": [
      "orginal_data_size: 1000209, filtered_data_size: 836478\n",
      "Ratio of Remaining Data is 83.63%\n"
     ]
    }
   ],
   "source": [
    "# 3점 이상만 남깁니다.\n",
    "ratings_over3 = ratings[ratings['rating']>=3]\n",
    "filtered_data_size = len(ratings_over3)\n",
    "\n",
    "print(f'orginal_data_size: {orginal_data_size}, filtered_data_size: {filtered_data_size}')\n",
    "print(f'Ratio of Remaining Data is {filtered_data_size / orginal_data_size:.2%}')"
   ]
  },
  {
   "cell_type": "code",
   "execution_count": 3,
   "id": "b6faaf64",
   "metadata": {},
   "outputs": [],
   "source": [
    "# ratings 컬럼의 이름을 counts로 바꿉니다.\n",
    "ratings.rename(columns={'rating':'counts'}, inplace=True)"
   ]
  },
  {
   "cell_type": "code",
   "execution_count": 4,
   "id": "aaf3143f",
   "metadata": {},
   "outputs": [],
   "source": [
    "ratings = ratings.dropna()"
   ]
  },
  {
   "cell_type": "code",
   "execution_count": 5,
   "id": "da6d3290",
   "metadata": {},
   "outputs": [
    {
     "data": {
      "text/plain": [
       "0          5\n",
       "1          3\n",
       "2          3\n",
       "3          4\n",
       "4          5\n",
       "          ..\n",
       "1000204    1\n",
       "1000205    5\n",
       "1000206    5\n",
       "1000207    4\n",
       "1000208    4\n",
       "Name: counts, Length: 1000209, dtype: int64"
      ]
     },
     "execution_count": 5,
     "metadata": {},
     "output_type": "execute_result"
    }
   ],
   "source": [
    "ratings['counts']"
   ]
  },
  {
   "cell_type": "code",
   "execution_count": 6,
   "id": "ebdb0e34",
   "metadata": {},
   "outputs": [
    {
     "data": {
      "text/html": [
       "<div>\n",
       "<style scoped>\n",
       "    .dataframe tbody tr th:only-of-type {\n",
       "        vertical-align: middle;\n",
       "    }\n",
       "\n",
       "    .dataframe tbody tr th {\n",
       "        vertical-align: top;\n",
       "    }\n",
       "\n",
       "    .dataframe thead th {\n",
       "        text-align: right;\n",
       "    }\n",
       "</style>\n",
       "<table border=\"1\" class=\"dataframe\">\n",
       "  <thead>\n",
       "    <tr style=\"text-align: right;\">\n",
       "      <th></th>\n",
       "      <th>movie_id</th>\n",
       "      <th>title</th>\n",
       "      <th>genre</th>\n",
       "    </tr>\n",
       "  </thead>\n",
       "  <tbody>\n",
       "    <tr>\n",
       "      <th>0</th>\n",
       "      <td>1</td>\n",
       "      <td>Toy Story (1995)</td>\n",
       "      <td>Animation|Children's|Comedy</td>\n",
       "    </tr>\n",
       "    <tr>\n",
       "      <th>1</th>\n",
       "      <td>2</td>\n",
       "      <td>Jumanji (1995)</td>\n",
       "      <td>Adventure|Children's|Fantasy</td>\n",
       "    </tr>\n",
       "    <tr>\n",
       "      <th>2</th>\n",
       "      <td>3</td>\n",
       "      <td>Grumpier Old Men (1995)</td>\n",
       "      <td>Comedy|Romance</td>\n",
       "    </tr>\n",
       "    <tr>\n",
       "      <th>3</th>\n",
       "      <td>4</td>\n",
       "      <td>Waiting to Exhale (1995)</td>\n",
       "      <td>Comedy|Drama</td>\n",
       "    </tr>\n",
       "    <tr>\n",
       "      <th>4</th>\n",
       "      <td>5</td>\n",
       "      <td>Father of the Bride Part II (1995)</td>\n",
       "      <td>Comedy</td>\n",
       "    </tr>\n",
       "  </tbody>\n",
       "</table>\n",
       "</div>"
      ],
      "text/plain": [
       "   movie_id                               title                         genre\n",
       "0         1                    Toy Story (1995)   Animation|Children's|Comedy\n",
       "1         2                      Jumanji (1995)  Adventure|Children's|Fantasy\n",
       "2         3             Grumpier Old Men (1995)                Comedy|Romance\n",
       "3         4            Waiting to Exhale (1995)                  Comedy|Drama\n",
       "4         5  Father of the Bride Part II (1995)                        Comedy"
      ]
     },
     "execution_count": 6,
     "metadata": {},
     "output_type": "execute_result"
    }
   ],
   "source": [
    "# 영화 제목을 보기 위해 메타 데이터를 읽어옵니다.\n",
    "# movie_file_path=os.getenv('HOME') + '/aiffel/recommendata_iu/data/ml-1m/movies.dat'\n",
    "movie_file_path = Path.joinpath(Path.cwd(),'data','ml-1m','movies.dat')\n",
    "\n",
    "cols = ['movie_id', 'title', 'genre'] \n",
    "movies = pd.read_csv(movie_file_path, sep='::', names=cols, engine='python', encoding='ISO-8859-1')\n",
    "movies.head()"
   ]
  },
  {
   "cell_type": "markdown",
   "id": "48e860ca",
   "metadata": {},
   "source": [
    "여기까지가 전처리입니다. 이후에는 이전 스텝에 소개했던 것과 동일한 방식으로 MF model을 구성하여 내가 좋아할 만한 영화를 추천해 볼 수 있습니다."
   ]
  },
  {
   "cell_type": "code",
   "execution_count": 7,
   "id": "e2cd904f",
   "metadata": {},
   "outputs": [
    {
     "data": {
      "text/html": [
       "<div>\n",
       "<style scoped>\n",
       "    .dataframe tbody tr th:only-of-type {\n",
       "        vertical-align: middle;\n",
       "    }\n",
       "\n",
       "    .dataframe tbody tr th {\n",
       "        vertical-align: top;\n",
       "    }\n",
       "\n",
       "    .dataframe thead th {\n",
       "        text-align: right;\n",
       "    }\n",
       "</style>\n",
       "<table border=\"1\" class=\"dataframe\">\n",
       "  <thead>\n",
       "    <tr style=\"text-align: right;\">\n",
       "      <th></th>\n",
       "      <th>movie_id</th>\n",
       "      <th>title</th>\n",
       "      <th>genre</th>\n",
       "    </tr>\n",
       "  </thead>\n",
       "  <tbody>\n",
       "    <tr>\n",
       "      <th>0</th>\n",
       "      <td>1</td>\n",
       "      <td>toy story (1995)</td>\n",
       "      <td>Animation|Children's|Comedy</td>\n",
       "    </tr>\n",
       "    <tr>\n",
       "      <th>1</th>\n",
       "      <td>2</td>\n",
       "      <td>jumanji (1995)</td>\n",
       "      <td>Adventure|Children's|Fantasy</td>\n",
       "    </tr>\n",
       "    <tr>\n",
       "      <th>2</th>\n",
       "      <td>3</td>\n",
       "      <td>grumpier old men (1995)</td>\n",
       "      <td>Comedy|Romance</td>\n",
       "    </tr>\n",
       "    <tr>\n",
       "      <th>3</th>\n",
       "      <td>4</td>\n",
       "      <td>waiting to exhale (1995)</td>\n",
       "      <td>Comedy|Drama</td>\n",
       "    </tr>\n",
       "    <tr>\n",
       "      <th>4</th>\n",
       "      <td>5</td>\n",
       "      <td>father of the bride part ii (1995)</td>\n",
       "      <td>Comedy</td>\n",
       "    </tr>\n",
       "  </tbody>\n",
       "</table>\n",
       "</div>"
      ],
      "text/plain": [
       "   movie_id                               title                         genre\n",
       "0         1                    toy story (1995)   Animation|Children's|Comedy\n",
       "1         2                      jumanji (1995)  Adventure|Children's|Fantasy\n",
       "2         3             grumpier old men (1995)                Comedy|Romance\n",
       "3         4            waiting to exhale (1995)                  Comedy|Drama\n",
       "4         5  father of the bride part ii (1995)                        Comedy"
      ]
     },
     "execution_count": 7,
     "metadata": {},
     "output_type": "execute_result"
    }
   ],
   "source": [
    "movies['title'] = movies['title'].str.lower() # 검색을 쉽게 하기 위해 영화제목 문자열을 소문자로 바꿔줍시다.\n",
    "movies.head()"
   ]
  },
  {
   "cell_type": "markdown",
   "id": "08703a98",
   "metadata": {},
   "source": [
    "#### 2) 분석해 봅시다.  "
   ]
  },
  {
   "cell_type": "markdown",
   "id": "1d8c3ff6",
   "metadata": {},
   "source": [
    "ratings에 있는 유니크한 영화 개수"
   ]
  },
  {
   "cell_type": "code",
   "execution_count": 8,
   "id": "c8b46d74",
   "metadata": {},
   "outputs": [
    {
     "data": {
      "text/plain": [
       "3706"
      ]
     },
     "execution_count": 8,
     "metadata": {},
     "output_type": "execute_result"
    }
   ],
   "source": [
    "ratings['movie_id'].nunique()"
   ]
  },
  {
   "cell_type": "code",
   "execution_count": 9,
   "id": "051c5075",
   "metadata": {},
   "outputs": [
    {
     "data": {
      "text/plain": [
       "0          1193\n",
       "1           661\n",
       "2           914\n",
       "3          3408\n",
       "4          2355\n",
       "           ... \n",
       "1000204    1091\n",
       "1000205    1094\n",
       "1000206     562\n",
       "1000207    1096\n",
       "1000208    1097\n",
       "Name: movie_id, Length: 1000209, dtype: int64"
      ]
     },
     "execution_count": 9,
     "metadata": {},
     "output_type": "execute_result"
    }
   ],
   "source": [
    "ratings['movie_id']"
   ]
  },
  {
   "cell_type": "markdown",
   "id": "9e3d5ca6",
   "metadata": {},
   "source": [
    "ratings에 있는 유니크한 사용자 수"
   ]
  },
  {
   "cell_type": "code",
   "execution_count": 10,
   "id": "d863afa8",
   "metadata": {},
   "outputs": [
    {
     "data": {
      "text/plain": [
       "6040"
      ]
     },
     "execution_count": 10,
     "metadata": {},
     "output_type": "execute_result"
    }
   ],
   "source": [
    "ratings['user_id'].nunique()"
   ]
  },
  {
   "cell_type": "code",
   "execution_count": 11,
   "id": "80cee422",
   "metadata": {},
   "outputs": [
    {
     "data": {
      "text/plain": [
       "Index(['user_id', 'movie_id', 'counts', 'timestamp'], dtype='object')"
      ]
     },
     "execution_count": 11,
     "metadata": {},
     "output_type": "execute_result"
    }
   ],
   "source": [
    "ratings.columns"
   ]
  },
  {
   "cell_type": "code",
   "execution_count": 14,
   "id": "bedb4624",
   "metadata": {},
   "outputs": [],
   "source": [
    "movies = movies.drop_duplicates(subset=None, keep='first', inplace=False, ignore_index=False)"
   ]
  },
  {
   "cell_type": "code",
   "execution_count": 15,
   "id": "3bc926b4",
   "metadata": {},
   "outputs": [
    {
     "data": {
      "text/plain": [
       "0          1\n",
       "1          2\n",
       "2          3\n",
       "3          4\n",
       "4          5\n",
       "        ... \n",
       "3878    3948\n",
       "3879    3949\n",
       "3880    3950\n",
       "3881    3951\n",
       "3882    3952\n",
       "Name: movie_id, Length: 3883, dtype: int64"
      ]
     },
     "execution_count": 15,
     "metadata": {},
     "output_type": "execute_result"
    }
   ],
   "source": [
    "movies['movie_id']"
   ]
  },
  {
   "cell_type": "code",
   "execution_count": 16,
   "id": "8d4c7e12",
   "metadata": {},
   "outputs": [
    {
     "data": {
      "text/html": [
       "<div>\n",
       "<style scoped>\n",
       "    .dataframe tbody tr th:only-of-type {\n",
       "        vertical-align: middle;\n",
       "    }\n",
       "\n",
       "    .dataframe tbody tr th {\n",
       "        vertical-align: top;\n",
       "    }\n",
       "\n",
       "    .dataframe thead th {\n",
       "        text-align: right;\n",
       "    }\n",
       "</style>\n",
       "<table border=\"1\" class=\"dataframe\">\n",
       "  <thead>\n",
       "    <tr style=\"text-align: right;\">\n",
       "      <th></th>\n",
       "      <th>user_id</th>\n",
       "      <th>movie_id</th>\n",
       "      <th>counts</th>\n",
       "      <th>timestamp</th>\n",
       "    </tr>\n",
       "  </thead>\n",
       "  <tbody>\n",
       "    <tr>\n",
       "      <th>427702</th>\n",
       "      <td>2599</td>\n",
       "      <td>1</td>\n",
       "      <td>4</td>\n",
       "      <td>973796689</td>\n",
       "    </tr>\n",
       "    <tr>\n",
       "      <th>1966</th>\n",
       "      <td>18</td>\n",
       "      <td>1</td>\n",
       "      <td>4</td>\n",
       "      <td>978154768</td>\n",
       "    </tr>\n",
       "    <tr>\n",
       "      <th>683688</th>\n",
       "      <td>4089</td>\n",
       "      <td>1</td>\n",
       "      <td>5</td>\n",
       "      <td>965428947</td>\n",
       "    </tr>\n",
       "    <tr>\n",
       "      <th>596207</th>\n",
       "      <td>3626</td>\n",
       "      <td>1</td>\n",
       "      <td>4</td>\n",
       "      <td>966594018</td>\n",
       "    </tr>\n",
       "    <tr>\n",
       "      <th>465902</th>\n",
       "      <td>2873</td>\n",
       "      <td>1</td>\n",
       "      <td>5</td>\n",
       "      <td>972784317</td>\n",
       "    </tr>\n",
       "    <tr>\n",
       "      <th>...</th>\n",
       "      <td>...</td>\n",
       "      <td>...</td>\n",
       "      <td>...</td>\n",
       "      <td>...</td>\n",
       "    </tr>\n",
       "    <tr>\n",
       "      <th>84701</th>\n",
       "      <td>551</td>\n",
       "      <td>3952</td>\n",
       "      <td>4</td>\n",
       "      <td>976067330</td>\n",
       "    </tr>\n",
       "    <tr>\n",
       "      <th>253845</th>\n",
       "      <td>1544</td>\n",
       "      <td>3952</td>\n",
       "      <td>4</td>\n",
       "      <td>974742620</td>\n",
       "    </tr>\n",
       "    <tr>\n",
       "      <th>180689</th>\n",
       "      <td>1130</td>\n",
       "      <td>3952</td>\n",
       "      <td>3</td>\n",
       "      <td>975593522</td>\n",
       "    </tr>\n",
       "    <tr>\n",
       "      <th>35180</th>\n",
       "      <td>238</td>\n",
       "      <td>3952</td>\n",
       "      <td>4</td>\n",
       "      <td>976760112</td>\n",
       "    </tr>\n",
       "    <tr>\n",
       "      <th>372755</th>\n",
       "      <td>2177</td>\n",
       "      <td>3952</td>\n",
       "      <td>5</td>\n",
       "      <td>974609645</td>\n",
       "    </tr>\n",
       "  </tbody>\n",
       "</table>\n",
       "<p>1000209 rows × 4 columns</p>\n",
       "</div>"
      ],
      "text/plain": [
       "        user_id  movie_id  counts  timestamp\n",
       "427702     2599         1       4  973796689\n",
       "1966         18         1       4  978154768\n",
       "683688     4089         1       5  965428947\n",
       "596207     3626         1       4  966594018\n",
       "465902     2873         1       5  972784317\n",
       "...         ...       ...     ...        ...\n",
       "84701       551      3952       4  976067330\n",
       "253845     1544      3952       4  974742620\n",
       "180689     1130      3952       3  975593522\n",
       "35180       238      3952       4  976760112\n",
       "372755     2177      3952       5  974609645\n",
       "\n",
       "[1000209 rows x 4 columns]"
      ]
     },
     "execution_count": 16,
     "metadata": {},
     "output_type": "execute_result"
    }
   ],
   "source": [
    "ratings.sort_values('movie_id')"
   ]
  },
  {
   "cell_type": "markdown",
   "id": "1e29d3fd",
   "metadata": {},
   "source": [
    "가장 인기 있는 영화 30개(인기순)"
   ]
  },
  {
   "cell_type": "code",
   "execution_count": 17,
   "id": "7fb28580",
   "metadata": {},
   "outputs": [
    {
     "data": {
      "text/plain": [
       "movie_id\n",
       "2858    3428\n",
       "260     2991\n",
       "1196    2990\n",
       "1210    2883\n",
       "480     2672\n",
       "2028    2653\n",
       "589     2649\n",
       "2571    2590\n",
       "1270    2583\n",
       "593     2578\n",
       "1580    2538\n",
       "1198    2514\n",
       "608     2513\n",
       "2762    2459\n",
       "110     2443\n",
       "2396    2369\n",
       "1197    2318\n",
       "527     2304\n",
       "1617    2288\n",
       "1265    2278\n",
       "1097    2269\n",
       "2628    2250\n",
       "2997    2241\n",
       "318     2227\n",
       "858     2223\n",
       "356     2194\n",
       "2716    2181\n",
       "296     2171\n",
       "1240    2098\n",
       "1       2077\n",
       "Name: user_id, dtype: int64"
      ]
     },
     "execution_count": 17,
     "metadata": {},
     "output_type": "execute_result"
    }
   ],
   "source": [
    "movies_count = ratings.groupby('movie_id')['user_id'].count()\n",
    "movies_count.sort_values(ascending=False).head(30)"
   ]
  },
  {
   "cell_type": "markdown",
   "id": "5a8b136c",
   "metadata": {},
   "source": [
    "#### 3) 내가 선호하는 영화를 5가지 골라서 ratings에 추가해 줍시다."
   ]
  },
  {
   "cell_type": "code",
   "execution_count": 18,
   "id": "74ff759e",
   "metadata": {},
   "outputs": [],
   "source": [
    "movie_title_to_id =  dict(zip(movies['title'], movies['movie_id']))"
   ]
  },
  {
   "cell_type": "code",
   "execution_count": 19,
   "id": "5a077787",
   "metadata": {},
   "outputs": [
    {
     "data": {
      "text/plain": [
       "1"
      ]
     },
     "execution_count": 19,
     "metadata": {},
     "output_type": "execute_result"
    }
   ],
   "source": [
    "movie_title_to_id['toy story (1995)']"
   ]
  },
  {
   "cell_type": "code",
   "execution_count": 21,
   "id": "ad0148f0",
   "metadata": {},
   "outputs": [
    {
     "data": {
      "text/html": [
       "<div>\n",
       "<style scoped>\n",
       "    .dataframe tbody tr th:only-of-type {\n",
       "        vertical-align: middle;\n",
       "    }\n",
       "\n",
       "    .dataframe tbody tr th {\n",
       "        vertical-align: top;\n",
       "    }\n",
       "\n",
       "    .dataframe thead th {\n",
       "        text-align: right;\n",
       "    }\n",
       "</style>\n",
       "<table border=\"1\" class=\"dataframe\">\n",
       "  <thead>\n",
       "    <tr style=\"text-align: right;\">\n",
       "      <th></th>\n",
       "      <th>user_id</th>\n",
       "      <th>movie_id</th>\n",
       "      <th>counts</th>\n",
       "      <th>timestamp</th>\n",
       "    </tr>\n",
       "  </thead>\n",
       "  <tbody>\n",
       "    <tr>\n",
       "      <th>1000194</th>\n",
       "      <td>6040</td>\n",
       "      <td>1077</td>\n",
       "      <td>5</td>\n",
       "      <td>964828799.0</td>\n",
       "    </tr>\n",
       "    <tr>\n",
       "      <th>1000195</th>\n",
       "      <td>6040</td>\n",
       "      <td>1079</td>\n",
       "      <td>2</td>\n",
       "      <td>956715648.0</td>\n",
       "    </tr>\n",
       "    <tr>\n",
       "      <th>1000196</th>\n",
       "      <td>6040</td>\n",
       "      <td>549</td>\n",
       "      <td>4</td>\n",
       "      <td>956704746.0</td>\n",
       "    </tr>\n",
       "    <tr>\n",
       "      <th>1000197</th>\n",
       "      <td>6040</td>\n",
       "      <td>2020</td>\n",
       "      <td>3</td>\n",
       "      <td>956715288.0</td>\n",
       "    </tr>\n",
       "    <tr>\n",
       "      <th>1000198</th>\n",
       "      <td>6040</td>\n",
       "      <td>2021</td>\n",
       "      <td>3</td>\n",
       "      <td>956716374.0</td>\n",
       "    </tr>\n",
       "    <tr>\n",
       "      <th>1000199</th>\n",
       "      <td>6040</td>\n",
       "      <td>2022</td>\n",
       "      <td>5</td>\n",
       "      <td>956716207.0</td>\n",
       "    </tr>\n",
       "    <tr>\n",
       "      <th>1000200</th>\n",
       "      <td>6040</td>\n",
       "      <td>2028</td>\n",
       "      <td>5</td>\n",
       "      <td>956704519.0</td>\n",
       "    </tr>\n",
       "    <tr>\n",
       "      <th>1000201</th>\n",
       "      <td>6040</td>\n",
       "      <td>1080</td>\n",
       "      <td>4</td>\n",
       "      <td>957717322.0</td>\n",
       "    </tr>\n",
       "    <tr>\n",
       "      <th>1000202</th>\n",
       "      <td>6040</td>\n",
       "      <td>1089</td>\n",
       "      <td>4</td>\n",
       "      <td>956704996.0</td>\n",
       "    </tr>\n",
       "    <tr>\n",
       "      <th>1000203</th>\n",
       "      <td>6040</td>\n",
       "      <td>1090</td>\n",
       "      <td>3</td>\n",
       "      <td>956715518.0</td>\n",
       "    </tr>\n",
       "    <tr>\n",
       "      <th>1000204</th>\n",
       "      <td>6040</td>\n",
       "      <td>1091</td>\n",
       "      <td>1</td>\n",
       "      <td>956716541.0</td>\n",
       "    </tr>\n",
       "    <tr>\n",
       "      <th>1000205</th>\n",
       "      <td>6040</td>\n",
       "      <td>1094</td>\n",
       "      <td>5</td>\n",
       "      <td>956704887.0</td>\n",
       "    </tr>\n",
       "    <tr>\n",
       "      <th>1000206</th>\n",
       "      <td>6040</td>\n",
       "      <td>562</td>\n",
       "      <td>5</td>\n",
       "      <td>956704746.0</td>\n",
       "    </tr>\n",
       "    <tr>\n",
       "      <th>1000207</th>\n",
       "      <td>6040</td>\n",
       "      <td>1096</td>\n",
       "      <td>4</td>\n",
       "      <td>956715648.0</td>\n",
       "    </tr>\n",
       "    <tr>\n",
       "      <th>1000208</th>\n",
       "      <td>6040</td>\n",
       "      <td>1097</td>\n",
       "      <td>4</td>\n",
       "      <td>956715569.0</td>\n",
       "    </tr>\n",
       "    <tr>\n",
       "      <th>0</th>\n",
       "      <td>zimin</td>\n",
       "      <td>915</td>\n",
       "      <td>4</td>\n",
       "      <td>NaN</td>\n",
       "    </tr>\n",
       "    <tr>\n",
       "      <th>1</th>\n",
       "      <td>zimin</td>\n",
       "      <td>4</td>\n",
       "      <td>4</td>\n",
       "      <td>NaN</td>\n",
       "    </tr>\n",
       "    <tr>\n",
       "      <th>2</th>\n",
       "      <td>zimin</td>\n",
       "      <td>15</td>\n",
       "      <td>4</td>\n",
       "      <td>NaN</td>\n",
       "    </tr>\n",
       "    <tr>\n",
       "      <th>3</th>\n",
       "      <td>zimin</td>\n",
       "      <td>2</td>\n",
       "      <td>4</td>\n",
       "      <td>NaN</td>\n",
       "    </tr>\n",
       "    <tr>\n",
       "      <th>4</th>\n",
       "      <td>zimin</td>\n",
       "      <td>1</td>\n",
       "      <td>4</td>\n",
       "      <td>NaN</td>\n",
       "    </tr>\n",
       "  </tbody>\n",
       "</table>\n",
       "</div>"
      ],
      "text/plain": [
       "        user_id  movie_id  counts    timestamp\n",
       "1000194    6040      1077       5  964828799.0\n",
       "1000195    6040      1079       2  956715648.0\n",
       "1000196    6040       549       4  956704746.0\n",
       "1000197    6040      2020       3  956715288.0\n",
       "1000198    6040      2021       3  956716374.0\n",
       "1000199    6040      2022       5  956716207.0\n",
       "1000200    6040      2028       5  956704519.0\n",
       "1000201    6040      1080       4  957717322.0\n",
       "1000202    6040      1089       4  956704996.0\n",
       "1000203    6040      1090       3  956715518.0\n",
       "1000204    6040      1091       1  956716541.0\n",
       "1000205    6040      1094       5  956704887.0\n",
       "1000206    6040       562       5  956704746.0\n",
       "1000207    6040      1096       4  956715648.0\n",
       "1000208    6040      1097       4  956715569.0\n",
       "0         zimin       915       4          NaN\n",
       "1         zimin         4       4          NaN\n",
       "2         zimin        15       4          NaN\n",
       "3         zimin         2       4          NaN\n",
       "4         zimin         1       4          NaN"
      ]
     },
     "execution_count": 21,
     "metadata": {},
     "output_type": "execute_result"
    }
   ],
   "source": [
    "my_favorite  = ['Sabrina (1954)' , 'Waiting to Exhale (1995)' ,'cutthroat island (1995)' ,'Jumanji (1995)' ,'Toy Story (1995)']\n",
    "my_favorite  = pd.Series(my_favorite)\n",
    "my_favorite  = my_favorite.str.lower()\n",
    "my_favorite  = list(map(lambda my_favorite: movie_title_to_id[my_favorite], my_favorite))\n",
    "my_favorite\n",
    "\n",
    "my_playlist  = pd.DataFrame({'user_id': ['zimin']*5, 'movie_id': my_favorite, 'counts':[4]*5})\n",
    "\n",
    "if not ratings.isin({'user_id':['zimin']})['user_id'].any():  # user_id에 'zimin'이라는 데이터가 없다면\n",
    "    ratings  = ratings.append(my_playlist)         # 위에 임의로 만든 my_favorite 데이터를 추가해 줍니다. \n",
    "    \n",
    "#     ratings = pd.concat(ratings, my_playlist)\n",
    "    \n",
    "ratings.tail(20)       # 잘 추가되었는지 확인해 봅시다.\n"
   ]
  },
  {
   "cell_type": "code",
   "execution_count": 22,
   "id": "e0042292",
   "metadata": {},
   "outputs": [
    {
     "data": {
      "text/plain": [
       "array([1, 2, 3, ..., 6039, 6040, 'zimin'], dtype=object)"
      ]
     },
     "execution_count": 22,
     "metadata": {},
     "output_type": "execute_result"
    }
   ],
   "source": [
    "user_unique = ratings['user_id'].unique()\n",
    "user_unique"
   ]
  },
  {
   "cell_type": "code",
   "execution_count": 23,
   "id": "151c9e48",
   "metadata": {},
   "outputs": [],
   "source": [
    "# 고유한 유저, movie_id를 찾아내는 코드\n",
    "user_unique = ratings['user_id'].unique()\n",
    "movie_id_unique = ratings['movie_id'].unique()\n",
    "\n",
    "# 유저, movie_id indexing 하는 코드 idx는 index의 약자입니다.\n",
    "user_to_idx        = {v:k for k,v in enumerate(user_unique)}\n",
    "movie_id_to_idx    = {v:k for k,v in enumerate(movie_id_unique)}"
   ]
  },
  {
   "cell_type": "code",
   "execution_count": 24,
   "id": "c58fae18",
   "metadata": {},
   "outputs": [
    {
     "data": {
      "text/plain": [
       "array([1193,  661,  914, ..., 2845, 3607, 2909])"
      ]
     },
     "execution_count": 24,
     "metadata": {},
     "output_type": "execute_result"
    }
   ],
   "source": [
    "movie_id_unique"
   ]
  },
  {
   "cell_type": "code",
   "execution_count": 26,
   "id": "7751bb1e",
   "metadata": {},
   "outputs": [
    {
     "data": {
      "text/plain": [
       "0"
      ]
     },
     "execution_count": 26,
     "metadata": {},
     "output_type": "execute_result"
    }
   ],
   "source": [
    "user_to_idx[1]"
   ]
  },
  {
   "cell_type": "code",
   "execution_count": 27,
   "id": "e9a4b74b",
   "metadata": {},
   "outputs": [
    {
     "name": "stdout",
     "output_type": "stream",
     "text": [
      "6040\n",
      "915\n",
      "645\n"
     ]
    }
   ],
   "source": [
    "# 인덱싱이 잘 되었는지 확인해 봅니다. \n",
    "print(user_to_idx['zimin'])    # 6040명의 유저 중 마지막으로 추가된 유저이니 6040이 나와야 합니다. \n",
    "# print(movie_id_to_idx[1])\n",
    "print(movie_title_to_id['sabrina (1954)'])\n",
    "print(movie_id_to_idx[movie_title_to_id['sabrina (1954)']])"
   ]
  },
  {
   "cell_type": "code",
   "execution_count": 28,
   "id": "5dcb88d5",
   "metadata": {},
   "outputs": [
    {
     "data": {
      "text/html": [
       "<div>\n",
       "<style scoped>\n",
       "    .dataframe tbody tr th:only-of-type {\n",
       "        vertical-align: middle;\n",
       "    }\n",
       "\n",
       "    .dataframe tbody tr th {\n",
       "        vertical-align: top;\n",
       "    }\n",
       "\n",
       "    .dataframe thead th {\n",
       "        text-align: right;\n",
       "    }\n",
       "</style>\n",
       "<table border=\"1\" class=\"dataframe\">\n",
       "  <thead>\n",
       "    <tr style=\"text-align: right;\">\n",
       "      <th></th>\n",
       "      <th>user_id</th>\n",
       "      <th>movie_id</th>\n",
       "      <th>counts</th>\n",
       "      <th>timestamp</th>\n",
       "    </tr>\n",
       "  </thead>\n",
       "  <tbody>\n",
       "    <tr>\n",
       "      <th>1000204</th>\n",
       "      <td>6040</td>\n",
       "      <td>1091</td>\n",
       "      <td>1</td>\n",
       "      <td>956716541.0</td>\n",
       "    </tr>\n",
       "    <tr>\n",
       "      <th>1000205</th>\n",
       "      <td>6040</td>\n",
       "      <td>1094</td>\n",
       "      <td>5</td>\n",
       "      <td>956704887.0</td>\n",
       "    </tr>\n",
       "    <tr>\n",
       "      <th>1000206</th>\n",
       "      <td>6040</td>\n",
       "      <td>562</td>\n",
       "      <td>5</td>\n",
       "      <td>956704746.0</td>\n",
       "    </tr>\n",
       "    <tr>\n",
       "      <th>1000207</th>\n",
       "      <td>6040</td>\n",
       "      <td>1096</td>\n",
       "      <td>4</td>\n",
       "      <td>956715648.0</td>\n",
       "    </tr>\n",
       "    <tr>\n",
       "      <th>1000208</th>\n",
       "      <td>6040</td>\n",
       "      <td>1097</td>\n",
       "      <td>4</td>\n",
       "      <td>956715569.0</td>\n",
       "    </tr>\n",
       "    <tr>\n",
       "      <th>0</th>\n",
       "      <td>zimin</td>\n",
       "      <td>915</td>\n",
       "      <td>4</td>\n",
       "      <td>NaN</td>\n",
       "    </tr>\n",
       "    <tr>\n",
       "      <th>1</th>\n",
       "      <td>zimin</td>\n",
       "      <td>4</td>\n",
       "      <td>4</td>\n",
       "      <td>NaN</td>\n",
       "    </tr>\n",
       "    <tr>\n",
       "      <th>2</th>\n",
       "      <td>zimin</td>\n",
       "      <td>15</td>\n",
       "      <td>4</td>\n",
       "      <td>NaN</td>\n",
       "    </tr>\n",
       "    <tr>\n",
       "      <th>3</th>\n",
       "      <td>zimin</td>\n",
       "      <td>2</td>\n",
       "      <td>4</td>\n",
       "      <td>NaN</td>\n",
       "    </tr>\n",
       "    <tr>\n",
       "      <th>4</th>\n",
       "      <td>zimin</td>\n",
       "      <td>1</td>\n",
       "      <td>4</td>\n",
       "      <td>NaN</td>\n",
       "    </tr>\n",
       "  </tbody>\n",
       "</table>\n",
       "</div>"
      ],
      "text/plain": [
       "        user_id  movie_id  counts    timestamp\n",
       "1000204    6040      1091       1  956716541.0\n",
       "1000205    6040      1094       5  956704887.0\n",
       "1000206    6040       562       5  956704746.0\n",
       "1000207    6040      1096       4  956715648.0\n",
       "1000208    6040      1097       4  956715569.0\n",
       "0         zimin       915       4          NaN\n",
       "1         zimin         4       4          NaN\n",
       "2         zimin        15       4          NaN\n",
       "3         zimin         2       4          NaN\n",
       "4         zimin         1       4          NaN"
      ]
     },
     "execution_count": 28,
     "metadata": {},
     "output_type": "execute_result"
    }
   ],
   "source": [
    "ratings.tail(10)"
   ]
  },
  {
   "cell_type": "code",
   "execution_count": 29,
   "id": "3e7c22e4",
   "metadata": {
    "scrolled": true
   },
   "outputs": [
    {
     "name": "stdout",
     "output_type": "stream",
     "text": [
      "user_id column indexing OK!!\n",
      "movie_id column indexing OK!!\n"
     ]
    },
    {
     "data": {
      "text/html": [
       "<div>\n",
       "<style scoped>\n",
       "    .dataframe tbody tr th:only-of-type {\n",
       "        vertical-align: middle;\n",
       "    }\n",
       "\n",
       "    .dataframe tbody tr th {\n",
       "        vertical-align: top;\n",
       "    }\n",
       "\n",
       "    .dataframe thead th {\n",
       "        text-align: right;\n",
       "    }\n",
       "</style>\n",
       "<table border=\"1\" class=\"dataframe\">\n",
       "  <thead>\n",
       "    <tr style=\"text-align: right;\">\n",
       "      <th></th>\n",
       "      <th>user_id</th>\n",
       "      <th>movie_id</th>\n",
       "      <th>counts</th>\n",
       "      <th>timestamp</th>\n",
       "    </tr>\n",
       "  </thead>\n",
       "  <tbody>\n",
       "    <tr>\n",
       "      <th>0</th>\n",
       "      <td>0</td>\n",
       "      <td>0</td>\n",
       "      <td>5</td>\n",
       "      <td>978300760.0</td>\n",
       "    </tr>\n",
       "    <tr>\n",
       "      <th>1</th>\n",
       "      <td>0</td>\n",
       "      <td>1</td>\n",
       "      <td>3</td>\n",
       "      <td>978302109.0</td>\n",
       "    </tr>\n",
       "    <tr>\n",
       "      <th>2</th>\n",
       "      <td>0</td>\n",
       "      <td>2</td>\n",
       "      <td>3</td>\n",
       "      <td>978301968.0</td>\n",
       "    </tr>\n",
       "    <tr>\n",
       "      <th>3</th>\n",
       "      <td>0</td>\n",
       "      <td>3</td>\n",
       "      <td>4</td>\n",
       "      <td>978300275.0</td>\n",
       "    </tr>\n",
       "    <tr>\n",
       "      <th>4</th>\n",
       "      <td>0</td>\n",
       "      <td>4</td>\n",
       "      <td>5</td>\n",
       "      <td>978824291.0</td>\n",
       "    </tr>\n",
       "    <tr>\n",
       "      <th>...</th>\n",
       "      <td>...</td>\n",
       "      <td>...</td>\n",
       "      <td>...</td>\n",
       "      <td>...</td>\n",
       "    </tr>\n",
       "    <tr>\n",
       "      <th>0</th>\n",
       "      <td>6040</td>\n",
       "      <td>645</td>\n",
       "      <td>4</td>\n",
       "      <td>NaN</td>\n",
       "    </tr>\n",
       "    <tr>\n",
       "      <th>1</th>\n",
       "      <td>6040</td>\n",
       "      <td>450</td>\n",
       "      <td>4</td>\n",
       "      <td>NaN</td>\n",
       "    </tr>\n",
       "    <tr>\n",
       "      <th>2</th>\n",
       "      <td>6040</td>\n",
       "      <td>1850</td>\n",
       "      <td>4</td>\n",
       "      <td>NaN</td>\n",
       "    </tr>\n",
       "    <tr>\n",
       "      <th>3</th>\n",
       "      <td>6040</td>\n",
       "      <td>573</td>\n",
       "      <td>4</td>\n",
       "      <td>NaN</td>\n",
       "    </tr>\n",
       "    <tr>\n",
       "      <th>4</th>\n",
       "      <td>6040</td>\n",
       "      <td>40</td>\n",
       "      <td>4</td>\n",
       "      <td>NaN</td>\n",
       "    </tr>\n",
       "  </tbody>\n",
       "</table>\n",
       "<p>1000214 rows × 4 columns</p>\n",
       "</div>"
      ],
      "text/plain": [
       "    user_id  movie_id  counts    timestamp\n",
       "0         0         0       5  978300760.0\n",
       "1         0         1       3  978302109.0\n",
       "2         0         2       3  978301968.0\n",
       "3         0         3       4  978300275.0\n",
       "4         0         4       5  978824291.0\n",
       "..      ...       ...     ...          ...\n",
       "0      6040       645       4          NaN\n",
       "1      6040       450       4          NaN\n",
       "2      6040      1850       4          NaN\n",
       "3      6040       573       4          NaN\n",
       "4      6040        40       4          NaN\n",
       "\n",
       "[1000214 rows x 4 columns]"
      ]
     },
     "execution_count": 29,
     "metadata": {},
     "output_type": "execute_result"
    }
   ],
   "source": [
    "# indexing을 통해 데이터 컬럼 내 값을 바꾸는 코드\n",
    "# dictionary 자료형의 get 함수는 https://wikidocs.net/16 을 참고하세요.\n",
    "\n",
    "# user_to_idx.get을 통해 user_id 컬럼의 모든 값을 인덱싱한 Series를 구해 봅시다. \n",
    "# 혹시 정상적으로 인덱싱되지 않은 row가 있다면 인덱스가 NaN이 될 테니 dropna()로 제거합니다. \n",
    "temp_user_data = ratings['user_id'].map(user_to_idx.get).dropna()\n",
    "if len(temp_user_data) == len(ratings):   # 모든 row가 정상적으로 인덱싱되었다면\n",
    "    print('user_id column indexing OK!!')\n",
    "    ratings['user_id'] = temp_user_data   # data['user_id']을 인덱싱된 Series로 교체해 줍니다. \n",
    "else:\n",
    "    print('user_id column indexing Fail!!')\n",
    "\n",
    "# movie_id_to_idx 통해 movie_id 컬럼도 동일한 방식으로 인덱싱해 줍니다. \n",
    "temp_movie_id_data = ratings['movie_id'].map(movie_id_to_idx.get).dropna()\n",
    "if len(temp_movie_id_data) == len(ratings):\n",
    "    print('movie_id column indexing OK!!')\n",
    "    ratings['movie_id'] = temp_movie_id_data\n",
    "else:\n",
    "    print('movie_id column indexing Fail!!')\n",
    "    \n",
    "ratings.reset_index()    \n",
    "\n",
    "ratings"
   ]
  },
  {
   "cell_type": "markdown",
   "id": "06610e6b",
   "metadata": {},
   "source": [
    "#### 4) CSR matrix를 직접 만들어 봅시다."
   ]
  },
  {
   "cell_type": "code",
   "execution_count": 30,
   "id": "3a3269be",
   "metadata": {},
   "outputs": [],
   "source": [
    "# 실습 위에 설명보고 이해해서 만들어보기\n",
    "from scipy.sparse import csr_matrix"
   ]
  },
  {
   "cell_type": "code",
   "execution_count": 31,
   "id": "6d63cfd0",
   "metadata": {},
   "outputs": [],
   "source": [
    "num_user  = ratings['user_id'].nunique()\n",
    "num_movie = ratings['movie_id'].nunique()"
   ]
  },
  {
   "cell_type": "code",
   "execution_count": 32,
   "id": "e3bf98c1",
   "metadata": {},
   "outputs": [],
   "source": [
    "ratings = ratings.reset_index()"
   ]
  },
  {
   "cell_type": "code",
   "execution_count": 33,
   "id": "54061258",
   "metadata": {},
   "outputs": [
    {
     "data": {
      "text/html": [
       "<div>\n",
       "<style scoped>\n",
       "    .dataframe tbody tr th:only-of-type {\n",
       "        vertical-align: middle;\n",
       "    }\n",
       "\n",
       "    .dataframe tbody tr th {\n",
       "        vertical-align: top;\n",
       "    }\n",
       "\n",
       "    .dataframe thead th {\n",
       "        text-align: right;\n",
       "    }\n",
       "</style>\n",
       "<table border=\"1\" class=\"dataframe\">\n",
       "  <thead>\n",
       "    <tr style=\"text-align: right;\">\n",
       "      <th></th>\n",
       "      <th>index</th>\n",
       "      <th>user_id</th>\n",
       "      <th>movie_id</th>\n",
       "      <th>counts</th>\n",
       "      <th>timestamp</th>\n",
       "    </tr>\n",
       "  </thead>\n",
       "  <tbody>\n",
       "    <tr>\n",
       "      <th>0</th>\n",
       "      <td>0</td>\n",
       "      <td>0</td>\n",
       "      <td>0</td>\n",
       "      <td>5</td>\n",
       "      <td>978300760.0</td>\n",
       "    </tr>\n",
       "    <tr>\n",
       "      <th>1</th>\n",
       "      <td>1</td>\n",
       "      <td>0</td>\n",
       "      <td>1</td>\n",
       "      <td>3</td>\n",
       "      <td>978302109.0</td>\n",
       "    </tr>\n",
       "    <tr>\n",
       "      <th>2</th>\n",
       "      <td>2</td>\n",
       "      <td>0</td>\n",
       "      <td>2</td>\n",
       "      <td>3</td>\n",
       "      <td>978301968.0</td>\n",
       "    </tr>\n",
       "    <tr>\n",
       "      <th>3</th>\n",
       "      <td>3</td>\n",
       "      <td>0</td>\n",
       "      <td>3</td>\n",
       "      <td>4</td>\n",
       "      <td>978300275.0</td>\n",
       "    </tr>\n",
       "    <tr>\n",
       "      <th>4</th>\n",
       "      <td>4</td>\n",
       "      <td>0</td>\n",
       "      <td>4</td>\n",
       "      <td>5</td>\n",
       "      <td>978824291.0</td>\n",
       "    </tr>\n",
       "    <tr>\n",
       "      <th>...</th>\n",
       "      <td>...</td>\n",
       "      <td>...</td>\n",
       "      <td>...</td>\n",
       "      <td>...</td>\n",
       "      <td>...</td>\n",
       "    </tr>\n",
       "    <tr>\n",
       "      <th>1000209</th>\n",
       "      <td>0</td>\n",
       "      <td>6040</td>\n",
       "      <td>645</td>\n",
       "      <td>4</td>\n",
       "      <td>NaN</td>\n",
       "    </tr>\n",
       "    <tr>\n",
       "      <th>1000210</th>\n",
       "      <td>1</td>\n",
       "      <td>6040</td>\n",
       "      <td>450</td>\n",
       "      <td>4</td>\n",
       "      <td>NaN</td>\n",
       "    </tr>\n",
       "    <tr>\n",
       "      <th>1000211</th>\n",
       "      <td>2</td>\n",
       "      <td>6040</td>\n",
       "      <td>1850</td>\n",
       "      <td>4</td>\n",
       "      <td>NaN</td>\n",
       "    </tr>\n",
       "    <tr>\n",
       "      <th>1000212</th>\n",
       "      <td>3</td>\n",
       "      <td>6040</td>\n",
       "      <td>573</td>\n",
       "      <td>4</td>\n",
       "      <td>NaN</td>\n",
       "    </tr>\n",
       "    <tr>\n",
       "      <th>1000213</th>\n",
       "      <td>4</td>\n",
       "      <td>6040</td>\n",
       "      <td>40</td>\n",
       "      <td>4</td>\n",
       "      <td>NaN</td>\n",
       "    </tr>\n",
       "  </tbody>\n",
       "</table>\n",
       "<p>1000214 rows × 5 columns</p>\n",
       "</div>"
      ],
      "text/plain": [
       "         index  user_id  movie_id  counts    timestamp\n",
       "0            0        0         0       5  978300760.0\n",
       "1            1        0         1       3  978302109.0\n",
       "2            2        0         2       3  978301968.0\n",
       "3            3        0         3       4  978300275.0\n",
       "4            4        0         4       5  978824291.0\n",
       "...        ...      ...       ...     ...          ...\n",
       "1000209      0     6040       645       4          NaN\n",
       "1000210      1     6040       450       4          NaN\n",
       "1000211      2     6040      1850       4          NaN\n",
       "1000212      3     6040       573       4          NaN\n",
       "1000213      4     6040        40       4          NaN\n",
       "\n",
       "[1000214 rows x 5 columns]"
      ]
     },
     "execution_count": 33,
     "metadata": {},
     "output_type": "execute_result"
    }
   ],
   "source": [
    "ratings"
   ]
  },
  {
   "cell_type": "code",
   "execution_count": 34,
   "id": "aba998c5",
   "metadata": {},
   "outputs": [],
   "source": [
    "del ratings['index']"
   ]
  },
  {
   "cell_type": "code",
   "execution_count": 35,
   "id": "b46c224a",
   "metadata": {},
   "outputs": [
    {
     "data": {
      "text/html": [
       "<div>\n",
       "<style scoped>\n",
       "    .dataframe tbody tr th:only-of-type {\n",
       "        vertical-align: middle;\n",
       "    }\n",
       "\n",
       "    .dataframe tbody tr th {\n",
       "        vertical-align: top;\n",
       "    }\n",
       "\n",
       "    .dataframe thead th {\n",
       "        text-align: right;\n",
       "    }\n",
       "</style>\n",
       "<table border=\"1\" class=\"dataframe\">\n",
       "  <thead>\n",
       "    <tr style=\"text-align: right;\">\n",
       "      <th></th>\n",
       "      <th>user_id</th>\n",
       "      <th>movie_id</th>\n",
       "      <th>counts</th>\n",
       "      <th>timestamp</th>\n",
       "    </tr>\n",
       "  </thead>\n",
       "  <tbody>\n",
       "    <tr>\n",
       "      <th>0</th>\n",
       "      <td>0</td>\n",
       "      <td>0</td>\n",
       "      <td>5</td>\n",
       "      <td>978300760.0</td>\n",
       "    </tr>\n",
       "    <tr>\n",
       "      <th>1</th>\n",
       "      <td>0</td>\n",
       "      <td>1</td>\n",
       "      <td>3</td>\n",
       "      <td>978302109.0</td>\n",
       "    </tr>\n",
       "    <tr>\n",
       "      <th>2</th>\n",
       "      <td>0</td>\n",
       "      <td>2</td>\n",
       "      <td>3</td>\n",
       "      <td>978301968.0</td>\n",
       "    </tr>\n",
       "    <tr>\n",
       "      <th>3</th>\n",
       "      <td>0</td>\n",
       "      <td>3</td>\n",
       "      <td>4</td>\n",
       "      <td>978300275.0</td>\n",
       "    </tr>\n",
       "    <tr>\n",
       "      <th>4</th>\n",
       "      <td>0</td>\n",
       "      <td>4</td>\n",
       "      <td>5</td>\n",
       "      <td>978824291.0</td>\n",
       "    </tr>\n",
       "    <tr>\n",
       "      <th>...</th>\n",
       "      <td>...</td>\n",
       "      <td>...</td>\n",
       "      <td>...</td>\n",
       "      <td>...</td>\n",
       "    </tr>\n",
       "    <tr>\n",
       "      <th>1000209</th>\n",
       "      <td>6040</td>\n",
       "      <td>645</td>\n",
       "      <td>4</td>\n",
       "      <td>NaN</td>\n",
       "    </tr>\n",
       "    <tr>\n",
       "      <th>1000210</th>\n",
       "      <td>6040</td>\n",
       "      <td>450</td>\n",
       "      <td>4</td>\n",
       "      <td>NaN</td>\n",
       "    </tr>\n",
       "    <tr>\n",
       "      <th>1000211</th>\n",
       "      <td>6040</td>\n",
       "      <td>1850</td>\n",
       "      <td>4</td>\n",
       "      <td>NaN</td>\n",
       "    </tr>\n",
       "    <tr>\n",
       "      <th>1000212</th>\n",
       "      <td>6040</td>\n",
       "      <td>573</td>\n",
       "      <td>4</td>\n",
       "      <td>NaN</td>\n",
       "    </tr>\n",
       "    <tr>\n",
       "      <th>1000213</th>\n",
       "      <td>6040</td>\n",
       "      <td>40</td>\n",
       "      <td>4</td>\n",
       "      <td>NaN</td>\n",
       "    </tr>\n",
       "  </tbody>\n",
       "</table>\n",
       "<p>1000214 rows × 4 columns</p>\n",
       "</div>"
      ],
      "text/plain": [
       "         user_id  movie_id  counts    timestamp\n",
       "0              0         0       5  978300760.0\n",
       "1              0         1       3  978302109.0\n",
       "2              0         2       3  978301968.0\n",
       "3              0         3       4  978300275.0\n",
       "4              0         4       5  978824291.0\n",
       "...          ...       ...     ...          ...\n",
       "1000209     6040       645       4          NaN\n",
       "1000210     6040       450       4          NaN\n",
       "1000211     6040      1850       4          NaN\n",
       "1000212     6040       573       4          NaN\n",
       "1000213     6040        40       4          NaN\n",
       "\n",
       "[1000214 rows x 4 columns]"
      ]
     },
     "execution_count": 35,
     "metadata": {},
     "output_type": "execute_result"
    }
   ],
   "source": [
    "ratings"
   ]
  },
  {
   "cell_type": "code",
   "execution_count": 36,
   "id": "0ba7f154",
   "metadata": {},
   "outputs": [
    {
     "data": {
      "text/plain": [
       "0             0\n",
       "1             0\n",
       "2             0\n",
       "3             0\n",
       "4             0\n",
       "           ... \n",
       "1000209    6040\n",
       "1000210    6040\n",
       "1000211    6040\n",
       "1000212    6040\n",
       "1000213    6040\n",
       "Name: user_id, Length: 1000214, dtype: int64"
      ]
     },
     "execution_count": 36,
     "metadata": {},
     "output_type": "execute_result"
    }
   ],
   "source": [
    "ratings.user_id"
   ]
  },
  {
   "cell_type": "code",
   "execution_count": 37,
   "id": "50ee205d",
   "metadata": {},
   "outputs": [
    {
     "data": {
      "text/plain": [
       "6041"
      ]
     },
     "execution_count": 37,
     "metadata": {},
     "output_type": "execute_result"
    }
   ],
   "source": [
    "num_user"
   ]
  },
  {
   "cell_type": "code",
   "execution_count": 38,
   "id": "4f8b0201",
   "metadata": {},
   "outputs": [
    {
     "data": {
      "text/plain": [
       "0             0\n",
       "1             1\n",
       "2             2\n",
       "3             3\n",
       "4             4\n",
       "           ... \n",
       "1000209     645\n",
       "1000210     450\n",
       "1000211    1850\n",
       "1000212     573\n",
       "1000213      40\n",
       "Name: movie_id, Length: 1000214, dtype: int64"
      ]
     },
     "execution_count": 38,
     "metadata": {},
     "output_type": "execute_result"
    }
   ],
   "source": [
    "ratings.movie_id"
   ]
  },
  {
   "cell_type": "code",
   "execution_count": 39,
   "id": "992ac061",
   "metadata": {},
   "outputs": [
    {
     "data": {
      "text/plain": [
       "3706"
      ]
     },
     "execution_count": 39,
     "metadata": {},
     "output_type": "execute_result"
    }
   ],
   "source": [
    "num_movie"
   ]
  },
  {
   "cell_type": "code",
   "execution_count": 40,
   "id": "af1e2109",
   "metadata": {},
   "outputs": [
    {
     "data": {
      "text/plain": [
       "3706"
      ]
     },
     "execution_count": 40,
     "metadata": {},
     "output_type": "execute_result"
    }
   ],
   "source": [
    "ratings['movie_id'].nunique()"
   ]
  },
  {
   "cell_type": "code",
   "execution_count": 41,
   "id": "ab5db64d",
   "metadata": {},
   "outputs": [
    {
     "data": {
      "text/plain": [
       "0             0\n",
       "1             0\n",
       "2             0\n",
       "3             0\n",
       "4             0\n",
       "           ... \n",
       "1000209    6040\n",
       "1000210    6040\n",
       "1000211    6040\n",
       "1000212    6040\n",
       "1000213    6040\n",
       "Name: user_id, Length: 1000214, dtype: int64"
      ]
     },
     "execution_count": 41,
     "metadata": {},
     "output_type": "execute_result"
    }
   ],
   "source": [
    "ratings.user_id"
   ]
  },
  {
   "cell_type": "code",
   "execution_count": 42,
   "id": "00322660",
   "metadata": {},
   "outputs": [
    {
     "data": {
      "text/plain": [
       "0          5\n",
       "1          3\n",
       "2          3\n",
       "3          4\n",
       "4          5\n",
       "          ..\n",
       "1000209    4\n",
       "1000210    4\n",
       "1000211    4\n",
       "1000212    4\n",
       "1000213    4\n",
       "Name: counts, Length: 1000214, dtype: int64"
      ]
     },
     "execution_count": 42,
     "metadata": {},
     "output_type": "execute_result"
    }
   ],
   "source": [
    "ratings.counts"
   ]
  },
  {
   "cell_type": "code",
   "execution_count": 43,
   "id": "c13b5153",
   "metadata": {},
   "outputs": [
    {
     "data": {
      "text/plain": [
       "<6041x3706 sparse matrix of type '<class 'numpy.int64'>'\n",
       "\twith 1000214 stored elements in Compressed Sparse Row format>"
      ]
     },
     "execution_count": 43,
     "metadata": {},
     "output_type": "execute_result"
    }
   ],
   "source": [
    "csr_data =   csr_matrix((ratings.counts, (ratings.user_id, ratings.movie_id)), shape= (num_user, num_movie))\n",
    "csr_data"
   ]
  },
  {
   "cell_type": "markdown",
   "id": "79cda3e4",
   "metadata": {},
   "source": [
    "#### 5) als_model = AlternatingLeastSquares 모델을 직접 구성하여 훈련시켜 봅시다."
   ]
  },
  {
   "cell_type": "code",
   "execution_count": 44,
   "id": "8a2a70b6",
   "metadata": {},
   "outputs": [],
   "source": [
    "from implicit.als import AlternatingLeastSquares\n",
    "import os\n",
    "import numpy as np\n",
    "\n",
    "# implicit 라이브러리에서 권장하고 있는 부분입니다. 학습 내용과는 무관합니다.\n",
    "os.environ['OPENBLAS_NUM_THREADS']='1'\n",
    "os.environ['KMP_DUPLICATE_LIB_OK']='True'\n",
    "os.environ['MKL_NUM_THREADS']='1'"
   ]
  },
  {
   "cell_type": "code",
   "execution_count": 45,
   "id": "9441e9c8",
   "metadata": {},
   "outputs": [],
   "source": [
    "# Implicit AlternatingLeastSquares 모델의 선언\n",
    "als_model = AlternatingLeastSquares(factors=100, regularization=0.01, use_gpu=False, iterations=15, dtype=np.float32)"
   ]
  },
  {
   "cell_type": "code",
   "execution_count": 46,
   "id": "143fb7f8",
   "metadata": {},
   "outputs": [
    {
     "data": {
      "text/plain": [
       "<3706x6041 sparse matrix of type '<class 'numpy.int64'>'\n",
       "\twith 1000214 stored elements in Compressed Sparse Column format>"
      ]
     },
     "execution_count": 46,
     "metadata": {},
     "output_type": "execute_result"
    }
   ],
   "source": [
    "# als 모델은 input으로 (item X user 꼴의 matrix를 받기 때문에 Transpose해줍니다.)\n",
    "csr_data_transpose = csr_data.T\n",
    "csr_data_transpose"
   ]
  },
  {
   "cell_type": "code",
   "execution_count": 47,
   "id": "510e67ba",
   "metadata": {},
   "outputs": [
    {
     "data": {
      "application/vnd.jupyter.widget-view+json": {
       "model_id": "e9065a7beea044c189ecc37d0b6de663",
       "version_major": 2,
       "version_minor": 0
      },
      "text/plain": [
       "  0%|          | 0/15 [00:00<?, ?it/s]"
      ]
     },
     "metadata": {},
     "output_type": "display_data"
    }
   ],
   "source": [
    "# 모델 훈련\n",
    "als_model.fit(csr_data_transpose)"
   ]
  },
  {
   "cell_type": "code",
   "execution_count": 48,
   "id": "f5b864db",
   "metadata": {},
   "outputs": [],
   "source": [
    "zimin, sabrina = user_to_idx['zimin'], movie_id_to_idx[movie_title_to_id['sabrina (1954)']]\n",
    "zimin_vector, sabrina_vector = als_model.user_factors[zimin], als_model.item_factors[sabrina]"
   ]
  },
  {
   "cell_type": "code",
   "execution_count": 51,
   "id": "0500f947",
   "metadata": {},
   "outputs": [
    {
     "data": {
      "text/plain": [
       "array([-0.415579  ,  0.09914095, -0.07285866,  0.2159752 , -0.8448624 ,\n",
       "        0.04693242, -0.46531796, -0.02885746,  0.27903765, -0.2209445 ,\n",
       "        0.24412142, -0.24816915,  0.24534489,  0.1153121 ,  0.22311722,\n",
       "        0.25533685,  0.6214079 , -0.6064442 ,  0.19093452,  0.25429815,\n",
       "        0.05938752, -0.17672414, -0.00663657,  0.10558166, -0.19026534,\n",
       "       -0.6020131 , -0.11732005,  0.20597613,  0.3339805 , -0.17033839,\n",
       "       -0.10380894,  0.17454806,  0.18547224,  0.48091567,  0.38145623,\n",
       "       -0.01669823,  0.24340007, -0.29088518, -0.40843174, -0.100341  ,\n",
       "       -0.61481154,  0.49914074, -0.23938826,  0.189193  ,  0.127922  ,\n",
       "       -0.29909292,  0.3101445 , -0.07295581, -0.44404623,  0.648082  ,\n",
       "        0.03869737,  0.17993745, -0.27172282,  0.01816912,  0.1628603 ,\n",
       "       -0.1398629 ,  0.7975456 , -0.47294417,  0.6445618 ,  0.13334069,\n",
       "       -0.11095844,  0.4980758 , -0.35643283,  0.3977574 , -0.40405074,\n",
       "        0.13124399, -0.05187433,  0.29531762,  0.3556215 ,  0.23086481,\n",
       "       -0.15807506, -0.21926193,  0.0890926 , -0.26848042,  0.3837276 ,\n",
       "        0.5111552 , -0.41533747, -0.06743015, -0.12336077, -0.6534357 ,\n",
       "       -0.64630216, -0.18536824,  0.17757423, -0.28915954, -0.2533587 ,\n",
       "       -0.13558929,  0.27301222,  0.19766676,  0.16551241,  0.40029976,\n",
       "        0.0440728 , -0.12719081, -0.13263215, -0.34131622,  0.51554793,\n",
       "       -0.25458938,  0.07059793,  0.24678805,  0.16697039,  0.4321491 ],\n",
       "      dtype=float32)"
      ]
     },
     "execution_count": 51,
     "metadata": {},
     "output_type": "execute_result"
    }
   ],
   "source": [
    "als_model.user_factors[zimin]"
   ]
  },
  {
   "cell_type": "code",
   "execution_count": 53,
   "id": "4b3286b2",
   "metadata": {},
   "outputs": [
    {
     "data": {
      "text/plain": [
       "array([-0.415579  ,  0.09914095, -0.07285866,  0.2159752 , -0.8448624 ,\n",
       "        0.04693242, -0.46531796, -0.02885746,  0.27903765, -0.2209445 ,\n",
       "        0.24412142, -0.24816915,  0.24534489,  0.1153121 ,  0.22311722,\n",
       "        0.25533685,  0.6214079 , -0.6064442 ,  0.19093452,  0.25429815,\n",
       "        0.05938752, -0.17672414, -0.00663657,  0.10558166, -0.19026534,\n",
       "       -0.6020131 , -0.11732005,  0.20597613,  0.3339805 , -0.17033839,\n",
       "       -0.10380894,  0.17454806,  0.18547224,  0.48091567,  0.38145623,\n",
       "       -0.01669823,  0.24340007, -0.29088518, -0.40843174, -0.100341  ,\n",
       "       -0.61481154,  0.49914074, -0.23938826,  0.189193  ,  0.127922  ,\n",
       "       -0.29909292,  0.3101445 , -0.07295581, -0.44404623,  0.648082  ,\n",
       "        0.03869737,  0.17993745, -0.27172282,  0.01816912,  0.1628603 ,\n",
       "       -0.1398629 ,  0.7975456 , -0.47294417,  0.6445618 ,  0.13334069,\n",
       "       -0.11095844,  0.4980758 , -0.35643283,  0.3977574 , -0.40405074,\n",
       "        0.13124399, -0.05187433,  0.29531762,  0.3556215 ,  0.23086481,\n",
       "       -0.15807506, -0.21926193,  0.0890926 , -0.26848042,  0.3837276 ,\n",
       "        0.5111552 , -0.41533747, -0.06743015, -0.12336077, -0.6534357 ,\n",
       "       -0.64630216, -0.18536824,  0.17757423, -0.28915954, -0.2533587 ,\n",
       "       -0.13558929,  0.27301222,  0.19766676,  0.16551241,  0.40029976,\n",
       "        0.0440728 , -0.12719081, -0.13263215, -0.34131622,  0.51554793,\n",
       "       -0.25458938,  0.07059793,  0.24678805,  0.16697039,  0.4321491 ],\n",
       "      dtype=float32)"
      ]
     },
     "execution_count": 53,
     "metadata": {},
     "output_type": "execute_result"
    }
   ],
   "source": [
    "zimin_vector"
   ]
  },
  {
   "cell_type": "code",
   "execution_count": 54,
   "id": "f9f637ba",
   "metadata": {},
   "outputs": [
    {
     "data": {
      "text/plain": [
       "array([ 6.39231689e-03,  9.36268084e-03,  9.55918524e-03,  3.13794496e-03,\n",
       "       -4.07870300e-03, -3.70096695e-03, -2.46114731e-02,  6.61582965e-03,\n",
       "        4.19848179e-03, -2.01949179e-02,  1.46958753e-02, -5.45873959e-03,\n",
       "        5.10229787e-04,  1.52479811e-02,  7.42600719e-03,  4.99919523e-03,\n",
       "        3.19432118e-03, -1.01847472e-02,  2.70094224e-05,  1.17001114e-02,\n",
       "        6.48251362e-03, -2.14509778e-02,  3.49606969e-03,  2.06191987e-02,\n",
       "       -3.25437961e-03,  1.88744012e-02, -7.65702594e-03,  1.73578144e-03,\n",
       "        2.60403496e-03, -8.72497540e-03,  8.29102192e-03,  4.62244963e-03,\n",
       "        3.86796985e-03,  4.30863304e-03,  2.97019240e-02,  3.84082529e-03,\n",
       "        1.07453447e-02,  2.13359166e-02,  5.96482074e-03,  1.04520358e-02,\n",
       "       -2.02097953e-03,  2.25033369e-02,  5.97243896e-03,  5.39185712e-03,\n",
       "        1.31504303e-02, -5.91707462e-03,  7.70954462e-03, -1.41103221e-02,\n",
       "       -7.30432943e-03,  1.08669447e-02, -6.09872513e-04, -2.94989208e-03,\n",
       "        2.12020278e-02, -5.90132689e-03,  1.49038539e-03,  1.39824105e-02,\n",
       "        1.61702912e-02,  1.05469804e-02,  1.22330151e-02, -2.89682602e-03,\n",
       "        2.21591573e-02,  8.25087167e-03,  8.64282250e-04,  8.24550539e-03,\n",
       "       -6.05594774e-04,  1.39826797e-02,  1.33291380e-02,  3.80712971e-02,\n",
       "       -3.70723923e-04,  3.31868716e-02, -2.10135104e-03, -2.07748963e-04,\n",
       "       -1.58632342e-02, -6.70951419e-03,  1.91326195e-03,  1.90264601e-02,\n",
       "       -4.87903692e-03, -2.01046895e-02,  7.62572605e-03,  2.45773466e-03,\n",
       "        1.19162397e-02, -9.88116488e-03,  1.37379216e-02, -1.38786864e-02,\n",
       "       -1.42070698e-02,  3.79853067e-03,  6.95053069e-03,  5.25563676e-03,\n",
       "        1.16397217e-02,  6.14695251e-03,  2.31375173e-02, -2.12716800e-03,\n",
       "       -8.33648257e-03, -1.49553157e-02,  6.41251262e-03,  1.09924162e-02,\n",
       "       -6.15770835e-03,  1.26091745e-02, -2.00417871e-03,  7.91017339e-03],\n",
       "      dtype=float32)"
      ]
     },
     "execution_count": 54,
     "metadata": {},
     "output_type": "execute_result"
    }
   ],
   "source": [
    "sabrina_vector"
   ]
  },
  {
   "cell_type": "code",
   "execution_count": 55,
   "id": "8cf824f2",
   "metadata": {},
   "outputs": [
    {
     "data": {
      "text/plain": [
       "0.14354412"
      ]
     },
     "execution_count": 55,
     "metadata": {},
     "output_type": "execute_result"
    }
   ],
   "source": [
    "# zimin과 sabrina_vector를 내적하는 코드\n",
    "np.dot(zimin_vector, sabrina_vector)"
   ]
  },
  {
   "cell_type": "markdown",
   "id": "1a3bd1e2",
   "metadata": {},
   "source": [
    "#### 6) 내가 선호하는 5가지 영화 중 하나와 그 외의 영화 하나를 골라 훈련된 모델이 예측한 나의 선호도를 파악해 보세요."
   ]
  },
  {
   "cell_type": "markdown",
   "id": "d9c632eb",
   "metadata": {},
   "source": [
    "선호하는 5가지 영화 중 하나. 훈련된 모델이 예측한 나의 선호도"
   ]
  },
  {
   "cell_type": "code",
   "execution_count": 58,
   "id": "8f4a2399",
   "metadata": {},
   "outputs": [
    {
     "data": {
      "text/plain": [
       "0.38123405"
      ]
     },
     "execution_count": 58,
     "metadata": {},
     "output_type": "execute_result"
    }
   ],
   "source": [
    "zimin, toy_story = user_to_idx['zimin'], movie_id_to_idx[movie_title_to_id['toy story (1995)']]\n",
    "zimin_vector, toy_story_vector = als_model.user_factors[zimin], als_model.item_factors[toy_story]\n",
    "np.dot(zimin_vector, toy_story_vector)\n"
   ]
  },
  {
   "cell_type": "markdown",
   "id": "9df5a749",
   "metadata": {},
   "source": [
    " 그 외의 영화 하나. 훈련된 모델이 예측한 나의 선호도"
   ]
  },
  {
   "cell_type": "code",
   "execution_count": 59,
   "id": "5151ed58",
   "metadata": {},
   "outputs": [
    {
     "data": {
      "text/plain": [
       "0.0029235017"
      ]
     },
     "execution_count": 59,
     "metadata": {},
     "output_type": "execute_result"
    }
   ],
   "source": [
    "zimin, father_of_the_bride = user_to_idx['zimin'], movie_id_to_idx[movie_title_to_id['father of the bride part ii (1995)']]\n",
    "zimin_vector, father_of_the_bride_vector = als_model.user_factors[zimin], als_model.item_factors[father_of_the_bride]\n",
    "np.dot(zimin_vector, father_of_the_bride_vector)"
   ]
  },
  {
   "cell_type": "markdown",
   "id": "ef5cfe88",
   "metadata": {},
   "source": [
    "#### 7) 내가 좋아하는 영화와 비슷한 영화를 추천받아 봅시다."
   ]
  },
  {
   "cell_type": "code",
   "execution_count": 60,
   "id": "1119720e",
   "metadata": {},
   "outputs": [
    {
     "data": {
      "text/plain": [
       "[(1850, 1.0),\n",
       " (1074, 0.77192384),\n",
       " (1044, 0.7331026),\n",
       " (1870, 0.7309706),\n",
       " (1829, 0.7261599),\n",
       " (2811, 0.7242216),\n",
       " (2634, 0.7220191),\n",
       " (3352, 0.7163322),\n",
       " (1863, 0.7153462),\n",
       " (2650, 0.7122095),\n",
       " (3186, 0.7108939),\n",
       " (2643, 0.70742434),\n",
       " (1350, 0.70126784),\n",
       " (2945, 0.69717515),\n",
       " (3060, 0.69674367)]"
      ]
     },
     "execution_count": 60,
     "metadata": {},
     "output_type": "execute_result"
    }
   ],
   "source": [
    "similar_movies = als_model.similar_items(cutthroat_island, N=15)\n",
    "similar_movies"
   ]
  },
  {
   "cell_type": "code",
   "execution_count": 61,
   "id": "04b29f4d",
   "metadata": {},
   "outputs": [
    {
     "data": {
      "text/plain": [
       "['cutthroat island (1995)',\n",
       " 'kull the conqueror (1997)',\n",
       " 'avengers, the (1998)',\n",
       " 'shadow, the (1994)',\n",
       " 'chain reaction (1996)',\n",
       " 'tarzan and the lost city (1998)',\n",
       " 'fled (1996)',\n",
       " 'in the line of duty 2 (1987)',\n",
       " 'radioland murders (1994)',\n",
       " 'black dog (1998)',\n",
       " 'knightriders (1981)',\n",
       " 'firestorm (1998)',\n",
       " 'substitute, the (1996)',\n",
       " 'firewalker (1986)',\n",
       " 'hush (1998)']"
      ]
     },
     "execution_count": 61,
     "metadata": {},
     "output_type": "execute_result"
    }
   ],
   "source": [
    "#movie_id_to_idx 를 뒤집어, index로부터 artist 이름을 얻는 dict를 생성합니다. \n",
    "idx_to_movie_id = {v:k for k,v in movie_id_to_idx.items()}\n",
    "id_to_movie_title = {v:k for k,v in movie_title_to_id.items()}\n",
    "\n",
    "[id_to_movie_title[idx_to_movie_id[i[0]]] for i in similar_movies]\n"
   ]
  },
  {
   "cell_type": "markdown",
   "id": "cc465342",
   "metadata": {},
   "source": [
    "#### 8) 내가 가장 좋아할 만한 영화들을 추천받아 봅시다."
   ]
  },
  {
   "cell_type": "code",
   "execution_count": 62,
   "id": "90134a26",
   "metadata": {},
   "outputs": [
    {
     "data": {
      "text/plain": [
       "[(50, 0.35083348),\n",
       " (4, 0.24842732),\n",
       " (514, 0.23030873),\n",
       " (82, 0.17934075),\n",
       " (852, 0.1778692),\n",
       " (381, 0.17560995),\n",
       " (741, 0.16094482),\n",
       " (187, 0.15413883),\n",
       " (606, 0.15281506),\n",
       " (648, 0.15055445),\n",
       " (656, 0.14401403),\n",
       " (116, 0.14001471),\n",
       " (642, 0.13986404),\n",
       " (33, 0.13952255),\n",
       " (723, 0.13489154),\n",
       " (939, 0.12676008),\n",
       " (19, 0.124416724),\n",
       " (568, 0.12364999),\n",
       " (1066, 0.12136168),\n",
       " (808, 0.11824116)]"
      ]
     },
     "execution_count": 62,
     "metadata": {},
     "output_type": "execute_result"
    }
   ],
   "source": [
    "user = user_to_idx['zimin']\n",
    "# recommend에서는 user*item CSR Matrix를 받습니다.\n",
    "movies_recommended = als_model.recommend(user, csr_data, N=20, filter_already_liked_items=True)\n",
    "movies_recommended"
   ]
  },
  {
   "cell_type": "code",
   "execution_count": 63,
   "id": "fbf00094",
   "metadata": {},
   "outputs": [
    {
     "data": {
      "text/plain": [
       "['toy story 2 (1999)',\n",
       " \"bug's life, a (1998)\",\n",
       " 'mask, the (1994)',\n",
       " \"breakfast at tiffany's (1961)\",\n",
       " 'indian in the cupboard, the (1995)',\n",
       " 'babe (1995)',\n",
       " 'willy wonka and the chocolate factory (1971)',\n",
       " 'dragonheart (1996)',\n",
       " 'santa clause, the (1994)',\n",
       " 'roman holiday (1953)',\n",
       " 'hook (1991)',\n",
       " 'groundhog day (1993)',\n",
       " 'beetlejuice (1988)',\n",
       " 'aladdin (1992)',\n",
       " 'philadelphia story, the (1940)',\n",
       " 'iron giant, the (1999)',\n",
       " 'big (1988)',\n",
       " 'teenage mutant ninja turtles (1990)',\n",
       " 'toys (1992)',\n",
       " 'nutty professor, the (1996)']"
      ]
     },
     "execution_count": 63,
     "metadata": {},
     "output_type": "execute_result"
    }
   ],
   "source": [
    "[id_to_movie_title[idx_to_movie_id[i[0]]] for i in movies_recommended]"
   ]
  },
  {
   "cell_type": "markdown",
   "id": "29f728de",
   "metadata": {},
   "source": [
    "#### 후기  \n",
    "집에 있는 파이썬이 오동작을 일으켜서 시간이 많이 걸렸다. 다 밀어버릴거다.  \n",
    "데이터에 있는 인덱스를 사용하려고 해봤는데 오류가 떴다. 인덱스에 인덱스를 메겨서 돌려야 했다.\n"
   ]
  },
  {
   "cell_type": "code",
   "execution_count": null,
   "id": "5e81ea5c",
   "metadata": {},
   "outputs": [],
   "source": []
  }
 ],
 "metadata": {
  "kernelspec": {
   "display_name": "Python 3 (ipykernel)",
   "language": "python",
   "name": "python3"
  },
  "language_info": {
   "codemirror_mode": {
    "name": "ipython",
    "version": 3
   },
   "file_extension": ".py",
   "mimetype": "text/x-python",
   "name": "python",
   "nbconvert_exporter": "python",
   "pygments_lexer": "ipython3",
   "version": "3.9.7"
  }
 },
 "nbformat": 4,
 "nbformat_minor": 5
}
