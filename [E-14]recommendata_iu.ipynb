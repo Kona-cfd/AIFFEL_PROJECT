{
 "cells": [
  {
   "cell_type": "markdown",
   "id": "cdd871f8",
   "metadata": {},
   "source": [
    "#### 1) 데이터 준비와 전처리"
   ]
  },
  {
   "cell_type": "markdown",
   "id": "2b43e6b5",
   "metadata": {},
   "source": [
    "Movielens 데이터는 rating.dat 안에 이미 인덱싱까지 완료된 사용자-영화-평점 데이터가 깔끔하게 정리되어 있습니다."
   ]
  },
  {
   "cell_type": "code",
   "execution_count": 1,
   "id": "5bf27222",
   "metadata": {},
   "outputs": [
    {
     "data": {
      "text/html": [
       "<div>\n",
       "<style scoped>\n",
       "    .dataframe tbody tr th:only-of-type {\n",
       "        vertical-align: middle;\n",
       "    }\n",
       "\n",
       "    .dataframe tbody tr th {\n",
       "        vertical-align: top;\n",
       "    }\n",
       "\n",
       "    .dataframe thead th {\n",
       "        text-align: right;\n",
       "    }\n",
       "</style>\n",
       "<table border=\"1\" class=\"dataframe\">\n",
       "  <thead>\n",
       "    <tr style=\"text-align: right;\">\n",
       "      <th></th>\n",
       "      <th>user_id</th>\n",
       "      <th>movie_id</th>\n",
       "      <th>rating</th>\n",
       "      <th>timestamp</th>\n",
       "    </tr>\n",
       "  </thead>\n",
       "  <tbody>\n",
       "    <tr>\n",
       "      <th>0</th>\n",
       "      <td>1</td>\n",
       "      <td>1193</td>\n",
       "      <td>5</td>\n",
       "      <td>978300760</td>\n",
       "    </tr>\n",
       "    <tr>\n",
       "      <th>1</th>\n",
       "      <td>1</td>\n",
       "      <td>661</td>\n",
       "      <td>3</td>\n",
       "      <td>978302109</td>\n",
       "    </tr>\n",
       "    <tr>\n",
       "      <th>2</th>\n",
       "      <td>1</td>\n",
       "      <td>914</td>\n",
       "      <td>3</td>\n",
       "      <td>978301968</td>\n",
       "    </tr>\n",
       "    <tr>\n",
       "      <th>3</th>\n",
       "      <td>1</td>\n",
       "      <td>3408</td>\n",
       "      <td>4</td>\n",
       "      <td>978300275</td>\n",
       "    </tr>\n",
       "    <tr>\n",
       "      <th>4</th>\n",
       "      <td>1</td>\n",
       "      <td>2355</td>\n",
       "      <td>5</td>\n",
       "      <td>978824291</td>\n",
       "    </tr>\n",
       "  </tbody>\n",
       "</table>\n",
       "</div>"
      ],
      "text/plain": [
       "   user_id  movie_id  rating  timestamp\n",
       "0        1      1193       5  978300760\n",
       "1        1       661       3  978302109\n",
       "2        1       914       3  978301968\n",
       "3        1      3408       4  978300275\n",
       "4        1      2355       5  978824291"
      ]
     },
     "execution_count": 1,
     "metadata": {},
     "output_type": "execute_result"
    }
   ],
   "source": [
    "import pandas as pd\n",
    "import os\n",
    "from pathlib import Path\n",
    "\n",
    "# rating_file_path=os.getenv('HOME') + '/aiffel/recommendata_iu/data/ml-1m/ratings.dat'\n",
    "\n",
    "rating_file_path = Path.joinpath(Path.cwd(),'data','ml-1m','ratings.dat')\n",
    "\n",
    "ratings_cols = ['user_id', 'movie_id', 'rating', 'timestamp']\n",
    "ratings = pd.read_csv(rating_file_path, sep='::', names=ratings_cols, engine='python', encoding = \"ISO-8859-1\")\n",
    "orginal_data_size = len(ratings)\n",
    "ratings.head()"
   ]
  },
  {
   "cell_type": "code",
   "execution_count": 2,
   "id": "b4a491f1",
   "metadata": {},
   "outputs": [
    {
     "name": "stdout",
     "output_type": "stream",
     "text": [
      "orginal_data_size: 1000209, filtered_data_size: 836478\n",
      "Ratio of Remaining Data is 83.63%\n"
     ]
    }
   ],
   "source": [
    "# 3점 이상만 남깁니다.\n",
    "ratings_over3 = ratings[ratings['rating']>=3]\n",
    "filtered_data_size = len(ratings_over3)\n",
    "\n",
    "print(f'orginal_data_size: {orginal_data_size}, filtered_data_size: {filtered_data_size}')\n",
    "print(f'Ratio of Remaining Data is {filtered_data_size / orginal_data_size:.2%}')"
   ]
  },
  {
   "cell_type": "code",
   "execution_count": 3,
   "id": "32216bbc",
   "metadata": {},
   "outputs": [],
   "source": [
    "# ratings 컬럼의 이름을 counts로 바꿉니다.\n",
    "ratings.rename(columns={'rating':'counts'}, inplace=True)"
   ]
  },
  {
   "cell_type": "code",
   "execution_count": 4,
   "id": "e6004812",
   "metadata": {},
   "outputs": [],
   "source": [
    "ratings = ratings.dropna()"
   ]
  },
  {
   "cell_type": "code",
   "execution_count": 5,
   "id": "8d23657b",
   "metadata": {},
   "outputs": [
    {
     "data": {
      "text/plain": [
       "0          5\n",
       "1          3\n",
       "2          3\n",
       "3          4\n",
       "4          5\n",
       "          ..\n",
       "1000204    1\n",
       "1000205    5\n",
       "1000206    5\n",
       "1000207    4\n",
       "1000208    4\n",
       "Name: counts, Length: 1000209, dtype: int64"
      ]
     },
     "execution_count": 5,
     "metadata": {},
     "output_type": "execute_result"
    }
   ],
   "source": [
    "ratings['counts']"
   ]
  },
  {
   "cell_type": "code",
   "execution_count": 6,
   "id": "f58737e1",
   "metadata": {},
   "outputs": [
    {
     "data": {
      "text/html": [
       "<div>\n",
       "<style scoped>\n",
       "    .dataframe tbody tr th:only-of-type {\n",
       "        vertical-align: middle;\n",
       "    }\n",
       "\n",
       "    .dataframe tbody tr th {\n",
       "        vertical-align: top;\n",
       "    }\n",
       "\n",
       "    .dataframe thead th {\n",
       "        text-align: right;\n",
       "    }\n",
       "</style>\n",
       "<table border=\"1\" class=\"dataframe\">\n",
       "  <thead>\n",
       "    <tr style=\"text-align: right;\">\n",
       "      <th></th>\n",
       "      <th>movie_id</th>\n",
       "      <th>title</th>\n",
       "      <th>genre</th>\n",
       "    </tr>\n",
       "  </thead>\n",
       "  <tbody>\n",
       "    <tr>\n",
       "      <th>0</th>\n",
       "      <td>1</td>\n",
       "      <td>Toy Story (1995)</td>\n",
       "      <td>Animation|Children's|Comedy</td>\n",
       "    </tr>\n",
       "    <tr>\n",
       "      <th>1</th>\n",
       "      <td>2</td>\n",
       "      <td>Jumanji (1995)</td>\n",
       "      <td>Adventure|Children's|Fantasy</td>\n",
       "    </tr>\n",
       "    <tr>\n",
       "      <th>2</th>\n",
       "      <td>3</td>\n",
       "      <td>Grumpier Old Men (1995)</td>\n",
       "      <td>Comedy|Romance</td>\n",
       "    </tr>\n",
       "    <tr>\n",
       "      <th>3</th>\n",
       "      <td>4</td>\n",
       "      <td>Waiting to Exhale (1995)</td>\n",
       "      <td>Comedy|Drama</td>\n",
       "    </tr>\n",
       "    <tr>\n",
       "      <th>4</th>\n",
       "      <td>5</td>\n",
       "      <td>Father of the Bride Part II (1995)</td>\n",
       "      <td>Comedy</td>\n",
       "    </tr>\n",
       "  </tbody>\n",
       "</table>\n",
       "</div>"
      ],
      "text/plain": [
       "   movie_id                               title                         genre\n",
       "0         1                    Toy Story (1995)   Animation|Children's|Comedy\n",
       "1         2                      Jumanji (1995)  Adventure|Children's|Fantasy\n",
       "2         3             Grumpier Old Men (1995)                Comedy|Romance\n",
       "3         4            Waiting to Exhale (1995)                  Comedy|Drama\n",
       "4         5  Father of the Bride Part II (1995)                        Comedy"
      ]
     },
     "execution_count": 6,
     "metadata": {},
     "output_type": "execute_result"
    }
   ],
   "source": [
    "# 영화 제목을 보기 위해 메타 데이터를 읽어옵니다.\n",
    "# movie_file_path=os.getenv('HOME') + '/aiffel/recommendata_iu/data/ml-1m/movies.dat'\n",
    "movie_file_path = Path.joinpath(Path.cwd(),'data','ml-1m','movies.dat')\n",
    "\n",
    "cols = ['movie_id', 'title', 'genre'] \n",
    "movies = pd.read_csv(movie_file_path, sep='::', names=cols, engine='python', encoding='ISO-8859-1')\n",
    "movies.head()"
   ]
  },
  {
   "cell_type": "markdown",
   "id": "a282fc4e",
   "metadata": {},
   "source": [
    "여기까지가 전처리입니다. 이후에는 이전 스텝에 소개했던 것과 동일한 방식으로 MF model을 구성하여 내가 좋아할 만한 영화를 추천해 볼 수 있습니다."
   ]
  },
  {
   "cell_type": "code",
   "execution_count": 7,
   "id": "2f05786f",
   "metadata": {},
   "outputs": [
    {
     "data": {
      "text/html": [
       "<div>\n",
       "<style scoped>\n",
       "    .dataframe tbody tr th:only-of-type {\n",
       "        vertical-align: middle;\n",
       "    }\n",
       "\n",
       "    .dataframe tbody tr th {\n",
       "        vertical-align: top;\n",
       "    }\n",
       "\n",
       "    .dataframe thead th {\n",
       "        text-align: right;\n",
       "    }\n",
       "</style>\n",
       "<table border=\"1\" class=\"dataframe\">\n",
       "  <thead>\n",
       "    <tr style=\"text-align: right;\">\n",
       "      <th></th>\n",
       "      <th>movie_id</th>\n",
       "      <th>title</th>\n",
       "      <th>genre</th>\n",
       "    </tr>\n",
       "  </thead>\n",
       "  <tbody>\n",
       "    <tr>\n",
       "      <th>0</th>\n",
       "      <td>1</td>\n",
       "      <td>toy story (1995)</td>\n",
       "      <td>Animation|Children's|Comedy</td>\n",
       "    </tr>\n",
       "    <tr>\n",
       "      <th>1</th>\n",
       "      <td>2</td>\n",
       "      <td>jumanji (1995)</td>\n",
       "      <td>Adventure|Children's|Fantasy</td>\n",
       "    </tr>\n",
       "    <tr>\n",
       "      <th>2</th>\n",
       "      <td>3</td>\n",
       "      <td>grumpier old men (1995)</td>\n",
       "      <td>Comedy|Romance</td>\n",
       "    </tr>\n",
       "    <tr>\n",
       "      <th>3</th>\n",
       "      <td>4</td>\n",
       "      <td>waiting to exhale (1995)</td>\n",
       "      <td>Comedy|Drama</td>\n",
       "    </tr>\n",
       "    <tr>\n",
       "      <th>4</th>\n",
       "      <td>5</td>\n",
       "      <td>father of the bride part ii (1995)</td>\n",
       "      <td>Comedy</td>\n",
       "    </tr>\n",
       "  </tbody>\n",
       "</table>\n",
       "</div>"
      ],
      "text/plain": [
       "   movie_id                               title                         genre\n",
       "0         1                    toy story (1995)   Animation|Children's|Comedy\n",
       "1         2                      jumanji (1995)  Adventure|Children's|Fantasy\n",
       "2         3             grumpier old men (1995)                Comedy|Romance\n",
       "3         4            waiting to exhale (1995)                  Comedy|Drama\n",
       "4         5  father of the bride part ii (1995)                        Comedy"
      ]
     },
     "execution_count": 7,
     "metadata": {},
     "output_type": "execute_result"
    }
   ],
   "source": [
    "movies['title'] = movies['title'].str.lower() # 검색을 쉽게 하기 위해 영화제목 문자열을 소문자로 바꿔줍시다.\n",
    "movies.head()"
   ]
  },
  {
   "cell_type": "markdown",
   "id": "9fdf9378",
   "metadata": {},
   "source": [
    "#### 2) 분석해 봅시다.  "
   ]
  },
  {
   "cell_type": "markdown",
   "id": "befc9b20",
   "metadata": {},
   "source": [
    "ratings에 있는 유니크한 영화 개수"
   ]
  },
  {
   "cell_type": "code",
   "execution_count": 8,
   "id": "1571c462",
   "metadata": {},
   "outputs": [
    {
     "data": {
      "text/plain": [
       "3706"
      ]
     },
     "execution_count": 8,
     "metadata": {},
     "output_type": "execute_result"
    }
   ],
   "source": [
    "ratings['movie_id'].nunique()"
   ]
  },
  {
   "cell_type": "code",
   "execution_count": 9,
   "id": "37b160ae",
   "metadata": {},
   "outputs": [
    {
     "data": {
      "text/plain": [
       "0          1193\n",
       "1           661\n",
       "2           914\n",
       "3          3408\n",
       "4          2355\n",
       "           ... \n",
       "1000204    1091\n",
       "1000205    1094\n",
       "1000206     562\n",
       "1000207    1096\n",
       "1000208    1097\n",
       "Name: movie_id, Length: 1000209, dtype: int64"
      ]
     },
     "execution_count": 9,
     "metadata": {},
     "output_type": "execute_result"
    }
   ],
   "source": [
    "ratings['movie_id']"
   ]
  },
  {
   "cell_type": "markdown",
   "id": "04aab6f4",
   "metadata": {},
   "source": [
    "ratings에 있는 유니크한 사용자 수"
   ]
  },
  {
   "cell_type": "code",
   "execution_count": 10,
   "id": "bbb2e265",
   "metadata": {},
   "outputs": [
    {
     "data": {
      "text/plain": [
       "6040"
      ]
     },
     "execution_count": 10,
     "metadata": {},
     "output_type": "execute_result"
    }
   ],
   "source": [
    "ratings['user_id'].nunique()"
   ]
  },
  {
   "cell_type": "code",
   "execution_count": 11,
   "id": "da74ddd7",
   "metadata": {},
   "outputs": [
    {
     "data": {
      "text/plain": [
       "Index(['user_id', 'movie_id', 'counts', 'timestamp'], dtype='object')"
      ]
     },
     "execution_count": 11,
     "metadata": {},
     "output_type": "execute_result"
    }
   ],
   "source": [
    "ratings.columns"
   ]
  },
  {
   "cell_type": "code",
   "execution_count": 12,
   "id": "06ad1555",
   "metadata": {},
   "outputs": [],
   "source": [
    "movies = movies.drop_duplicates(subset=None, keep='first', inplace=False, ignore_index=False)"
   ]
  },
  {
   "cell_type": "code",
   "execution_count": 13,
   "id": "8dce6570",
   "metadata": {},
   "outputs": [
    {
     "data": {
      "text/plain": [
       "0          1\n",
       "1          2\n",
       "2          3\n",
       "3          4\n",
       "4          5\n",
       "        ... \n",
       "3878    3948\n",
       "3879    3949\n",
       "3880    3950\n",
       "3881    3951\n",
       "3882    3952\n",
       "Name: movie_id, Length: 3883, dtype: int64"
      ]
     },
     "execution_count": 13,
     "metadata": {},
     "output_type": "execute_result"
    }
   ],
   "source": [
    "movies['movie_id']"
   ]
  },
  {
   "cell_type": "code",
   "execution_count": 14,
   "id": "475ae4ab",
   "metadata": {},
   "outputs": [
    {
     "data": {
      "text/html": [
       "<div>\n",
       "<style scoped>\n",
       "    .dataframe tbody tr th:only-of-type {\n",
       "        vertical-align: middle;\n",
       "    }\n",
       "\n",
       "    .dataframe tbody tr th {\n",
       "        vertical-align: top;\n",
       "    }\n",
       "\n",
       "    .dataframe thead th {\n",
       "        text-align: right;\n",
       "    }\n",
       "</style>\n",
       "<table border=\"1\" class=\"dataframe\">\n",
       "  <thead>\n",
       "    <tr style=\"text-align: right;\">\n",
       "      <th></th>\n",
       "      <th>user_id</th>\n",
       "      <th>movie_id</th>\n",
       "      <th>counts</th>\n",
       "      <th>timestamp</th>\n",
       "    </tr>\n",
       "  </thead>\n",
       "  <tbody>\n",
       "    <tr>\n",
       "      <th>427702</th>\n",
       "      <td>2599</td>\n",
       "      <td>1</td>\n",
       "      <td>4</td>\n",
       "      <td>973796689</td>\n",
       "    </tr>\n",
       "    <tr>\n",
       "      <th>1966</th>\n",
       "      <td>18</td>\n",
       "      <td>1</td>\n",
       "      <td>4</td>\n",
       "      <td>978154768</td>\n",
       "    </tr>\n",
       "    <tr>\n",
       "      <th>683688</th>\n",
       "      <td>4089</td>\n",
       "      <td>1</td>\n",
       "      <td>5</td>\n",
       "      <td>965428947</td>\n",
       "    </tr>\n",
       "    <tr>\n",
       "      <th>596207</th>\n",
       "      <td>3626</td>\n",
       "      <td>1</td>\n",
       "      <td>4</td>\n",
       "      <td>966594018</td>\n",
       "    </tr>\n",
       "    <tr>\n",
       "      <th>465902</th>\n",
       "      <td>2873</td>\n",
       "      <td>1</td>\n",
       "      <td>5</td>\n",
       "      <td>972784317</td>\n",
       "    </tr>\n",
       "    <tr>\n",
       "      <th>...</th>\n",
       "      <td>...</td>\n",
       "      <td>...</td>\n",
       "      <td>...</td>\n",
       "      <td>...</td>\n",
       "    </tr>\n",
       "    <tr>\n",
       "      <th>84701</th>\n",
       "      <td>551</td>\n",
       "      <td>3952</td>\n",
       "      <td>4</td>\n",
       "      <td>976067330</td>\n",
       "    </tr>\n",
       "    <tr>\n",
       "      <th>253845</th>\n",
       "      <td>1544</td>\n",
       "      <td>3952</td>\n",
       "      <td>4</td>\n",
       "      <td>974742620</td>\n",
       "    </tr>\n",
       "    <tr>\n",
       "      <th>180689</th>\n",
       "      <td>1130</td>\n",
       "      <td>3952</td>\n",
       "      <td>3</td>\n",
       "      <td>975593522</td>\n",
       "    </tr>\n",
       "    <tr>\n",
       "      <th>35180</th>\n",
       "      <td>238</td>\n",
       "      <td>3952</td>\n",
       "      <td>4</td>\n",
       "      <td>976760112</td>\n",
       "    </tr>\n",
       "    <tr>\n",
       "      <th>372755</th>\n",
       "      <td>2177</td>\n",
       "      <td>3952</td>\n",
       "      <td>5</td>\n",
       "      <td>974609645</td>\n",
       "    </tr>\n",
       "  </tbody>\n",
       "</table>\n",
       "<p>1000209 rows × 4 columns</p>\n",
       "</div>"
      ],
      "text/plain": [
       "        user_id  movie_id  counts  timestamp\n",
       "427702     2599         1       4  973796689\n",
       "1966         18         1       4  978154768\n",
       "683688     4089         1       5  965428947\n",
       "596207     3626         1       4  966594018\n",
       "465902     2873         1       5  972784317\n",
       "...         ...       ...     ...        ...\n",
       "84701       551      3952       4  976067330\n",
       "253845     1544      3952       4  974742620\n",
       "180689     1130      3952       3  975593522\n",
       "35180       238      3952       4  976760112\n",
       "372755     2177      3952       5  974609645\n",
       "\n",
       "[1000209 rows x 4 columns]"
      ]
     },
     "execution_count": 14,
     "metadata": {},
     "output_type": "execute_result"
    }
   ],
   "source": [
    "ratings.sort_values('movie_id')"
   ]
  },
  {
   "cell_type": "markdown",
   "id": "176f2e77",
   "metadata": {},
   "source": [
    "가장 인기 있는 영화 30개(인기순)"
   ]
  },
  {
   "cell_type": "code",
   "execution_count": 15,
   "id": "740abc8e",
   "metadata": {},
   "outputs": [
    {
     "data": {
      "text/plain": [
       "movie_id\n",
       "2858    3428\n",
       "260     2991\n",
       "1196    2990\n",
       "1210    2883\n",
       "480     2672\n",
       "2028    2653\n",
       "589     2649\n",
       "2571    2590\n",
       "1270    2583\n",
       "593     2578\n",
       "1580    2538\n",
       "1198    2514\n",
       "608     2513\n",
       "2762    2459\n",
       "110     2443\n",
       "2396    2369\n",
       "1197    2318\n",
       "527     2304\n",
       "1617    2288\n",
       "1265    2278\n",
       "1097    2269\n",
       "2628    2250\n",
       "2997    2241\n",
       "318     2227\n",
       "858     2223\n",
       "356     2194\n",
       "2716    2181\n",
       "296     2171\n",
       "1240    2098\n",
       "1       2077\n",
       "Name: user_id, dtype: int64"
      ]
     },
     "execution_count": 15,
     "metadata": {},
     "output_type": "execute_result"
    }
   ],
   "source": [
    "movies_count = ratings.groupby('movie_id')['user_id'].count()\n",
    "movies_count.sort_values(ascending=False).head(30)"
   ]
  },
  {
   "cell_type": "markdown",
   "id": "2f8b0587",
   "metadata": {},
   "source": [
    "#### 3) 내가 선호하는 영화를 5가지 골라서 ratings에 추가해 줍시다."
   ]
  },
  {
   "cell_type": "code",
   "execution_count": 16,
   "id": "be84a1b6",
   "metadata": {},
   "outputs": [],
   "source": [
    "movie_title_to_id =  dict(zip(movies['title'], movies['movie_id']))"
   ]
  },
  {
   "cell_type": "code",
   "execution_count": 17,
   "id": "4431b995",
   "metadata": {},
   "outputs": [
    {
     "data": {
      "text/plain": [
       "1"
      ]
     },
     "execution_count": 17,
     "metadata": {},
     "output_type": "execute_result"
    }
   ],
   "source": [
    "movie_title_to_id['toy story (1995)']"
   ]
  },
  {
   "cell_type": "code",
   "execution_count": 18,
   "id": "c883653f",
   "metadata": {},
   "outputs": [
    {
     "data": {
      "text/html": [
       "<div>\n",
       "<style scoped>\n",
       "    .dataframe tbody tr th:only-of-type {\n",
       "        vertical-align: middle;\n",
       "    }\n",
       "\n",
       "    .dataframe tbody tr th {\n",
       "        vertical-align: top;\n",
       "    }\n",
       "\n",
       "    .dataframe thead th {\n",
       "        text-align: right;\n",
       "    }\n",
       "</style>\n",
       "<table border=\"1\" class=\"dataframe\">\n",
       "  <thead>\n",
       "    <tr style=\"text-align: right;\">\n",
       "      <th></th>\n",
       "      <th>user_id</th>\n",
       "      <th>movie_id</th>\n",
       "      <th>counts</th>\n",
       "      <th>timestamp</th>\n",
       "    </tr>\n",
       "  </thead>\n",
       "  <tbody>\n",
       "    <tr>\n",
       "      <th>1000194</th>\n",
       "      <td>6040</td>\n",
       "      <td>1077</td>\n",
       "      <td>5</td>\n",
       "      <td>964828799.0</td>\n",
       "    </tr>\n",
       "    <tr>\n",
       "      <th>1000195</th>\n",
       "      <td>6040</td>\n",
       "      <td>1079</td>\n",
       "      <td>2</td>\n",
       "      <td>956715648.0</td>\n",
       "    </tr>\n",
       "    <tr>\n",
       "      <th>1000196</th>\n",
       "      <td>6040</td>\n",
       "      <td>549</td>\n",
       "      <td>4</td>\n",
       "      <td>956704746.0</td>\n",
       "    </tr>\n",
       "    <tr>\n",
       "      <th>1000197</th>\n",
       "      <td>6040</td>\n",
       "      <td>2020</td>\n",
       "      <td>3</td>\n",
       "      <td>956715288.0</td>\n",
       "    </tr>\n",
       "    <tr>\n",
       "      <th>1000198</th>\n",
       "      <td>6040</td>\n",
       "      <td>2021</td>\n",
       "      <td>3</td>\n",
       "      <td>956716374.0</td>\n",
       "    </tr>\n",
       "    <tr>\n",
       "      <th>1000199</th>\n",
       "      <td>6040</td>\n",
       "      <td>2022</td>\n",
       "      <td>5</td>\n",
       "      <td>956716207.0</td>\n",
       "    </tr>\n",
       "    <tr>\n",
       "      <th>1000200</th>\n",
       "      <td>6040</td>\n",
       "      <td>2028</td>\n",
       "      <td>5</td>\n",
       "      <td>956704519.0</td>\n",
       "    </tr>\n",
       "    <tr>\n",
       "      <th>1000201</th>\n",
       "      <td>6040</td>\n",
       "      <td>1080</td>\n",
       "      <td>4</td>\n",
       "      <td>957717322.0</td>\n",
       "    </tr>\n",
       "    <tr>\n",
       "      <th>1000202</th>\n",
       "      <td>6040</td>\n",
       "      <td>1089</td>\n",
       "      <td>4</td>\n",
       "      <td>956704996.0</td>\n",
       "    </tr>\n",
       "    <tr>\n",
       "      <th>1000203</th>\n",
       "      <td>6040</td>\n",
       "      <td>1090</td>\n",
       "      <td>3</td>\n",
       "      <td>956715518.0</td>\n",
       "    </tr>\n",
       "    <tr>\n",
       "      <th>1000204</th>\n",
       "      <td>6040</td>\n",
       "      <td>1091</td>\n",
       "      <td>1</td>\n",
       "      <td>956716541.0</td>\n",
       "    </tr>\n",
       "    <tr>\n",
       "      <th>1000205</th>\n",
       "      <td>6040</td>\n",
       "      <td>1094</td>\n",
       "      <td>5</td>\n",
       "      <td>956704887.0</td>\n",
       "    </tr>\n",
       "    <tr>\n",
       "      <th>1000206</th>\n",
       "      <td>6040</td>\n",
       "      <td>562</td>\n",
       "      <td>5</td>\n",
       "      <td>956704746.0</td>\n",
       "    </tr>\n",
       "    <tr>\n",
       "      <th>1000207</th>\n",
       "      <td>6040</td>\n",
       "      <td>1096</td>\n",
       "      <td>4</td>\n",
       "      <td>956715648.0</td>\n",
       "    </tr>\n",
       "    <tr>\n",
       "      <th>1000208</th>\n",
       "      <td>6040</td>\n",
       "      <td>1097</td>\n",
       "      <td>4</td>\n",
       "      <td>956715569.0</td>\n",
       "    </tr>\n",
       "    <tr>\n",
       "      <th>0</th>\n",
       "      <td>zimin</td>\n",
       "      <td>915</td>\n",
       "      <td>4</td>\n",
       "      <td>NaN</td>\n",
       "    </tr>\n",
       "    <tr>\n",
       "      <th>1</th>\n",
       "      <td>zimin</td>\n",
       "      <td>4</td>\n",
       "      <td>4</td>\n",
       "      <td>NaN</td>\n",
       "    </tr>\n",
       "    <tr>\n",
       "      <th>2</th>\n",
       "      <td>zimin</td>\n",
       "      <td>15</td>\n",
       "      <td>4</td>\n",
       "      <td>NaN</td>\n",
       "    </tr>\n",
       "    <tr>\n",
       "      <th>3</th>\n",
       "      <td>zimin</td>\n",
       "      <td>2</td>\n",
       "      <td>4</td>\n",
       "      <td>NaN</td>\n",
       "    </tr>\n",
       "    <tr>\n",
       "      <th>4</th>\n",
       "      <td>zimin</td>\n",
       "      <td>1</td>\n",
       "      <td>4</td>\n",
       "      <td>NaN</td>\n",
       "    </tr>\n",
       "  </tbody>\n",
       "</table>\n",
       "</div>"
      ],
      "text/plain": [
       "        user_id  movie_id  counts    timestamp\n",
       "1000194    6040      1077       5  964828799.0\n",
       "1000195    6040      1079       2  956715648.0\n",
       "1000196    6040       549       4  956704746.0\n",
       "1000197    6040      2020       3  956715288.0\n",
       "1000198    6040      2021       3  956716374.0\n",
       "1000199    6040      2022       5  956716207.0\n",
       "1000200    6040      2028       5  956704519.0\n",
       "1000201    6040      1080       4  957717322.0\n",
       "1000202    6040      1089       4  956704996.0\n",
       "1000203    6040      1090       3  956715518.0\n",
       "1000204    6040      1091       1  956716541.0\n",
       "1000205    6040      1094       5  956704887.0\n",
       "1000206    6040       562       5  956704746.0\n",
       "1000207    6040      1096       4  956715648.0\n",
       "1000208    6040      1097       4  956715569.0\n",
       "0         zimin       915       4          NaN\n",
       "1         zimin         4       4          NaN\n",
       "2         zimin        15       4          NaN\n",
       "3         zimin         2       4          NaN\n",
       "4         zimin         1       4          NaN"
      ]
     },
     "execution_count": 18,
     "metadata": {},
     "output_type": "execute_result"
    }
   ],
   "source": [
    "my_favorite  = ['Sabrina (1954)' , 'Waiting to Exhale (1995)' ,'cutthroat island (1995)' ,'Jumanji (1995)' ,'Toy Story (1995)']\n",
    "my_favorite  = pd.Series(my_favorite)\n",
    "my_favorite  = my_favorite.str.lower()\n",
    "my_favorite  = list(map(lambda my_favorite: movie_title_to_id[my_favorite], my_favorite))\n",
    "my_favorite\n",
    "\n",
    "my_playlist  = pd.DataFrame({'user_id': ['zimin']*5, 'movie_id': my_favorite, 'counts':[4]*5})\n",
    "\n",
    "if not ratings.isin({'user_id':['zimin']})['user_id'].any():  # user_id에 'zimin'이라는 데이터가 없다면\n",
    "    ratings  = ratings.append(my_playlist)         # 위에 임의로 만든 my_favorite 데이터를 추가해 줍니다. \n",
    "    \n",
    "#     ratings = pd.concat(ratings, my_playlist)\n",
    "    \n",
    "ratings.tail(20)       # 잘 추가되었는지 확인해 봅시다.\n"
   ]
  },
  {
   "cell_type": "code",
   "execution_count": 19,
   "id": "71a02d0f",
   "metadata": {},
   "outputs": [
    {
     "data": {
      "text/plain": [
       "array([1, 2, 3, ..., 6039, 6040, 'zimin'], dtype=object)"
      ]
     },
     "execution_count": 19,
     "metadata": {},
     "output_type": "execute_result"
    }
   ],
   "source": [
    "user_unique = ratings['user_id'].unique()\n",
    "user_unique"
   ]
  },
  {
   "cell_type": "code",
   "execution_count": 20,
   "id": "0b2e5ca3",
   "metadata": {},
   "outputs": [],
   "source": [
    "# 고유한 유저, movie_id를 찾아내는 코드\n",
    "user_unique = ratings['user_id'].unique()\n",
    "movie_id_unique = ratings['movie_id'].unique()\n",
    "\n",
    "# 유저, movie_id indexing 하는 코드 idx는 index의 약자입니다.\n",
    "user_to_idx        = {v:k for k,v in enumerate(user_unique)}\n",
    "movie_id_to_idx    = {v:k for k,v in enumerate(movie_id_unique)}"
   ]
  },
  {
   "cell_type": "code",
   "execution_count": 21,
   "id": "44273e00",
   "metadata": {},
   "outputs": [
    {
     "data": {
      "text/plain": [
       "array([1193,  661,  914, ..., 2845, 3607, 2909])"
      ]
     },
     "execution_count": 21,
     "metadata": {},
     "output_type": "execute_result"
    }
   ],
   "source": [
    "movie_id_unique"
   ]
  },
  {
   "cell_type": "code",
   "execution_count": 22,
   "id": "e721a288",
   "metadata": {},
   "outputs": [
    {
     "data": {
      "text/plain": [
       "0"
      ]
     },
     "execution_count": 22,
     "metadata": {},
     "output_type": "execute_result"
    }
   ],
   "source": [
    "user_to_idx[1]"
   ]
  },
  {
   "cell_type": "code",
   "execution_count": 23,
   "id": "a880bf7d",
   "metadata": {},
   "outputs": [
    {
     "name": "stdout",
     "output_type": "stream",
     "text": [
      "6040\n",
      "915\n",
      "645\n"
     ]
    }
   ],
   "source": [
    "# 인덱싱이 잘 되었는지 확인해 봅니다. \n",
    "print(user_to_idx['zimin'])    # 6040명의 유저 중 마지막으로 추가된 유저이니 6040이 나와야 합니다. \n",
    "# print(movie_id_to_idx[1])\n",
    "print(movie_title_to_id['sabrina (1954)'])\n",
    "print(movie_id_to_idx[movie_title_to_id['sabrina (1954)']])"
   ]
  },
  {
   "cell_type": "code",
   "execution_count": 24,
   "id": "6df8eda4",
   "metadata": {},
   "outputs": [
    {
     "data": {
      "text/html": [
       "<div>\n",
       "<style scoped>\n",
       "    .dataframe tbody tr th:only-of-type {\n",
       "        vertical-align: middle;\n",
       "    }\n",
       "\n",
       "    .dataframe tbody tr th {\n",
       "        vertical-align: top;\n",
       "    }\n",
       "\n",
       "    .dataframe thead th {\n",
       "        text-align: right;\n",
       "    }\n",
       "</style>\n",
       "<table border=\"1\" class=\"dataframe\">\n",
       "  <thead>\n",
       "    <tr style=\"text-align: right;\">\n",
       "      <th></th>\n",
       "      <th>user_id</th>\n",
       "      <th>movie_id</th>\n",
       "      <th>counts</th>\n",
       "      <th>timestamp</th>\n",
       "    </tr>\n",
       "  </thead>\n",
       "  <tbody>\n",
       "    <tr>\n",
       "      <th>1000204</th>\n",
       "      <td>6040</td>\n",
       "      <td>1091</td>\n",
       "      <td>1</td>\n",
       "      <td>956716541.0</td>\n",
       "    </tr>\n",
       "    <tr>\n",
       "      <th>1000205</th>\n",
       "      <td>6040</td>\n",
       "      <td>1094</td>\n",
       "      <td>5</td>\n",
       "      <td>956704887.0</td>\n",
       "    </tr>\n",
       "    <tr>\n",
       "      <th>1000206</th>\n",
       "      <td>6040</td>\n",
       "      <td>562</td>\n",
       "      <td>5</td>\n",
       "      <td>956704746.0</td>\n",
       "    </tr>\n",
       "    <tr>\n",
       "      <th>1000207</th>\n",
       "      <td>6040</td>\n",
       "      <td>1096</td>\n",
       "      <td>4</td>\n",
       "      <td>956715648.0</td>\n",
       "    </tr>\n",
       "    <tr>\n",
       "      <th>1000208</th>\n",
       "      <td>6040</td>\n",
       "      <td>1097</td>\n",
       "      <td>4</td>\n",
       "      <td>956715569.0</td>\n",
       "    </tr>\n",
       "    <tr>\n",
       "      <th>0</th>\n",
       "      <td>zimin</td>\n",
       "      <td>915</td>\n",
       "      <td>4</td>\n",
       "      <td>NaN</td>\n",
       "    </tr>\n",
       "    <tr>\n",
       "      <th>1</th>\n",
       "      <td>zimin</td>\n",
       "      <td>4</td>\n",
       "      <td>4</td>\n",
       "      <td>NaN</td>\n",
       "    </tr>\n",
       "    <tr>\n",
       "      <th>2</th>\n",
       "      <td>zimin</td>\n",
       "      <td>15</td>\n",
       "      <td>4</td>\n",
       "      <td>NaN</td>\n",
       "    </tr>\n",
       "    <tr>\n",
       "      <th>3</th>\n",
       "      <td>zimin</td>\n",
       "      <td>2</td>\n",
       "      <td>4</td>\n",
       "      <td>NaN</td>\n",
       "    </tr>\n",
       "    <tr>\n",
       "      <th>4</th>\n",
       "      <td>zimin</td>\n",
       "      <td>1</td>\n",
       "      <td>4</td>\n",
       "      <td>NaN</td>\n",
       "    </tr>\n",
       "  </tbody>\n",
       "</table>\n",
       "</div>"
      ],
      "text/plain": [
       "        user_id  movie_id  counts    timestamp\n",
       "1000204    6040      1091       1  956716541.0\n",
       "1000205    6040      1094       5  956704887.0\n",
       "1000206    6040       562       5  956704746.0\n",
       "1000207    6040      1096       4  956715648.0\n",
       "1000208    6040      1097       4  956715569.0\n",
       "0         zimin       915       4          NaN\n",
       "1         zimin         4       4          NaN\n",
       "2         zimin        15       4          NaN\n",
       "3         zimin         2       4          NaN\n",
       "4         zimin         1       4          NaN"
      ]
     },
     "execution_count": 24,
     "metadata": {},
     "output_type": "execute_result"
    }
   ],
   "source": [
    "ratings.tail(10)"
   ]
  },
  {
   "cell_type": "code",
   "execution_count": 25,
   "id": "7d9596f4",
   "metadata": {
    "scrolled": true
   },
   "outputs": [
    {
     "name": "stdout",
     "output_type": "stream",
     "text": [
      "user_id column indexing OK!!\n",
      "movie_id column indexing OK!!\n"
     ]
    },
    {
     "data": {
      "text/html": [
       "<div>\n",
       "<style scoped>\n",
       "    .dataframe tbody tr th:only-of-type {\n",
       "        vertical-align: middle;\n",
       "    }\n",
       "\n",
       "    .dataframe tbody tr th {\n",
       "        vertical-align: top;\n",
       "    }\n",
       "\n",
       "    .dataframe thead th {\n",
       "        text-align: right;\n",
       "    }\n",
       "</style>\n",
       "<table border=\"1\" class=\"dataframe\">\n",
       "  <thead>\n",
       "    <tr style=\"text-align: right;\">\n",
       "      <th></th>\n",
       "      <th>user_id</th>\n",
       "      <th>movie_id</th>\n",
       "      <th>counts</th>\n",
       "      <th>timestamp</th>\n",
       "    </tr>\n",
       "  </thead>\n",
       "  <tbody>\n",
       "    <tr>\n",
       "      <th>0</th>\n",
       "      <td>0</td>\n",
       "      <td>0</td>\n",
       "      <td>5</td>\n",
       "      <td>978300760.0</td>\n",
       "    </tr>\n",
       "    <tr>\n",
       "      <th>1</th>\n",
       "      <td>0</td>\n",
       "      <td>1</td>\n",
       "      <td>3</td>\n",
       "      <td>978302109.0</td>\n",
       "    </tr>\n",
       "    <tr>\n",
       "      <th>2</th>\n",
       "      <td>0</td>\n",
       "      <td>2</td>\n",
       "      <td>3</td>\n",
       "      <td>978301968.0</td>\n",
       "    </tr>\n",
       "    <tr>\n",
       "      <th>3</th>\n",
       "      <td>0</td>\n",
       "      <td>3</td>\n",
       "      <td>4</td>\n",
       "      <td>978300275.0</td>\n",
       "    </tr>\n",
       "    <tr>\n",
       "      <th>4</th>\n",
       "      <td>0</td>\n",
       "      <td>4</td>\n",
       "      <td>5</td>\n",
       "      <td>978824291.0</td>\n",
       "    </tr>\n",
       "    <tr>\n",
       "      <th>...</th>\n",
       "      <td>...</td>\n",
       "      <td>...</td>\n",
       "      <td>...</td>\n",
       "      <td>...</td>\n",
       "    </tr>\n",
       "    <tr>\n",
       "      <th>0</th>\n",
       "      <td>6040</td>\n",
       "      <td>645</td>\n",
       "      <td>4</td>\n",
       "      <td>NaN</td>\n",
       "    </tr>\n",
       "    <tr>\n",
       "      <th>1</th>\n",
       "      <td>6040</td>\n",
       "      <td>450</td>\n",
       "      <td>4</td>\n",
       "      <td>NaN</td>\n",
       "    </tr>\n",
       "    <tr>\n",
       "      <th>2</th>\n",
       "      <td>6040</td>\n",
       "      <td>1850</td>\n",
       "      <td>4</td>\n",
       "      <td>NaN</td>\n",
       "    </tr>\n",
       "    <tr>\n",
       "      <th>3</th>\n",
       "      <td>6040</td>\n",
       "      <td>573</td>\n",
       "      <td>4</td>\n",
       "      <td>NaN</td>\n",
       "    </tr>\n",
       "    <tr>\n",
       "      <th>4</th>\n",
       "      <td>6040</td>\n",
       "      <td>40</td>\n",
       "      <td>4</td>\n",
       "      <td>NaN</td>\n",
       "    </tr>\n",
       "  </tbody>\n",
       "</table>\n",
       "<p>1000214 rows × 4 columns</p>\n",
       "</div>"
      ],
      "text/plain": [
       "    user_id  movie_id  counts    timestamp\n",
       "0         0         0       5  978300760.0\n",
       "1         0         1       3  978302109.0\n",
       "2         0         2       3  978301968.0\n",
       "3         0         3       4  978300275.0\n",
       "4         0         4       5  978824291.0\n",
       "..      ...       ...     ...          ...\n",
       "0      6040       645       4          NaN\n",
       "1      6040       450       4          NaN\n",
       "2      6040      1850       4          NaN\n",
       "3      6040       573       4          NaN\n",
       "4      6040        40       4          NaN\n",
       "\n",
       "[1000214 rows x 4 columns]"
      ]
     },
     "execution_count": 25,
     "metadata": {},
     "output_type": "execute_result"
    }
   ],
   "source": [
    "# indexing을 통해 데이터 컬럼 내 값을 바꾸는 코드\n",
    "# dictionary 자료형의 get 함수는 https://wikidocs.net/16 을 참고하세요.\n",
    "\n",
    "# user_to_idx.get을 통해 user_id 컬럼의 모든 값을 인덱싱한 Series를 구해 봅시다. \n",
    "# 혹시 정상적으로 인덱싱되지 않은 row가 있다면 인덱스가 NaN이 될 테니 dropna()로 제거합니다. \n",
    "temp_user_data = ratings['user_id'].map(user_to_idx.get).dropna()\n",
    "if len(temp_user_data) == len(ratings):   # 모든 row가 정상적으로 인덱싱되었다면\n",
    "    print('user_id column indexing OK!!')\n",
    "    ratings['user_id'] = temp_user_data   # data['user_id']을 인덱싱된 Series로 교체해 줍니다. \n",
    "else:\n",
    "    print('user_id column indexing Fail!!')\n",
    "\n",
    "# movie_id_to_idx 통해 movie_id 컬럼도 동일한 방식으로 인덱싱해 줍니다. \n",
    "temp_movie_id_data = ratings['movie_id'].map(movie_id_to_idx.get).dropna()\n",
    "if len(temp_movie_id_data) == len(ratings):\n",
    "    print('movie_id column indexing OK!!')\n",
    "    ratings['movie_id'] = temp_movie_id_data\n",
    "else:\n",
    "    print('movie_id column indexing Fail!!')\n",
    "    \n",
    "ratings.reset_index()    \n",
    "\n",
    "ratings"
   ]
  },
  {
   "cell_type": "markdown",
   "id": "43232b2f",
   "metadata": {},
   "source": [
    "#### 4) CSR matrix를 직접 만들어 봅시다."
   ]
  },
  {
   "cell_type": "code",
   "execution_count": 26,
   "id": "e22a68eb",
   "metadata": {},
   "outputs": [],
   "source": [
    "# 실습 위에 설명보고 이해해서 만들어보기\n",
    "from scipy.sparse import csr_matrix"
   ]
  },
  {
   "cell_type": "code",
   "execution_count": 27,
   "id": "84ab2dbb",
   "metadata": {},
   "outputs": [],
   "source": [
    "num_user  = ratings['user_id'].nunique()\n",
    "num_movie = ratings['movie_id'].nunique()"
   ]
  },
  {
   "cell_type": "code",
   "execution_count": 28,
   "id": "97d33f27",
   "metadata": {},
   "outputs": [],
   "source": [
    "ratings = ratings.reset_index()"
   ]
  },
  {
   "cell_type": "code",
   "execution_count": 29,
   "id": "faa0eb8a",
   "metadata": {},
   "outputs": [
    {
     "data": {
      "text/html": [
       "<div>\n",
       "<style scoped>\n",
       "    .dataframe tbody tr th:only-of-type {\n",
       "        vertical-align: middle;\n",
       "    }\n",
       "\n",
       "    .dataframe tbody tr th {\n",
       "        vertical-align: top;\n",
       "    }\n",
       "\n",
       "    .dataframe thead th {\n",
       "        text-align: right;\n",
       "    }\n",
       "</style>\n",
       "<table border=\"1\" class=\"dataframe\">\n",
       "  <thead>\n",
       "    <tr style=\"text-align: right;\">\n",
       "      <th></th>\n",
       "      <th>index</th>\n",
       "      <th>user_id</th>\n",
       "      <th>movie_id</th>\n",
       "      <th>counts</th>\n",
       "      <th>timestamp</th>\n",
       "    </tr>\n",
       "  </thead>\n",
       "  <tbody>\n",
       "    <tr>\n",
       "      <th>0</th>\n",
       "      <td>0</td>\n",
       "      <td>0</td>\n",
       "      <td>0</td>\n",
       "      <td>5</td>\n",
       "      <td>978300760.0</td>\n",
       "    </tr>\n",
       "    <tr>\n",
       "      <th>1</th>\n",
       "      <td>1</td>\n",
       "      <td>0</td>\n",
       "      <td>1</td>\n",
       "      <td>3</td>\n",
       "      <td>978302109.0</td>\n",
       "    </tr>\n",
       "    <tr>\n",
       "      <th>2</th>\n",
       "      <td>2</td>\n",
       "      <td>0</td>\n",
       "      <td>2</td>\n",
       "      <td>3</td>\n",
       "      <td>978301968.0</td>\n",
       "    </tr>\n",
       "    <tr>\n",
       "      <th>3</th>\n",
       "      <td>3</td>\n",
       "      <td>0</td>\n",
       "      <td>3</td>\n",
       "      <td>4</td>\n",
       "      <td>978300275.0</td>\n",
       "    </tr>\n",
       "    <tr>\n",
       "      <th>4</th>\n",
       "      <td>4</td>\n",
       "      <td>0</td>\n",
       "      <td>4</td>\n",
       "      <td>5</td>\n",
       "      <td>978824291.0</td>\n",
       "    </tr>\n",
       "    <tr>\n",
       "      <th>...</th>\n",
       "      <td>...</td>\n",
       "      <td>...</td>\n",
       "      <td>...</td>\n",
       "      <td>...</td>\n",
       "      <td>...</td>\n",
       "    </tr>\n",
       "    <tr>\n",
       "      <th>1000209</th>\n",
       "      <td>0</td>\n",
       "      <td>6040</td>\n",
       "      <td>645</td>\n",
       "      <td>4</td>\n",
       "      <td>NaN</td>\n",
       "    </tr>\n",
       "    <tr>\n",
       "      <th>1000210</th>\n",
       "      <td>1</td>\n",
       "      <td>6040</td>\n",
       "      <td>450</td>\n",
       "      <td>4</td>\n",
       "      <td>NaN</td>\n",
       "    </tr>\n",
       "    <tr>\n",
       "      <th>1000211</th>\n",
       "      <td>2</td>\n",
       "      <td>6040</td>\n",
       "      <td>1850</td>\n",
       "      <td>4</td>\n",
       "      <td>NaN</td>\n",
       "    </tr>\n",
       "    <tr>\n",
       "      <th>1000212</th>\n",
       "      <td>3</td>\n",
       "      <td>6040</td>\n",
       "      <td>573</td>\n",
       "      <td>4</td>\n",
       "      <td>NaN</td>\n",
       "    </tr>\n",
       "    <tr>\n",
       "      <th>1000213</th>\n",
       "      <td>4</td>\n",
       "      <td>6040</td>\n",
       "      <td>40</td>\n",
       "      <td>4</td>\n",
       "      <td>NaN</td>\n",
       "    </tr>\n",
       "  </tbody>\n",
       "</table>\n",
       "<p>1000214 rows × 5 columns</p>\n",
       "</div>"
      ],
      "text/plain": [
       "         index  user_id  movie_id  counts    timestamp\n",
       "0            0        0         0       5  978300760.0\n",
       "1            1        0         1       3  978302109.0\n",
       "2            2        0         2       3  978301968.0\n",
       "3            3        0         3       4  978300275.0\n",
       "4            4        0         4       5  978824291.0\n",
       "...        ...      ...       ...     ...          ...\n",
       "1000209      0     6040       645       4          NaN\n",
       "1000210      1     6040       450       4          NaN\n",
       "1000211      2     6040      1850       4          NaN\n",
       "1000212      3     6040       573       4          NaN\n",
       "1000213      4     6040        40       4          NaN\n",
       "\n",
       "[1000214 rows x 5 columns]"
      ]
     },
     "execution_count": 29,
     "metadata": {},
     "output_type": "execute_result"
    }
   ],
   "source": [
    "ratings"
   ]
  },
  {
   "cell_type": "code",
   "execution_count": 30,
   "id": "4301a053",
   "metadata": {},
   "outputs": [],
   "source": [
    "del ratings['index']"
   ]
  },
  {
   "cell_type": "code",
   "execution_count": 31,
   "id": "8488d0f5",
   "metadata": {},
   "outputs": [
    {
     "data": {
      "text/html": [
       "<div>\n",
       "<style scoped>\n",
       "    .dataframe tbody tr th:only-of-type {\n",
       "        vertical-align: middle;\n",
       "    }\n",
       "\n",
       "    .dataframe tbody tr th {\n",
       "        vertical-align: top;\n",
       "    }\n",
       "\n",
       "    .dataframe thead th {\n",
       "        text-align: right;\n",
       "    }\n",
       "</style>\n",
       "<table border=\"1\" class=\"dataframe\">\n",
       "  <thead>\n",
       "    <tr style=\"text-align: right;\">\n",
       "      <th></th>\n",
       "      <th>user_id</th>\n",
       "      <th>movie_id</th>\n",
       "      <th>counts</th>\n",
       "      <th>timestamp</th>\n",
       "    </tr>\n",
       "  </thead>\n",
       "  <tbody>\n",
       "    <tr>\n",
       "      <th>0</th>\n",
       "      <td>0</td>\n",
       "      <td>0</td>\n",
       "      <td>5</td>\n",
       "      <td>978300760.0</td>\n",
       "    </tr>\n",
       "    <tr>\n",
       "      <th>1</th>\n",
       "      <td>0</td>\n",
       "      <td>1</td>\n",
       "      <td>3</td>\n",
       "      <td>978302109.0</td>\n",
       "    </tr>\n",
       "    <tr>\n",
       "      <th>2</th>\n",
       "      <td>0</td>\n",
       "      <td>2</td>\n",
       "      <td>3</td>\n",
       "      <td>978301968.0</td>\n",
       "    </tr>\n",
       "    <tr>\n",
       "      <th>3</th>\n",
       "      <td>0</td>\n",
       "      <td>3</td>\n",
       "      <td>4</td>\n",
       "      <td>978300275.0</td>\n",
       "    </tr>\n",
       "    <tr>\n",
       "      <th>4</th>\n",
       "      <td>0</td>\n",
       "      <td>4</td>\n",
       "      <td>5</td>\n",
       "      <td>978824291.0</td>\n",
       "    </tr>\n",
       "    <tr>\n",
       "      <th>...</th>\n",
       "      <td>...</td>\n",
       "      <td>...</td>\n",
       "      <td>...</td>\n",
       "      <td>...</td>\n",
       "    </tr>\n",
       "    <tr>\n",
       "      <th>1000209</th>\n",
       "      <td>6040</td>\n",
       "      <td>645</td>\n",
       "      <td>4</td>\n",
       "      <td>NaN</td>\n",
       "    </tr>\n",
       "    <tr>\n",
       "      <th>1000210</th>\n",
       "      <td>6040</td>\n",
       "      <td>450</td>\n",
       "      <td>4</td>\n",
       "      <td>NaN</td>\n",
       "    </tr>\n",
       "    <tr>\n",
       "      <th>1000211</th>\n",
       "      <td>6040</td>\n",
       "      <td>1850</td>\n",
       "      <td>4</td>\n",
       "      <td>NaN</td>\n",
       "    </tr>\n",
       "    <tr>\n",
       "      <th>1000212</th>\n",
       "      <td>6040</td>\n",
       "      <td>573</td>\n",
       "      <td>4</td>\n",
       "      <td>NaN</td>\n",
       "    </tr>\n",
       "    <tr>\n",
       "      <th>1000213</th>\n",
       "      <td>6040</td>\n",
       "      <td>40</td>\n",
       "      <td>4</td>\n",
       "      <td>NaN</td>\n",
       "    </tr>\n",
       "  </tbody>\n",
       "</table>\n",
       "<p>1000214 rows × 4 columns</p>\n",
       "</div>"
      ],
      "text/plain": [
       "         user_id  movie_id  counts    timestamp\n",
       "0              0         0       5  978300760.0\n",
       "1              0         1       3  978302109.0\n",
       "2              0         2       3  978301968.0\n",
       "3              0         3       4  978300275.0\n",
       "4              0         4       5  978824291.0\n",
       "...          ...       ...     ...          ...\n",
       "1000209     6040       645       4          NaN\n",
       "1000210     6040       450       4          NaN\n",
       "1000211     6040      1850       4          NaN\n",
       "1000212     6040       573       4          NaN\n",
       "1000213     6040        40       4          NaN\n",
       "\n",
       "[1000214 rows x 4 columns]"
      ]
     },
     "execution_count": 31,
     "metadata": {},
     "output_type": "execute_result"
    }
   ],
   "source": [
    "ratings"
   ]
  },
  {
   "cell_type": "code",
   "execution_count": 32,
   "id": "650fce5b",
   "metadata": {},
   "outputs": [
    {
     "data": {
      "text/plain": [
       "0             0\n",
       "1             0\n",
       "2             0\n",
       "3             0\n",
       "4             0\n",
       "           ... \n",
       "1000209    6040\n",
       "1000210    6040\n",
       "1000211    6040\n",
       "1000212    6040\n",
       "1000213    6040\n",
       "Name: user_id, Length: 1000214, dtype: int64"
      ]
     },
     "execution_count": 32,
     "metadata": {},
     "output_type": "execute_result"
    }
   ],
   "source": [
    "ratings.user_id"
   ]
  },
  {
   "cell_type": "code",
   "execution_count": 33,
   "id": "910fa969",
   "metadata": {},
   "outputs": [
    {
     "data": {
      "text/plain": [
       "6041"
      ]
     },
     "execution_count": 33,
     "metadata": {},
     "output_type": "execute_result"
    }
   ],
   "source": [
    "num_user"
   ]
  },
  {
   "cell_type": "code",
   "execution_count": 34,
   "id": "0f3b9e98",
   "metadata": {},
   "outputs": [
    {
     "data": {
      "text/plain": [
       "0             0\n",
       "1             1\n",
       "2             2\n",
       "3             3\n",
       "4             4\n",
       "           ... \n",
       "1000209     645\n",
       "1000210     450\n",
       "1000211    1850\n",
       "1000212     573\n",
       "1000213      40\n",
       "Name: movie_id, Length: 1000214, dtype: int64"
      ]
     },
     "execution_count": 34,
     "metadata": {},
     "output_type": "execute_result"
    }
   ],
   "source": [
    "ratings.movie_id"
   ]
  },
  {
   "cell_type": "code",
   "execution_count": 35,
   "id": "e7a1675a",
   "metadata": {},
   "outputs": [
    {
     "data": {
      "text/plain": [
       "3706"
      ]
     },
     "execution_count": 35,
     "metadata": {},
     "output_type": "execute_result"
    }
   ],
   "source": [
    "num_movie"
   ]
  },
  {
   "cell_type": "code",
   "execution_count": 36,
   "id": "84daaa9c",
   "metadata": {},
   "outputs": [
    {
     "data": {
      "text/plain": [
       "3706"
      ]
     },
     "execution_count": 36,
     "metadata": {},
     "output_type": "execute_result"
    }
   ],
   "source": [
    "ratings['movie_id'].nunique()"
   ]
  },
  {
   "cell_type": "code",
   "execution_count": 37,
   "id": "1dbe1c71",
   "metadata": {},
   "outputs": [
    {
     "data": {
      "text/plain": [
       "0             0\n",
       "1             0\n",
       "2             0\n",
       "3             0\n",
       "4             0\n",
       "           ... \n",
       "1000209    6040\n",
       "1000210    6040\n",
       "1000211    6040\n",
       "1000212    6040\n",
       "1000213    6040\n",
       "Name: user_id, Length: 1000214, dtype: int64"
      ]
     },
     "execution_count": 37,
     "metadata": {},
     "output_type": "execute_result"
    }
   ],
   "source": [
    "ratings.user_id"
   ]
  },
  {
   "cell_type": "code",
   "execution_count": 38,
   "id": "c6c63d80",
   "metadata": {},
   "outputs": [
    {
     "data": {
      "text/plain": [
       "0          5\n",
       "1          3\n",
       "2          3\n",
       "3          4\n",
       "4          5\n",
       "          ..\n",
       "1000209    4\n",
       "1000210    4\n",
       "1000211    4\n",
       "1000212    4\n",
       "1000213    4\n",
       "Name: counts, Length: 1000214, dtype: int64"
      ]
     },
     "execution_count": 38,
     "metadata": {},
     "output_type": "execute_result"
    }
   ],
   "source": [
    "ratings.counts"
   ]
  },
  {
   "cell_type": "code",
   "execution_count": 39,
   "id": "c945e4f3",
   "metadata": {},
   "outputs": [
    {
     "data": {
      "text/plain": [
       "<6041x3706 sparse matrix of type '<class 'numpy.int64'>'\n",
       "\twith 1000214 stored elements in Compressed Sparse Row format>"
      ]
     },
     "execution_count": 39,
     "metadata": {},
     "output_type": "execute_result"
    }
   ],
   "source": [
    "csr_data =   csr_matrix((ratings.counts, (ratings.user_id, ratings.movie_id)), shape= (num_user, num_movie))\n",
    "csr_data"
   ]
  },
  {
   "cell_type": "markdown",
   "id": "c9c72665",
   "metadata": {},
   "source": [
    "#### 5) als_model = AlternatingLeastSquares 모델을 직접 구성하여 훈련시켜 봅시다."
   ]
  },
  {
   "cell_type": "code",
   "execution_count": 40,
   "id": "5be92636",
   "metadata": {},
   "outputs": [],
   "source": [
    "from implicit.als import AlternatingLeastSquares\n",
    "import os\n",
    "import numpy as np\n",
    "\n",
    "# implicit 라이브러리에서 권장하고 있는 부분입니다. 학습 내용과는 무관합니다.\n",
    "os.environ['OPENBLAS_NUM_THREADS']='1'\n",
    "os.environ['KMP_DUPLICATE_LIB_OK']='True'\n",
    "os.environ['MKL_NUM_THREADS']='1'"
   ]
  },
  {
   "cell_type": "code",
   "execution_count": 41,
   "id": "fa42b741",
   "metadata": {},
   "outputs": [],
   "source": [
    "# Implicit AlternatingLeastSquares 모델의 선언\n",
    "als_model = AlternatingLeastSquares(factors=100, regularization=0.01, use_gpu=False, iterations=15, dtype=np.float32)"
   ]
  },
  {
   "cell_type": "code",
   "execution_count": 42,
   "id": "e3a6b4ec",
   "metadata": {},
   "outputs": [
    {
     "data": {
      "text/plain": [
       "<3706x6041 sparse matrix of type '<class 'numpy.int64'>'\n",
       "\twith 1000214 stored elements in Compressed Sparse Column format>"
      ]
     },
     "execution_count": 42,
     "metadata": {},
     "output_type": "execute_result"
    }
   ],
   "source": [
    "# als 모델은 input으로 (item X user 꼴의 matrix를 받기 때문에 Transpose해줍니다.)\n",
    "csr_data_transpose = csr_data.T\n",
    "csr_data_transpose"
   ]
  },
  {
   "cell_type": "code",
   "execution_count": 43,
   "id": "07004499",
   "metadata": {},
   "outputs": [
    {
     "data": {
      "application/vnd.jupyter.widget-view+json": {
       "model_id": "25340fd32fe14078b5123eda4a98de0c",
       "version_major": 2,
       "version_minor": 0
      },
      "text/plain": [
       "  0%|          | 0/15 [00:00<?, ?it/s]"
      ]
     },
     "metadata": {},
     "output_type": "display_data"
    }
   ],
   "source": [
    "# 모델 훈련\n",
    "als_model.fit(csr_data_transpose)"
   ]
  },
  {
   "cell_type": "code",
   "execution_count": 44,
   "id": "e06abba8",
   "metadata": {},
   "outputs": [],
   "source": [
    "zimin, sabrina = user_to_idx['zimin'], movie_id_to_idx[movie_title_to_id['sabrina (1954)']]\n",
    "zimin_vector, sabrina_vector = als_model.user_factors[zimin], als_model.item_factors[sabrina]"
   ]
  },
  {
   "cell_type": "code",
   "execution_count": 45,
   "id": "f4d5c170",
   "metadata": {},
   "outputs": [
    {
     "data": {
      "text/plain": [
       "array([-0.51715946, -0.24762626,  0.3747106 ,  0.0819497 ,  0.24092692,\n",
       "        0.7544373 , -0.16282345, -0.08713497, -0.03065275,  0.32087794,\n",
       "        0.32571507, -0.25561023,  0.40749204,  0.24762632, -0.2807281 ,\n",
       "       -0.65648115,  0.29927614,  0.08306719,  0.0869378 , -0.4727874 ,\n",
       "        0.56596303,  0.1146056 ,  0.3446015 ,  0.6645778 ,  0.3584802 ,\n",
       "       -0.27236456, -0.3160228 , -0.34593803, -0.0787219 ,  0.03066489,\n",
       "        0.24592912,  0.02048984,  0.126095  ,  0.19001126, -0.28840685,\n",
       "       -0.46237257,  0.03316931, -0.6005802 ,  0.22283913,  0.5193777 ,\n",
       "       -0.12522696, -0.5094703 ,  0.3433442 , -0.14453626, -0.18188511,\n",
       "        0.06980613, -0.02567998, -0.53100437, -0.1193027 , -0.287075  ,\n",
       "       -0.21287015,  0.2591871 , -0.0517579 ,  0.40927485,  0.21852416,\n",
       "       -0.25966582,  0.30529892,  0.22585095, -0.14122446, -0.10046311,\n",
       "        0.07176586,  0.00579611,  0.08017123,  0.40582314,  0.08059112,\n",
       "        0.2657594 ,  0.32507646, -0.12288641,  0.29998416, -0.2751855 ,\n",
       "       -0.6376018 , -0.12365348, -0.20587306, -0.41760716,  0.41310304,\n",
       "       -0.4327482 ,  0.53437775,  0.57797843, -0.1547701 , -0.20554455,\n",
       "        0.02285726, -0.13739906,  0.35308763,  0.39592147,  0.07177695,\n",
       "       -0.01312348,  0.35130435, -0.03587444, -0.28654143,  0.3564972 ,\n",
       "       -0.64965945,  0.01403202,  0.36405438, -0.50569755, -0.21514611,\n",
       "       -0.16082703,  0.15208009, -0.1623906 , -0.11083409,  0.3641945 ],\n",
       "      dtype=float32)"
      ]
     },
     "execution_count": 45,
     "metadata": {},
     "output_type": "execute_result"
    }
   ],
   "source": [
    "als_model.user_factors[zimin]"
   ]
  },
  {
   "cell_type": "code",
   "execution_count": 46,
   "id": "dc1a382c",
   "metadata": {},
   "outputs": [
    {
     "data": {
      "text/plain": [
       "array([-0.51715946, -0.24762626,  0.3747106 ,  0.0819497 ,  0.24092692,\n",
       "        0.7544373 , -0.16282345, -0.08713497, -0.03065275,  0.32087794,\n",
       "        0.32571507, -0.25561023,  0.40749204,  0.24762632, -0.2807281 ,\n",
       "       -0.65648115,  0.29927614,  0.08306719,  0.0869378 , -0.4727874 ,\n",
       "        0.56596303,  0.1146056 ,  0.3446015 ,  0.6645778 ,  0.3584802 ,\n",
       "       -0.27236456, -0.3160228 , -0.34593803, -0.0787219 ,  0.03066489,\n",
       "        0.24592912,  0.02048984,  0.126095  ,  0.19001126, -0.28840685,\n",
       "       -0.46237257,  0.03316931, -0.6005802 ,  0.22283913,  0.5193777 ,\n",
       "       -0.12522696, -0.5094703 ,  0.3433442 , -0.14453626, -0.18188511,\n",
       "        0.06980613, -0.02567998, -0.53100437, -0.1193027 , -0.287075  ,\n",
       "       -0.21287015,  0.2591871 , -0.0517579 ,  0.40927485,  0.21852416,\n",
       "       -0.25966582,  0.30529892,  0.22585095, -0.14122446, -0.10046311,\n",
       "        0.07176586,  0.00579611,  0.08017123,  0.40582314,  0.08059112,\n",
       "        0.2657594 ,  0.32507646, -0.12288641,  0.29998416, -0.2751855 ,\n",
       "       -0.6376018 , -0.12365348, -0.20587306, -0.41760716,  0.41310304,\n",
       "       -0.4327482 ,  0.53437775,  0.57797843, -0.1547701 , -0.20554455,\n",
       "        0.02285726, -0.13739906,  0.35308763,  0.39592147,  0.07177695,\n",
       "       -0.01312348,  0.35130435, -0.03587444, -0.28654143,  0.3564972 ,\n",
       "       -0.64965945,  0.01403202,  0.36405438, -0.50569755, -0.21514611,\n",
       "       -0.16082703,  0.15208009, -0.1623906 , -0.11083409,  0.3641945 ],\n",
       "      dtype=float32)"
      ]
     },
     "execution_count": 46,
     "metadata": {},
     "output_type": "execute_result"
    }
   ],
   "source": [
    "zimin_vector"
   ]
  },
  {
   "cell_type": "code",
   "execution_count": 47,
   "id": "32bca6a2",
   "metadata": {},
   "outputs": [
    {
     "data": {
      "text/plain": [
       "array([ 0.00459346, -0.00755392,  0.00682628, -0.00632222,  0.00589759,\n",
       "        0.01235236,  0.01256577,  0.01652021,  0.02365196,  0.02172532,\n",
       "        0.01125556, -0.00109858,  0.0098776 ,  0.01671609,  0.00870873,\n",
       "       -0.00502597,  0.00457401,  0.00818648, -0.00718272, -0.00620245,\n",
       "        0.01557232,  0.00991896, -0.00612196, -0.00149567, -0.00397076,\n",
       "        0.01589192,  0.02040808, -0.00916238,  0.00805778, -0.00281231,\n",
       "        0.01359624, -0.00781282, -0.00618514, -0.00497466,  0.01981206,\n",
       "        0.00645103,  0.00816534, -0.01610483,  0.00268725,  0.00379285,\n",
       "        0.00024871,  0.00675448,  0.00217461,  0.00497838, -0.02027326,\n",
       "        0.00061117,  0.0080498 , -0.00178127,  0.01370111,  0.0148245 ,\n",
       "       -0.00497884,  0.0105275 , -0.02372598, -0.00042458,  0.00973478,\n",
       "        0.01868224,  0.00337359, -0.00089508,  0.00509249,  0.02908048,\n",
       "       -0.01421601,  0.00890952,  0.00633349,  0.00373792, -0.00454124,\n",
       "        0.00478249, -0.00629784,  0.02092574,  0.01696524,  0.00700078,\n",
       "        0.01440164, -0.00486299,  0.01133665, -0.01350575,  0.01126512,\n",
       "       -0.00787302,  0.0319047 ,  0.02411665, -0.01875671, -0.00138716,\n",
       "       -0.0021011 ,  0.00607481,  0.00586807,  0.00318666,  0.01218463,\n",
       "       -0.0062393 ,  0.00648188,  0.00484023, -0.01252229,  0.01340679,\n",
       "       -0.01744772,  0.02067522,  0.01515941, -0.00897554, -0.01386912,\n",
       "        0.00018903,  0.00791707,  0.00034202, -0.02225619,  0.02059681],\n",
       "      dtype=float32)"
      ]
     },
     "execution_count": 47,
     "metadata": {},
     "output_type": "execute_result"
    }
   ],
   "source": [
    "sabrina_vector"
   ]
  },
  {
   "cell_type": "code",
   "execution_count": 48,
   "id": "820392a7",
   "metadata": {},
   "outputs": [
    {
     "data": {
      "text/plain": [
       "0.11626412"
      ]
     },
     "execution_count": 48,
     "metadata": {},
     "output_type": "execute_result"
    }
   ],
   "source": [
    "# zimin과 sabrina_vector를 내적하는 코드\n",
    "np.dot(zimin_vector, sabrina_vector)"
   ]
  },
  {
   "cell_type": "markdown",
   "id": "562007c3",
   "metadata": {},
   "source": [
    "#### 6) 내가 선호하는 5가지 영화 중 하나와 그 외의 영화 하나를 골라 훈련된 모델이 예측한 나의 선호도를 파악해 보세요."
   ]
  },
  {
   "cell_type": "markdown",
   "id": "22169931",
   "metadata": {},
   "source": [
    "선호하는 5가지 영화 중 하나. 훈련된 모델이 예측한 나의 선호도"
   ]
  },
  {
   "cell_type": "code",
   "execution_count": 49,
   "id": "9f79a9bc",
   "metadata": {},
   "outputs": [
    {
     "data": {
      "text/plain": [
       "0.39778548"
      ]
     },
     "execution_count": 49,
     "metadata": {},
     "output_type": "execute_result"
    }
   ],
   "source": [
    "zimin, toy_story = user_to_idx['zimin'], movie_id_to_idx[movie_title_to_id['toy story (1995)']]\n",
    "zimin_vector, toy_story_vector = als_model.user_factors[zimin], als_model.item_factors[toy_story]\n",
    "np.dot(zimin_vector, toy_story_vector)\n"
   ]
  },
  {
   "cell_type": "markdown",
   "id": "d9095382",
   "metadata": {},
   "source": [
    " 그 외의 영화 하나. 훈련된 모델이 예측한 나의 선호도"
   ]
  },
  {
   "cell_type": "code",
   "execution_count": 50,
   "id": "ce622af9",
   "metadata": {},
   "outputs": [
    {
     "data": {
      "text/plain": [
       "0.0138608655"
      ]
     },
     "execution_count": 50,
     "metadata": {},
     "output_type": "execute_result"
    }
   ],
   "source": [
    "zimin, father_of_the_bride = user_to_idx['zimin'], movie_id_to_idx[movie_title_to_id['father of the bride part ii (1995)']]\n",
    "zimin_vector, father_of_the_bride_vector = als_model.user_factors[zimin], als_model.item_factors[father_of_the_bride]\n",
    "np.dot(zimin_vector, father_of_the_bride_vector)"
   ]
  },
  {
   "cell_type": "markdown",
   "id": "c1a7de30",
   "metadata": {},
   "source": [
    "#### 7) 내가 좋아하는 영화와 비슷한 영화를 추천받아 봅시다."
   ]
  },
  {
   "cell_type": "code",
   "execution_count": 51,
   "id": "8299d52c",
   "metadata": {},
   "outputs": [
    {
     "data": {
      "text/plain": [
       "[(645, 0.9999999),\n",
       " (648, 0.8155113),\n",
       " (708, 0.71026844),\n",
       " (1503, 0.68105763),\n",
       " (1260, 0.6686158),\n",
       " (723, 0.6561707),\n",
       " (684, 0.60866153),\n",
       " (1794, 0.58658075),\n",
       " (1778, 0.57262677),\n",
       " (82, 0.5654669),\n",
       " (1465, 0.5473478),\n",
       " (679, 0.54496163),\n",
       " (1460, 0.5316141),\n",
       " (1451, 0.52181613),\n",
       " (2087, 0.49114686)]"
      ]
     },
     "execution_count": 51,
     "metadata": {},
     "output_type": "execute_result"
    }
   ],
   "source": [
    "similar_movies = als_model.similar_items(sabrina, N=15)\n",
    "similar_movies"
   ]
  },
  {
   "cell_type": "code",
   "execution_count": 52,
   "id": "69f9b3e1",
   "metadata": {},
   "outputs": [
    {
     "data": {
      "text/plain": [
       "['sabrina (1954)',\n",
       " 'roman holiday (1953)',\n",
       " 'shop around the corner, the (1940)',\n",
       " 'to catch a thief (1955)',\n",
       " 'charade (1963)',\n",
       " 'philadelphia story, the (1940)',\n",
       " 'ghost and mrs. muir, the (1947)',\n",
       " 'quiet man, the (1952)',\n",
       " 'love in the afternoon (1957)',\n",
       " \"breakfast at tiffany's (1961)\",\n",
       " 'rebecca (1940)',\n",
       " 'affair to remember, an (1957)',\n",
       " 'funny face (1957)',\n",
       " 'notorious (1946)',\n",
       " 'penny serenade (1941)']"
      ]
     },
     "execution_count": 52,
     "metadata": {},
     "output_type": "execute_result"
    }
   ],
   "source": [
    "#movie_id_to_idx 를 뒤집어, index로부터 artist 이름을 얻는 dict를 생성합니다. \n",
    "idx_to_movie_id = {v:k for k,v in movie_id_to_idx.items()}\n",
    "id_to_movie_title = {v:k for k,v in movie_title_to_id.items()}\n",
    "\n",
    "[id_to_movie_title[idx_to_movie_id[i[0]]] for i in similar_movies]\n"
   ]
  },
  {
   "cell_type": "markdown",
   "id": "c9638d14",
   "metadata": {},
   "source": [
    "#### 8) 내가 가장 좋아할 만한 영화들을 추천받아 봅시다."
   ]
  },
  {
   "cell_type": "code",
   "execution_count": 53,
   "id": "29e8d3cc",
   "metadata": {},
   "outputs": [
    {
     "data": {
      "text/plain": [
       "[(50, 0.42489594),\n",
       " (4, 0.23430826),\n",
       " (381, 0.21100277),\n",
       " (852, 0.16872017),\n",
       " (514, 0.16803575),\n",
       " (606, 0.16732475),\n",
       " (741, 0.16656825),\n",
       " (656, 0.15536919),\n",
       " (187, 0.1544433),\n",
       " (82, 0.1447764),\n",
       " (939, 0.14281452),\n",
       " (33, 0.13604116),\n",
       " (723, 0.12965512),\n",
       " (648, 0.12821499),\n",
       " (568, 0.12570554),\n",
       " (116, 0.124357335),\n",
       " (1066, 0.124028906),\n",
       " (1037, 0.12218085),\n",
       " (673, 0.11913615),\n",
       " (678, 0.11835116)]"
      ]
     },
     "execution_count": 53,
     "metadata": {},
     "output_type": "execute_result"
    }
   ],
   "source": [
    "user = user_to_idx['zimin']\n",
    "# recommend에서는 user*item CSR Matrix를 받습니다.\n",
    "movies_recommended = als_model.recommend(user, csr_data, N=20, filter_already_liked_items=True)\n",
    "movies_recommended"
   ]
  },
  {
   "cell_type": "code",
   "execution_count": 54,
   "id": "f3017b43",
   "metadata": {},
   "outputs": [
    {
     "data": {
      "text/plain": [
       "['toy story 2 (1999)',\n",
       " \"bug's life, a (1998)\",\n",
       " 'babe (1995)',\n",
       " 'indian in the cupboard, the (1995)',\n",
       " 'mask, the (1994)',\n",
       " 'santa clause, the (1994)',\n",
       " 'willy wonka and the chocolate factory (1971)',\n",
       " 'hook (1991)',\n",
       " 'dragonheart (1996)',\n",
       " \"breakfast at tiffany's (1961)\",\n",
       " 'iron giant, the (1999)',\n",
       " 'aladdin (1992)',\n",
       " 'philadelphia story, the (1940)',\n",
       " 'roman holiday (1953)',\n",
       " 'teenage mutant ninja turtles (1990)',\n",
       " 'groundhog day (1993)',\n",
       " 'toys (1992)',\n",
       " 'legend (1985)',\n",
       " 'labyrinth (1986)',\n",
       " 'willow (1988)']"
      ]
     },
     "execution_count": 54,
     "metadata": {},
     "output_type": "execute_result"
    }
   ],
   "source": [
    "[id_to_movie_title[idx_to_movie_id[i[0]]] for i in movies_recommended]"
   ]
  },
  {
   "cell_type": "markdown",
   "id": "c556fb08",
   "metadata": {},
   "source": [
    "#### 후기  \n",
    "집에 있는 파이썬이 오동작을 일으켜서 시간이 많이 걸렸다. 다 밀어버릴거다.  \n",
    "데이터에 있는 인덱스를 사용하려고 해봤는데 오류가 떴다. 인덱스에 인덱스를 메겨서 돌려야 했다.\n"
   ]
  },
  {
   "cell_type": "code",
   "execution_count": null,
   "id": "de58895f",
   "metadata": {},
   "outputs": [],
   "source": []
  }
 ],
 "metadata": {
  "kernelspec": {
   "display_name": "Python 3 (ipykernel)",
   "language": "python",
   "name": "python3"
  },
  "language_info": {
   "codemirror_mode": {
    "name": "ipython",
    "version": 3
   },
   "file_extension": ".py",
   "mimetype": "text/x-python",
   "name": "python",
   "nbconvert_exporter": "python",
   "pygments_lexer": "ipython3",
   "version": "3.9.7"
  }
 },
 "nbformat": 4,
 "nbformat_minor": 5
}
