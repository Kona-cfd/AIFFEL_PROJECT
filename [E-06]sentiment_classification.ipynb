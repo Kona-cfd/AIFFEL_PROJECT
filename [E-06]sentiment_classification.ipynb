{
 "cells": [
  {
   "cell_type": "code",
   "execution_count": null,
   "id": "cfcda87c",
   "metadata": {},
   "outputs": [],
   "source": [
    "!pip show gensim"
   ]
  },
  {
   "cell_type": "code",
   "execution_count": null,
   "id": "b6622ff9",
   "metadata": {},
   "outputs": [],
   "source": [
    "!pip install --upgrade gensim==3.8.3"
   ]
  },
  {
   "cell_type": "code",
   "execution_count": 1,
   "id": "b5a3d8e8",
   "metadata": {},
   "outputs": [],
   "source": [
    "import pandas as pd\n",
    "import numpy as np\n",
    "import tensorflow as tf\n",
    "from pathlib import Path\n",
    "\n",
    "import gensim\n",
    "from gensim.models import KeyedVectors\n",
    "\n",
    "from konlpy.tag import Mecab\n",
    "import numpy as np\n",
    "from collections import Counter\n",
    "import re\n",
    "\n"
   ]
  },
  {
   "cell_type": "markdown",
   "id": "9973a207",
   "metadata": {},
   "source": [
    "### 1) 데이터 준비와 확인"
   ]
  },
  {
   "cell_type": "code",
   "execution_count": 2,
   "id": "78645f98",
   "metadata": {},
   "outputs": [
    {
     "data": {
      "text/html": [
       "<div>\n",
       "<style scoped>\n",
       "    .dataframe tbody tr th:only-of-type {\n",
       "        vertical-align: middle;\n",
       "    }\n",
       "\n",
       "    .dataframe tbody tr th {\n",
       "        vertical-align: top;\n",
       "    }\n",
       "\n",
       "    .dataframe thead th {\n",
       "        text-align: right;\n",
       "    }\n",
       "</style>\n",
       "<table border=\"1\" class=\"dataframe\">\n",
       "  <thead>\n",
       "    <tr style=\"text-align: right;\">\n",
       "      <th></th>\n",
       "      <th>id</th>\n",
       "      <th>document</th>\n",
       "      <th>label</th>\n",
       "    </tr>\n",
       "  </thead>\n",
       "  <tbody>\n",
       "    <tr>\n",
       "      <th>0</th>\n",
       "      <td>9976970</td>\n",
       "      <td>아 더빙.. 진짜 짜증나네요 목소리</td>\n",
       "      <td>0</td>\n",
       "    </tr>\n",
       "    <tr>\n",
       "      <th>1</th>\n",
       "      <td>3819312</td>\n",
       "      <td>흠...포스터보고 초딩영화줄....오버연기조차 가볍지 않구나</td>\n",
       "      <td>1</td>\n",
       "    </tr>\n",
       "    <tr>\n",
       "      <th>2</th>\n",
       "      <td>10265843</td>\n",
       "      <td>너무재밓었다그래서보는것을추천한다</td>\n",
       "      <td>0</td>\n",
       "    </tr>\n",
       "    <tr>\n",
       "      <th>3</th>\n",
       "      <td>9045019</td>\n",
       "      <td>교도소 이야기구먼 ..솔직히 재미는 없다..평점 조정</td>\n",
       "      <td>0</td>\n",
       "    </tr>\n",
       "    <tr>\n",
       "      <th>4</th>\n",
       "      <td>6483659</td>\n",
       "      <td>사이몬페그의 익살스런 연기가 돋보였던 영화!스파이더맨에서 늙어보이기만 했던 커스틴 ...</td>\n",
       "      <td>1</td>\n",
       "    </tr>\n",
       "  </tbody>\n",
       "</table>\n",
       "</div>"
      ],
      "text/plain": [
       "         id                                           document  label\n",
       "0   9976970                                아 더빙.. 진짜 짜증나네요 목소리      0\n",
       "1   3819312                  흠...포스터보고 초딩영화줄....오버연기조차 가볍지 않구나      1\n",
       "2  10265843                                  너무재밓었다그래서보는것을추천한다      0\n",
       "3   9045019                      교도소 이야기구먼 ..솔직히 재미는 없다..평점 조정      0\n",
       "4   6483659  사이몬페그의 익살스런 연기가 돋보였던 영화!스파이더맨에서 늙어보이기만 했던 커스틴 ...      1"
      ]
     },
     "execution_count": 2,
     "metadata": {},
     "output_type": "execute_result"
    }
   ],
   "source": [
    "from pathlib import Path\n",
    "directory = Path.joinpath(Path.cwd(),'data')\n",
    "\n",
    "filename = 'ko.bin' # Filename\n",
    "word2vec_file_path  = Path.joinpath(directory,filename)\n",
    "word2vec = gensim.models.Word2Vec.load(str(word2vec_file_path))\n",
    "\n",
    "# 데이터를 읽어봅시다. \n",
    "train_data_path = Path.joinpath(directory, 'ratings_train.txt')\n",
    "test_data_path  = Path.joinpath(directory, 'ratings_test.txt')\n",
    "\n",
    "train_data      = pd.read_table(train_data_path)\n",
    "test_data       = pd.read_table(test_data_path)\n",
    "\n",
    "train_data.head()"
   ]
  },
  {
   "cell_type": "code",
   "execution_count": 3,
   "id": "8d72332e",
   "metadata": {},
   "outputs": [
    {
     "name": "stdout",
     "output_type": "stream",
     "text": [
      "7681\n"
     ]
    }
   ],
   "source": [
    "vocab_size      = 10000    # 어휘 사전의 크기입니다(10,000개의 단어)\n",
    "word_vector_dim = 200      # 워드 벡터의 차원 수 (변경 가능한 하이퍼파라미터)\n",
    "BUFFER_SIZE     = 10000\n",
    "BATCH_SIZE      = 512\n",
    "epochs          = 15\n",
    "# steps_per_epoch = 1\n",
    "\n",
    "# 152,182건의 데이터\n",
    "# validation set 사이즈\n",
    "# int_partition = steps_per_epoch * epochs * BATCH_SIZE + 1\n",
    "int_partition = epochs * BATCH_SIZE + 1\n",
    "\n",
    "print(int_partition)"
   ]
  },
  {
   "cell_type": "markdown",
   "id": "d7e3addd",
   "metadata": {},
   "source": [
    "### 2) 데이터로더 구성"
   ]
  },
  {
   "cell_type": "code",
   "execution_count": 4,
   "id": "d201bb46",
   "metadata": {},
   "outputs": [],
   "source": [
    "tokenizer = Mecab()\n",
    "stopwords = ['남', '수', '거', '기','이', '는', '다', '고', '하', '도', '의', '가', '은', '에', '을', '보', '한', '들', '지', '를', '나', '었', '만']\n",
    "\n",
    "hangul = re.compile('[^ 가-힣]+') # 한글과 띄어쓰기를 제외한 모든 글자\n",
    "\n",
    "def load_data(train_data, test_data):\n",
    "    train_data.drop_duplicates(subset=['document'], inplace=True)\n",
    "    train_data = train_data.dropna(how = 'any') \n",
    "    test_data.drop_duplicates(subset=['document'], inplace=True)\n",
    "    test_data = test_data.dropna(how = 'any') \n",
    "    \n",
    "    X_train = []\n",
    "    for sentence in train_data['document']:\n",
    "        sentence = hangul.sub(\" \", sentence)\n",
    "        temp_X = tokenizer.morphs(sentence) # 토큰화\n",
    "        temp_X = [word for word in temp_X if not word in stopwords] # 불용어 제거\n",
    "        X_train.append(temp_X)\n",
    "\n",
    "    X_test = []\n",
    "    for sentence in test_data['document']:\n",
    "        sentence = hangul.sub(\" \", sentence)\n",
    "        temp_X = tokenizer.morphs(sentence) # 토큰화\n",
    "        temp_X = [word for word in temp_X if not word in stopwords] # 불용어 제거\n",
    "        X_test.append(temp_X)\n",
    "     \n",
    "    \n",
    "    words = np.concatenate(X_train).tolist()\n",
    "    counter = Counter(words)\n",
    "    counter = counter.most_common(vocab_size-4)\n",
    "    \n",
    "    vocab = ['', '', '', ''] + [key for key, _ in counter]\n",
    "    word_to_index = {word:index for index, word in enumerate(vocab)}\n",
    "        \n",
    "    def wordlist_to_indexlist(wordlist):\n",
    "        return [word_to_index[word] if word in word_to_index else word_to_index[''] for word in wordlist]\n",
    "        \n",
    "    X_train = list(map(wordlist_to_indexlist, X_train))\n",
    "    X_test = list(map(wordlist_to_indexlist, X_test))\n",
    "        \n",
    "    return X_train, np.array(list(train_data['label'])), X_test, np.array(list(test_data['label'])), word_to_index\n",
    "\n",
    "x_train, y_train, x_test, y_test, word_to_index = load_data(train_data, test_data)\n",
    "\n"
   ]
  },
  {
   "cell_type": "code",
   "execution_count": 5,
   "id": "d4250f83",
   "metadata": {},
   "outputs": [],
   "source": [
    "index_to_word = {index:word for word, index in word_to_index.items()}"
   ]
  },
  {
   "cell_type": "code",
   "execution_count": 6,
   "id": "7d615886",
   "metadata": {},
   "outputs": [],
   "source": [
    "#문장 1개를 활용할 딕셔너리와 함께 주면, 단어 인덱스 리스트 벡터로 변환해 주는 함수. \n",
    "#모든 문장은 <BOS>로 시작해야 함. \n",
    "def get_encoded_sentence(sentence, word_to_index):\n",
    "    sentence = hangul.sub(\" \", sentence) # 한글만 통과\n",
    "    temp_X = tokenizer.morphs(sentence)  # 토큰화\n",
    "    temp_X = [word for word in temp_X if not word in stopwords] # 불용어 제거    \n",
    "    return [word_to_index['<BOS>']]+[word_to_index[word] if word in word_to_index else word_to_index['<UNK>'] for word in temp_X]\n",
    "\n",
    "#여러 개의 문장 리스트를 한꺼번에 단어 인덱스 리스트 벡터로 encode해 주는 함수. \n",
    "def get_encoded_sentences(sentences, word_to_index):\n",
    "    return [get_encoded_sentence(sentence, word_to_index) for sentence in sentences]\n",
    "\n",
    "#숫자 벡터로 encode된 문장을 원래대로 decode하는 함수. \n",
    "def get_decoded_sentence(encoded_sentence, index_to_word):\n",
    "    return ' '.join(index_to_word[index] if index in index_to_word else '<UNK>' for index in encoded_sentence[1:])  #[1:]를 통해 <BOS>를 제외\n",
    "\n",
    "#여러 개의 숫자 벡터로 encode된 문장을 한꺼번에 원래대로 decode하는 함수. \n",
    "def get_decoded_sentences(encoded_sentences, index_to_word):\n",
    "    return [get_decoded_sentence(encoded_sentence, index_to_word) for encoded_sentence in encoded_sentences]"
   ]
  },
  {
   "cell_type": "markdown",
   "id": "33b6ff00",
   "metadata": {},
   "source": [
    "### 3) 모델 구성을 위한 데이터 분석 및 가공"
   ]
  },
  {
   "cell_type": "code",
   "execution_count": 7,
   "id": "b84c3067",
   "metadata": {},
   "outputs": [
    {
     "name": "stdout",
     "output_type": "stream",
     "text": [
      "[19, 57, 862, 25, 201, 20, 682]\n",
      "더 빙 진짜 짜증 네요 목소리\n",
      "라벨:  0\n",
      "[951, 466, 476, 624, 4, 101, 1532, 37, 852, 929, 30, 347]\n",
      "포스터 보고 초딩 영화 줄 오버 연기 조차 가볍 않 구나\n",
      "라벨:  1\n",
      "[10, 179, 3]\n",
      "재 \n",
      "라벨:  0\n",
      "[8002, 132, 4029, 263, 76, 7, 42, 3300]\n",
      "이야기 구먼 솔직히 재미 없 평점 조정\n",
      "라벨:  0\n",
      "[3, 8457, 1029, 37, 2676, 44, 4, 2604, 26, 1101, 22, 310, 27, 44, 3, 3, 378, 2897, 1652]\n",
      "익살 스런 연기 돋보였 던 영화 스파이더맨 에서 늙 어 보이 했 던   너무나 이뻐 보였\n",
      "라벨:  1\n",
      "[612, 3, 3, 399, 161, 1432, 645, 1580, 653, 35, 3, 4, 2126, 103, 684]\n",
      "  세 부터 초등 학교 학년 생 인  영화 별반 개 아까움\n",
      "라벨:  0\n",
      "[225, 334, 338, 1887, 41, 764]\n",
      "긴장감 제대로 살려 내 못했\n",
      "라벨:  0\n",
      "[204, 1321, 120, 372, 685, 3, 3, 37, 1411, 255, 82, 220, 14, 786, 15, 311, 591, 487, 457, 525, 3142, 8458, 1358, 1358, 55, 267, 7, 37, 86, 60, 3, 29]\n",
      "반개 아깝 욕 나온다   연기 생활 몇 년 인지 정말 발 로 해도 그것 보단 낫 겟 납치 감금 반복 반복 드라마 가족 없 연기 못 사람  네\n",
      "라벨:  0\n",
      "[108, 7, 9, 76, 6, 255, 13, 32, 4]\n",
      "없 는데 재미 있 몇 안 되 영화\n",
      "라벨:  1\n",
      "[48, 595, 42, 213, 686, 519, 72, 462, 1376, 581, 672, 64, 10, 3, 6]\n",
      "케 평점 낮 건데 꽤 볼 한데 헐리우드 식 화려 함 너무  있\n",
      "라벨:  1\n",
      "[3, 25, 202]\n",
      "진짜 짱\n",
      "라벨:  1\n",
      "[72, 62, 389, 2319, 90, 187, 49, 82, 160, 2494, 828, 3, 627, 2605, 2111, 6155]\n",
      "때 마다 눈물나 서 죽 겠 년 대 향수 자극  감성 절제 멜로 달인\n",
      "라벨:  1\n",
      "[248, 93, 3, 3, 8003, 3, 62, 3, 384, 3724, 37, 1223, 5, 1667]\n",
      "면서   보도  때  뻔 이범수 연기 드럽 게 못해\n",
      "라벨:  0\n",
      "[2365, 1216, 102, 8, 8987, 2568, 15, 74, 33, 817, 3, 58, 60, 115, 18]\n",
      "깔끔 해서 좋 신문 기사 로 보다 면 자꾸  그 사람 다는 것\n",
      "라벨:  1\n",
      "[856, 3888, 3, 25, 1805, 289, 26, 65, 4, 79, 209, 234, 83, 234, 61, 109, 50, 22, 1139, 61, 3660]\n",
      "존중  진짜 내생 극장 에서 본 영화 중 가장 노 잼 노 감동 임 스토리 어 거지 감동 어거지\n",
      "라벨:  0\n",
      "[2969, 2514, 1274, 32, 179, 227, 17]\n",
      "매번 긴장 되 재 밋 음\n",
      "라벨:  1\n",
      "[116, 60, 1096, 5, 7230, 3, 3, 1217, 91, 573, 4966, 1322, 33, 1480, 91, 3, 77, 573, 59, 139, 7231, 149, 18, 246, 1275]\n",
      "사람 웃긴 게 바스코   코 라고 까 바비 이기 면 아이돌 라고  그냥 까 싶 어서 안달 난 것 처럼 보인다\n",
      "라벨:  1\n",
      "[5751, 3, 1168, 35, 18, 145, 9, 48, 558, 15, 506, 88, 22, 87]\n",
      " 표절 인 것 이해 는데 왜 뒤 로 갈수록 재미없 어 냐\n",
      "라벨:  0\n",
      "[106, 14, 2442, 423, 34, 3, 30, 6646, 71, 445, 38, 1447, 602, 3, 2442, 129, 379]\n",
      "정말 깨알 캐스팅 과  않 산뜻 내용 구성 잘 버 무  깨알 일 드\n",
      "라벨:  1\n",
      "[3, 508, 4536, 73, 3, 1541, 392, 368, 3]\n",
      "위한 변명 라  착한 놈 절대 \n",
      "라벨:  1\n",
      "[357, 1832, 1370, 6, 53, 77, 1505, 1063, 34, 7577, 4, 368, 547]\n",
      "심오 뜻 있 듯 그냥 학생 선생 과 놀아나 영화 절대 아님\n",
      "라벨:  1\n",
      "[93, 216, 30, 111, 507, 657]\n",
      "웃 않 건 불 가능\n",
      "라벨:  1\n",
      "[88, 80, 24, 2127, 4, 142, 3, 9596, 141, 1084, 3, 9596, 132, 6, 2127, 76, 6, 9, 106, 72, 5, 7, 2127, 147, 13, 96, 3, 1672, 327, 2858, 47, 3805, 9, 591, 147, 13, 774]\n",
      "지루 같 음식 영화 인데  만찬 넘 차이  만찬 이야기 있 음식 재미 있 는데 이건 볼 게 없 음식 별로 안 나오  풍경 라도 구경 할 랫 는데 그것 별로 안 나옴\n",
      "라벨:  0\n",
      "[368, 743, 4, 247, 400, 113, 148, 2495, 1097]\n",
      "평범 영화 아닌 수작 라는 걸 말씀 드립니다\n",
      "라벨:  1\n",
      "[548, 8, 205, 866, 161, 80]\n",
      "좋 은데 중반 부터 지루\n",
      "라벨:  0\n",
      "[3, 504, 99, 542, 2859, 47, 7, 44, 99, 1605, 504, 99, 180, 993, 44, 148, 3]\n",
      "꺼 야 그래서 납득 할 없 던 야 그럴 꺼 야 꼭 그랬 던 걸 \n",
      "라벨:  0\n",
      "[6647, 2569, 22, 6156, 5752]\n",
      "털 어 버려야 할텐데\n",
      "라벨:  1\n",
      "[3, 607]\n",
      "발연기\n",
      "라벨:  0\n",
      "[179, 227, 2470]\n",
      "밋 뎅\n",
      "라벨:  1\n",
      "[1673, 6, 776, 2391, 423, 82, 160, 2494, 542, 28]\n",
      "있 연출력 탁월 캐스팅 년 대 향수 그래서 점\n",
      "라벨:  1\n",
      "[2443, 1897, 8004, 94, 95, 1412, 5, 51, 233, 12, 1701, 2970, 137, 37, 14, 8, 31, 46, 114, 1515, 55]\n",
      "포스 위력 다시 번 깨닫 게 해 준 적 꽃 검사 님 연기 정말 좋 았 어요 완전 명품 드라마\n",
      "라벨:  1\n",
      "[654, 89, 479, 36, 13, 4625, 19, 78, 824]\n",
      "쓰레기 진부 말 안 됌 아 시간 아까워\n",
      "라벨:  0\n",
      "[21, 9, 518, 48, 512, 213, 3]\n",
      "는데 별점 왜 이리 낮 \n",
      "라벨:  1\n",
      "[327, 110, 27, 44, 41, 8988, 112, 8988, 112]\n",
      "기대 했 던 내 죄인 입니다 죄인 입니다\n",
      "라벨:  0\n",
      "[245, 55, 6648, 40]\n",
      "드라마 내인생의 최고\n",
      "라벨:  1\n",
      "[3725, 260, 1309, 8005, 3]\n",
      "대한 열정 안나 \n",
      "라벨:  1\n",
      "[7232, 3, 37, 906, 27, 44, 111, 600, 431, 1481, 990, 2177, 1481, 990]\n",
      " 연기 고자 했 던 건 대체 정신 장애 일까 틱 장애 일까\n",
      "라벨:  0\n",
      "[2860, 503, 299, 431, 2150, 3093, 73, 81, 49, 20]\n",
      "원 작가 정신 나간 유령 라 재미있 겠 네요\n",
      "라벨:  1\n",
      "[466, 6, 22, 310, 9, 411, 373, 29]\n",
      "있 어 보이 는데 관객 명 네\n",
      "라벨:  0\n",
      "[4, 48, 126, 177, 500, 163, 157, 125, 49]\n",
      "왜 이렇게 저 평가 받 는지 모르 겠\n",
      "라벨:  1\n",
      "[748, 93, 4223, 219, 4]\n",
      "면서 은은 매력 영화\n",
      "라벨:  1\n",
      "[69, 293, 653, 235, 71, 7, 898, 7, 1096, 97, 7, 17, 114, 204, 6649, 4, 41, 78, 141, 1242, 1709, 114, 1013, 109]\n",
      "바 생 인가 내용 없 무서운 없 웃긴 하나 없 음 완전 별 싱거운 영화 내 시간 넘 아까 움 완전 낚 임\n",
      "라벨:  0\n",
      "[211, 5, 165, 932, 7578, 3]\n",
      "게 두 어라 서리 \n",
      "라벨:  1\n",
      "[14, 471, 46, 542, 153, 59, 205, 153, 1441, 7, 29]\n",
      "맘 어요 그래서 또 싶 은데 또 방법 없 네\n",
      "라벨:  1\n",
      "[7579, 113, 435, 63, 1388, 5, 488, 46, 1413, 3806, 318, 1102, 7233, 5, 164, 212, 320, 303, 20, 28, 39, 59, 205, 42, 1157, 59, 22, 28, 101, 6937]\n",
      "라는 멋진 배우 발견 게 됐 어요 소소 일탈 잔잔 미소 머금 게 합니다 음악 조금 아쉽 네요 점 주 싶 은데 평점 올리 싶 어 점 줄 게요\n",
      "라벨:  1\n",
      "[42, 3889, 1052, 169, 78, 530, 127, 530, 109]\n",
      "속지 마시 길 시간 낭비 돈 낭비 임\n",
      "라벨:  0\n",
      "[2349, 2071, 184, 462, 489, 283, 13, 840, 3357, 264, 431, 3, 1212, 1448, 1481, 3475, 3, 129, 7580, 60, 1752, 372, 3807, 3, 320, 1771, 84, 17, 492, 415, 171, 405, 27, 9, 33, 506, 3357, 431, 1759, 283, 1237]\n",
      "뛰어나 긴 한데 큰 공감 안 간다 이민기 캐릭터 정신  분노 조절 장애 초기  일 툭하면 사람 패 욕 물건  조금 오바 였 음 극 초반 엔 신선 했 는데 면 갈수록 이민기 정신 상태 공감 불가\n",
      "라벨:  0\n",
      "[1639, 48, 7, 87, 3143, 288, 476, 4, 217, 325, 69, 3057, 1262, 26, 43, 70, 91, 127, 3, 44]\n",
      "왜 없 냐 뮤 비 보고 영화 수준 딱 알 더군 북한 에서 이런 만들 라고 돈  던\n",
      "라벨:  0\n",
      "[149, 167, 4, 85, 164]\n",
      "우리 영화 사랑 합니다\n",
      "라벨:  0\n",
      "[3, 8006, 3, 3, 171, 240, 2606, 32, 59, 3358, 287, 8989, 178, 3, 327, 585, 194, 727, 352, 435, 392, 146, 3, 428, 3, 84, 9, 55, 194, 727, 4847, 240, 352, 662, 29, 414, 75, 137, 4848, 2128, 2791, 36, 19, 3, 3, 1162, 3, 27, 17]\n",
      "리스   엔 용 주인 되 싶 누 이랑 근친상간 이나  라도 소설 속 에선 제일 멋진 놈 자  라니  였 는데 드라마 속 에선 드래곤 용 제일 멋지 네 웃음 감독 님 토르 다크 월드 말 아   기본  했 음\n",
      "라벨:  1\n"
     ]
    }
   ],
   "source": [
    "for i in range(50):\n",
    "    print(x_train[i])\n",
    "    print(get_decoded_sentence(x_train[i], index_to_word))\n",
    "    print('라벨: ', y_train[i])"
   ]
  },
  {
   "cell_type": "code",
   "execution_count": 8,
   "id": "d791aaf3",
   "metadata": {},
   "outputs": [
    {
     "name": "stdout",
     "output_type": "stream",
     "text": [
      "문장길이 평균 :  11.8576577130015\n",
      "문장길이 최대 :  71\n",
      "문장길이 표준편차 :  9.961570575265085\n",
      "pad_sequences maxlen :  21\n",
      "전체 문장의 0.8722938071762423%가 maxlen 설정값 이내에 포함됩니다. \n"
     ]
    }
   ],
   "source": [
    "total_data_text = list(x_train) + list(x_test)\n",
    "# 텍스트데이터 문장길이의 리스트를 생성한 후\n",
    "num_tokens = [len(tokens) for tokens in total_data_text]\n",
    "num_tokens = np.array(num_tokens)\n",
    "# 문장길이의 평균값, 최대값, 표준편차를 계산해 본다. \n",
    "print('문장길이 평균 : ', np.mean(num_tokens))\n",
    "print('문장길이 최대 : ', np.max(num_tokens))\n",
    "print('문장길이 표준편차 : ', np.std(num_tokens))\n",
    "\n",
    "# 예를들어, 최대 길이를 (평균 + 표준편차)로 한다면,  \n",
    "max_tokens = np.mean(num_tokens) + np.std(num_tokens)\n",
    "maxlen = int(max_tokens)\n",
    "\n",
    "print('pad_sequences maxlen : ', maxlen)\n",
    "print('전체 문장의 {}%가 maxlen 설정값 이내에 포함됩니다. '.format(np.sum(num_tokens < max_tokens) / len(num_tokens)))\n"
   ]
  },
  {
   "cell_type": "code",
   "execution_count": 9,
   "id": "9ddc3ffd",
   "metadata": {},
   "outputs": [],
   "source": [
    "# 처음 몇 개 인덱스는 사전에 정의되어 있습니다\n",
    "word_to_index[\"<PAD>\"]    = 0\n",
    "word_to_index[\"<BOS>\"]    = 1\n",
    "word_to_index[\"<UNK>\"]    = 2  # unknown\n",
    "word_to_index[\"<UNUSED>\"] = 3\n",
    "\n",
    "index_to_word = {index:word for word, index in word_to_index.items()}"
   ]
  },
  {
   "cell_type": "code",
   "execution_count": 10,
   "id": "9c21efbe",
   "metadata": {},
   "outputs": [
    {
     "name": "stdout",
     "output_type": "stream",
     "text": [
      "<PAD>\n",
      "<BOS>\n",
      "<UNK>\n",
      "<UNUSED>\n",
      "영화\n"
     ]
    }
   ],
   "source": [
    "for i in range(5):\n",
    "    print(index_to_word[i])"
   ]
  },
  {
   "cell_type": "code",
   "execution_count": 11,
   "id": "b96809aa",
   "metadata": {},
   "outputs": [
    {
     "name": "stderr",
     "output_type": "stream",
     "text": [
      "/tmp/ipykernel_105/1390784066.py:5: DeprecationWarning: Call to deprecated `__contains__` (Method will be removed in 4.0.0, use self.wv.__contains__() instead).\n",
      "  if index_to_word[i] in word2vec:\n",
      "/tmp/ipykernel_105/1390784066.py:6: DeprecationWarning: Call to deprecated `__getitem__` (Method will be removed in 4.0.0, use self.wv.__getitem__() instead).\n",
      "  embedding_matrix[i] = word2vec[index_to_word[i]]\n"
     ]
    }
   ],
   "source": [
    "embedding_matrix = np.random.rand(vocab_size, word_vector_dim)\n",
    "\n",
    "# embedding_matrix에 Word2Vec 워드 벡터를 단어 하나씩마다 차례차례 카피한다.\n",
    "for i in range(4,vocab_size):\n",
    "    if index_to_word[i] in word2vec:\n",
    "        embedding_matrix[i] = word2vec[index_to_word[i]]"
   ]
  },
  {
   "cell_type": "code",
   "execution_count": 12,
   "id": "c509b3d0",
   "metadata": {},
   "outputs": [],
   "source": [
    "import matplotlib.pyplot as plt\n",
    "\n",
    "def plot_graphs(history, metric):\n",
    "    '''\n",
    "    히스토리 그래프\n",
    "    '''\n",
    "    plt.plot(history.history[metric])\n",
    "    plt.plot(history.history['val_' + metric], '')\n",
    "    plt.xlabel(\"Epochs\")\n",
    "    plt.ylabel(metric)\n",
    "    plt.legend([metric, 'val_' + metric])"
   ]
  },
  {
   "cell_type": "code",
   "execution_count": 13,
   "id": "0732bbc6",
   "metadata": {},
   "outputs": [],
   "source": [
    "def predict(model, sentences, word_to_index, index_to_word, maxlen):\n",
    "    '''\n",
    "    점수예측\n",
    "    '''\n",
    "    encoded_sentences = get_encoded_sentences(sentences, word_to_index)\n",
    "#     print(encoded_sentences)\n",
    "    decoded_sentences = get_decoded_sentences(encoded_sentences, index_to_word)\n",
    "#     print(decoded_sentences)\n",
    "    to_test = tf.keras.preprocessing.sequence.pad_sequences(encoded_sentences,\n",
    "                                                           value=word_to_index[\"<PAD>\"],\n",
    "                                                           padding='post', # 혹은 'pre'\n",
    "                                                           maxlen=maxlen)\n",
    "    predictions = model.predict(to_test)\n",
    "    print(predictions)"
   ]
  },
  {
   "cell_type": "markdown",
   "id": "1a30baa9",
   "metadata": {},
   "source": [
    "### 4) 모델 구성 및 validation set 구성"
   ]
  },
  {
   "cell_type": "code",
   "execution_count": 14,
   "id": "a4a72103",
   "metadata": {},
   "outputs": [
    {
     "name": "stdout",
     "output_type": "stream",
     "text": [
      "(146182, 21)\n"
     ]
    }
   ],
   "source": [
    "x_train = tf.keras.preprocessing.sequence.pad_sequences(x_train,\n",
    "                                                        value=word_to_index[\"<PAD>\"],\n",
    "                                                        padding='post', # 혹은 'pre'\n",
    "                                                        maxlen=maxlen)\n",
    "\n",
    "x_test = tf.keras.preprocessing.sequence.pad_sequences(x_test,\n",
    "                                                       value=word_to_index[\"<PAD>\"],\n",
    "                                                       padding='post', # 혹은 'pre'\n",
    "                                                       maxlen=maxlen)\n",
    "\n",
    "print(x_train.shape)"
   ]
  },
  {
   "cell_type": "code",
   "execution_count": 15,
   "id": "c1c4f64d",
   "metadata": {},
   "outputs": [
    {
     "name": "stdout",
     "output_type": "stream",
     "text": [
      "(138501, 21)\n",
      "(138501,)\n"
     ]
    }
   ],
   "source": [
    "x_val = x_train[:int_partition]   \n",
    "y_val = y_train[:int_partition]\n",
    "\n",
    "# validation set을 제외한 나머지 \n",
    "partial_x_train = x_train[int_partition:]  \n",
    "partial_y_train = y_train[int_partition:]\n",
    "\n",
    "print(partial_x_train.shape)\n",
    "print(partial_y_train.shape)"
   ]
  },
  {
   "cell_type": "markdown",
   "id": "8b2ca518",
   "metadata": {},
   "source": [
    "#### 모델1. 컨볼루션 레이어로 구성"
   ]
  },
  {
   "cell_type": "code",
   "execution_count": 16,
   "id": "6a5cc488",
   "metadata": {},
   "outputs": [
    {
     "name": "stdout",
     "output_type": "stream",
     "text": [
      "Model: \"sequential\"\n",
      "_________________________________________________________________\n",
      "Layer (type)                 Output Shape              Param #   \n",
      "=================================================================\n",
      "embedding (Embedding)        (None, 21, 200)           2000000   \n",
      "_________________________________________________________________\n",
      "conv1d (Conv1D)              (None, 21, 8)             8008      \n",
      "_________________________________________________________________\n",
      "max_pooling1d (MaxPooling1D) (None, 4, 8)              0         \n",
      "_________________________________________________________________\n",
      "conv1d_1 (Conv1D)            (None, 4, 8)              328       \n",
      "_________________________________________________________________\n",
      "global_max_pooling1d (Global (None, 8)                 0         \n",
      "_________________________________________________________________\n",
      "dense (Dense)                (None, 8)                 72        \n",
      "_________________________________________________________________\n",
      "dense_1 (Dense)              (None, 1)                 9         \n",
      "=================================================================\n",
      "Total params: 2,008,417\n",
      "Trainable params: 2,008,417\n",
      "Non-trainable params: 0\n",
      "_________________________________________________________________\n"
     ]
    }
   ],
   "source": [
    "from tensorflow.keras.initializers import Constant\n",
    "\n",
    "# 모델 구성\n",
    "model_Conv1D = tf.keras.Sequential()\n",
    "model_Conv1D.add(tf.keras.layers.Embedding(vocab_size, \n",
    "                                 word_vector_dim, \n",
    "                                 embeddings_initializer=Constant(embedding_matrix),  # 카피한 임베딩을 여기서 활용\n",
    "                                 input_length=maxlen, \n",
    "                                 trainable=True))   # trainable을 True로 주면 Fine-tuning\n",
    "model_Conv1D.add(tf.keras.layers.Conv1D(8, 5, activation='relu', padding='same'))\n",
    "model_Conv1D.add(tf.keras.layers.MaxPooling1D(5))\n",
    "model_Conv1D.add(tf.keras.layers.Conv1D(8, 5, activation='relu', padding='same'))\n",
    "model_Conv1D.add(tf.keras.layers.GlobalMaxPooling1D())\n",
    "model_Conv1D.add(tf.keras.layers.Dense(8, activation='relu'))\n",
    "model_Conv1D.add(tf.keras.layers.Dense(1, activation='sigmoid')) \n",
    "model_Conv1D.summary()\n"
   ]
  },
  {
   "cell_type": "code",
   "execution_count": 17,
   "id": "303a28a9",
   "metadata": {},
   "outputs": [
    {
     "name": "stdout",
     "output_type": "stream",
     "text": [
      "Epoch 1/5\n",
      "271/271 [==============================] - 28s 7ms/step - loss: 0.5398 - accuracy: 0.7184 - val_loss: 0.4322 - val_accuracy: 0.8016\n",
      "Epoch 2/5\n",
      "271/271 [==============================] - 2s 6ms/step - loss: 0.3987 - accuracy: 0.8193 - val_loss: 0.3757 - val_accuracy: 0.8272\n",
      "Epoch 3/5\n",
      "271/271 [==============================] - 2s 6ms/step - loss: 0.3481 - accuracy: 0.8473 - val_loss: 0.3596 - val_accuracy: 0.8384\n",
      "Epoch 4/5\n",
      "271/271 [==============================] - 2s 6ms/step - loss: 0.3179 - accuracy: 0.8637 - val_loss: 0.3581 - val_accuracy: 0.8414\n",
      "Epoch 5/5\n",
      "271/271 [==============================] - 2s 6ms/step - loss: 0.2950 - accuracy: 0.8750 - val_loss: 0.3562 - val_accuracy: 0.8416\n"
     ]
    }
   ],
   "source": [
    "model_Conv1D.compile(optimizer='adam',\n",
    "              loss='binary_crossentropy',\n",
    "              metrics=['accuracy'])\n",
    "              \n",
    "epochs_Conv=5  # 몇 epoch를 훈련하면 좋을지 결과를 보면서 바꾸어 봅시다. \n",
    "history = model_Conv1D.fit(partial_x_train,\n",
    "                    partial_y_train,\n",
    "                    epochs=epochs_Conv,\n",
    "                    batch_size=BATCH_SIZE,\n",
    "                    validation_data=(x_val, y_val),\n",
    "                    verbose=1)"
   ]
  },
  {
   "cell_type": "code",
   "execution_count": 18,
   "id": "d3d120e4",
   "metadata": {},
   "outputs": [
    {
     "name": "stdout",
     "output_type": "stream",
     "text": [
      "1537/1537 [==============================] - 3s 2ms/step - loss: 0.3769 - accuracy: 0.8345\n",
      "Test Loss: 0.37694546580314636\n",
      "Test Accuracy: 0.8345098495483398\n"
     ]
    }
   ],
   "source": [
    "test_loss, test_acc = model_Conv1D.evaluate(x_test, y_test)\n",
    "\n",
    "print('Test Loss:', test_loss)\n",
    "print('Test Accuracy:', test_acc)\n"
   ]
  },
  {
   "cell_type": "code",
   "execution_count": 19,
   "id": "21cf4263",
   "metadata": {},
   "outputs": [
    {
     "data": {
      "text/plain": [
       "(0.0, 0.551990182697773)"
      ]
     },
     "execution_count": 19,
     "metadata": {},
     "output_type": "execute_result"
    },
    {
     "data": {
      "image/png": "[encoded data removed]",
      "text/plain": [
       "<Figure size 1152x576 with 2 Axes>"
      ]
     },
     "metadata": {
      "needs_background": "light"
     },
     "output_type": "display_data"
    }
   ],
   "source": [
    "plt.figure(figsize=(16, 8))\n",
    "plt.subplot(1, 2, 1)\n",
    "plot_graphs(history, 'accuracy')\n",
    "plt.ylim(None, 1)\n",
    "plt.subplot(1, 2, 2)\n",
    "plot_graphs(history, 'loss')\n",
    "plt.ylim(0, None)"
   ]
  },
  {
   "cell_type": "markdown",
   "id": "ddee76b0",
   "metadata": {},
   "source": [
    "#### 모델2.  RNN LSTM 1레이어로 구성"
   ]
  },
  {
   "cell_type": "code",
   "execution_count": 20,
   "id": "f9dc7c7d",
   "metadata": {},
   "outputs": [],
   "source": [
    "from tensorflow.keras.initializers import Constant\n",
    "\n",
    "model_LSTM1 = tf.keras.Sequential()\n",
    "model_LSTM1.add(tf.keras.layers.Embedding(vocab_size, \n",
    "                                 word_vector_dim, \n",
    "                                 embeddings_initializer=Constant(embedding_matrix),  # 카피한 임베딩을 여기서 활용\n",
    "                                 input_length=maxlen, \n",
    "                                 trainable=True))   # trainable을 True로 주면 Fine-tuning\n",
    "model_LSTM1.add(tf.keras.layers.Bidirectional(tf.keras.layers.LSTM(64)))\n",
    "model_LSTM1.add(tf.keras.layers.Dense(64, activation='relu'))\n",
    "model_LSTM1.add(tf.keras.layers.Dense(1))"
   ]
  },
  {
   "cell_type": "code",
   "execution_count": 21,
   "id": "66e82ecc",
   "metadata": {},
   "outputs": [
    {
     "name": "stdout",
     "output_type": "stream",
     "text": [
      "[False, True, True, True]\n"
     ]
    }
   ],
   "source": [
    "print([layer.supports_masking for layer in model_LSTM1.layers])"
   ]
  },
  {
   "cell_type": "code",
   "execution_count": 22,
   "id": "e0e84a85",
   "metadata": {},
   "outputs": [],
   "source": [
    "model_LSTM1.compile(loss=tf.keras.losses.BinaryCrossentropy(from_logits=True),\n",
    "              optimizer=tf.keras.optimizers.Adam(1e-4),\n",
    "              metrics=['accuracy'])"
   ]
  },
  {
   "cell_type": "code",
   "execution_count": 23,
   "id": "f973b1ab",
   "metadata": {
    "scrolled": false
   },
   "outputs": [
    {
     "name": "stdout",
     "output_type": "stream",
     "text": [
      "Epoch 1/15\n",
      "271/271 [==============================] - 8s 11ms/step - loss: 0.6075 - accuracy: 0.6210 - val_loss: 0.5165 - val_accuracy: 0.7397\n",
      "Epoch 2/15\n",
      "271/271 [==============================] - 2s 8ms/step - loss: 0.4910 - accuracy: 0.7485 - val_loss: 0.4517 - val_accuracy: 0.7798\n",
      "Epoch 3/15\n",
      "271/271 [==============================] - 2s 8ms/step - loss: 0.4421 - accuracy: 0.7818 - val_loss: 0.4222 - val_accuracy: 0.7992\n",
      "Epoch 4/15\n",
      "271/271 [==============================] - 2s 8ms/step - loss: 0.4115 - accuracy: 0.8003 - val_loss: 0.4021 - val_accuracy: 0.8155\n",
      "Epoch 5/15\n",
      "271/271 [==============================] - 2s 9ms/step - loss: 0.3889 - accuracy: 0.8144 - val_loss: 0.3838 - val_accuracy: 0.8184\n",
      "Epoch 6/15\n",
      "271/271 [==============================] - 2s 9ms/step - loss: 0.3703 - accuracy: 0.8242 - val_loss: 0.3765 - val_accuracy: 0.8211\n",
      "Epoch 7/15\n",
      "271/271 [==============================] - 2s 9ms/step - loss: 0.3555 - accuracy: 0.8328 - val_loss: 0.3653 - val_accuracy: 0.8283\n",
      "Epoch 8/15\n",
      "271/271 [==============================] - 2s 9ms/step - loss: 0.3428 - accuracy: 0.8399 - val_loss: 0.3616 - val_accuracy: 0.8267\n",
      "Epoch 9/15\n",
      "271/271 [==============================] - 2s 9ms/step - loss: 0.3322 - accuracy: 0.8463 - val_loss: 0.3716 - val_accuracy: 0.8116\n",
      "Epoch 10/15\n",
      "271/271 [==============================] - 2s 9ms/step - loss: 0.3238 - accuracy: 0.8511 - val_loss: 0.3509 - val_accuracy: 0.8352\n",
      "Epoch 11/15\n",
      "271/271 [==============================] - 2s 9ms/step - loss: 0.3132 - accuracy: 0.8572 - val_loss: 0.3503 - val_accuracy: 0.8387\n",
      "Epoch 12/15\n",
      "271/271 [==============================] - 2s 9ms/step - loss: 0.3065 - accuracy: 0.8613 - val_loss: 0.3519 - val_accuracy: 0.8336\n",
      "Epoch 13/15\n",
      "271/271 [==============================] - 2s 9ms/step - loss: 0.2981 - accuracy: 0.8657 - val_loss: 0.3495 - val_accuracy: 0.8322\n",
      "Epoch 14/15\n",
      "271/271 [==============================] - 2s 9ms/step - loss: 0.2915 - accuracy: 0.8691 - val_loss: 0.3479 - val_accuracy: 0.8421\n",
      "Epoch 15/15\n",
      "271/271 [==============================] - 2s 8ms/step - loss: 0.2848 - accuracy: 0.8725 - val_loss: 0.3527 - val_accuracy: 0.8478\n"
     ]
    }
   ],
   "source": [
    "history = model_LSTM1.fit(partial_x_train,\n",
    "                    partial_y_train,\n",
    "                    epochs=epochs,\n",
    "                    batch_size=BATCH_SIZE,\n",
    "                    validation_data=(x_val, y_val),\n",
    "                    verbose=1)"
   ]
  },
  {
   "cell_type": "code",
   "execution_count": 24,
   "id": "61a3a23a",
   "metadata": {},
   "outputs": [
    {
     "name": "stdout",
     "output_type": "stream",
     "text": [
      "1537/1537 [==============================] - 4s 3ms/step - loss: 0.3729 - accuracy: 0.8383\n",
      "Test Loss: 0.3729386329650879\n",
      "Test Accuracy: 0.8383139967918396\n"
     ]
    }
   ],
   "source": [
    "test_loss, test_acc = model_LSTM1.evaluate(x_test, y_test)\n",
    "\n",
    "print('Test Loss:', test_loss)\n",
    "print('Test Accuracy:', test_acc)"
   ]
  },
  {
   "cell_type": "code",
   "execution_count": 25,
   "id": "e3ea4ea8",
   "metadata": {},
   "outputs": [
    {
     "data": {
      "text/plain": [
       "(0.0, 0.6236254781484604)"
      ]
     },
     "execution_count": 25,
     "metadata": {},
     "output_type": "execute_result"
    },
    {
     "data": {
      "image/png": "[encoded data removed]",
      "text/plain": [
       "<Figure size 1152x576 with 2 Axes>"
      ]
     },
     "metadata": {
      "needs_background": "light"
     },
     "output_type": "display_data"
    }
   ],
   "source": [
    "plt.figure(figsize=(16, 8))\n",
    "plt.subplot(1, 2, 1)\n",
    "plot_graphs(history, 'accuracy')\n",
    "plt.ylim(None, 1)\n",
    "plt.subplot(1, 2, 2)\n",
    "plot_graphs(history, 'loss')\n",
    "plt.ylim(0, None)"
   ]
  },
  {
   "cell_type": "markdown",
   "id": "20768e38",
   "metadata": {},
   "source": [
    "#### 모델3. RNN LSTM 2레이어로 구성"
   ]
  },
  {
   "cell_type": "code",
   "execution_count": 26,
   "id": "760b1646",
   "metadata": {},
   "outputs": [],
   "source": [
    "model_LSTM2 = tf.keras.Sequential([\n",
    "    tf.keras.layers.Embedding(vocab_size, \n",
    "                                 word_vector_dim, \n",
    "                                 embeddings_initializer=Constant(embedding_matrix),  # 카피한 임베딩을 여기서 활용\n",
    "                                 input_length=maxlen, \n",
    "                                 trainable=True),\n",
    "    tf.keras.layers.Bidirectional(tf.keras.layers.LSTM(64,  return_sequences=True)),\n",
    "    tf.keras.layers.Bidirectional(tf.keras.layers.LSTM(32)),\n",
    "    tf.keras.layers.Dense(64, activation='relu'),\n",
    "    tf.keras.layers.Dropout(0.5),\n",
    "    tf.keras.layers.Dense(1)\n",
    "])\n",
    "\n"
   ]
  },
  {
   "cell_type": "code",
   "execution_count": 27,
   "id": "ff1af258",
   "metadata": {},
   "outputs": [],
   "source": [
    "model_LSTM2.compile(loss=tf.keras.losses.BinaryCrossentropy(from_logits=True),\n",
    "              optimizer=tf.keras.optimizers.Adam(1e-4),\n",
    "              metrics=['accuracy'])"
   ]
  },
  {
   "cell_type": "code",
   "execution_count": 28,
   "id": "daba6d7a",
   "metadata": {},
   "outputs": [
    {
     "name": "stdout",
     "output_type": "stream",
     "text": [
      "Epoch 1/15\n",
      "271/271 [==============================] - 9s 16ms/step - loss: 0.6098 - accuracy: 0.6251 - val_loss: 0.5070 - val_accuracy: 0.7435\n",
      "Epoch 2/15\n",
      "271/271 [==============================] - 3s 12ms/step - loss: 0.4983 - accuracy: 0.7511 - val_loss: 0.4605 - val_accuracy: 0.7655\n",
      "Epoch 3/15\n",
      "271/271 [==============================] - 3s 12ms/step - loss: 0.4544 - accuracy: 0.7790 - val_loss: 0.4239 - val_accuracy: 0.7925\n",
      "Epoch 4/15\n",
      "271/271 [==============================] - 3s 12ms/step - loss: 0.4243 - accuracy: 0.7954 - val_loss: 0.4087 - val_accuracy: 0.7890\n",
      "Epoch 5/15\n",
      "271/271 [==============================] - 3s 12ms/step - loss: 0.4002 - accuracy: 0.8087 - val_loss: 0.3848 - val_accuracy: 0.8121\n",
      "Epoch 6/15\n",
      "271/271 [==============================] - 3s 12ms/step - loss: 0.3816 - accuracy: 0.8206 - val_loss: 0.3717 - val_accuracy: 0.8233\n",
      "Epoch 7/15\n",
      "271/271 [==============================] - 3s 12ms/step - loss: 0.3649 - accuracy: 0.8305 - val_loss: 0.3658 - val_accuracy: 0.8225\n",
      "Epoch 8/15\n",
      "271/271 [==============================] - 3s 12ms/step - loss: 0.3527 - accuracy: 0.8376 - val_loss: 0.3609 - val_accuracy: 0.8211\n",
      "Epoch 9/15\n",
      "271/271 [==============================] - 3s 12ms/step - loss: 0.3416 - accuracy: 0.8430 - val_loss: 0.3535 - val_accuracy: 0.8373\n",
      "Epoch 10/15\n",
      "271/271 [==============================] - 3s 12ms/step - loss: 0.3310 - accuracy: 0.8482 - val_loss: 0.3508 - val_accuracy: 0.8375\n",
      "Epoch 11/15\n",
      "271/271 [==============================] - 3s 12ms/step - loss: 0.3239 - accuracy: 0.8532 - val_loss: 0.3515 - val_accuracy: 0.8425\n",
      "Epoch 12/15\n",
      "271/271 [==============================] - 3s 12ms/step - loss: 0.3156 - accuracy: 0.8571 - val_loss: 0.3545 - val_accuracy: 0.8315\n",
      "Epoch 13/15\n",
      "271/271 [==============================] - 3s 12ms/step - loss: 0.3085 - accuracy: 0.8611 - val_loss: 0.3493 - val_accuracy: 0.8446\n",
      "Epoch 14/15\n",
      "271/271 [==============================] - 3s 13ms/step - loss: 0.3014 - accuracy: 0.8650 - val_loss: 0.3485 - val_accuracy: 0.8423\n",
      "Epoch 15/15\n",
      "271/271 [==============================] - 3s 12ms/step - loss: 0.2973 - accuracy: 0.8673 - val_loss: 0.3515 - val_accuracy: 0.8430\n"
     ]
    }
   ],
   "source": [
    "history = model_LSTM2.fit(partial_x_train,\n",
    "                    partial_y_train,\n",
    "                    epochs=epochs,\n",
    "                    batch_size=BATCH_SIZE,\n",
    "                    validation_data=(x_val, y_val),\n",
    "                    verbose=1)"
   ]
  },
  {
   "cell_type": "code",
   "execution_count": 29,
   "id": "c8c6327d",
   "metadata": {},
   "outputs": [
    {
     "name": "stdout",
     "output_type": "stream",
     "text": [
      "1537/1537 [==============================] - 6s 4ms/step - loss: 0.3696 - accuracy: 0.8400\n",
      "Test Loss: 0.3695651590824127\n",
      "Test Accuracy: 0.8400431275367737\n"
     ]
    }
   ],
   "source": [
    "test_loss, test_acc = model_LSTM2.evaluate(x_test, y_test)\n",
    "\n",
    "print('Test Loss:', test_loss)\n",
    "print('Test Accuracy:', test_acc)"
   ]
  },
  {
   "cell_type": "code",
   "execution_count": 30,
   "id": "cb6bfc0a",
   "metadata": {},
   "outputs": [
    {
     "data": {
      "image/png": "[encoded data removed]",
      "text/plain": [
       "<Figure size 1152x432 with 2 Axes>"
      ]
     },
     "metadata": {
      "needs_background": "light"
     },
     "output_type": "display_data"
    }
   ],
   "source": [
    "plt.figure(figsize=(16, 6))\n",
    "plt.subplot(1, 2, 1)\n",
    "plot_graphs(history, 'accuracy')\n",
    "plt.subplot(1, 2, 2)\n",
    "plot_graphs(history, 'loss')"
   ]
  },
  {
   "cell_type": "markdown",
   "id": "3bafe602",
   "metadata": {},
   "source": [
    "### 모델별 영화평 호감도 예측 점수"
   ]
  },
  {
   "cell_type": "markdown",
   "id": "2ae3d11b",
   "metadata": {},
   "source": [
    "#### Conv1D"
   ]
  },
  {
   "cell_type": "code",
   "execution_count": 31,
   "id": "d8f7fa2e",
   "metadata": {},
   "outputs": [
    {
     "name": "stdout",
     "output_type": "stream",
     "text": [
      "[[0.0021316]\n",
      " [0.9221747]]\n"
     ]
    }
   ],
   "source": [
    "sentences = ('ㅋㅋㅋ 난생처음 로그인하고 평점남기네요.. 개빡쳐서.. 알바들 속지마세요 이런 ㄱ ㅐ같은 시간낭비가. 아놔진짜평점 마이너스 별오만개',\n",
    "             '최고최고! 바다까지! 4차원 고양이 로봇 도라에몽과 함께하는 진구와 친구들의 미지 탐험 이야기!우주꺼지 갔음 좋겠당~')\n",
    "predict(model_Conv1D, sentences, word_to_index, index_to_word, maxlen)"
   ]
  },
  {
   "cell_type": "markdown",
   "id": "460960a3",
   "metadata": {},
   "source": [
    "#### LSTM1"
   ]
  },
  {
   "cell_type": "code",
   "execution_count": 32,
   "id": "807afcc0",
   "metadata": {},
   "outputs": [
    {
     "name": "stdout",
     "output_type": "stream",
     "text": [
      "[[-4.603623 ]\n",
      " [ 2.6950054]]\n"
     ]
    }
   ],
   "source": [
    "sentences = ('ㅋㅋㅋ 난생처음 로그인하고 평점남기네요.. 개빡쳐서.. 알바들 속지마세요 이런 ㄱ ㅐ같은 시간낭비가. 아놔진짜평점 마이너스 별오만개',\n",
    "             '최고최고! 바다까지! 4차원 고양이 로봇 도라에몽과 함께하는 진구와 친구들의 미지 탐험 이야기!우주꺼지 갔음 좋겠당~')\n",
    "predict(model_LSTM1, sentences, word_to_index, index_to_word, maxlen)"
   ]
  },
  {
   "cell_type": "markdown",
   "id": "4131aceb",
   "metadata": {},
   "source": [
    "#### LSTM2"
   ]
  },
  {
   "cell_type": "code",
   "execution_count": 33,
   "id": "376efc54",
   "metadata": {},
   "outputs": [
    {
     "name": "stdout",
     "output_type": "stream",
     "text": [
      "[[-5.7859592]\n",
      " [ 2.9964533]]\n"
     ]
    }
   ],
   "source": [
    "sentences = ('ㅋㅋㅋ 난생처음 로그인하고 평점남기네요.. 개빡쳐서.. 알바들 속지마세요 이런 ㄱ ㅐ같은 시간낭비가. 아놔진짜평점 마이너스 별오만개',\n",
    "             '최고최고! 바다까지! 4차원 고양이 로봇 도라에몽과 함께하는 진구와 친구들의 미지 탐험 이야기!우주꺼지 갔음 좋겠당~')\n",
    "predict(model_LSTM2, sentences, word_to_index, index_to_word, maxlen)"
   ]
  },
  {
   "cell_type": "markdown",
   "id": "62549fb2",
   "metadata": {},
   "source": [
    "### 다른 영화평 예측점수"
   ]
  },
  {
   "cell_type": "markdown",
   "id": "74c22ddc",
   "metadata": {},
   "source": [
    "#### Conv1D"
   ]
  },
  {
   "cell_type": "code",
   "execution_count": 34,
   "id": "c0bb0dcf",
   "metadata": {},
   "outputs": [
    {
     "name": "stdout",
     "output_type": "stream",
     "text": [
      "[[9.847798e-04]\n",
      " [9.968829e-01]]\n"
     ]
    }
   ],
   "source": [
    "sentences = ('이런 쓰레기영화좀 만들지마라 진짜 재미없다ㅡㅡ',\n",
    "             '정말 가슴아픈영화....질리지도 않는영화....몇번을봐도...음악도 너무 좋아요...OST도 구해 들었다는...')\n",
    "predict(model_Conv1D, sentences, word_to_index, index_to_word, maxlen)"
   ]
  },
  {
   "cell_type": "markdown",
   "id": "cb5a1d07",
   "metadata": {},
   "source": [
    "#### LSTM1"
   ]
  },
  {
   "cell_type": "code",
   "execution_count": 35,
   "id": "09be2733",
   "metadata": {},
   "outputs": [
    {
     "name": "stdout",
     "output_type": "stream",
     "text": [
      "[[-6.7472625]\n",
      " [ 7.851875 ]]\n"
     ]
    }
   ],
   "source": [
    "sentences = ('이런 쓰레기영화좀 만들지마라 진짜 재미없다ㅡㅡ',\n",
    "             '정말 가슴아픈영화....질리지도 않는영화....몇번을봐도...음악도 너무 좋아요...OST도 구해 들었다는...')\n",
    "predict(model_LSTM1, sentences, word_to_index, index_to_word, maxlen)"
   ]
  },
  {
   "cell_type": "markdown",
   "id": "20cfe1ba",
   "metadata": {},
   "source": [
    "#### LSTM2"
   ]
  },
  {
   "cell_type": "code",
   "execution_count": 36,
   "id": "62dea32e",
   "metadata": {},
   "outputs": [
    {
     "name": "stdout",
     "output_type": "stream",
     "text": [
      "[[-5.986865 ]\n",
      " [ 6.4737434]]\n"
     ]
    }
   ],
   "source": [
    "sentences = ('이런 쓰레기영화좀 만들지마라 진짜 재미없다ㅡㅡ',\n",
    "             '정말 가슴아픈영화....질리지도 않는영화....몇번을봐도...음악도 너무 좋아요...OST도 구해 들었다는...')\n",
    "predict(model_LSTM2, sentences, word_to_index, index_to_word, maxlen)"
   ]
  },
  {
   "cell_type": "markdown",
   "id": "56be8c48",
   "metadata": {},
   "source": [
    "### 한국어 Word2Vec 임베딩 활용하여 성능 개선\n",
    "#### 사용된 세개의 모델 전부 Word2Vec 사용"
   ]
  },
  {
   "cell_type": "markdown",
   "id": "e3732011",
   "metadata": {},
   "source": [
    "#### 참고 : RNN을 사용한 텍스트 분류\n",
    "https://www.tensorflow.org/text/tutorials/text_similarity?hl=ko"
   ]
  },
  {
   "cell_type": "markdown",
   "id": "c7321d1f",
   "metadata": {},
   "source": [
    "###  후 기 :  \n",
    "\n",
    "####  Conv1D 보다는 LSTM1이 LSTM1 보다는 LSTM2가 좀더 주관적인 평가에 근접하는 점수를 내주었다.\n",
    "\n",
    "#### 한국어 형태소 분류하는 프로그램의 성능이 기대에 미치지 못했고 문장의 대부분 단어들이 무시되는 결과가 되었다. \n",
    "\n",
    "#### 영어 같은 문장구조라면 비교적 쉬운 작업이 될 거라고 생각되지만 한국어는 컴퓨터 환경에서 '정말 너무 구리다'\n",
    "\n",
    "#### 영어를 사용하는 영화평 감성분류 작업도 정확도가 85% 정도 나오던데 한국어 작업결과가 83% 이렇게 비슷하게 나와도 결과를 직접 확인해보면 기대에 미치지 못한다.\n",
    "    \n",
    "#### 차라리 문장을 통체로 딥러닝 시도하는 것이 나을 것 같다.    \n",
    "    \n"
   ]
  }
 ],
 "metadata": {
  "kernelspec": {
   "display_name": "Python 3 (ipykernel)",
   "language": "python",
   "name": "python3"
  },
  "language_info": {
   "codemirror_mode": {
    "name": "ipython",
    "version": 3
   },
   "file_extension": ".py",
   "mimetype": "text/x-python",
   "name": "python",
   "nbconvert_exporter": "python",
   "pygments_lexer": "ipython3",
   "version": "3.9.7"
  }
 },
 "nbformat": 4,
 "nbformat_minor": 5
}
