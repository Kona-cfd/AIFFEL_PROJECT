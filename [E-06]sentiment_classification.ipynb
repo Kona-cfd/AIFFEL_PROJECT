{
 "cells": [
  {
   "cell_type": "code",
   "execution_count": 27,
   "id": "b91ac34b",
   "metadata": {},
   "outputs": [
    {
     "name": "stdout",
     "output_type": "stream",
     "text": [
      "Requirement already satisfied: gensim==3.8.3 in /opt/conda/lib/python3.9/site-packages (3.8.3)\n",
      "Requirement already satisfied: scipy>=0.18.1 in /opt/conda/lib/python3.9/site-packages (from gensim==3.8.3) (1.7.1)\n",
      "Requirement already satisfied: smart-open>=1.8.1 in /opt/conda/lib/python3.9/site-packages (from gensim==3.8.3) (5.2.1)\n",
      "Requirement already satisfied: six>=1.5.0 in /opt/conda/lib/python3.9/site-packages (from gensim==3.8.3) (1.16.0)\n",
      "Requirement already satisfied: numpy>=1.11.3 in /opt/conda/lib/python3.9/site-packages (from gensim==3.8.3) (1.21.4)\n",
      "\u001b[33mWARNING: Running pip as the 'root' user can result in broken permissions and conflicting behaviour with the system package manager. It is recommended to use a virtual environment instead: https://pip.pypa.io/warnings/venv\u001b[0m\n"
     ]
    }
   ],
   "source": [
    "!pip install --upgrade gensim==3.8.3"
   ]
  },
  {
   "cell_type": "code",
   "execution_count": 28,
   "id": "6ab74852",
   "metadata": {},
   "outputs": [
    {
     "name": "stdout",
     "output_type": "stream",
     "text": [
      "Name: gensim\r\n",
      "Version: 3.8.3\r\n",
      "Summary: Python framework for fast Vector Space Modelling\r\n",
      "Home-page: http://radimrehurek.com/gensim\r\n",
      "Author: Radim Rehurek\r\n",
      "Author-email: me@radimrehurek.com\r\n",
      "License: LGPLv2.1\r\n",
      "Location: /opt/conda/lib/python3.9/site-packages\r\n",
      "Requires: numpy, scipy, six, smart-open\r\n",
      "Required-by: \r\n"
     ]
    }
   ],
   "source": [
    "!pip show gensim"
   ]
  },
  {
   "cell_type": "code",
   "execution_count": 29,
   "id": "e4d46d82",
   "metadata": {},
   "outputs": [],
   "source": [
    "import pandas as pd\n",
    "import numpy as np\n",
    "import tensorflow as tf\n",
    "from pathlib import Path\n",
    "\n",
    "import gensim\n",
    "from gensim.models import KeyedVectors\n",
    "\n",
    "from konlpy.tag import Mecab\n",
    "import numpy as np\n",
    "from collections import Counter\n",
    "import re\n"
   ]
  },
  {
   "cell_type": "markdown",
   "id": "8e60b261",
   "metadata": {},
   "source": [
    "### 1) 데이터 준비와 확인"
   ]
  },
  {
   "cell_type": "code",
   "execution_count": 30,
   "id": "d7fca0fb",
   "metadata": {},
   "outputs": [
    {
     "data": {
      "text/html": [
       "<div>\n",
       "<style scoped>\n",
       "    .dataframe tbody tr th:only-of-type {\n",
       "        vertical-align: middle;\n",
       "    }\n",
       "\n",
       "    .dataframe tbody tr th {\n",
       "        vertical-align: top;\n",
       "    }\n",
       "\n",
       "    .dataframe thead th {\n",
       "        text-align: right;\n",
       "    }\n",
       "</style>\n",
       "<table border=\"1\" class=\"dataframe\">\n",
       "  <thead>\n",
       "    <tr style=\"text-align: right;\">\n",
       "      <th></th>\n",
       "      <th>id</th>\n",
       "      <th>document</th>\n",
       "      <th>label</th>\n",
       "    </tr>\n",
       "  </thead>\n",
       "  <tbody>\n",
       "    <tr>\n",
       "      <th>0</th>\n",
       "      <td>9976970</td>\n",
       "      <td>아 더빙.. 진짜 짜증나네요 목소리</td>\n",
       "      <td>0</td>\n",
       "    </tr>\n",
       "    <tr>\n",
       "      <th>1</th>\n",
       "      <td>3819312</td>\n",
       "      <td>흠...포스터보고 초딩영화줄....오버연기조차 가볍지 않구나</td>\n",
       "      <td>1</td>\n",
       "    </tr>\n",
       "    <tr>\n",
       "      <th>2</th>\n",
       "      <td>10265843</td>\n",
       "      <td>너무재밓었다그래서보는것을추천한다</td>\n",
       "      <td>0</td>\n",
       "    </tr>\n",
       "    <tr>\n",
       "      <th>3</th>\n",
       "      <td>9045019</td>\n",
       "      <td>교도소 이야기구먼 ..솔직히 재미는 없다..평점 조정</td>\n",
       "      <td>0</td>\n",
       "    </tr>\n",
       "    <tr>\n",
       "      <th>4</th>\n",
       "      <td>6483659</td>\n",
       "      <td>사이몬페그의 익살스런 연기가 돋보였던 영화!스파이더맨에서 늙어보이기만 했던 커스틴 ...</td>\n",
       "      <td>1</td>\n",
       "    </tr>\n",
       "  </tbody>\n",
       "</table>\n",
       "</div>"
      ],
      "text/plain": [
       "         id                                           document  label\n",
       "0   9976970                                아 더빙.. 진짜 짜증나네요 목소리      0\n",
       "1   3819312                  흠...포스터보고 초딩영화줄....오버연기조차 가볍지 않구나      1\n",
       "2  10265843                                  너무재밓었다그래서보는것을추천한다      0\n",
       "3   9045019                      교도소 이야기구먼 ..솔직히 재미는 없다..평점 조정      0\n",
       "4   6483659  사이몬페그의 익살스런 연기가 돋보였던 영화!스파이더맨에서 늙어보이기만 했던 커스틴 ...      1"
      ]
     },
     "execution_count": 30,
     "metadata": {},
     "output_type": "execute_result"
    }
   ],
   "source": [
    "from pathlib import Path\n",
    "directory = Path.joinpath(Path.cwd(),'data')\n",
    "\n",
    "filename = 'ko.bin' # Filename\n",
    "word2vec_file_path  = Path.joinpath(directory,filename)\n",
    "word2vec = gensim.models.Word2Vec.load(str(word2vec_file_path))\n",
    "\n",
    "# 데이터를 읽어봅시다. \n",
    "train_data_path = Path.joinpath(directory, 'ratings_train.txt')\n",
    "test_data_path  = Path.joinpath(directory, 'ratings_test.txt')\n",
    "\n",
    "train_data      = pd.read_table(train_data_path)\n",
    "test_data       = pd.read_table(test_data_path)\n",
    "\n",
    "train_data.head()"
   ]
  },
  {
   "cell_type": "code",
   "execution_count": 31,
   "id": "f15d2a5c",
   "metadata": {},
   "outputs": [
    {
     "name": "stdout",
     "output_type": "stream",
     "text": [
      "38656\n"
     ]
    }
   ],
   "source": [
    "vocab_size      = 10000    # 어휘 사전의 크기입니다(10,000개의 단어)\n",
    "word_vector_dim = 200      # 워드 벡터의 차원 수 (변경 가능한 하이퍼파라미터)\n",
    "BUFFER_SIZE     = 10000\n",
    "BATCH_SIZE      = 1024\n",
    "epochs          = 25\n",
    "\n",
    "\n",
    "# 152,182건의 데이터\n",
    "# epochs * 1.5(LSTM) * BATCH_SIZE 보다 큰 사이즈의 validation set이 필요 \n",
    "int_partition = int(epochs * 1.51 * BATCH_SIZE)\n",
    "print(int_partition)"
   ]
  },
  {
   "cell_type": "markdown",
   "id": "913feff2",
   "metadata": {},
   "source": [
    "### 2) 데이터로더 구성"
   ]
  },
  {
   "cell_type": "code",
   "execution_count": 32,
   "id": "61089579",
   "metadata": {},
   "outputs": [],
   "source": [
    "tokenizer = Mecab()\n",
    "stopwords = ['남', '수', '거', '기','이', '는', '다', '고', '하', '도', '의', '가', '은', '에', '을', '보', '한', '들', '지', '를', '나', '었', '만']\n",
    "\n",
    "hangul = re.compile('[^ 가-힣]+') # 한글과 띄어쓰기를 제외한 모든 글자\n",
    "\n",
    "def load_data(train_data, test_data):\n",
    "    train_data.drop_duplicates(subset=['document'], inplace=True)\n",
    "    train_data = train_data.dropna(how = 'any') \n",
    "    test_data.drop_duplicates(subset=['document'], inplace=True)\n",
    "    test_data = test_data.dropna(how = 'any') \n",
    "    \n",
    "    X_train = []\n",
    "    for sentence in train_data['document']:\n",
    "        sentence = hangul.sub(\" \", sentence)\n",
    "        temp_X = tokenizer.morphs(sentence) # 토큰화\n",
    "        temp_X = [word for word in temp_X if not word in stopwords] # 불용어 제거\n",
    "        X_train.append(temp_X)\n",
    "\n",
    "    X_test = []\n",
    "    for sentence in test_data['document']:\n",
    "        sentence = hangul.sub(\" \", sentence)\n",
    "        temp_X = tokenizer.morphs(sentence) # 토큰화\n",
    "        temp_X = [word for word in temp_X if not word in stopwords] # 불용어 제거\n",
    "        X_test.append(temp_X)\n",
    "     \n",
    "    \n",
    "    words = np.concatenate(X_train).tolist()\n",
    "    counter = Counter(words)\n",
    "    counter = counter.most_common(vocab_size-4)\n",
    "    \n",
    "    vocab = ['', '', '', ''] + [key for key, _ in counter]\n",
    "    word_to_index = {word:index for index, word in enumerate(vocab)}\n",
    "        \n",
    "    def wordlist_to_indexlist(wordlist):\n",
    "        return [word_to_index[word] if word in word_to_index else word_to_index[''] for word in wordlist]\n",
    "        \n",
    "    X_train = list(map(wordlist_to_indexlist, X_train))\n",
    "    X_test = list(map(wordlist_to_indexlist, X_test))\n",
    "        \n",
    "    return X_train, np.array(list(train_data['label'])), X_test, np.array(list(test_data['label'])), word_to_index\n",
    "\n",
    "x_train, y_train, x_test, y_test, word_to_index = load_data(train_data, test_data)\n",
    "\n"
   ]
  },
  {
   "cell_type": "code",
   "execution_count": 33,
   "id": "1d4e049d",
   "metadata": {},
   "outputs": [],
   "source": [
    "index_to_word = {index:word for word, index in word_to_index.items()}"
   ]
  },
  {
   "cell_type": "code",
   "execution_count": 34,
   "id": "2c06c97f",
   "metadata": {},
   "outputs": [],
   "source": [
    "#문장 1개를 활용할 딕셔너리와 함께 주면, 단어 인덱스 리스트 벡터로 변환해 주는 함수. \n",
    "#모든 문장은 <BOS>로 시작해야 함. \n",
    "def get_encoded_sentence(sentence, word_to_index):\n",
    "    return [word_to_index['<BOS>']]+[word_to_index[word] if word in word_to_index else word_to_index['<UNK>'] for word in sentence.split()]\n",
    "\n",
    "#여러 개의 문장 리스트를 한꺼번에 단어 인덱스 리스트 벡터로 encode해 주는 함수. \n",
    "def get_encoded_sentences(sentences, word_to_index):\n",
    "    return [get_encoded_sentence(sentence, word_to_index) for sentence in sentences]\n",
    "\n",
    "#숫자 벡터로 encode된 문장을 원래대로 decode하는 함수. \n",
    "def get_decoded_sentence(encoded_sentence, index_to_word):\n",
    "    return ' '.join(index_to_word[index] if index in index_to_word else '<UNK>' for index in encoded_sentence[1:])  #[1:]를 통해 <BOS>를 제외\n",
    "\n",
    "#여러 개의 숫자 벡터로 encode된 문장을 한꺼번에 원래대로 decode하는 함수. \n",
    "def get_decoded_sentences(encoded_sentences, index_to_word):\n",
    "    return [get_decoded_sentence(encoded_sentence, index_to_word) for encoded_sentence in encoded_sentences]"
   ]
  },
  {
   "cell_type": "markdown",
   "id": "0b3554dc",
   "metadata": {},
   "source": [
    "### 3) 모델 구성을 위한 데이터 분석 및 가공"
   ]
  },
  {
   "cell_type": "code",
   "execution_count": 35,
   "id": "81928633",
   "metadata": {},
   "outputs": [
    {
     "name": "stdout",
     "output_type": "stream",
     "text": [
      "[19, 57, 862, 25, 201, 20, 682]\n",
      "더 빙 진짜 짜증 네요 목소리\n",
      "라벨:  0\n",
      "[951, 466, 476, 624, 4, 101, 1532, 37, 852, 929, 30, 347]\n",
      "포스터 보고 초딩 영화 줄 오버 연기 조차 가볍 않 구나\n",
      "라벨:  1\n",
      "[10, 179, 3]\n",
      "재 \n",
      "라벨:  0\n",
      "[8002, 132, 4029, 263, 76, 7, 42, 3300]\n",
      "이야기 구먼 솔직히 재미 없 평점 조정\n",
      "라벨:  0\n",
      "[3, 8457, 1029, 37, 2676, 44, 4, 2604, 26, 1101, 22, 310, 27, 44, 3, 3, 378, 2897, 1652]\n",
      "익살 스런 연기 돋보였 던 영화 스파이더맨 에서 늙 어 보이 했 던   너무나 이뻐 보였\n",
      "라벨:  1\n",
      "[612, 3, 3, 399, 161, 1432, 645, 1580, 653, 35, 3, 4, 2126, 103, 684]\n",
      "  세 부터 초등 학교 학년 생 인  영화 별반 개 아까움\n",
      "라벨:  0\n",
      "[225, 334, 338, 1887, 41, 764]\n",
      "긴장감 제대로 살려 내 못했\n",
      "라벨:  0\n",
      "[204, 1321, 120, 372, 685, 3, 3, 37, 1411, 255, 82, 220, 14, 786, 15, 311, 591, 487, 457, 525, 3142, 8458, 1358, 1358, 55, 267, 7, 37, 86, 60, 3, 29]\n",
      "반개 아깝 욕 나온다   연기 생활 몇 년 인지 정말 발 로 해도 그것 보단 낫 겟 납치 감금 반복 반복 드라마 가족 없 연기 못 사람  네\n",
      "라벨:  0\n",
      "[108, 7, 9, 76, 6, 255, 13, 32, 4]\n",
      "없 는데 재미 있 몇 안 되 영화\n",
      "라벨:  1\n",
      "[48, 595, 42, 213, 686, 519, 72, 462, 1376, 581, 672, 64, 10, 3, 6]\n",
      "케 평점 낮 건데 꽤 볼 한데 헐리우드 식 화려 함 너무  있\n",
      "라벨:  1\n",
      "[3, 25, 202]\n",
      "진짜 짱\n",
      "라벨:  1\n",
      "[72, 62, 389, 2319, 90, 187, 49, 82, 160, 2494, 828, 3, 627, 2605, 2111, 6155]\n",
      "때 마다 눈물나 서 죽 겠 년 대 향수 자극  감성 절제 멜로 달인\n",
      "라벨:  1\n",
      "[248, 93, 3, 3, 8003, 3, 62, 3, 384, 3724, 37, 1223, 5, 1667]\n",
      "면서   보도  때  뻔 이범수 연기 드럽 게 못해\n",
      "라벨:  0\n",
      "[2365, 1216, 102, 8, 8987, 2568, 15, 74, 33, 817, 3, 58, 60, 115, 18]\n",
      "깔끔 해서 좋 신문 기사 로 보다 면 자꾸  그 사람 다는 것\n",
      "라벨:  1\n",
      "[856, 3888, 3, 25, 1805, 289, 26, 65, 4, 79, 209, 234, 83, 234, 61, 109, 50, 22, 1139, 61, 3660]\n",
      "존중  진짜 내생 극장 에서 본 영화 중 가장 노 잼 노 감동 임 스토리 어 거지 감동 어거지\n",
      "라벨:  0\n",
      "[2969, 2514, 1274, 32, 179, 227, 17]\n",
      "매번 긴장 되 재 밋 음\n",
      "라벨:  1\n",
      "[116, 60, 1096, 5, 7230, 3, 3, 1217, 91, 573, 4966, 1322, 33, 1480, 91, 3, 77, 573, 59, 139, 7231, 149, 18, 246, 1275]\n",
      "사람 웃긴 게 바스코   코 라고 까 바비 이기 면 아이돌 라고  그냥 까 싶 어서 안달 난 것 처럼 보인다\n",
      "라벨:  1\n",
      "[5751, 3, 1168, 35, 18, 145, 9, 48, 558, 15, 506, 88, 22, 87]\n",
      " 표절 인 것 이해 는데 왜 뒤 로 갈수록 재미없 어 냐\n",
      "라벨:  0\n",
      "[106, 14, 2442, 423, 34, 3, 30, 6646, 71, 445, 38, 1447, 602, 3, 2442, 129, 379]\n",
      "정말 깨알 캐스팅 과  않 산뜻 내용 구성 잘 버 무  깨알 일 드\n",
      "라벨:  1\n",
      "[3, 508, 4536, 73, 3, 1541, 392, 368, 3]\n",
      "위한 변명 라  착한 놈 절대 \n",
      "라벨:  1\n",
      "[357, 1832, 1370, 6, 53, 77, 1505, 1063, 34, 7577, 4, 368, 547]\n",
      "심오 뜻 있 듯 그냥 학생 선생 과 놀아나 영화 절대 아님\n",
      "라벨:  1\n",
      "[93, 216, 30, 111, 507, 657]\n",
      "웃 않 건 불 가능\n",
      "라벨:  1\n",
      "[88, 80, 24, 2127, 4, 142, 3, 9596, 141, 1084, 3, 9596, 132, 6, 2127, 76, 6, 9, 106, 72, 5, 7, 2127, 147, 13, 96, 3, 1672, 327, 2858, 47, 3805, 9, 591, 147, 13, 774]\n",
      "지루 같 음식 영화 인데  만찬 넘 차이  만찬 이야기 있 음식 재미 있 는데 이건 볼 게 없 음식 별로 안 나오  풍경 라도 구경 할 랫 는데 그것 별로 안 나옴\n",
      "라벨:  0\n",
      "[368, 743, 4, 247, 400, 113, 148, 2495, 1097]\n",
      "평범 영화 아닌 수작 라는 걸 말씀 드립니다\n",
      "라벨:  1\n",
      "[548, 8, 205, 866, 161, 80]\n",
      "좋 은데 중반 부터 지루\n",
      "라벨:  0\n",
      "[3, 504, 99, 542, 2859, 47, 7, 44, 99, 1605, 504, 99, 180, 993, 44, 148, 3]\n",
      "꺼 야 그래서 납득 할 없 던 야 그럴 꺼 야 꼭 그랬 던 걸 \n",
      "라벨:  0\n",
      "[6647, 2569, 22, 6156, 5752]\n",
      "털 어 버려야 할텐데\n",
      "라벨:  1\n",
      "[3, 607]\n",
      "발연기\n",
      "라벨:  0\n",
      "[179, 227, 2470]\n",
      "밋 뎅\n",
      "라벨:  1\n",
      "[1673, 6, 776, 2391, 423, 82, 160, 2494, 542, 28]\n",
      "있 연출력 탁월 캐스팅 년 대 향수 그래서 점\n",
      "라벨:  1\n",
      "[2443, 1897, 8004, 94, 95, 1412, 5, 51, 233, 12, 1701, 2970, 137, 37, 14, 8, 31, 46, 114, 1515, 55]\n",
      "포스 위력 다시 번 깨닫 게 해 준 적 꽃 검사 님 연기 정말 좋 았 어요 완전 명품 드라마\n",
      "라벨:  1\n",
      "[654, 89, 479, 36, 13, 4625, 19, 78, 824]\n",
      "쓰레기 진부 말 안 됌 아 시간 아까워\n",
      "라벨:  0\n",
      "[21, 9, 518, 48, 512, 213, 3]\n",
      "는데 별점 왜 이리 낮 \n",
      "라벨:  1\n",
      "[327, 110, 27, 44, 41, 8988, 112, 8988, 112]\n",
      "기대 했 던 내 죄인 입니다 죄인 입니다\n",
      "라벨:  0\n",
      "[245, 55, 6648, 40]\n",
      "드라마 내인생의 최고\n",
      "라벨:  1\n",
      "[3725, 260, 1309, 8005, 3]\n",
      "대한 열정 안나 \n",
      "라벨:  1\n",
      "[7232, 3, 37, 906, 27, 44, 111, 600, 431, 1481, 990, 2177, 1481, 990]\n",
      " 연기 고자 했 던 건 대체 정신 장애 일까 틱 장애 일까\n",
      "라벨:  0\n",
      "[2860, 503, 299, 431, 2150, 3093, 73, 81, 49, 20]\n",
      "원 작가 정신 나간 유령 라 재미있 겠 네요\n",
      "라벨:  1\n",
      "[466, 6, 22, 310, 9, 411, 373, 29]\n",
      "있 어 보이 는데 관객 명 네\n",
      "라벨:  0\n",
      "[4, 48, 126, 177, 500, 163, 157, 125, 49]\n",
      "왜 이렇게 저 평가 받 는지 모르 겠\n",
      "라벨:  1\n",
      "[748, 93, 4223, 219, 4]\n",
      "면서 은은 매력 영화\n",
      "라벨:  1\n",
      "[69, 293, 653, 235, 71, 7, 898, 7, 1096, 97, 7, 17, 114, 204, 6649, 4, 41, 78, 141, 1242, 1709, 114, 1013, 109]\n",
      "바 생 인가 내용 없 무서운 없 웃긴 하나 없 음 완전 별 싱거운 영화 내 시간 넘 아까 움 완전 낚 임\n",
      "라벨:  0\n",
      "[211, 5, 165, 932, 7578, 3]\n",
      "게 두 어라 서리 \n",
      "라벨:  1\n",
      "[14, 471, 46, 542, 153, 59, 205, 153, 1441, 7, 29]\n",
      "맘 어요 그래서 또 싶 은데 또 방법 없 네\n",
      "라벨:  1\n",
      "[7579, 113, 435, 63, 1388, 5, 488, 46, 1413, 3806, 318, 1102, 7233, 5, 164, 212, 320, 303, 20, 28, 39, 59, 205, 42, 1157, 59, 22, 28, 101, 6937]\n",
      "라는 멋진 배우 발견 게 됐 어요 소소 일탈 잔잔 미소 머금 게 합니다 음악 조금 아쉽 네요 점 주 싶 은데 평점 올리 싶 어 점 줄 게요\n",
      "라벨:  1\n",
      "[42, 3889, 1052, 169, 78, 530, 127, 530, 109]\n",
      "속지 마시 길 시간 낭비 돈 낭비 임\n",
      "라벨:  0\n",
      "[2349, 2071, 184, 462, 489, 283, 13, 840, 3357, 264, 431, 3, 1212, 1448, 1481, 3475, 3, 129, 7580, 60, 1752, 372, 3807, 3, 320, 1771, 84, 17, 492, 415, 171, 405, 27, 9, 33, 506, 3357, 431, 1759, 283, 1237]\n",
      "뛰어나 긴 한데 큰 공감 안 간다 이민기 캐릭터 정신  분노 조절 장애 초기  일 툭하면 사람 패 욕 물건  조금 오바 였 음 극 초반 엔 신선 했 는데 면 갈수록 이민기 정신 상태 공감 불가\n",
      "라벨:  0\n",
      "[1639, 48, 7, 87, 3143, 288, 476, 4, 217, 325, 69, 3057, 1262, 26, 43, 70, 91, 127, 3, 44]\n",
      "왜 없 냐 뮤 비 보고 영화 수준 딱 알 더군 북한 에서 이런 만들 라고 돈  던\n",
      "라벨:  0\n",
      "[149, 167, 4, 85, 164]\n",
      "우리 영화 사랑 합니다\n",
      "라벨:  0\n",
      "[3, 8006, 3, 3, 171, 240, 2606, 32, 59, 3358, 287, 8989, 178, 3, 327, 585, 194, 727, 352, 435, 392, 146, 3, 428, 3, 84, 9, 55, 194, 727, 4847, 240, 352, 662, 29, 414, 75, 137, 4848, 2128, 2791, 36, 19, 3, 3, 1162, 3, 27, 17]\n",
      "리스   엔 용 주인 되 싶 누 이랑 근친상간 이나  라도 소설 속 에선 제일 멋진 놈 자  라니  였 는데 드라마 속 에선 드래곤 용 제일 멋지 네 웃음 감독 님 토르 다크 월드 말 아   기본  했 음\n",
      "라벨:  1\n"
     ]
    }
   ],
   "source": [
    "for i in range(50):\n",
    "    print(x_train[i])\n",
    "    print(get_decoded_sentence(x_train[i], index_to_word))\n",
    "    print('라벨: ', y_train[i])"
   ]
  },
  {
   "cell_type": "code",
   "execution_count": 36,
   "id": "97c3dd52",
   "metadata": {},
   "outputs": [
    {
     "name": "stdout",
     "output_type": "stream",
     "text": [
      "문장길이 평균 :  11.8576577130015\n",
      "문장길이 최대 :  71\n",
      "문장길이 표준편차 :  9.961570575265085\n",
      "pad_sequences maxlen :  21\n",
      "전체 문장의 0.8722938071762423%가 maxlen 설정값 이내에 포함됩니다. \n"
     ]
    }
   ],
   "source": [
    "total_data_text = list(x_train) + list(x_test)\n",
    "# 텍스트데이터 문장길이의 리스트를 생성한 후\n",
    "num_tokens = [len(tokens) for tokens in total_data_text]\n",
    "num_tokens = np.array(num_tokens)\n",
    "# 문장길이의 평균값, 최대값, 표준편차를 계산해 본다. \n",
    "print('문장길이 평균 : ', np.mean(num_tokens))\n",
    "print('문장길이 최대 : ', np.max(num_tokens))\n",
    "print('문장길이 표준편차 : ', np.std(num_tokens))\n",
    "\n",
    "# 예를들어, 최대 길이를 (평균 + 표준편차)로 한다면,  \n",
    "max_tokens = np.mean(num_tokens) + np.std(num_tokens)\n",
    "maxlen = int(max_tokens)\n",
    "\n",
    "print('pad_sequences maxlen : ', maxlen)\n",
    "print('전체 문장의 {}%가 maxlen 설정값 이내에 포함됩니다. '.format(np.sum(num_tokens < max_tokens) / len(num_tokens)))\n"
   ]
  },
  {
   "cell_type": "code",
   "execution_count": 37,
   "id": "5f1ec08d",
   "metadata": {},
   "outputs": [],
   "source": [
    "# 처음 몇 개 인덱스는 사전에 정의되어 있습니다\n",
    "word_to_index[\"<PAD>\"]    = 0\n",
    "word_to_index[\"<BOS>\"]    = 1\n",
    "word_to_index[\"<UNK>\"]    = 2  # unknown\n",
    "word_to_index[\"<UNUSED>\"] = 3\n",
    "\n",
    "index_to_word = {index:word for word, index in word_to_index.items()}"
   ]
  },
  {
   "cell_type": "code",
   "execution_count": 38,
   "id": "cff26868",
   "metadata": {},
   "outputs": [
    {
     "name": "stdout",
     "output_type": "stream",
     "text": [
      "<PAD>\n",
      "<BOS>\n",
      "<UNK>\n",
      "<UNUSED>\n",
      "영화\n"
     ]
    }
   ],
   "source": [
    "for i in range(5):\n",
    "    print(index_to_word[i])"
   ]
  },
  {
   "cell_type": "code",
   "execution_count": 39,
   "id": "43fb6e28",
   "metadata": {},
   "outputs": [
    {
     "name": "stderr",
     "output_type": "stream",
     "text": [
      "/tmp/ipykernel_228/1390784066.py:5: DeprecationWarning: Call to deprecated `__contains__` (Method will be removed in 4.0.0, use self.wv.__contains__() instead).\n",
      "  if index_to_word[i] in word2vec:\n",
      "/tmp/ipykernel_228/1390784066.py:6: DeprecationWarning: Call to deprecated `__getitem__` (Method will be removed in 4.0.0, use self.wv.__getitem__() instead).\n",
      "  embedding_matrix[i] = word2vec[index_to_word[i]]\n"
     ]
    }
   ],
   "source": [
    "embedding_matrix = np.random.rand(vocab_size, word_vector_dim)\n",
    "\n",
    "# embedding_matrix에 Word2Vec 워드 벡터를 단어 하나씩마다 차례차례 카피한다.\n",
    "for i in range(4,vocab_size):\n",
    "    if index_to_word[i] in word2vec:\n",
    "        embedding_matrix[i] = word2vec[index_to_word[i]]"
   ]
  },
  {
   "cell_type": "code",
   "execution_count": 40,
   "id": "cb18db12",
   "metadata": {},
   "outputs": [],
   "source": [
    "import matplotlib.pyplot as plt\n",
    "\n",
    "def plot_graphs(history, metric):\n",
    "    '''\n",
    "    히스토리 그래프\n",
    "    '''\n",
    "    plt.plot(history.history[metric])\n",
    "    plt.plot(history.history['val_' + metric], '')\n",
    "    plt.xlabel(\"Epochs\")\n",
    "    plt.ylabel(metric)\n",
    "    plt.legend([metric, 'val_' + metric])"
   ]
  },
  {
   "cell_type": "code",
   "execution_count": 41,
   "id": "38ad3937",
   "metadata": {},
   "outputs": [],
   "source": [
    "def predict(model, sentences, word_to_index, index_to_word, maxlen):\n",
    "    '''\n",
    "    점수예측\n",
    "    '''\n",
    "    encoded_sentences = get_encoded_sentences(sentences, word_to_index)\n",
    "    print(encoded_sentences)\n",
    "    decoded_sentences = get_decoded_sentences(encoded_sentences, index_to_word)\n",
    "    print(decoded_sentences)\n",
    "    to_test = tf.keras.preprocessing.sequence.pad_sequences(encoded_sentences,\n",
    "                                                           value=word_to_index[\"<PAD>\"],\n",
    "                                                           padding='post', # 혹은 'pre'\n",
    "                                                           maxlen=maxlen)\n",
    "    predictions = model.predict(to_test)\n",
    "    print(predictions)"
   ]
  },
  {
   "cell_type": "markdown",
   "id": "5a9f1bc7",
   "metadata": {},
   "source": [
    "### 4) 모델 구성 및 validation set 구성"
   ]
  },
  {
   "cell_type": "code",
   "execution_count": 42,
   "id": "7a295cbe",
   "metadata": {},
   "outputs": [
    {
     "name": "stdout",
     "output_type": "stream",
     "text": [
      "(146182, 21)\n"
     ]
    }
   ],
   "source": [
    "x_train = tf.keras.preprocessing.sequence.pad_sequences(x_train,\n",
    "                                                        value=word_to_index[\"<PAD>\"],\n",
    "                                                        padding='post', # 혹은 'pre'\n",
    "                                                        maxlen=maxlen)\n",
    "\n",
    "x_test = tf.keras.preprocessing.sequence.pad_sequences(x_test,\n",
    "                                                       value=word_to_index[\"<PAD>\"],\n",
    "                                                       padding='post', # 혹은 'pre'\n",
    "                                                       maxlen=maxlen)\n",
    "\n",
    "print(x_train.shape)"
   ]
  },
  {
   "cell_type": "code",
   "execution_count": 43,
   "id": "1df9d16f",
   "metadata": {},
   "outputs": [
    {
     "name": "stdout",
     "output_type": "stream",
     "text": [
      "(107526, 21)\n",
      "(107526,)\n"
     ]
    }
   ],
   "source": [
    "x_val = x_train[:int_partition]   \n",
    "y_val = y_train[:int_partition]\n",
    "\n",
    "# validation set을 제외한 나머지 \n",
    "partial_x_train = x_train[int_partition:]  \n",
    "partial_y_train = y_train[int_partition:]\n",
    "\n",
    "print(partial_x_train.shape)\n",
    "print(partial_y_train.shape)"
   ]
  },
  {
   "cell_type": "markdown",
   "id": "30d8db05",
   "metadata": {},
   "source": [
    "#### 모델1. 컨볼루션 레이어로 구성"
   ]
  },
  {
   "cell_type": "code",
   "execution_count": 44,
   "id": "a611e2c9",
   "metadata": {},
   "outputs": [
    {
     "name": "stdout",
     "output_type": "stream",
     "text": [
      "Model: \"sequential_1\"\n",
      "_________________________________________________________________\n",
      "Layer (type)                 Output Shape              Param #   \n",
      "=================================================================\n",
      "embedding_1 (Embedding)      (None, 21, 200)           2000000   \n",
      "_________________________________________________________________\n",
      "conv1d_2 (Conv1D)            (None, 21, 8)             8008      \n",
      "_________________________________________________________________\n",
      "max_pooling1d_1 (MaxPooling1 (None, 4, 8)              0         \n",
      "_________________________________________________________________\n",
      "conv1d_3 (Conv1D)            (None, 4, 8)              328       \n",
      "_________________________________________________________________\n",
      "global_max_pooling1d_1 (Glob (None, 8)                 0         \n",
      "_________________________________________________________________\n",
      "dense_2 (Dense)              (None, 8)                 72        \n",
      "_________________________________________________________________\n",
      "dense_3 (Dense)              (None, 1)                 9         \n",
      "=================================================================\n",
      "Total params: 2,008,417\n",
      "Trainable params: 2,008,417\n",
      "Non-trainable params: 0\n",
      "_________________________________________________________________\n"
     ]
    }
   ],
   "source": [
    "from tensorflow.keras.initializers import Constant\n",
    "\n",
    "# 모델 구성\n",
    "model = tf.keras.Sequential()\n",
    "model.add(tf.keras.layers.Embedding(vocab_size, \n",
    "                                 word_vector_dim, \n",
    "                                 embeddings_initializer=Constant(embedding_matrix),  # 카피한 임베딩을 여기서 활용\n",
    "                                 input_length=maxlen, \n",
    "                                 trainable=True))   # trainable을 True로 주면 Fine-tuning\n",
    "model.add(tf.keras.layers.Conv1D(8, 5, activation='relu', padding='same'))\n",
    "model.add(tf.keras.layers.MaxPooling1D(5))\n",
    "model.add(tf.keras.layers.Conv1D(8, 5, activation='relu', padding='same'))\n",
    "model.add(tf.keras.layers.GlobalMaxPooling1D())\n",
    "model.add(tf.keras.layers.Dense(8, activation='relu'))\n",
    "model.add(tf.keras.layers.Dense(1, activation='sigmoid')) \n",
    "model.summary()\n"
   ]
  },
  {
   "cell_type": "code",
   "execution_count": 45,
   "id": "921b835d",
   "metadata": {},
   "outputs": [
    {
     "name": "stdout",
     "output_type": "stream",
     "text": [
      "Epoch 1/8\n",
      "106/106 [==============================] - 2s 10ms/step - loss: 0.6408 - accuracy: 0.6257 - val_loss: 0.5445 - val_accuracy: 0.7257\n",
      "Epoch 2/8\n",
      "106/106 [==============================] - 1s 8ms/step - loss: 0.4938 - accuracy: 0.7612 - val_loss: 0.4513 - val_accuracy: 0.7892\n",
      "Epoch 3/8\n",
      "106/106 [==============================] - 1s 8ms/step - loss: 0.4192 - accuracy: 0.8080 - val_loss: 0.4116 - val_accuracy: 0.8121\n",
      "Epoch 4/8\n",
      "106/106 [==============================] - 1s 8ms/step - loss: 0.3775 - accuracy: 0.8323 - val_loss: 0.3991 - val_accuracy: 0.8171\n",
      "Epoch 5/8\n",
      "106/106 [==============================] - 1s 8ms/step - loss: 0.3468 - accuracy: 0.8486 - val_loss: 0.3773 - val_accuracy: 0.8330\n",
      "Epoch 6/8\n",
      "106/106 [==============================] - 1s 8ms/step - loss: 0.3194 - accuracy: 0.8634 - val_loss: 0.3953 - val_accuracy: 0.8280\n",
      "Epoch 7/8\n",
      "106/106 [==============================] - 1s 8ms/step - loss: 0.3044 - accuracy: 0.8714 - val_loss: 0.4754 - val_accuracy: 0.7998\n",
      "Epoch 8/8\n",
      "106/106 [==============================] - 1s 8ms/step - loss: 0.3016 - accuracy: 0.8730 - val_loss: 0.3856 - val_accuracy: 0.8305\n"
     ]
    }
   ],
   "source": [
    "model.compile(optimizer='adam',\n",
    "              loss='binary_crossentropy',\n",
    "              metrics=['accuracy'])\n",
    "              \n",
    "epochs_Conv=8  # 몇 epoch를 훈련하면 좋을지 결과를 보면서 바꾸어 봅시다. \n",
    "history = model.fit(partial_x_train,\n",
    "                    partial_y_train,\n",
    "                    epochs=epochs_Conv,\n",
    "                    batch_size=BATCH_SIZE,\n",
    "                    validation_data=(x_val, y_val),\n",
    "                    verbose=1)"
   ]
  },
  {
   "cell_type": "code",
   "execution_count": 46,
   "id": "3b4a88c7",
   "metadata": {},
   "outputs": [
    {
     "name": "stdout",
     "output_type": "stream",
     "text": [
      "1537/1537 [==============================] - 3s 2ms/step - loss: 0.3977 - accuracy: 0.8267\n",
      "Test Loss: 0.3976811170578003\n",
      "Test Accuracy: 0.8266981244087219\n"
     ]
    }
   ],
   "source": [
    "test_loss, test_acc = model.evaluate(x_test, y_test)\n",
    "\n",
    "print('Test Loss:', test_loss)\n",
    "print('Test Accuracy:', test_acc)\n"
   ]
  },
  {
   "cell_type": "code",
   "execution_count": 47,
   "id": "37433d6d",
   "metadata": {},
   "outputs": [
    {
     "data": {
      "text/plain": [
       "(0.0, 0.6577836439013481)"
      ]
     },
     "execution_count": 47,
     "metadata": {},
     "output_type": "execute_result"
    },
    {
     "data": {
      "image/png": "[encoded data removed]",
      "text/plain": [
       "<Figure size 1152x576 with 2 Axes>"
      ]
     },
     "metadata": {
      "needs_background": "light"
     },
     "output_type": "display_data"
    }
   ],
   "source": [
    "plt.figure(figsize=(16, 8))\n",
    "plt.subplot(1, 2, 1)\n",
    "plot_graphs(history, 'accuracy')\n",
    "plt.ylim(None, 1)\n",
    "plt.subplot(1, 2, 2)\n",
    "plot_graphs(history, 'loss')\n",
    "plt.ylim(0, None)"
   ]
  },
  {
   "cell_type": "code",
   "execution_count": 48,
   "id": "ed2b608e",
   "metadata": {},
   "outputs": [
    {
     "name": "stdout",
     "output_type": "stream",
     "text": [
      "[[1, 2, 2, 2, 2, 2, 2, 2, 43, 2, 2, 2, 2, 1639, 2], [1, 2, 2, 2, 1566, 1426, 2, 2, 2, 2, 6989, 6836, 2, 2, 2]]\n",
      "['<UNK> <UNK> <UNK> <UNK> <UNK> <UNK> <UNK> 이런 <UNK> <UNK> <UNK> <UNK> 마이너스 <UNK>', '<UNK> <UNK> <UNK> 고양이 로봇 <UNK> <UNK> <UNK> <UNK> 미지 탐험 <UNK> <UNK> <UNK>']\n",
      "[[0.07711936]\n",
      " [0.16395698]]\n"
     ]
    }
   ],
   "source": [
    "sentences = ('ㅋㅋㅋ 난생처음 로그인하고 평점남기네요.. 개빡쳐서.. 알바들 속지마세요 이런 ㄱ ㅐ같은 시간낭비가. 아놔진짜평점 마이너스 별오만개',\n",
    "             '최고최고! 바다까지! 4차원 고양이 로봇 도라에몽과 함께하는 진구와 친구들의 미지 탐험 이야기!우주꺼지 갔음 좋겠당~')\n",
    "predict(model, sentences, word_to_index, index_to_word, maxlen)"
   ]
  },
  {
   "cell_type": "markdown",
   "id": "e15fcea4",
   "metadata": {},
   "source": [
    "#### 모델2.  RNN LSTM 1레이어로 구성"
   ]
  },
  {
   "cell_type": "code",
   "execution_count": 49,
   "id": "fb19ac67",
   "metadata": {},
   "outputs": [],
   "source": [
    "from tensorflow.keras.initializers import Constant\n",
    "\n",
    "model = tf.keras.Sequential()\n",
    "model.add(tf.keras.layers.Embedding(vocab_size, \n",
    "                                 word_vector_dim, \n",
    "                                 embeddings_initializer=Constant(embedding_matrix),  # 카피한 임베딩을 여기서 활용\n",
    "                                 input_length=maxlen, \n",
    "                                 trainable=True))   # trainable을 True로 주면 Fine-tuning\n",
    "model.add(tf.keras.layers.Bidirectional(tf.keras.layers.LSTM(64)))\n",
    "model.add(tf.keras.layers.Dense(64, activation='relu'))\n",
    "model.add(tf.keras.layers.Dense(1))"
   ]
  },
  {
   "cell_type": "code",
   "execution_count": 50,
   "id": "0853bdfc",
   "metadata": {},
   "outputs": [
    {
     "name": "stdout",
     "output_type": "stream",
     "text": [
      "[False, True, True, True]\n"
     ]
    }
   ],
   "source": [
    "print([layer.supports_masking for layer in model.layers])"
   ]
  },
  {
   "cell_type": "code",
   "execution_count": 51,
   "id": "26244359",
   "metadata": {},
   "outputs": [],
   "source": [
    "model.compile(loss=tf.keras.losses.BinaryCrossentropy(from_logits=True),\n",
    "              optimizer=tf.keras.optimizers.Adam(1e-4),\n",
    "              metrics=['accuracy'])"
   ]
  },
  {
   "cell_type": "code",
   "execution_count": 52,
   "id": "fe4bb770",
   "metadata": {
    "scrolled": false
   },
   "outputs": [
    {
     "name": "stdout",
     "output_type": "stream",
     "text": [
      "Epoch 1/25\n",
      "106/106 [==============================] - 8s 21ms/step - loss: 0.6683 - accuracy: 0.5322 - val_loss: 0.6207 - val_accuracy: 0.6065\n",
      "Epoch 2/25\n",
      "106/106 [==============================] - 2s 14ms/step - loss: 0.5729 - accuracy: 0.6774 - val_loss: 0.5345 - val_accuracy: 0.7239\n",
      "Epoch 3/25\n",
      "106/106 [==============================] - 2s 14ms/step - loss: 0.5146 - accuracy: 0.7319 - val_loss: 0.5047 - val_accuracy: 0.7292\n",
      "Epoch 4/25\n",
      "106/106 [==============================] - 2s 14ms/step - loss: 0.4888 - accuracy: 0.7507 - val_loss: 0.4757 - val_accuracy: 0.7591\n",
      "Epoch 5/25\n",
      "106/106 [==============================] - 2s 14ms/step - loss: 0.4624 - accuracy: 0.7695 - val_loss: 0.4582 - val_accuracy: 0.7776\n",
      "Epoch 6/25\n",
      "106/106 [==============================] - 2s 14ms/step - loss: 0.4437 - accuracy: 0.7829 - val_loss: 0.4458 - val_accuracy: 0.7717\n",
      "Epoch 7/25\n",
      "106/106 [==============================] - 2s 14ms/step - loss: 0.4271 - accuracy: 0.7928 - val_loss: 0.4330 - val_accuracy: 0.7954\n",
      "Epoch 8/25\n",
      "106/106 [==============================] - 2s 14ms/step - loss: 0.4134 - accuracy: 0.8022 - val_loss: 0.4200 - val_accuracy: 0.7980\n",
      "Epoch 9/25\n",
      "106/106 [==============================] - 2s 14ms/step - loss: 0.3995 - accuracy: 0.8104 - val_loss: 0.4663 - val_accuracy: 0.7567\n",
      "Epoch 10/25\n",
      "106/106 [==============================] - 2s 14ms/step - loss: 0.3962 - accuracy: 0.8111 - val_loss: 0.4109 - val_accuracy: 0.8113\n",
      "Epoch 11/25\n",
      "106/106 [==============================] - 2s 14ms/step - loss: 0.3793 - accuracy: 0.8222 - val_loss: 0.4474 - val_accuracy: 0.8090\n",
      "Epoch 12/25\n",
      "106/106 [==============================] - 2s 14ms/step - loss: 0.3811 - accuracy: 0.8218 - val_loss: 0.3969 - val_accuracy: 0.8161\n",
      "Epoch 13/25\n",
      "106/106 [==============================] - 2s 14ms/step - loss: 0.3629 - accuracy: 0.8313 - val_loss: 0.3981 - val_accuracy: 0.8025\n",
      "Epoch 14/25\n",
      "106/106 [==============================] - 2s 15ms/step - loss: 0.3561 - accuracy: 0.8349 - val_loss: 0.3845 - val_accuracy: 0.8179\n",
      "Epoch 15/25\n",
      "106/106 [==============================] - 2s 14ms/step - loss: 0.3491 - accuracy: 0.8392 - val_loss: 0.3916 - val_accuracy: 0.8075\n",
      "Epoch 16/25\n",
      "106/106 [==============================] - 2s 14ms/step - loss: 0.3420 - accuracy: 0.8426 - val_loss: 0.3805 - val_accuracy: 0.8272\n",
      "Epoch 17/25\n",
      "106/106 [==============================] - 2s 14ms/step - loss: 0.3341 - accuracy: 0.8476 - val_loss: 0.3744 - val_accuracy: 0.8253\n",
      "Epoch 18/25\n",
      "106/106 [==============================] - 2s 14ms/step - loss: 0.3286 - accuracy: 0.8507 - val_loss: 0.3739 - val_accuracy: 0.8294\n",
      "Epoch 19/25\n",
      "106/106 [==============================] - 2s 14ms/step - loss: 0.3233 - accuracy: 0.8543 - val_loss: 0.3704 - val_accuracy: 0.8276\n",
      "Epoch 20/25\n",
      "106/106 [==============================] - 2s 15ms/step - loss: 0.3170 - accuracy: 0.8571 - val_loss: 0.3701 - val_accuracy: 0.8324\n",
      "Epoch 21/25\n",
      "106/106 [==============================] - 2s 14ms/step - loss: 0.3138 - accuracy: 0.8582 - val_loss: 0.4119 - val_accuracy: 0.8299\n",
      "Epoch 22/25\n",
      "106/106 [==============================] - 2s 14ms/step - loss: 0.3128 - accuracy: 0.8592 - val_loss: 0.3663 - val_accuracy: 0.8293\n",
      "Epoch 23/25\n",
      "106/106 [==============================] - 2s 14ms/step - loss: 0.3029 - accuracy: 0.8654 - val_loss: 0.3673 - val_accuracy: 0.8250\n",
      "Epoch 24/25\n",
      "106/106 [==============================] - 2s 15ms/step - loss: 0.2984 - accuracy: 0.8668 - val_loss: 0.3678 - val_accuracy: 0.8360\n",
      "Epoch 25/25\n",
      "106/106 [==============================] - 2s 14ms/step - loss: 0.2933 - accuracy: 0.8697 - val_loss: 0.3857 - val_accuracy: 0.8374\n"
     ]
    }
   ],
   "source": [
    "history = model.fit(partial_x_train,\n",
    "                    partial_y_train,\n",
    "                    epochs=epochs,\n",
    "                    batch_size=BATCH_SIZE,\n",
    "                    validation_data=(x_val, y_val),\n",
    "                    verbose=1)"
   ]
  },
  {
   "cell_type": "code",
   "execution_count": 53,
   "id": "679c4322",
   "metadata": {},
   "outputs": [
    {
     "name": "stdout",
     "output_type": "stream",
     "text": [
      "1537/1537 [==============================] - 4s 3ms/step - loss: 0.3952 - accuracy: 0.8323\n",
      "Test Loss: 0.3951509892940521\n",
      "Test Accuracy: 0.8322721123695374\n"
     ]
    }
   ],
   "source": [
    "test_loss, test_acc = model.evaluate(x_test, y_test)\n",
    "\n",
    "print('Test Loss:', test_loss)\n",
    "print('Test Accuracy:', test_acc)"
   ]
  },
  {
   "cell_type": "code",
   "execution_count": 54,
   "id": "45301b88",
   "metadata": {},
   "outputs": [
    {
     "data": {
      "text/plain": [
       "(0.0, 0.6870247215032578)"
      ]
     },
     "execution_count": 54,
     "metadata": {},
     "output_type": "execute_result"
    },
    {
     "data": {
      "image/png": "[encoded data removed]",
      "text/plain": [
       "<Figure size 1152x576 with 2 Axes>"
      ]
     },
     "metadata": {
      "needs_background": "light"
     },
     "output_type": "display_data"
    }
   ],
   "source": [
    "plt.figure(figsize=(16, 8))\n",
    "plt.subplot(1, 2, 1)\n",
    "plot_graphs(history, 'accuracy')\n",
    "plt.ylim(None, 1)\n",
    "plt.subplot(1, 2, 2)\n",
    "plot_graphs(history, 'loss')\n",
    "plt.ylim(0, None)"
   ]
  },
  {
   "cell_type": "code",
   "execution_count": 55,
   "id": "25e27ca5",
   "metadata": {},
   "outputs": [
    {
     "name": "stdout",
     "output_type": "stream",
     "text": [
      "[[1, 2, 2, 2, 2, 2, 2, 2, 43, 2, 2, 2, 2, 1639, 2], [1, 2, 2, 2, 1566, 1426, 2, 2, 2, 2, 6989, 6836, 2, 2, 2]]\n",
      "['<UNK> <UNK> <UNK> <UNK> <UNK> <UNK> <UNK> 이런 <UNK> <UNK> <UNK> <UNK> 마이너스 <UNK>', '<UNK> <UNK> <UNK> 고양이 로봇 <UNK> <UNK> <UNK> <UNK> 미지 탐험 <UNK> <UNK> <UNK>']\n",
      "[[4.963264 ]\n",
      " [5.3259215]]\n"
     ]
    }
   ],
   "source": [
    "sentences = ('ㅋㅋㅋ 난생처음 로그인하고 평점남기네요.. 개빡쳐서.. 알바들 속지마세요 이런 ㄱ ㅐ같은 시간낭비가. 아놔진짜평점 마이너스 별오만개',\n",
    "             '최고최고! 바다까지! 4차원 고양이 로봇 도라에몽과 함께하는 진구와 친구들의 미지 탐험 이야기!우주꺼지 갔음 좋겠당~')\n",
    "predict(model, sentences, word_to_index, index_to_word, maxlen)"
   ]
  },
  {
   "cell_type": "markdown",
   "id": "3a74636b",
   "metadata": {},
   "source": [
    "#### 모델3. RNN LSTM 2레이어로 구성"
   ]
  },
  {
   "cell_type": "code",
   "execution_count": 56,
   "id": "a6926e53",
   "metadata": {},
   "outputs": [],
   "source": [
    "model = tf.keras.Sequential([\n",
    "    tf.keras.layers.Embedding(vocab_size, \n",
    "                                 word_vector_dim, \n",
    "                                 embeddings_initializer=Constant(embedding_matrix),  # 카피한 임베딩을 여기서 활용\n",
    "                                 input_length=maxlen, \n",
    "                                 trainable=True),\n",
    "    tf.keras.layers.Bidirectional(tf.keras.layers.LSTM(64,  return_sequences=True)),\n",
    "    tf.keras.layers.Bidirectional(tf.keras.layers.LSTM(32)),\n",
    "    tf.keras.layers.Dense(64, activation='relu'),\n",
    "    tf.keras.layers.Dropout(0.5),\n",
    "    tf.keras.layers.Dense(1)\n",
    "])\n",
    "\n"
   ]
  },
  {
   "cell_type": "code",
   "execution_count": 57,
   "id": "e987ba20",
   "metadata": {},
   "outputs": [],
   "source": [
    "model.compile(loss=tf.keras.losses.BinaryCrossentropy(from_logits=True),\n",
    "              optimizer=tf.keras.optimizers.Adam(1e-4),\n",
    "              metrics=['accuracy'])"
   ]
  },
  {
   "cell_type": "code",
   "execution_count": 58,
   "id": "cf484018",
   "metadata": {},
   "outputs": [
    {
     "name": "stdout",
     "output_type": "stream",
     "text": [
      "Epoch 1/25\n",
      "106/106 [==============================] - 8s 31ms/step - loss: 0.6629 - accuracy: 0.5429 - val_loss: 0.6014 - val_accuracy: 0.6397\n",
      "Epoch 2/25\n",
      "106/106 [==============================] - 2s 20ms/step - loss: 0.5711 - accuracy: 0.6923 - val_loss: 0.5302 - val_accuracy: 0.7353\n",
      "Epoch 3/25\n",
      "106/106 [==============================] - 2s 20ms/step - loss: 0.5228 - accuracy: 0.7360 - val_loss: 0.4993 - val_accuracy: 0.7636\n",
      "Epoch 4/25\n",
      "106/106 [==============================] - 2s 20ms/step - loss: 0.4900 - accuracy: 0.7588 - val_loss: 0.4739 - val_accuracy: 0.7545\n",
      "Epoch 5/25\n",
      "106/106 [==============================] - 2s 20ms/step - loss: 0.4673 - accuracy: 0.7741 - val_loss: 0.4485 - val_accuracy: 0.7819\n",
      "Epoch 6/25\n",
      "106/106 [==============================] - 2s 20ms/step - loss: 0.4464 - accuracy: 0.7871 - val_loss: 0.4439 - val_accuracy: 0.7978\n",
      "Epoch 7/25\n",
      "106/106 [==============================] - 2s 20ms/step - loss: 0.4304 - accuracy: 0.7969 - val_loss: 0.4692 - val_accuracy: 0.7947\n",
      "Epoch 8/25\n",
      "106/106 [==============================] - 2s 20ms/step - loss: 0.4218 - accuracy: 0.8016 - val_loss: 0.4159 - val_accuracy: 0.8071\n",
      "Epoch 9/25\n",
      "106/106 [==============================] - 2s 20ms/step - loss: 0.4045 - accuracy: 0.8114 - val_loss: 0.4074 - val_accuracy: 0.8008\n",
      "Epoch 10/25\n",
      "106/106 [==============================] - 2s 20ms/step - loss: 0.3919 - accuracy: 0.8191 - val_loss: 0.4111 - val_accuracy: 0.7936\n",
      "Epoch 11/25\n",
      "106/106 [==============================] - 2s 20ms/step - loss: 0.3825 - accuracy: 0.8250 - val_loss: 0.3915 - val_accuracy: 0.8172\n",
      "Epoch 12/25\n",
      "106/106 [==============================] - 2s 20ms/step - loss: 0.3723 - accuracy: 0.8314 - val_loss: 0.3963 - val_accuracy: 0.8051\n",
      "Epoch 13/25\n",
      "106/106 [==============================] - 2s 20ms/step - loss: 0.3667 - accuracy: 0.8328 - val_loss: 0.3939 - val_accuracy: 0.8287\n",
      "Epoch 14/25\n",
      "106/106 [==============================] - 2s 20ms/step - loss: 0.3611 - accuracy: 0.8368 - val_loss: 0.4151 - val_accuracy: 0.7916\n",
      "Epoch 15/25\n",
      "106/106 [==============================] - 2s 20ms/step - loss: 0.3584 - accuracy: 0.8370 - val_loss: 0.3798 - val_accuracy: 0.8294\n",
      "Epoch 16/25\n",
      "106/106 [==============================] - 2s 20ms/step - loss: 0.3440 - accuracy: 0.8467 - val_loss: 0.3907 - val_accuracy: 0.8107\n",
      "Epoch 17/25\n",
      "106/106 [==============================] - 2s 20ms/step - loss: 0.3410 - accuracy: 0.8472 - val_loss: 0.3748 - val_accuracy: 0.8213\n",
      "Epoch 18/25\n",
      "106/106 [==============================] - 2s 20ms/step - loss: 0.3321 - accuracy: 0.8525 - val_loss: 0.4032 - val_accuracy: 0.8072\n",
      "Epoch 19/25\n",
      "106/106 [==============================] - 2s 20ms/step - loss: 0.3322 - accuracy: 0.8520 - val_loss: 0.3752 - val_accuracy: 0.8367\n",
      "Epoch 20/25\n",
      "106/106 [==============================] - 2s 20ms/step - loss: 0.3244 - accuracy: 0.8563 - val_loss: 0.3666 - val_accuracy: 0.8319\n",
      "Epoch 21/25\n",
      "106/106 [==============================] - 2s 20ms/step - loss: 0.3167 - accuracy: 0.8615 - val_loss: 0.3665 - val_accuracy: 0.8348\n",
      "Epoch 22/25\n",
      "106/106 [==============================] - 2s 20ms/step - loss: 0.3144 - accuracy: 0.8628 - val_loss: 0.3675 - val_accuracy: 0.8305\n",
      "Epoch 23/25\n",
      "106/106 [==============================] - 2s 20ms/step - loss: 0.3081 - accuracy: 0.8654 - val_loss: 0.3665 - val_accuracy: 0.8357\n",
      "Epoch 24/25\n",
      "106/106 [==============================] - 2s 20ms/step - loss: 0.3051 - accuracy: 0.8670 - val_loss: 0.3726 - val_accuracy: 0.8272\n",
      "Epoch 25/25\n",
      "106/106 [==============================] - 2s 20ms/step - loss: 0.3093 - accuracy: 0.8641 - val_loss: 0.3681 - val_accuracy: 0.8388\n"
     ]
    }
   ],
   "source": [
    "\n",
    "history = model.fit(partial_x_train,\n",
    "                    partial_y_train,\n",
    "                    epochs=epochs,\n",
    "                    batch_size=BATCH_SIZE,\n",
    "                    validation_data=(x_val, y_val),\n",
    "                    validation_steps=30,\n",
    "                    verbose=1)"
   ]
  },
  {
   "cell_type": "code",
   "execution_count": 59,
   "id": "93014951",
   "metadata": {},
   "outputs": [
    {
     "name": "stdout",
     "output_type": "stream",
     "text": [
      "1537/1537 [==============================] - 6s 4ms/step - loss: 0.3813 - accuracy: 0.8330\n",
      "Test Loss: 0.3812974691390991\n",
      "Test Accuracy: 0.8330451250076294\n"
     ]
    }
   ],
   "source": [
    "test_loss, test_acc = model.evaluate(x_test, y_test)\n",
    "\n",
    "print('Test Loss:', test_loss)\n",
    "print('Test Accuracy:', test_acc)"
   ]
  },
  {
   "cell_type": "code",
   "execution_count": 60,
   "id": "f3190a74",
   "metadata": {},
   "outputs": [
    {
     "data": {
      "image/png": "[encoded data removed]",
      "text/plain": [
       "<Figure size 1152x432 with 2 Axes>"
      ]
     },
     "metadata": {
      "needs_background": "light"
     },
     "output_type": "display_data"
    }
   ],
   "source": [
    "plt.figure(figsize=(16, 6))\n",
    "plt.subplot(1, 2, 1)\n",
    "plot_graphs(history, 'accuracy')\n",
    "plt.subplot(1, 2, 2)\n",
    "plot_graphs(history, 'loss')"
   ]
  },
  {
   "cell_type": "code",
   "execution_count": 61,
   "id": "b40294da",
   "metadata": {},
   "outputs": [
    {
     "name": "stdout",
     "output_type": "stream",
     "text": [
      "[[1, 2, 2, 2, 2, 2, 2, 2, 43, 2, 2, 2, 2, 1639, 2], [1, 2, 2, 2, 1566, 1426, 2, 2, 2, 2, 6989, 6836, 2, 2, 2]]\n",
      "['<UNK> <UNK> <UNK> <UNK> <UNK> <UNK> <UNK> 이런 <UNK> <UNK> <UNK> <UNK> 마이너스 <UNK>', '<UNK> <UNK> <UNK> 고양이 로봇 <UNK> <UNK> <UNK> <UNK> 미지 탐험 <UNK> <UNK> <UNK>']\n",
      "[[-0.81036955]\n",
      " [-0.8228857 ]]\n"
     ]
    }
   ],
   "source": [
    "sentences = ('ㅋㅋㅋ 난생처음 로그인하고 평점남기네요.. 개빡쳐서.. 알바들 속지마세요 이런 ㄱ ㅐ같은 시간낭비가. 아놔진짜평점 마이너스 별오만개',\n",
    "             '최고최고! 바다까지! 4차원 고양이 로봇 도라에몽과 함께하는 진구와 친구들의 미지 탐험 이야기!우주꺼지 갔음 좋겠당~')\n",
    "predict(model, sentences, word_to_index, index_to_word, maxlen)"
   ]
  },
  {
   "cell_type": "code",
   "execution_count": 62,
   "id": "a8a408a2",
   "metadata": {},
   "outputs": [
    {
     "name": "stdout",
     "output_type": "stream",
     "text": [
      "[[1, 43, 2, 2, 25, 2], [1, 14, 2, 2, 10, 2, 4823, 2]]\n",
      "['이런 <UNK> <UNK> 진짜 <UNK>', '정말 <UNK> <UNK> 너무 <UNK> 구해 <UNK>']\n",
      "[[0.05131495]\n",
      " [2.2255626 ]]\n"
     ]
    }
   ],
   "source": [
    "sentences = ('이런 쓰레기영화좀 만들지마라 진짜 재미없다ㅡㅡ',\n",
    "             '정말 가슴아픈영화....질리지도 않는영화....몇번을봐도...음악도 너무 좋아요...OST도 구해 들었다는...')\n",
    "predict(model, sentences, word_to_index, index_to_word, maxlen)"
   ]
  },
  {
   "cell_type": "markdown",
   "id": "f7b4e224",
   "metadata": {},
   "source": [
    "#### 한국어 Word2Vec 임베딩 활용하여 성능 개선\n",
    "사용된 세개의 모델 전부 Word2Vec 사용"
   ]
  },
  {
   "cell_type": "markdown",
   "id": "41a39982",
   "metadata": {},
   "source": [
    "참고 : RNN을 사용한 텍스트 분류\n",
    "https://www.tensorflow.org/text/tutorials/text_similarity?hl=ko"
   ]
  },
  {
   "cell_type": "markdown",
   "id": "6665ed0c",
   "metadata": {},
   "source": [
    "후기 : \n",
    "한국어 형태소 분류하는 프로그램의 성능이 기대에 미치지 못했고 문장의 대부분 단어들이 무시되는 결과가 되었다.\n",
    "\n",
    "영어 같은 문장구조라면 비교적 쉬운 작업이 될 거라고 생각되지만 한국어는 컴퓨터 환경에서 '정말 <UNK> <UNK> 너무 <UNK> 구리다 <UNK>'\n",
    "\n",
    "영어를 사용하는 영화평 감성분류 작업도 정확도가 85% 정도 나오던데 한국어 작업결과가 83% 이렇게 비슷하게 나와도 결과를 직접 확인해보면 기대에 미치지 못한다.\n",
    "    \n",
    "차라리 문장을 통체로 딥러닝 시도하는 것이 나을 것 같다.    \n",
    "    \n"
   ]
  }
 ],
 "metadata": {
  "kernelspec": {
   "display_name": "Python 3 (ipykernel)",
   "language": "python",
   "name": "python3"
  },
  "language_info": {
   "codemirror_mode": {
    "name": "ipython",
    "version": 3
   },
   "file_extension": ".py",
   "mimetype": "text/x-python",
   "name": "python",
   "nbconvert_exporter": "python",
   "pygments_lexer": "ipython3",
   "version": "3.9.7"
  }
 },
 "nbformat": 4,
 "nbformat_minor": 5
}
