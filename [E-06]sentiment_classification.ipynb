{
 "cells": [
  {
   "cell_type": "code",
   "execution_count": 1,
   "id": "e1fa1bf2",
   "metadata": {},
   "outputs": [],
   "source": [
    "import pandas as pd\n",
    "import numpy as np\n",
    "import tensorflow as tf\n",
    "from pathlib import Path\n",
    "\n",
    "import gensim\n",
    "from gensim.models import KeyedVectors\n",
    "\n",
    "from konlpy.tag import Mecab\n",
    "import numpy as np\n",
    "from collections import Counter\n",
    "import re\n",
    "\n"
   ]
  },
  {
   "cell_type": "markdown",
   "id": "4f519ccc",
   "metadata": {},
   "source": [
    "### 1) 데이터 준비와 확인"
   ]
  },
  {
   "cell_type": "code",
   "execution_count": 2,
   "id": "16dacd1e",
   "metadata": {},
   "outputs": [
    {
     "data": {
      "text/html": [
       "<div>\n",
       "<style scoped>\n",
       "    .dataframe tbody tr th:only-of-type {\n",
       "        vertical-align: middle;\n",
       "    }\n",
       "\n",
       "    .dataframe tbody tr th {\n",
       "        vertical-align: top;\n",
       "    }\n",
       "\n",
       "    .dataframe thead th {\n",
       "        text-align: right;\n",
       "    }\n",
       "</style>\n",
       "<table border=\"1\" class=\"dataframe\">\n",
       "  <thead>\n",
       "    <tr style=\"text-align: right;\">\n",
       "      <th></th>\n",
       "      <th>id</th>\n",
       "      <th>document</th>\n",
       "      <th>label</th>\n",
       "    </tr>\n",
       "  </thead>\n",
       "  <tbody>\n",
       "    <tr>\n",
       "      <th>0</th>\n",
       "      <td>9976970</td>\n",
       "      <td>아 더빙.. 진짜 짜증나네요 목소리</td>\n",
       "      <td>0</td>\n",
       "    </tr>\n",
       "    <tr>\n",
       "      <th>1</th>\n",
       "      <td>3819312</td>\n",
       "      <td>흠...포스터보고 초딩영화줄....오버연기조차 가볍지 않구나</td>\n",
       "      <td>1</td>\n",
       "    </tr>\n",
       "    <tr>\n",
       "      <th>2</th>\n",
       "      <td>10265843</td>\n",
       "      <td>너무재밓었다그래서보는것을추천한다</td>\n",
       "      <td>0</td>\n",
       "    </tr>\n",
       "    <tr>\n",
       "      <th>3</th>\n",
       "      <td>9045019</td>\n",
       "      <td>교도소 이야기구먼 ..솔직히 재미는 없다..평점 조정</td>\n",
       "      <td>0</td>\n",
       "    </tr>\n",
       "    <tr>\n",
       "      <th>4</th>\n",
       "      <td>6483659</td>\n",
       "      <td>사이몬페그의 익살스런 연기가 돋보였던 영화!스파이더맨에서 늙어보이기만 했던 커스틴 ...</td>\n",
       "      <td>1</td>\n",
       "    </tr>\n",
       "  </tbody>\n",
       "</table>\n",
       "</div>"
      ],
      "text/plain": [
       "         id                                           document  label\n",
       "0   9976970                                아 더빙.. 진짜 짜증나네요 목소리      0\n",
       "1   3819312                  흠...포스터보고 초딩영화줄....오버연기조차 가볍지 않구나      1\n",
       "2  10265843                                  너무재밓었다그래서보는것을추천한다      0\n",
       "3   9045019                      교도소 이야기구먼 ..솔직히 재미는 없다..평점 조정      0\n",
       "4   6483659  사이몬페그의 익살스런 연기가 돋보였던 영화!스파이더맨에서 늙어보이기만 했던 커스틴 ...      1"
      ]
     },
     "execution_count": 2,
     "metadata": {},
     "output_type": "execute_result"
    }
   ],
   "source": [
    "from pathlib import Path\n",
    "directory = Path.joinpath(Path.cwd(),'data')\n",
    "\n",
    "filename = 'ko.bin' # Filename\n",
    "word2vec_file_path  = Path.joinpath(directory,filename)\n",
    "word2vec = gensim.models.Word2Vec.load(str(word2vec_file_path))\n",
    "\n",
    "# 데이터를 읽어봅시다. \n",
    "train_data_path = Path.joinpath(directory, 'ratings_train.txt')\n",
    "test_data_path  = Path.joinpath(directory, 'ratings_test.txt')\n",
    "\n",
    "train_data      = pd.read_table(train_data_path)\n",
    "test_data       = pd.read_table(test_data_path)\n",
    "\n",
    "train_data.head()"
   ]
  },
  {
   "cell_type": "code",
   "execution_count": 3,
   "id": "b80d39d1",
   "metadata": {},
   "outputs": [
    {
     "name": "stdout",
     "output_type": "stream",
     "text": [
      "6145\n"
     ]
    }
   ],
   "source": [
    "vocab_size      = 10000    # 어휘 사전의 크기입니다(10,000개의 단어)\n",
    "word_vector_dim = 200      # 워드 벡터의 차원 수 (변경 가능한 하이퍼파라미터)\n",
    "BUFFER_SIZE     = 10000\n",
    "BATCH_SIZE      = 512\n",
    "epochs          = 12\n",
    "# steps_per_epoch = 1\n",
    "\n",
    "# 152,182건의 데이터\n",
    "# validation set 사이즈\n",
    "# int_partition = steps_per_epoch * epochs * BATCH_SIZE + 1\n",
    "int_partition = epochs * BATCH_SIZE + 1\n",
    "\n",
    "print(int_partition)"
   ]
  },
  {
   "cell_type": "markdown",
   "id": "1356dcf4",
   "metadata": {},
   "source": [
    "### 2) 데이터로더 구성"
   ]
  },
  {
   "cell_type": "code",
   "execution_count": 4,
   "id": "0fa17530",
   "metadata": {},
   "outputs": [],
   "source": [
    "from ckonlpy.tag import Twitter\n",
    "# tokenizer =  Twitter()\n",
    "\n",
    "# tokenizer = Mecab(dicpath=r\"C:/mecab/mecab-ko-dic\")\n",
    "tokenizer = Mecab()\n",
    "stopwords = ['수', '거', '기','이', '는', '다', '고', '하', '도', '의', '가', '은', '에', '을', '보', '한', '들', '지', '를', '나', '었', '만']\n",
    "\n",
    "hangul = re.compile('[^ 가-힣]+') # 한글과 띄어쓰기를 제외한 모든 글자\n",
    "\n",
    "def load_data(train_data, test_data):\n",
    "    train_data.drop_duplicates(subset=['document'], inplace=True)\n",
    "    train_data = train_data.dropna(how = 'any') \n",
    "    test_data.drop_duplicates(subset=['document'], inplace=True)\n",
    "    test_data = test_data.dropna(how = 'any') \n",
    "    \n",
    "    X_train = []\n",
    "    for sentence in train_data['document']:\n",
    "        sentence = hangul.sub(\" \", sentence)\n",
    "        temp_X = tokenizer.morphs(sentence) # 토큰화\n",
    "        temp_X = [word for word in temp_X if not word in stopwords] # 불용어 제거\n",
    "        X_train.append(temp_X)\n",
    "\n",
    "    X_test = []\n",
    "    for sentence in test_data['document']:\n",
    "        sentence = hangul.sub(\" \", sentence)\n",
    "        temp_X = tokenizer.morphs(sentence) # 토큰화\n",
    "        temp_X = [word for word in temp_X if not word in stopwords] # 불용어 제거\n",
    "        X_test.append(temp_X)\n",
    "     \n",
    "    \n",
    "    words = np.concatenate(X_train).tolist()\n",
    "    counter = Counter(words)\n",
    "    counter = counter.most_common(vocab_size-4)\n",
    "    \n",
    "    vocab = ['', '', '', ''] + [key for key, _ in counter]\n",
    "    word_to_index = {word:index for index, word in enumerate(vocab)}\n",
    "        \n",
    "    def wordlist_to_indexlist(wordlist):\n",
    "        return [word_to_index[word] if word in word_to_index else word_to_index[''] for word in wordlist]\n",
    "        \n",
    "    X_train = list(map(wordlist_to_indexlist, X_train))\n",
    "    X_test = list(map(wordlist_to_indexlist, X_test))\n",
    "        \n",
    "    return X_train, np.array(list(train_data['label'])), X_test, np.array(list(test_data['label'])), word_to_index\n",
    "\n",
    "x_train, y_train, x_test, y_test, word_to_index = load_data(train_data, test_data)\n",
    "\n"
   ]
  },
  {
   "cell_type": "code",
   "execution_count": 5,
   "id": "18e75f09",
   "metadata": {},
   "outputs": [],
   "source": [
    "index_to_word = {index:word for word, index in word_to_index.items()}"
   ]
  },
  {
   "cell_type": "code",
   "execution_count": 6,
   "id": "cbc64c89",
   "metadata": {},
   "outputs": [],
   "source": [
    "#문장 1개를 활용할 딕셔너리와 함께 주면, 단어 인덱스 리스트 벡터로 변환해 주는 함수. \n",
    "#모든 문장은 <BOS>로 시작해야 함. \n",
    "def get_encoded_sentence(sentence, word_to_index):\n",
    "    sentence = hangul.sub(\" \", sentence) # 한글만 통과\n",
    "    temp_X = tokenizer.morphs(sentence)  # 토큰화\n",
    "    temp_X = [word for word in temp_X if not word in stopwords] # 불용어 제거    \n",
    "    return [word_to_index['<BOS>']]+[word_to_index[word] if word in word_to_index else word_to_index['<UNK>'] for word in temp_X]\n",
    "\n",
    "#여러 개의 문장 리스트를 한꺼번에 단어 인덱스 리스트 벡터로 encode해 주는 함수. \n",
    "def get_encoded_sentences(sentences, word_to_index):\n",
    "    return [get_encoded_sentence(sentence, word_to_index) for sentence in sentences]\n",
    "\n",
    "#숫자 벡터로 encode된 문장을 원래대로 decode하는 함수. \n",
    "def get_decoded_sentence(encoded_sentence, index_to_word):\n",
    "    return ' '.join(index_to_word[index] if index in index_to_word else '<UNK>' for index in encoded_sentence[1:])  #[1:]를 통해 <BOS>를 제외\n",
    "\n",
    "#여러 개의 숫자 벡터로 encode된 문장을 한꺼번에 원래대로 decode하는 함수. \n",
    "def get_decoded_sentences(encoded_sentences, index_to_word):\n",
    "    return [get_decoded_sentence(encoded_sentence, index_to_word) for encoded_sentence in encoded_sentences]"
   ]
  },
  {
   "cell_type": "markdown",
   "id": "aaf55fd5",
   "metadata": {},
   "source": [
    "### 3) 모델 구성을 위한 데이터 분석 및 가공"
   ]
  },
  {
   "cell_type": "code",
   "execution_count": 7,
   "id": "fc768191",
   "metadata": {},
   "outputs": [
    {
     "name": "stdout",
     "output_type": "stream",
     "text": [
      "[19, 57, 863, 25, 202, 20, 683]\n",
      "더 빙 진짜 짜증 네요 목소리\n",
      "라벨:  0\n",
      "[952, 467, 477, 625, 4, 101, 1533, 37, 853, 930, 30, 348]\n",
      "포스터 보고 초딩 영화 줄 오버 연기 조차 가볍 않 구나\n",
      "라벨:  1\n",
      "[10, 180, 3]\n",
      "재 \n",
      "라벨:  0\n",
      "[8004, 133, 4030, 264, 76, 7, 42, 3301]\n",
      "이야기 구먼 솔직히 재미 없 평점 조정\n",
      "라벨:  0\n",
      "[3, 8458, 1030, 37, 2677, 44, 4, 2605, 26, 1102, 22, 311, 27, 44, 3, 3, 379, 2898, 1653]\n",
      "익살 스런 연기 돋보였 던 영화 스파이더맨 에서 늙 어 보이 했 던   너무나 이뻐 보였\n",
      "라벨:  1\n",
      "[613, 3, 3, 400, 162, 1433, 646, 1581, 654, 35, 3, 4, 2127, 104, 685]\n",
      "  세 부터 초등 학교 학년 생 인  영화 별반 개 아까움\n",
      "라벨:  0\n",
      "[226, 335, 339, 1888, 41, 765]\n",
      "긴장감 제대로 살려 내 못했\n",
      "라벨:  0\n",
      "[205, 1322, 121, 373, 686, 3, 3, 37, 1412, 256, 82, 221, 14, 787, 15, 312, 592, 488, 458, 526, 3143, 8459, 1359, 1359, 55, 268, 7, 37, 86, 60, 3, 29]\n",
      "반개 아깝 욕 나온다   연기 생활 몇 년 인지 정말 발 로 해도 그것 보단 낫 겟 납치 감금 반복 반복 드라마 가족 없 연기 못 사람  네\n",
      "라벨:  0\n",
      "[109, 7, 9, 76, 6, 256, 13, 32, 4]\n",
      "없 는데 재미 있 몇 안 되 영화\n",
      "라벨:  1\n",
      "[48, 596, 42, 214, 687, 520, 72, 463, 1377, 582, 673, 64, 10, 3, 6]\n",
      "케 평점 낮 건데 꽤 볼 한데 헐리우드 식 화려 함 너무  있\n",
      "라벨:  1\n",
      "[3, 25, 203]\n",
      "진짜 짱\n",
      "라벨:  1\n",
      "[72, 62, 390, 2320, 90, 188, 49, 82, 161, 2495, 829, 3, 628, 2606, 2112, 6156]\n",
      "때 마다 눈물나 서 죽 겠 년 대 향수 자극  감성 절제 멜로 달인\n",
      "라벨:  1\n",
      "[249, 93, 3, 3, 8005, 3, 62, 3, 385, 3725, 37, 1224, 5, 1668]\n",
      "면서   보도  때  뻔 이범수 연기 드럽 게 못해\n",
      "라벨:  0\n",
      "[2366, 1217, 102, 8, 8988, 2569, 15, 74, 33, 818, 3, 58, 60, 116, 18]\n",
      "깔끔 해서 좋 신문 기사 로 보다 면 자꾸  그 사람 다는 것\n",
      "라벨:  1\n",
      "[857, 3889, 3, 25, 1806, 290, 26, 65, 4, 79, 210, 235, 83, 235, 61, 110, 50, 22, 1140, 61, 3660]\n",
      "존중  진짜 내생 극장 에서 본 영화 중 가장 노 잼 노 감동 임 스토리 어 거지 감동 어거지\n",
      "라벨:  0\n",
      "[2970, 2515, 1275, 32, 180, 228, 17]\n",
      "매번 긴장 되 재 밋 음\n",
      "라벨:  1\n",
      "[117, 60, 1097, 5, 7231, 3, 3, 1218, 91, 574, 4967, 1323, 33, 1481, 91, 3, 77, 574, 59, 140, 7232, 150, 18, 247, 1276]\n",
      "사람 웃긴 게 바스코   코 라고 까 바비 이기 면 아이돌 라고  그냥 까 싶 어서 안달 난 것 처럼 보인다\n",
      "라벨:  1\n",
      "[5752, 3, 1169, 35, 18, 146, 9, 48, 559, 15, 507, 88, 22, 87]\n",
      " 표절 인 것 이해 는데 왜 뒤 로 갈수록 재미없 어 냐\n",
      "라벨:  0\n",
      "[107, 14, 2443, 424, 34, 3, 30, 6647, 71, 446, 38, 1448, 603, 3, 2443, 130, 380]\n",
      "정말 깨알 캐스팅 과  않 산뜻 내용 구성 잘 버 무  깨알 일 드\n",
      "라벨:  1\n",
      "[3, 509, 4537, 73, 3, 1542, 393, 369, 3]\n",
      "위한 변명 라  착한 놈 절대 \n",
      "라벨:  1\n",
      "[358, 1833, 1371, 6, 53, 77, 1506, 1064, 34, 7578, 4, 369, 548]\n",
      "심오 뜻 있 듯 그냥 학생 선생 과 놀아나 영화 절대 아님\n",
      "라벨:  1\n",
      "[93, 217, 30, 112, 508, 658]\n",
      "웃 않 건 불 가능\n",
      "라벨:  1\n",
      "[88, 80, 24, 2128, 4, 143, 3, 9597, 142, 1085, 103, 3, 9597, 133, 6, 2128, 76, 6, 9, 107, 72, 5, 7, 2128, 148, 13, 96, 3, 1673, 328, 2859, 47, 3806, 9, 592, 148, 13, 775]\n",
      "지루 같 음식 영화 인데  만찬 넘 차이 남  만찬 이야기 있 음식 재미 있 는데 이건 볼 게 없 음식 별로 안 나오  풍경 라도 구경 할 랫 는데 그것 별로 안 나옴\n",
      "라벨:  0\n",
      "[369, 744, 4, 248, 401, 114, 149, 2496, 1098]\n",
      "평범 영화 아닌 수작 라는 걸 말씀 드립니다\n",
      "라벨:  1\n",
      "[549, 8, 206, 867, 162, 80]\n",
      "좋 은데 중반 부터 지루\n",
      "라벨:  0\n",
      "[3, 505, 99, 543, 2860, 47, 7, 44, 99, 1606, 505, 99, 181, 994, 44, 149, 3]\n",
      "꺼 야 그래서 납득 할 없 던 야 그럴 꺼 야 꼭 그랬 던 걸 \n",
      "라벨:  0\n",
      "[6648, 2570, 22, 6157, 5753]\n",
      "털 어 버려야 할텐데\n",
      "라벨:  1\n",
      "[3, 608]\n",
      "발연기\n",
      "라벨:  0\n",
      "[180, 228, 2471]\n",
      "밋 뎅\n",
      "라벨:  1\n",
      "[1674, 6, 777, 2392, 424, 82, 161, 2495, 543, 28]\n",
      "있 연출력 탁월 캐스팅 년 대 향수 그래서 점\n",
      "라벨:  1\n",
      "[2444, 1898, 8006, 94, 95, 1413, 5, 51, 234, 12, 103, 1702, 2971, 138, 37, 14, 8, 31, 46, 115, 1516, 55]\n",
      "포스 위력 다시 번 깨닫 게 해 준 적 남 꽃 검사 님 연기 정말 좋 았 어요 완전 명품 드라마\n",
      "라벨:  1\n",
      "[655, 89, 480, 36, 13, 4626, 19, 78, 825]\n",
      "쓰레기 진부 말 안 됌 아 시간 아까워\n",
      "라벨:  0\n",
      "[21, 9, 519, 48, 513, 214, 3]\n",
      "는데 별점 왜 이리 낮 \n",
      "라벨:  1\n",
      "[328, 111, 27, 44, 41, 8989, 113, 8989, 113]\n",
      "기대 했 던 내 죄인 입니다 죄인 입니다\n",
      "라벨:  0\n",
      "[246, 55, 6649, 40]\n",
      "드라마 내인생의 최고\n",
      "라벨:  1\n",
      "[3726, 261, 1310, 8007, 3]\n",
      "대한 열정 안나 \n",
      "라벨:  1\n",
      "[7233, 3, 37, 907, 27, 44, 112, 601, 432, 1482, 991, 2178, 1482, 991]\n",
      " 연기 고자 했 던 건 대체 정신 장애 일까 틱 장애 일까\n",
      "라벨:  0\n",
      "[2861, 504, 300, 432, 2151, 3094, 73, 81, 49, 20]\n",
      "원 작가 정신 나간 유령 라 재미있 겠 네요\n",
      "라벨:  1\n",
      "[467, 6, 22, 311, 9, 412, 374, 29]\n",
      "있 어 보이 는데 관객 명 네\n",
      "라벨:  0\n",
      "[4, 48, 127, 178, 501, 164, 158, 126, 49]\n",
      "왜 이렇게 저 평가 받 는지 모르 겠\n",
      "라벨:  1\n",
      "[749, 93, 4224, 220, 4]\n",
      "면서 은은 매력 영화\n",
      "라벨:  1\n",
      "[69, 294, 654, 236, 71, 7, 899, 7, 1097, 97, 7, 17, 115, 205, 6650, 4, 41, 78, 142, 1243, 1710, 115, 1014, 110]\n",
      "바 생 인가 내용 없 무서운 없 웃긴 하나 없 음 완전 별 싱거운 영화 내 시간 넘 아까 움 완전 낚 임\n",
      "라벨:  0\n",
      "[212, 5, 166, 933, 7579, 3]\n",
      "게 두 어라 서리 \n",
      "라벨:  1\n",
      "[14, 472, 46, 543, 154, 59, 206, 154, 1442, 7, 29]\n",
      "맘 어요 그래서 또 싶 은데 또 방법 없 네\n",
      "라벨:  1\n",
      "[7580, 114, 436, 63, 1389, 5, 489, 46, 1414, 3807, 319, 1103, 7234, 5, 165, 213, 321, 304, 20, 28, 39, 59, 206, 42, 1158, 59, 22, 28, 101, 6938]\n",
      "라는 멋진 배우 발견 게 됐 어요 소소 일탈 잔잔 미소 머금 게 합니다 음악 조금 아쉽 네요 점 주 싶 은데 평점 올리 싶 어 점 줄 게요\n",
      "라벨:  1\n",
      "[42, 3890, 1053, 170, 78, 531, 128, 531, 110]\n",
      "속지 마시 길 시간 낭비 돈 낭비 임\n",
      "라벨:  0\n",
      "[2350, 2072, 185, 463, 490, 284, 13, 841, 3358, 265, 432, 3, 1213, 1449, 1482, 3476, 3, 130, 7581, 60, 1753, 373, 3808, 3, 321, 1772, 84, 17, 493, 416, 172, 406, 27, 9, 33, 507, 3358, 432, 1760, 284, 1238]\n",
      "뛰어나 긴 한데 큰 공감 안 간다 이민기 캐릭터 정신  분노 조절 장애 초기  일 툭하면 사람 패 욕 물건  조금 오바 였 음 극 초반 엔 신선 했 는데 면 갈수록 이민기 정신 상태 공감 불가\n",
      "라벨:  0\n",
      "[1640, 48, 7, 87, 3144, 289, 477, 4, 218, 326, 69, 3058, 1263, 26, 43, 70, 91, 128, 3, 44]\n",
      "왜 없 냐 뮤 비 보고 영화 수준 딱 알 더군 북한 에서 이런 만들 라고 돈  던\n",
      "라벨:  0\n",
      "[150, 168, 4, 85, 165]\n",
      "우리 영화 사랑 합니다\n",
      "라벨:  0\n",
      "[3, 8008, 3, 3, 172, 241, 2607, 32, 59, 3359, 288, 8990, 179, 3, 328, 586, 195, 728, 353, 436, 393, 147, 3, 429, 3, 84, 9, 55, 195, 728, 4848, 241, 353, 663, 29, 415, 75, 138, 4849, 2129, 2792, 36, 19, 3, 3, 1163, 3, 27, 17]\n",
      "리스   엔 용 주인 되 싶 누 이랑 근친상간 이나  라도 소설 속 에선 제일 멋진 놈 자  라니  였 는데 드라마 속 에선 드래곤 용 제일 멋지 네 웃음 감독 님 토르 다크 월드 말 아   기본  했 음\n",
      "라벨:  1\n"
     ]
    }
   ],
   "source": [
    "for i in range(50):\n",
    "    print(x_train[i])\n",
    "    print(get_decoded_sentence(x_train[i], index_to_word))\n",
    "    print('라벨: ', y_train[i])"
   ]
  },
  {
   "cell_type": "code",
   "execution_count": 8,
   "id": "df2b63ae",
   "metadata": {},
   "outputs": [
    {
     "name": "stdout",
     "output_type": "stream",
     "text": [
      "문장길이 평균 :  11.87655306927956\n",
      "문장길이 최대 :  71\n",
      "문장길이 표준편차 :  9.975205954032385\n",
      "pad_sequences maxlen :  21\n",
      "전체 문장의 0.87194057510277%가 maxlen 설정값 이내에 포함됩니다. \n"
     ]
    }
   ],
   "source": [
    "total_data_text = list(x_train) + list(x_test)\n",
    "# 텍스트데이터 문장길이의 리스트를 생성한 후\n",
    "num_tokens = [len(tokens) for tokens in total_data_text]\n",
    "num_tokens = np.array(num_tokens)\n",
    "# 문장길이의 평균값, 최대값, 표준편차를 계산해 본다. \n",
    "print('문장길이 평균 : ', np.mean(num_tokens))\n",
    "print('문장길이 최대 : ', np.max(num_tokens))\n",
    "print('문장길이 표준편차 : ', np.std(num_tokens))\n",
    "\n",
    "# 예를들어, 최대 길이를 (평균 + 표준편차)로 한다면,  \n",
    "max_tokens = np.mean(num_tokens) + np.std(num_tokens)\n",
    "maxlen = int(max_tokens)\n",
    "\n",
    "print('pad_sequences maxlen : ', maxlen)\n",
    "print('전체 문장의 {}%가 maxlen 설정값 이내에 포함됩니다. '.format(np.sum(num_tokens < max_tokens) / len(num_tokens)))\n"
   ]
  },
  {
   "cell_type": "code",
   "execution_count": 9,
   "id": "237e16a3",
   "metadata": {},
   "outputs": [],
   "source": [
    "# 처음 몇 개 인덱스는 사전에 정의되어 있습니다\n",
    "word_to_index[\"<PAD>\"]    = 0\n",
    "word_to_index[\"<BOS>\"]    = 1\n",
    "word_to_index[\"<UNK>\"]    = 2  # unknown\n",
    "word_to_index[\"<UNUSED>\"] = 3\n",
    "\n",
    "index_to_word = {index:word for word, index in word_to_index.items()}"
   ]
  },
  {
   "cell_type": "code",
   "execution_count": 10,
   "id": "1c8cea2b",
   "metadata": {},
   "outputs": [
    {
     "name": "stdout",
     "output_type": "stream",
     "text": [
      "<PAD>\n",
      "<BOS>\n",
      "<UNK>\n",
      "<UNUSED>\n",
      "영화\n"
     ]
    }
   ],
   "source": [
    "for i in range(5):\n",
    "    print(index_to_word[i])"
   ]
  },
  {
   "cell_type": "code",
   "execution_count": 11,
   "id": "9857c0b5",
   "metadata": {},
   "outputs": [
    {
     "name": "stderr",
     "output_type": "stream",
     "text": [
      "C:\\Users\\ami\\AppData\\Local\\Temp\\ipykernel_18036\\1390784066.py:5: DeprecationWarning: Call to deprecated `__contains__` (Method will be removed in 4.0.0, use self.wv.__contains__() instead).\n",
      "  if index_to_word[i] in word2vec:\n",
      "C:\\Users\\ami\\AppData\\Local\\Temp\\ipykernel_18036\\1390784066.py:6: DeprecationWarning: Call to deprecated `__getitem__` (Method will be removed in 4.0.0, use self.wv.__getitem__() instead).\n",
      "  embedding_matrix[i] = word2vec[index_to_word[i]]\n"
     ]
    }
   ],
   "source": [
    "embedding_matrix = np.random.rand(vocab_size, word_vector_dim)\n",
    "\n",
    "# embedding_matrix에 Word2Vec 워드 벡터를 단어 하나씩마다 차례차례 카피한다.\n",
    "for i in range(4,vocab_size):\n",
    "    if index_to_word[i] in word2vec:\n",
    "        embedding_matrix[i] = word2vec[index_to_word[i]]"
   ]
  },
  {
   "cell_type": "code",
   "execution_count": 12,
   "id": "f890287d",
   "metadata": {},
   "outputs": [],
   "source": [
    "import matplotlib.pyplot as plt\n",
    "\n",
    "def plot_graphs(history, metric):\n",
    "    '''\n",
    "    히스토리 그래프\n",
    "    '''\n",
    "    plt.plot(history.history[metric])\n",
    "    plt.plot(history.history['val_' + metric], '')\n",
    "    plt.xlabel(\"Epochs\")\n",
    "    plt.ylabel(metric)\n",
    "    plt.legend([metric, 'val_' + metric])"
   ]
  },
  {
   "cell_type": "code",
   "execution_count": 13,
   "id": "8b467f73",
   "metadata": {},
   "outputs": [],
   "source": [
    "def predict(model, sentences, word_to_index, index_to_word, maxlen):\n",
    "    '''\n",
    "    점수예측\n",
    "    '''\n",
    "    encoded_sentences = get_encoded_sentences(sentences, word_to_index)\n",
    "#     print(encoded_sentences)\n",
    "    decoded_sentences = get_decoded_sentences(encoded_sentences, index_to_word)\n",
    "#     print(decoded_sentences)\n",
    "    to_test = tf.keras.preprocessing.sequence.pad_sequences(encoded_sentences,\n",
    "                                                           value=word_to_index[\"<PAD>\"],\n",
    "                                                           padding='post', # 혹은 'pre'\n",
    "                                                           maxlen=maxlen)\n",
    "    predictions = model.predict(to_test)\n",
    "    print(predictions)"
   ]
  },
  {
   "cell_type": "markdown",
   "id": "86365926",
   "metadata": {},
   "source": [
    "### 4) 모델 구성 및 validation set 구성"
   ]
  },
  {
   "cell_type": "code",
   "execution_count": 14,
   "id": "5442188c",
   "metadata": {},
   "outputs": [
    {
     "name": "stdout",
     "output_type": "stream",
     "text": [
      "(146182, 21)\n"
     ]
    }
   ],
   "source": [
    "x_train = tf.keras.preprocessing.sequence.pad_sequences(x_train,\n",
    "                                                        value=word_to_index[\"<PAD>\"],\n",
    "                                                        padding='post', # 혹은 'pre'\n",
    "                                                        maxlen=maxlen)\n",
    "\n",
    "x_test = tf.keras.preprocessing.sequence.pad_sequences(x_test,\n",
    "                                                       value=word_to_index[\"<PAD>\"],\n",
    "                                                       padding='post', # 혹은 'pre'\n",
    "                                                       maxlen=maxlen)\n",
    "\n",
    "print(x_train.shape)"
   ]
  },
  {
   "cell_type": "code",
   "execution_count": 15,
   "id": "8a8380ac",
   "metadata": {},
   "outputs": [
    {
     "name": "stdout",
     "output_type": "stream",
     "text": [
      "(140037, 21)\n",
      "(140037,)\n"
     ]
    }
   ],
   "source": [
    "x_val = x_train[:int_partition]   \n",
    "y_val = y_train[:int_partition]\n",
    "\n",
    "# validation set을 제외한 나머지 \n",
    "partial_x_train = x_train[int_partition:]  \n",
    "partial_y_train = y_train[int_partition:]\n",
    "\n",
    "print(partial_x_train.shape)\n",
    "print(partial_y_train.shape)"
   ]
  },
  {
   "cell_type": "markdown",
   "id": "41a63703",
   "metadata": {},
   "source": [
    "#### 모델1. 컨볼루션 레이어로 구성"
   ]
  },
  {
   "cell_type": "code",
   "execution_count": 16,
   "id": "98cc01d9",
   "metadata": {},
   "outputs": [
    {
     "name": "stdout",
     "output_type": "stream",
     "text": [
      "Model: \"sequential\"\n",
      "_________________________________________________________________\n",
      " Layer (type)                Output Shape              Param #   \n",
      "=================================================================\n",
      " embedding (Embedding)       (None, 21, 200)           2000000   \n",
      "                                                                 \n",
      " conv1d (Conv1D)             (None, 21, 16)            9616      \n",
      "                                                                 \n",
      " max_pooling1d (MaxPooling1D  (None, 7, 16)            0         \n",
      " )                                                               \n",
      "                                                                 \n",
      " conv1d_1 (Conv1D)           (None, 7, 8)              392       \n",
      "                                                                 \n",
      " max_pooling1d_1 (MaxPooling  (None, 2, 8)             0         \n",
      " 1D)                                                             \n",
      "                                                                 \n",
      " conv1d_2 (Conv1D)           (None, 2, 8)              200       \n",
      "                                                                 \n",
      " global_max_pooling1d (Globa  (None, 8)                0         \n",
      " lMaxPooling1D)                                                  \n",
      "                                                                 \n",
      " dense (Dense)               (None, 8)                 72        \n",
      "                                                                 \n",
      " dense_1 (Dense)             (None, 1)                 9         \n",
      "                                                                 \n",
      "=================================================================\n",
      "Total params: 2,010,289\n",
      "Trainable params: 2,010,289\n",
      "Non-trainable params: 0\n",
      "_________________________________________________________________\n"
     ]
    }
   ],
   "source": [
    "from tensorflow.keras.initializers import Constant\n",
    "\n",
    "# 모델 구성\n",
    "model_Conv1D = tf.keras.Sequential()\n",
    "model_Conv1D.add(tf.keras.layers.Embedding(vocab_size, \n",
    "                                 word_vector_dim, \n",
    "                                 embeddings_initializer=Constant(embedding_matrix),  # 카피한 임베딩을 여기서 활용\n",
    "                                 input_length=maxlen, \n",
    "                                 trainable=True))   # trainable을 True로 주면 Fine-tuning\n",
    "model_Conv1D.add(tf.keras.layers.Conv1D(16, 3, activation='relu', padding='same'))\n",
    "model_Conv1D.add(tf.keras.layers.MaxPooling1D(3))\n",
    "model_Conv1D.add(tf.keras.layers.Conv1D(8, 3, activation='relu', padding='same'))\n",
    "model_Conv1D.add(tf.keras.layers.MaxPooling1D(3))\n",
    "model_Conv1D.add(tf.keras.layers.Conv1D(8, 3, activation='relu', padding='same'))\n",
    "model_Conv1D.add(tf.keras.layers.GlobalMaxPooling1D())\n",
    "model_Conv1D.add(tf.keras.layers.Dense(8, activation='relu'))\n",
    "model_Conv1D.add(tf.keras.layers.Dense(1, activation='sigmoid')) \n",
    "model_Conv1D.summary()\n"
   ]
  },
  {
   "cell_type": "code",
   "execution_count": 17,
   "id": "2ba82c0a",
   "metadata": {},
   "outputs": [
    {
     "name": "stdout",
     "output_type": "stream",
     "text": [
      "Epoch 1/5\n",
      "274/274 [==============================] - 12s 16ms/step - loss: 0.5626 - accuracy: 0.6972 - val_loss: 0.4378 - val_accuracy: 0.8015\n",
      "Epoch 2/5\n",
      "274/274 [==============================] - 4s 14ms/step - loss: 0.4061 - accuracy: 0.8182 - val_loss: 0.3820 - val_accuracy: 0.8267\n",
      "Epoch 3/5\n",
      "274/274 [==============================] - 4s 14ms/step - loss: 0.3520 - accuracy: 0.8464 - val_loss: 0.3715 - val_accuracy: 0.8373\n",
      "Epoch 4/5\n",
      "274/274 [==============================] - 4s 14ms/step - loss: 0.3207 - accuracy: 0.8633 - val_loss: 0.3630 - val_accuracy: 0.8392\n",
      "Epoch 5/5\n",
      "274/274 [==============================] - 4s 14ms/step - loss: 0.2961 - accuracy: 0.8757 - val_loss: 0.3648 - val_accuracy: 0.8439\n"
     ]
    }
   ],
   "source": [
    "model_Conv1D.compile(optimizer='adam',\n",
    "              loss='binary_crossentropy',\n",
    "              metrics=['accuracy'])\n",
    "              \n",
    "epochs_Conv=5  # 몇 epoch를 훈련하면 좋을지 결과를 보면서 바꾸어 봅시다. \n",
    "history = model_Conv1D.fit(partial_x_train,\n",
    "                    partial_y_train,\n",
    "                    epochs=epochs_Conv,\n",
    "                    batch_size=BATCH_SIZE,\n",
    "                    validation_data=(x_val, y_val),\n",
    "                    verbose=1)"
   ]
  },
  {
   "cell_type": "code",
   "execution_count": 18,
   "id": "fe6b4023",
   "metadata": {},
   "outputs": [
    {
     "name": "stdout",
     "output_type": "stream",
     "text": [
      "1537/1537 [==============================] - 9s 6ms/step - loss: 0.3822 - accuracy: 0.8358\n",
      "Test Loss: 0.38217103481292725\n",
      "Test Accuracy: 0.8358321189880371\n"
     ]
    }
   ],
   "source": [
    "test_loss, test_acc = model_Conv1D.evaluate(x_test, y_test)\n",
    "\n",
    "print('Test Loss:', test_loss)\n",
    "print('Test Accuracy:', test_acc)\n"
   ]
  },
  {
   "cell_type": "code",
   "execution_count": 19,
   "id": "c3a8a617",
   "metadata": {},
   "outputs": [
    {
     "data": {
      "text/plain": [
       "(0.0, 0.5758968874812126)"
      ]
     },
     "execution_count": 19,
     "metadata": {},
     "output_type": "execute_result"
    },
    {
     "data": {
      "image/png": "[encoded data removed]",
      "text/plain": [
       "<Figure size 1152x576 with 2 Axes>"
      ]
     },
     "metadata": {
      "needs_background": "light"
     },
     "output_type": "display_data"
    }
   ],
   "source": [
    "plt.figure(figsize=(16, 8))\n",
    "plt.subplot(1, 2, 1)\n",
    "plot_graphs(history, 'accuracy')\n",
    "plt.ylim(None, 1)\n",
    "plt.subplot(1, 2, 2)\n",
    "plot_graphs(history, 'loss')\n",
    "plt.ylim(0, None)"
   ]
  },
  {
   "cell_type": "markdown",
   "id": "ce50d034",
   "metadata": {},
   "source": [
    "#### 모델2.  RNN LSTM 1레이어로 구성"
   ]
  },
  {
   "cell_type": "code",
   "execution_count": 20,
   "id": "d2cf0e68",
   "metadata": {},
   "outputs": [],
   "source": [
    "from tensorflow.keras.initializers import Constant\n",
    "\n",
    "model_LSTM1 = tf.keras.Sequential()\n",
    "model_LSTM1.add(tf.keras.layers.Embedding(vocab_size, \n",
    "                                 word_vector_dim, \n",
    "                                 embeddings_initializer=Constant(embedding_matrix),  # 카피한 임베딩을 여기서 활용\n",
    "                                 input_length=maxlen, \n",
    "                                 trainable=True))   # trainable을 True로 주면 Fine-tuning\n",
    "model_LSTM1.add(tf.keras.layers.Bidirectional(tf.keras.layers.LSTM(64)))\n",
    "model_LSTM1.add(tf.keras.layers.Dense(64, activation='relu'))\n",
    "# model_LSTM1.add(tf.keras.layers.Dense(1))\n",
    "model_LSTM1.add(tf.keras.layers.Dropout(0.5))\n",
    "model_LSTM1.add(tf.keras.layers.Dense(1, activation='sigmoid')) #추가     "
   ]
  },
  {
   "cell_type": "code",
   "execution_count": 21,
   "id": "c7c7ec98",
   "metadata": {},
   "outputs": [
    {
     "name": "stdout",
     "output_type": "stream",
     "text": [
      "[False, True, True, True, True]\n"
     ]
    }
   ],
   "source": [
    "print([layer.supports_masking for layer in model_LSTM1.layers])"
   ]
  },
  {
   "cell_type": "code",
   "execution_count": 22,
   "id": "569f5dd5",
   "metadata": {},
   "outputs": [],
   "source": [
    "model_LSTM1.compile(loss=tf.keras.losses.BinaryCrossentropy(from_logits=True),\n",
    "              optimizer=tf.keras.optimizers.Adam(1e-4),\n",
    "              metrics=['accuracy'])"
   ]
  },
  {
   "cell_type": "code",
   "execution_count": 23,
   "id": "c66b2444",
   "metadata": {
    "scrolled": false
   },
   "outputs": [
    {
     "name": "stdout",
     "output_type": "stream",
     "text": [
      "Epoch 1/12\n"
     ]
    },
    {
     "name": "stderr",
     "output_type": "stream",
     "text": [
      "C:\\Users\\ami\\anaconda3\\envs\\python38\\lib\\site-packages\\tensorflow\\python\\util\\dispatch.py:1096: UserWarning: \"`binary_crossentropy` received `from_logits=True`, but the `output` argument was produced by a sigmoid or softmax activation and thus does not represent logits. Was this intended?\"\n",
      "  return dispatch_target(*args, **kwargs)\n"
     ]
    },
    {
     "name": "stdout",
     "output_type": "stream",
     "text": [
      "274/274 [==============================] - 11s 25ms/step - loss: 0.6451 - accuracy: 0.6136 - val_loss: 0.5490 - val_accuracy: 0.7281\n",
      "Epoch 2/12\n",
      "274/274 [==============================] - 6s 23ms/step - loss: 0.5252 - accuracy: 0.7396 - val_loss: 0.4699 - val_accuracy: 0.7718\n",
      "Epoch 3/12\n",
      "274/274 [==============================] - 6s 23ms/step - loss: 0.4672 - accuracy: 0.7796 - val_loss: 0.4331 - val_accuracy: 0.8002\n",
      "Epoch 4/12\n",
      "274/274 [==============================] - 6s 23ms/step - loss: 0.4317 - accuracy: 0.8014 - val_loss: 0.4084 - val_accuracy: 0.8119\n",
      "Epoch 5/12\n",
      "274/274 [==============================] - 6s 23ms/step - loss: 0.4071 - accuracy: 0.8153 - val_loss: 0.3891 - val_accuracy: 0.8229\n",
      "Epoch 6/12\n",
      "274/274 [==============================] - 6s 23ms/step - loss: 0.3894 - accuracy: 0.8262 - val_loss: 0.3816 - val_accuracy: 0.8277\n",
      "Epoch 7/12\n",
      "274/274 [==============================] - 6s 23ms/step - loss: 0.3716 - accuracy: 0.8348 - val_loss: 0.3691 - val_accuracy: 0.8299\n",
      "Epoch 8/12\n",
      "274/274 [==============================] - 6s 23ms/step - loss: 0.3585 - accuracy: 0.8419 - val_loss: 0.3618 - val_accuracy: 0.8387\n",
      "Epoch 9/12\n",
      "274/274 [==============================] - 6s 23ms/step - loss: 0.3481 - accuracy: 0.8482 - val_loss: 0.3613 - val_accuracy: 0.8371\n",
      "Epoch 10/12\n",
      "274/274 [==============================] - 6s 23ms/step - loss: 0.3396 - accuracy: 0.8522 - val_loss: 0.3503 - val_accuracy: 0.8472\n",
      "Epoch 11/12\n",
      "274/274 [==============================] - 6s 23ms/step - loss: 0.3283 - accuracy: 0.8587 - val_loss: 0.3492 - val_accuracy: 0.8446\n",
      "Epoch 12/12\n",
      "274/274 [==============================] - 6s 23ms/step - loss: 0.3205 - accuracy: 0.8628 - val_loss: 0.3431 - val_accuracy: 0.8511\n"
     ]
    }
   ],
   "source": [
    "history = model_LSTM1.fit(partial_x_train,\n",
    "                    partial_y_train,\n",
    "                    epochs=epochs,\n",
    "                    batch_size=BATCH_SIZE,\n",
    "                    validation_data=(x_val, y_val),\n",
    "                    verbose=1)"
   ]
  },
  {
   "cell_type": "code",
   "execution_count": 24,
   "id": "1bda8432",
   "metadata": {},
   "outputs": [
    {
     "name": "stdout",
     "output_type": "stream",
     "text": [
      "1537/1537 [==============================] - 10s 7ms/step - loss: 0.3669 - accuracy: 0.8355\n",
      "Test Loss: 0.3669377863407135\n",
      "Test Accuracy: 0.8355066180229187\n"
     ]
    }
   ],
   "source": [
    "test_loss, test_acc = model_LSTM1.evaluate(x_test, y_test)\n",
    "\n",
    "print('Test Loss:', test_loss)\n",
    "print('Test Accuracy:', test_acc)"
   ]
  },
  {
   "cell_type": "code",
   "execution_count": 25,
   "id": "12d4fc56",
   "metadata": {},
   "outputs": [
    {
     "data": {
      "text/plain": [
       "(0.0, 0.6613395869731903)"
      ]
     },
     "execution_count": 25,
     "metadata": {},
     "output_type": "execute_result"
    },
    {
     "data": {
      "image/png": "[encoded data removed]",
      "text/plain": [
       "<Figure size 1152x576 with 2 Axes>"
      ]
     },
     "metadata": {
      "needs_background": "light"
     },
     "output_type": "display_data"
    }
   ],
   "source": [
    "plt.figure(figsize=(16, 8))\n",
    "plt.subplot(1, 2, 1)\n",
    "plot_graphs(history, 'accuracy')\n",
    "plt.ylim(None, 1)\n",
    "plt.subplot(1, 2, 2)\n",
    "plot_graphs(history, 'loss')\n",
    "plt.ylim(0, None)"
   ]
  },
  {
   "cell_type": "markdown",
   "id": "93583dcc",
   "metadata": {},
   "source": [
    "#### 모델3. RNN LSTM 2레이어로 구성"
   ]
  },
  {
   "cell_type": "code",
   "execution_count": 26,
   "id": "14296d34",
   "metadata": {},
   "outputs": [],
   "source": [
    "model_LSTM2 = tf.keras.Sequential([\n",
    "    tf.keras.layers.Embedding(vocab_size, \n",
    "                                 word_vector_dim, \n",
    "                                 embeddings_initializer=Constant(embedding_matrix),  # 카피한 임베딩을 여기서 활용\n",
    "                                 input_length=maxlen, \n",
    "                                 trainable=True),\n",
    "    tf.keras.layers.Bidirectional(tf.keras.layers.LSTM(64,  return_sequences=True)),\n",
    "    tf.keras.layers.Bidirectional(tf.keras.layers.LSTM(32)),\n",
    "    tf.keras.layers.Dense(64, activation='relu'),\n",
    "    \n",
    "    tf.keras.layers.Dropout(0.5),\n",
    "#     tf.keras.layers.Dropout(0.4),\n",
    "#     tf.keras.layers.Dense(1),\n",
    "    tf.keras.layers.Dense(1, activation='sigmoid') #추가    \n",
    "])\n",
    "\n"
   ]
  },
  {
   "cell_type": "code",
   "execution_count": 27,
   "id": "152d3688",
   "metadata": {},
   "outputs": [],
   "source": [
    "model_LSTM2.compile(loss=tf.keras.losses.BinaryCrossentropy(from_logits=True),\n",
    "              optimizer=tf.keras.optimizers.Adam(1e-4),\n",
    "              metrics=['accuracy'])"
   ]
  },
  {
   "cell_type": "code",
   "execution_count": 28,
   "id": "f3e5b45d",
   "metadata": {},
   "outputs": [
    {
     "name": "stdout",
     "output_type": "stream",
     "text": [
      "Epoch 1/12\n",
      "274/274 [==============================] - 15s 38ms/step - loss: 0.6155 - accuracy: 0.6535 - val_loss: 0.5257 - val_accuracy: 0.7380\n",
      "Epoch 2/12\n",
      "274/274 [==============================] - 9s 32ms/step - loss: 0.4981 - accuracy: 0.7642 - val_loss: 0.4515 - val_accuracy: 0.7842\n",
      "Epoch 3/12\n",
      "274/274 [==============================] - 9s 32ms/step - loss: 0.4486 - accuracy: 0.7946 - val_loss: 0.4203 - val_accuracy: 0.8037\n",
      "Epoch 4/12\n",
      "274/274 [==============================] - 9s 32ms/step - loss: 0.4172 - accuracy: 0.8112 - val_loss: 0.3984 - val_accuracy: 0.8150\n",
      "Epoch 5/12\n",
      "274/274 [==============================] - 9s 33ms/step - loss: 0.3955 - accuracy: 0.8233 - val_loss: 0.3818 - val_accuracy: 0.8259\n",
      "Epoch 6/12\n",
      "274/274 [==============================] - 9s 33ms/step - loss: 0.3778 - accuracy: 0.8322 - val_loss: 0.3702 - val_accuracy: 0.8296\n",
      "Epoch 7/12\n",
      "274/274 [==============================] - 9s 33ms/step - loss: 0.3633 - accuracy: 0.8402 - val_loss: 0.3647 - val_accuracy: 0.8332\n",
      "Epoch 8/12\n",
      "274/274 [==============================] - 9s 33ms/step - loss: 0.3510 - accuracy: 0.8463 - val_loss: 0.3600 - val_accuracy: 0.8368\n",
      "Epoch 9/12\n",
      "274/274 [==============================] - 9s 33ms/step - loss: 0.3413 - accuracy: 0.8519 - val_loss: 0.3540 - val_accuracy: 0.8353\n",
      "Epoch 10/12\n",
      "274/274 [==============================] - 10s 36ms/step - loss: 0.3315 - accuracy: 0.8568 - val_loss: 0.3569 - val_accuracy: 0.8381\n",
      "Epoch 11/12\n",
      "274/274 [==============================] - 10s 35ms/step - loss: 0.3232 - accuracy: 0.8610 - val_loss: 0.3505 - val_accuracy: 0.8392\n",
      "Epoch 12/12\n",
      "274/274 [==============================] - 10s 35ms/step - loss: 0.3156 - accuracy: 0.8655 - val_loss: 0.3497 - val_accuracy: 0.8407\n"
     ]
    }
   ],
   "source": [
    "history = model_LSTM2.fit(partial_x_train,\n",
    "                    partial_y_train,\n",
    "                    epochs=epochs,\n",
    "                    batch_size=BATCH_SIZE,\n",
    "                    validation_data=(x_val, y_val),\n",
    "                    verbose=1)"
   ]
  },
  {
   "cell_type": "code",
   "execution_count": 29,
   "id": "44e67b65",
   "metadata": {},
   "outputs": [
    {
     "name": "stdout",
     "output_type": "stream",
     "text": [
      "1537/1537 [==============================] - 15s 10ms/step - loss: 0.3689 - accuracy: 0.8337\n",
      "Test Loss: 0.3689108192920685\n",
      "Test Accuracy: 0.8336554169654846\n"
     ]
    }
   ],
   "source": [
    "test_loss, test_acc = model_LSTM2.evaluate(x_test, y_test)\n",
    "\n",
    "print('Test Loss:', test_loss)\n",
    "print('Test Accuracy:', test_acc)"
   ]
  },
  {
   "cell_type": "code",
   "execution_count": 30,
   "id": "ec2cdbe7",
   "metadata": {},
   "outputs": [
    {
     "data": {
      "image/png": "[encoded data removed]",
      "text/plain": [
       "<Figure size 1152x432 with 2 Axes>"
      ]
     },
     "metadata": {
      "needs_background": "light"
     },
     "output_type": "display_data"
    }
   ],
   "source": [
    "plt.figure(figsize=(16, 6))\n",
    "plt.subplot(1, 2, 1)\n",
    "plot_graphs(history, 'accuracy')\n",
    "plt.subplot(1, 2, 2)\n",
    "plot_graphs(history, 'loss')"
   ]
  },
  {
   "cell_type": "markdown",
   "id": "911fa2ae",
   "metadata": {},
   "source": [
    "### 모델별 영화평 호감도 예측 점수"
   ]
  },
  {
   "cell_type": "markdown",
   "id": "f0f0b0da",
   "metadata": {},
   "source": [
    "#### Conv1D"
   ]
  },
  {
   "cell_type": "code",
   "execution_count": 31,
   "id": "420d2a25",
   "metadata": {},
   "outputs": [
    {
     "name": "stdout",
     "output_type": "stream",
     "text": [
      "[[8.8697003e-04]\n",
      " [8.9549893e-01]]\n"
     ]
    }
   ],
   "source": [
    "sentences = ('ㅋㅋㅋ 난생처음 로그인하고 평점남기네요.. 개빡쳐서.. 알바들 속지마세요 이런 ㄱ ㅐ같은 시간낭비가. 아놔진짜평점 마이너스 별오만개',\n",
    "             '최고최고! 바다까지! 4차원 고양이 로봇 도라에몽과 함께하는 진구와 친구들의 미지 탐험 이야기!우주꺼지 갔음 좋겠당~')\n",
    "predict(model_Conv1D, sentences, word_to_index, index_to_word, maxlen)"
   ]
  },
  {
   "cell_type": "markdown",
   "id": "d16c717c",
   "metadata": {},
   "source": [
    "#### LSTM1"
   ]
  },
  {
   "cell_type": "code",
   "execution_count": 32,
   "id": "07f54677",
   "metadata": {},
   "outputs": [
    {
     "name": "stdout",
     "output_type": "stream",
     "text": [
      "[[0.00603244]\n",
      " [0.93194526]]\n"
     ]
    }
   ],
   "source": [
    "predict(model_LSTM1, sentences, word_to_index, index_to_word, maxlen)"
   ]
  },
  {
   "cell_type": "markdown",
   "id": "57204210",
   "metadata": {},
   "source": [
    "#### LSTM2"
   ]
  },
  {
   "cell_type": "code",
   "execution_count": 33,
   "id": "bebc7e26",
   "metadata": {},
   "outputs": [
    {
     "name": "stdout",
     "output_type": "stream",
     "text": [
      "[[0.00690168]\n",
      " [0.9006666 ]]\n"
     ]
    }
   ],
   "source": [
    "predict(model_LSTM2, sentences, word_to_index, index_to_word, maxlen)"
   ]
  },
  {
   "cell_type": "markdown",
   "id": "72bedb7d",
   "metadata": {},
   "source": [
    "### 다른 영화평 예측점수"
   ]
  },
  {
   "cell_type": "markdown",
   "id": "3770d0c0",
   "metadata": {},
   "source": [
    "#### Conv1D"
   ]
  },
  {
   "cell_type": "code",
   "execution_count": 34,
   "id": "987f7399",
   "metadata": {},
   "outputs": [
    {
     "name": "stdout",
     "output_type": "stream",
     "text": [
      "[[0.98374027]\n",
      " [0.99797195]]\n"
     ]
    }
   ],
   "source": [
    "sentences = ('다시 보고 싶은 영화. 스토리는 독특하고 연기는 자연스럽게 묻어난다. ',\n",
    "             '정말 가슴아픈영화....질리지도 않는영화....몇번을봐도...음악도 너무 좋아요...OST도 구해 들었다는...')\n",
    "predict(model_Conv1D, sentences, word_to_index, index_to_word, maxlen)"
   ]
  },
  {
   "cell_type": "markdown",
   "id": "b578f609",
   "metadata": {},
   "source": [
    "#### LSTM1"
   ]
  },
  {
   "cell_type": "code",
   "execution_count": 35,
   "id": "0c28564c",
   "metadata": {},
   "outputs": [
    {
     "name": "stdout",
     "output_type": "stream",
     "text": [
      "[[0.99076873]\n",
      " [0.9990939 ]]\n"
     ]
    }
   ],
   "source": [
    "predict(model_LSTM1, sentences, word_to_index, index_to_word, maxlen)"
   ]
  },
  {
   "cell_type": "markdown",
   "id": "bbb6db00",
   "metadata": {},
   "source": [
    "#### LSTM2"
   ]
  },
  {
   "cell_type": "code",
   "execution_count": 36,
   "id": "8da3018e",
   "metadata": {},
   "outputs": [
    {
     "name": "stdout",
     "output_type": "stream",
     "text": [
      "[[0.997408 ]\n",
      " [0.9972107]]\n"
     ]
    }
   ],
   "source": [
    "predict(model_LSTM2, sentences, word_to_index, index_to_word, maxlen)"
   ]
  },
  {
   "cell_type": "markdown",
   "id": "d3f40e66",
   "metadata": {},
   "source": [
    "#### Conv1D"
   ]
  },
  {
   "cell_type": "code",
   "execution_count": 37,
   "id": "328bd0c5",
   "metadata": {},
   "outputs": [
    {
     "name": "stdout",
     "output_type": "stream",
     "text": [
      "[[0.9742261 ]\n",
      " [0.19421102]]\n"
     ]
    }
   ],
   "source": [
    "sentences = ('끝까지 몰입해서 볼 수 있게 chapter로 나누어서 군더더기를 생략.좋은 상대와의 결혼도 권태는 피할 수 없고 나이들면 죽음보다 더 비참한 망각-치매-가 오게 되니 100년을 살게 되면 이를 어찌 극복할 수 있을까. ',\n",
    "             '좋은 배우들을 이런 영상물로 연출한것은… 너무한거 아니오')\n",
    "predict(model_Conv1D, sentences, word_to_index, index_to_word, maxlen)"
   ]
  },
  {
   "cell_type": "markdown",
   "id": "15f8a183",
   "metadata": {},
   "source": [
    "#### LSTM1"
   ]
  },
  {
   "cell_type": "code",
   "execution_count": 38,
   "id": "50974130",
   "metadata": {},
   "outputs": [
    {
     "name": "stdout",
     "output_type": "stream",
     "text": [
      "[[0.9502616 ]\n",
      " [0.06288072]]\n"
     ]
    }
   ],
   "source": [
    "predict(model_LSTM1, sentences, word_to_index, index_to_word, maxlen)"
   ]
  },
  {
   "cell_type": "markdown",
   "id": "d3bccba3",
   "metadata": {},
   "source": [
    "#### LSTM2"
   ]
  },
  {
   "cell_type": "code",
   "execution_count": 39,
   "id": "e80bf975",
   "metadata": {},
   "outputs": [
    {
     "name": "stdout",
     "output_type": "stream",
     "text": [
      "[[0.96824473]\n",
      " [0.04581561]]\n"
     ]
    }
   ],
   "source": [
    "predict(model_LSTM2, sentences, word_to_index, index_to_word, maxlen)"
   ]
  },
  {
   "cell_type": "markdown",
   "id": "6b9689d7",
   "metadata": {},
   "source": [
    "#### Conv1D"
   ]
  },
  {
   "cell_type": "code",
   "execution_count": 40,
   "id": "13060a6a",
   "metadata": {},
   "outputs": [
    {
     "name": "stdout",
     "output_type": "stream",
     "text": [
      "[[0.15284695]\n",
      " [0.18678045]]\n"
     ]
    }
   ],
   "source": [
    "sentences = ('정치 선동 영화입니다. 대선을 얼마 안남기고 전형적인 민주당식 감정 몰이 영화네요.',\n",
    "             '한효주 주연하지 말아요 제발.굳이 애써 평점을 남기게 만드는 영화.모든 면에서 다채롭게 유치합니다.')\n",
    "predict(model_Conv1D, sentences, word_to_index, index_to_word, maxlen)"
   ]
  },
  {
   "cell_type": "markdown",
   "id": "1169e574",
   "metadata": {},
   "source": [
    "#### LSTM1"
   ]
  },
  {
   "cell_type": "code",
   "execution_count": 41,
   "id": "04897363",
   "metadata": {},
   "outputs": [
    {
     "name": "stdout",
     "output_type": "stream",
     "text": [
      "[[0.42720294]\n",
      " [0.43517947]]\n"
     ]
    }
   ],
   "source": [
    "predict(model_LSTM1, sentences, word_to_index, index_to_word, maxlen)"
   ]
  },
  {
   "cell_type": "markdown",
   "id": "7f14c801",
   "metadata": {},
   "source": [
    "#### LSTM2"
   ]
  },
  {
   "cell_type": "code",
   "execution_count": 42,
   "id": "02cf7418",
   "metadata": {},
   "outputs": [
    {
     "name": "stdout",
     "output_type": "stream",
     "text": [
      "[[0.78516054]\n",
      " [0.44713965]]\n"
     ]
    }
   ],
   "source": [
    "predict(model_LSTM2, sentences, word_to_index, index_to_word, maxlen)"
   ]
  },
  {
   "cell_type": "markdown",
   "id": "b99b6c58",
   "metadata": {},
   "source": [
    "### 한국어 Word2Vec 임베딩 활용하여 성능 개선\n",
    "#### 사용된 세개의 모델 전부 Word2Vec 사용"
   ]
  },
  {
   "cell_type": "markdown",
   "id": "3de7211e",
   "metadata": {},
   "source": [
    "#### 참고 : RNN을 사용한 텍스트 분류\n",
    "https://www.tensorflow.org/text/tutorials/text_similarity?hl=ko"
   ]
  },
  {
   "cell_type": "markdown",
   "id": "c199dd83",
   "metadata": {},
   "source": [
    "###  후 기 :  \n",
    "\n",
    "\n",
    "#### 한국어 형태소 분류하는 프로그램의 성능이 기대에 미치지 못했고 문장의 대부분 단어들이 무시되는 결과가 되었다. \n",
    "\n",
    "#### 영어 같은 문장구조라면 비교적 쉬운 작업이 될 거라고 생각되지만 한국어는 컴퓨터 환경에서 '정말 너무 구리다'\n",
    "\n",
    "#### 영어를 사용하는 영화평 감성분류 작업도 정확도가 85% 정도 나오던데 한국어 작업결과가 83% 이렇게 비슷하게 나와도 결과를 직접 확인해보면 기대에 미치지 못한다.\n",
    "    \n",
    "#### 차라리 문장을 통체로 딥러닝 시도하는 것이 나을 것 같다.    \n",
    "    \n"
   ]
  },
  {
   "cell_type": "code",
   "execution_count": null,
   "id": "ae7d45b5",
   "metadata": {},
   "outputs": [],
   "source": []
  }
 ],
 "metadata": {
  "kernelspec": {
   "display_name": "Python 3 (ipykernel)",
   "language": "python",
   "name": "python3"
  },
  "language_info": {
   "codemirror_mode": {
    "name": "ipython",
    "version": 3
   },
   "file_extension": ".py",
   "mimetype": "text/x-python",
   "name": "python",
   "nbconvert_exporter": "python",
   "pygments_lexer": "ipython3",
   "version": "3.8.12"
  }
 },
 "nbformat": 4,
 "nbformat_minor": 5
}
