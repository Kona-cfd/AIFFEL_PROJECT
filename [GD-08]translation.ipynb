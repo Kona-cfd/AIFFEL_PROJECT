{
 "cells": [
  {
   "cell_type": "code",
   "execution_count": 1,
   "id": "caaa028d",
   "metadata": {
    "colab": {
     "base_uri": "https://localhost:8080/"
    },
    "executionInfo": {
     "elapsed": 9,
     "status": "ok",
     "timestamp": 1649131117950,
     "user": {
      "displayName": "김원",
      "userId": "06508057127562568720"
     },
     "user_tz": -540
    },
    "id": "caaa028d",
    "outputId": "82c5a176-fa25-41f3-b710-a7bc45c7a519"
   },
   "outputs": [
    {
     "name": "stdout",
     "output_type": "stream",
     "text": [
      "Tue Apr  5 03:58:38 2022       \n",
      "+-----------------------------------------------------------------------------+\n",
      "| NVIDIA-SMI 460.32.03    Driver Version: 460.32.03    CUDA Version: 11.2     |\n",
      "|-------------------------------+----------------------+----------------------+\n",
      "| GPU  Name        Persistence-M| Bus-Id        Disp.A | Volatile Uncorr. ECC |\n",
      "| Fan  Temp  Perf  Pwr:Usage/Cap|         Memory-Usage | GPU-Util  Compute M. |\n",
      "|                               |                      |               MIG M. |\n",
      "|===============================+======================+======================|\n",
      "|   0  Tesla P100-PCIE...  Off  | 00000000:00:04.0 Off |                    0 |\n",
      "| N/A   33C    P0    26W / 250W |      0MiB / 16280MiB |      0%      Default |\n",
      "|                               |                      |                  N/A |\n",
      "+-------------------------------+----------------------+----------------------+\n",
      "                                                                               \n",
      "+-----------------------------------------------------------------------------+\n",
      "| Processes:                                                                  |\n",
      "|  GPU   GI   CI        PID   Type   Process name                  GPU Memory |\n",
      "|        ID   ID                                                   Usage      |\n",
      "|=============================================================================|\n",
      "|  No running processes found                                                 |\n",
      "+-----------------------------------------------------------------------------+\n"
     ]
    }
   ],
   "source": [
    "gpu_info = !nvidia-smi\n",
    "gpu_info = '\\n'.join(gpu_info)\n",
    "if gpu_info.find('failed') >= 0:\n",
    "  print('Not connected to a GPU')\n",
    "else:\n",
    "  print(gpu_info)"
   ]
  },
  {
   "cell_type": "code",
   "execution_count": 2,
   "id": "a76625ad",
   "metadata": {
    "colab": {
     "base_uri": "https://localhost:8080/"
    },
    "executionInfo": {
     "elapsed": 22023,
     "status": "ok",
     "timestamp": 1649131140922,
     "user": {
      "displayName": "김원",
      "userId": "06508057127562568720"
     },
     "user_tz": -540
    },
    "id": "a76625ad",
    "outputId": "b47d1112-ab40-4ea9-d286-d11ce93140b1"
   },
   "outputs": [
    {
     "name": "stdout",
     "output_type": "stream",
     "text": [
      "Mounted at /content/drive\n"
     ]
    }
   ],
   "source": [
    "from google.colab import drive\n",
    "drive.mount('/content/drive')"
   ]
  },
  {
   "cell_type": "markdown",
   "id": "71e3b550",
   "metadata": {
    "id": "71e3b550"
   },
   "source": [
    "# 8. Seq2seq으로 번역기 만들기"
   ]
  },
  {
   "cell_type": "markdown",
   "id": "00108dd1",
   "metadata": {
    "id": "00108dd1"
   },
   "source": [
    "### ****8-1. Seq2seq 기반 번역기 만들기****\n",
    "\n",
    "프로젝트는 한국어-영어 말뭉치를 사용 Seq2seq 기반 번역기를 Attention 기법을 추가해서 만듬"
   ]
  },
  {
   "cell_type": "code",
   "execution_count": 3,
   "id": "d9f8414c",
   "metadata": {
    "colab": {
     "base_uri": "https://localhost:8080/"
    },
    "executionInfo": {
     "elapsed": 2567,
     "status": "ok",
     "timestamp": 1649131163828,
     "user": {
      "displayName": "김원",
      "userId": "06508057127562568720"
     },
     "user_tz": -540
    },
    "id": "d9f8414c",
    "outputId": "44b98b1d-9b24-4779-cd22-013ca773d769"
   },
   "outputs": [
    {
     "name": "stdout",
     "output_type": "stream",
     "text": [
      "1.3.5\n",
      "2.8.0\n",
      "3.2.2\n"
     ]
    }
   ],
   "source": [
    "import pandas\n",
    "import tensorflow\n",
    "import matplotlib\n",
    "\n",
    "print(pandas.__version__)\n",
    "print(tensorflow.__version__)\n",
    "print(matplotlib.__version__)"
   ]
  },
  {
   "cell_type": "code",
   "execution_count": 4,
   "id": "e4bafbaa",
   "metadata": {
    "executionInfo": {
     "elapsed": 2551,
     "status": "ok",
     "timestamp": 1649131166374,
     "user": {
      "displayName": "김원",
      "userId": "06508057127562568720"
     },
     "user_tz": -540
    },
    "id": "e4bafbaa"
   },
   "outputs": [],
   "source": [
    "import matplotlib as mpl\n",
    "import matplotlib.pyplot as plt\n",
    " \n",
    "%config InlineBackend.figure_format = 'retina' \n",
    "from pathlib import Path\n",
    "import matplotlib.font_manager as fm\n",
    "directory = Path.joinpath(Path.cwd(),'drive','MyDrive','Colab Notebooks','GD','GD-08','data')\n",
    "fontpath = Path.joinpath(Path.cwd(),'drive','MyDrive','Colab Notebooks','GD','GD-08','NanumBarunGothic.ttf')\n",
    "\n",
    "# directory = Path.joinpath(Path.cwd(),'data')\n",
    "# fontpath = 'NanumBarunGothic.ttf'\n",
    "\n",
    "fp=fm.FontProperties(fname=fontpath)\n",
    "font_name =fm.FontProperties(fname=fontpath).get_name()\n",
    "plt.rcParams['font.family'] = font_name\n",
    "\n",
    "path_to_en_data  = Path.joinpath(directory,'korean-english-park.train.en')\n",
    "path_to_ko_data  = Path.joinpath(directory,'korean-english-park.train.ko')"
   ]
  },
  {
   "cell_type": "code",
   "execution_count": 5,
   "id": "7866bb62",
   "metadata": {
    "colab": {
     "base_uri": "https://localhost:8080/",
     "height": 224
    },
    "executionInfo": {
     "elapsed": 3111,
     "status": "ok",
     "timestamp": 1649131169482,
     "user": {
      "displayName": "김원",
      "userId": "06508057127562568720"
     },
     "user_tz": -540
    },
    "id": "7866bb62",
    "outputId": "96b0f0cf-8bd7-4fcd-9d9a-f5ede284d940"
   },
   "outputs": [
    {
     "name": "stdout",
     "output_type": "stream",
     "text": [
      "전체 샘플 수 : 94123\n"
     ]
    },
    {
     "data": {
      "text/html": [
       "\n",
       "  <div id=\"df-a204337a-b052-43ea-ac67-1ef205b22972\">\n",
       "    <div class=\"colab-df-container\">\n",
       "      <div>\n",
       "<style scoped>\n",
       "    .dataframe tbody tr th:only-of-type {\n",
       "        vertical-align: middle;\n",
       "    }\n",
       "\n",
       "    .dataframe tbody tr th {\n",
       "        vertical-align: top;\n",
       "    }\n",
       "\n",
       "    .dataframe thead th {\n",
       "        text-align: right;\n",
       "    }\n",
       "</style>\n",
       "<table border=\"1\" class=\"dataframe\">\n",
       "  <thead>\n",
       "    <tr style=\"text-align: right;\">\n",
       "      <th></th>\n",
       "      <th>kor</th>\n",
       "      <th>eng</th>\n",
       "    </tr>\n",
       "  </thead>\n",
       "  <tbody>\n",
       "    <tr>\n",
       "      <th>0</th>\n",
       "      <td>개인용 컴퓨터 사용의 상당 부분은 \"이것보다 뛰어날 수 있느냐?\"</td>\n",
       "      <td>Much of personal computing is about \"can you t...</td>\n",
       "    </tr>\n",
       "    <tr>\n",
       "      <th>1</th>\n",
       "      <td>모든 광마우스와 마찬가지 로 이 광마우스도 책상 위에 놓는 마우스 패드를 필요로 하...</td>\n",
       "      <td>so a mention a few weeks ago about a rechargea...</td>\n",
       "    </tr>\n",
       "    <tr>\n",
       "      <th>2</th>\n",
       "      <td>그러나 이것은 또한 책상도 필요로 하지 않는다.</td>\n",
       "      <td>Like all optical mice, But it also doesn't nee...</td>\n",
       "    </tr>\n",
       "    <tr>\n",
       "      <th>3</th>\n",
       "      <td>79.95달러하는 이 최첨단 무선 광마우스는 허공에서 팔목, 팔, 그외에 어떤 부분...</td>\n",
       "      <td>uses gyroscopic sensors to control the cursor ...</td>\n",
       "    </tr>\n",
       "    <tr>\n",
       "      <th>4</th>\n",
       "      <td>정보 관리들은 동남 아시아에서의 선박들에 대한 많은 (테러) 계획들이 실패로 돌아갔...</td>\n",
       "      <td>Intelligence officials have revealed a spate o...</td>\n",
       "    </tr>\n",
       "  </tbody>\n",
       "</table>\n",
       "</div>\n",
       "      <button class=\"colab-df-convert\" onclick=\"convertToInteractive('df-a204337a-b052-43ea-ac67-1ef205b22972')\"\n",
       "              title=\"Convert this dataframe to an interactive table.\"\n",
       "              style=\"display:none;\">\n",
       "        \n",
       "  <svg xmlns=\"http://www.w3.org/2000/svg\" height=\"24px\"viewBox=\"0 0 24 24\"\n",
       "       width=\"24px\">\n",
       "    <path d=\"M0 0h24v24H0V0z\" fill=\"none\"/>\n",
       "    <path d=\"M18.56 5.44l.94 2.06.94-2.06 2.06-.94-2.06-.94-.94-2.06-.94 2.06-2.06.94zm-11 1L8.5 8.5l.94-2.06 2.06-.94-2.06-.94L8.5 2.5l-.94 2.06-2.06.94zm10 10l.94 2.06.94-2.06 2.06-.94-2.06-.94-.94-2.06-.94 2.06-2.06.94z\"/><path d=\"M17.41 7.96l-1.37-1.37c-.4-.4-.92-.59-1.43-.59-.52 0-1.04.2-1.43.59L10.3 9.45l-7.72 7.72c-.78.78-.78 2.05 0 2.83L4 21.41c.39.39.9.59 1.41.59.51 0 1.02-.2 1.41-.59l7.78-7.78 2.81-2.81c.8-.78.8-2.07 0-2.86zM5.41 20L4 18.59l7.72-7.72 1.47 1.35L5.41 20z\"/>\n",
       "  </svg>\n",
       "      </button>\n",
       "      \n",
       "  <style>\n",
       "    .colab-df-container {\n",
       "      display:flex;\n",
       "      flex-wrap:wrap;\n",
       "      gap: 12px;\n",
       "    }\n",
       "\n",
       "    .colab-df-convert {\n",
       "      background-color: #E8F0FE;\n",
       "      border: none;\n",
       "      border-radius: 50%;\n",
       "      cursor: pointer;\n",
       "      display: none;\n",
       "      fill: #1967D2;\n",
       "      height: 32px;\n",
       "      padding: 0 0 0 0;\n",
       "      width: 32px;\n",
       "    }\n",
       "\n",
       "    .colab-df-convert:hover {\n",
       "      background-color: #E2EBFA;\n",
       "      box-shadow: 0px 1px 2px rgba(60, 64, 67, 0.3), 0px 1px 3px 1px rgba(60, 64, 67, 0.15);\n",
       "      fill: #174EA6;\n",
       "    }\n",
       "\n",
       "    [theme=dark] .colab-df-convert {\n",
       "      background-color: #3B4455;\n",
       "      fill: #D2E3FC;\n",
       "    }\n",
       "\n",
       "    [theme=dark] .colab-df-convert:hover {\n",
       "      background-color: #434B5C;\n",
       "      box-shadow: 0px 1px 3px 1px rgba(0, 0, 0, 0.15);\n",
       "      filter: drop-shadow(0px 1px 2px rgba(0, 0, 0, 0.3));\n",
       "      fill: #FFFFFF;\n",
       "    }\n",
       "  </style>\n",
       "\n",
       "      <script>\n",
       "        const buttonEl =\n",
       "          document.querySelector('#df-a204337a-b052-43ea-ac67-1ef205b22972 button.colab-df-convert');\n",
       "        buttonEl.style.display =\n",
       "          google.colab.kernel.accessAllowed ? 'block' : 'none';\n",
       "\n",
       "        async function convertToInteractive(key) {\n",
       "          const element = document.querySelector('#df-a204337a-b052-43ea-ac67-1ef205b22972');\n",
       "          const dataTable =\n",
       "            await google.colab.kernel.invokeFunction('convertToInteractive',\n",
       "                                                     [key], {});\n",
       "          if (!dataTable) return;\n",
       "\n",
       "          const docLinkHtml = 'Like what you see? Visit the ' +\n",
       "            '<a target=\"_blank\" href=https://colab.research.google.com/notebooks/data_table.ipynb>data table notebook</a>'\n",
       "            + ' to learn more about interactive tables.';\n",
       "          element.innerHTML = '';\n",
       "          dataTable['output_type'] = 'display_data';\n",
       "          await google.colab.output.renderOutput(dataTable, element);\n",
       "          const docLink = document.createElement('div');\n",
       "          docLink.innerHTML = docLinkHtml;\n",
       "          element.appendChild(docLink);\n",
       "        }\n",
       "      </script>\n",
       "    </div>\n",
       "  </div>\n",
       "  "
      ],
      "text/plain": [
       "                                                 kor  \\\n",
       "0               개인용 컴퓨터 사용의 상당 부분은 \"이것보다 뛰어날 수 있느냐?\"   \n",
       "1  모든 광마우스와 마찬가지 로 이 광마우스도 책상 위에 놓는 마우스 패드를 필요로 하...   \n",
       "2                         그러나 이것은 또한 책상도 필요로 하지 않는다.   \n",
       "3  79.95달러하는 이 최첨단 무선 광마우스는 허공에서 팔목, 팔, 그외에 어떤 부분...   \n",
       "4  정보 관리들은 동남 아시아에서의 선박들에 대한 많은 (테러) 계획들이 실패로 돌아갔...   \n",
       "\n",
       "                                                 eng  \n",
       "0  Much of personal computing is about \"can you t...  \n",
       "1  so a mention a few weeks ago about a rechargea...  \n",
       "2  Like all optical mice, But it also doesn't nee...  \n",
       "3  uses gyroscopic sensors to control the cursor ...  \n",
       "4  Intelligence officials have revealed a spate o...  "
      ]
     },
     "execution_count": 5,
     "metadata": {},
     "output_type": "execute_result"
    }
   ],
   "source": [
    "import pandas as pd\n",
    "def load_corpus(path_to_data1, path_to_data2):\n",
    "    with open(path_to_data1, \"r\", encoding='UTF-8') as f:\n",
    "        inputs = f.read().splitlines()        \n",
    "        \n",
    "    with open(path_to_data2, \"r\", encoding='UTF-8') as f:\n",
    "        outputs = f.read().splitlines()\n",
    "        \n",
    "    data = pd.DataFrame(zip(inputs, outputs))\n",
    "    return data\n",
    "\n",
    "raw_data = load_corpus(path_to_ko_data, path_to_en_data)\n",
    "raw_data.columns=['kor','eng']\n",
    "print('전체 샘플 수 :', len(raw_data))\n",
    "raw_data.head()"
   ]
  },
  {
   "cell_type": "code",
   "execution_count": 6,
   "id": "2af52dd7",
   "metadata": {
    "colab": {
     "base_uri": "https://localhost:8080/"
    },
    "executionInfo": {
     "elapsed": 582,
     "status": "ok",
     "timestamp": 1649131169751,
     "user": {
      "displayName": "김원",
      "userId": "06508057127562568720"
     },
     "user_tz": -540
    },
    "id": "2af52dd7",
    "outputId": "1784a6ac-b413-449c-9fec-46a832009189"
   },
   "outputs": [
    {
     "name": "stdout",
     "output_type": "stream",
     "text": [
      "[nltk_data] Downloading package stopwords to /root/nltk_data...\n",
      "[nltk_data]   Unzipping corpora/stopwords.zip.\n"
     ]
    }
   ],
   "source": [
    "import nltk\n",
    "nltk.download('stopwords')\n",
    "from nltk.corpus import stopwords"
   ]
  },
  {
   "cell_type": "code",
   "execution_count": 7,
   "id": "9ba6d199",
   "metadata": {
    "executionInfo": {
     "elapsed": 5,
     "status": "ok",
     "timestamp": 1649131169751,
     "user": {
      "displayName": "김원",
      "userId": "06508057127562568720"
     },
     "user_tz": -540
    },
    "id": "9ba6d199"
   },
   "outputs": [],
   "source": [
    "import re\n",
    "import numpy as np\n",
    "\n",
    "hangul = re.compile('[^ 가-힣]+') # 한글과 띄어쓰기를 제외한 모든 글자\n",
    "\n",
    "# 전처리 함수\n",
    "def preprocess_sentence(sentence, remove_stopwords=True):\n",
    "    sentence = sentence.lower().strip()\n",
    "\n",
    "    # 단어와 구두점(punctuation) 사이의 거리를 만듭니다.\n",
    "    # 예를 들어서 \"I am a student.\" => \"I am a student .\"와 같이\n",
    "    # student와 온점 사이에 거리를 만듭니다.\n",
    "    sentence = re.sub(r\"([?.!,])\", r\" \\1 \", sentence)\n",
    "    sentence = re.sub(r'[\" \"]+', \" \", sentence)\n",
    "\n",
    "    # (a-z, A-Z, \".\", \"?\", \"!\", \",\")를 제외한 모든 문자를 공백인 ' '로 대체합니다.\n",
    "    #   sentence = re.sub(r\"[^a-zA-Z?.!,]+\", \" \", sentence)\n",
    "    sentence = re.sub(r\"[^a-zA-Z가-힣?.!,]+\", \" \", sentence) # 가-힣 한글은 지우지 말자.\n",
    "    \n",
    "    if remove_stopwords:\n",
    "        sentence = ' '.join(word for word in sentence.split() if not word in stopwords.words('english') if len(word) > 1)\n",
    "    # 불용어 미제거 (Summary)\n",
    "    else:\n",
    "        sentence = ' '.join(word for word in sentence.split() if len(word) > 1)\n",
    "\n",
    "    # sentence =  '<start> ' +  sentence + ' <end>'\n",
    "    return sentence"
   ]
  },
  {
   "cell_type": "code",
   "execution_count": 8,
   "id": "5UWP5U2jSzzW",
   "metadata": {
    "colab": {
     "base_uri": "https://localhost:8080/"
    },
    "executionInfo": {
     "elapsed": 4534,
     "status": "ok",
     "timestamp": 1649131174281,
     "user": {
      "displayName": "김원",
      "userId": "06508057127562568720"
     },
     "user_tz": -540
    },
    "id": "5UWP5U2jSzzW",
    "outputId": "0808949b-56f9-47d6-9412-57c11686d26c"
   },
   "outputs": [
    {
     "name": "stdout",
     "output_type": "stream",
     "text": [
      "Collecting konlpy\n",
      "  Downloading konlpy-0.6.0-py2.py3-none-any.whl (19.4 MB)\n",
      "\u001b[K     |████████████████████████████████| 19.4 MB 1.5 MB/s \n",
      "\u001b[?25hRequirement already satisfied: lxml>=4.1.0 in /usr/local/lib/python3.7/dist-packages (from konlpy) (4.2.6)\n",
      "Requirement already satisfied: numpy>=1.6 in /usr/local/lib/python3.7/dist-packages (from konlpy) (1.21.5)\n",
      "Collecting JPype1>=0.7.0\n",
      "  Downloading JPype1-1.3.0-cp37-cp37m-manylinux_2_5_x86_64.manylinux1_x86_64.whl (448 kB)\n",
      "\u001b[K     |████████████████████████████████| 448 kB 71.7 MB/s \n",
      "\u001b[?25hRequirement already satisfied: typing-extensions in /usr/local/lib/python3.7/dist-packages (from JPype1>=0.7.0->konlpy) (3.10.0.2)\n",
      "Installing collected packages: JPype1, konlpy\n",
      "Successfully installed JPype1-1.3.0 konlpy-0.6.0\n"
     ]
    }
   ],
   "source": [
    "!python3 -m pip install konlpy \n",
    "# !bash <(curl -s https://raw.githubusercontent.com/konlpy/konlpy/master/scripts/mecab.sh)"
   ]
  },
  {
   "cell_type": "code",
   "execution_count": 9,
   "id": "34e14aff",
   "metadata": {
    "executionInfo": {
     "elapsed": 1412,
     "status": "ok",
     "timestamp": 1649131175687,
     "user": {
      "displayName": "김원",
      "userId": "06508057127562568720"
     },
     "user_tz": -540
    },
    "id": "34e14aff"
   },
   "outputs": [],
   "source": [
    "from konlpy.tag  import Okt\n",
    "okt =  Okt()\n",
    "\n",
    "def make_clean_data(data, n_examples, remove_stopwords=True):\n",
    "    data.drop_duplicates(subset=['kor'], inplace=True)\n",
    "    data.drop_duplicates(subset=['eng'], inplace=True)\n",
    "    data.dropna(how = 'any', inplace=True)\n",
    "    data.reset_index(drop=True, inplace=True)\n",
    "    print('중복과 결측치 제거 후 남은 데이터 수',data.shape)\n",
    "    \n",
    "    filtered_corpus_kor = []\n",
    "    filtered_corpus_eng = []\n",
    "    for i in range(n_examples):  \n",
    "        kor_txt = preprocess_sentence(' '.join(okt.morphs(data.at[i, 'kor'])), remove_stopwords=False)\n",
    "        eng_txt = preprocess_sentence(data.at[i, 'eng'])\n",
    "        \n",
    "        if kor_txt != '' and eng_txt != '' and kor_txt != 'nan' and eng_txt != 'nan' :\n",
    "            filtered_corpus_kor.append(kor_txt)\n",
    "            filtered_corpus_eng.append('<start> ' + eng_txt + ' <end>')\n",
    "            \n",
    "    return filtered_corpus_kor, filtered_corpus_eng"
   ]
  },
  {
   "cell_type": "code",
   "execution_count": 10,
   "id": "fe7c150e",
   "metadata": {
    "executionInfo": {
     "elapsed": 5,
     "status": "ok",
     "timestamp": 1649131175687,
     "user": {
      "displayName": "김원",
      "userId": "06508057127562568720"
     },
     "user_tz": -540
    },
    "id": "fe7c150e"
   },
   "outputs": [],
   "source": [
    "data_directory = Path.joinpath(Path.cwd(),'drive','MyDrive','Colab Notebooks','GD','GD-08','data', 'clean_data.csv')\n",
    "# data_directory = Path.joinpath(Path.cwd(),'data', 'clean_data.csv')"
   ]
  },
  {
   "cell_type": "code",
   "execution_count": 11,
   "id": "ebb0f39f",
   "metadata": {
    "executionInfo": {
     "elapsed": 5,
     "status": "ok",
     "timestamp": 1649131175688,
     "user": {
      "displayName": "김원",
      "userId": "06508057127562568720"
     },
     "user_tz": -540
    },
    "id": "ebb0f39f"
   },
   "outputs": [],
   "source": [
    "# n_examples = 74848   # 클린 데이터 생성 저장 \n",
    "# kor_corpus, eng_corpus = make_clean_data(raw_data, n_examples)\n",
    "# clean_data = pd.DataFrame(zip(kor_corpus, eng_corpus))\n",
    "# clean_data.columns=['kor','eng']\n",
    "# clean_data.to_csv(data_directory)"
   ]
  },
  {
   "cell_type": "code",
   "execution_count": 12,
   "id": "9zTl4VOTvJmZ",
   "metadata": {
    "executionInfo": {
     "elapsed": 908,
     "status": "ok",
     "timestamp": 1649131176591,
     "user": {
      "displayName": "김원",
      "userId": "06508057127562568720"
     },
     "user_tz": -540
    },
    "id": "9zTl4VOTvJmZ"
   },
   "outputs": [],
   "source": [
    "clean_data = pd.read_csv(data_directory)  # 클린 데이터 불러오기\n",
    "inputs  = list(clean_data['kor'])\n",
    "outputs = list(clean_data['eng'])"
   ]
  },
  {
   "cell_type": "code",
   "execution_count": 13,
   "id": "a17acfe3",
   "metadata": {
    "colab": {
     "base_uri": "https://localhost:8080/"
    },
    "executionInfo": {
     "elapsed": 9,
     "status": "ok",
     "timestamp": 1649131176592,
     "user": {
      "displayName": "김원",
      "userId": "06508057127562568720"
     },
     "user_tz": -540
    },
    "id": "a17acfe3",
    "outputId": "e63e819d-b836-46a6-92a0-c8f6a61f2b2d"
   },
   "outputs": [
    {
     "data": {
      "text/plain": [
       "74826"
      ]
     },
     "execution_count": 13,
     "metadata": {},
     "output_type": "execute_result"
    }
   ],
   "source": [
    "len(inputs)"
   ]
  },
  {
   "cell_type": "code",
   "execution_count": 14,
   "id": "530ed41d",
   "metadata": {
    "colab": {
     "base_uri": "https://localhost:8080/"
    },
    "executionInfo": {
     "elapsed": 8,
     "status": "ok",
     "timestamp": 1649131176592,
     "user": {
      "displayName": "김원",
      "userId": "06508057127562568720"
     },
     "user_tz": -540
    },
    "id": "530ed41d",
    "outputId": "dd77b099-a7f4-4334-9297-b6c2ad2f9f1a"
   },
   "outputs": [
    {
     "name": "stdout",
     "output_type": "stream",
     "text": [
      "inputs: 서킷 시티 올해 까지 전체 매장 폐쇄키 했습니다\n",
      "outputs: <start> circuit city closing stores end year <end>\n"
     ]
    }
   ],
   "source": [
    "test_idx = 74800\n",
    "print(\"inputs:\",  inputs[test_idx])   # <start> 저리 가 ! <end>\n",
    "print(\"outputs:\", outputs[test_idx])   # <start> go away ! <end>   "
   ]
  },
  {
   "cell_type": "markdown",
   "id": "73625300",
   "metadata": {
    "id": "73625300"
   },
   "source": [
    "****Step 3. 데이터 토큰화****\n",
    "\n",
    "앞서 정의한 tokenize() 함수를 사용해 데이터를 텐서로 변환하고 각각의 tokenizer를 얻으세요! 단어의 수는 실험을 통해 적당한 값을 맞춰주도록 합니다! (최소 10,000 이상!)\n",
    "\n",
    "❗ 주의: 난이도에 비해 데이터가 많지 않아 훈련 데이터와 검증 데이터를 따로 나누지는 않습니다."
   ]
  },
  {
   "cell_type": "code",
   "execution_count": 15,
   "id": "a5afc4be",
   "metadata": {
    "executionInfo": {
     "elapsed": 5,
     "status": "ok",
     "timestamp": 1649131176592,
     "user": {
      "displayName": "김원",
      "userId": "06508057127562568720"
     },
     "user_tz": -540
    },
    "id": "a5afc4be"
   },
   "outputs": [],
   "source": [
    "MIN_LENGTH = 3\n",
    "MAX_LENGTH = 40 # 최대 길이 40 이하인 경우에만 데이터셋으로 허용\n",
    "vocab_size = 40000\n"
   ]
  },
  {
   "cell_type": "code",
   "execution_count": 16,
   "id": "255e0254",
   "metadata": {
    "executionInfo": {
     "elapsed": 6,
     "status": "ok",
     "timestamp": 1649131176593,
     "user": {
      "displayName": "김원",
      "userId": "06508057127562568720"
     },
     "user_tz": -540
    },
    "id": "255e0254"
   },
   "outputs": [],
   "source": [
    "import tensorflow as tf\n",
    "def tokenize(corpus):\n",
    "    tokenizer = tf.keras.preprocessing.text.Tokenizer(filters='', num_words=vocab_size)\n",
    "    tokenizer.fit_on_texts(corpus)\n",
    "    tensor = tokenizer.texts_to_sequences(corpus)\n",
    "    tensor = tf.keras.preprocessing.sequence.pad_sequences(tensor, padding='post', maxlen=MAX_LENGTH)\n",
    "    return tensor, tokenizer"
   ]
  },
  {
   "cell_type": "code",
   "execution_count": 17,
   "id": "25f8644d",
   "metadata": {
    "executionInfo": {
     "elapsed": 1000,
     "status": "ok",
     "timestamp": 1649131177588,
     "user": {
      "displayName": "김원",
      "userId": "06508057127562568720"
     },
     "user_tz": -540
    },
    "id": "25f8644d"
   },
   "outputs": [],
   "source": [
    "\n",
    "# 정수 인코딩, 최대 길이를 초과하는 샘플 제거, 패딩\n",
    "def length_filter(inputs, outputs):\n",
    "    tokenized_inputs, tokenized_outputs = [], []\n",
    "    \n",
    "    for  inputs_, outputs_ in list(zip(inputs, outputs)):\n",
    "        len_inputs  = len(re.findall(r'\\w+', inputs_))\n",
    "        len_outputs = len(re.findall(r'\\w+', outputs_))\n",
    "\n",
    "        if len_inputs <= MAX_LENGTH and len_outputs <= MAX_LENGTH and \\\n",
    "           len_inputs >= MIN_LENGTH and len_outputs >= MIN_LENGTH + 2: # <start> <end>\n",
    "            tokenized_inputs.append(inputs_)\n",
    "            tokenized_outputs.append(outputs_)\n",
    "    return tokenized_inputs, tokenized_outputs\n",
    "\n",
    "inputs1, outputs1 = length_filter(inputs, outputs)"
   ]
  },
  {
   "cell_type": "code",
   "execution_count": 18,
   "id": "bc3a442c",
   "metadata": {
    "colab": {
     "base_uri": "https://localhost:8080/"
    },
    "executionInfo": {
     "elapsed": 421,
     "status": "ok",
     "timestamp": 1649131177997,
     "user": {
      "displayName": "김원",
      "userId": "06508057127562568720"
     },
     "user_tz": -540
    },
    "id": "bc3a442c",
    "outputId": "5743ca14-b031-4826-b368-c5f45db7f838"
   },
   "outputs": [
    {
     "name": "stdout",
     "output_type": "stream",
     "text": [
      "데이터 갯수 :  73620\n",
      "문장길이 평균 :  15.59550393914697\n",
      "문장길이 최대 :  40\n",
      "문장길이 최소 :  3\n",
      "문장길이 표준편차 :  6.3421586430637165\n"
     ]
    }
   ],
   "source": [
    "# total_data_text = list(x_train) + list(x_test)\n",
    "# 텍스트데이터 문장길이의 리스트를 생성한 후\n",
    "print('데이터 갯수 : ', len(inputs1))\n",
    "num_tokens = [len(re.findall(r'\\w+', tokens)) for tokens in inputs1]\n",
    "num_tokens = np.array(num_tokens)\n",
    "# 문장길이의 평균값, 최대값, 표준편차를 계산해 본다. \n",
    "print('문장길이 평균 : ', np.mean(num_tokens))\n",
    "print('문장길이 최대 : ', np.max(num_tokens))\n",
    "print('문장길이 최소 : ', np.min(num_tokens))\n",
    "print('문장길이 표준편차 : ', np.std(num_tokens))"
   ]
  },
  {
   "cell_type": "code",
   "execution_count": 19,
   "id": "67c15ba2",
   "metadata": {
    "executionInfo": {
     "elapsed": 6161,
     "status": "ok",
     "timestamp": 1649131184156,
     "user": {
      "displayName": "김원",
      "userId": "06508057127562568720"
     },
     "user_tz": -540
    },
    "id": "67c15ba2"
   },
   "outputs": [],
   "source": [
    "# 토큰화하기\n",
    "enc_tensor, enc_tokenizer = tokenize(inputs1)\n",
    "dec_tensor, dec_tokenizer = tokenize(outputs1)"
   ]
  },
  {
   "cell_type": "code",
   "execution_count": 20,
   "id": "05f42bf8",
   "metadata": {
    "colab": {
     "base_uri": "https://localhost:8080/"
    },
    "executionInfo": {
     "elapsed": 17,
     "status": "ok",
     "timestamp": 1649131184157,
     "user": {
      "displayName": "김원",
      "userId": "06508057127562568720"
     },
     "user_tz": -540
    },
    "id": "05f42bf8",
    "outputId": "d6717cce-e198-4422-e6f1-727f6b29e850"
   },
   "outputs": [
    {
     "data": {
      "text/plain": [
       "array([  37,   89, 6841,  726,   35,  589,    0,    0,    0,    0,    0,\n",
       "          0,    0,    0,    0,    0,    0,    0,    0,    0,    0,    0,\n",
       "          0,    0,    0,    0,    0,    0,    0,    0,    0,    0,    0,\n",
       "          0,    0,    0,    0,    0,    0,    0], dtype=int32)"
      ]
     },
     "execution_count": 20,
     "metadata": {},
     "output_type": "execute_result"
    }
   ],
   "source": [
    "enc_tensor[2]\n",
    "# print(test_enc)\n",
    "# sentence = enc_tokenizer.sequences_to_texts(test_enc)\n",
    "# # print(sentence[0])"
   ]
  },
  {
   "cell_type": "code",
   "execution_count": 21,
   "id": "7c7c0f3f",
   "metadata": {
    "colab": {
     "base_uri": "https://localhost:8080/"
    },
    "executionInfo": {
     "elapsed": 13,
     "status": "ok",
     "timestamp": 1649131184157,
     "user": {
      "displayName": "김원",
      "userId": "06508057127562568720"
     },
     "user_tz": -540
    },
    "id": "7c7c0f3f",
    "outputId": "e3866c8c-6f4f-4ec3-e935-0fb79bdda1e5"
   },
   "outputs": [
    {
     "data": {
      "text/plain": [
       "array([    1,    74, 12926,  4520,    13,   334,  6379,     2,     0,\n",
       "           0,     0,     0,     0,     0,     0,     0,     0,     0,\n",
       "           0,     0,     0,     0,     0,     0,     0,     0,     0,\n",
       "           0,     0,     0,     0,     0,     0,     0,     0,     0,\n",
       "           0,     0,     0,     0], dtype=int32)"
      ]
     },
     "execution_count": 21,
     "metadata": {},
     "output_type": "execute_result"
    }
   ],
   "source": [
    "dec_tensor[2]"
   ]
  },
  {
   "cell_type": "code",
   "execution_count": 22,
   "id": "612d1626",
   "metadata": {
    "colab": {
     "base_uri": "https://localhost:8080/"
    },
    "executionInfo": {
     "elapsed": 12,
     "status": "ok",
     "timestamp": 1649131184158,
     "user": {
      "displayName": "김원",
      "userId": "06508057127562568720"
     },
     "user_tz": -540
    },
    "id": "612d1626",
    "outputId": "8755ea74-570a-41f1-a68e-f68a473e2929"
   },
   "outputs": [
    {
     "name": "stdout",
     "output_type": "stream",
     "text": [
      "1:했다\n",
      "2:에서\n",
      "3:으로\n",
      "4:있다\n",
      "5:하고\n",
      "6:하는\n",
      "7:밝혔다\n",
      "8:미국\n",
      "9:이라고\n"
     ]
    }
   ],
   "source": [
    "for i in range(1,10):\n",
    "    print('{}:{}'.format(i,enc_tokenizer.index_word[i]))"
   ]
  },
  {
   "cell_type": "code",
   "execution_count": 23,
   "id": "bd0751b7",
   "metadata": {
    "colab": {
     "base_uri": "https://localhost:8080/"
    },
    "executionInfo": {
     "elapsed": 10,
     "status": "ok",
     "timestamp": 1649131184158,
     "user": {
      "displayName": "김원",
      "userId": "06508057127562568720"
     },
     "user_tz": -540
    },
    "id": "bd0751b7",
    "outputId": "e98142d3-4d67-42ee-b882-d32f3928c5db"
   },
   "outputs": [
    {
     "name": "stdout",
     "output_type": "stream",
     "text": [
      "1:<start>\n",
      "2:<end>\n",
      "3:said\n",
      "4:people\n",
      "5:year\n",
      "6:two\n",
      "7:one\n",
      "8:new\n",
      "9:president\n"
     ]
    }
   ],
   "source": [
    "for i in range(1,10):\n",
    "    print('{}:{}'.format(i,dec_tokenizer.index_word[i]))"
   ]
  },
  {
   "cell_type": "code",
   "execution_count": 24,
   "id": "9f135698",
   "metadata": {
    "executionInfo": {
     "elapsed": 8,
     "status": "ok",
     "timestamp": 1649131184158,
     "user": {
      "displayName": "김원",
      "userId": "06508057127562568720"
     },
     "user_tz": -540
    },
    "id": "9f135698"
   },
   "outputs": [],
   "source": [
    "from sklearn.model_selection import train_test_split\n",
    "import matplotlib.ticker as ticker\n",
    "import matplotlib.pyplot as plt\n",
    "import time\n",
    "import io\n",
    "\n",
    "# 훈련 데이터와 검증 데이터로 분리하기\n",
    "# enc_train, enc_val, dec_train, dec_val = \\\n",
    "# train_test_split(enc_tensor, dec_tensor, test_size=0.1)\n",
    "\n",
    "enc_train = enc_tensor  # 안한다\n",
    "dec_train = dec_tensor"
   ]
  },
  {
   "cell_type": "code",
   "execution_count": 25,
   "id": "bc7f970b",
   "metadata": {
    "colab": {
     "base_uri": "https://localhost:8080/"
    },
    "executionInfo": {
     "elapsed": 9,
     "status": "ok",
     "timestamp": 1649131184159,
     "user": {
      "displayName": "김원",
      "userId": "06508057127562568720"
     },
     "user_tz": -540
    },
    "id": "bc7f970b",
    "outputId": "bfe00e13-cda8-4003-d784-0883673131cb"
   },
   "outputs": [
    {
     "name": "stdout",
     "output_type": "stream",
     "text": [
      "Korean  Vocab Size: 40000\n",
      "English Vocab Size: 40000\n"
     ]
    }
   ],
   "source": [
    "print(\"Korean  Vocab Size:\", vocab_size)\n",
    "print(\"English Vocab Size:\", vocab_size)"
   ]
  },
  {
   "cell_type": "markdown",
   "id": "d20bb50f",
   "metadata": {
    "id": "d20bb50f"
   },
   "source": [
    "****Step 5. 훈련하기****\n",
    "\n",
    "훈련엔 위에서 사용한 코드를 그대로 사용하되, eval_step() 부분이 없음에 유의합니다! 매 스텝 아래의 예문에 대한 번역을 생성하여 본인이 생각하기에 가장 멋지게 번역한 Case를 제출하세요! (Attention Map을 시각화해보는 것도 재밌을 거예요!)\n",
    "\n",
    "❕ 참고: 데이터의 난이도가 높은 편이므로 생각만큼 결과가 잘 안나올 수 있습니다."
   ]
  },
  {
   "cell_type": "code",
   "execution_count": 26,
   "id": "d559106e",
   "metadata": {
    "executionInfo": {
     "elapsed": 649,
     "status": "ok",
     "timestamp": 1649131184800,
     "user": {
      "displayName": "김원",
      "userId": "06508057127562568720"
     },
     "user_tz": -540
    },
    "id": "d559106e"
   },
   "outputs": [],
   "source": [
    "class BahdanauAttention(tf.keras.layers.Layer):\n",
    "    def __init__(self, units):\n",
    "        super(BahdanauAttention, self).__init__()\n",
    "        self.w_dec = tf.keras.layers.Dense(units)\n",
    "        self.w_enc = tf.keras.layers.Dense(units)\n",
    "        self.w_com = tf.keras.layers.Dense(1)\n",
    "    \n",
    "    def call(self, h_enc, h_dec):\n",
    "        # h_enc shape: [batch x length x units]\n",
    "        # h_dec shape: [batch x units]\n",
    "\n",
    "        h_enc = self.w_enc(h_enc)\n",
    "        h_dec = tf.expand_dims(h_dec, 1)\n",
    "        h_dec = self.w_dec(h_dec)\n",
    "\n",
    "        score = self.w_com(tf.nn.tanh(h_dec + h_enc))\n",
    "        \n",
    "        attn = tf.nn.softmax(score, axis=1)\n",
    "\n",
    "        context_vec = attn * h_enc\n",
    "        context_vec = tf.reduce_sum(context_vec, axis=1)\n",
    "\n",
    "        return context_vec, attn"
   ]
  },
  {
   "cell_type": "code",
   "execution_count": 27,
   "id": "23ee5614",
   "metadata": {
    "executionInfo": {
     "elapsed": 6,
     "status": "ok",
     "timestamp": 1649131184801,
     "user": {
      "displayName": "김원",
      "userId": "06508057127562568720"
     },
     "user_tz": -540
    },
    "id": "23ee5614"
   },
   "outputs": [],
   "source": [
    "class Encoder(tf.keras.Model):\n",
    "    def __init__(self, vocab_size, embedding_dim, enc_units):\n",
    "        super(Encoder, self).__init__()\n",
    "        \n",
    "        self.enc_units = enc_units\n",
    "        self.embedding = tf.keras.layers.Embedding(vocab_size, embedding_dim)\n",
    "        self.gru = tf.keras.layers.GRU(enc_units,\n",
    "                                       return_sequences=True)\n",
    "        self.gru1 = tf.keras.layers.GRU(enc_units,\n",
    "                                       return_sequences=True)\n",
    "    def call(self, x):\n",
    "        out = self.embedding(x)\n",
    "        out = self.gru(out)\n",
    "        out = self.gru1(out)\n",
    "        \n",
    "        return out"
   ]
  },
  {
   "cell_type": "code",
   "execution_count": 28,
   "id": "dfb9d990",
   "metadata": {
    "executionInfo": {
     "elapsed": 5,
     "status": "ok",
     "timestamp": 1649131184801,
     "user": {
      "displayName": "김원",
      "userId": "06508057127562568720"
     },
     "user_tz": -540
    },
    "id": "dfb9d990"
   },
   "outputs": [],
   "source": [
    "class Decoder(tf.keras.Model):\n",
    "    def __init__(self, vocab_size, embedding_dim, dec_units):\n",
    "        super(Decoder, self).__init__()\n",
    "        self.dec_units = dec_units\n",
    "        self.embedding = tf.keras.layers.Embedding(vocab_size, embedding_dim)\n",
    "        self.gru = tf.keras.layers.GRU(dec_units,\n",
    "                                       return_sequences=True,\n",
    "                                       return_state=True)\n",
    "        self.gru1 = tf.keras.layers.GRU(dec_units,\n",
    "                                       return_sequences=True,\n",
    "                                       return_state=True)\n",
    "        self.fc = tf.keras.layers.Dense(vocab_size)\n",
    "\n",
    "        self.attention = BahdanauAttention(self.dec_units)\n",
    "\n",
    "    def call(self, x, h_dec, enc_out):\n",
    "        context_vec, attn = self.attention(enc_out, h_dec)\n",
    "\n",
    "        out = self.embedding(x)\n",
    "        out = tf.concat([tf.expand_dims(context_vec, 1), out], axis=-1)\n",
    "        out, h_dec = self.gru(out)\n",
    "        out, h_dec = self.gru1(out)\n",
    "\n",
    "        out = tf.reshape(out, (-1, out.shape[2]))\n",
    "        out = self.fc(out)\n",
    "\n",
    "        return out, h_dec, attn"
   ]
  },
  {
   "cell_type": "code",
   "execution_count": 29,
   "id": "f87e9506",
   "metadata": {
    "colab": {
     "base_uri": "https://localhost:8080/"
    },
    "executionInfo": {
     "elapsed": 9814,
     "status": "ok",
     "timestamp": 1649131194610,
     "user": {
      "displayName": "김원",
      "userId": "06508057127562568720"
     },
     "user_tz": -540
    },
    "id": "f87e9506",
    "outputId": "da374344-7b0f-4e5b-bc42-123d098568d4"
   },
   "outputs": [
    {
     "name": "stdout",
     "output_type": "stream",
     "text": [
      "Encoder Output: (1024, 40, 256)\n",
      "Decoder Output: (1024, 40001)\n",
      "Decoder Hidden State: (1024, 256)\n",
      "Attention: (1024, 40, 1)\n"
     ]
    }
   ],
   "source": [
    "BATCH_SIZE    = 1024\n",
    "units         = 256\n",
    "embedding_dim = 512\n",
    "\n",
    "SRC_VOCAB_SIZE = vocab_size + 1\n",
    "TGT_VOCAB_SIZE = vocab_size + 1\n",
    "\n",
    "\n",
    "encoder = Encoder(SRC_VOCAB_SIZE, embedding_dim, units)\n",
    "decoder = Decoder(TGT_VOCAB_SIZE, embedding_dim, units)\n",
    "\n",
    "# sample input\n",
    "sequence_len = MAX_LENGTH\n",
    "\n",
    "sample_enc = tf.random.uniform((BATCH_SIZE, sequence_len))\n",
    "sample_output = encoder(sample_enc)\n",
    "\n",
    "print ('Encoder Output:', sample_output.shape)\n",
    "\n",
    "sample_state = tf.random.uniform((BATCH_SIZE, units))\n",
    "\n",
    "sample_logits, h_dec, attn = decoder(tf.random.uniform((BATCH_SIZE, 1)),\n",
    "                                     sample_state, sample_output)\n",
    "\n",
    "print ('Decoder Output:', sample_logits.shape)\n",
    "print ('Decoder Hidden State:', h_dec.shape)\n",
    "print ('Attention:', attn.shape)\n",
    "\n"
   ]
  },
  {
   "cell_type": "code",
   "execution_count": 30,
   "id": "c039aac5",
   "metadata": {
    "colab": {
     "base_uri": "https://localhost:8080/"
    },
    "executionInfo": {
     "elapsed": 28,
     "status": "ok",
     "timestamp": 1649131194611,
     "user": {
      "displayName": "김원",
      "userId": "06508057127562568720"
     },
     "user_tz": -540
    },
    "id": "c039aac5",
    "outputId": "360dcf7e-5d7c-4644-825c-c1235e1d0b10"
   },
   "outputs": [
    {
     "name": "stdout",
     "output_type": "stream",
     "text": [
      "Model: \"encoder\"\n",
      "_________________________________________________________________\n",
      " Layer (type)                Output Shape              Param #   \n",
      "=================================================================\n",
      " embedding (Embedding)       multiple                  20480512  \n",
      "                                                                 \n",
      " gru (GRU)                   multiple                  591360    \n",
      "                                                                 \n",
      " gru_1 (GRU)                 multiple                  394752    \n",
      "                                                                 \n",
      "=================================================================\n",
      "Total params: 21,466,624\n",
      "Trainable params: 21,466,624\n",
      "Non-trainable params: 0\n",
      "_________________________________________________________________\n"
     ]
    }
   ],
   "source": [
    "encoder.summary()"
   ]
  },
  {
   "cell_type": "code",
   "execution_count": 31,
   "id": "e5787805",
   "metadata": {
    "colab": {
     "base_uri": "https://localhost:8080/"
    },
    "executionInfo": {
     "elapsed": 22,
     "status": "ok",
     "timestamp": 1649131194611,
     "user": {
      "displayName": "김원",
      "userId": "06508057127562568720"
     },
     "user_tz": -540
    },
    "id": "e5787805",
    "outputId": "1b9b3fe5-9e9b-4288-b67b-e4cd724d3956"
   },
   "outputs": [
    {
     "name": "stdout",
     "output_type": "stream",
     "text": [
      "Model: \"decoder\"\n",
      "_________________________________________________________________\n",
      " Layer (type)                Output Shape              Param #   \n",
      "=================================================================\n",
      " embedding_1 (Embedding)     multiple                  20480512  \n",
      "                                                                 \n",
      " gru_2 (GRU)                 multiple                  787968    \n",
      "                                                                 \n",
      " gru_3 (GRU)                 multiple                  394752    \n",
      "                                                                 \n",
      " dense (Dense)               multiple                  10280257  \n",
      "                                                                 \n",
      " bahdanau_attention (Bahdana  multiple                 131841    \n",
      " uAttention)                                                     \n",
      "                                                                 \n",
      "=================================================================\n",
      "Total params: 32,075,330\n",
      "Trainable params: 32,075,330\n",
      "Non-trainable params: 0\n",
      "_________________________________________________________________\n"
     ]
    }
   ],
   "source": [
    "decoder.summary()"
   ]
  },
  {
   "cell_type": "code",
   "execution_count": 31,
   "id": "5d2983d9",
   "metadata": {
    "executionInfo": {
     "elapsed": 16,
     "status": "ok",
     "timestamp": 1649131194612,
     "user": {
      "displayName": "김원",
      "userId": "06508057127562568720"
     },
     "user_tz": -540
    },
    "id": "5d2983d9"
   },
   "outputs": [],
   "source": []
  },
  {
   "cell_type": "markdown",
   "id": "31d93a36",
   "metadata": {
    "id": "31d93a36"
   },
   "source": [
    "### ****8-4. 훈련하기 (1) Optimizer & Loss****\n",
    "\n",
    "Encoder-Decoder 구조에서 학습 과정을 정의\n",
    "\n",
    "**Optimizer & Loss**"
   ]
  },
  {
   "cell_type": "code",
   "execution_count": 32,
   "id": "740e8cba",
   "metadata": {
    "executionInfo": {
     "elapsed": 16,
     "status": "ok",
     "timestamp": 1649131194612,
     "user": {
      "displayName": "김원",
      "userId": "06508057127562568720"
     },
     "user_tz": -540
    },
    "id": "740e8cba"
   },
   "outputs": [],
   "source": [
    "# optimizer = tf.keras.optimizers.Adam()\n",
    "optimizer = tf.keras.optimizers.Adam(1e-3, beta_1=0.5)\n",
    "loss_object = tf.keras.losses.SparseCategoricalCrossentropy(\n",
    "    from_logits=True, reduction='none')\n",
    "\n",
    "\n",
    "def loss_function(real, pred):\n",
    "    mask = tf.math.logical_not(tf.math.equal(real, 0)) # 0이 아닌부분 마스크??\n",
    "    loss = loss_object(real, pred)\n",
    "    \n",
    "    mask = tf.cast(mask, dtype=loss.dtype)\n",
    "    loss *= mask\n",
    "    \n",
    "    return tf.reduce_mean(loss)"
   ]
  },
  {
   "cell_type": "markdown",
   "id": "ecdc0926",
   "metadata": {
    "id": "ecdc0926"
   },
   "source": [
    "`mask` 는 `<PAD>` 토큰을 찾아내어 그 부분에 대한 Loss를 구하지 않도록 함.\n",
    "\n",
    "### ****8-5. 훈련하기 (2) train_step 구현하기****"
   ]
  },
  {
   "cell_type": "code",
   "execution_count": 33,
   "id": "O3AUQpzlXocs",
   "metadata": {
    "executionInfo": {
     "elapsed": 15,
     "status": "ok",
     "timestamp": 1649131194612,
     "user": {
      "displayName": "김원",
      "userId": "06508057127562568720"
     },
     "user_tz": -540
    },
    "id": "O3AUQpzlXocs"
   },
   "outputs": [],
   "source": [
    "@tf.function\n",
    "def train_step(src, tgt, encoder, decoder, optimizer, dec_tok):\n",
    "    bsz = src.shape[0]\n",
    "    loss = 0\n",
    "\n",
    "    with tf.GradientTape() as tape:\n",
    "        enc_out = encoder(src)\n",
    "        h_dec = enc_out[:, -1]\n",
    "        \n",
    "        dec_src = tf.expand_dims([dec_tok.word_index['<start>']] * bsz, 1)\n",
    "\n",
    "        for t in range(1, tgt.shape[1]):\n",
    "            pred, h_dec, _ = decoder(dec_src, h_dec, enc_out)\n",
    "\n",
    "            loss += loss_function(tgt[:, t], pred)\n",
    "            dec_src = tf.expand_dims(tgt[:, t], 1)\n",
    "        \n",
    "    batch_loss = (loss / int(tgt.shape[1]))\n",
    "\n",
    "    variables = encoder.trainable_variables + decoder.trainable_variables\n",
    "    gradients = tape.gradient(loss, variables)\n",
    "    optimizer.apply_gradients(zip(gradients, variables))\n",
    "    \n",
    "    return batch_loss\n"
   ]
  },
  {
   "cell_type": "code",
   "execution_count": 34,
   "id": "a31abf4f",
   "metadata": {
    "executionInfo": {
     "elapsed": 16,
     "status": "ok",
     "timestamp": 1649131194613,
     "user": {
      "displayName": "김원",
      "userId": "06508057127562568720"
     },
     "user_tz": -540
    },
    "id": "a31abf4f"
   },
   "outputs": [],
   "source": [
    "@tf.function\n",
    "def eval_step(src, tgt, encoder, decoder, dec_tok):\n",
    "    bsz = src.shape[0]\n",
    "    loss = 0\n",
    "\n",
    "    enc_out = encoder(src)\n",
    "\n",
    "    h_dec = enc_out[:, -1]\n",
    "    \n",
    "    dec_src = tf.expand_dims([dec_tok.word_index['<start>']] * bsz, 1)\n",
    "\n",
    "    for t in range(1, tgt.shape[1]):\n",
    "        pred, h_dec, _ = decoder(dec_src, h_dec, enc_out)\n",
    "\n",
    "        loss += loss_function(tgt[:, t], pred)\n",
    "        dec_src = tf.expand_dims(tgt[:, t], 1)\n",
    "        \n",
    "    batch_loss = (loss / int(tgt.shape[1]))\n",
    "    \n",
    "    return batch_loss"
   ]
  },
  {
   "cell_type": "code",
   "execution_count": 35,
   "id": "LeEL_EKoWkxq",
   "metadata": {
    "executionInfo": {
     "elapsed": 17,
     "status": "ok",
     "timestamp": 1649131194614,
     "user": {
      "displayName": "김원",
      "userId": "06508057127562568720"
     },
     "user_tz": -540
    },
    "id": "LeEL_EKoWkxq"
   },
   "outputs": [],
   "source": [
    "import os\n",
    "# checkpoint_dir = './training_checkpoints'\n",
    "checkpoint_dir = Path.joinpath(Path.cwd(),'drive','MyDrive','Colab Notebooks','GD','GD-08','training_checkpoints')\n",
    "checkpoint_prefix = os.path.join(checkpoint_dir, \"ckpt\")\n",
    "checkpoint = tf.train.Checkpoint(optimizer=optimizer,\n",
    "                                 encoder=encoder,\n",
    "                                 decoder=decoder)"
   ]
  },
  {
   "cell_type": "code",
   "execution_count": 36,
   "id": "ek2CLEl6f_Va",
   "metadata": {
    "executionInfo": {
     "elapsed": 16,
     "status": "ok",
     "timestamp": 1649131194614,
     "user": {
      "displayName": "김원",
      "userId": "06508057127562568720"
     },
     "user_tz": -540
    },
    "id": "ek2CLEl6f_Va"
   },
   "outputs": [],
   "source": [
    "## 체크포인트 불러오기\n",
    "# checkpoint.restore(tf.train.latest_checkpoint(checkpoint_dir))"
   ]
  },
  {
   "cell_type": "code",
   "execution_count": 37,
   "id": "93e314c4",
   "metadata": {
    "colab": {
     "base_uri": "https://localhost:8080/"
    },
    "executionInfo": {
     "elapsed": 22528932,
     "status": "ok",
     "timestamp": 1649153723530,
     "user": {
      "displayName": "김원",
      "userId": "06508057127562568720"
     },
     "user_tz": -540
    },
    "id": "93e314c4",
    "outputId": "a2d45557-ff8b-4b91-a9dd-1bc0709677b2"
   },
   "outputs": [
    {
     "name": "stderr",
     "output_type": "stream",
     "text": [
      "Epoch  1: 100%|██████████| 72/72 [05:54<00:00,  4.92s/it, Loss 3.0721]\n",
      "Epoch  2: 100%|██████████| 72/72 [01:13<00:00,  1.03s/it, Loss 2.9700]\n",
      "Epoch  3: 100%|██████████| 72/72 [01:13<00:00,  1.03s/it, Loss 2.9524]\n",
      "Epoch  4: 100%|██████████| 72/72 [01:13<00:00,  1.03s/it, Loss 2.9308]\n",
      "Epoch  5: 100%|██████████| 72/72 [01:13<00:00,  1.03s/it, Loss 2.8908]\n",
      "Epoch  6: 100%|██████████| 72/72 [01:13<00:00,  1.03s/it, Loss 2.8382]\n",
      "Epoch  7: 100%|██████████| 72/72 [01:13<00:00,  1.03s/it, Loss 2.7894]\n",
      "Epoch  8: 100%|██████████| 72/72 [01:13<00:00,  1.03s/it, Loss 2.7445]\n",
      "Epoch  9: 100%|██████████| 72/72 [01:13<00:00,  1.03s/it, Loss 2.7006]\n",
      "Epoch 10: 100%|██████████| 72/72 [01:13<00:00,  1.03s/it, Loss 2.6510]\n",
      "Epoch 11: 100%|██████████| 72/72 [01:13<00:00,  1.02s/it, Loss 2.5958]\n",
      "Epoch 12: 100%|██████████| 72/72 [01:13<00:00,  1.03s/it, Loss 2.5424]\n",
      "Epoch 13: 100%|██████████| 72/72 [01:13<00:00,  1.03s/it, Loss 2.4934]\n",
      "Epoch 14: 100%|██████████| 72/72 [01:13<00:00,  1.03s/it, Loss 2.4453]\n",
      "Epoch 15: 100%|██████████| 72/72 [01:13<00:00,  1.03s/it, Loss 2.4022]\n",
      "Epoch 16: 100%|██████████| 72/72 [01:13<00:00,  1.03s/it, Loss 2.3608]\n",
      "Epoch 17: 100%|██████████| 72/72 [01:13<00:00,  1.03s/it, Loss 2.3203]\n",
      "Epoch 18: 100%|██████████| 72/72 [01:13<00:00,  1.03s/it, Loss 2.2805]\n",
      "Epoch 19: 100%|██████████| 72/72 [01:13<00:00,  1.03s/it, Loss 2.2416]\n",
      "Epoch 20: 100%|██████████| 72/72 [01:13<00:00,  1.03s/it, Loss 2.2015]\n",
      "Epoch 21: 100%|██████████| 72/72 [01:13<00:00,  1.03s/it, Loss 2.1653]\n",
      "Epoch 22: 100%|██████████| 72/72 [01:13<00:00,  1.03s/it, Loss 2.1286]\n",
      "Epoch 23: 100%|██████████| 72/72 [01:13<00:00,  1.03s/it, Loss 2.0902]\n",
      "Epoch 24: 100%|██████████| 72/72 [01:13<00:00,  1.03s/it, Loss 2.0549]\n",
      "Epoch 25: 100%|██████████| 72/72 [01:13<00:00,  1.03s/it, Loss 2.0216]\n",
      "Epoch 26: 100%|██████████| 72/72 [01:13<00:00,  1.03s/it, Loss 1.9897]\n",
      "Epoch 27: 100%|██████████| 72/72 [01:13<00:00,  1.03s/it, Loss 1.9564]\n",
      "Epoch 28: 100%|██████████| 72/72 [01:13<00:00,  1.03s/it, Loss 1.9261]\n",
      "Epoch 29: 100%|██████████| 72/72 [01:13<00:00,  1.03s/it, Loss 1.8938]\n",
      "Epoch 30: 100%|██████████| 72/72 [01:13<00:00,  1.02s/it, Loss 1.8664]\n",
      "Epoch 31: 100%|██████████| 72/72 [01:13<00:00,  1.03s/it, Loss 1.8346]\n",
      "Epoch 32: 100%|██████████| 72/72 [01:13<00:00,  1.02s/it, Loss 1.8057]\n",
      "Epoch 33: 100%|██████████| 72/72 [01:13<00:00,  1.03s/it, Loss 1.7777]\n",
      "Epoch 34: 100%|██████████| 72/72 [01:13<00:00,  1.02s/it, Loss 1.7501]\n",
      "Epoch 35: 100%|██████████| 72/72 [01:13<00:00,  1.03s/it, Loss 1.7226]\n",
      "Epoch 36: 100%|██████████| 72/72 [01:13<00:00,  1.02s/it, Loss 1.6975]\n",
      "Epoch 37: 100%|██████████| 72/72 [01:13<00:00,  1.03s/it, Loss 1.6717]\n",
      "Epoch 38: 100%|██████████| 72/72 [01:13<00:00,  1.03s/it, Loss 1.6458]\n",
      "Epoch 39: 100%|██████████| 72/72 [01:13<00:00,  1.03s/it, Loss 1.6194]\n",
      "Epoch 40: 100%|██████████| 72/72 [01:13<00:00,  1.03s/it, Loss 1.5974]\n",
      "Epoch 41: 100%|██████████| 72/72 [01:13<00:00,  1.03s/it, Loss 1.5740]\n",
      "Epoch 42: 100%|██████████| 72/72 [01:13<00:00,  1.03s/it, Loss 1.5461]\n",
      "Epoch 43: 100%|██████████| 72/72 [01:13<00:00,  1.03s/it, Loss 1.5216]\n",
      "Epoch 44: 100%|██████████| 72/72 [01:13<00:00,  1.03s/it, Loss 1.5026]\n",
      "Epoch 45: 100%|██████████| 72/72 [01:13<00:00,  1.03s/it, Loss 1.4800]\n",
      "Epoch 46: 100%|██████████| 72/72 [01:13<00:00,  1.03s/it, Loss 1.4552]\n",
      "Epoch 47: 100%|██████████| 72/72 [01:13<00:00,  1.03s/it, Loss 1.4349]\n",
      "Epoch 48: 100%|██████████| 72/72 [01:13<00:00,  1.03s/it, Loss 1.4107]\n",
      "Epoch 49: 100%|██████████| 72/72 [01:13<00:00,  1.03s/it, Loss 1.3929]\n",
      "Epoch 50: 100%|██████████| 72/72 [01:13<00:00,  1.03s/it, Loss 1.3753]\n",
      "Epoch 51: 100%|██████████| 72/72 [01:13<00:00,  1.03s/it, Loss 1.3545]\n",
      "Epoch 52: 100%|██████████| 72/72 [01:13<00:00,  1.03s/it, Loss 1.3357]\n",
      "Epoch 53: 100%|██████████| 72/72 [01:13<00:00,  1.03s/it, Loss 1.3138]\n",
      "Epoch 54: 100%|██████████| 72/72 [01:13<00:00,  1.03s/it, Loss 1.2952]\n",
      "Epoch 55: 100%|██████████| 72/72 [01:13<00:00,  1.03s/it, Loss 1.2757]\n",
      "Epoch 56: 100%|██████████| 72/72 [01:13<00:00,  1.03s/it, Loss 1.2555]\n",
      "Epoch 57: 100%|██████████| 72/72 [01:13<00:00,  1.03s/it, Loss 1.2366]\n",
      "Epoch 58: 100%|██████████| 72/72 [01:13<00:00,  1.03s/it, Loss 1.2191]\n",
      "Epoch 59: 100%|██████████| 72/72 [01:13<00:00,  1.03s/it, Loss 1.2020]\n",
      "Epoch 60: 100%|██████████| 72/72 [01:13<00:00,  1.03s/it, Loss 1.1877]\n",
      "Epoch 61: 100%|██████████| 72/72 [01:13<00:00,  1.03s/it, Loss 1.1723]\n",
      "Epoch 62: 100%|██████████| 72/72 [01:13<00:00,  1.03s/it, Loss 1.1575]\n",
      "Epoch 63: 100%|██████████| 72/72 [01:13<00:00,  1.03s/it, Loss 1.1416]\n",
      "Epoch 64: 100%|██████████| 72/72 [01:13<00:00,  1.03s/it, Loss 1.1209]\n",
      "Epoch 65: 100%|██████████| 72/72 [01:13<00:00,  1.03s/it, Loss 1.1060]\n",
      "Epoch 66: 100%|██████████| 72/72 [01:13<00:00,  1.03s/it, Loss 1.0874]\n",
      "Epoch 67: 100%|██████████| 72/72 [01:13<00:00,  1.03s/it, Loss 1.0764]\n",
      "Epoch 68: 100%|██████████| 72/72 [01:13<00:00,  1.03s/it, Loss 1.0593]\n",
      "Epoch 69: 100%|██████████| 72/72 [01:13<00:00,  1.03s/it, Loss 1.0468]\n",
      "Epoch 70: 100%|██████████| 72/72 [01:13<00:00,  1.03s/it, Loss 1.0327]\n",
      "Epoch 71: 100%|██████████| 72/72 [01:13<00:00,  1.03s/it, Loss 1.0220]\n",
      "Epoch 72: 100%|██████████| 72/72 [01:13<00:00,  1.03s/it, Loss 1.0072]\n",
      "Epoch 73: 100%|██████████| 72/72 [01:13<00:00,  1.03s/it, Loss 0.9923]\n",
      "Epoch 74: 100%|██████████| 72/72 [01:13<00:00,  1.03s/it, Loss 0.9770]\n",
      "Epoch 75: 100%|██████████| 72/72 [01:13<00:00,  1.03s/it, Loss 0.9647]\n",
      "Epoch 76: 100%|██████████| 72/72 [01:13<00:00,  1.03s/it, Loss 0.9506]\n",
      "Epoch 77: 100%|██████████| 72/72 [01:13<00:00,  1.03s/it, Loss 0.9330]\n",
      "Epoch 78: 100%|██████████| 72/72 [01:13<00:00,  1.03s/it, Loss 0.9220]\n",
      "Epoch 79: 100%|██████████| 72/72 [01:13<00:00,  1.03s/it, Loss 0.9103]\n",
      "Epoch 80: 100%|██████████| 72/72 [01:13<00:00,  1.03s/it, Loss 0.8998]\n",
      "Epoch 81: 100%|██████████| 72/72 [01:13<00:00,  1.03s/it, Loss 0.8903]\n",
      "Epoch 82: 100%|██████████| 72/72 [01:13<00:00,  1.03s/it, Loss 0.8825]\n",
      "Epoch 83: 100%|██████████| 72/72 [01:13<00:00,  1.03s/it, Loss 0.8724]\n",
      "Epoch 84: 100%|██████████| 72/72 [01:13<00:00,  1.03s/it, Loss 0.8576]\n",
      "Epoch 85: 100%|██████████| 72/72 [01:13<00:00,  1.03s/it, Loss 0.8416]\n",
      "Epoch 86: 100%|██████████| 72/72 [01:13<00:00,  1.03s/it, Loss 0.8338]\n",
      "Epoch 87: 100%|██████████| 72/72 [01:13<00:00,  1.03s/it, Loss 0.8243]\n",
      "Epoch 88: 100%|██████████| 72/72 [01:13<00:00,  1.03s/it, Loss 0.8150]\n",
      "Epoch 89: 100%|██████████| 72/72 [01:13<00:00,  1.03s/it, Loss 0.8000]\n",
      "Epoch 90: 100%|██████████| 72/72 [01:13<00:00,  1.03s/it, Loss 0.7915]\n",
      "Epoch 91: 100%|██████████| 72/72 [01:13<00:00,  1.03s/it, Loss 0.7810]\n",
      "Epoch 92: 100%|██████████| 72/72 [01:13<00:00,  1.03s/it, Loss 0.7765]\n",
      "Epoch 93: 100%|██████████| 72/72 [01:13<00:00,  1.03s/it, Loss 0.7635]\n",
      "Epoch 94: 100%|██████████| 72/72 [01:13<00:00,  1.03s/it, Loss 0.7520]\n",
      "Epoch 95: 100%|██████████| 72/72 [01:13<00:00,  1.03s/it, Loss 0.7438]\n",
      "Epoch 96: 100%|██████████| 72/72 [01:13<00:00,  1.03s/it, Loss 0.7374]\n",
      "Epoch 97: 100%|██████████| 72/72 [01:13<00:00,  1.03s/it, Loss 0.7251]\n",
      "Epoch 98: 100%|██████████| 72/72 [01:13<00:00,  1.03s/it, Loss 0.7145]\n",
      "Epoch 99: 100%|██████████| 72/72 [01:13<00:00,  1.03s/it, Loss 0.7048]\n",
      "Epoch 100: 100%|██████████| 72/72 [01:13<00:00,  1.03s/it, Loss 0.7015]\n",
      "Epoch 101: 100%|██████████| 72/72 [01:13<00:00,  1.03s/it, Loss 0.6909]\n",
      "Epoch 102: 100%|██████████| 72/72 [01:13<00:00,  1.03s/it, Loss 0.6803]\n",
      "Epoch 103: 100%|██████████| 72/72 [01:13<00:00,  1.03s/it, Loss 0.6699]\n",
      "Epoch 104: 100%|██████████| 72/72 [01:13<00:00,  1.03s/it, Loss 0.6624]\n",
      "Epoch 105: 100%|██████████| 72/72 [01:13<00:00,  1.03s/it, Loss 0.6586]\n",
      "Epoch 106: 100%|██████████| 72/72 [01:13<00:00,  1.03s/it, Loss 0.6479]\n",
      "Epoch 107: 100%|██████████| 72/72 [01:13<00:00,  1.03s/it, Loss 0.6383]\n",
      "Epoch 108: 100%|██████████| 72/72 [01:13<00:00,  1.03s/it, Loss 0.6283]\n",
      "Epoch 109: 100%|██████████| 72/72 [01:13<00:00,  1.03s/it, Loss 0.6197]\n",
      "Epoch 110: 100%|██████████| 72/72 [01:13<00:00,  1.03s/it, Loss 0.6185]\n",
      "Epoch 111: 100%|██████████| 72/72 [01:13<00:00,  1.03s/it, Loss 0.6090]\n",
      "Epoch 112: 100%|██████████| 72/72 [01:13<00:00,  1.03s/it, Loss 0.6025]\n",
      "Epoch 113: 100%|██████████| 72/72 [01:13<00:00,  1.03s/it, Loss 0.5971]\n",
      "Epoch 114: 100%|██████████| 72/72 [01:13<00:00,  1.03s/it, Loss 0.5888]\n",
      "Epoch 115: 100%|██████████| 72/72 [01:13<00:00,  1.03s/it, Loss 0.5812]\n",
      "Epoch 116: 100%|██████████| 72/72 [01:13<00:00,  1.03s/it, Loss 0.5753]\n",
      "Epoch 117: 100%|██████████| 72/72 [01:13<00:00,  1.03s/it, Loss 0.5689]\n",
      "Epoch 118: 100%|██████████| 72/72 [01:13<00:00,  1.03s/it, Loss 0.5661]\n",
      "Epoch 119: 100%|██████████| 72/72 [01:13<00:00,  1.03s/it, Loss 0.5547]\n",
      "Epoch 120: 100%|██████████| 72/72 [01:13<00:00,  1.03s/it, Loss 0.5455]\n",
      "Epoch 121: 100%|██████████| 72/72 [01:13<00:00,  1.03s/it, Loss 0.5455]\n",
      "Epoch 122: 100%|██████████| 72/72 [01:13<00:00,  1.03s/it, Loss 0.5447]\n",
      "Epoch 123: 100%|██████████| 72/72 [01:13<00:00,  1.03s/it, Loss 0.5317]\n",
      "Epoch 124: 100%|██████████| 72/72 [01:13<00:00,  1.03s/it, Loss 0.5177]\n",
      "Epoch 125: 100%|██████████| 72/72 [01:13<00:00,  1.03s/it, Loss 0.5158]\n",
      "Epoch 126: 100%|██████████| 72/72 [01:13<00:00,  1.03s/it, Loss 0.5102]\n",
      "Epoch 127: 100%|██████████| 72/72 [01:13<00:00,  1.03s/it, Loss 0.5013]\n",
      "Epoch 128: 100%|██████████| 72/72 [01:13<00:00,  1.03s/it, Loss 0.4971]\n",
      "Epoch 129: 100%|██████████| 72/72 [01:14<00:00,  1.03s/it, Loss 0.4952]\n",
      "Epoch 130: 100%|██████████| 72/72 [01:13<00:00,  1.03s/it, Loss 0.4903]\n",
      "Epoch 131: 100%|██████████| 72/72 [01:13<00:00,  1.03s/it, Loss 0.4866]\n",
      "Epoch 132: 100%|██████████| 72/72 [01:13<00:00,  1.03s/it, Loss 0.4816]\n",
      "Epoch 133: 100%|██████████| 72/72 [01:13<00:00,  1.03s/it, Loss 0.4745]\n",
      "Epoch 134: 100%|██████████| 72/72 [01:13<00:00,  1.03s/it, Loss 0.4726]\n",
      "Epoch 135: 100%|██████████| 72/72 [01:14<00:00,  1.03s/it, Loss 0.4604]\n",
      "Epoch 136: 100%|██████████| 72/72 [01:14<00:00,  1.03s/it, Loss 0.4496]\n",
      "Epoch 137: 100%|██████████| 72/72 [01:14<00:00,  1.03s/it, Loss 0.4432]\n",
      "Epoch 138: 100%|██████████| 72/72 [01:14<00:00,  1.03s/it, Loss 0.4382]\n",
      "Epoch 139: 100%|██████████| 72/72 [01:14<00:00,  1.03s/it, Loss 0.4395]\n",
      "Epoch 140: 100%|██████████| 72/72 [01:14<00:00,  1.03s/it, Loss 0.4346]\n",
      "Epoch 141: 100%|██████████| 72/72 [01:14<00:00,  1.03s/it, Loss 0.4309]\n",
      "Epoch 142: 100%|██████████| 72/72 [01:14<00:00,  1.03s/it, Loss 0.4274]\n",
      "Epoch 143: 100%|██████████| 72/72 [01:14<00:00,  1.03s/it, Loss 0.4233]\n",
      "Epoch 144: 100%|██████████| 72/72 [01:13<00:00,  1.03s/it, Loss 0.4197]\n",
      "Epoch 145: 100%|██████████| 72/72 [01:14<00:00,  1.03s/it, Loss 0.4154]\n",
      "Epoch 146: 100%|██████████| 72/72 [01:14<00:00,  1.03s/it, Loss 0.4123]\n",
      "Epoch 147: 100%|██████████| 72/72 [01:14<00:00,  1.03s/it, Loss 0.4096]\n",
      "Epoch 148: 100%|██████████| 72/72 [01:14<00:00,  1.03s/it, Loss 0.4037]\n",
      "Epoch 149: 100%|██████████| 72/72 [01:14<00:00,  1.03s/it, Loss 0.3932]\n",
      "Epoch 150: 100%|██████████| 72/72 [01:14<00:00,  1.03s/it, Loss 0.3946]\n",
      "Epoch 151: 100%|██████████| 72/72 [01:14<00:00,  1.03s/it, Loss 0.3867]\n",
      "Epoch 152: 100%|██████████| 72/72 [01:14<00:00,  1.03s/it, Loss 0.3793]\n",
      "Epoch 153: 100%|██████████| 72/72 [01:14<00:00,  1.03s/it, Loss 0.3722]\n",
      "Epoch 154: 100%|██████████| 72/72 [01:14<00:00,  1.03s/it, Loss 0.3720]\n",
      "Epoch 155: 100%|██████████| 72/72 [01:14<00:00,  1.03s/it, Loss 0.3668]\n",
      "Epoch 156: 100%|██████████| 72/72 [01:14<00:00,  1.03s/it, Loss 0.3683]\n",
      "Epoch 157: 100%|██████████| 72/72 [01:14<00:00,  1.03s/it, Loss 0.3613]\n",
      "Epoch 158: 100%|██████████| 72/72 [01:14<00:00,  1.03s/it, Loss 0.3543]\n",
      "Epoch 159: 100%|██████████| 72/72 [01:14<00:00,  1.03s/it, Loss 0.3514]\n",
      "Epoch 160: 100%|██████████| 72/72 [01:14<00:00,  1.03s/it, Loss 0.3462]\n",
      "Epoch 161: 100%|██████████| 72/72 [01:14<00:00,  1.03s/it, Loss 0.3479]\n",
      "Epoch 162: 100%|██████████| 72/72 [01:14<00:00,  1.03s/it, Loss 0.3498]\n",
      "Epoch 163: 100%|██████████| 72/72 [01:14<00:00,  1.03s/it, Loss 0.3456]\n",
      "Epoch 164: 100%|██████████| 72/72 [01:14<00:00,  1.03s/it, Loss 0.3387]\n",
      "Epoch 165: 100%|██████████| 72/72 [01:14<00:00,  1.03s/it, Loss 0.3384]\n",
      "Epoch 166: 100%|██████████| 72/72 [01:14<00:00,  1.03s/it, Loss 0.3358]\n",
      "Epoch 167: 100%|██████████| 72/72 [01:14<00:00,  1.03s/it, Loss 0.3354]\n",
      "Epoch 168: 100%|██████████| 72/72 [01:14<00:00,  1.03s/it, Loss 0.3211]\n",
      "Epoch 169: 100%|██████████| 72/72 [01:14<00:00,  1.03s/it, Loss 0.3207]\n",
      "Epoch 170: 100%|██████████| 72/72 [01:14<00:00,  1.03s/it, Loss 0.3144]\n",
      "Epoch 171: 100%|██████████| 72/72 [01:14<00:00,  1.03s/it, Loss 0.3098]\n",
      "Epoch 172: 100%|██████████| 72/72 [01:14<00:00,  1.03s/it, Loss 0.3032]\n",
      "Epoch 173: 100%|██████████| 72/72 [01:14<00:00,  1.03s/it, Loss 0.2948]\n",
      "Epoch 174: 100%|██████████| 72/72 [01:14<00:00,  1.03s/it, Loss 0.3023]\n",
      "Epoch 175: 100%|██████████| 72/72 [01:13<00:00,  1.03s/it, Loss 0.3052]\n",
      "Epoch 176: 100%|██████████| 72/72 [01:14<00:00,  1.03s/it, Loss 0.3044]\n",
      "Epoch 177: 100%|██████████| 72/72 [01:14<00:00,  1.03s/it, Loss 0.3000]\n",
      "Epoch 178: 100%|██████████| 72/72 [01:14<00:00,  1.03s/it, Loss 0.2933]\n",
      "Epoch 179: 100%|██████████| 72/72 [01:14<00:00,  1.03s/it, Loss 0.2965]\n",
      "Epoch 180: 100%|██████████| 72/72 [01:14<00:00,  1.03s/it, Loss 0.2923]\n",
      "Epoch 181: 100%|██████████| 72/72 [01:14<00:00,  1.03s/it, Loss 0.2881]\n",
      "Epoch 182: 100%|██████████| 72/72 [01:14<00:00,  1.03s/it, Loss 0.2889]\n",
      "Epoch 183: 100%|██████████| 72/72 [01:14<00:00,  1.03s/it, Loss 0.2826]\n",
      "Epoch 184: 100%|██████████| 72/72 [01:13<00:00,  1.03s/it, Loss 0.2707]\n",
      "Epoch 185: 100%|██████████| 72/72 [01:14<00:00,  1.03s/it, Loss 0.2665]\n",
      "Epoch 186: 100%|██████████| 72/72 [01:14<00:00,  1.03s/it, Loss 0.2648]\n",
      "Epoch 187: 100%|██████████| 72/72 [01:14<00:00,  1.03s/it, Loss 0.2602]\n",
      "Epoch 188: 100%|██████████| 72/72 [01:14<00:00,  1.03s/it, Loss 0.2529]\n",
      "Epoch 189: 100%|██████████| 72/72 [01:14<00:00,  1.03s/it, Loss 0.2481]\n",
      "Epoch 190: 100%|██████████| 72/72 [01:14<00:00,  1.03s/it, Loss 0.2491]\n",
      "Epoch 191: 100%|██████████| 72/72 [01:14<00:00,  1.03s/it, Loss 0.2523]\n",
      "Epoch 192: 100%|██████████| 72/72 [01:14<00:00,  1.03s/it, Loss 0.2597]\n",
      "Epoch 193: 100%|██████████| 72/72 [01:14<00:00,  1.03s/it, Loss 0.2616]\n",
      "Epoch 194: 100%|██████████| 72/72 [01:14<00:00,  1.03s/it, Loss 0.2661]\n",
      "Epoch 195: 100%|██████████| 72/72 [01:14<00:00,  1.03s/it, Loss 0.2711]\n",
      "Epoch 196: 100%|██████████| 72/72 [01:14<00:00,  1.03s/it, Loss 0.2705]\n",
      "Epoch 197: 100%|██████████| 72/72 [01:14<00:00,  1.03s/it, Loss 0.2608]\n",
      "Epoch 198: 100%|██████████| 72/72 [01:14<00:00,  1.03s/it, Loss 0.2476]\n",
      "Epoch 199: 100%|██████████| 72/72 [01:14<00:00,  1.03s/it, Loss 0.2368]\n",
      "Epoch 200: 100%|██████████| 72/72 [01:14<00:00,  1.03s/it, Loss 0.2264]\n",
      "Epoch 201: 100%|██████████| 72/72 [01:14<00:00,  1.03s/it, Loss 0.2150]\n",
      "Epoch 202: 100%|██████████| 72/72 [01:14<00:00,  1.03s/it, Loss 0.2114]\n",
      "Epoch 203: 100%|██████████| 72/72 [01:14<00:00,  1.03s/it, Loss 0.2055]\n",
      "Epoch 204: 100%|██████████| 72/72 [01:14<00:00,  1.03s/it, Loss 0.2044]\n",
      "Epoch 205: 100%|██████████| 72/72 [01:14<00:00,  1.03s/it, Loss 0.2078]\n",
      "Epoch 206: 100%|██████████| 72/72 [01:14<00:00,  1.03s/it, Loss 0.2210]\n",
      "Epoch 207: 100%|██████████| 72/72 [01:14<00:00,  1.03s/it, Loss 0.2342]\n",
      "Epoch 208: 100%|██████████| 72/72 [01:14<00:00,  1.03s/it, Loss 0.2393]\n",
      "Epoch 209: 100%|██████████| 72/72 [01:14<00:00,  1.03s/it, Loss 0.2401]\n",
      "Epoch 210: 100%|██████████| 72/72 [01:14<00:00,  1.03s/it, Loss 0.2367]\n",
      "Epoch 211: 100%|██████████| 72/72 [01:14<00:00,  1.03s/it, Loss 0.2307]\n",
      "Epoch 212: 100%|██████████| 72/72 [01:14<00:00,  1.03s/it, Loss 0.2221]\n",
      "Epoch 213: 100%|██████████| 72/72 [01:14<00:00,  1.03s/it, Loss 0.2182]\n",
      "Epoch 214: 100%|██████████| 72/72 [01:14<00:00,  1.03s/it, Loss 0.2102]\n",
      "Epoch 215: 100%|██████████| 72/72 [01:14<00:00,  1.03s/it, Loss 0.1980]\n",
      "Epoch 216: 100%|██████████| 72/72 [01:14<00:00,  1.03s/it, Loss 0.1891]\n",
      "Epoch 217: 100%|██████████| 72/72 [01:14<00:00,  1.03s/it, Loss 0.1856]\n",
      "Epoch 218: 100%|██████████| 72/72 [01:14<00:00,  1.03s/it, Loss 0.1809]\n",
      "Epoch 219: 100%|██████████| 72/72 [01:14<00:00,  1.03s/it, Loss 0.1787]\n",
      "Epoch 220: 100%|██████████| 72/72 [01:14<00:00,  1.03s/it, Loss 0.1766]\n",
      "Epoch 221: 100%|██████████| 72/72 [01:14<00:00,  1.03s/it, Loss 0.1814]\n",
      "Epoch 222: 100%|██████████| 72/72 [01:14<00:00,  1.03s/it, Loss 0.1814]\n",
      "Epoch 223: 100%|██████████| 72/72 [01:14<00:00,  1.03s/it, Loss 0.1873]\n",
      "Epoch 224: 100%|██████████| 72/72 [01:14<00:00,  1.03s/it, Loss 0.1926]\n",
      "Epoch 225: 100%|██████████| 72/72 [01:14<00:00,  1.03s/it, Loss 0.2052]\n",
      "Epoch 226: 100%|██████████| 72/72 [01:14<00:00,  1.03s/it, Loss 0.2474]\n",
      "Epoch 227: 100%|██████████| 72/72 [01:14<00:00,  1.03s/it, Loss 0.2449]\n",
      "Epoch 228: 100%|██████████| 72/72 [01:14<00:00,  1.03s/it, Loss 0.2339]\n",
      "Epoch 229: 100%|██████████| 72/72 [01:14<00:00,  1.03s/it, Loss 0.2150]\n",
      "Epoch 230: 100%|██████████| 72/72 [01:14<00:00,  1.03s/it, Loss 0.1949]\n",
      "Epoch 231: 100%|██████████| 72/72 [01:14<00:00,  1.03s/it, Loss 0.1789]\n",
      "Epoch 232: 100%|██████████| 72/72 [01:14<00:00,  1.03s/it, Loss 0.1620]\n",
      "Epoch 233: 100%|██████████| 72/72 [01:14<00:00,  1.03s/it, Loss 0.1474]\n",
      "Epoch 234: 100%|██████████| 72/72 [01:14<00:00,  1.03s/it, Loss 0.1340]\n",
      "Epoch 235: 100%|██████████| 72/72 [01:14<00:00,  1.03s/it, Loss 0.1247]\n",
      "Epoch 236: 100%|██████████| 72/72 [01:14<00:00,  1.03s/it, Loss 0.1172]\n",
      "Epoch 237: 100%|██████████| 72/72 [01:14<00:00,  1.03s/it, Loss 0.1131]\n",
      "Epoch 238: 100%|██████████| 72/72 [01:14<00:00,  1.03s/it, Loss 0.1141]\n",
      "Epoch 239: 100%|██████████| 72/72 [01:14<00:00,  1.03s/it, Loss 0.1242]\n",
      "Epoch 240: 100%|██████████| 72/72 [01:14<00:00,  1.03s/it, Loss 0.1427]\n",
      "Epoch 241: 100%|██████████| 72/72 [01:14<00:00,  1.03s/it, Loss 0.1882]\n",
      "Epoch 242: 100%|██████████| 72/72 [01:14<00:00,  1.03s/it, Loss 0.2610]\n",
      "Epoch 243: 100%|██████████| 72/72 [01:14<00:00,  1.03s/it, Loss 0.3048]\n",
      "Epoch 244: 100%|██████████| 72/72 [01:14<00:00,  1.03s/it, Loss 0.3111]\n",
      "Epoch 245: 100%|██████████| 72/72 [01:14<00:00,  1.03s/it, Loss 0.2852]\n",
      "Epoch 246: 100%|██████████| 72/72 [01:14<00:00,  1.03s/it, Loss 0.2358]\n",
      "Epoch 247: 100%|██████████| 72/72 [01:14<00:00,  1.03s/it, Loss 0.1964]\n",
      "Epoch 248: 100%|██████████| 72/72 [01:14<00:00,  1.03s/it, Loss 0.1602]\n",
      "Epoch 249: 100%|██████████| 72/72 [01:14<00:00,  1.03s/it, Loss 0.1329]\n",
      "Epoch 250: 100%|██████████| 72/72 [01:14<00:00,  1.03s/it, Loss 0.1145]\n",
      "Epoch 251: 100%|██████████| 72/72 [01:14<00:00,  1.03s/it, Loss 0.1009]\n",
      "Epoch 252: 100%|██████████| 72/72 [01:14<00:00,  1.03s/it, Loss 0.0923]\n",
      "Epoch 253: 100%|██████████| 72/72 [01:14<00:00,  1.03s/it, Loss 0.0868]\n",
      "Epoch 254: 100%|██████████| 72/72 [01:14<00:00,  1.03s/it, Loss 0.0836]\n",
      "Epoch 255: 100%|██████████| 72/72 [01:14<00:00,  1.03s/it, Loss 0.0804]\n",
      "Epoch 256: 100%|██████████| 72/72 [01:14<00:00,  1.03s/it, Loss 0.0803]\n",
      "Epoch 257: 100%|██████████| 72/72 [01:14<00:00,  1.03s/it, Loss 0.0818]\n",
      "Epoch 258: 100%|██████████| 72/72 [01:14<00:00,  1.03s/it, Loss 0.0862]\n",
      "Epoch 259: 100%|██████████| 72/72 [01:14<00:00,  1.03s/it, Loss 0.0958]\n",
      "Epoch 260: 100%|██████████| 72/72 [01:14<00:00,  1.03s/it, Loss 0.1486]\n",
      "Epoch 261: 100%|██████████| 72/72 [01:14<00:00,  1.03s/it, Loss 0.2948]\n",
      "Epoch 262: 100%|██████████| 72/72 [01:14<00:00,  1.03s/it, Loss 0.4054]\n",
      "Epoch 263: 100%|██████████| 72/72 [01:14<00:00,  1.03s/it, Loss 0.3831]\n",
      "Epoch 264: 100%|██████████| 72/72 [01:14<00:00,  1.03s/it, Loss 0.3090]\n",
      "Epoch 265: 100%|██████████| 72/72 [01:14<00:00,  1.03s/it, Loss 0.2349]\n",
      "Epoch 266: 100%|██████████| 72/72 [01:14<00:00,  1.03s/it, Loss 0.1764]\n",
      "Epoch 267: 100%|██████████| 72/72 [01:14<00:00,  1.03s/it, Loss 0.1402]\n",
      "Epoch 268: 100%|██████████| 72/72 [01:14<00:00,  1.03s/it, Loss 0.1127]\n",
      "Epoch 269: 100%|██████████| 72/72 [01:14<00:00,  1.03s/it, Loss 0.0951]\n",
      "Epoch 270: 100%|██████████| 72/72 [01:14<00:00,  1.03s/it, Loss 0.0820]\n",
      "Epoch 271: 100%|██████████| 72/72 [01:14<00:00,  1.03s/it, Loss 0.0737]\n",
      "Epoch 272: 100%|██████████| 72/72 [01:14<00:00,  1.03s/it, Loss 0.0679]\n",
      "Epoch 273: 100%|██████████| 72/72 [01:14<00:00,  1.03s/it, Loss 0.0638]\n",
      "Epoch 274: 100%|██████████| 72/72 [01:14<00:00,  1.03s/it, Loss 0.0611]\n",
      "Epoch 275: 100%|██████████| 72/72 [01:14<00:00,  1.03s/it, Loss 0.0596]\n",
      "Epoch 276: 100%|██████████| 72/72 [01:14<00:00,  1.03s/it, Loss 0.0588]\n",
      "Epoch 277: 100%|██████████| 72/72 [01:14<00:00,  1.03s/it, Loss 0.0587]\n",
      "Epoch 278: 100%|██████████| 72/72 [01:14<00:00,  1.03s/it, Loss 0.1159]\n",
      "Epoch 279: 100%|██████████| 72/72 [01:14<00:00,  1.03s/it, Loss 0.1767]\n",
      "Epoch 280: 100%|██████████| 72/72 [01:14<00:00,  1.03s/it, Loss 0.2922]\n",
      "Epoch 281: 100%|██████████| 72/72 [01:14<00:00,  1.03s/it, Loss 0.3504]\n",
      "Epoch 282: 100%|██████████| 72/72 [01:14<00:00,  1.03s/it, Loss 0.3095]\n",
      "Epoch 283: 100%|██████████| 72/72 [01:14<00:00,  1.03s/it, Loss 0.2381]\n",
      "Epoch 284: 100%|██████████| 72/72 [01:14<00:00,  1.03s/it, Loss 0.1752]\n",
      "Epoch 285: 100%|██████████| 72/72 [01:14<00:00,  1.03s/it, Loss 0.1305]\n",
      "Epoch 286: 100%|██████████| 72/72 [01:14<00:00,  1.03s/it, Loss 0.1022]\n",
      "Epoch 287: 100%|██████████| 72/72 [01:14<00:00,  1.03s/it, Loss 0.0846]\n",
      "Epoch 288: 100%|██████████| 72/72 [01:14<00:00,  1.03s/it, Loss 0.0725]\n",
      "Epoch 289: 100%|██████████| 72/72 [01:14<00:00,  1.03s/it, Loss 0.0638]\n",
      "Epoch 290: 100%|██████████| 72/72 [01:14<00:00,  1.03s/it, Loss 0.0593]\n",
      "Epoch 291: 100%|██████████| 72/72 [01:14<00:00,  1.03s/it, Loss 0.0550]\n",
      "Epoch 292: 100%|██████████| 72/72 [01:14<00:00,  1.03s/it, Loss 0.0515]\n",
      "Epoch 293: 100%|██████████| 72/72 [01:14<00:00,  1.03s/it, Loss 0.0488]\n",
      "Epoch 294: 100%|██████████| 72/72 [01:14<00:00,  1.03s/it, Loss 0.0467]\n",
      "Epoch 295: 100%|██████████| 72/72 [01:14<00:00,  1.03s/it, Loss 0.0454]\n",
      "Epoch 296: 100%|██████████| 72/72 [01:14<00:00,  1.03s/it, Loss 0.0449]\n",
      "Epoch 297: 100%|██████████| 72/72 [01:14<00:00,  1.03s/it, Loss 0.0455]\n",
      "Epoch 298: 100%|██████████| 72/72 [01:14<00:00,  1.03s/it, Loss 0.0482]\n",
      "Epoch 299: 100%|██████████| 72/72 [01:14<00:00,  1.03s/it, Loss 0.0584]\n",
      "Epoch 300: 100%|██████████| 72/72 [01:14<00:00,  1.03s/it, Loss 0.1628]\n"
     ]
    }
   ],
   "source": [
    "# Training Process\n",
    "import random\n",
    "from tqdm import tqdm\n",
    "\n",
    "EPOCHS = 300\n",
    "\n",
    "for epoch in range(EPOCHS):\n",
    "    total_loss = 0\n",
    "    \n",
    "    idx_list = list(range(0, enc_train.shape[0], BATCH_SIZE))\n",
    "    random.shuffle(idx_list)\n",
    "    t = tqdm(idx_list)\n",
    "\n",
    "    for (batch, idx) in enumerate(t):\n",
    "        batch_loss = train_step(enc_train[idx:idx+BATCH_SIZE],\n",
    "                                dec_train[idx:idx+BATCH_SIZE],\n",
    "                                encoder,\n",
    "                                decoder,\n",
    "                                optimizer,\n",
    "                                dec_tokenizer)\n",
    "    \n",
    "        total_loss += batch_loss\n",
    "        \n",
    "        t.set_description_str('Epoch %2d' % (epoch + 1))\n",
    "        t.set_postfix_str('Loss %.4f' % (total_loss.numpy() / (batch + 1)))\n",
    "        \n",
    "  # saving (checkpoint) the model every 20 epochs\n",
    "    if (epoch + 1) % 20 == 0:\n",
    "        checkpoint.save(file_prefix = checkpoint_prefix)        \n",
    "    \n",
    "#     test_loss = 0\n",
    "    \n",
    "#     idx_list = list(range(0, enc_val.shape[0], BATCH_SIZE))\n",
    "#     random.shuffle(idx_list)\n",
    "#     t = tqdm(idx_list)\n",
    "\n",
    "#     for (test_batch, idx) in enumerate(t):\n",
    "#         test_batch_loss = eval_step(enc_val[idx:idx+BATCH_SIZE],\n",
    "#                                     dec_val[idx:idx+BATCH_SIZE],\n",
    "#                                     encoder,\n",
    "#                                     decoder,\n",
    "#                                     dec_tokenizer)\n",
    "    \n",
    "#         test_loss += test_batch_loss\n",
    "\n",
    "#         t.set_description_str('Test Epoch %2d' % (epoch + 1))\n",
    "#         t.set_postfix_str('Test Loss %.4f' % (test_loss.numpy() / (test_batch + 1)))"
   ]
  },
  {
   "cell_type": "code",
   "execution_count": 38,
   "id": "0b3c5302",
   "metadata": {
    "executionInfo": {
     "elapsed": 34,
     "status": "ok",
     "timestamp": 1649153723532,
     "user": {
      "displayName": "김원",
      "userId": "06508057127562568720"
     },
     "user_tz": -540
    },
    "id": "0b3c5302"
   },
   "outputs": [],
   "source": [
    "def evaluate(sentence, encoder, decoder):\n",
    "    attention = np.zeros((dec_train.shape[-1], enc_train.shape[-1]))\n",
    "    \n",
    "    \n",
    "    sentence = preprocess_sentence(sentence, remove_stopwords=False)\n",
    "    sentence = ' '.join(okt.morphs(sentence))\n",
    "    \n",
    "    inputs = enc_tokenizer.texts_to_sequences([sentence.split()])\n",
    "    \n",
    "    inputs = tf.keras.preprocessing.sequence.pad_sequences(inputs,\n",
    "                                                    maxlen=enc_train.shape[-1],\n",
    "                                                    padding='post')\n",
    "    \n",
    "    sentence = enc_tokenizer.sequences_to_texts(inputs) # 번역기에 실제 들어가는 문장\n",
    "    sentence = sentence[0]\n",
    "    \n",
    "    result = ''\n",
    "\n",
    "    enc_out = encoder(inputs)\n",
    "\n",
    "    dec_hidden = enc_out[:, -1]\n",
    "    dec_input = tf.expand_dims([dec_tokenizer.word_index['<start>']], 0)\n",
    "\n",
    "    for t in range(dec_train.shape[-1]):\n",
    "        predictions, dec_hidden, attention_weights = decoder(dec_input,\n",
    "                                                             dec_hidden,\n",
    "                                                             enc_out)\n",
    "\n",
    "        attention_weights = tf.reshape(attention_weights, (-1, ))\n",
    "        attention[t] = attention_weights.numpy()\n",
    "\n",
    "        predicted_id = \\\n",
    "        tf.argmax(tf.math.softmax(predictions, axis=-1)[0]).numpy()\n",
    "\n",
    "        result += dec_tokenizer.index_word[predicted_id] + ' '\n",
    "\n",
    "        if dec_tokenizer.index_word[predicted_id] == '<end>':\n",
    "            return result, sentence, attention\n",
    "\n",
    "        dec_input = tf.expand_dims([predicted_id], 0)\n",
    "\n",
    "    return result, sentence, attention\n",
    "\n",
    "\n",
    "def plot_attention(attention, sentence, predicted_sentence):\n",
    "    fig = plt.figure(figsize=(10,10))\n",
    "    ax = fig.add_subplot(1, 1, 1)\n",
    "    ax.matshow(attention, cmap='viridis')\n",
    "\n",
    "    fontdict = {'fontsize': 14}\n",
    "\n",
    "    ax.set_xticklabels([''] + sentence, fontdict=fontdict,fontproperties=fp, rotation=90)\n",
    "    ax.set_yticklabels([''] + predicted_sentence, fontdict=fontdict,fontproperties=fp)\n",
    "\n",
    "    ax.xaxis.set_major_locator(ticker.MultipleLocator(1))\n",
    "    ax.yaxis.set_major_locator(ticker.MultipleLocator(1))\n",
    "\n",
    "    plt.show()\n",
    "\n",
    "\n",
    "def translate(sentence, encoder, decoder):\n",
    "    result, sentence, attention = evaluate(sentence, encoder, decoder)\n",
    "\n",
    "    print('Input: %s' % (sentence))\n",
    "    print('Predicted translation: {}'.format(result))\n",
    "    \n",
    "    attention = attention[:len(result.split()), :len(sentence.split())]\n",
    "    plot_attention(attention, sentence.split(), result.split(' '))\n",
    "\n"
   ]
  },
  {
   "cell_type": "code",
   "execution_count": 39,
   "id": "d718e961",
   "metadata": {
    "colab": {
     "base_uri": "https://localhost:8080/",
     "height": 659
    },
    "executionInfo": {
     "elapsed": 8068,
     "status": "ok",
     "timestamp": 1649153731572,
     "user": {
      "displayName": "김원",
      "userId": "06508057127562568720"
     },
     "user_tz": -540
    },
    "id": "d718e961",
    "outputId": "7721ae0e-ea87-4e68-c934-5e6ea9c189a3",
    "scrolled": false
   },
   "outputs": [
    {
     "name": "stdout",
     "output_type": "stream",
     "text": [
      "Input: 오바마 대통령 이다\n",
      "Predicted translation: president elect going <end> \n"
     ]
    },
    {
     "data": {
      "image/png": "[encoded data removed]",
      "text/plain": [
       "<Figure size 720x720 with 1 Axes>"
      ]
     },
     "metadata": {
      "image/png": {
       "height": 606,
       "width": 489
      },
      "needs_background": "light"
     },
     "output_type": "display_data"
    }
   ],
   "source": [
    "translate('오바마는 대통령이다.', encoder, decoder)"
   ]
  },
  {
   "cell_type": "code",
   "execution_count": 40,
   "id": "0c189acb",
   "metadata": {
    "colab": {
     "base_uri": "https://localhost:8080/",
     "height": 646
    },
    "executionInfo": {
     "elapsed": 619,
     "status": "ok",
     "timestamp": 1649153732182,
     "user": {
      "displayName": "김원",
      "userId": "06508057127562568720"
     },
     "user_tz": -540
    },
    "id": "0c189acb",
    "outputId": "ddf65696-52a5-45e3-e512-8a90bfd69593"
   },
   "outputs": [
    {
     "name": "stdout",
     "output_type": "stream",
     "text": [
      "Input: 시민 도시\n",
      "Predicted translation: total control square places <end> \n"
     ]
    },
    {
     "data": {
      "image/png": "[encoded data removed]",
      "text/plain": [
       "<Figure size 720x720 with 1 Axes>"
      ]
     },
     "metadata": {
      "image/png": {
       "height": 593,
       "width": 283
      },
      "needs_background": "light"
     },
     "output_type": "display_data"
    }
   ],
   "source": [
    "translate('시민들은 도시 속에 산다.', encoder, decoder)"
   ]
  },
  {
   "cell_type": "code",
   "execution_count": 41,
   "id": "7c0b86ca",
   "metadata": {
    "colab": {
     "base_uri": "https://localhost:8080/",
     "height": 646
    },
    "executionInfo": {
     "elapsed": 3708,
     "status": "ok",
     "timestamp": 1649153735884,
     "user": {
      "displayName": "김원",
      "userId": "06508057127562568720"
     },
     "user_tz": -540
    },
    "id": "7c0b86ca",
    "outputId": "12a61a20-c872-455a-9a20-fec9cb975487"
   },
   "outputs": [
    {
     "name": "stdout",
     "output_type": "stream",
     "text": [
      "Input: 커피 필요 없다\n",
      "Predicted translation: important experts saying <end> \n"
     ]
    },
    {
     "data": {
      "image/png": "[encoded data removed]",
      "text/plain": [
       "<Figure size 720x720 with 1 Axes>"
      ]
     },
     "metadata": {
      "image/png": {
       "height": 593,
       "width": 492
      },
      "needs_background": "light"
     },
     "output_type": "display_data"
    }
   ],
   "source": [
    "translate('커피는 필요 없다.', encoder, decoder)"
   ]
  },
  {
   "cell_type": "code",
   "execution_count": 42,
   "id": "143feddf",
   "metadata": {
    "colab": {
     "base_uri": "https://localhost:8080/",
     "height": 562
    },
    "executionInfo": {
     "elapsed": 672,
     "status": "ok",
     "timestamp": 1649153736545,
     "user": {
      "displayName": "김원",
      "userId": "06508057127562568720"
     },
     "user_tz": -540
    },
    "id": "143feddf",
    "outputId": "eb3f2ad3-2324-40fc-813e-51263347cf33"
   },
   "outputs": [
    {
     "name": "stdout",
     "output_type": "stream",
     "text": [
      "Input: 일곱 명의 사망자 발생 했다\n",
      "Predicted translation: since injuries killed <end> \n"
     ]
    },
    {
     "data": {
      "image/png": "[encoded data removed]",
      "text/plain": [
       "<Figure size 720x720 with 1 Axes>"
      ]
     },
     "metadata": {
      "image/png": {
       "height": 508,
       "width": 626
      },
      "needs_background": "light"
     },
     "output_type": "display_data"
    }
   ],
   "source": [
    "translate('일곱 명의 사망자가 발생했다.', encoder, decoder)"
   ]
  },
  {
   "cell_type": "code",
   "execution_count": 43,
   "id": "df075d3b",
   "metadata": {
    "colab": {
     "base_uri": "https://localhost:8080/"
    },
    "executionInfo": {
     "elapsed": 39,
     "status": "ok",
     "timestamp": 1649153736547,
     "user": {
      "displayName": "김원",
      "userId": "06508057127562568720"
     },
     "user_tz": -540
    },
    "id": "df075d3b",
    "outputId": "216c2c06-6b25-473a-8023-4cf0ba7b29f4"
   },
   "outputs": [
    {
     "name": "stdout",
     "output_type": "stream",
     "text": [
      "['시민들은', '도시', '속에', '산다']\n",
      "['시민', '들', '은', '도시', '속', '에', '산다']\n",
      "시민 들 은 도시 속 에 산다\n",
      "[[521, 232]]\n",
      "[[521 232   0   0   0   0   0   0   0   0   0   0   0   0   0   0   0   0\n",
      "    0   0   0   0   0   0   0   0   0   0   0   0   0   0   0   0   0   0\n",
      "    0   0   0   0]]\n",
      "시민 도시\n"
     ]
    }
   ],
   "source": [
    "sentence = '시민들은 도시 속에 산다.'\n",
    "\n",
    "sentence = preprocess_sentence(sentence, remove_stopwords=False)\n",
    "print(sentence.split())\n",
    "sentence = ' '.join(okt.morphs(sentence))\n",
    "print(sentence.split())\n",
    "print(sentence)\n",
    "inputs = enc_tokenizer.texts_to_sequences([sentence.split()])\n",
    "print(inputs)\n",
    "inputs = tf.keras.preprocessing.sequence.pad_sequences(inputs,\n",
    "                                                       maxlen=enc_train.shape[-1],\n",
    "                                                       padding='post')\n",
    "print(inputs)\n",
    "input_test = enc_tokenizer.sequences_to_texts(inputs)\n",
    "print(*input_test)"
   ]
  },
  {
   "cell_type": "code",
   "execution_count": 46,
   "id": "fKrtLo4kO9ar",
   "metadata": {
    "colab": {
     "base_uri": "https://localhost:8080/",
     "height": 635
    },
    "executionInfo": {
     "elapsed": 1410,
     "status": "ok",
     "timestamp": 1649154069715,
     "user": {
      "displayName": "김원",
      "userId": "06508057127562568720"
     },
     "user_tz": -540
    },
    "id": "fKrtLo4kO9ar",
    "outputId": "8c5a9ce8-3840-4bc5-f1e1-28639c90cf4d",
    "scrolled": false
   },
   "outputs": [
    {
     "name": "stdout",
     "output_type": "stream",
     "text": [
      "Input: 교수 뉴욕 출신 이며 캠브리지 대학 에서 생리학 으로 박사학위 받았다\n",
      "Predicted translation: tsien born new york received ph physiology cambridge university <end> \n"
     ]
    },
    {
     "data": {
      "image/png": "[encoded data removed]",
      "text/plain": [
       "<Figure size 720x720 with 1 Axes>"
      ]
     },
     "metadata": {
      "image/png": {
       "height": 582,
       "width": 648
      },
      "needs_background": "light"
     },
     "output_type": "display_data"
    }
   ],
   "source": [
    "translate('교수는 뉴욕 출신이며 캠브리지 대학에서 생리학으로 박사학위를 받았다', encoder, decoder)"
   ]
  },
  {
   "cell_type": "markdown",
   "id": "c515a356",
   "metadata": {},
   "source": [
    "## 후기 :  \n",
    "  \n",
    "#### BATCH_SIZE      = 1024\n",
    "#### units                    = 256\n",
    "#### embedding_dim = 512\n",
    "#### GRU를 인코더 디코더에 각각 2 layer 사용했고 drop은 사용하지 않았다.\n",
    "  \n",
    "#### MIN_LENGTH = 3 짧은 문장 중에 번역문과 일치하지 않는 내용이 있어 커트\n",
    "#### MAX_LENGTH = 40 # 최대 길이 40 이하인 경우에만 데이터셋으로 허용\n",
    "#### vocab_size = 40000 으로 계산했다."
   ]
  },
  {
   "cell_type": "code",
   "execution_count": null,
   "id": "93d3b703",
   "metadata": {},
   "outputs": [],
   "source": []
  },
  {
   "cell_type": "markdown",
   "id": "9c7d504e",
   "metadata": {},
   "source": [
    "#### 토큰화 과정에서\n",
    "#### 영어는 tf.keras.preprocessing.text.Tokenizer\n",
    "#### 한글은 Okt를 사용했다.\n",
    "#### 한글에 Sentencepiece를 사용해 보았는데 한편으로는 규칙이 있게 분리되면서 한편으로는 무작위로 분리가 되었다.\n",
    "#### 데이터가 많으면 좀더 나은 성능을 보일 것이라고 기대한다. "
   ]
  },
  {
   "cell_type": "code",
   "execution_count": null,
   "id": "91f5cbfa",
   "metadata": {},
   "outputs": [],
   "source": []
  },
  {
   "cell_type": "markdown",
   "id": "71194460",
   "metadata": {},
   "source": [
    "#### 예시문이 어떤 문장으로 변환되어 입력이 되는지 확인해 봤다.\n",
    "#### 예문을 Okt를 사용해서 토큰화 시킨후 다시 문장으로 돌리면 이렇게 된다.\n",
    "#### 오바마는 대통령이다. -> 오바마 대통령 이다 \n",
    "#### 시민들은 도시 속에 산다. -> 시민 도시\n",
    "#### 커피는 필요 없다. -> 커피 필요 없다\n",
    "#### 일곱 명의 사망자가 발생했다. -> 일곱 명의 사망자 발생 했다\n",
    "#### 번역결과는 위에 있다."
   ]
  },
  {
   "cell_type": "code",
   "execution_count": null,
   "id": "7bdbb773",
   "metadata": {},
   "outputs": [],
   "source": []
  },
  {
   "cell_type": "markdown",
   "id": "c898cbe6",
   "metadata": {},
   "source": [
    "#### 혹시나 해서 데이터에 있는 문장 하나를 꺼내 번역을 해보았다.\n",
    "\n",
    "#### '교수는 뉴욕 출신이며 캠브리지 대학에서 생리학으로 박사학위를 받았다.'\n",
    "#### tsien born new york received ph physiology cambridge university\n",
    "#### 뉴욕 : new york  출신 : born 캠브리지 대학 : cambridge university \n",
    "#### 생리학 박사학위 : ph physiology 받았다 : received 교수 : tsien(???)\n",
    "#### 보면  갖추어야할 단어는 대부분 갖추었는데 무언가 어색하다.\n",
    "#### 아니 필요없다고 빼버린 불용어를 집어넣으면 이렇게 될 것 같다.\n",
    "#### tsien (The professor) (was) born (in) New York (City) (and) received (a) Ph(.D.) (in) physiology (from) Cambridge University.\n",
    "#### 이렇게 보니 불용어가 불용어가 아닌 것이다.\n",
    "#### 그런데 불용어를 제거하지 않고 돌리면 수많은 the the the the the를 만나게 될 것이다. 모든 단어는 the로 치환된다."
   ]
  },
  {
   "cell_type": "code",
   "execution_count": null,
   "id": "606be000",
   "metadata": {},
   "outputs": [],
   "source": []
  },
  {
   "cell_type": "markdown",
   "id": "d38407c9",
   "metadata": {},
   "source": [
    "####  대책없이 GRU layer을 3 이상으로 올리면 loss가 줄어들지 않았다."
   ]
  },
  {
   "cell_type": "code",
   "execution_count": null,
   "id": "d0e10f63",
   "metadata": {},
   "outputs": [],
   "source": []
  }
 ],
 "metadata": {
  "accelerator": "GPU",
  "colab": {
   "collapsed_sections": [],
   "name": "s2s_translation7.ipynb",
   "provenance": []
  },
  "kernelspec": {
   "display_name": "Python 3 (ipykernel)",
   "language": "python",
   "name": "python3"
  },
  "language_info": {
   "codemirror_mode": {
    "name": "ipython",
    "version": 3
   },
   "file_extension": ".py",
   "mimetype": "text/x-python",
   "name": "python",
   "nbconvert_exporter": "python",
   "pygments_lexer": "ipython3",
   "version": "3.8.12"
  }
 },
 "nbformat": 4,
 "nbformat_minor": 5
}
