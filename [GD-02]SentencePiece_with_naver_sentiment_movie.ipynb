{
 "cells": [
  {
   "cell_type": "code",
   "execution_count": 1,
   "id": "e1fa1bf2",
   "metadata": {},
   "outputs": [],
   "source": [
    "import pandas as pd\n",
    "import numpy as np\n",
    "import tensorflow as tf\n",
    "from pathlib import Path\n",
    "\n",
    "import gensim\n",
    "from gensim.models import KeyedVectors\n",
    "\n",
    "from konlpy.tag import Mecab\n",
    "import numpy as np\n",
    "from collections import Counter\n",
    "import re\n",
    "\n"
   ]
  },
  {
   "cell_type": "markdown",
   "id": "4f519ccc",
   "metadata": {},
   "source": [
    "### 1) 데이터 준비와 확인"
   ]
  },
  {
   "cell_type": "code",
   "execution_count": 2,
   "id": "16dacd1e",
   "metadata": {},
   "outputs": [
    {
     "data": {
      "text/html": [
       "<div>\n",
       "<style scoped>\n",
       "    .dataframe tbody tr th:only-of-type {\n",
       "        vertical-align: middle;\n",
       "    }\n",
       "\n",
       "    .dataframe tbody tr th {\n",
       "        vertical-align: top;\n",
       "    }\n",
       "\n",
       "    .dataframe thead th {\n",
       "        text-align: right;\n",
       "    }\n",
       "</style>\n",
       "<table border=\"1\" class=\"dataframe\">\n",
       "  <thead>\n",
       "    <tr style=\"text-align: right;\">\n",
       "      <th></th>\n",
       "      <th>id</th>\n",
       "      <th>document</th>\n",
       "      <th>label</th>\n",
       "    </tr>\n",
       "  </thead>\n",
       "  <tbody>\n",
       "    <tr>\n",
       "      <th>0</th>\n",
       "      <td>9976970</td>\n",
       "      <td>아 더빙.. 진짜 짜증나네요 목소리</td>\n",
       "      <td>0</td>\n",
       "    </tr>\n",
       "    <tr>\n",
       "      <th>1</th>\n",
       "      <td>3819312</td>\n",
       "      <td>흠...포스터보고 초딩영화줄....오버연기조차 가볍지 않구나</td>\n",
       "      <td>1</td>\n",
       "    </tr>\n",
       "    <tr>\n",
       "      <th>2</th>\n",
       "      <td>10265843</td>\n",
       "      <td>너무재밓었다그래서보는것을추천한다</td>\n",
       "      <td>0</td>\n",
       "    </tr>\n",
       "    <tr>\n",
       "      <th>3</th>\n",
       "      <td>9045019</td>\n",
       "      <td>교도소 이야기구먼 ..솔직히 재미는 없다..평점 조정</td>\n",
       "      <td>0</td>\n",
       "    </tr>\n",
       "    <tr>\n",
       "      <th>4</th>\n",
       "      <td>6483659</td>\n",
       "      <td>사이몬페그의 익살스런 연기가 돋보였던 영화!스파이더맨에서 늙어보이기만 했던 커스틴 ...</td>\n",
       "      <td>1</td>\n",
       "    </tr>\n",
       "  </tbody>\n",
       "</table>\n",
       "</div>"
      ],
      "text/plain": [
       "         id                                           document  label\n",
       "0   9976970                                아 더빙.. 진짜 짜증나네요 목소리      0\n",
       "1   3819312                  흠...포스터보고 초딩영화줄....오버연기조차 가볍지 않구나      1\n",
       "2  10265843                                  너무재밓었다그래서보는것을추천한다      0\n",
       "3   9045019                      교도소 이야기구먼 ..솔직히 재미는 없다..평점 조정      0\n",
       "4   6483659  사이몬페그의 익살스런 연기가 돋보였던 영화!스파이더맨에서 늙어보이기만 했던 커스틴 ...      1"
      ]
     },
     "execution_count": 2,
     "metadata": {},
     "output_type": "execute_result"
    }
   ],
   "source": [
    "from pathlib import Path\n",
    "directory = Path.joinpath(Path.cwd(),'data')\n",
    "\n",
    "filename = 'ko.bin' # Filename\n",
    "word2vec_file_path  = Path.joinpath(directory,filename)\n",
    "word2vec = gensim.models.Word2Vec.load(str(word2vec_file_path))\n",
    "\n",
    "# 데이터를 읽어봅시다. \n",
    "train_data_path = Path.joinpath(directory, 'ratings_train.txt')\n",
    "test_data_path  = Path.joinpath(directory, 'ratings_test.txt')\n",
    "\n",
    "train_data      = pd.read_table(train_data_path)\n",
    "test_data       = pd.read_table(test_data_path)\n",
    "\n",
    "train_data.head()"
   ]
  },
  {
   "cell_type": "code",
   "execution_count": 3,
   "id": "b80d39d1",
   "metadata": {},
   "outputs": [
    {
     "name": "stdout",
     "output_type": "stream",
     "text": [
      "12288\n"
     ]
    }
   ],
   "source": [
    "vocab_size      = 10000    # 어휘 사전의 크기입니다(10,000개의 단어)\n",
    "word_vector_dim = 200      # 워드 벡터의 차원 수 (변경 가능한 하이퍼파라미터)\n",
    "BUFFER_SIZE     = 10000\n",
    "# BATCH_SIZE      = 512\n",
    "BATCH_SIZE      = 1024\n",
    "epochs          = 14\n",
    "# steps_per_epoch = 1\n",
    "\n",
    "# 약 146000건의 train 데이터\n",
    "# validation set 사이즈\n",
    "# int_partition = steps_per_epoch * epochs * BATCH_SIZE\n",
    "int_partition = 12 * BATCH_SIZE\n",
    "\n",
    "print(int_partition)"
   ]
  },
  {
   "cell_type": "markdown",
   "id": "1356dcf4",
   "metadata": {},
   "source": [
    "### 2) 데이터로더 구성"
   ]
  },
  {
   "cell_type": "code",
   "execution_count": 4,
   "id": "0fa17530",
   "metadata": {},
   "outputs": [],
   "source": [
    "from ckonlpy.tag import Twitter\n",
    "# tokenizer =  Twitter()\n",
    "\n",
    "tokenizer = Mecab(dicpath=r\"C:/mecab/mecab-ko-dic\")\n",
    "# tokenizer = Mecab()\n",
    "stopwords = ['수', '거', '기','이', '는', '다', '고', '하', '도', '의', '가', '은', '에', '을', '보', '한', '들', '지', '를', '나', '었', '만']\n",
    "\n",
    "hangul = re.compile('[^ 가-힣]+') # 한글과 띄어쓰기를 제외한 모든 글자\n",
    "\n",
    "def load_data(train_data, test_data):\n",
    "    train_data.drop_duplicates(subset=['document'], inplace=True)\n",
    "    train_data = train_data.dropna(how = 'any') \n",
    "    test_data.drop_duplicates(subset=['document'], inplace=True)\n",
    "    test_data = test_data.dropna(how = 'any') \n",
    "    \n",
    "    X_train = []\n",
    "    for sentence in train_data['document']:\n",
    "        sentence = hangul.sub(\" \", sentence)\n",
    "        temp_X = tokenizer.morphs(sentence) # 토큰화\n",
    "        temp_X = [word for word in temp_X if not word in stopwords] # 불용어 제거\n",
    "        X_train.append(temp_X)\n",
    "\n",
    "    X_test = []\n",
    "    for sentence in test_data['document']:\n",
    "        sentence = hangul.sub(\" \", sentence)\n",
    "        temp_X = tokenizer.morphs(sentence) # 토큰화\n",
    "        temp_X = [word for word in temp_X if not word in stopwords] # 불용어 제거\n",
    "        X_test.append(temp_X)\n",
    "     \n",
    "    \n",
    "    words = np.concatenate(X_train).tolist()\n",
    "    counter = Counter(words)\n",
    "    counter = counter.most_common(vocab_size-4)\n",
    "    \n",
    "    vocab = ['', '', '', ''] + [key for key, _ in counter]\n",
    "    word_to_index = {word:index for index, word in enumerate(vocab)}\n",
    "        \n",
    "    def wordlist_to_indexlist(wordlist):\n",
    "        return [word_to_index[word] if word in word_to_index else word_to_index[''] for word in wordlist]\n",
    "        \n",
    "    X_train = list(map(wordlist_to_indexlist, X_train))\n",
    "    X_test = list(map(wordlist_to_indexlist, X_test))\n",
    "        \n",
    "    return X_train, np.array(list(train_data['label'])), X_test, np.array(list(test_data['label'])), word_to_index\n",
    "\n",
    "x_train, y_train, x_test, y_test, word_to_index = load_data(train_data, test_data)\n",
    "\n"
   ]
  },
  {
   "cell_type": "code",
   "execution_count": 5,
   "id": "cfc3bcbf",
   "metadata": {},
   "outputs": [
    {
     "data": {
      "text/plain": [
       "[[19, 57, 863, 25, 202, 20, 683],\n",
       " [952, 467, 477, 625, 4, 101, 1533, 37, 853, 930, 30, 348],\n",
       " [10, 180, 3],\n",
       " [8004, 133, 4030, 264, 76, 7, 42, 3301],\n",
       " [3,\n",
       "  8458,\n",
       "  1030,\n",
       "  37,\n",
       "  2677,\n",
       "  44,\n",
       "  4,\n",
       "  2605,\n",
       "  26,\n",
       "  1102,\n",
       "  22,\n",
       "  311,\n",
       "  27,\n",
       "  44,\n",
       "  3,\n",
       "  3,\n",
       "  379,\n",
       "  2898,\n",
       "  1653]]"
      ]
     },
     "execution_count": 5,
     "metadata": {},
     "output_type": "execute_result"
    }
   ],
   "source": [
    "x_train[:5]"
   ]
  },
  {
   "cell_type": "code",
   "execution_count": 6,
   "id": "c820d8d1",
   "metadata": {},
   "outputs": [
    {
     "data": {
      "text/plain": [
       "array([0, 1, 0, 0, 1])"
      ]
     },
     "execution_count": 6,
     "metadata": {},
     "output_type": "execute_result"
    }
   ],
   "source": [
    "y_train[:5]"
   ]
  },
  {
   "cell_type": "code",
   "execution_count": 7,
   "id": "18e75f09",
   "metadata": {},
   "outputs": [],
   "source": [
    "index_to_word = {index:word for word, index in word_to_index.items()}"
   ]
  },
  {
   "cell_type": "code",
   "execution_count": 8,
   "id": "cbc64c89",
   "metadata": {},
   "outputs": [],
   "source": [
    "#문장 1개를 활용할 딕셔너리와 함께 주면, 단어 인덱스 리스트 벡터로 변환해 주는 함수. \n",
    "#모든 문장은 <BOS>로 시작해야 함. \n",
    "def get_encoded_sentence(sentence, word_to_index):\n",
    "    sentence = hangul.sub(\" \", sentence) # 한글만 통과\n",
    "    temp_X = tokenizer.morphs(sentence)  # 토큰화\n",
    "    temp_X = [word for word in temp_X if not word in stopwords] # 불용어 제거    \n",
    "    return [word_to_index['<BOS>']]+[word_to_index[word] if word in word_to_index else word_to_index['<UNK>'] for word in temp_X]\n",
    "\n",
    "#여러 개의 문장 리스트를 한꺼번에 단어 인덱스 리스트 벡터로 encode해 주는 함수. \n",
    "def get_encoded_sentences(sentences, word_to_index):\n",
    "    return [get_encoded_sentence(sentence, word_to_index) for sentence in sentences]\n",
    "\n",
    "#숫자 벡터로 encode된 문장을 원래대로 decode하는 함수. \n",
    "def get_decoded_sentence(encoded_sentence, index_to_word):\n",
    "    return ' '.join(index_to_word[index] if index in index_to_word else '<UNK>' for index in encoded_sentence[1:])  #[1:]를 통해 <BOS>를 제외\n",
    "\n",
    "#여러 개의 숫자 벡터로 encode된 문장을 한꺼번에 원래대로 decode하는 함수. \n",
    "def get_decoded_sentences(encoded_sentences, index_to_word):\n",
    "    return [get_decoded_sentence(encoded_sentence, index_to_word) for encoded_sentence in encoded_sentences]"
   ]
  },
  {
   "cell_type": "markdown",
   "id": "aaf55fd5",
   "metadata": {},
   "source": [
    "### 3) 모델 구성을 위한 데이터 분석 및 가공"
   ]
  },
  {
   "cell_type": "code",
   "execution_count": 9,
   "id": "fc768191",
   "metadata": {
    "scrolled": false
   },
   "outputs": [
    {
     "name": "stdout",
     "output_type": "stream",
     "text": [
      "[19, 57, 863, 25, 202, 20, 683]\n",
      "더 빙 진짜 짜증 네요 목소리\n",
      "라벨:  0\n",
      "[952, 467, 477, 625, 4, 101, 1533, 37, 853, 930, 30, 348]\n",
      "포스터 보고 초딩 영화 줄 오버 연기 조차 가볍 않 구나\n",
      "라벨:  1\n",
      "[10, 180, 3]\n",
      "재 \n",
      "라벨:  0\n",
      "[8004, 133, 4030, 264, 76, 7, 42, 3301]\n",
      "이야기 구먼 솔직히 재미 없 평점 조정\n",
      "라벨:  0\n",
      "[3, 8458, 1030, 37, 2677, 44, 4, 2605, 26, 1102, 22, 311, 27, 44, 3, 3, 379, 2898, 1653]\n",
      "익살 스런 연기 돋보였 던 영화 스파이더맨 에서 늙 어 보이 했 던   너무나 이뻐 보였\n",
      "라벨:  1\n"
     ]
    }
   ],
   "source": [
    "for i in range(5):\n",
    "    print(x_train[i])\n",
    "    print(get_decoded_sentence(x_train[i], index_to_word))\n",
    "    print('라벨: ', y_train[i])"
   ]
  },
  {
   "cell_type": "code",
   "execution_count": 10,
   "id": "df2b63ae",
   "metadata": {},
   "outputs": [
    {
     "name": "stdout",
     "output_type": "stream",
     "text": [
      "문장길이 평균 :  11.87655306927956\n",
      "문장길이 최대 :  71\n",
      "문장길이 표준편차 :  9.975205954032385\n",
      "pad_sequences maxlen :  21\n",
      "전체 문장의 0.87194057510277%가 maxlen 설정값 이내에 포함됩니다. \n"
     ]
    }
   ],
   "source": [
    "total_data_text = list(x_train) + list(x_test)\n",
    "# 텍스트데이터 문장길이의 리스트를 생성한 후\n",
    "num_tokens = [len(tokens) for tokens in total_data_text]\n",
    "num_tokens = np.array(num_tokens)\n",
    "# 문장길이의 평균값, 최대값, 표준편차를 계산해 본다. \n",
    "print('문장길이 평균 : ', np.mean(num_tokens))\n",
    "print('문장길이 최대 : ', np.max(num_tokens))\n",
    "print('문장길이 표준편차 : ', np.std(num_tokens))\n",
    "\n",
    "# 예를들어, 최대 길이를 (평균 + 표준편차)로 한다면,  \n",
    "max_tokens = np.mean(num_tokens) + np.std(num_tokens)\n",
    "maxlen = int(max_tokens)\n",
    "\n",
    "print('pad_sequences maxlen : ', maxlen)\n",
    "print('전체 문장의 {}%가 maxlen 설정값 이내에 포함됩니다. '.format(np.sum(num_tokens < max_tokens) / len(num_tokens)))\n"
   ]
  },
  {
   "cell_type": "code",
   "execution_count": 11,
   "id": "237e16a3",
   "metadata": {},
   "outputs": [],
   "source": [
    "# 처음 몇 개 인덱스는 사전에 정의되어 있습니다\n",
    "word_to_index[\"<PAD>\"]    = 0\n",
    "word_to_index[\"<BOS>\"]    = 1\n",
    "word_to_index[\"<UNK>\"]    = 2  # unknown\n",
    "word_to_index[\"<UNUSED>\"] = 3\n",
    "\n",
    "index_to_word = {index:word for word, index in word_to_index.items()}"
   ]
  },
  {
   "cell_type": "code",
   "execution_count": 12,
   "id": "1c8cea2b",
   "metadata": {},
   "outputs": [
    {
     "name": "stdout",
     "output_type": "stream",
     "text": [
      "<PAD>\n",
      "<BOS>\n",
      "<UNK>\n",
      "<UNUSED>\n",
      "영화\n"
     ]
    }
   ],
   "source": [
    "for i in range(5):\n",
    "    print(index_to_word[i])"
   ]
  },
  {
   "cell_type": "code",
   "execution_count": 13,
   "id": "9857c0b5",
   "metadata": {},
   "outputs": [
    {
     "name": "stderr",
     "output_type": "stream",
     "text": [
      "C:\\Users\\ami\\AppData\\Local\\Temp\\ipykernel_5508\\1390784066.py:5: DeprecationWarning: Call to deprecated `__contains__` (Method will be removed in 4.0.0, use self.wv.__contains__() instead).\n",
      "  if index_to_word[i] in word2vec:\n",
      "C:\\Users\\ami\\AppData\\Local\\Temp\\ipykernel_5508\\1390784066.py:6: DeprecationWarning: Call to deprecated `__getitem__` (Method will be removed in 4.0.0, use self.wv.__getitem__() instead).\n",
      "  embedding_matrix[i] = word2vec[index_to_word[i]]\n"
     ]
    }
   ],
   "source": [
    "embedding_matrix = np.random.rand(vocab_size, word_vector_dim)\n",
    "\n",
    "# embedding_matrix에 Word2Vec 워드 벡터를 단어 하나씩마다 차례차례 카피한다.\n",
    "for i in range(4,vocab_size):\n",
    "    if index_to_word[i] in word2vec:\n",
    "        embedding_matrix[i] = word2vec[index_to_word[i]]"
   ]
  },
  {
   "cell_type": "code",
   "execution_count": 14,
   "id": "f890287d",
   "metadata": {},
   "outputs": [],
   "source": [
    "import matplotlib.pyplot as plt\n",
    "\n",
    "def plot_graphs(history, metric):\n",
    "    '''\n",
    "    히스토리 그래프\n",
    "    '''\n",
    "    plt.plot(history.history[metric])\n",
    "    plt.plot(history.history['val_' + metric], '')\n",
    "    plt.xlabel(\"Epochs\")\n",
    "    plt.ylabel(metric)\n",
    "    plt.legend([metric, 'val_' + metric])"
   ]
  },
  {
   "cell_type": "code",
   "execution_count": 15,
   "id": "8b467f73",
   "metadata": {},
   "outputs": [],
   "source": [
    "def predict(model, sentences, word_to_index, index_to_word, maxlen):\n",
    "    '''\n",
    "    점수예측\n",
    "    '''\n",
    "    encoded_sentences = get_encoded_sentences(sentences, word_to_index)\n",
    "#     print(encoded_sentences)\n",
    "    decoded_sentences = get_decoded_sentences(encoded_sentences, index_to_word)\n",
    "#     print(decoded_sentences)\n",
    "    to_test = tf.keras.preprocessing.sequence.pad_sequences(encoded_sentences,\n",
    "                                                           value=word_to_index[\"<PAD>\"],\n",
    "                                                           padding='post', # 혹은 'pre'\n",
    "                                                           maxlen=maxlen)\n",
    "    predictions = model.predict(to_test)\n",
    "    print(predictions)"
   ]
  },
  {
   "cell_type": "markdown",
   "id": "86365926",
   "metadata": {},
   "source": [
    "### 4) 모델 구성 및 validation set 구성"
   ]
  },
  {
   "cell_type": "code",
   "execution_count": 16,
   "id": "5442188c",
   "metadata": {},
   "outputs": [
    {
     "name": "stdout",
     "output_type": "stream",
     "text": [
      "(146182, 21)\n"
     ]
    }
   ],
   "source": [
    "x_train = tf.keras.preprocessing.sequence.pad_sequences(x_train,\n",
    "                                                        value=word_to_index[\"<PAD>\"],\n",
    "                                                        padding='post', # 혹은 'pre'\n",
    "                                                        maxlen=maxlen)\n",
    "\n",
    "x_test = tf.keras.preprocessing.sequence.pad_sequences(x_test,\n",
    "                                                       value=word_to_index[\"<PAD>\"],\n",
    "                                                       padding='post', # 혹은 'pre'\n",
    "                                                       maxlen=maxlen)\n",
    "\n",
    "print(x_train.shape)"
   ]
  },
  {
   "cell_type": "code",
   "execution_count": 17,
   "id": "8a8380ac",
   "metadata": {},
   "outputs": [
    {
     "name": "stdout",
     "output_type": "stream",
     "text": [
      "(133894, 21)\n",
      "(133894,)\n"
     ]
    }
   ],
   "source": [
    "x_val = x_train[:int_partition]   \n",
    "y_val = y_train[:int_partition]\n",
    "\n",
    "# validation set을 제외한 나머지 \n",
    "partial_x_train = x_train[int_partition:]  \n",
    "partial_y_train = y_train[int_partition:]\n",
    "\n",
    "print(partial_x_train.shape)\n",
    "print(partial_y_train.shape)"
   ]
  },
  {
   "cell_type": "markdown",
   "id": "41a63703",
   "metadata": {},
   "source": [
    "#### 모델1. 컨볼루션 레이어로 구성"
   ]
  },
  {
   "cell_type": "code",
   "execution_count": 18,
   "id": "98cc01d9",
   "metadata": {},
   "outputs": [
    {
     "name": "stdout",
     "output_type": "stream",
     "text": [
      "Model: \"sequential\"\n",
      "_________________________________________________________________\n",
      " Layer (type)                Output Shape              Param #   \n",
      "=================================================================\n",
      " embedding (Embedding)       (None, 21, 200)           2000000   \n",
      "                                                                 \n",
      " conv1d (Conv1D)             (None, 21, 16)            9616      \n",
      "                                                                 \n",
      " max_pooling1d (MaxPooling1D  (None, 7, 16)            0         \n",
      " )                                                               \n",
      "                                                                 \n",
      " conv1d_1 (Conv1D)           (None, 7, 8)              392       \n",
      "                                                                 \n",
      " max_pooling1d_1 (MaxPooling  (None, 2, 8)             0         \n",
      " 1D)                                                             \n",
      "                                                                 \n",
      " conv1d_2 (Conv1D)           (None, 2, 8)              200       \n",
      "                                                                 \n",
      " global_max_pooling1d (Globa  (None, 8)                0         \n",
      " lMaxPooling1D)                                                  \n",
      "                                                                 \n",
      " dense (Dense)               (None, 8)                 72        \n",
      "                                                                 \n",
      " dropout (Dropout)           (None, 8)                 0         \n",
      "                                                                 \n",
      " dense_1 (Dense)             (None, 1)                 9         \n",
      "                                                                 \n",
      "=================================================================\n",
      "Total params: 2,010,289\n",
      "Trainable params: 2,010,289\n",
      "Non-trainable params: 0\n",
      "_________________________________________________________________\n"
     ]
    }
   ],
   "source": [
    "from tensorflow.keras.initializers import Constant\n",
    "\n",
    "# 모델 구성\n",
    "model_Conv1D = tf.keras.Sequential()\n",
    "model_Conv1D.add(tf.keras.layers.Embedding(vocab_size, \n",
    "                                 word_vector_dim, \n",
    "                                 embeddings_initializer=Constant(embedding_matrix),  # 카피한 임베딩을 여기서 활용\n",
    "                                 input_length=maxlen, \n",
    "                                 trainable=True))   # trainable을 True로 주면 Fine-tuning\n",
    "model_Conv1D.add(tf.keras.layers.Conv1D(16, 3, activation='relu', padding='same'))\n",
    "model_Conv1D.add(tf.keras.layers.MaxPooling1D(3))\n",
    "model_Conv1D.add(tf.keras.layers.Conv1D(8, 3, activation='relu', padding='same'))\n",
    "model_Conv1D.add(tf.keras.layers.MaxPooling1D(3))\n",
    "model_Conv1D.add(tf.keras.layers.Conv1D(8, 3, activation='relu', padding='same'))\n",
    "model_Conv1D.add(tf.keras.layers.GlobalMaxPooling1D())\n",
    "model_Conv1D.add(tf.keras.layers.Dense(8, activation='relu'))\n",
    "# model_Conv1D.add(tf.keras.layers.Dense(1, activation='sigmoid'))\n",
    "model_Conv1D.add(tf.keras.layers.Dropout(0.5))\n",
    "model_Conv1D.add(tf.keras.layers.Dense(1, activation='tanh')) #추가 \n",
    "model_Conv1D.summary()\n"
   ]
  },
  {
   "cell_type": "code",
   "execution_count": 19,
   "id": "2ba82c0a",
   "metadata": {},
   "outputs": [
    {
     "name": "stdout",
     "output_type": "stream",
     "text": [
      "Epoch 1/14\n",
      "131/131 [==============================] - 8s 24ms/step - loss: 1.1306 - accuracy: 0.5046 - val_loss: 0.6995 - val_accuracy: 0.5316\n",
      "Epoch 2/14\n",
      "131/131 [==============================] - 3s 20ms/step - loss: 0.8412 - accuracy: 0.5168 - val_loss: 0.6857 - val_accuracy: 0.5551\n",
      "Epoch 3/14\n",
      "131/131 [==============================] - 3s 20ms/step - loss: 0.7880 - accuracy: 0.5331 - val_loss: 0.6702 - val_accuracy: 0.5840\n",
      "Epoch 4/14\n",
      "131/131 [==============================] - 3s 20ms/step - loss: 0.7472 - accuracy: 0.5578 - val_loss: 0.6405 - val_accuracy: 0.6420\n",
      "Epoch 5/14\n",
      "131/131 [==============================] - 3s 20ms/step - loss: 0.7014 - accuracy: 0.6067 - val_loss: 0.5884 - val_accuracy: 0.7017\n",
      "Epoch 6/14\n",
      "131/131 [==============================] - 3s 20ms/step - loss: 0.6378 - accuracy: 0.6694 - val_loss: 0.5173 - val_accuracy: 0.7558\n",
      "Epoch 7/14\n",
      "131/131 [==============================] - 3s 21ms/step - loss: 0.5697 - accuracy: 0.7263 - val_loss: 0.4645 - val_accuracy: 0.7888\n",
      "Epoch 8/14\n",
      "131/131 [==============================] - 3s 20ms/step - loss: 0.7702 - accuracy: 0.6230 - val_loss: 0.6229 - val_accuracy: 0.6863\n",
      "Epoch 9/14\n",
      "131/131 [==============================] - 3s 20ms/step - loss: 0.6798 - accuracy: 0.6438 - val_loss: 0.5762 - val_accuracy: 0.7263\n",
      "Epoch 10/14\n",
      "131/131 [==============================] - 3s 20ms/step - loss: 0.6318 - accuracy: 0.6865 - val_loss: 0.5265 - val_accuracy: 0.7672\n",
      "Epoch 11/14\n",
      "131/131 [==============================] - 3s 20ms/step - loss: 0.5985 - accuracy: 0.7030 - val_loss: 0.5001 - val_accuracy: 0.7839\n",
      "Epoch 12/14\n",
      "131/131 [==============================] - 3s 19ms/step - loss: 0.5692 - accuracy: 0.7221 - val_loss: 0.4705 - val_accuracy: 0.7985\n",
      "Epoch 13/14\n",
      "131/131 [==============================] - 3s 20ms/step - loss: 0.5478 - accuracy: 0.7351 - val_loss: 0.4607 - val_accuracy: 0.8071\n",
      "Epoch 14/14\n",
      "131/131 [==============================] - 3s 20ms/step - loss: 0.5361 - accuracy: 0.7440 - val_loss: 0.4522 - val_accuracy: 0.8127\n"
     ]
    }
   ],
   "source": [
    "model_Conv1D.compile(optimizer='adam',\n",
    "              loss='binary_crossentropy',\n",
    "              metrics=['accuracy'])\n",
    "              \n",
    "# epochs_Conv=5  # 몇 epoch를 훈련하면 좋을지 결과를 보면서 바꾸어 봅시다. \n",
    "history_Conv1D = model_Conv1D.fit(partial_x_train,\n",
    "                    partial_y_train,\n",
    "                    epochs=epochs,\n",
    "                    batch_size=BATCH_SIZE,\n",
    "                    validation_data=(x_val, y_val),\n",
    "                    verbose=1)"
   ]
  },
  {
   "cell_type": "code",
   "execution_count": 20,
   "id": "fe6b4023",
   "metadata": {},
   "outputs": [
    {
     "name": "stdout",
     "output_type": "stream",
     "text": [
      "1537/1537 [==============================] - 10s 6ms/step - loss: 0.4594 - accuracy: 0.8054\n",
      "Test Loss: 0.45935437083244324\n",
      "Test Accuracy: 0.805358350276947\n"
     ]
    }
   ],
   "source": [
    "test_loss, test_acc = model_Conv1D.evaluate(x_test, y_test)\n",
    "\n",
    "print('Test Loss:', test_loss)\n",
    "print('Test Accuracy:', test_acc)\n"
   ]
  },
  {
   "cell_type": "code",
   "execution_count": 21,
   "id": "c3a8a617",
   "metadata": {},
   "outputs": [
    {
     "data": {
      "text/plain": [
       "(0.0, 1.164531646668911)"
      ]
     },
     "execution_count": 21,
     "metadata": {},
     "output_type": "execute_result"
    },
    {
     "data": {
      "image/png": "[encoded data removed]",
      "text/plain": [
       "<Figure size 1152x576 with 2 Axes>"
      ]
     },
     "metadata": {
      "needs_background": "light"
     },
     "output_type": "display_data"
    }
   ],
   "source": [
    "plt.figure(figsize=(16, 8))\n",
    "plt.subplot(1, 2, 1)\n",
    "plot_graphs(history_Conv1D, 'accuracy')\n",
    "plt.ylim(None, 1)\n",
    "plt.subplot(1, 2, 2)\n",
    "plot_graphs(history_Conv1D, 'loss')\n",
    "plt.ylim(0, None)"
   ]
  },
  {
   "cell_type": "markdown",
   "id": "ce50d034",
   "metadata": {},
   "source": [
    "#### 모델2.  RNN LSTM 1레이어로 구성"
   ]
  },
  {
   "cell_type": "code",
   "execution_count": 22,
   "id": "d2cf0e68",
   "metadata": {},
   "outputs": [
    {
     "name": "stdout",
     "output_type": "stream",
     "text": [
      "Model: \"sequential_1\"\n",
      "_________________________________________________________________\n",
      " Layer (type)                Output Shape              Param #   \n",
      "=================================================================\n",
      " embedding_1 (Embedding)     (None, 21, 200)           2000000   \n",
      "                                                                 \n",
      " bidirectional (Bidirectiona  (None, 128)              135680    \n",
      " l)                                                              \n",
      "                                                                 \n",
      " dense_2 (Dense)             (None, 64)                8256      \n",
      "                                                                 \n",
      " dropout_1 (Dropout)         (None, 64)                0         \n",
      "                                                                 \n",
      " dense_3 (Dense)             (None, 1)                 65        \n",
      "                                                                 \n",
      "=================================================================\n",
      "Total params: 2,144,001\n",
      "Trainable params: 2,144,001\n",
      "Non-trainable params: 0\n",
      "_________________________________________________________________\n"
     ]
    }
   ],
   "source": [
    "from tensorflow.keras.initializers import Constant\n",
    "\n",
    "model_LSTM1 = tf.keras.Sequential()\n",
    "model_LSTM1.add(tf.keras.layers.Embedding(vocab_size, \n",
    "                                 word_vector_dim, \n",
    "                                 embeddings_initializer=Constant(embedding_matrix),  # 카피한 임베딩을 여기서 활용\n",
    "                                 input_length=maxlen, \n",
    "                                 trainable=True))   # trainable을 True로 주면 Fine-tuning\n",
    "model_LSTM1.add(tf.keras.layers.Bidirectional(tf.keras.layers.LSTM(64)))\n",
    "model_LSTM1.add(tf.keras.layers.Dense(64, activation='relu'))\n",
    "# model_LSTM1.add(tf.keras.layers.Dense(1))\n",
    "model_LSTM1.add(tf.keras.layers.Dropout(0.5))\n",
    "# model_LSTM1.add(tf.keras.layers.Dense(1, activation='sigmoid')) #추가     \n",
    "model_LSTM1.add(tf.keras.layers.Dense(1, activation='tanh')) #추가   \n",
    "model_LSTM1.summary()"
   ]
  },
  {
   "cell_type": "code",
   "execution_count": 23,
   "id": "c7c7ec98",
   "metadata": {},
   "outputs": [
    {
     "name": "stdout",
     "output_type": "stream",
     "text": [
      "[False, True, True, True, True]\n"
     ]
    }
   ],
   "source": [
    "print([layer.supports_masking for layer in model_LSTM1.layers])"
   ]
  },
  {
   "cell_type": "code",
   "execution_count": 24,
   "id": "569f5dd5",
   "metadata": {},
   "outputs": [],
   "source": [
    "model_LSTM1.compile(loss=tf.keras.losses.BinaryCrossentropy(from_logits=True),\n",
    "              optimizer=tf.keras.optimizers.Adam(1e-4),\n",
    "              metrics=['accuracy'])"
   ]
  },
  {
   "cell_type": "code",
   "execution_count": 25,
   "id": "c66b2444",
   "metadata": {
    "scrolled": false
   },
   "outputs": [
    {
     "name": "stdout",
     "output_type": "stream",
     "text": [
      "Epoch 1/14\n",
      "131/131 [==============================] - 10s 44ms/step - loss: 0.6653 - accuracy: 0.5474 - val_loss: 0.6137 - val_accuracy: 0.6440\n",
      "Epoch 2/14\n",
      "131/131 [==============================] - 5s 37ms/step - loss: 0.5901 - accuracy: 0.6855 - val_loss: 0.5613 - val_accuracy: 0.7255\n",
      "Epoch 3/14\n",
      "131/131 [==============================] - 5s 36ms/step - loss: 0.5531 - accuracy: 0.7356 - val_loss: 0.5379 - val_accuracy: 0.7581\n",
      "Epoch 4/14\n",
      "131/131 [==============================] - 5s 36ms/step - loss: 0.5327 - accuracy: 0.7611 - val_loss: 0.5200 - val_accuracy: 0.7734\n",
      "Epoch 5/14\n",
      "131/131 [==============================] - 5s 36ms/step - loss: 0.5183 - accuracy: 0.7778 - val_loss: 0.5099 - val_accuracy: 0.7838\n",
      "Epoch 6/14\n",
      "131/131 [==============================] - 5s 36ms/step - loss: 0.5068 - accuracy: 0.7903 - val_loss: 0.5028 - val_accuracy: 0.7944\n",
      "Epoch 7/14\n",
      "131/131 [==============================] - 5s 36ms/step - loss: 0.4985 - accuracy: 0.8007 - val_loss: 0.5077 - val_accuracy: 0.8015\n",
      "Epoch 8/14\n",
      "131/131 [==============================] - 5s 36ms/step - loss: 0.4921 - accuracy: 0.8083 - val_loss: 0.4939 - val_accuracy: 0.8032\n",
      "Epoch 9/14\n",
      "131/131 [==============================] - 5s 36ms/step - loss: 0.4855 - accuracy: 0.8153 - val_loss: 0.4894 - val_accuracy: 0.8114\n",
      "Epoch 10/14\n",
      "131/131 [==============================] - 5s 36ms/step - loss: 0.4797 - accuracy: 0.8222 - val_loss: 0.4865 - val_accuracy: 0.8130\n",
      "Epoch 11/14\n",
      "131/131 [==============================] - 5s 37ms/step - loss: 0.4749 - accuracy: 0.8277 - val_loss: 0.4873 - val_accuracy: 0.8110\n",
      "Epoch 12/14\n",
      "131/131 [==============================] - 5s 36ms/step - loss: 0.4706 - accuracy: 0.8326 - val_loss: 0.4830 - val_accuracy: 0.8176\n",
      "Epoch 13/14\n",
      "131/131 [==============================] - 5s 36ms/step - loss: 0.4665 - accuracy: 0.8371 - val_loss: 0.4811 - val_accuracy: 0.8181\n",
      "Epoch 14/14\n",
      "131/131 [==============================] - 5s 36ms/step - loss: 0.4622 - accuracy: 0.8428 - val_loss: 0.4813 - val_accuracy: 0.8194\n"
     ]
    }
   ],
   "source": [
    "history_LSTM1 = model_LSTM1.fit(partial_x_train,\n",
    "                    partial_y_train,\n",
    "                    epochs=epochs,\n",
    "                    batch_size=BATCH_SIZE,\n",
    "                    validation_data=(x_val, y_val),\n",
    "                    verbose=1)"
   ]
  },
  {
   "cell_type": "code",
   "execution_count": 26,
   "id": "1bda8432",
   "metadata": {},
   "outputs": [
    {
     "name": "stdout",
     "output_type": "stream",
     "text": [
      "1537/1537 [==============================] - 14s 8ms/step - loss: 0.4876 - accuracy: 0.8139\n",
      "Test Loss: 0.48762011528015137\n",
      "Test Accuracy: 0.813882052898407\n"
     ]
    }
   ],
   "source": [
    "test_loss, test_acc = model_LSTM1.evaluate(x_test, y_test)\n",
    "\n",
    "print('Test Loss:', test_loss)\n",
    "print('Test Accuracy:', test_acc)"
   ]
  },
  {
   "cell_type": "code",
   "execution_count": 27,
   "id": "12d4fc56",
   "metadata": {},
   "outputs": [
    {
     "data": {
      "text/plain": [
       "(0.0, 0.6754307627677918)"
      ]
     },
     "execution_count": 27,
     "metadata": {},
     "output_type": "execute_result"
    },
    {
     "data": {
      "image/png": "[encoded data removed]",
      "text/plain": [
       "<Figure size 1152x576 with 2 Axes>"
      ]
     },
     "metadata": {
      "needs_background": "light"
     },
     "output_type": "display_data"
    }
   ],
   "source": [
    "plt.figure(figsize=(16, 8))\n",
    "plt.subplot(1, 2, 1)\n",
    "plot_graphs(history_LSTM1, 'accuracy')\n",
    "plt.ylim(None, 1)\n",
    "plt.subplot(1, 2, 2)\n",
    "plot_graphs(history_LSTM1, 'loss')\n",
    "plt.ylim(0, None)"
   ]
  },
  {
   "cell_type": "markdown",
   "id": "93583dcc",
   "metadata": {},
   "source": [
    "#### 모델3. RNN LSTM 2레이어로 구성"
   ]
  },
  {
   "cell_type": "code",
   "execution_count": 28,
   "id": "14296d34",
   "metadata": {},
   "outputs": [
    {
     "name": "stdout",
     "output_type": "stream",
     "text": [
      "Model: \"sequential_2\"\n",
      "_________________________________________________________________\n",
      " Layer (type)                Output Shape              Param #   \n",
      "=================================================================\n",
      " embedding_2 (Embedding)     (None, 21, 200)           2000000   \n",
      "                                                                 \n",
      " bidirectional_1 (Bidirectio  (None, 21, 128)          135680    \n",
      " nal)                                                            \n",
      "                                                                 \n",
      " bidirectional_2 (Bidirectio  (None, 64)               41216     \n",
      " nal)                                                            \n",
      "                                                                 \n",
      " dense_4 (Dense)             (None, 64)                4160      \n",
      "                                                                 \n",
      " dropout_2 (Dropout)         (None, 64)                0         \n",
      "                                                                 \n",
      " dense_5 (Dense)             (None, 1)                 65        \n",
      "                                                                 \n",
      "=================================================================\n",
      "Total params: 2,181,121\n",
      "Trainable params: 2,181,121\n",
      "Non-trainable params: 0\n",
      "_________________________________________________________________\n"
     ]
    }
   ],
   "source": [
    "model_LSTM2 = tf.keras.Sequential([\n",
    "    tf.keras.layers.Embedding(vocab_size, \n",
    "                                 word_vector_dim, \n",
    "                                 embeddings_initializer=Constant(embedding_matrix),  # 카피한 임베딩을 여기서 활용\n",
    "                                 input_length=maxlen, \n",
    "                                 trainable=True),\n",
    "    tf.keras.layers.Bidirectional(tf.keras.layers.LSTM(64,  return_sequences=True)),\n",
    "    tf.keras.layers.Bidirectional(tf.keras.layers.LSTM(32)),\n",
    "    tf.keras.layers.Dense(64, activation='relu'),\n",
    "    \n",
    "    tf.keras.layers.Dropout(0.5),\n",
    "#     tf.keras.layers.Dropout(0.4),\n",
    "#     tf.keras.layers.Dense(1),\n",
    "#     tf.keras.layers.Dense(1, activation='sigmoid') #추가 \n",
    "    tf.keras.layers.Dense(1, activation='tanh') #추가     \n",
    "])\n",
    "\n",
    "model_LSTM2.summary()\n"
   ]
  },
  {
   "cell_type": "code",
   "execution_count": 29,
   "id": "152d3688",
   "metadata": {},
   "outputs": [],
   "source": [
    "model_LSTM2.compile(loss=tf.keras.losses.BinaryCrossentropy(from_logits=True),\n",
    "              optimizer=tf.keras.optimizers.Adam(1e-4),\n",
    "              metrics=['accuracy'])"
   ]
  },
  {
   "cell_type": "code",
   "execution_count": 30,
   "id": "f3e5b45d",
   "metadata": {},
   "outputs": [
    {
     "name": "stdout",
     "output_type": "stream",
     "text": [
      "Epoch 1/14\n",
      "131/131 [==============================] - 16s 64ms/step - loss: 0.6589 - accuracy: 0.5472 - val_loss: 0.5932 - val_accuracy: 0.6730\n",
      "Epoch 2/14\n",
      "131/131 [==============================] - 7s 50ms/step - loss: 0.5727 - accuracy: 0.7142 - val_loss: 0.5511 - val_accuracy: 0.7520\n",
      "Epoch 3/14\n",
      "131/131 [==============================] - 7s 54ms/step - loss: 0.5411 - accuracy: 0.7536 - val_loss: 0.5284 - val_accuracy: 0.7716\n",
      "Epoch 4/14\n",
      "131/131 [==============================] - 6s 48ms/step - loss: 0.5232 - accuracy: 0.7744 - val_loss: 0.5161 - val_accuracy: 0.7809\n",
      "Epoch 5/14\n",
      "131/131 [==============================] - 6s 46ms/step - loss: 0.5114 - accuracy: 0.7875 - val_loss: 0.5076 - val_accuracy: 0.7905\n",
      "Epoch 6/14\n",
      "131/131 [==============================] - 6s 46ms/step - loss: 0.5012 - accuracy: 0.7990 - val_loss: 0.5011 - val_accuracy: 0.7994\n",
      "Epoch 7/14\n",
      "131/131 [==============================] - 6s 46ms/step - loss: 0.4927 - accuracy: 0.8092 - val_loss: 0.4956 - val_accuracy: 0.8044\n",
      "Epoch 8/14\n",
      "131/131 [==============================] - 7s 51ms/step - loss: 0.4860 - accuracy: 0.8167 - val_loss: 0.4955 - val_accuracy: 0.8042\n",
      "Epoch 9/14\n",
      "131/131 [==============================] - 7s 50ms/step - loss: 0.4810 - accuracy: 0.8221 - val_loss: 0.4896 - val_accuracy: 0.8129\n",
      "Epoch 10/14\n",
      "131/131 [==============================] - 7s 53ms/step - loss: 0.4746 - accuracy: 0.8299 - val_loss: 0.4902 - val_accuracy: 0.8096\n",
      "Epoch 11/14\n",
      "131/131 [==============================] - 7s 53ms/step - loss: 0.4704 - accuracy: 0.8344 - val_loss: 0.4856 - val_accuracy: 0.8176\n",
      "Epoch 12/14\n",
      "131/131 [==============================] - 7s 50ms/step - loss: 0.4655 - accuracy: 0.8402 - val_loss: 0.4856 - val_accuracy: 0.8201\n",
      "Epoch 13/14\n",
      "131/131 [==============================] - 7s 51ms/step - loss: 0.4624 - accuracy: 0.8440 - val_loss: 0.4845 - val_accuracy: 0.8167\n",
      "Epoch 14/14\n",
      "131/131 [==============================] - 6s 49ms/step - loss: 0.4584 - accuracy: 0.8485 - val_loss: 0.4836 - val_accuracy: 0.8183\n"
     ]
    }
   ],
   "source": [
    "history_LSTM2 = model_LSTM2.fit(partial_x_train,\n",
    "                    partial_y_train,\n",
    "                    epochs=epochs,\n",
    "                    batch_size=BATCH_SIZE,\n",
    "                    validation_data=(x_val, y_val),\n",
    "                    verbose=1)"
   ]
  },
  {
   "cell_type": "code",
   "execution_count": 31,
   "id": "44e67b65",
   "metadata": {},
   "outputs": [
    {
     "name": "stdout",
     "output_type": "stream",
     "text": [
      "1537/1537 [==============================] - 21s 12ms/step - loss: 0.4869 - accuracy: 0.8160\n",
      "Test Loss: 0.4869457185268402\n",
      "Test Accuracy: 0.8159773945808411\n"
     ]
    }
   ],
   "source": [
    "test_loss, test_acc = model_LSTM2.evaluate(x_test, y_test)\n",
    "\n",
    "print('Test Loss:', test_loss)\n",
    "print('Test Accuracy:', test_acc)"
   ]
  },
  {
   "cell_type": "code",
   "execution_count": 32,
   "id": "ec2cdbe7",
   "metadata": {},
   "outputs": [
    {
     "data": {
      "image/png": "[encoded data removed]",
      "text/plain": [
       "<Figure size 1152x432 with 2 Axes>"
      ]
     },
     "metadata": {
      "needs_background": "light"
     },
     "output_type": "display_data"
    }
   ],
   "source": [
    "plt.figure(figsize=(16, 6))\n",
    "plt.subplot(1, 2, 1)\n",
    "plot_graphs(history_LSTM2, 'accuracy')\n",
    "plt.subplot(1, 2, 2)\n",
    "plot_graphs(history_LSTM2, 'loss')"
   ]
  },
  {
   "cell_type": "markdown",
   "id": "911fa2ae",
   "metadata": {},
   "source": [
    "### 모델별 영화평 호감도 예측 점수"
   ]
  },
  {
   "cell_type": "markdown",
   "id": "f0f0b0da",
   "metadata": {},
   "source": [
    "#### Conv1D"
   ]
  },
  {
   "cell_type": "code",
   "execution_count": 33,
   "id": "420d2a25",
   "metadata": {},
   "outputs": [
    {
     "name": "stdout",
     "output_type": "stream",
     "text": [
      "[[0.26025745]\n",
      " [0.7890534 ]]\n"
     ]
    }
   ],
   "source": [
    "sentences = (['ㅋㅋㅋ 난생처음 로그인하고 평점남기네요.. 개빡쳐서.. 알바들 속지마세요 이런 ㄱ ㅐ같은 시간낭비가. 아놔진짜평점 마이너스 별오만개',\n",
    "             '최고최고! 바다까지! 4차원 고양이 로봇 도라에몽과 함께하는 진구와 친구들의 미지 탐험 이야기!우주꺼지 갔음 좋겠당~'])\n",
    "predict(model_Conv1D, sentences, word_to_index, index_to_word, maxlen)"
   ]
  },
  {
   "cell_type": "markdown",
   "id": "d16c717c",
   "metadata": {},
   "source": [
    "#### LSTM1"
   ]
  },
  {
   "cell_type": "code",
   "execution_count": 34,
   "id": "07f54677",
   "metadata": {},
   "outputs": [
    {
     "name": "stdout",
     "output_type": "stream",
     "text": [
      "[[-0.9996429]\n",
      " [ 0.8084554]]\n"
     ]
    }
   ],
   "source": [
    "predict(model_LSTM1, sentences, word_to_index, index_to_word, maxlen)"
   ]
  },
  {
   "cell_type": "markdown",
   "id": "57204210",
   "metadata": {},
   "source": [
    "#### LSTM2"
   ]
  },
  {
   "cell_type": "code",
   "execution_count": 35,
   "id": "bebc7e26",
   "metadata": {},
   "outputs": [
    {
     "name": "stdout",
     "output_type": "stream",
     "text": [
      "[[-0.9997448]\n",
      " [-0.9710216]]\n"
     ]
    }
   ],
   "source": [
    "predict(model_LSTM2, sentences, word_to_index, index_to_word, maxlen)"
   ]
  },
  {
   "cell_type": "markdown",
   "id": "72bedb7d",
   "metadata": {},
   "source": [
    "### 다른 영화평 예측점수"
   ]
  },
  {
   "cell_type": "markdown",
   "id": "3770d0c0",
   "metadata": {},
   "source": [
    "#### Conv1D"
   ]
  },
  {
   "cell_type": "code",
   "execution_count": 36,
   "id": "987f7399",
   "metadata": {},
   "outputs": [
    {
     "name": "stdout",
     "output_type": "stream",
     "text": [
      "[[0.86982167]\n",
      " [0.98736507]]\n"
     ]
    }
   ],
   "source": [
    "sentences = (['다시 보고 싶은 영화. 스토리는 독특하고 연기는 자연스럽게 묻어난다. ',\n",
    "             '정말 가슴아픈영화....질리지도 않는영화....몇번을봐도...음악도 너무 좋아요...OST도 구해 들었다는...'])\n",
    "predict(model_Conv1D, sentences, word_to_index, index_to_word, maxlen)"
   ]
  },
  {
   "cell_type": "markdown",
   "id": "b578f609",
   "metadata": {},
   "source": [
    "#### LSTM1"
   ]
  },
  {
   "cell_type": "code",
   "execution_count": 37,
   "id": "0c28564c",
   "metadata": {},
   "outputs": [
    {
     "name": "stdout",
     "output_type": "stream",
     "text": [
      "[[0.9999932 ]\n",
      " [0.99999905]]\n"
     ]
    }
   ],
   "source": [
    "predict(model_LSTM1, sentences, word_to_index, index_to_word, maxlen)"
   ]
  },
  {
   "cell_type": "markdown",
   "id": "bbb6db00",
   "metadata": {},
   "source": [
    "#### LSTM2"
   ]
  },
  {
   "cell_type": "code",
   "execution_count": 38,
   "id": "8da3018e",
   "metadata": {},
   "outputs": [
    {
     "name": "stdout",
     "output_type": "stream",
     "text": [
      "[[0.99996567]\n",
      " [0.9999908 ]]\n"
     ]
    }
   ],
   "source": [
    "predict(model_LSTM2, sentences, word_to_index, index_to_word, maxlen)"
   ]
  },
  {
   "cell_type": "markdown",
   "id": "d3f40e66",
   "metadata": {},
   "source": [
    "#### Conv1D"
   ]
  },
  {
   "cell_type": "code",
   "execution_count": 39,
   "id": "328bd0c5",
   "metadata": {},
   "outputs": [
    {
     "name": "stdout",
     "output_type": "stream",
     "text": [
      "[[0.79786766]\n",
      " [0.26025745]]\n"
     ]
    }
   ],
   "source": [
    "sentences = (['끝까지 몰입해서 볼 수 있게 chapter로 나누어서 군더더기를 생략.좋은 상대와의 결혼도 권태는 피할 수 없고 나이들면 죽음보다 더 비참한 망각-치매-가 오게 되니 100년을 살게 되면 이를 어찌 극복할 수 있을까. ',\n",
    "             '좋은 배우들을 이런 영상물로 연출한것은… 너무한거 아니오'])\n",
    "predict(model_Conv1D, sentences, word_to_index, index_to_word, maxlen)"
   ]
  },
  {
   "cell_type": "markdown",
   "id": "15f8a183",
   "metadata": {},
   "source": [
    "#### LSTM1"
   ]
  },
  {
   "cell_type": "code",
   "execution_count": 40,
   "id": "50974130",
   "metadata": {},
   "outputs": [
    {
     "name": "stdout",
     "output_type": "stream",
     "text": [
      "[[ 0.99193084]\n",
      " [-0.97594655]]\n"
     ]
    }
   ],
   "source": [
    "predict(model_LSTM1, sentences, word_to_index, index_to_word, maxlen)"
   ]
  },
  {
   "cell_type": "markdown",
   "id": "d3bccba3",
   "metadata": {},
   "source": [
    "#### LSTM2"
   ]
  },
  {
   "cell_type": "code",
   "execution_count": 41,
   "id": "e80bf975",
   "metadata": {},
   "outputs": [
    {
     "name": "stdout",
     "output_type": "stream",
     "text": [
      "[[ 0.99285096]\n",
      " [-0.99973816]]\n"
     ]
    }
   ],
   "source": [
    "predict(model_LSTM2, sentences, word_to_index, index_to_word, maxlen)"
   ]
  },
  {
   "cell_type": "markdown",
   "id": "6b9689d7",
   "metadata": {},
   "source": [
    "#### Conv1D"
   ]
  },
  {
   "cell_type": "code",
   "execution_count": 42,
   "id": "13060a6a",
   "metadata": {},
   "outputs": [
    {
     "name": "stdout",
     "output_type": "stream",
     "text": [
      "[[0.26025745]\n",
      " [0.35786754]]\n"
     ]
    }
   ],
   "source": [
    "sentences = (['정치 선동 영화입니다. 대선을 얼마 안남기고 전형적인 민주당식 감정 몰이 영화네요.',\n",
    "             '한효주 주연하지 말아요 제발.굳이 애써 평점을 남기게 만드는 영화.모든 면에서 다채롭게 유치합니다.'])\n",
    "predict(model_Conv1D, sentences, word_to_index, index_to_word, maxlen)"
   ]
  },
  {
   "cell_type": "markdown",
   "id": "1169e574",
   "metadata": {},
   "source": [
    "#### LSTM1"
   ]
  },
  {
   "cell_type": "code",
   "execution_count": 43,
   "id": "04897363",
   "metadata": {},
   "outputs": [
    {
     "name": "stdout",
     "output_type": "stream",
     "text": [
      "[[-0.7303014]\n",
      " [-0.8444518]]\n"
     ]
    }
   ],
   "source": [
    "predict(model_LSTM1, sentences, word_to_index, index_to_word, maxlen)"
   ]
  },
  {
   "cell_type": "markdown",
   "id": "7f14c801",
   "metadata": {},
   "source": [
    "#### LSTM2"
   ]
  },
  {
   "cell_type": "code",
   "execution_count": 44,
   "id": "02cf7418",
   "metadata": {},
   "outputs": [
    {
     "name": "stdout",
     "output_type": "stream",
     "text": [
      "[[-0.7763043]\n",
      " [ 0.657069 ]]\n"
     ]
    }
   ],
   "source": [
    "predict(model_LSTM2, sentences, word_to_index, index_to_word, maxlen)"
   ]
  },
  {
   "cell_type": "markdown",
   "id": "b99b6c58",
   "metadata": {},
   "source": [
    "### 한국어 Word2Vec 임베딩 활용하여 성능 개선\n",
    "#### 사용된 세개의 모델 전부 Word2Vec 사용"
   ]
  },
  {
   "cell_type": "markdown",
   "id": "3de7211e",
   "metadata": {},
   "source": [
    "#### 참고 : RNN을 사용한 텍스트 분류\n",
    "https://www.tensorflow.org/text/tutorials/text_similarity?hl=ko"
   ]
  },
  {
   "cell_type": "markdown",
   "id": "c199dd83",
   "metadata": {},
   "source": [
    "###  후 기 :  \n",
    "\n",
    "\n",
    "#### 한국어 형태소 분류하는 프로그램의 성능이 기대에 미치지 못했고 문장의 대부분 단어들이 무시되는 결과가 되었다. \n",
    "\n",
    "#### 영어 같은 문장구조라면 비교적 쉬운 작업이 될 거라고 생각되지만 한국어는 컴퓨터 환경에서 '정말 너무 구리다'\n",
    "\n",
    "#### 영어를 사용하는 영화평 감성분류 작업도 정확도가 85% 정도 나오던데 한국어 작업결과가 83% 이렇게 비슷하게 나와도 결과를 직접 확인해보면 기대에 미치지 못한다.\n",
    "    \n",
    "#### 차라리 문장을 통체로 딥러닝 시도하는 것이 나을 것 같다.    \n",
    "    \n"
   ]
  },
  {
   "cell_type": "markdown",
   "id": "97377e98",
   "metadata": {},
   "source": [
    "# 2-5. 프로젝트: SentencePiece 사용하기"
   ]
  },
  {
   "cell_type": "markdown",
   "id": "02df2814",
   "metadata": {},
   "source": [
    "#### 라이브러리 버전을 확인"
   ]
  },
  {
   "cell_type": "code",
   "execution_count": 45,
   "id": "de286679",
   "metadata": {},
   "outputs": [
    {
     "name": "stdout",
     "output_type": "stream",
     "text": [
      "2.8.0\n",
      "1.22.2\n",
      "0.6.0\n"
     ]
    }
   ],
   "source": [
    "import tensorflow as tf\n",
    "import numpy as np\n",
    "# import matplotlib as plt\n",
    "import konlpy\n",
    "\n",
    "print(tf.__version__)\n",
    "print(np.__version__)\n",
    "# print(plt.__version__)\n",
    "print(konlpy.__version__)"
   ]
  },
  {
   "cell_type": "markdown",
   "id": "40036e25",
   "metadata": {},
   "source": [
    "#### Step 1. SentencePiece 설치하기"
   ]
  },
  {
   "cell_type": "code",
   "execution_count": 46,
   "id": "516fc8c2",
   "metadata": {},
   "outputs": [],
   "source": [
    "#!pip install sentencepiece"
   ]
  },
  {
   "cell_type": "markdown",
   "id": "7a0e6a2b",
   "metadata": {},
   "source": [
    "### data 정제하기"
   ]
  },
  {
   "cell_type": "code",
   "execution_count": 47,
   "id": "7b075e43",
   "metadata": {},
   "outputs": [
    {
     "data": {
      "text/html": [
       "<div>\n",
       "<style scoped>\n",
       "    .dataframe tbody tr th:only-of-type {\n",
       "        vertical-align: middle;\n",
       "    }\n",
       "\n",
       "    .dataframe tbody tr th {\n",
       "        vertical-align: top;\n",
       "    }\n",
       "\n",
       "    .dataframe thead th {\n",
       "        text-align: right;\n",
       "    }\n",
       "</style>\n",
       "<table border=\"1\" class=\"dataframe\">\n",
       "  <thead>\n",
       "    <tr style=\"text-align: right;\">\n",
       "      <th></th>\n",
       "      <th>id</th>\n",
       "      <th>document</th>\n",
       "      <th>label</th>\n",
       "    </tr>\n",
       "  </thead>\n",
       "  <tbody>\n",
       "    <tr>\n",
       "      <th>0</th>\n",
       "      <td>8112052</td>\n",
       "      <td>어릴때보고 지금다시봐도 재밌어요ㅋㅋ</td>\n",
       "      <td>1</td>\n",
       "    </tr>\n",
       "    <tr>\n",
       "      <th>1</th>\n",
       "      <td>8132799</td>\n",
       "      <td>디자인을 배우는 학생으로, 외국디자이너와 그들이 일군 전통을 통해 발전해가는 문화산...</td>\n",
       "      <td>1</td>\n",
       "    </tr>\n",
       "    <tr>\n",
       "      <th>2</th>\n",
       "      <td>4655635</td>\n",
       "      <td>폴리스스토리 시리즈는 1부터 뉴까지 버릴께 하나도 없음.. 최고.</td>\n",
       "      <td>1</td>\n",
       "    </tr>\n",
       "    <tr>\n",
       "      <th>3</th>\n",
       "      <td>9251303</td>\n",
       "      <td>와.. 연기가 진짜 개쩔구나.. 지루할거라고 생각했는데 몰입해서 봤다.. 그래 이런...</td>\n",
       "      <td>1</td>\n",
       "    </tr>\n",
       "    <tr>\n",
       "      <th>4</th>\n",
       "      <td>10067386</td>\n",
       "      <td>안개 자욱한 밤하늘에 떠 있는 초승달 같은 영화.</td>\n",
       "      <td>1</td>\n",
       "    </tr>\n",
       "  </tbody>\n",
       "</table>\n",
       "</div>"
      ],
      "text/plain": [
       "         id                                           document  label\n",
       "0   8112052                                어릴때보고 지금다시봐도 재밌어요ㅋㅋ      1\n",
       "1   8132799  디자인을 배우는 학생으로, 외국디자이너와 그들이 일군 전통을 통해 발전해가는 문화산...      1\n",
       "2   4655635               폴리스스토리 시리즈는 1부터 뉴까지 버릴께 하나도 없음.. 최고.      1\n",
       "3   9251303  와.. 연기가 진짜 개쩔구나.. 지루할거라고 생각했는데 몰입해서 봤다.. 그래 이런...      1\n",
       "4  10067386                        안개 자욱한 밤하늘에 떠 있는 초승달 같은 영화.      1"
      ]
     },
     "execution_count": 47,
     "metadata": {},
     "output_type": "execute_result"
    }
   ],
   "source": [
    "import os\n",
    "# path_to_file = os.getenv('HOME')+'/aiffel/sp_tokenizer/data/korean-english-park.train.ko'\n",
    "\n",
    "from pathlib import Path\n",
    "path_to_file = Path.joinpath(Path.cwd(),'data','ratings.txt')\n",
    "\n",
    "# with open(path_to_file, \"r\", encoding='UTF-8') as f:\n",
    "# # with open(path_to_file, \"r\") as f:\n",
    "#     raw = f.read().splitlines()\n",
    "\n",
    "# print(\"Data Size:\", len(raw))\n",
    "\n",
    "# print(\"Example:\")\n",
    "# for sen in raw[0:100][::20]: print(\">>\", sen)\n",
    "    \n",
    "raw      = pd.read_table(path_to_file)\n",
    "raw.head()    \n",
    "    "
   ]
  },
  {
   "cell_type": "code",
   "execution_count": 48,
   "id": "2edd7fda",
   "metadata": {},
   "outputs": [
    {
     "data": {
      "text/plain": [
       "pandas.core.frame.DataFrame"
      ]
     },
     "execution_count": 48,
     "metadata": {},
     "output_type": "execute_result"
    }
   ],
   "source": [
    "type(raw)"
   ]
  },
  {
   "cell_type": "code",
   "execution_count": 49,
   "id": "ac755906",
   "metadata": {},
   "outputs": [
    {
     "data": {
      "text/plain": [
       "['어릴때보고 지금다시봐도 재밌어요 ',\n",
       " '디자인을 배우는 학생으로  외국디자이너와 그들이 일군 전통을 통해 발전해가는 문화산업이 부러웠는데  사실 우리나라에서도 그 어려운시절에 끝까지 열정을 지킨 노라노 같은 전통이있어 저와 같은 사람들이 꿈을 꾸고 이뤄나갈 수 있다는 것에 감사합니다 ',\n",
       " '폴리스스토리 시리즈는  부터 뉴까지 버릴께 하나도 없음  최고 ',\n",
       " '와  연기가 진짜 개쩔구나  지루할거라고 생각했는데 몰입해서 봤다  그래 이런게 진짜 영화지',\n",
       " '안개 자욱한 밤하늘에 떠 있는 초승달 같은 영화 ']"
      ]
     },
     "execution_count": 49,
     "metadata": {},
     "output_type": "execute_result"
    }
   ],
   "source": [
    "hangul = re.compile('[^ 가-힣]+') # 한글과 띄어쓰기를 제외한 모든 글자\n",
    "\n",
    "def load_data(data):\n",
    "    '''\n",
    "    filtered_corpus :  사전을 만들 문장 리스트 \n",
    "    '''\n",
    "    data.drop_duplicates(subset=['document'], inplace=True)\n",
    "    data = data.dropna(how = 'any') \n",
    "    \n",
    "    filtered_corpus = []\n",
    "    for i in data.index:\n",
    "        val = hangul.sub(\" \", data.loc[i, 'document'])\n",
    "        data.loc[i, 'document'] = val\n",
    "        filtered_corpus.append(val)\n",
    "        \n",
    "    return filtered_corpus, data\n",
    "\n",
    "filtered_corpus, filtered_data= load_data(raw)\n",
    "filtered_corpus[:5]"
   ]
  },
  {
   "cell_type": "code",
   "execution_count": 50,
   "id": "3ad0a833",
   "metadata": {},
   "outputs": [],
   "source": [
    "import sentencepiece as spm\n",
    "import os\n",
    "# temp_file = os.getenv('HOME')+'/aiffel/sp_tokenizer/data/korean-english-park.train.ko.temp'\n",
    "# temp_file = Path.joinpath(Path.cwd(),'data','korean-english-park.train.ko.temp')\n",
    "\n",
    "temp_file = './data/ratings.temp'\n",
    "\n",
    "vocab_size = 8000\n",
    "\n",
    "with open(temp_file, 'w', encoding='UTF-8') as f:\n",
    "    for row in filtered_corpus:   # 이전 스텝에서 정제했던 corpus를 활용합니다.\n",
    "        f.write(str(row) + '\\n')\n",
    "\n",
    "spm.SentencePieceTrainer.Train(\n",
    "    '--input={} --model_prefix=korean_spm --vocab_size={}'.format(temp_file, vocab_size)    \n",
    ")\n",
    "\n",
    "#위 Train에서  --model_type = 'unigram'이 디폴트 적용되어 있습니다. --model_type = 'bpe' 로 옵션을 주어 변경할 수 있습니다.\n",
    "\n",
    "# !ls -l korean_spm*"
   ]
  },
  {
   "cell_type": "markdown",
   "id": "6fe43511",
   "metadata": {},
   "source": [
    "### SentencePiece 모델 활용"
   ]
  },
  {
   "cell_type": "code",
   "execution_count": 51,
   "id": "5430f3b5",
   "metadata": {},
   "outputs": [
    {
     "name": "stdout",
     "output_type": "stream",
     "text": [
      "[1181, 7, 373, 11, 1237, 7, 140, 14, 0]\n",
      "['▁아버지', '가', '방', '에', '들어', '가', '신', '다', '.']\n",
      "아버지가방에들어가신다 ⁇ \n"
     ]
    }
   ],
   "source": [
    "s = spm.SentencePieceProcessor()\n",
    "s.Load('korean_spm.model')\n",
    "\n",
    "# SentencePiece를 활용한 sentence -> encoding\n",
    "tokensIDs = s.EncodeAsIds('아버지가방에들어가신다.')\n",
    "print(tokensIDs)\n",
    "\n",
    "# SentencePiece를 활용한 sentence -> encoded pieces\n",
    "print(s.SampleEncodeAsPieces('아버지가방에들어가신다.',1, 0.0))\n",
    "\n",
    "# SentencePiece를 활용한 encoding -> sentence 복원\n",
    "print(s.DecodeIds(tokensIDs))"
   ]
  },
  {
   "cell_type": "markdown",
   "id": "b333cad8",
   "metadata": {},
   "source": [
    "### Step 3. Tokenizer 함수 작성"
   ]
  },
  {
   "cell_type": "markdown",
   "id": "5910d58e",
   "metadata": {},
   "source": [
    "1. 매개변수로 토큰화된 문장의 list를 전달하는 대신 온전한 문장의 list 를 전달합니다.\n",
    "2. 생성된 vocab 파일을 읽어와 { <word> : <idx> } 형태를 가지는 word_index 사전과 { <idx> : <word>} 형태를 가지는 index_word 사전을 생성하고 함께 반환합니다.\n",
    "3. 리턴값인 tensor 는 앞의 함수와 동일하게 토큰화한 후 Encoding된 문장입니다. 바로 학습에 사용할 수 있게 Padding은 당연히 해야겠죠?"
   ]
  },
  {
   "cell_type": "code",
   "execution_count": 52,
   "id": "e6caed87",
   "metadata": {},
   "outputs": [],
   "source": [
    "def sp_tokenize(s, corpus):\n",
    "    \n",
    "    tensor = []\n",
    "    \n",
    "    s.SetEncodeExtraOptions('bos:eos') # 문장의 시작(1:<s>)과 끝(2:</s>)을 붙이는 옵션이다. 붙이지 않아도 코드의 성능은 이상이 없다.\n",
    "    for sen in corpus:\n",
    "        tensor.append(s.EncodeAsIds(sen))\n",
    "\n",
    "    with open(\"./korean_spm.vocab\", 'r',encoding='UTF-8') as f:\n",
    "        vocab = f.readlines()\n",
    "\n",
    "    word_index = {}\n",
    "    index_word = {}\n",
    "\n",
    "    for idx, line in enumerate(vocab):\n",
    "        word = line.split(\"\\t\")[0]\n",
    "\n",
    "        word_index.update({word:idx})\n",
    "        index_word.update({idx:word})\n",
    "\n",
    "    tensor = tf.keras.preprocessing.sequence.pad_sequences(tensor, padding='post', maxlen=maxlen)\n",
    "\n",
    "    return tensor, word_index, index_word"
   ]
  },
  {
   "cell_type": "code",
   "execution_count": 53,
   "id": "a77f00ea",
   "metadata": {},
   "outputs": [
    {
     "name": "stdout",
     "output_type": "stream",
     "text": [
      "[[   1  484 2378   10 1024 2602    0    2    0    0    0    0    0    0\n",
      "     0    0    0    0    0    0    0]\n",
      " [   1 1139 2146    3    0  468    7    3   12 7936  751    0    2    0\n",
      "     0    0    0    0    0    0    0]]\n"
     ]
    }
   ],
   "source": [
    "#sp_tokenize(s, corpus) 사용예제\n",
    "\n",
    "my_corpus = ['나는 밥을 먹었습니다.', '그러나 여전히 ㅠㅠ 배가 고픕니다...']\n",
    "tensor, word_index, index_word = sp_tokenize(s, my_corpus)\n",
    "print(tensor)"
   ]
  },
  {
   "cell_type": "markdown",
   "id": "0a752fa2",
   "metadata": {},
   "source": [
    "## Step 4. 네이버 영화리뷰 감정 분석 문제에 SentencePiece 적용해 보기"
   ]
  },
  {
   "cell_type": "markdown",
   "id": "62f4c624",
   "metadata": {},
   "source": [
    "### tokenizer를 SentencePiece로 바꾸어 다시 풀어본다"
   ]
  },
  {
   "cell_type": "markdown",
   "id": "3f79c5d1",
   "metadata": {},
   "source": [
    "data가 있는 곳  \n",
    "https://github.com/e9t/nsmc/"
   ]
  },
  {
   "cell_type": "markdown",
   "id": "4fa07d57",
   "metadata": {},
   "source": [
    "네이버 영화리뷰 감정 분석 코퍼스에 SentencePiece를 적용시킨 모델 학습하기  \n",
    "학습된 모델로 sp_tokenize() 메소드 구현하기  \n",
    "구현된 토크나이저를 적용하여 네이버 영화리뷰 감정 분석 모델을 재학습하기  \n",
    "KoNLPy 형태소 분석기를 사용한 모델과 성능 비교하기  \n",
    "(보너스) SentencePiece 모델의 model_type, vocab_size 등을 변경해 가면서 성능 개선 여부 확인하기"
   ]
  },
  {
   "cell_type": "code",
   "execution_count": 54,
   "id": "01c62126",
   "metadata": {},
   "outputs": [],
   "source": [
    "path_to_train = Path.joinpath(Path.cwd(),'data','ratings_train.txt')\n",
    "path_to_test  = Path.joinpath(Path.cwd(),'data','ratings_test.txt')\n",
    "\n",
    "train      = pd.read_table(path_to_train)\n",
    "test       = pd.read_table(path_to_test)\n",
    "\n",
    "filtered_train_corpus, train_data = load_data(train)\n",
    "x_train, _, _                     = sp_tokenize(s, filtered_train_corpus)\n",
    "y_train                           = np.array(list(train_data['label'])) \n",
    "\n",
    "filtered_test_corpus, test_data   = load_data(test)\n",
    "x_test, word_index, index_word    = sp_tokenize(s, filtered_test_corpus)\n",
    "y_test = np.array(list(test_data['label']))"
   ]
  },
  {
   "cell_type": "code",
   "execution_count": 55,
   "id": "aad4ebbb",
   "metadata": {},
   "outputs": [
    {
     "data": {
      "text/html": [
       "<div>\n",
       "<style scoped>\n",
       "    .dataframe tbody tr th:only-of-type {\n",
       "        vertical-align: middle;\n",
       "    }\n",
       "\n",
       "    .dataframe tbody tr th {\n",
       "        vertical-align: top;\n",
       "    }\n",
       "\n",
       "    .dataframe thead th {\n",
       "        text-align: right;\n",
       "    }\n",
       "</style>\n",
       "<table border=\"1\" class=\"dataframe\">\n",
       "  <thead>\n",
       "    <tr style=\"text-align: right;\">\n",
       "      <th></th>\n",
       "      <th>id</th>\n",
       "      <th>document</th>\n",
       "      <th>label</th>\n",
       "    </tr>\n",
       "  </thead>\n",
       "  <tbody>\n",
       "    <tr>\n",
       "      <th>0</th>\n",
       "      <td>9976970</td>\n",
       "      <td>아 더빙.. 진짜 짜증나네요 목소리</td>\n",
       "      <td>0</td>\n",
       "    </tr>\n",
       "    <tr>\n",
       "      <th>1</th>\n",
       "      <td>3819312</td>\n",
       "      <td>흠...포스터보고 초딩영화줄....오버연기조차 가볍지 않구나</td>\n",
       "      <td>1</td>\n",
       "    </tr>\n",
       "    <tr>\n",
       "      <th>2</th>\n",
       "      <td>10265843</td>\n",
       "      <td>너무재밓었다그래서보는것을추천한다</td>\n",
       "      <td>0</td>\n",
       "    </tr>\n",
       "    <tr>\n",
       "      <th>3</th>\n",
       "      <td>9045019</td>\n",
       "      <td>교도소 이야기구먼 ..솔직히 재미는 없다..평점 조정</td>\n",
       "      <td>0</td>\n",
       "    </tr>\n",
       "    <tr>\n",
       "      <th>4</th>\n",
       "      <td>6483659</td>\n",
       "      <td>사이몬페그의 익살스런 연기가 돋보였던 영화!스파이더맨에서 늙어보이기만 했던 커스틴 ...</td>\n",
       "      <td>1</td>\n",
       "    </tr>\n",
       "  </tbody>\n",
       "</table>\n",
       "</div>"
      ],
      "text/plain": [
       "         id                                           document  label\n",
       "0   9976970                                아 더빙.. 진짜 짜증나네요 목소리      0\n",
       "1   3819312                  흠...포스터보고 초딩영화줄....오버연기조차 가볍지 않구나      1\n",
       "2  10265843                                  너무재밓었다그래서보는것을추천한다      0\n",
       "3   9045019                      교도소 이야기구먼 ..솔직히 재미는 없다..평점 조정      0\n",
       "4   6483659  사이몬페그의 익살스런 연기가 돋보였던 영화!스파이더맨에서 늙어보이기만 했던 커스틴 ...      1"
      ]
     },
     "execution_count": 55,
     "metadata": {},
     "output_type": "execute_result"
    }
   ],
   "source": [
    "train.head()  "
   ]
  },
  {
   "cell_type": "code",
   "execution_count": 56,
   "id": "ac163f8a",
   "metadata": {
    "scrolled": false
   },
   "outputs": [
    {
     "data": {
      "text/html": [
       "<div>\n",
       "<style scoped>\n",
       "    .dataframe tbody tr th:only-of-type {\n",
       "        vertical-align: middle;\n",
       "    }\n",
       "\n",
       "    .dataframe tbody tr th {\n",
       "        vertical-align: top;\n",
       "    }\n",
       "\n",
       "    .dataframe thead th {\n",
       "        text-align: right;\n",
       "    }\n",
       "</style>\n",
       "<table border=\"1\" class=\"dataframe\">\n",
       "  <thead>\n",
       "    <tr style=\"text-align: right;\">\n",
       "      <th></th>\n",
       "      <th>id</th>\n",
       "      <th>document</th>\n",
       "      <th>label</th>\n",
       "    </tr>\n",
       "  </thead>\n",
       "  <tbody>\n",
       "    <tr>\n",
       "      <th>0</th>\n",
       "      <td>6270596</td>\n",
       "      <td>굳 ㅋ</td>\n",
       "      <td>1</td>\n",
       "    </tr>\n",
       "    <tr>\n",
       "      <th>1</th>\n",
       "      <td>9274899</td>\n",
       "      <td>GDNTOPCLASSINTHECLUB</td>\n",
       "      <td>0</td>\n",
       "    </tr>\n",
       "    <tr>\n",
       "      <th>2</th>\n",
       "      <td>8544678</td>\n",
       "      <td>뭐야 이 평점들은.... 나쁘진 않지만 10점 짜리는 더더욱 아니잖아</td>\n",
       "      <td>0</td>\n",
       "    </tr>\n",
       "    <tr>\n",
       "      <th>3</th>\n",
       "      <td>6825595</td>\n",
       "      <td>지루하지는 않은데 완전 막장임... 돈주고 보기에는....</td>\n",
       "      <td>0</td>\n",
       "    </tr>\n",
       "    <tr>\n",
       "      <th>4</th>\n",
       "      <td>6723715</td>\n",
       "      <td>3D만 아니었어도 별 다섯 개 줬을텐데.. 왜 3D로 나와서 제 심기를 불편하게 하죠??</td>\n",
       "      <td>0</td>\n",
       "    </tr>\n",
       "  </tbody>\n",
       "</table>\n",
       "</div>"
      ],
      "text/plain": [
       "        id                                           document  label\n",
       "0  6270596                                                굳 ㅋ      1\n",
       "1  9274899                               GDNTOPCLASSINTHECLUB      0\n",
       "2  8544678             뭐야 이 평점들은.... 나쁘진 않지만 10점 짜리는 더더욱 아니잖아      0\n",
       "3  6825595                   지루하지는 않은데 완전 막장임... 돈주고 보기에는....      0\n",
       "4  6723715  3D만 아니었어도 별 다섯 개 줬을텐데.. 왜 3D로 나와서 제 심기를 불편하게 하죠??      0"
      ]
     },
     "execution_count": 56,
     "metadata": {},
     "output_type": "execute_result"
    }
   ],
   "source": [
    "test.head()"
   ]
  },
  {
   "cell_type": "code",
   "execution_count": 57,
   "id": "cbe85ca3",
   "metadata": {},
   "outputs": [
    {
     "data": {
      "text/plain": [
       "dict"
      ]
     },
     "execution_count": 57,
     "metadata": {},
     "output_type": "execute_result"
    }
   ],
   "source": [
    "type(index_word)"
   ]
  },
  {
   "cell_type": "code",
   "execution_count": 58,
   "id": "2b5317dc",
   "metadata": {},
   "outputs": [
    {
     "name": "stdout",
     "output_type": "stream",
     "text": [
      "0:<unk>\n",
      "1:<s>\n",
      "2:</s>\n",
      "3:▁\n",
      "4:이\n"
     ]
    }
   ],
   "source": [
    "for i in range(5):\n",
    "    print('{}:{}'.format(i,index_word[i]))"
   ]
  },
  {
   "cell_type": "code",
   "execution_count": 59,
   "id": "c4a33a6b",
   "metadata": {},
   "outputs": [],
   "source": [
    "#문장 1개를 활용할 딕셔너리와 함께 주면, 단어 인덱스 리스트 벡터로 변환해 주는 함수. \n",
    "#모든 문장은 <BOS>로 시작해야 함. \n",
    "def get_encoded_sentence2(sentence):\n",
    "    sentence = hangul.sub(\" \", sentence) # 한글만 통과\n",
    "    return s.EncodeAsIds(sentence)\n",
    "\n",
    "#여러 개의 문장 리스트를 한꺼번에 단어 인덱스 리스트 벡터로 encode해 주는 함수. \n",
    "def get_encoded_sentences2(sentences):\n",
    "    return [get_encoded_sentence2(sentence) for sentence in sentences]\n",
    "\n",
    "#숫자 벡터로 encode된 문장을 원래대로 decode하는 함수. \n",
    "def get_decoded_sentence2(encoded_sentence):\n",
    "    return s.DecodeIds(encoded_sentence)\n",
    "\n",
    "#여러 개의 숫자 벡터로 encode된 문장을 한꺼번에 원래대로 decode하는 함수. \n",
    "def get_decoded_sentences2(encoded_sentences):\n",
    "    return [get_decoded_sentence2(encoded_sentence) for encoded_sentence in encoded_sentences]"
   ]
  },
  {
   "cell_type": "markdown",
   "id": "b227a379",
   "metadata": {},
   "source": [
    "### 3) 모델 구성을 위한 데이터 분석 및 가공"
   ]
  },
  {
   "cell_type": "code",
   "execution_count": 60,
   "id": "96d87685",
   "metadata": {},
   "outputs": [
    {
     "name": "stdout",
     "output_type": "stream",
     "text": [
      "[1, 51, 788, 23, 1822, 53, 1481, 2, 0, 0, 0, 0, 0, 0, 0, 0, 0, 0, 0, 0, 0]\n",
      "아 더빙 진짜 짜증나네요 목소리 ⁇  ⁇  ⁇  ⁇  ⁇  ⁇  ⁇  ⁇  ⁇  ⁇  ⁇  ⁇  ⁇ \n",
      "라벨:  0\n"
     ]
    }
   ],
   "source": [
    "list_x = []\n",
    "for i in range(1):\n",
    "#     print(x_train[i])  # x_train[i]는 텐서\n",
    "    for j in x_train[i]:\n",
    "        list_x.append(int(j)) #리스트로 변환\n",
    "    print(list_x)\n",
    "    print(get_decoded_sentence2(list_x))\n",
    "    print('라벨: ', y_train[i])"
   ]
  },
  {
   "cell_type": "code",
   "execution_count": 61,
   "id": "a411c41b",
   "metadata": {},
   "outputs": [
    {
     "data": {
      "text/plain": [
       "numpy.int32"
      ]
     },
     "execution_count": 61,
     "metadata": {},
     "output_type": "execute_result"
    }
   ],
   "source": [
    "type(x_train[0][1])"
   ]
  },
  {
   "cell_type": "code",
   "execution_count": 62,
   "id": "ee2c4f46",
   "metadata": {},
   "outputs": [
    {
     "data": {
      "text/plain": [
       "numpy.ndarray"
      ]
     },
     "execution_count": 62,
     "metadata": {},
     "output_type": "execute_result"
    }
   ],
   "source": [
    "type(x_train[0])"
   ]
  },
  {
   "cell_type": "code",
   "execution_count": 63,
   "id": "8db4ecd5",
   "metadata": {},
   "outputs": [],
   "source": [
    "def predict2(model, sentences):\n",
    "    '''\n",
    "    점수예측\n",
    "    '''\n",
    "    clean_sentences = []\n",
    "    for sentence in sentences:\n",
    "        clean_sentences.append(hangul.sub(\" \", sentence))\n",
    "\n",
    "#     encoded_sentences = s.EncodeAsIds(sentences)\n",
    "#     decoded_sentences = s.DecodeIds(encoded_sentences)\n",
    "\n",
    "    to_test, _, _ = sp_tokenize(s, clean_sentences)    \n",
    "    predictions = model.predict(to_test)\n",
    "    print(predictions)\n"
   ]
  },
  {
   "cell_type": "markdown",
   "id": "dc5d36ee",
   "metadata": {},
   "source": [
    "### 4) 모델 구성 및 validation set 구성"
   ]
  },
  {
   "cell_type": "code",
   "execution_count": 64,
   "id": "581adb6c",
   "metadata": {},
   "outputs": [
    {
     "name": "stdout",
     "output_type": "stream",
     "text": [
      "(146182, 21)\n",
      "(49157, 21)\n"
     ]
    }
   ],
   "source": [
    "# x_train = tf.keras.preprocessing.sequence.pad_sequences(x_train,\n",
    "#                                                         value=word_index[\"<PAD>\"],\n",
    "#                                                         padding='post', # 혹은 'pre'\n",
    "#                                                         maxlen=maxlen)\n",
    "\n",
    "# x_test = tf.keras.preprocessing.sequence.pad_sequences(x_test,\n",
    "#                                                        value=word_index[\"<PAD>\"],\n",
    "#                                                        padding='post', # 혹은 'pre'\n",
    "#                                                        maxlen=maxlen)\n",
    "\n",
    "print(x_train.shape)\n",
    "print(x_test.shape)"
   ]
  },
  {
   "cell_type": "code",
   "execution_count": 65,
   "id": "c4adcf27",
   "metadata": {},
   "outputs": [
    {
     "name": "stdout",
     "output_type": "stream",
     "text": [
      "(133894, 21)\n",
      "(133894,)\n"
     ]
    }
   ],
   "source": [
    "x_val = x_train[:int_partition]   \n",
    "y_val = y_train[:int_partition]\n",
    "\n",
    "# validation set을 제외한 나머지 \n",
    "partial_x_train = x_train[int_partition:]  \n",
    "partial_y_train = y_train[int_partition:]\n",
    "\n",
    "print(partial_x_train.shape)\n",
    "print(partial_y_train.shape)"
   ]
  },
  {
   "cell_type": "code",
   "execution_count": 66,
   "id": "3d6602d9",
   "metadata": {},
   "outputs": [
    {
     "name": "stdout",
     "output_type": "stream",
     "text": [
      "Model: \"sequential_3\"\n",
      "_________________________________________________________________\n",
      " Layer (type)                Output Shape              Param #   \n",
      "=================================================================\n",
      " embedding_3 (Embedding)     (None, 21, 200)           1600000   \n",
      "                                                                 \n",
      " bidirectional_3 (Bidirectio  (None, 128)              135680    \n",
      " nal)                                                            \n",
      "                                                                 \n",
      " dense_6 (Dense)             (None, 64)                8256      \n",
      "                                                                 \n",
      " dropout_3 (Dropout)         (None, 64)                0         \n",
      "                                                                 \n",
      " dense_7 (Dense)             (None, 1)                 65        \n",
      "                                                                 \n",
      "=================================================================\n",
      "Total params: 1,744,001\n",
      "Trainable params: 1,744,001\n",
      "Non-trainable params: 0\n",
      "_________________________________________________________________\n"
     ]
    }
   ],
   "source": [
    "from tensorflow.keras.initializers import Constant\n",
    "\n",
    "model_LSTM_SP = tf.keras.Sequential()\n",
    "model_LSTM_SP.add(tf.keras.layers.Embedding(vocab_size, \n",
    "                                 word_vector_dim, \n",
    "                                 input_length=maxlen, \n",
    "                                 trainable=True))   # trainable을 True로 주면 Fine-tuning\n",
    "model_LSTM_SP.add(tf.keras.layers.Bidirectional(tf.keras.layers.LSTM(64)))\n",
    "model_LSTM_SP.add(tf.keras.layers.Dense(64, activation='relu'))\n",
    "# model_LSTM1.add(tf.keras.layers.Dense(1))\n",
    "model_LSTM_SP.add(tf.keras.layers.Dropout(0.5))\n",
    "# model_LSTM_SP.add(tf.keras.layers.Dense(1))\n",
    "model_LSTM_SP.add(tf.keras.layers.Dense(1, activation='tanh'))\n",
    "\n",
    "model_LSTM_SP.summary()"
   ]
  },
  {
   "cell_type": "code",
   "execution_count": 67,
   "id": "56239180",
   "metadata": {},
   "outputs": [
    {
     "name": "stdout",
     "output_type": "stream",
     "text": [
      "[False, True, True, True, True]\n"
     ]
    }
   ],
   "source": [
    "print([layer.supports_masking for layer in model_LSTM_SP.layers])"
   ]
  },
  {
   "cell_type": "code",
   "execution_count": 68,
   "id": "eb482207",
   "metadata": {},
   "outputs": [],
   "source": [
    "model_LSTM_SP.compile(loss=tf.keras.losses.BinaryCrossentropy(from_logits=True),\n",
    "              optimizer=tf.keras.optimizers.Adam(1e-4),\n",
    "              metrics=['accuracy'])"
   ]
  },
  {
   "cell_type": "code",
   "execution_count": 69,
   "id": "189c4189",
   "metadata": {},
   "outputs": [
    {
     "name": "stdout",
     "output_type": "stream",
     "text": [
      "Epoch 1/14\n",
      "131/131 [==============================] - 9s 41ms/step - loss: 0.6833 - accuracy: 0.5021 - val_loss: 0.6341 - val_accuracy: 0.5120\n",
      "Epoch 2/14\n",
      "131/131 [==============================] - 5s 35ms/step - loss: 0.5321 - accuracy: 0.7426 - val_loss: 0.4877 - val_accuracy: 0.8106\n",
      "Epoch 3/14\n",
      "131/131 [==============================] - 5s 35ms/step - loss: 0.4683 - accuracy: 0.8340 - val_loss: 0.4674 - val_accuracy: 0.8351\n",
      "Epoch 4/14\n",
      "131/131 [==============================] - 4s 33ms/step - loss: 0.4511 - accuracy: 0.8548 - val_loss: 0.4681 - val_accuracy: 0.8340\n",
      "Epoch 5/14\n",
      "131/131 [==============================] - 4s 33ms/step - loss: 0.4426 - accuracy: 0.8653 - val_loss: 0.4677 - val_accuracy: 0.8406\n",
      "Epoch 6/14\n",
      "131/131 [==============================] - 4s 33ms/step - loss: 0.4375 - accuracy: 0.8714 - val_loss: 0.4688 - val_accuracy: 0.8368\n",
      "Epoch 7/14\n",
      "131/131 [==============================] - 4s 33ms/step - loss: 0.4334 - accuracy: 0.8764 - val_loss: 0.4688 - val_accuracy: 0.8375\n",
      "Epoch 8/14\n",
      "131/131 [==============================] - 4s 34ms/step - loss: 0.4293 - accuracy: 0.8813 - val_loss: 0.4705 - val_accuracy: 0.8370\n",
      "Epoch 9/14\n",
      "131/131 [==============================] - 4s 34ms/step - loss: 0.4281 - accuracy: 0.8826 - val_loss: 0.4726 - val_accuracy: 0.8341\n",
      "Epoch 10/14\n",
      "131/131 [==============================] - 4s 33ms/step - loss: 0.4250 - accuracy: 0.8864 - val_loss: 0.4716 - val_accuracy: 0.8346\n",
      "Epoch 11/14\n",
      "131/131 [==============================] - 4s 33ms/step - loss: 0.4227 - accuracy: 0.8885 - val_loss: 0.4718 - val_accuracy: 0.8368\n",
      "Epoch 12/14\n",
      "131/131 [==============================] - 4s 33ms/step - loss: 0.4223 - accuracy: 0.8895 - val_loss: 0.4725 - val_accuracy: 0.8370\n",
      "Epoch 13/14\n",
      "131/131 [==============================] - 4s 33ms/step - loss: 0.4198 - accuracy: 0.8922 - val_loss: 0.4739 - val_accuracy: 0.8350\n",
      "Epoch 14/14\n",
      "131/131 [==============================] - 4s 33ms/step - loss: 0.4190 - accuracy: 0.8930 - val_loss: 0.4733 - val_accuracy: 0.8347\n"
     ]
    }
   ],
   "source": [
    "history_LSTM_SP = model_LSTM_SP.fit(partial_x_train,\n",
    "                    partial_y_train,\n",
    "                    epochs=epochs,\n",
    "                    batch_size=BATCH_SIZE,\n",
    "                    validation_data=(x_val, y_val),\n",
    "                    verbose=1)"
   ]
  },
  {
   "cell_type": "code",
   "execution_count": 70,
   "id": "bd71133e",
   "metadata": {},
   "outputs": [
    {
     "name": "stdout",
     "output_type": "stream",
     "text": [
      "1537/1537 [==============================] - 15s 9ms/step - loss: 0.4790 - accuracy: 0.8284\n",
      "Test Loss: 0.4789562523365021\n",
      "Test Accuracy: 0.8284476399421692\n"
     ]
    }
   ],
   "source": [
    "test_loss, test_acc = model_LSTM_SP.evaluate(x_test, y_test)\n",
    "\n",
    "print('Test Loss:', test_loss)\n",
    "print('Test Accuracy:', test_acc)"
   ]
  },
  {
   "cell_type": "code",
   "execution_count": 71,
   "id": "c257054d",
   "metadata": {},
   "outputs": [
    {
     "data": {
      "image/png": "[encoded data removed]",
      "text/plain": [
       "<Figure size 1152x432 with 2 Axes>"
      ]
     },
     "metadata": {
      "needs_background": "light"
     },
     "output_type": "display_data"
    }
   ],
   "source": [
    "plt.figure(figsize=(16, 6))\n",
    "plt.subplot(1, 2, 1)\n",
    "plot_graphs(history_LSTM_SP, 'accuracy')\n",
    "plt.subplot(1, 2, 2)\n",
    "plot_graphs(history_LSTM_SP, 'loss')"
   ]
  },
  {
   "cell_type": "code",
   "execution_count": 72,
   "id": "4f153bed",
   "metadata": {},
   "outputs": [
    {
     "name": "stdout",
     "output_type": "stream",
     "text": [
      "[[-1.]]\n"
     ]
    }
   ],
   "source": [
    "sentences = (['ㅋㅋㅋ  ㄱ ㅐ같은 시간낭비가. 아놔진짜평점 마이너스 별오만개'])\n",
    "predict2(model_LSTM_SP, sentences)"
   ]
  },
  {
   "cell_type": "code",
   "execution_count": 73,
   "id": "b99d4009",
   "metadata": {},
   "outputs": [
    {
     "name": "stdout",
     "output_type": "stream",
     "text": [
      "[[-0.9999834]\n",
      " [-0.9956834]]\n"
     ]
    }
   ],
   "source": [
    "sentences = (['정치 선동 영화입니다. 대선을 얼마 안남기고 전형적인 민주당식 감정 몰이 영화네요.',\n",
    "             '한효주 주연하지 말아요 제발.굳이 애써 평점을 남기게 만드는 영화.모든 면에서 다채롭게 유치합니다.'])\n",
    "predict2(model_LSTM_SP, sentences)"
   ]
  },
  {
   "cell_type": "markdown",
   "id": "396778b7",
   "metadata": {},
   "source": [
    "# 모델별 accuracy 와 loss 값 비교"
   ]
  },
  {
   "cell_type": "markdown",
   "id": "bcab17b5",
   "metadata": {},
   "source": [
    "### 모델1. MeCab과 컨볼루션 레이어로 구성"
   ]
  },
  {
   "cell_type": "code",
   "execution_count": 74,
   "id": "2db3d699",
   "metadata": {},
   "outputs": [
    {
     "data": {
      "text/plain": [
       "(0.0, 1.164531646668911)"
      ]
     },
     "execution_count": 74,
     "metadata": {},
     "output_type": "execute_result"
    },
    {
     "data": {
      "image/png": "[encoded data removed]",
      "text/plain": [
       "<Figure size 1152x576 with 2 Axes>"
      ]
     },
     "metadata": {
      "needs_background": "light"
     },
     "output_type": "display_data"
    }
   ],
   "source": [
    "plt.figure(figsize=(16, 8))\n",
    "plt.subplot(1, 2, 1)\n",
    "plot_graphs(history_Conv1D, 'accuracy')\n",
    "plt.ylim(None, 1)\n",
    "plt.subplot(1, 2, 2)\n",
    "plot_graphs(history_Conv1D, 'loss')\n",
    "plt.ylim(0, None)"
   ]
  },
  {
   "cell_type": "markdown",
   "id": "7f988980",
   "metadata": {},
   "source": [
    "### 모델2. MeCab과 LSTM 으로 구성"
   ]
  },
  {
   "cell_type": "code",
   "execution_count": 75,
   "id": "a44cbb15",
   "metadata": {},
   "outputs": [
    {
     "data": {
      "text/plain": [
       "(0.0, 0.6754307627677918)"
      ]
     },
     "execution_count": 75,
     "metadata": {},
     "output_type": "execute_result"
    },
    {
     "data": {
      "image/png": "[encoded data removed]",
      "text/plain": [
       "<Figure size 1152x576 with 2 Axes>"
      ]
     },
     "metadata": {
      "needs_background": "light"
     },
     "output_type": "display_data"
    }
   ],
   "source": [
    "plt.figure(figsize=(16, 8))\n",
    "plt.subplot(1, 2, 1)\n",
    "plot_graphs(history_LSTM1, 'accuracy')\n",
    "plt.ylim(None, 1)\n",
    "plt.subplot(1, 2, 2)\n",
    "plot_graphs(history_LSTM1, 'loss')\n",
    "plt.ylim(0, None)"
   ]
  },
  {
   "cell_type": "markdown",
   "id": "3eb7031e",
   "metadata": {},
   "source": [
    "### 모델3. MeCab과 LSTM 2레이어로 구성"
   ]
  },
  {
   "cell_type": "code",
   "execution_count": 76,
   "id": "efb1c3e2",
   "metadata": {},
   "outputs": [
    {
     "data": {
      "image/png": "[encoded data removed]",
      "text/plain": [
       "<Figure size 1152x432 with 2 Axes>"
      ]
     },
     "metadata": {
      "needs_background": "light"
     },
     "output_type": "display_data"
    }
   ],
   "source": [
    "plt.figure(figsize=(16, 6))\n",
    "plt.subplot(1, 2, 1)\n",
    "plot_graphs(history_LSTM2, 'accuracy')\n",
    "plt.subplot(1, 2, 2)\n",
    "plot_graphs(history_LSTM2, 'loss')"
   ]
  },
  {
   "cell_type": "markdown",
   "id": "575094b5",
   "metadata": {},
   "source": [
    "### 모델4. SentencePiece와 LSTM 으로 구성"
   ]
  },
  {
   "cell_type": "code",
   "execution_count": 77,
   "id": "f8f2e33d",
   "metadata": {},
   "outputs": [
    {
     "data": {
      "image/png": "[encoded data removed]",
      "text/plain": [
       "<Figure size 1152x432 with 2 Axes>"
      ]
     },
     "metadata": {
      "needs_background": "light"
     },
     "output_type": "display_data"
    }
   ],
   "source": [
    "plt.figure(figsize=(16, 6))\n",
    "plt.subplot(1, 2, 1)\n",
    "plot_graphs(history_LSTM_SP, 'accuracy')\n",
    "plt.subplot(1, 2, 2)\n",
    "plot_graphs(history_LSTM_SP, 'loss')"
   ]
  },
  {
   "cell_type": "markdown",
   "id": "5ceb5357",
   "metadata": {},
   "source": [
    "# 모델별 영화평 호감도 예측 점수"
   ]
  },
  {
   "cell_type": "markdown",
   "id": "0e276fbc",
   "metadata": {},
   "source": [
    "### 모델1. MeCab과 컨볼루션 레이어로 구성"
   ]
  },
  {
   "cell_type": "code",
   "execution_count": 78,
   "id": "8e44da4d",
   "metadata": {},
   "outputs": [
    {
     "name": "stdout",
     "output_type": "stream",
     "text": [
      "[[0.26025745]\n",
      " [0.7890534 ]]\n"
     ]
    }
   ],
   "source": [
    "sentences = (['ㅋㅋㅋ 난생처음 로그인하고 평점남기네요.. 개빡쳐서.. 알바들 속지마세요 이런 ㄱ ㅐ같은 시간낭비가. 아놔진짜평점 마이너스 별오만개',\n",
    "             '최고최고! 바다까지! 4차원 고양이 로봇 도라에몽과 함께하는 진구와 친구들의 미지 탐험 이야기!우주꺼지 갔음 좋겠당~'])\n",
    "predict(model_Conv1D, sentences, word_to_index, index_to_word, maxlen)"
   ]
  },
  {
   "cell_type": "markdown",
   "id": "40813b13",
   "metadata": {},
   "source": [
    "### 모델2. MeCab과 LSTM 으로 구성"
   ]
  },
  {
   "cell_type": "code",
   "execution_count": 79,
   "id": "df3a8989",
   "metadata": {},
   "outputs": [
    {
     "name": "stdout",
     "output_type": "stream",
     "text": [
      "[[-0.9996429]\n",
      " [ 0.8084554]]\n"
     ]
    }
   ],
   "source": [
    "predict(model_LSTM1, sentences, word_to_index, index_to_word, maxlen)"
   ]
  },
  {
   "cell_type": "markdown",
   "id": "8b06ac08",
   "metadata": {},
   "source": [
    "### 모델3. MeCab과 LSTM 2레이어로 구성"
   ]
  },
  {
   "cell_type": "code",
   "execution_count": 80,
   "id": "4a859ab0",
   "metadata": {},
   "outputs": [
    {
     "name": "stdout",
     "output_type": "stream",
     "text": [
      "[[-0.9997448]\n",
      " [-0.9710216]]\n"
     ]
    }
   ],
   "source": [
    "predict(model_LSTM2, sentences, word_to_index, index_to_word, maxlen)"
   ]
  },
  {
   "cell_type": "markdown",
   "id": "99d61986",
   "metadata": {},
   "source": [
    "### 모델4. SentencePiece와 LSTM 으로 구성"
   ]
  },
  {
   "cell_type": "code",
   "execution_count": 81,
   "id": "732562a7",
   "metadata": {},
   "outputs": [
    {
     "name": "stdout",
     "output_type": "stream",
     "text": [
      "[[-1.]\n",
      " [ 1.]]\n"
     ]
    }
   ],
   "source": [
    "predict2(model_LSTM_SP, sentences)"
   ]
  },
  {
   "cell_type": "markdown",
   "id": "6e8b097e",
   "metadata": {},
   "source": [
    "## 다른 영화평 예측점수"
   ]
  },
  {
   "cell_type": "markdown",
   "id": "6d4cb255",
   "metadata": {},
   "source": [
    "### 모델1. MeCab과 컨볼루션 레이어로 구성"
   ]
  },
  {
   "cell_type": "code",
   "execution_count": 82,
   "id": "abe08564",
   "metadata": {},
   "outputs": [
    {
     "name": "stdout",
     "output_type": "stream",
     "text": [
      "[[0.86982167]\n",
      " [0.98736507]]\n"
     ]
    }
   ],
   "source": [
    "sentences = (['다시 보고 싶은 영화. 스토리는 독특하고 연기는 자연스럽게 묻어난다. ',\n",
    "             '정말 가슴아픈영화....질리지도 않는영화....몇번을봐도...음악도 너무 좋아요...OST도 구해 들었다는...'])\n",
    "predict(model_Conv1D, sentences, word_to_index, index_to_word, maxlen)"
   ]
  },
  {
   "cell_type": "markdown",
   "id": "69e0f3c3",
   "metadata": {},
   "source": [
    "### 모델2. MeCab과 LSTM 으로 구성"
   ]
  },
  {
   "cell_type": "code",
   "execution_count": 83,
   "id": "dcebc3fb",
   "metadata": {},
   "outputs": [
    {
     "name": "stdout",
     "output_type": "stream",
     "text": [
      "[[0.9999932 ]\n",
      " [0.99999905]]\n"
     ]
    }
   ],
   "source": [
    "predict(model_LSTM1, sentences, word_to_index, index_to_word, maxlen)"
   ]
  },
  {
   "cell_type": "markdown",
   "id": "f5ac883e",
   "metadata": {},
   "source": [
    "### 모델3. MeCab과 LSTM 2레이어로 구성"
   ]
  },
  {
   "cell_type": "code",
   "execution_count": 84,
   "id": "b5939523",
   "metadata": {},
   "outputs": [
    {
     "name": "stdout",
     "output_type": "stream",
     "text": [
      "[[0.99996567]\n",
      " [0.9999908 ]]\n"
     ]
    }
   ],
   "source": [
    "predict(model_LSTM2, sentences, word_to_index, index_to_word, maxlen)"
   ]
  },
  {
   "cell_type": "markdown",
   "id": "ff92d128",
   "metadata": {},
   "source": [
    "### 모델4. SentencePiece와 LSTM 으로 구성"
   ]
  },
  {
   "cell_type": "code",
   "execution_count": 85,
   "id": "61e1c9e0",
   "metadata": {},
   "outputs": [
    {
     "name": "stdout",
     "output_type": "stream",
     "text": [
      "[[0.99998736]\n",
      " [1.        ]]\n"
     ]
    }
   ],
   "source": [
    "predict2(model_LSTM_SP, sentences)"
   ]
  },
  {
   "cell_type": "markdown",
   "id": "12cf4e27",
   "metadata": {},
   "source": [
    "### 모델1. MeCab과 컨볼루션 레이어로 구성"
   ]
  },
  {
   "cell_type": "code",
   "execution_count": 86,
   "id": "b595cd9e",
   "metadata": {},
   "outputs": [
    {
     "name": "stdout",
     "output_type": "stream",
     "text": [
      "[[0.79786766]\n",
      " [0.26025745]]\n"
     ]
    }
   ],
   "source": [
    "sentences = (['끝까지 몰입해서 볼 수 있게 chapter로 나누어서 군더더기를 생략.좋은 상대와의 결혼도 권태는 피할 수 없고 나이들면 죽음보다 더 비참한 망각-치매-가 오게 되니 100년을 살게 되면 이를 어찌 극복할 수 있을까. ',\n",
    "             '좋은 배우들을 이런 영상물로 연출한것은… 너무한거 아니오'])\n",
    "predict(model_Conv1D, sentences, word_to_index, index_to_word, maxlen)"
   ]
  },
  {
   "cell_type": "markdown",
   "id": "ae2f52b1",
   "metadata": {},
   "source": [
    "### 모델2. MeCab과 LSTM 으로 구성"
   ]
  },
  {
   "cell_type": "code",
   "execution_count": 87,
   "id": "33e3eba9",
   "metadata": {},
   "outputs": [
    {
     "name": "stdout",
     "output_type": "stream",
     "text": [
      "[[ 0.99193084]\n",
      " [-0.97594655]]\n"
     ]
    }
   ],
   "source": [
    "predict(model_LSTM1, sentences, word_to_index, index_to_word, maxlen)"
   ]
  },
  {
   "cell_type": "markdown",
   "id": "63eb51fb",
   "metadata": {},
   "source": [
    "### 모델3. MeCab과 LSTM 2레이어로 구성"
   ]
  },
  {
   "cell_type": "code",
   "execution_count": 88,
   "id": "1859d909",
   "metadata": {},
   "outputs": [
    {
     "name": "stdout",
     "output_type": "stream",
     "text": [
      "[[ 0.99285096]\n",
      " [-0.99973816]]\n"
     ]
    }
   ],
   "source": [
    "predict(model_LSTM2, sentences, word_to_index, index_to_word, maxlen)"
   ]
  },
  {
   "cell_type": "markdown",
   "id": "78b72105",
   "metadata": {},
   "source": [
    "### 모델4. SentencePiece와 LSTM 으로 구성"
   ]
  },
  {
   "cell_type": "code",
   "execution_count": 89,
   "id": "433b6d15",
   "metadata": {},
   "outputs": [
    {
     "name": "stdout",
     "output_type": "stream",
     "text": [
      "[[ 1.        ]\n",
      " [-0.99999666]]\n"
     ]
    }
   ],
   "source": [
    "predict2(model_LSTM_SP, sentences)"
   ]
  },
  {
   "cell_type": "markdown",
   "id": "9a915a51",
   "metadata": {},
   "source": [
    "### 모델1. MeCab과 컨볼루션 레이어로 구성"
   ]
  },
  {
   "cell_type": "code",
   "execution_count": 90,
   "id": "b9403a3c",
   "metadata": {},
   "outputs": [
    {
     "name": "stdout",
     "output_type": "stream",
     "text": [
      "[[0.26025745]\n",
      " [0.35786754]]\n"
     ]
    }
   ],
   "source": [
    "sentences = (['정치 선동 영화입니다. 대선을 얼마 안남기고 전형적인 민주당식 감정 몰이 영화네요.',\n",
    "             '한효주 주연하지 말아요 제발.굳이 애써 평점을 남기게 만드는 영화.모든 면에서 다채롭게 유치합니다.'])\n",
    "predict(model_Conv1D, sentences, word_to_index, index_to_word, maxlen)"
   ]
  },
  {
   "cell_type": "markdown",
   "id": "929f16ae",
   "metadata": {},
   "source": [
    "### 모델2. MeCab과 LSTM 으로 구성"
   ]
  },
  {
   "cell_type": "code",
   "execution_count": 91,
   "id": "bf64f1dc",
   "metadata": {},
   "outputs": [
    {
     "name": "stdout",
     "output_type": "stream",
     "text": [
      "[[-0.7303014]\n",
      " [-0.8444518]]\n"
     ]
    }
   ],
   "source": [
    "predict(model_LSTM1, sentences, word_to_index, index_to_word, maxlen)"
   ]
  },
  {
   "cell_type": "markdown",
   "id": "ee3a572d",
   "metadata": {},
   "source": [
    "### 모델3. MeCab과 LSTM 2레이어로 구성"
   ]
  },
  {
   "cell_type": "code",
   "execution_count": 92,
   "id": "311bb8e5",
   "metadata": {},
   "outputs": [
    {
     "name": "stdout",
     "output_type": "stream",
     "text": [
      "[[-0.7763043]\n",
      " [ 0.657069 ]]\n"
     ]
    }
   ],
   "source": [
    "predict(model_LSTM2, sentences, word_to_index, index_to_word, maxlen)"
   ]
  },
  {
   "cell_type": "markdown",
   "id": "f0b8f04b",
   "metadata": {},
   "source": [
    "#### 보기엔 부정적인 평가인데 모델3은 긍정평가라 예측했다. 마지막 부분에 SentencePiece와 LSTM 2레이어로 구성한 모델로 예측한 결과가 있다."
   ]
  },
  {
   "cell_type": "markdown",
   "id": "148915f7",
   "metadata": {},
   "source": [
    "### 모델4. SentencePiece와 LSTM 으로 구성"
   ]
  },
  {
   "cell_type": "code",
   "execution_count": 93,
   "id": "cb82d59b",
   "metadata": {},
   "outputs": [
    {
     "name": "stdout",
     "output_type": "stream",
     "text": [
      "[[-0.9999834]\n",
      " [-0.9956834]]\n"
     ]
    }
   ],
   "source": [
    "predict2(model_LSTM_SP, sentences)"
   ]
  },
  {
   "cell_type": "markdown",
   "id": "1c06e6f3",
   "metadata": {},
   "source": [
    "## 후기  \n",
    "#### 네이버 영화평점을 SentencePiece을 이용해서 예측하는  과제다.  \n",
    "#### 목적을 위해 모델4. SentencePiece와 LSTM을 구성했다.  \n",
    "#### 모델의 예측값은 tanh 함수를 통과시켜 -1(낮은평가)~1(높은평가) 로 표현되게했다.  \n",
    "#### SentencePiece 토큰화의 특성상 불용어라고 지워버리던 것들도 의미를 가질 수 있기 때문에 제거하지 않았다. 글자가 같다고 해서 불용어로 분류하여 제거하는 과정도 동음이의어가 사라지는 경우가 많아 세련되지 못하다.  \n",
    "#### 기존에 했던 과제들과 비교해보면 모델4. SentencePiece와 LSTM  구성은 수렴이 아주 빠르고 평점예측에 단호했다. 1도 나오고 -1도 나온다."
   ]
  },
  {
   "cell_type": "markdown",
   "id": "39745ad7",
   "metadata": {},
   "source": [
    "### 혹시나 해서 돌려본거"
   ]
  },
  {
   "cell_type": "code",
   "execution_count": 94,
   "id": "581aa4a2",
   "metadata": {},
   "outputs": [
    {
     "name": "stdout",
     "output_type": "stream",
     "text": [
      "Model: \"sequential_4\"\n",
      "_________________________________________________________________\n",
      " Layer (type)                Output Shape              Param #   \n",
      "=================================================================\n",
      " embedding_4 (Embedding)     (None, 21, 200)           1600000   \n",
      "                                                                 \n",
      " bidirectional_4 (Bidirectio  (None, 21, 128)          135680    \n",
      " nal)                                                            \n",
      "                                                                 \n",
      " bidirectional_5 (Bidirectio  (None, 128)              98816     \n",
      " nal)                                                            \n",
      "                                                                 \n",
      " dense_8 (Dense)             (None, 64)                8256      \n",
      "                                                                 \n",
      " dropout_4 (Dropout)         (None, 64)                0         \n",
      "                                                                 \n",
      " dense_9 (Dense)             (None, 1)                 65        \n",
      "                                                                 \n",
      "=================================================================\n",
      "Total params: 1,842,817\n",
      "Trainable params: 1,842,817\n",
      "Non-trainable params: 0\n",
      "_________________________________________________________________\n"
     ]
    }
   ],
   "source": [
    "model_LSTM2_SP = tf.keras.Sequential([\n",
    "    tf.keras.layers.Embedding(vocab_size, \n",
    "                                 word_vector_dim, \n",
    "                                 input_length=maxlen, \n",
    "                                 trainable=True),\n",
    "    tf.keras.layers.Bidirectional(tf.keras.layers.LSTM(64,  return_sequences=True)),\n",
    "    tf.keras.layers.Bidirectional(tf.keras.layers.LSTM(64)),\n",
    "    tf.keras.layers.Dense(64, activation='relu'),\n",
    "    tf.keras.layers.Dropout(0.5),\n",
    "    tf.keras.layers.Dense(1, activation='tanh') #추가     \n",
    "])\n",
    "\n",
    "model_LSTM2_SP.summary()"
   ]
  },
  {
   "cell_type": "code",
   "execution_count": 95,
   "id": "d6bebe99",
   "metadata": {},
   "outputs": [
    {
     "name": "stdout",
     "output_type": "stream",
     "text": [
      "[False, True, True, True, True, True]\n"
     ]
    }
   ],
   "source": [
    "print([layer.supports_masking for layer in model_LSTM2_SP.layers])"
   ]
  },
  {
   "cell_type": "code",
   "execution_count": 96,
   "id": "1ad3d642",
   "metadata": {},
   "outputs": [],
   "source": [
    "model_LSTM2_SP.compile(loss=tf.keras.losses.BinaryCrossentropy(from_logits=True),\n",
    "              optimizer=tf.keras.optimizers.Adam(1e-4),\n",
    "              metrics=['accuracy'])"
   ]
  },
  {
   "cell_type": "code",
   "execution_count": 97,
   "id": "9d967ac2",
   "metadata": {},
   "outputs": [
    {
     "name": "stdout",
     "output_type": "stream",
     "text": [
      "Epoch 1/30\n",
      "131/131 [==============================] - 16s 67ms/step - loss: 0.6616 - accuracy: 0.5369 - val_loss: 0.5136 - val_accuracy: 0.7843\n",
      "Epoch 2/30\n",
      "131/131 [==============================] - 7s 53ms/step - loss: 0.4834 - accuracy: 0.8193 - val_loss: 0.4737 - val_accuracy: 0.8269\n",
      "Epoch 3/30\n",
      "131/131 [==============================] - 7s 54ms/step - loss: 0.4582 - accuracy: 0.8484 - val_loss: 0.4730 - val_accuracy: 0.8328\n",
      "Epoch 4/30\n",
      "131/131 [==============================] - 7s 53ms/step - loss: 0.4480 - accuracy: 0.8607 - val_loss: 0.4734 - val_accuracy: 0.8344\n",
      "Epoch 5/30\n",
      "131/131 [==============================] - 7s 54ms/step - loss: 0.4425 - accuracy: 0.8672 - val_loss: 0.4781 - val_accuracy: 0.8276\n",
      "Epoch 6/30\n",
      "131/131 [==============================] - 7s 54ms/step - loss: 0.4397 - accuracy: 0.8704 - val_loss: 0.4756 - val_accuracy: 0.8336\n",
      "Epoch 7/30\n",
      "131/131 [==============================] - 7s 53ms/step - loss: 0.4359 - accuracy: 0.8748 - val_loss: 0.4795 - val_accuracy: 0.8298\n",
      "Epoch 8/30\n",
      "131/131 [==============================] - 7s 54ms/step - loss: 0.4332 - accuracy: 0.8775 - val_loss: 0.4782 - val_accuracy: 0.8321\n",
      "Epoch 9/30\n",
      "131/131 [==============================] - 7s 54ms/step - loss: 0.4312 - accuracy: 0.8800 - val_loss: 0.4767 - val_accuracy: 0.8328\n",
      "Epoch 10/30\n",
      "131/131 [==============================] - 7s 55ms/step - loss: 0.4296 - accuracy: 0.8816 - val_loss: 0.4764 - val_accuracy: 0.8350\n",
      "Epoch 11/30\n",
      "131/131 [==============================] - 7s 55ms/step - loss: 0.4275 - accuracy: 0.8841 - val_loss: 0.4756 - val_accuracy: 0.8349\n",
      "Epoch 12/30\n",
      "131/131 [==============================] - 7s 55ms/step - loss: 0.4266 - accuracy: 0.8849 - val_loss: 0.4767 - val_accuracy: 0.8324\n",
      "Epoch 13/30\n",
      "131/131 [==============================] - 7s 55ms/step - loss: 0.4260 - accuracy: 0.8858 - val_loss: 0.4773 - val_accuracy: 0.8336\n",
      "Epoch 14/30\n",
      "131/131 [==============================] - 7s 55ms/step - loss: 0.4250 - accuracy: 0.8865 - val_loss: 0.4766 - val_accuracy: 0.8342\n",
      "Epoch 15/30\n",
      "131/131 [==============================] - 7s 55ms/step - loss: 0.4224 - accuracy: 0.8894 - val_loss: 0.4792 - val_accuracy: 0.8325\n",
      "Epoch 16/30\n",
      "131/131 [==============================] - 7s 54ms/step - loss: 0.4216 - accuracy: 0.8902 - val_loss: 0.4789 - val_accuracy: 0.8311\n",
      "Epoch 17/30\n",
      "131/131 [==============================] - 7s 54ms/step - loss: 0.4219 - accuracy: 0.8900 - val_loss: 0.4795 - val_accuracy: 0.8322\n",
      "Epoch 18/30\n",
      "131/131 [==============================] - 7s 55ms/step - loss: 0.4209 - accuracy: 0.8911 - val_loss: 0.4789 - val_accuracy: 0.8333\n",
      "Epoch 19/30\n",
      "131/131 [==============================] - 7s 54ms/step - loss: 0.4196 - accuracy: 0.8923 - val_loss: 0.4791 - val_accuracy: 0.8327\n",
      "Epoch 20/30\n",
      "131/131 [==============================] - 7s 54ms/step - loss: 0.4180 - accuracy: 0.8943 - val_loss: 0.4816 - val_accuracy: 0.8287\n",
      "Epoch 21/30\n",
      "131/131 [==============================] - 7s 56ms/step - loss: 0.4181 - accuracy: 0.8939 - val_loss: 0.4795 - val_accuracy: 0.8313\n",
      "Epoch 22/30\n",
      "131/131 [==============================] - 7s 55ms/step - loss: 0.4180 - accuracy: 0.8942 - val_loss: 0.4813 - val_accuracy: 0.8290\n",
      "Epoch 23/30\n",
      "131/131 [==============================] - 8s 58ms/step - loss: 0.4176 - accuracy: 0.8944 - val_loss: 0.4800 - val_accuracy: 0.8317\n",
      "Epoch 24/30\n",
      "131/131 [==============================] - 8s 57ms/step - loss: 0.4167 - accuracy: 0.8957 - val_loss: 0.4788 - val_accuracy: 0.8324\n",
      "Epoch 25/30\n",
      "131/131 [==============================] - 7s 56ms/step - loss: 0.4164 - accuracy: 0.8959 - val_loss: 0.4787 - val_accuracy: 0.8328\n",
      "Epoch 26/30\n",
      "131/131 [==============================] - 7s 55ms/step - loss: 0.4150 - accuracy: 0.8973 - val_loss: 0.4773 - val_accuracy: 0.8336\n",
      "Epoch 27/30\n",
      "131/131 [==============================] - 7s 55ms/step - loss: 0.4166 - accuracy: 0.8955 - val_loss: 0.4785 - val_accuracy: 0.8329\n",
      "Epoch 28/30\n",
      "131/131 [==============================] - 7s 55ms/step - loss: 0.4149 - accuracy: 0.8975 - val_loss: 0.4792 - val_accuracy: 0.8302\n",
      "Epoch 29/30\n",
      "131/131 [==============================] - 7s 55ms/step - loss: 0.4148 - accuracy: 0.8976 - val_loss: 0.4797 - val_accuracy: 0.8321\n",
      "Epoch 30/30\n",
      "131/131 [==============================] - 7s 55ms/step - loss: 0.4143 - accuracy: 0.8982 - val_loss: 0.4800 - val_accuracy: 0.8311\n"
     ]
    }
   ],
   "source": [
    "history_LSTM2_SP = model_LSTM2_SP.fit(partial_x_train,\n",
    "                    partial_y_train,\n",
    "                    epochs=30,\n",
    "                    batch_size=BATCH_SIZE,\n",
    "                    validation_data=(x_val, y_val),\n",
    "                    verbose=1)"
   ]
  },
  {
   "cell_type": "code",
   "execution_count": 98,
   "id": "bdba1d85",
   "metadata": {},
   "outputs": [
    {
     "name": "stdout",
     "output_type": "stream",
     "text": [
      "1537/1537 [==============================] - 20s 12ms/step - loss: 0.4823 - accuracy: 0.8293\n",
      "Test Loss: 0.4823471009731293\n",
      "Test Accuracy: 0.8292613625526428\n"
     ]
    }
   ],
   "source": [
    "test_loss, test_acc = model_LSTM2_SP.evaluate(x_test, y_test)\n",
    "\n",
    "print('Test Loss:', test_loss)\n",
    "print('Test Accuracy:', test_acc)"
   ]
  },
  {
   "cell_type": "code",
   "execution_count": 99,
   "id": "434de40d",
   "metadata": {},
   "outputs": [
    {
     "data": {
      "image/png": "[encoded data removed]",
      "text/plain": [
       "<Figure size 1152x432 with 2 Axes>"
      ]
     },
     "metadata": {
      "needs_background": "light"
     },
     "output_type": "display_data"
    }
   ],
   "source": [
    "plt.figure(figsize=(16, 6))\n",
    "plt.subplot(1, 2, 1)\n",
    "plot_graphs(history_LSTM2_SP, 'accuracy')\n",
    "plt.subplot(1, 2, 2)\n",
    "plot_graphs(history_LSTM2_SP, 'loss')"
   ]
  },
  {
   "cell_type": "code",
   "execution_count": 100,
   "id": "79cd4486",
   "metadata": {},
   "outputs": [
    {
     "name": "stdout",
     "output_type": "stream",
     "text": [
      "[[-0.9999834]\n",
      " [-0.9956834]]\n"
     ]
    }
   ],
   "source": [
    "sentences = (['정치 선동 영화입니다. 대선을 얼마 안남기고 전형적인 민주당식 감정 몰이 영화네요.',\n",
    "             '한효주 주연하지 말아요 제발.굳이 애써 평점을 남기게 만드는 영화.모든 면에서 다채롭게 유치합니다.'])\n",
    "predict2(model_LSTM_SP, sentences)"
   ]
  },
  {
   "cell_type": "markdown",
   "id": "ebdaad25",
   "metadata": {},
   "source": [
    "#### 위의 문장으로 평점을 예측했을 때 SentencePiece와 LSTM 2레이어로 구성한 모델로 예측한 결과는 MeCab과 LSTM 2레이어로 구성된 모델의 예측과 다르게 부정적 평가이다. 이는 주관적인 평과와 일치한다.   \n"
   ]
  },
  {
   "cell_type": "code",
   "execution_count": null,
   "id": "41905f85",
   "metadata": {},
   "outputs": [],
   "source": []
  }
 ],
 "metadata": {
  "kernelspec": {
   "display_name": "Python 3 (ipykernel)",
   "language": "python",
   "name": "python3"
  },
  "language_info": {
   "codemirror_mode": {
    "name": "ipython",
    "version": 3
   },
   "file_extension": ".py",
   "mimetype": "text/x-python",
   "name": "python",
   "nbconvert_exporter": "python",
   "pygments_lexer": "ipython3",
   "version": "3.8.12"
  }
 },
 "nbformat": 4,
 "nbformat_minor": 5
}
