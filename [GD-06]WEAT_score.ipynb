{
 "cells": [
  {
   "cell_type": "markdown",
   "id": "95949568",
   "metadata": {},
   "source": [
    "## 6.임베딩 내 편향성 알아보기"
   ]
  },
  {
   "cell_type": "markdown",
   "id": "30e4b04e",
   "metadata": {},
   "source": [
    "### ****6-1. 들어가며****\n",
    "\n",
    "****인공지능은 객관적일까?****\n",
    "\n",
    "**데이터 편향성**\n",
    "\n",
    "**'**차량 충돌 사고 실험' - 여성 탑승자가 남성 탑승자보다 사망률이 높아. 차량 실험에서 쓰인 데이터가 남성 위주\n",
    "\n",
    "아마존  인공지능 채용 시스템  - 여성'이라는 단어가 포함되면 감점. 남성 우위인 기술산업 업계.\n",
    "\n",
    "'콤파스'라는 범죄자의 형량을 정하는 알고리즘 - 이 알고리즘은 범죄 방식, 생활 방식, 성격, 태도 등의 점수를 환산해 범죄자의 재범률을 예측하는 시스템. 인의 재범 가능성을 백인보다 2배 위험하다고 판단. 재범을 저지른 흑인은 체포될 확률이 백인에 비해 높았기 때문 \n",
    "\n",
    "Word Embedding Association Test (WEAT) - 워드 임베딩에 숨어 있는 편향성을 측정하는 대표적인 방법"
   ]
  },
  {
   "cell_type": "markdown",
   "id": "445f68a7",
   "metadata": {},
   "source": [
    "### ****6-2. 워드 임베딩의 편향성****\n",
    "\n",
    "****워드 임베딩 속의 편향성****"
   ]
  },
  {
   "cell_type": "markdown",
   "id": "ffb31b65",
   "metadata": {},
   "source": [
    "[1607.06520.pdf (arxiv.org)](https://arxiv.org/pdf/1607.06520.pdf)\n",
    "\n",
    "Programmer, Doctor, Engineer 등의 단어는 남성대명사 He에 가깝게, Homemaker, Nurse, Hairdresser 등의 단어는 여성대명사 She에 가깝게 위치\n",
    "\n",
    "daddy와 boys는 중립적인 단어?\n",
    "\n",
    "****WEAT(Word Embedding Association Test)****\n",
    "\n",
    "2016년에 Aylin Caliskan이 제안.  Word Embedding Association Test (WEAT)는 임베딩 모델의 편향을 측정하는 방식\n",
    "\n",
    "**[Semantics derived automatically from language corpora necessarily contain human biases](https://arxiv.org/pdf/1608.07187.pdf)**\n",
    "\n",
    "Male과 Female, Science와 Art라는 개념을 가장 잘 대표하는 단어들을 여러 개 골라 단어 셋(set)을 만듬\n",
    "\n",
    "Science를 대표하는 target 단어 셋 X\n",
    "\n",
    "Art를 대표하는 target 단어 셋 Y\n",
    "\n",
    "Male을 대표하는 attribute 단어 셋 A\n",
    "\n",
    "Female을 대표하는 attribute 단어 셋 B\n",
    "\n",
    "편향성이 없다면, X에 속한 단어들은 A에 속한 단어들과의 거리와 B에 속한 단어들과의 거리가 별 차이가 없어야\n",
    "\n",
    "WEAT 개념의 아이디어는 심리학의 IAT(Implicit Association Test)라는 인지편향성 실험 구조에서 따온 것\n",
    "\n",
    "**IAT 홈페이지 : [Project Implicit](https://implicit.harvard.edu/implicit/education.html)**\n",
    "\n",
    "아래 표는 구글의 테크블로그에서 WEAT 개념을 소개하면서 첨부한 실험 결과표\n",
    "\n",
    "**[Text Embedding Models Contain Bias. Here's Why That Matters](https://developers.googleblog.com/2018/04/text-embedding-models-contain-bias.html)**"
   ]
  },
  {
   "cell_type": "markdown",
   "id": "e8736c49",
   "metadata": {},
   "source": [
    "Glove, Word2Vec 등 다양한 워드 임베딩 모델에 대해 동일한 실험을 하여 WEAT score를 측정해 본 결과 모델마다 WEAT score가 동일하게 나오는 것이 아님\n",
    "\n",
    "### ****6-3. WEAT를 통한 편향성 측정****\n",
    "\n",
    "WEAT score는 다음과 같이 정의\n",
    "\n",
    "$$\n",
    "{mean_{x∈X}s(x,A,B)−mean_{y∈Y}s(y,A,B)}\\over{std_{w∈X∪Y}s(w,A,B)}\n",
    "$$\n",
    "\n",
    "$$\n",
    "s(w,A,B)=mean_{a∈A}cos(w^→,a^→)−mean_{b∈B}cos(w^→,b^→)\n",
    "$$\n",
    "\n",
    "**target X, Y에 속하는 각 단어 *x*, *y*들이 개념축 A-B에 대해 가지는 편향성을  각각 평균 내서** \n",
    "\n",
    "### ****6-4. WEAT 구현하기****"
   ]
  },
  {
   "cell_type": "code",
   "execution_count": 1,
   "id": "05732373",
   "metadata": {},
   "outputs": [],
   "source": [
    "import numpy as np\n",
    "from numpy import dot\n",
    "from numpy.linalg import norm"
   ]
  },
  {
   "cell_type": "markdown",
   "id": "1f32de8e",
   "metadata": {},
   "source": [
    "두 개의 target 단어 셋 X, Y\n",
    "\n",
    "두 개의 attribute 단어 셋 A, B\n",
    "\n",
    "두 개의 target 셋의 크기가 같다\n",
    "\n",
    "두 개의 attribute 셋의 크기가 같다\n",
    "\n",
    "targets\n",
    "X set(꽃) : 장미, 튤립, 백합, 데이지\n",
    "Y set(곤충) : 거미, 모기, 파리, 메뚜기\n",
    "\n",
    "attributes\n",
    "A set(유쾌) : 사랑, 행복, 웃음\n",
    "B set(불쾌) : 재난, 고통, 증오"
   ]
  },
  {
   "cell_type": "markdown",
   "id": "fe3f0af9",
   "metadata": {},
   "source": [
    "두 개의 target 단어 셋 X, Y\n",
    "\n",
    "두 개의 attribute 단어 셋 A, B\n",
    "\n",
    "두 개의 target 셋의 크기가 같다\n",
    "\n",
    "두 개의 attribute 셋의 크기가 같다\n",
    "\n",
    "targets\n",
    "X set(꽃) : 장미, 튤립, 백합, 데이지\n",
    "Y set(곤충) : 거미, 모기, 파리, 메뚜기\n",
    "\n",
    "attributes\n",
    "A set(유쾌) : 사랑, 행복, 웃음\n",
    "B set(불쾌) : 재난, 고통, 증오"
   ]
  },
  {
   "cell_type": "code",
   "execution_count": 2,
   "id": "9eadc4f5",
   "metadata": {},
   "outputs": [],
   "source": [
    "target_X = {\n",
    "    '장미': [4.1, 1.2, -2.4, 0.5, 4.1],\n",
    "    '튤립': [3.1, 0.5, 3.6, 1.7, 5.8],\n",
    "    '백합': [2.9, -1.3, 0.4, 1.1, 3.7],\n",
    "    '데이지': [5.4, 2.5, 4.6, -1.0, 3.6]\n",
    "}\n",
    "target_Y = {\n",
    "    '거미': [-1.5, 0.2, -0.6, -4.6, -5.3],\n",
    "    '모기': [0.4, 0.7, -1.9, -4.5, -2.9],\n",
    "    '파리': [0.9, 1.4, -2.3, -3.9, -4.7],\n",
    "    '메뚜기': [0.7, 0.9, -0.4, -4.1, -3.9]\n",
    "}\n",
    "attribute_A = {\n",
    "    '사랑':[2.8,  4.2, 4.3,  0.3, 5.0],\n",
    "    '행복':[3.8,  3. , -1.2,  4.4, 4.9],\n",
    "    '웃음':[3.7, -0.3,  1.2, -2.5, 3.9]\n",
    "}\n",
    "attribute_B = {\n",
    "    '재난': [-0.2, -2.8, -4.7, -4.3, -4.7],\n",
    "    '고통': [-4.5, -2.1,  -3.8, -3.6, -3.1],\n",
    "    '증오': [-3.6, -3.3, -3.5,  -3.7, -4.4]\n",
    "}"
   ]
  },
  {
   "cell_type": "code",
   "execution_count": 3,
   "id": "b1e3a29c",
   "metadata": {},
   "outputs": [
    {
     "name": "stdout",
     "output_type": "stream",
     "text": [
      "[[ 4.1  1.2 -2.4  0.5  4.1]\n",
      " [ 3.1  0.5  3.6  1.7  5.8]\n",
      " [ 2.9 -1.3  0.4  1.1  3.7]\n",
      " [ 5.4  2.5  4.6 -1.   3.6]]\n",
      "[[-1.5  0.2 -0.6 -4.6 -5.3]\n",
      " [ 0.4  0.7 -1.9 -4.5 -2.9]\n",
      " [ 0.9  1.4 -2.3 -3.9 -4.7]\n",
      " [ 0.7  0.9 -0.4 -4.1 -3.9]]\n"
     ]
    }
   ],
   "source": [
    "X = np.array([v for v in target_X.values()])\n",
    "Y = np.array([v for v in target_Y.values()])\n",
    "print(X)\n",
    "print(Y)"
   ]
  },
  {
   "cell_type": "code",
   "execution_count": 4,
   "id": "9cfe05a2",
   "metadata": {},
   "outputs": [
    {
     "name": "stdout",
     "output_type": "stream",
     "text": [
      "[[ 4.1  1.2 -2.4  0.5  4.1]\n",
      " [ 3.1  0.5  3.6  1.7  5.8]\n",
      " [ 2.9 -1.3  0.4  1.1  3.7]\n",
      " [ 5.4  2.5  4.6 -1.   3.6]]\n",
      "[[-1.5  0.2 -0.6 -4.6 -5.3]\n",
      " [ 0.4  0.7 -1.9 -4.5 -2.9]\n",
      " [ 0.9  1.4 -2.3 -3.9 -4.7]\n",
      " [ 0.7  0.9 -0.4 -4.1 -3.9]]\n"
     ]
    }
   ],
   "source": [
    "X = np.array([v for v in target_X.values()])\n",
    "Y = np.array([v for v in target_Y.values()])\n",
    "print(X)\n",
    "print(Y)"
   ]
  },
  {
   "cell_type": "code",
   "execution_count": 5,
   "id": "e2549c2c",
   "metadata": {},
   "outputs": [
    {
     "name": "stdout",
     "output_type": "stream",
     "text": [
      "[[ 2.8  4.2  4.3  0.3  5. ]\n",
      " [ 3.8  3.  -1.2  4.4  4.9]\n",
      " [ 3.7 -0.3  1.2 -2.5  3.9]]\n",
      "[[-0.2 -2.8 -4.7 -4.3 -4.7]\n",
      " [-4.5 -2.1 -3.8 -3.6 -3.1]\n",
      " [-3.6 -3.3 -3.5 -3.7 -4.4]]\n"
     ]
    }
   ],
   "source": [
    "A = np.array([v for v in attribute_A.values()])\n",
    "B = np.array([v for v in attribute_B.values()])\n",
    "print(A)\n",
    "print(B)"
   ]
  },
  {
   "cell_type": "code",
   "execution_count": 6,
   "id": "aae6d9f2",
   "metadata": {},
   "outputs": [
    {
     "name": "stdout",
     "output_type": "stream",
     "text": [
      "0.6457646122337399\n"
     ]
    }
   ],
   "source": [
    "def cos_sim(i, j):\n",
    "    return dot(i, j.T)/(norm(i)*norm(j))\n",
    "\n",
    "def s(w, A, B):\n",
    "    c_a = cos_sim(w, A)\n",
    "    c_b = cos_sim(w, B)\n",
    "    mean_A = np.mean(c_a, axis=-1)\n",
    "    mean_B = np.mean(c_b, axis=-1)\n",
    "    return mean_A - mean_B #, c_a, c_b\n",
    "\n",
    "print(s(target_X['장미'], A, B))"
   ]
  },
  {
   "cell_type": "code",
   "execution_count": 7,
   "id": "7b303de2",
   "metadata": {},
   "outputs": [
    {
     "name": "stdout",
     "output_type": "stream",
     "text": [
      "-0.794002342033094\n"
     ]
    }
   ],
   "source": [
    "print(s(target_Y['거미'], A, B))"
   ]
  },
  {
   "cell_type": "code",
   "execution_count": 8,
   "id": "430a75d0",
   "metadata": {},
   "outputs": [
    {
     "name": "stdout",
     "output_type": "stream",
     "text": [
      "-0.794002342033094\n"
     ]
    }
   ],
   "source": [
    "print(s(target_Y['거미'], A, B))"
   ]
  },
  {
   "cell_type": "code",
   "execution_count": 9,
   "id": "57207ec6",
   "metadata": {},
   "outputs": [
    {
     "name": "stdout",
     "output_type": "stream",
     "text": [
      "[-0.44713039 -0.28310853 -0.33144878 -0.26030641]\n",
      "-0.33\n"
     ]
    }
   ],
   "source": [
    "print(s(Y, A, B))\n",
    "print(round(np.mean(s(Y, A, B)), 3))"
   ]
  },
  {
   "cell_type": "code",
   "execution_count": 10,
   "id": "3806dccd",
   "metadata": {},
   "outputs": [
    {
     "name": "stdout",
     "output_type": "stream",
     "text": [
      "1.932\n"
     ]
    }
   ],
   "source": [
    "def weat_score(X, Y, A, B):\n",
    "    \n",
    "    s_X = s(X, A, B)\n",
    "    s_Y = s(Y, A, B)\n",
    "\n",
    "    mean_X = np.mean(s_X)\n",
    "    mean_Y = np.mean(s_Y)\n",
    "    \n",
    "    std_dev = np.std(np.concatenate([s_X, s_Y], axis=0))\n",
    "    \n",
    "    return  (mean_X-mean_Y)/std_dev\n",
    "\n",
    "print(round(weat_score(X, Y, A, B), 3))"
   ]
  },
  {
   "cell_type": "code",
   "execution_count": 11,
   "id": "e59d2b87",
   "metadata": {},
   "outputs": [
    {
     "data": {
      "text/plain": [
       "<matplotlib.collections.PathCollection at 0x1ff3c49ebe0>"
      ]
     },
     "execution_count": 11,
     "metadata": {},
     "output_type": "execute_result"
    },
    {
     "data": {
      "image/png": "[encoded data removed]",
      "text/plain": [
       "<Figure size 432x288 with 1 Axes>"
      ]
     },
     "metadata": {
      "needs_background": "light"
     },
     "output_type": "display_data"
    }
   ],
   "source": [
    "from sklearn.decomposition import PCA\n",
    "pca = PCA(n_components=2)\n",
    "pc_A = pca.fit_transform(A)\n",
    "pc_B = pca.fit_transform(B)\n",
    "pc_X = pca.fit_transform(X)\n",
    "pc_Y = pca.fit_transform(Y)\n",
    "\n",
    "import matplotlib.pyplot as plt\n",
    "fig, ax = plt.subplots()\n",
    "ax.scatter(pc_A[:,0],pc_A[:,1], c='blue', label='A')\n",
    "ax.scatter(pc_B[:,0],pc_B[:,1], c='red', label='B')\n",
    "ax.scatter(pc_X[:,0],pc_X[:,1], c='skyblue', label='X')\n",
    "ax.scatter(pc_Y[:,0],pc_Y[:,1], c='pink', label='Y')"
   ]
  },
  {
   "cell_type": "markdown",
   "id": "4dcde758",
   "metadata": {},
   "source": [
    "### ****6-5. 사전학습된 Word Embedding에 WEAT 적용****\n",
    "\n",
    "구글에서 학습한 모델 압축을 풀면 대략 3G 정도 됩니다.\n",
    "\n",
    "**[GoogleNews-vectors-negative300.bin.gz](https://drive.google.com/u/0/uc?id=0B7XkCwpI5KDYNlNUTTlSS21pQmM&export=download)**"
   ]
  },
  {
   "cell_type": "code",
   "execution_count": 12,
   "id": "c7b06ed4",
   "metadata": {},
   "outputs": [],
   "source": [
    "# $ mkdir -p ~/aiffel/weat\n",
    "# $ ln -s ~/data/* ~/aiffel/weat/\n",
    "# $ cd ~/aiffel/weat\n",
    "# $ ls -l"
   ]
  },
  {
   "cell_type": "markdown",
   "id": "81562dca",
   "metadata": {},
   "source": [
    "w2v를 사용하다가 메모리 부족이 발생할 수 있습니다. 이때는 워드 임베딩 내 300만 개의 단어 중 자주 쓰는 단어 50만 개만 꺼내어 사용하도록 아래와 같이 limit\n",
    " 파라미터값을 주면 메모리 사용량을 크게 줄일 수 있습니다."
   ]
  },
  {
   "cell_type": "code",
   "execution_count": 13,
   "id": "7b9701bd",
   "metadata": {},
   "outputs": [],
   "source": [
    "import os\n",
    "\n",
    "# data_dir = '~/aiffel/weat' \n",
    "# model_dir = os.path.join(data_dir, 'GoogleNews-vectors-negative300.bin')\n",
    " \n",
    "\n",
    "from pathlib import Path\n",
    "data_dir = Path.joinpath(Path.cwd(),'data')\n",
    "model_dir = Path.joinpath(data_dir,'GoogleNews-vectors-negative300.bin')\n",
    "\n",
    "\n",
    "from gensim.models import KeyedVectors\n",
    "\n",
    "# 50만개의 단어만 활용합니다. 메모리가 충분하다면 limit 파라미터값을 생략하여 300만개를 모두 활용할 수 있습니다. \n",
    "w2v = KeyedVectors.load_word2vec_format(model_dir, binary=True, limit=500000)"
   ]
  },
  {
   "cell_type": "code",
   "execution_count": 14,
   "id": "b78b999a",
   "metadata": {},
   "outputs": [
    {
     "data": {
      "text/plain": [
       "<gensim.models.keyedvectors.KeyedVectors at 0x1ff3c4d9be0>"
      ]
     },
     "execution_count": 14,
     "metadata": {},
     "output_type": "execute_result"
    }
   ],
   "source": [
    "w2v\n",
    "#<gensim.models.keyedvectors.KeyedVectors at 0x7fcadb59dd00>"
   ]
  },
  {
   "cell_type": "markdown",
   "id": "c5cae3b9",
   "metadata": {},
   "source": [
    "2021년 3월, Gensim이 4.0 으로 버전업되면서 KeyedVectors에 vocab dict가 제거되었습니다. 상세한 내용은 아래 링크를 참고해 주세요.\n",
    "\n",
    "**[Migrating from Gensim 3.x to 4](https://github.com/RaRe-Technologies/gensim/wiki/Migrating-from-Gensim-3.x-to-4)**"
   ]
  },
  {
   "cell_type": "code",
   "execution_count": 15,
   "id": "cb479a3f",
   "metadata": {},
   "outputs": [
    {
     "name": "stdout",
     "output_type": "stream",
     "text": [
      "500000\n",
      "300\n",
      "(500000, 300)\n"
     ]
    }
   ],
   "source": [
    "# print(len(w2v.vocab))   # Gensim 3.X 버전까지는 w2v.vocab을 직접 접근할 수 있습니다. \n",
    "print(len(w2v.index_to_key))   # Gensim 4.0부터는 index_to_key를 활용해 vocab size를 알 수 있습니다. \n",
    "print(len(w2v['I']))                    # 혹은 단어를 key로 직접 vector를 얻을 수 있습니다. \n",
    "print(w2v.vectors.shape)\n",
    "#500000\n",
    "#300\n",
    "#(500000, 300)"
   ]
  },
  {
   "cell_type": "code",
   "execution_count": 16,
   "id": "4313c6c9",
   "metadata": {},
   "outputs": [
    {
     "data": {
      "text/plain": [
       "array([-5.18798828e-04,  1.60156250e-01,  1.60980225e-03,  2.53906250e-02,\n",
       "        9.91210938e-02, -8.59375000e-02,  3.24218750e-01, -2.17285156e-02,\n",
       "        1.34765625e-01,  1.10351562e-01, -1.04980469e-01, -2.90527344e-02,\n",
       "       -2.38037109e-02, -4.02832031e-02, -3.68652344e-02,  2.32421875e-01,\n",
       "        3.20312500e-01,  1.01074219e-01,  5.83496094e-02, -2.91824341e-04,\n",
       "       -3.29589844e-02,  2.11914062e-01,  4.32128906e-02, -8.59375000e-02,\n",
       "        2.81250000e-01, -1.78222656e-02,  3.79943848e-03, -1.71875000e-01,\n",
       "        2.06054688e-01, -1.85546875e-01,  3.73535156e-02, -1.21459961e-02,\n",
       "        2.04101562e-01, -3.80859375e-02,  3.61328125e-02, -8.15429688e-02,\n",
       "        8.44726562e-02,  9.37500000e-02,  1.44531250e-01,  7.42187500e-02,\n",
       "        2.51953125e-01, -7.91015625e-02,  8.69140625e-02,  1.58691406e-02,\n",
       "        1.09375000e-01, -2.23632812e-01, -5.15747070e-03,  1.68945312e-01,\n",
       "       -1.36718750e-01, -2.51464844e-02, -3.85742188e-02, -1.33056641e-02,\n",
       "        1.38671875e-01,  1.76757812e-01,  1.10351562e-01,  1.51367188e-01,\n",
       "        7.86132812e-02, -1.69921875e-01,  1.20605469e-01, -4.37500000e-01,\n",
       "       -4.32128906e-02,  1.34765625e-01, -3.45703125e-01,  9.13085938e-02,\n",
       "        4.71191406e-02,  9.66796875e-02, -1.61132812e-02, -4.71191406e-02,\n",
       "       -4.68750000e-02,  1.37695312e-01,  9.96093750e-02,  4.49218750e-02,\n",
       "       -2.49023438e-02,  1.58203125e-01, -3.57421875e-01, -1.21093750e-01,\n",
       "        1.15722656e-01,  9.08203125e-02,  1.40625000e-01,  1.60156250e-01,\n",
       "       -4.42504883e-03,  5.34667969e-02,  2.28515625e-01,  1.88476562e-01,\n",
       "       -3.88183594e-02, -2.53906250e-01, -1.74804688e-01,  9.81445312e-02,\n",
       "        1.08642578e-02,  1.41601562e-01,  7.81250000e-03,  1.36718750e-01,\n",
       "       -2.08007812e-01, -3.41796875e-02, -2.50000000e-01,  1.25976562e-01,\n",
       "        1.57226562e-01,  3.31115723e-03, -1.51367188e-01, -6.98242188e-02,\n",
       "       -1.40625000e-01,  2.06054688e-01, -3.54003906e-02,  1.57226562e-01,\n",
       "        5.83496094e-02, -3.58886719e-02,  2.12890625e-01, -1.13769531e-01,\n",
       "        1.41601562e-01, -1.29394531e-02,  9.13085938e-02, -3.95507812e-02,\n",
       "        9.76562500e-02, -2.69775391e-02,  1.30004883e-02, -1.30859375e-01,\n",
       "        3.32031250e-01, -3.53515625e-01, -5.44433594e-02, -2.50244141e-02,\n",
       "       -1.42578125e-01,  6.49414062e-02,  5.54199219e-02, -4.83398438e-02,\n",
       "       -1.12304688e-01, -1.32812500e-01, -6.73828125e-02, -1.41601562e-01,\n",
       "       -2.05078125e-01, -1.29882812e-01, -1.04003906e-01, -8.10546875e-02,\n",
       "       -1.67968750e-01,  1.63085938e-01, -1.13769531e-01, -5.17578125e-02,\n",
       "        7.61718750e-02,  3.59375000e-01,  1.04003906e-01,  3.59375000e-01,\n",
       "       -8.74023438e-02,  6.54296875e-02, -1.09863281e-02, -1.88476562e-01,\n",
       "       -6.59179688e-02,  2.30468750e-01, -2.96875000e-01,  6.59179688e-03,\n",
       "        1.49414062e-01, -1.73828125e-01,  1.31835938e-01,  2.36328125e-01,\n",
       "       -9.22851562e-02,  1.70898438e-01, -1.70898438e-02,  3.12500000e-02,\n",
       "       -3.37219238e-03,  9.66796875e-02, -2.61718750e-01, -1.84326172e-02,\n",
       "       -1.85546875e-01,  1.24023438e-01,  3.00781250e-01,  2.43164062e-01,\n",
       "        3.06640625e-01, -3.28125000e-01, -5.05371094e-02,  1.01562500e-01,\n",
       "        7.86132812e-02, -1.44531250e-01, -1.25976562e-01, -2.41699219e-02,\n",
       "        2.94921875e-01, -1.50390625e-01, -3.97949219e-02,  2.75390625e-01,\n",
       "        1.26953125e-01, -9.86328125e-02, -1.39648438e-01,  2.52685547e-02,\n",
       "       -8.54492188e-02, -1.72119141e-02,  9.17968750e-02,  1.39648438e-01,\n",
       "       -2.39257812e-01, -2.11914062e-01, -2.21679688e-01,  1.53320312e-01,\n",
       "       -1.58691406e-02, -2.00195312e-01, -2.07519531e-02,  3.58886719e-02,\n",
       "       -6.96629286e-07, -2.13867188e-01,  2.00195312e-01, -1.09375000e-01,\n",
       "       -5.15136719e-02,  6.22558594e-02, -3.22265625e-01, -7.86132812e-02,\n",
       "        5.02929688e-02,  7.08007812e-02,  1.20117188e-01, -1.79687500e-01,\n",
       "        1.59179688e-01, -1.02233887e-03, -3.49609375e-01,  1.25000000e-01,\n",
       "        6.44531250e-02,  8.10546875e-02, -3.39355469e-02,  7.42187500e-02,\n",
       "       -3.08837891e-02, -1.38671875e-01, -3.19824219e-02,  1.99218750e-01,\n",
       "        1.25000000e-01,  5.68847656e-02, -1.67968750e-01,  1.30859375e-01,\n",
       "        2.90527344e-02, -1.49536133e-02, -1.39648438e-01,  4.07714844e-02,\n",
       "       -1.05590820e-02, -1.74804688e-01,  2.12890625e-01, -1.41601562e-01,\n",
       "        2.30712891e-02, -3.36914062e-02, -8.78906250e-02, -6.64062500e-02,\n",
       "       -6.93359375e-02, -7.42187500e-02,  7.03125000e-02, -2.01416016e-02,\n",
       "       -1.26953125e-01, -3.63769531e-02,  5.93261719e-02,  1.18164062e-01,\n",
       "       -6.34765625e-03, -7.42187500e-02,  3.19824219e-02,  6.68945312e-02,\n",
       "       -2.27539062e-01,  6.54296875e-02,  1.79443359e-02,  1.46484375e-01,\n",
       "       -5.49316406e-02, -1.15234375e-01, -2.16796875e-01,  8.74023438e-02,\n",
       "        2.61718750e-01,  1.54296875e-01,  6.71386719e-03, -2.78320312e-02,\n",
       "       -4.15039062e-03, -2.09960938e-02, -5.51757812e-02, -9.76562500e-03,\n",
       "       -1.29882812e-01,  1.31835938e-01, -8.42285156e-03,  2.29492188e-01,\n",
       "        1.78710938e-01,  1.94335938e-01,  4.68750000e-02,  2.18505859e-02,\n",
       "       -2.75878906e-02,  1.73828125e-01,  1.33789062e-01,  1.36718750e-01,\n",
       "        3.10546875e-01,  9.39941406e-03,  9.22851562e-02, -2.44140625e-01,\n",
       "       -5.10253906e-02,  7.81250000e-02, -1.43554688e-01,  9.17968750e-02,\n",
       "        2.96630859e-02,  9.46044922e-03, -2.04101562e-01,  1.60156250e-01,\n",
       "        1.43554688e-01, -2.02636719e-02,  2.13623047e-02, -6.98242188e-02,\n",
       "       -3.11279297e-03, -2.52685547e-02, -1.09863281e-01,  1.07910156e-01,\n",
       "       -7.03125000e-02, -1.27929688e-01, -5.07812500e-02,  4.27246094e-02,\n",
       "       -7.32421875e-02, -3.54003906e-02,  8.88671875e-02, -3.02734375e-01],\n",
       "      dtype=float32)"
      ]
     },
     "execution_count": 16,
     "metadata": {},
     "output_type": "execute_result"
    }
   ],
   "source": [
    "w2v['happy']"
   ]
  },
  {
   "cell_type": "code",
   "execution_count": 17,
   "id": "8b5decf7",
   "metadata": {},
   "outputs": [
    {
     "data": {
      "text/plain": [
       "[('glad', 0.7408890724182129),\n",
       " ('pleased', 0.6632170677185059),\n",
       " ('ecstatic', 0.6626912355422974),\n",
       " ('overjoyed', 0.6599286794662476),\n",
       " ('thrilled', 0.6514049172401428),\n",
       " ('satisfied', 0.6437949538230896),\n",
       " ('proud', 0.636042058467865),\n",
       " ('delighted', 0.627237856388092),\n",
       " ('disappointed', 0.6269949674606323),\n",
       " ('excited', 0.6247665286064148)]"
      ]
     },
     "execution_count": 17,
     "metadata": {},
     "output_type": "execute_result"
    }
   ],
   "source": [
    "# 'happy'와 가장 유사한 단어\n",
    "w2v.most_similar(positive=['happy'])"
   ]
  },
  {
   "cell_type": "code",
   "execution_count": 18,
   "id": "60ad474f",
   "metadata": {},
   "outputs": [
    {
     "data": {
      "text/plain": [
       "[('relatives', 0.6662653088569641),\n",
       " ('familiy', 0.6517067551612854),\n",
       " ('families', 0.6252894997596741),\n",
       " ('siblings', 0.6140849590301514),\n",
       " ('friends', 0.6128394603729248),\n",
       " ('mother', 0.6065612435340881),\n",
       " ('aunt', 0.5811319947242737),\n",
       " ('grandparents', 0.5762072205543518),\n",
       " ('father', 0.5717043876647949),\n",
       " ('Family', 0.5672314763069153)]"
      ]
     },
     "execution_count": 18,
     "metadata": {},
     "output_type": "execute_result"
    }
   ],
   "source": [
    "w2v.most_similar(positive=['family'])"
   ]
  },
  {
   "cell_type": "code",
   "execution_count": 19,
   "id": "05eb5ff7",
   "metadata": {},
   "outputs": [
    {
     "data": {
      "text/plain": [
       "[('elementary', 0.7868632078170776),\n",
       " ('schools', 0.7411909103393555),\n",
       " ('elementary_schools', 0.6597153544425964),\n",
       " ('kindergarten', 0.6529811024665833),\n",
       " ('eighth_grade', 0.6488089561462402),\n",
       " ('School', 0.6477997303009033),\n",
       " ('teacher', 0.63824063539505),\n",
       " ('students', 0.6301522850990295),\n",
       " ('classroom', 0.6281620264053345),\n",
       " ('Schools', 0.6172096133232117)]"
      ]
     },
     "execution_count": 19,
     "metadata": {},
     "output_type": "execute_result"
    }
   ],
   "source": [
    "w2v.most_similar(positive=['school'])"
   ]
  },
  {
   "cell_type": "code",
   "execution_count": 20,
   "id": "4606aea7",
   "metadata": {},
   "outputs": [
    {
     "data": {
      "text/plain": [
       "1.2624874"
      ]
     },
     "execution_count": 20,
     "metadata": {},
     "output_type": "execute_result"
    }
   ],
   "source": [
    "target_X = ['science', 'technology', 'physics', 'chemistry', 'Einstein', 'NASA', 'experiment', 'astronomy']\n",
    "target_Y = ['poetry', 'art', 'Shakespeare', 'dance', 'literature', 'novel', 'symphony', 'drama']\n",
    "attribute_A = ['brother', 'father', 'uncle', 'grandfather', 'son', 'he', 'his', 'him']\n",
    "attribute_B = ['sister', 'mother', 'aunt', 'grandmother', 'daughter', 'she', 'hers', 'her']\n",
    "\n",
    "X = np.array([w2v[word] for word in target_X])\n",
    "Y = np.array([w2v[word] for word in target_Y])\n",
    "A = np.array([w2v[word] for word in attribute_A])\n",
    "B = np.array([w2v[word] for word in attribute_B])\n",
    "\n",
    "weat_score(X, Y, A, B)\n",
    "#1.2624874"
   ]
  },
  {
   "cell_type": "code",
   "execution_count": 21,
   "id": "b2b4d5ce",
   "metadata": {},
   "outputs": [
    {
     "data": {
      "text/plain": [
       "1.6909266"
      ]
     },
     "execution_count": 21,
     "metadata": {},
     "output_type": "execute_result"
    }
   ],
   "source": [
    "target_X = ['pizza', 'coke', 'hamburger', 'ham', 'ramen', 'icecream', 'candy']\n",
    "target_Y = ['salad', 'fruit', 'vegetable', 'herb', 'root', 'greens', 'wholesome']\n",
    "attribute_A = ['junk', 'canned', 'convenience', 'frozen', 'fast']\n",
    "attribute_B = ['health', 'beneficial', 'good', 'nourishing', 'nutritious']\n",
    "\n",
    "X = np.array([w2v[word] for word in target_X])\n",
    "Y = np.array([w2v[word] for word in target_Y])\n",
    "A = np.array([w2v[word] for word in attribute_A])\n",
    "B = np.array([w2v[word] for word in attribute_B])\n",
    "\n",
    "weat_score(X, Y, A, B)\n",
    "#1.6909266"
   ]
  },
  {
   "cell_type": "markdown",
   "id": "7aa6be1f",
   "metadata": {},
   "source": [
    "인스턴트 식품의 예시와 인스턴트를 의미하는 단어가 가까움"
   ]
  },
  {
   "cell_type": "code",
   "execution_count": 22,
   "id": "56730ef6",
   "metadata": {},
   "outputs": [
    {
     "data": {
      "text/plain": [
       "0.8629204"
      ]
     },
     "execution_count": 22,
     "metadata": {},
     "output_type": "execute_result"
    }
   ],
   "source": [
    "target_X = ['Russian', 'forces',  'missile', 'strikes',  'Ukraine',  'Kharkiv', 'President']\n",
    "target_Y = ['Persians', 'Alexander',  'Greek', 'culture', 'Roman', 'province', 'Christians']\n",
    "attribute_A = ['LNG',  'pipelines',  'gas', 'liquid',  'ships', 'cubic', 'meters', 'Europe', 'Atlantic']\n",
    "attribute_B = ['red', 'carpet', 'Tokyo', 'Edition', 'Hotel', 'Koizumi', 'sculptural', 'ballgowns', 'suit']\n",
    "    \n",
    "X = np.array([w2v[word] for word in target_X])\n",
    "Y = np.array([w2v[word] for word in target_Y])\n",
    "A = np.array([w2v[word] for word in attribute_A])\n",
    "B = np.array([w2v[word] for word in attribute_B])\n",
    "\n",
    "weat_score(X, Y, A, B)\n",
    "#0.86"
   ]
  },
  {
   "cell_type": "code",
   "execution_count": 23,
   "id": "2bb1b6e9",
   "metadata": {},
   "outputs": [
    {
     "data": {
      "text/plain": [
       "0.8629204"
      ]
     },
     "execution_count": 23,
     "metadata": {},
     "output_type": "execute_result"
    }
   ],
   "source": [
    "target_X = ['Russian', 'forces',  'missile', 'strikes',  'Ukraine',  'Kharkiv', 'President']\n",
    "target_Y = ['Persians', 'Alexander',  'Greek', 'culture', 'Roman', 'province', 'Christians']\n",
    "attribute_A = ['LNG',  'pipelines',  'gas', 'liquid',  'ships', 'cubic', 'meters', 'Europe', 'Atlantic']\n",
    "attribute_B = ['red', 'carpet', 'Tokyo', 'Edition', 'Hotel', 'Koizumi', 'sculptural', 'ballgowns', 'suit']\n",
    "    \n",
    "X = np.array([w2v[word] for word in target_X])\n",
    "Y = np.array([w2v[word] for word in target_Y])\n",
    "A = np.array([w2v[word] for word in attribute_A])\n",
    "B = np.array([w2v[word] for word in attribute_B])\n",
    "\n",
    "weat_score(X, Y, A, B)"
   ]
  },
  {
   "cell_type": "code",
   "execution_count": 24,
   "id": "66807266",
   "metadata": {},
   "outputs": [
    {
     "name": "stdout",
     "output_type": "stream",
     "text": [
      "삭제 완료\n"
     ]
    }
   ],
   "source": [
    "#메모리를 다시 비워줍시다.\n",
    "del w2v\n",
    "print(\"삭제 완료\")"
   ]
  },
  {
   "cell_type": "markdown",
   "id": "eb617fbe",
   "metadata": {},
   "source": [
    "### ****6-6. 직접 만드는 Word Embedding에 WEAT 적용(1)****\n",
    "\n",
    "형태소 분석기를 이용하여 품사가 명사인 경우, 해당 단어를 추출하기\n",
    "추출된 결과로 embedding model 만들기\n",
    "TF/IDF로 해당 데이터를 가장 잘 표현하는 단어 셋 만들기\n",
    "embedding model과 단어 셋으로 WEAT score 구해보기\n",
    "\n",
    "****1. 형태소 분석기를 이용하여 품사가 명사인 경우 해당 단어를 추출하기****\n",
    "\n",
    "synopsis.txt(대략 17MB) - 2001년부터 2019년 8월까지 제작된 영화들의 시놉시스 정보"
   ]
  },
  {
   "cell_type": "code",
   "execution_count": 25,
   "id": "0608f0a6",
   "metadata": {},
   "outputs": [],
   "source": [
    "# $ wget https://aiffelstaticprd.blob.core.windows.net/media/documents/synopsis.zip\n",
    "# $ mv synopsis.zip ~/aiffel/weat\n",
    "# $ cd ~/aiffel/weat && unzip synopsis.zip"
   ]
  },
  {
   "cell_type": "code",
   "execution_count": 26,
   "id": "72b9bfef",
   "metadata": {},
   "outputs": [
    {
     "name": "stdout",
     "output_type": "stream",
     "text": [
      "사운드 엔지니어 상우(유지태 분)는 치매에 걸린 할머니(백성희 분)와\n",
      " 젊은 시절 상처한 한 아버지(박인환 분), 고모(신신애 분)와 함께 살고 있다.\n",
      " 어느 겨울 그는 지방 방송국 라디오 PD 은수(이영애 분)를 만난다.\n",
      " 자연의 소리를 채집해 틀어주는 라디오 프로그램을 준비하는 은수는 상우와 녹음 여행을 떠난다.\n",
      " 자연스레 가까워지는 두 사람은 어느 날, 은수의 아파트에서 밤을 보낸다.\n",
      " 너무 쉽게 사랑에 빠진 두 사람... 상우는 주체할 수 없을 정도로 그녀에게 빨려든다.\n",
      " 그러나 겨울에 만난 두 사람의 관계는 봄을 지나 여름을 맞이하면서 삐걱거린다.\n",
      " 이혼 경험이 있는 은수는 상우에게 결혼할 생각이 없다며 부담스러운 표정을 내비친다.\n",
      " \"어떻게 사랑이 변하니?...\"라고 묻는 상우에게 은수는 그저 \"헤어져\" 라고 단호하게 말한다.\n",
      " 영원히 변할 것 같지 않던 사랑이 변하고, 그 사실을 받아들이지 못하는 상우는 어찌 할 바를 모른다.\n",
      " 은수를 잊지 못하는 상우는 미련과 집착의 감정을 이기지 못하고 서울과 강릉을 오간다.\n",
      "유사 이래 연령, 성별, 빈부의 차이와 정치적인 입장을 불문하고 일거에 국민을 통합해 온 '애국심'이라는 성역에 일침을 가하는 다큐멘터리. 재작년 전국 민족민주 유가족협의회의 장기농성을 다룬 인상적인 다큐멘터리 <민들레>를 만들었던 독립영화집단 '빨간 눈사람'이 우리 사회 구석구석을 발빠르게 돌아다니며 애국심과 민족주의가 강요되는 현장을 발굴하여 카메라에 담았다. 박홍 서강대 명예총장, 이도형 '한국논단' 발행인, 축구해설자 신문선, 홍세화, 박노해 등 사회 각계의 '스타'들이 등장해 저마다의 확고한 신념을 성토한다. 감독 이경순과 최하동하는 이 작품을 위해 3년간 백여 명을 인터뷰했다고 한다. 2001 올해의 독립영화상 수상.\n",
      " 민족과 국가란 공동체에서 부단히 권력과 부를 얻는 자, 나아가 민족과 국가란 공동체에서 얻은 신분과 부귀를 영원히 그의 자손에게 대물림하려는 자, 그래서 민족과 국가란 공동체를 부단히 유지해야만 하는 자, 따라서 민족과 국가란 공동체의 당위성과 개인의 가치를 초월하는 그 존엄성을 끝도 없이 창조하고 되뇌어야 하는 자, 종국에는 민족과 국가란 공동체에 속해 있다고 태내에서부터 세뇌된 모든 이들의 삶과 행동에서 영원히 자기복제되는 순환의 고리, 영생하는 애국의 원동력은 그 순환의 골에서 온다.\n",
      "엽기적인 살인사건이 발생한 장소를 관광하는 투어팀. 그 팀에서 관광객들은 살인사건과 관련하여 히스테리컬한 반응을 보이는데 과연 이들의 정체는? (Tourists see whrer a murder take place. They respond hysterically to the murder…what are they?)\n",
      " 제46회 발라돌리드 국제영화제 (2001, 스페인)\n",
      "착하지만 엉뚱한 태희(배두나 분), 예쁜 깍쟁이 혜주(이요원 분), 그림을 잘 그리는 지영(옥지영 분), 명랑한 쌍둥이 비류(이은실 분)와 온조(이은주 분)는 단짝친구들. 늘 함께였던 그들이지만 스무 살이 되면서 길이 달라진다. 증권회사에 입사한 혜주는 성공한 커리어우먼의 야심을 키우고 미술에 재능이 있는 지영은 유학을 꿈꾼다. 한편 태희는 봉사활동에서 알게 된 뇌성마비 시인을 좋아하는데...\n",
      "  어느 날 지영이 길 잃은 새끼 고양이 티티를 만남면서 스무 살 그녀들의 삶에 고양이 한 마리가 끼어들게 된다. 혼자 있길 좋아하고, 쉽게 마음을 열지 않는 신비로운 동물 고양이. 고양이를 닮은 스무 살 그녀들. 고양이 티티와 함께 한 시간동안 삶은 예상못한 방향으로 흘러가지만 마침내 그녀들만의 해결책을 찾게 되는데... 사랑스런 몽상가 태희, 아름다운 야심가 혜주, 신비로운 아웃사이더 지영. 마지막으로 고양이를 부탁받은 사람은 누구일까?\n",
      "인도 등 아시아 식민지에 처음 발을 디딘 뒤 여행하고 “경영”한 이들은 과연 누구였을까? 과거의 이미지들은, 이민과 인종 문제, ‘오리엔탈리즘’이 격렬히 충돌하고 있는 현재와 강력하게 공명한다.\n",
      " [제19회 인디다큐페스티발]\n",
      "홀로 살아가는 미국 할머니와 한국 할머니의 이야기. 공원에서 가끔 마주치게 되는 그들은 비록 언어 소통의 어려움을 겪지만 시간이 흘러감에 따라 서로 가까워져 그들의 외로움과 우정을 공유하게 된다. 겨울이 지나고 봄이 왔을 때 길가의 민들레 홀씨는 삶의 이치를 말해주듯 한 할머니의 주위를 맴돈다. (Two elderly widows, an American and a Korean, frequent the same park in Philadelphia and attempt a friendship, though the Korean widow speaks no English. Driven by loneliness and a spark of hope, they persevere within the limits of body language, and the outcome poses a question of life as fundamental as a flower.)\n"
     ]
    }
   ],
   "source": [
    "import os\n",
    "\n",
    "synopsis_dir = Path.joinpath(data_dir,'synopsis.txt')\n",
    "\n",
    "# with open(os.getenv('HOME')+'/aiffel/weat/synopsis.txt', 'r') as file:\n",
    "with open(synopsis_dir, 'r', encoding='UTF-8') as file:\n",
    "\n",
    "    for i in range(20):        \n",
    "        print(file.readline(), end='')"
   ]
  },
  {
   "cell_type": "code",
   "execution_count": 27,
   "id": "d381a09e",
   "metadata": {},
   "outputs": [],
   "source": [
    "# $ pip install konlpy"
   ]
  },
  {
   "cell_type": "code",
   "execution_count": 28,
   "id": "b20a5bfc",
   "metadata": {},
   "outputs": [
    {
     "name": "stdout",
     "output_type": "stream",
     "text": [
      "슝~\n"
     ]
    }
   ],
   "source": [
    "# 약 15분정도 걸립니다.\n",
    "from konlpy.tag import Okt\n",
    "okt = Okt()\n",
    "tokenized = []\n",
    "\n",
    "# with open(os.getenv('HOME')+'/aiffel/weat/synopsis.txt', 'r') as file:\n",
    "with open(synopsis_dir, 'r', encoding='UTF-8') as file:\n",
    "    while True:\n",
    "        line = file.readline()\n",
    "        if not line: break\n",
    "        words = okt.pos(line, stem=True, norm=True)\n",
    "        res = []\n",
    "        for w in words:\n",
    "            if w[1] in [\"Noun\"]:      # \"Adjective\", \"Verb\" 등을 포함할 수도 있습니다.\n",
    "                res.append(w[0])    # 명사일 때만 tokenized 에 저장하게 됩니다. \n",
    "        tokenized.append(res)\n",
    "\n",
    "print(\"슝~\")"
   ]
  },
  {
   "cell_type": "code",
   "execution_count": 29,
   "id": "55f97fc7",
   "metadata": {},
   "outputs": [
    {
     "name": "stdout",
     "output_type": "stream",
     "text": [
      "71156\n"
     ]
    }
   ],
   "source": [
    "print(len(tokenized))"
   ]
  },
  {
   "cell_type": "markdown",
   "id": "da4bd3b9",
   "metadata": {},
   "source": [
    "2. 추출된 결과로 embedding model 만들기"
   ]
  },
  {
   "cell_type": "code",
   "execution_count": 30,
   "id": "605100bf",
   "metadata": {},
   "outputs": [
    {
     "data": {
      "text/plain": [
       "[('작품', 0.8913386464118958),\n",
       " ('다큐멘터리', 0.8423609137535095),\n",
       " ('영화로', 0.8113700151443481),\n",
       " ('드라마', 0.8073851466178894),\n",
       " ('영상', 0.7853281497955322),\n",
       " ('감동', 0.7805281281471252),\n",
       " ('주제', 0.7801504731178284),\n",
       " ('형식', 0.7801069617271423),\n",
       " ('코미디', 0.777069091796875),\n",
       " ('실화', 0.7769163250923157)]"
      ]
     },
     "execution_count": 30,
     "metadata": {},
     "output_type": "execute_result"
    }
   ],
   "source": [
    "from gensim.models import Word2Vec\n",
    "\n",
    "# tokenized에 담긴 데이터를 가지고 나만의 Word2Vec을 생성합니다. (Gensim 4.0 기준)\n",
    "# model = Word2Vec(tokenized, vector_size=100, window=5, min_count=3, sg=0)  \n",
    "\n",
    "model = Word2Vec.load(\"word2vec.model\")\n",
    "\n",
    "\n",
    "model.wv.most_similar(positive=['영화'])\n",
    "\n",
    "# Gensim 3.X 에서는 아래와 같이 생성합니다. \n",
    "# model = Word2Vec(tokenized, size=100, window=5, min_count=3, sg=0)  \n",
    "# model.most_similar(positive=['영화'])"
   ]
  },
  {
   "cell_type": "code",
   "execution_count": 31,
   "id": "e8f20cc2",
   "metadata": {},
   "outputs": [
    {
     "data": {
      "text/plain": [
       "[('진심', 0.6978300213813782),\n",
       " ('행복', 0.6966670155525208),\n",
       " ('만남', 0.6951174139976501),\n",
       " ('애정', 0.6918906569480896),\n",
       " ('첫사랑', 0.6837601065635681),\n",
       " ('가슴', 0.6734590530395508),\n",
       " ('우정', 0.6706499457359314),\n",
       " ('감정', 0.6698275208473206),\n",
       " ('운명', 0.6689521670341492),\n",
       " ('아픔', 0.6689003109931946)]"
      ]
     },
     "execution_count": 31,
     "metadata": {},
     "output_type": "execute_result"
    }
   ],
   "source": [
    "model.wv.most_similar(positive=['사랑'])"
   ]
  },
  {
   "cell_type": "code",
   "execution_count": 32,
   "id": "3bf7eb28",
   "metadata": {},
   "outputs": [
    {
     "data": {
      "text/plain": [
       "[('시나리오', 0.8784323334693909),\n",
       " ('오페라', 0.8727848529815674),\n",
       " ('영화감독', 0.8714578747749329),\n",
       " ('영감', 0.8705026507377625),\n",
       " ('배우', 0.8655096888542175),\n",
       " ('뮤지션', 0.864478349685669),\n",
       " ('캐스팅', 0.8566581606864929),\n",
       " ('각색', 0.8530789613723755),\n",
       " ('곡', 0.8524932861328125),\n",
       " ('데뷔', 0.8522984385490417)]"
      ]
     },
     "execution_count": 32,
     "metadata": {},
     "output_type": "execute_result"
    }
   ],
   "source": [
    "model.wv.most_similar(positive=['연극'])"
   ]
  },
  {
   "cell_type": "markdown",
   "id": "3ac52d57",
   "metadata": {},
   "source": [
    "### ****6-7. 직접 만드는 Word Embedding에 WEAT 적용(2)****  \n",
    "\n",
    "****3. TF-IDF로 해당 데이터를 가장 잘 표현하는 단어 셋 만들기****  \n",
    "\n",
    "**KOBIS에서 제공한 정보를 기준으로**  \n",
    "\n",
    "**영화 구분**  \n",
    "synopsis_art.txt : 예술영화  \n",
    "synopsis_gen.txt : 일반영화(상업영화)  \n",
    "그 외는 독립영화 등으로 분류됩니다.  "
   ]
  },
  {
   "cell_type": "markdown",
   "id": "266fd303",
   "metadata": {},
   "source": [
    "WEAT score 계산  \n",
    "\n",
    "예술영화와 일반영화(상업영화)라는 영화구분을 target  \n",
    "\n",
    "드라마 장르와 액션 장르라는 장르구분을 attribute  \n",
    "\n",
    "'synopsis_art.txt', 'synopsis_gen.txt' 두 파일을 읽고, 위에서 했던 것과 마찬가지로 명사에 대해서만 추출하여 art, gen 변수에 할당"
   ]
  },
  {
   "cell_type": "code",
   "execution_count": 33,
   "id": "6c9c738d",
   "metadata": {},
   "outputs": [],
   "source": [
    "import os\n",
    "from sklearn.feature_extraction.text import TfidfVectorizer\n",
    "import numpy as np\n",
    "from konlpy.tag import Okt\n",
    "\n",
    "art_txt = 'synopsis_art.txt'\n",
    "gen_txt = 'synopsis_gen.txt'\n",
    "\n",
    "def read_token(file_name):\n",
    "    okt = Okt()\n",
    "    result = []\n",
    "#     with open(os.getenv('HOME')+'/aiffel/weat/'+file_name, 'r') as fread: \n",
    "    with open(Path.joinpath(data_dir,file_name), 'r', encoding='UTF-8') as fread: \n",
    "        print(file_name, '파일을 읽고 있습니다.')\n",
    "        while True:\n",
    "            line = fread.readline() \n",
    "            if not line: break \n",
    "            tokenlist = okt.pos(line, stem=True, norm=True) \n",
    "            for word in tokenlist:\n",
    "                if word[1] in [\"Noun\"]:#, \"Adjective\", \"Verb\"]:\n",
    "                    result.append((word[0])) \n",
    "    return ' '.join(result)"
   ]
  },
  {
   "cell_type": "code",
   "execution_count": 34,
   "id": "58dabf04",
   "metadata": {},
   "outputs": [
    {
     "name": "stdout",
     "output_type": "stream",
     "text": [
      "synopsis_art.txt 파일을 읽고 있습니다.\n",
      "synopsis_gen.txt 파일을 읽고 있습니다.\n"
     ]
    }
   ],
   "source": [
    "# 2개의 파일을 처리하는데 10분 가량 걸립니다. \n",
    "art = read_token(art_txt)\n",
    "gen = read_token(gen_txt)"
   ]
  },
  {
   "cell_type": "markdown",
   "id": "108ff4a4",
   "metadata": {},
   "source": [
    "**TF-IDF방식을 사용**\n",
    "\n",
    "코퍼스에서 자주 나타나는(TF가 높은) 단어이지만, 다른 코퍼스에까지 두루 걸쳐 나오지는 않는(IDF가 높은) 단어를 선정\n",
    "TF-IDF에 관한 내용이 궁금하신 분은  위키독스 를 참고\n",
    "https://wikidocs.net/31698"
   ]
  },
  {
   "cell_type": "code",
   "execution_count": 35,
   "id": "85134e09",
   "metadata": {},
   "outputs": [
    {
     "name": "stdout",
     "output_type": "stream",
     "text": [
      "(2, 41082)\n"
     ]
    }
   ],
   "source": [
    "vectorizer = TfidfVectorizer()\n",
    "X = vectorizer.fit_transform([art, gen])\n",
    "\n",
    "print(X.shape)"
   ]
  },
  {
   "cell_type": "code",
   "execution_count": 36,
   "id": "605a2ec6",
   "metadata": {},
   "outputs": [
    {
     "name": "stdout",
     "output_type": "stream",
     "text": [
      "예술영화를 대표하는 단어들:\n",
      "그녀, 자신, 시작, 위해, 사랑, 사람, 영화, 친구, 남자, 가족, 이야기, 마을, 사건, 마음, 세상, 아버지, 아이, 엄마, 모든, 여자, 대한, 서로, 과연, 다시, 시간, 아들, 소녀, 아내, 다른, 사이, 영화제, 세계, 사실, 하나, 점점, 남편, 감독, 여행, 인생, 발견, 모두, 순간, 우리, 가장, 마지막, 생활, 아빠, 모습, 통해, 죽음, 기억, 비밀, 학교, 음악, 한편, 소년, 생각, 도시, 명의, 사고, 결혼, 전쟁, 때문, 위기, 이제, 최고, 이자, 과거, 일상, 경찰, 상황, 간다, 미국, 결심, 운명, 현실, 관계, 지금, 단편, 여인, 하루, 이름, 이후, 준비, 인간, 감정, 만난, 국제, 처음, 충격, 살인, 누구, 동안, 존재, 그린, 어머니, 연인, 계속, 동생, 작품, \n",
      "\n",
      "일반영화를 대표하는 단어들:\n",
      "자신, 그녀, 영화제, 위해, 사람, 시작, 국제, 영화, 친구, 사랑, 남자, 이야기, 대한, 서울, 여자, 사건, 남편, 아이, 가족, 아버지, 다른, 마을, 시간, 엄마, 아들, 모든, 단편, 마음, 사실, 다시, 세계, 모습, 작품, 통해, 생각, 서로, 세상, 발견, 감독, 아내, 관계, 소녀, 사이, 하나, 우리, 애니메이션, 때문, 여성, 죽음, 과연, 점점, 인간, 생활, 한편, 결혼, 상황, 모두, 기억, 명의, 소년, 여행, 가장, 간다, 순간, 이제, 도시, 비밀, 학교, 과거, 가지, 이자, 경찰, 마지막, 미국, 동안, 전쟁, 주인공, 대해, 존재, 현실, 연출, 사고, 살인, 일상, 어머니, 계속, 사회, 인생, 다큐멘터리, 부문, 섹스, 최고, 바로, 동생, 의도, 하루, 위기, 계획, 정체, 한국, "
     ]
    }
   ],
   "source": [
    "m1 = X[0].tocoo()   # art를 TF-IDF로 표현한 sparse matrix를 가져옵니다. \n",
    "m2 = X[1].tocoo()   # gen을 TF-IDF로 표현한 sparse matrix를 가져옵니다. \n",
    "\n",
    "w1 = [[i, j] for i, j in zip(m1.col, m1.data)]\n",
    "w2 = [[i, j] for i, j in zip(m2.col, m2.data)]\n",
    "\n",
    "w1.sort(key=lambda x: x[1], reverse=True)   #art를 구성하는 단어들을 TF-IDF가 높은 순으로 정렬합니다. \n",
    "w2.sort(key=lambda x: x[1], reverse=True)   #gen을 구성하는 단어들을 TF-IDF가 높은 순으로 정렬합니다. \n",
    "\n",
    "print('예술영화를 대표하는 단어들:')\n",
    "for i in range(100):\n",
    "    print(vectorizer.get_feature_names_out()[w1[i][0]], end=', ')\n",
    "\n",
    "print('\\n')\n",
    "    \n",
    "print('일반영화를 대표하는 단어들:')\n",
    "for i in range(100):\n",
    "    print(vectorizer.get_feature_names_out()[w2[i][0]], end=', ')"
   ]
  },
  {
   "cell_type": "code",
   "execution_count": 37,
   "id": "7b9ecb03",
   "metadata": {},
   "outputs": [],
   "source": [
    "n = 15\n",
    "w1_, w2_ = [], []\n",
    "for i in range(100):\n",
    "    w1_.append(vectorizer.get_feature_names_out()[w1[i][0]])\n",
    "    w2_.append(vectorizer.get_feature_names_out()[w2[i][0]])\n",
    "\n",
    "# w1에만 있고 w2에는 없는, 예술영화를 잘 대표하는 단어를 15개 추출한다.\n",
    "target_art, target_gen = [], []\n",
    "for i in range(100):\n",
    "    if (w1_[i] not in w2_) and (w1_[i] in model.wv): target_art.append(w1_[i])\n",
    "    if len(target_art) == n: break \n",
    "\n",
    "# w2에만 있고 w1에는 없는, 일반영화를 잘 대표하는 단어를 15개 추출한다.\n",
    "for i in range(100):\n",
    "    if (w2_[i] not in w1_) and (w2_[i] in model.wv): target_gen.append(w2_[i])\n",
    "    if len(target_gen) == n: break"
   ]
  },
  {
   "cell_type": "code",
   "execution_count": 38,
   "id": "692e6c86",
   "metadata": {},
   "outputs": [
    {
     "name": "stdout",
     "output_type": "stream",
     "text": [
      "['아빠', '음악', '결심', '운명', '지금', '여인', '이름', '이후', '준비', '감정', '만난', '처음', '충격', '누구', '그린']\n"
     ]
    }
   ],
   "source": [
    "print(target_art)"
   ]
  },
  {
   "cell_type": "code",
   "execution_count": 39,
   "id": "8d15f3b3",
   "metadata": {},
   "outputs": [
    {
     "name": "stdout",
     "output_type": "stream",
     "text": [
      "['아빠', '음악', '결심', '운명', '지금', '여인', '이름', '이후', '준비', '감정', '만난', '처음', '충격', '누구', '그린']\n"
     ]
    }
   ],
   "source": [
    "print(target_art)"
   ]
  },
  {
   "cell_type": "code",
   "execution_count": 40,
   "id": "3e0304c9",
   "metadata": {},
   "outputs": [],
   "source": [
    "genre_txt = ['synopsis_drama.txt', 'synopsis_romance.txt', 'synopsis_action.txt', 'synopsis_comedy.txt', 'synopsis_war.txt', 'synopsis_horror.txt']\n",
    "genre_name = ['드라마', '멜로로맨스', '액션', '코미디', '전쟁', '공포(호러)']\n"
   ]
  },
  {
   "cell_type": "code",
   "execution_count": 41,
   "id": "722abe49",
   "metadata": {},
   "outputs": [
    {
     "name": "stdout",
     "output_type": "stream",
     "text": [
      "synopsis_drama.txt 파일을 읽고 있습니다.\n",
      "synopsis_romance.txt 파일을 읽고 있습니다.\n",
      "synopsis_action.txt 파일을 읽고 있습니다.\n",
      "synopsis_comedy.txt 파일을 읽고 있습니다.\n",
      "synopsis_war.txt 파일을 읽고 있습니다.\n",
      "synopsis_horror.txt 파일을 읽고 있습니다.\n"
     ]
    }
   ],
   "source": [
    "# 약 10분정도 걸립니다.\n",
    "genre = []\n",
    "for file_name in genre_txt:\n",
    "    genre.append(read_token(file_name))"
   ]
  },
  {
   "cell_type": "code",
   "execution_count": 42,
   "id": "eb10d9f2",
   "metadata": {},
   "outputs": [
    {
     "name": "stdout",
     "output_type": "stream",
     "text": [
      "(6, 33151)\n"
     ]
    }
   ],
   "source": [
    "vectorizer = TfidfVectorizer()\n",
    "X = vectorizer.fit_transform(genre)\n",
    "\n",
    "print(X.shape)"
   ]
  },
  {
   "cell_type": "code",
   "execution_count": 43,
   "id": "58b1f30e",
   "metadata": {},
   "outputs": [
    {
     "name": "stdout",
     "output_type": "stream",
     "text": [
      "드라마: 자신, 영화제, 그녀, 사람, 사랑, 위해, 영화, 시작, 국제, 남자, 친구, 이야기, 여자, 아버지, 엄마, \n",
      "멜로로맨스: 그녀, 사랑, 자신, 시작, 남자, 남편, 여자, 사람, 친구, 위해, 마음, 섹스, 결혼, 서로, 아내, \n",
      "액션: 위해, 자신, 시작, 조직, 사건, 사람, 그녀, 경찰, 전쟁, 친구, 모든, 목숨, 사실, 세계, 가족, \n",
      "코미디: 그녀, 자신, 시작, 위해, 사랑, 사람, 친구, 영화, 남자, 여자, 영화제, 가족, 과연, 마을, 사건, \n",
      "전쟁: 전쟁, 위해, 전투, 시작, 작전, 독일군, 부대, 독일, 윈터스, 자신, 사람, 공격, 임무, 연합군, 병사, \n",
      "공포(호러): 시작, 위해, 사람, 자신, 친구, 그녀, 사건, 공포, 발견, 죽음, 마을, 남자, 가족, 영화, 하나, \n"
     ]
    }
   ],
   "source": [
    "m = [X[i].tocoo() for i in range(X.shape[0])]\n",
    "\n",
    "w = [[[i, j] for i, j in zip(mm.col, mm.data)] for mm in m]\n",
    "\n",
    "for i in range(len(w)):\n",
    "    w[i].sort(key=lambda x: x[1], reverse=True)\n",
    "attributes = []\n",
    "for i in range(len(w)):\n",
    "    print(genre_name[i], end=': ')\n",
    "    attr = []\n",
    "    j = 0\n",
    "    while (len(attr) < 15):\n",
    "        if vectorizer.get_feature_names_out()[w[i][j][0]] in model.wv:\n",
    "            attr.append(vectorizer.get_feature_names_out()[w[i][j][0]])\n",
    "            print(vectorizer.get_feature_names_out()[w[i][j][0]], end=', ')\n",
    "        j += 1\n",
    "    attributes.append(attr)\n",
    "    print()"
   ]
  },
  {
   "cell_type": "markdown",
   "id": "3b111420",
   "metadata": {},
   "source": [
    "장르를 대표하는 단어들을 추출함\n",
    "\n",
    "****4. embedding model과 단어 셋으로 WEAT score 구해보기****\n",
    "\n",
    "**WEAT_score**"
   ]
  },
  {
   "cell_type": "code",
   "execution_count": 44,
   "id": "2888ce1e",
   "metadata": {},
   "outputs": [
    {
     "name": "stdout",
     "output_type": "stream",
     "text": [
      "슝~\n"
     ]
    }
   ],
   "source": [
    "matrix = [[0 for _ in range(len(genre_name))] for _ in range(len(genre_name))]\n",
    "print(\"슝~\")"
   ]
  },
  {
   "cell_type": "code",
   "execution_count": 45,
   "id": "131744b4",
   "metadata": {},
   "outputs": [],
   "source": [
    "X = np.array([model.wv[word] for word in target_art])\n",
    "Y = np.array([model.wv[word] for word in target_gen])\n",
    "\n",
    "for i in range(len(genre_name)-1):\n",
    "    for j in range(i+1, len(genre_name)):\n",
    "        A = np.array([model.wv[word] for word in attributes[i]])\n",
    "        B = np.array([model.wv[word] for word in attributes[j]])\n",
    "        matrix[i][j] = weat_score(X, Y, A, B)"
   ]
  },
  {
   "cell_type": "code",
   "execution_count": 46,
   "id": "c2386f64",
   "metadata": {},
   "outputs": [
    {
     "name": "stdout",
     "output_type": "stream",
     "text": [
      "드라마 멜로로맨스 -0.841663\n",
      "드라마 액션 -0.007278339\n",
      "드라마 코미디 0.043339785\n",
      "드라마 전쟁 0.4483283\n",
      "드라마 공포(호러) -0.18765403\n",
      "멜로로맨스 액션 0.7778873\n",
      "멜로로맨스 코미디 0.905011\n",
      "멜로로맨스 전쟁 0.8059104\n",
      "멜로로맨스 공포(호러) 0.7545978\n",
      "액션 코미디 0.029422358\n",
      "액션 전쟁 0.57785076\n",
      "액션 공포(호러) -0.2649813\n",
      "코미디 전쟁 0.4933167\n",
      "코미디 공포(호러) -0.33393493\n",
      "전쟁 공포(호러) -0.5721361\n"
     ]
    }
   ],
   "source": [
    "for i in range(len(genre_name)-1):\n",
    "    for j in range(i+1, len(genre_name)):\n",
    "        print(genre_name[i], genre_name[j],matrix[i][j])"
   ]
  },
  {
   "cell_type": "markdown",
   "id": "a9dd1a22",
   "metadata": {},
   "source": [
    "WEAT score가 0.8 이상, -0.8 이하의 경우만 해석  \n",
    "예술영화와 일반영화, 그리고 드라마와 멜로로맨스의 WEAT score의 의미를 해석해보면 예술영화는 멜로로맨스, 일반영화는 드라마와 가깝다고 볼 수 있습니다. 부호가 마이너스이므로 사람의 편향과 반대라는 것을 알 수 있습니다.  \n",
    "예술영화와 일반영화, 그리고 멜로로맨스와 코미디의 WEAT score의 의미를 해석해보면 예술 영화는 멜로로맨스와 가깝고, 코디미는 일반 영화와 가깝다고 볼 수 있습니다.  \n",
    "예술영화와 일반영화, 그리고 멜로로맨스와 전쟁의 WEAT score의 의미를 해석해보면 예술 영화는 멜로로맨스와 가깝고, 전쟁은 일반 영화와 가깝다고 볼 수 있습니다.   "
   ]
  },
  {
   "cell_type": "code",
   "execution_count": 47,
   "id": "2e1044b3",
   "metadata": {},
   "outputs": [
    {
     "name": "stderr",
     "output_type": "stream",
     "text": [
      "C:\\Users\\ami\\anaconda3\\envs\\python38\\lib\\site-packages\\seaborn\\utils.py:95: UserWarning: Glyph 46300 (\\N{HANGUL SYLLABLE DEU}) missing from current font.\n",
      "  fig.canvas.draw()\n",
      "C:\\Users\\ami\\anaconda3\\envs\\python38\\lib\\site-packages\\seaborn\\utils.py:95: UserWarning: Glyph 46972 (\\N{HANGUL SYLLABLE RA}) missing from current font.\n",
      "  fig.canvas.draw()\n",
      "C:\\Users\\ami\\anaconda3\\envs\\python38\\lib\\site-packages\\seaborn\\utils.py:95: UserWarning: Glyph 47560 (\\N{HANGUL SYLLABLE MA}) missing from current font.\n",
      "  fig.canvas.draw()\n",
      "C:\\Users\\ami\\anaconda3\\envs\\python38\\lib\\site-packages\\seaborn\\utils.py:95: UserWarning: Glyph 47708 (\\N{HANGUL SYLLABLE MEL}) missing from current font.\n",
      "  fig.canvas.draw()\n",
      "C:\\Users\\ami\\anaconda3\\envs\\python38\\lib\\site-packages\\seaborn\\utils.py:95: UserWarning: Glyph 47196 (\\N{HANGUL SYLLABLE RO}) missing from current font.\n",
      "  fig.canvas.draw()\n",
      "C:\\Users\\ami\\anaconda3\\envs\\python38\\lib\\site-packages\\seaborn\\utils.py:95: UserWarning: Glyph 47592 (\\N{HANGUL SYLLABLE MAEN}) missing from current font.\n",
      "  fig.canvas.draw()\n",
      "C:\\Users\\ami\\anaconda3\\envs\\python38\\lib\\site-packages\\seaborn\\utils.py:95: UserWarning: Glyph 49828 (\\N{HANGUL SYLLABLE SEU}) missing from current font.\n",
      "  fig.canvas.draw()\n",
      "C:\\Users\\ami\\anaconda3\\envs\\python38\\lib\\site-packages\\seaborn\\utils.py:95: UserWarning: Glyph 50529 (\\N{HANGUL SYLLABLE AEG}) missing from current font.\n",
      "  fig.canvas.draw()\n",
      "C:\\Users\\ami\\anaconda3\\envs\\python38\\lib\\site-packages\\seaborn\\utils.py:95: UserWarning: Glyph 49496 (\\N{HANGUL SYLLABLE SYEON}) missing from current font.\n",
      "  fig.canvas.draw()\n",
      "C:\\Users\\ami\\anaconda3\\envs\\python38\\lib\\site-packages\\seaborn\\utils.py:95: UserWarning: Glyph 53076 (\\N{HANGUL SYLLABLE KO}) missing from current font.\n",
      "  fig.canvas.draw()\n",
      "C:\\Users\\ami\\anaconda3\\envs\\python38\\lib\\site-packages\\seaborn\\utils.py:95: UserWarning: Glyph 48120 (\\N{HANGUL SYLLABLE MI}) missing from current font.\n",
      "  fig.canvas.draw()\n",
      "C:\\Users\\ami\\anaconda3\\envs\\python38\\lib\\site-packages\\seaborn\\utils.py:95: UserWarning: Glyph 46356 (\\N{HANGUL SYLLABLE DI}) missing from current font.\n",
      "  fig.canvas.draw()\n",
      "C:\\Users\\ami\\anaconda3\\envs\\python38\\lib\\site-packages\\seaborn\\utils.py:95: UserWarning: Glyph 51204 (\\N{HANGUL SYLLABLE JEON}) missing from current font.\n",
      "  fig.canvas.draw()\n",
      "C:\\Users\\ami\\anaconda3\\envs\\python38\\lib\\site-packages\\seaborn\\utils.py:95: UserWarning: Glyph 51137 (\\N{HANGUL SYLLABLE JAENG}) missing from current font.\n",
      "  fig.canvas.draw()\n",
      "C:\\Users\\ami\\anaconda3\\envs\\python38\\lib\\site-packages\\seaborn\\utils.py:95: UserWarning: Glyph 44277 (\\N{HANGUL SYLLABLE GONG}) missing from current font.\n",
      "  fig.canvas.draw()\n",
      "C:\\Users\\ami\\anaconda3\\envs\\python38\\lib\\site-packages\\seaborn\\utils.py:95: UserWarning: Glyph 54252 (\\N{HANGUL SYLLABLE PO}) missing from current font.\n",
      "  fig.canvas.draw()\n",
      "C:\\Users\\ami\\anaconda3\\envs\\python38\\lib\\site-packages\\seaborn\\utils.py:95: UserWarning: Glyph 54840 (\\N{HANGUL SYLLABLE HO}) missing from current font.\n",
      "  fig.canvas.draw()\n",
      "C:\\Users\\ami\\anaconda3\\envs\\python38\\lib\\site-packages\\seaborn\\utils.py:95: UserWarning: Glyph 47084 (\\N{HANGUL SYLLABLE REO}) missing from current font.\n",
      "  fig.canvas.draw()\n"
     ]
    },
    {
     "data": {
      "text/plain": [
       "<AxesSubplot:>"
      ]
     },
     "execution_count": 47,
     "metadata": {},
     "output_type": "execute_result"
    },
    {
     "name": "stderr",
     "output_type": "stream",
     "text": [
      "C:\\Users\\ami\\anaconda3\\envs\\python38\\lib\\site-packages\\IPython\\core\\pylabtools.py:151: UserWarning: Glyph 46300 (\\N{HANGUL SYLLABLE DEU}) missing from current font.\n",
      "  fig.canvas.print_figure(bytes_io, **kw)\n",
      "C:\\Users\\ami\\anaconda3\\envs\\python38\\lib\\site-packages\\IPython\\core\\pylabtools.py:151: UserWarning: Glyph 46972 (\\N{HANGUL SYLLABLE RA}) missing from current font.\n",
      "  fig.canvas.print_figure(bytes_io, **kw)\n",
      "C:\\Users\\ami\\anaconda3\\envs\\python38\\lib\\site-packages\\IPython\\core\\pylabtools.py:151: UserWarning: Glyph 47560 (\\N{HANGUL SYLLABLE MA}) missing from current font.\n",
      "  fig.canvas.print_figure(bytes_io, **kw)\n",
      "C:\\Users\\ami\\anaconda3\\envs\\python38\\lib\\site-packages\\IPython\\core\\pylabtools.py:151: UserWarning: Glyph 47708 (\\N{HANGUL SYLLABLE MEL}) missing from current font.\n",
      "  fig.canvas.print_figure(bytes_io, **kw)\n",
      "C:\\Users\\ami\\anaconda3\\envs\\python38\\lib\\site-packages\\IPython\\core\\pylabtools.py:151: UserWarning: Glyph 47196 (\\N{HANGUL SYLLABLE RO}) missing from current font.\n",
      "  fig.canvas.print_figure(bytes_io, **kw)\n",
      "C:\\Users\\ami\\anaconda3\\envs\\python38\\lib\\site-packages\\IPython\\core\\pylabtools.py:151: UserWarning: Glyph 47592 (\\N{HANGUL SYLLABLE MAEN}) missing from current font.\n",
      "  fig.canvas.print_figure(bytes_io, **kw)\n",
      "C:\\Users\\ami\\anaconda3\\envs\\python38\\lib\\site-packages\\IPython\\core\\pylabtools.py:151: UserWarning: Glyph 49828 (\\N{HANGUL SYLLABLE SEU}) missing from current font.\n",
      "  fig.canvas.print_figure(bytes_io, **kw)\n",
      "C:\\Users\\ami\\anaconda3\\envs\\python38\\lib\\site-packages\\IPython\\core\\pylabtools.py:151: UserWarning: Glyph 50529 (\\N{HANGUL SYLLABLE AEG}) missing from current font.\n",
      "  fig.canvas.print_figure(bytes_io, **kw)\n",
      "C:\\Users\\ami\\anaconda3\\envs\\python38\\lib\\site-packages\\IPython\\core\\pylabtools.py:151: UserWarning: Glyph 49496 (\\N{HANGUL SYLLABLE SYEON}) missing from current font.\n",
      "  fig.canvas.print_figure(bytes_io, **kw)\n",
      "C:\\Users\\ami\\anaconda3\\envs\\python38\\lib\\site-packages\\IPython\\core\\pylabtools.py:151: UserWarning: Glyph 53076 (\\N{HANGUL SYLLABLE KO}) missing from current font.\n",
      "  fig.canvas.print_figure(bytes_io, **kw)\n",
      "C:\\Users\\ami\\anaconda3\\envs\\python38\\lib\\site-packages\\IPython\\core\\pylabtools.py:151: UserWarning: Glyph 48120 (\\N{HANGUL SYLLABLE MI}) missing from current font.\n",
      "  fig.canvas.print_figure(bytes_io, **kw)\n",
      "C:\\Users\\ami\\anaconda3\\envs\\python38\\lib\\site-packages\\IPython\\core\\pylabtools.py:151: UserWarning: Glyph 46356 (\\N{HANGUL SYLLABLE DI}) missing from current font.\n",
      "  fig.canvas.print_figure(bytes_io, **kw)\n",
      "C:\\Users\\ami\\anaconda3\\envs\\python38\\lib\\site-packages\\IPython\\core\\pylabtools.py:151: UserWarning: Glyph 51204 (\\N{HANGUL SYLLABLE JEON}) missing from current font.\n",
      "  fig.canvas.print_figure(bytes_io, **kw)\n",
      "C:\\Users\\ami\\anaconda3\\envs\\python38\\lib\\site-packages\\IPython\\core\\pylabtools.py:151: UserWarning: Glyph 51137 (\\N{HANGUL SYLLABLE JAENG}) missing from current font.\n",
      "  fig.canvas.print_figure(bytes_io, **kw)\n",
      "C:\\Users\\ami\\anaconda3\\envs\\python38\\lib\\site-packages\\IPython\\core\\pylabtools.py:151: UserWarning: Glyph 44277 (\\N{HANGUL SYLLABLE GONG}) missing from current font.\n",
      "  fig.canvas.print_figure(bytes_io, **kw)\n",
      "C:\\Users\\ami\\anaconda3\\envs\\python38\\lib\\site-packages\\IPython\\core\\pylabtools.py:151: UserWarning: Glyph 54252 (\\N{HANGUL SYLLABLE PO}) missing from current font.\n",
      "  fig.canvas.print_figure(bytes_io, **kw)\n",
      "C:\\Users\\ami\\anaconda3\\envs\\python38\\lib\\site-packages\\IPython\\core\\pylabtools.py:151: UserWarning: Glyph 54840 (\\N{HANGUL SYLLABLE HO}) missing from current font.\n",
      "  fig.canvas.print_figure(bytes_io, **kw)\n",
      "C:\\Users\\ami\\anaconda3\\envs\\python38\\lib\\site-packages\\IPython\\core\\pylabtools.py:151: UserWarning: Glyph 47084 (\\N{HANGUL SYLLABLE REO}) missing from current font.\n",
      "  fig.canvas.print_figure(bytes_io, **kw)\n"
     ]
    },
    {
     "data": {
      "image/png": "[encoded data removed]",
      "text/plain": [
       "<Figure size 432x288 with 2 Axes>"
      ]
     },
     "metadata": {
      "needs_background": "light"
     },
     "output_type": "display_data"
    }
   ],
   "source": [
    "import numpy as np; \n",
    "import seaborn as sns; \n",
    "\n",
    "np.random.seed(0)\n",
    "\n",
    "# 한글 지원 폰트\n",
    "# sns.set(font='NanumGothic')\n",
    "\n",
    "# 마이너스 부호 \n",
    "\n",
    "plt.rcParams['axes.unicode_minus'] = False\n",
    "\n",
    "ax = sns.heatmap(matrix, xticklabels=genre_name, yticklabels=genre_name, annot=True,  cmap='RdYlGn_r')\n",
    "ax"
   ]
  },
  {
   "cell_type": "markdown",
   "id": "20ccfd1a",
   "metadata": {},
   "source": [
    "# ****6-8. 프로젝트 : 모든 장르 간 편향성 측정해 보기****\n",
    "\n",
    "지금까지 우리는 영화 시놉시스 코퍼스를 가지고 영화 구분과 영화 장르 간에 내재된 편향성을 측정하는 작업을 진행해 보았습니다. 어느 정도는 우리의 상식과 일치하는 편향성이 측정되었을 것입니다.\n",
    "\n",
    "이번에는 모든 장르에 대해 영화 구분과의 편향성 정도를 측정해 보겠습니다. 대부분의 과정은 이전 스텝에서 이미 진행한 내용을 참고해서 동일하게 진행 가능할 것입니다.\n",
    "\n",
    "****라이브러리 버전을 확인해 봅니다****"
   ]
  },
  {
   "cell_type": "code",
   "execution_count": 48,
   "id": "aff34774",
   "metadata": {},
   "outputs": [],
   "source": [
    "import time\n",
    "\n",
    "def logging_time(original_fn):\n",
    "    def wrapper_fn(*args, **kwargs):\n",
    "        start_time = time.time()\n",
    "        result = original_fn(*args, **kwargs)\n",
    "        end_time = time.time()\n",
    "        print(\"WorkingTime[{}]: {} sec\".format(original_fn.__name__, end_time-start_time))\n",
    "        return result\n",
    "    return wrapper_fn\n",
    "\n",
    "# @logging_time"
   ]
  },
  {
   "cell_type": "code",
   "execution_count": 49,
   "id": "b6069217",
   "metadata": {},
   "outputs": [
    {
     "name": "stdout",
     "output_type": "stream",
     "text": [
      "0.6.0\n",
      "4.1.2\n",
      "1.0.2\n",
      "0.11.2\n"
     ]
    }
   ],
   "source": [
    "import konlpy\n",
    "import gensim\n",
    "import sklearn\n",
    "import seaborn\n",
    "\n",
    "print(konlpy.__version__)\n",
    "print(gensim.__version__)\n",
    "print(sklearn.__version__)\n",
    "print(seaborn.__version__)"
   ]
  },
  {
   "cell_type": "markdown",
   "id": "16414f45",
   "metadata": {},
   "source": [
    "STEP 1. 형태소 분석기를 이용하여 품사가 명사인 경우 해당 단어를 추출하기"
   ]
  },
  {
   "cell_type": "code",
   "execution_count": 50,
   "id": "c3076790",
   "metadata": {},
   "outputs": [],
   "source": [
    "import numpy as np\n",
    "from numpy import dot\n",
    "from numpy.linalg import norm\n",
    "from sklearn.decomposition import PCA\n",
    "import matplotlib.pyplot as plt\n",
    "\n",
    "import os\n",
    "from gensim.models import KeyedVectors\n",
    "from gensim.test.utils import common_texts\n",
    "from gensim.models import Word2Vec\n",
    "\n",
    "from konlpy.tag import Okt\n",
    "okt = Okt()\n",
    "tokenized = []\n",
    "\n",
    "from pathlib import Path\n",
    "data_dir = Path.joinpath(Path.cwd(),'data')\n"
   ]
  },
  {
   "cell_type": "code",
   "execution_count": 51,
   "id": "c4474451",
   "metadata": {},
   "outputs": [],
   "source": [
    "## word2vec.model 화일이 만들어지지 않았다면 아래 코드를 실행하세요\n",
    "# synopsis_dir = Path.joinpath(data_dir,'synopsis.txt')\n",
    "# with open(synopsis_dir, 'r', encoding='UTF-8') as file:\n",
    "#     while True:\n",
    "#         line = file.readline()\n",
    "#         if not line: break\n",
    "#         words = okt.pos(line, stem=True, norm=True)\n",
    "#         res = []\n",
    "#         for w in words:\n",
    "#             if w[1] in [\"Noun\"]:      # \"Adjective\", \"Verb\" 등을 포함할 수도 있습니다.\n",
    "#                 res.append(w[0])    # 명사일 때만 tokenized 에 저장하게 됩니다. \n",
    "#         tokenized.append(res)"
   ]
  },
  {
   "cell_type": "code",
   "execution_count": 52,
   "id": "4c151f6d",
   "metadata": {},
   "outputs": [],
   "source": [
    "# print(len(tokenized))"
   ]
  },
  {
   "cell_type": "markdown",
   "id": "1d8e08bf",
   "metadata": {},
   "source": [
    "STEP 2. 추출된 결과로 embedding model 만들기"
   ]
  },
  {
   "cell_type": "code",
   "execution_count": 53,
   "id": "eb666546",
   "metadata": {},
   "outputs": [],
   "source": [
    "from gensim.models import Word2Vec\n",
    "\n",
    "## word2vec.model 화일이 만들어지지 않았다면 아래 코드를 실행하세요\n",
    "## tokenized에 담긴 데이터를 가지고 나만의 Word2Vec을 생성합니다. (Gensim 4.0 기준)\n",
    "## Initialize a model with e.g.:\n",
    "# model = Word2Vec(tokenized, vector_size=100, window=5, min_count=3, sg=0)\n",
    "# model.save(\"word2vec.model\") ### 추가한 코드\n",
    "\n",
    "\n",
    "## word2vec.model 화일을 불러들입니다.\n",
    "model = Word2Vec.load(\"word2vec.model\")"
   ]
  },
  {
   "cell_type": "code",
   "execution_count": 54,
   "id": "c2c3f523",
   "metadata": {},
   "outputs": [
    {
     "data": {
      "text/plain": [
       "[('작품', 0.8913386464118958),\n",
       " ('다큐멘터리', 0.8423609137535095),\n",
       " ('영화로', 0.8113700151443481),\n",
       " ('드라마', 0.8073851466178894),\n",
       " ('영상', 0.7853281497955322),\n",
       " ('감동', 0.7805281281471252),\n",
       " ('주제', 0.7801504731178284),\n",
       " ('형식', 0.7801069617271423),\n",
       " ('코미디', 0.777069091796875),\n",
       " ('실화', 0.7769163250923157)]"
      ]
     },
     "execution_count": 54,
     "metadata": {},
     "output_type": "execute_result"
    }
   ],
   "source": [
    "model.wv.most_similar(positive=['영화'])"
   ]
  },
  {
   "cell_type": "code",
   "execution_count": 55,
   "id": "949ef433",
   "metadata": {},
   "outputs": [
    {
     "data": {
      "text/plain": [
       "[('진심', 0.6978300213813782),\n",
       " ('행복', 0.6966670155525208),\n",
       " ('만남', 0.6951174139976501),\n",
       " ('애정', 0.6918906569480896),\n",
       " ('첫사랑', 0.6837601065635681),\n",
       " ('가슴', 0.6734590530395508),\n",
       " ('우정', 0.6706499457359314),\n",
       " ('감정', 0.6698275208473206),\n",
       " ('운명', 0.6689521670341492),\n",
       " ('아픔', 0.6689003109931946)]"
      ]
     },
     "execution_count": 55,
     "metadata": {},
     "output_type": "execute_result"
    }
   ],
   "source": [
    "model.wv.most_similar(positive=['사랑'])"
   ]
  },
  {
   "cell_type": "code",
   "execution_count": 56,
   "id": "e769365b",
   "metadata": {},
   "outputs": [
    {
     "data": {
      "text/plain": [
       "[('시나리오', 0.8784323334693909),\n",
       " ('오페라', 0.8727848529815674),\n",
       " ('영화감독', 0.8714578747749329),\n",
       " ('영감', 0.8705026507377625),\n",
       " ('배우', 0.8655096888542175),\n",
       " ('뮤지션', 0.864478349685669),\n",
       " ('캐스팅', 0.8566581606864929),\n",
       " ('각색', 0.8530789613723755),\n",
       " ('곡', 0.8524932861328125),\n",
       " ('데뷔', 0.8522984385490417)]"
      ]
     },
     "execution_count": 56,
     "metadata": {},
     "output_type": "execute_result"
    }
   ],
   "source": [
    "model.wv.most_similar(positive=['연극'])"
   ]
  },
  {
   "cell_type": "markdown",
   "id": "60be4e02",
   "metadata": {},
   "source": [
    "****STEP 3. target, attribute 단어 셋 만들기****\n",
    "\n",
    "이전 스텝에서는 TF-IDF를 사용해서 단어 셋을 만들었습니다. 이 방법으로도 어느 정도는 대표 단어를 잘 선정할 수 있습니다. 그러나 TF-IDF가 높은 단어를 골랐음에도 불구하고 중복되는 단어가 발생하는 문제가 있었습니다. 개념축을 표현하는 단어가 제대로 선정되지 않은 것은 WEAT 계산 결과에 악영향을 미칩니다.\n",
    "\n",
    "TF-IDF를 적용했을 때의 문제점이 무엇인지 지적 가능하다면 그 문제점을 지적하고 스스로 방법을 개선하여 대표 단어 셋을 구축해 보기 바랍니다. TF-IDF 방식을 쓰더라도 중복된 단어를 잘 제거하면 여전히 유용한 방식이 될 수 있습니다."
   ]
  },
  {
   "cell_type": "markdown",
   "id": "8b95ee01",
   "metadata": {},
   "source": [
    "3. TF-IDF로 해당 데이터를 가장 잘 표현하는 단어 셋 만들기  \n",
    "\n",
    "KOBIS에서 제공한 정보를 기준으로  \n",
    "\n",
    "영화 구분  \n",
    "synopsis_art.txt : 예술영화  \n",
    "synopsis_gen.txt : 일반영화(상업영화)  \n",
    "그 외는 독립영화 등으로 분류됩니다.  "
   ]
  },
  {
   "cell_type": "markdown",
   "id": "20745a6c",
   "metadata": {},
   "source": [
    "예술영화와 일반영화(상업영화)라는 영화를 attribute\n",
    "\n",
    "드라마 장르와 액션 장르라는 장르구분을 target\n",
    "\n",
    "'synopsis_art.txt', 'synopsis_gen.txt' 두 파일을 읽고, 위에서 했던 것과 마찬가지로 명사에 대해서만 추출하여 art, gen 변수에 할당"
   ]
  },
  {
   "cell_type": "code",
   "execution_count": 57,
   "id": "8b073d8b",
   "metadata": {},
   "outputs": [],
   "source": [
    "import os\n",
    "from sklearn.feature_extraction.text import TfidfVectorizer\n",
    "import numpy as np\n",
    "from konlpy.tag import Okt\n",
    "\n",
    "art_txt = 'synopsis_art.txt'\n",
    "gen_txt = 'synopsis_gen.txt'\n",
    "\n",
    "def read_token(file_name):\n",
    "    okt = Okt()\n",
    "    result = []\n",
    "#     with open(os.getenv('HOME')+'/aiffel/weat/'+file_name, 'r') as fread: \n",
    "    with open(Path.joinpath(data_dir,file_name), 'r', encoding='UTF-8') as fread: \n",
    "        print(file_name, '파일을 읽고 있습니다.')\n",
    "        while True:\n",
    "            line = fread.readline() \n",
    "            if not line: break \n",
    "            tokenlist = okt.pos(line, stem=True, norm=True) \n",
    "            for word in tokenlist:\n",
    "                if word[1] in [\"Noun\"]:#, \"Adjective\", \"Verb\"]:\n",
    "                    result.append((word[0])) \n",
    "    return ' '.join(result)"
   ]
  },
  {
   "cell_type": "code",
   "execution_count": 58,
   "id": "3a0c7289",
   "metadata": {},
   "outputs": [],
   "source": [
    "# 2개의 파일을 처리하는데 10분 가량 걸립니다.\n",
    "genre_list_hangul_A_B =['예술영화', '상업영화']\n",
    "genre_list_A_B = ['art', 'gen']"
   ]
  },
  {
   "cell_type": "code",
   "execution_count": 59,
   "id": "45790546",
   "metadata": {},
   "outputs": [],
   "source": [
    "def make_file_name(genre):\n",
    "    return 'synopsis_'+ genre + '.txt'"
   ]
  },
  {
   "cell_type": "code",
   "execution_count": 60,
   "id": "435fdff0",
   "metadata": {},
   "outputs": [
    {
     "data": {
      "text/plain": [
       "['synopsis_art.txt', 'synopsis_gen.txt']"
      ]
     },
     "execution_count": 60,
     "metadata": {},
     "output_type": "execute_result"
    }
   ],
   "source": [
    "data_file_name_list_A_B = list(map(make_file_name, genre_list_A_B))\n",
    "data_file_name_list_A_B"
   ]
  },
  {
   "cell_type": "code",
   "execution_count": 61,
   "id": "5e8ecf32",
   "metadata": {},
   "outputs": [
    {
     "name": "stdout",
     "output_type": "stream",
     "text": [
      "synopsis_art.txt 파일을 읽고 있습니다.\n",
      "synopsis_gen.txt 파일을 읽고 있습니다.\n"
     ]
    }
   ],
   "source": [
    "genre_token_listt_A_B = list(map(read_token, data_file_name_list_A_B))  # 시간이 많이 걸림"
   ]
  },
  {
   "cell_type": "markdown",
   "id": "e67cb9b0",
   "metadata": {},
   "source": [
    "TF-IDF방식을 사용\n",
    "\n",
    "코퍼스에서 자주 나타나는(TF가 높은) 단어이지만, 다른 코퍼스에까지 두루 걸쳐 나오지는 않는(IDF가 높은) 단어를 선정 TF-IDF에 관한 내용이 궁금하신 분은 위키독스 를 참고 https://wikidocs.net/31698"
   ]
  },
  {
   "cell_type": "code",
   "execution_count": 62,
   "id": "a27193c1",
   "metadata": {},
   "outputs": [
    {
     "name": "stdout",
     "output_type": "stream",
     "text": [
      "(2, 41082)\n"
     ]
    }
   ],
   "source": [
    "vectorizer = TfidfVectorizer()\n",
    "X_A_B = vectorizer.fit_transform(genre_token_listt_A_B)\n",
    "print(X_A_B.shape)"
   ]
  },
  {
   "cell_type": "code",
   "execution_count": 63,
   "id": "a769f0dc",
   "metadata": {},
   "outputs": [
    {
     "name": "stdout",
     "output_type": "stream",
     "text": [
      "예술영화를 대표하는 단어들:\n",
      "그녀, 자신, 시작, 위해, 사랑, 사람, 영화, 친구, 남자, 가족, 이야기, 마을, 사건, 마음, 세상, 아버지, 아이, 엄마, 모든, 여자, 대한, 서로, 과연, 다시, 시간, 아들, 소녀, 아내, 다른, 사이, 영화제, 세계, 사실, 하나, 점점, 남편, 감독, 여행, 인생, 발견, 모두, 순간, 우리, 가장, 마지막, 생활, 아빠, 모습, 통해, 죽음, 기억, 비밀, 학교, 음악, 한편, 소년, 생각, 도시, 명의, 사고, 결혼, 전쟁, 때문, 위기, 이제, 최고, 이자, 과거, 일상, 경찰, 상황, 간다, 미국, 결심, 운명, 현실, 관계, 지금, 단편, 여인, 하루, 이름, 이후, 준비, 인간, 감정, 만난, 국제, 처음, 충격, 살인, 누구, 동안, 존재, 그린, 어머니, 연인, 계속, 동생, 작품, \n",
      "\n",
      "상업영화를 대표하는 단어들:\n",
      "자신, 그녀, 영화제, 위해, 사람, 시작, 국제, 영화, 친구, 사랑, 남자, 이야기, 대한, 서울, 여자, 사건, 남편, 아이, 가족, 아버지, 다른, 마을, 시간, 엄마, 아들, 모든, 단편, 마음, 사실, 다시, 세계, 모습, 작품, 통해, 생각, 서로, 세상, 발견, 감독, 아내, 관계, 소녀, 사이, 하나, 우리, 애니메이션, 때문, 여성, 죽음, 과연, 점점, 인간, 생활, 한편, 결혼, 상황, 모두, 기억, 명의, 소년, 여행, 가장, 간다, 순간, 이제, 도시, 비밀, 학교, 과거, 가지, 이자, 경찰, 마지막, 미국, 동안, 전쟁, 주인공, 대해, 존재, 현실, 연출, 사고, 살인, 일상, 어머니, 계속, 사회, 인생, 다큐멘터리, 부문, 섹스, 최고, 바로, 동생, 의도, 하루, 위기, 계획, 정체, 한국, "
     ]
    }
   ],
   "source": [
    "m1 = X_A_B[0].tocoo()   # art를 TF-IDF로 표현한 sparse matrix를 가져옵니다. \n",
    "m2 = X_A_B[1].tocoo()   # gen을 TF-IDF로 표현한 sparse matrix를 가져옵니다. \n",
    "\n",
    "w1 = [[i, j] for i, j in zip(m1.col, m1.data)]\n",
    "w2 = [[i, j] for i, j in zip(m2.col, m2.data)]\n",
    "\n",
    "w1.sort(key=lambda x: x[1], reverse=True)   #art를 구성하는 단어들을 TF-IDF가 높은 순으로 정렬합니다. \n",
    "w2.sort(key=lambda x: x[1], reverse=True)   #gen을 구성하는 단어들을 TF-IDF가 높은 순으로 정렬합니다. \n",
    "\n",
    "print('예술영화를 대표하는 단어들:')\n",
    "for i in range(100):\n",
    "    print(vectorizer.get_feature_names_out()[w1[i][0]], end=', ')\n",
    "\n",
    "print('\\n')\n",
    "    \n",
    "print('상업영화를 대표하는 단어들:')\n",
    "for i in range(100):\n",
    "    print(vectorizer.get_feature_names_out()[w2[i][0]], end=', ')"
   ]
  },
  {
   "cell_type": "code",
   "execution_count": 64,
   "id": "b2251e89",
   "metadata": {},
   "outputs": [],
   "source": [
    "n = 15\n",
    "w1_, w2_ = [], []\n",
    "for i in range(100):\n",
    "    w1_.append(vectorizer.get_feature_names_out()[w1[i][0]])\n",
    "    w2_.append(vectorizer.get_feature_names_out()[w2[i][0]])\n",
    "\n",
    "# w1에만 있고 w2에는 없는, 예술영화를 잘 대표하는 단어를 15개 추출한다.\n",
    "attributes_art, attributes_gen = [], []\n",
    "for i in range(100):\n",
    "    if (w1_[i] not in w2_) and (w1_[i] in model.wv): attributes_art.append(w1_[i])\n",
    "    if len(attributes_art) == n: break \n",
    "\n",
    "# w2에만 있고 w1에는 없는, 상업영화를 잘 대표하는 단어를 15개 추출한다.\n",
    "for i in range(100):\n",
    "    if (w2_[i] not in w1_) and (w2_[i] in model.wv): attributes_gen.append(w2_[i])\n",
    "    if len(attributes_gen) == n: break\n"
   ]
  },
  {
   "cell_type": "code",
   "execution_count": 65,
   "id": "68661668",
   "metadata": {},
   "outputs": [
    {
     "name": "stdout",
     "output_type": "stream",
     "text": [
      "['아빠', '음악', '결심', '운명', '지금', '여인', '이름', '이후', '준비', '감정', '만난', '처음', '충격', '누구', '그린']\n"
     ]
    }
   ],
   "source": [
    "print(attributes_art)"
   ]
  },
  {
   "cell_type": "code",
   "execution_count": 66,
   "id": "b7483fca",
   "metadata": {},
   "outputs": [
    {
     "name": "stdout",
     "output_type": "stream",
     "text": [
      "['서울', '애니메이션', '여성', '가지', '주인공', '대해', '연출', '사회', '다큐멘터리', '부문', '섹스', '바로', '의도', '계획', '정체']\n"
     ]
    }
   ],
   "source": [
    "print(attributes_gen)"
   ]
  },
  {
   "cell_type": "code",
   "execution_count": 67,
   "id": "ab3dd89e",
   "metadata": {},
   "outputs": [],
   "source": [
    "genre_name =['가족', '공상과학', '공연', '공포_호러', '기타', '다큐멘터리', '드라마', '멜로로맨스',  '뮤지컬', '미스터리', \n",
    " '범죄', '서부극', '성인물', '스릴러', '사극', '애니메이션', '액션', '어드벤처', '전쟁', '코미디', '판타지']\n",
    "genre_list = ['family', 'SF', 'show', 'horror', 'etc', 'documentary', 'drama', 'romance', 'musical', 'mystery',   \n",
    " 'crime', 'western', 'adult', 'thriller', 'historical', 'animation', 'action', 'adventure', 'war', 'comedy', 'fantasy']\n",
    "\n",
    "## 테스트를 위한 짧은 리스트\n",
    "# genre_name =['가족', '공상과학', '공연']\n",
    "# genre_list = ['family', 'SF', 'show']"
   ]
  },
  {
   "cell_type": "code",
   "execution_count": 68,
   "id": "ac062d02",
   "metadata": {},
   "outputs": [
    {
     "data": {
      "text/plain": [
       "['synopsis_family.txt',\n",
       " 'synopsis_SF.txt',\n",
       " 'synopsis_show.txt',\n",
       " 'synopsis_horror.txt',\n",
       " 'synopsis_etc.txt',\n",
       " 'synopsis_documentary.txt',\n",
       " 'synopsis_drama.txt',\n",
       " 'synopsis_romance.txt',\n",
       " 'synopsis_musical.txt',\n",
       " 'synopsis_mystery.txt',\n",
       " 'synopsis_crime.txt',\n",
       " 'synopsis_western.txt',\n",
       " 'synopsis_adult.txt',\n",
       " 'synopsis_thriller.txt',\n",
       " 'synopsis_historical.txt',\n",
       " 'synopsis_animation.txt',\n",
       " 'synopsis_action.txt',\n",
       " 'synopsis_adventure.txt',\n",
       " 'synopsis_war.txt',\n",
       " 'synopsis_comedy.txt',\n",
       " 'synopsis_fantasy.txt']"
      ]
     },
     "execution_count": 68,
     "metadata": {},
     "output_type": "execute_result"
    }
   ],
   "source": [
    "genre_txt = list(map(make_file_name, genre_list))\n",
    "genre_txt"
   ]
  },
  {
   "cell_type": "code",
   "execution_count": 69,
   "id": "79005e45",
   "metadata": {},
   "outputs": [
    {
     "name": "stdout",
     "output_type": "stream",
     "text": [
      "synopsis_family.txt 파일을 읽고 있습니다.\n",
      "synopsis_SF.txt 파일을 읽고 있습니다.\n",
      "synopsis_show.txt 파일을 읽고 있습니다.\n",
      "synopsis_horror.txt 파일을 읽고 있습니다.\n",
      "synopsis_etc.txt 파일을 읽고 있습니다.\n",
      "synopsis_documentary.txt 파일을 읽고 있습니다.\n",
      "synopsis_drama.txt 파일을 읽고 있습니다.\n",
      "synopsis_romance.txt 파일을 읽고 있습니다.\n",
      "synopsis_musical.txt 파일을 읽고 있습니다.\n",
      "synopsis_mystery.txt 파일을 읽고 있습니다.\n",
      "synopsis_crime.txt 파일을 읽고 있습니다.\n",
      "synopsis_western.txt 파일을 읽고 있습니다.\n",
      "synopsis_adult.txt 파일을 읽고 있습니다.\n",
      "synopsis_thriller.txt 파일을 읽고 있습니다.\n",
      "synopsis_historical.txt 파일을 읽고 있습니다.\n",
      "synopsis_animation.txt 파일을 읽고 있습니다.\n",
      "synopsis_action.txt 파일을 읽고 있습니다.\n",
      "synopsis_adventure.txt 파일을 읽고 있습니다.\n",
      "synopsis_war.txt 파일을 읽고 있습니다.\n",
      "synopsis_comedy.txt 파일을 읽고 있습니다.\n",
      "synopsis_fantasy.txt 파일을 읽고 있습니다.\n"
     ]
    }
   ],
   "source": [
    "#  시간이 많이 걸림\n",
    "genre = []\n",
    "for file_name in genre_txt:\n",
    "    genre.append(read_token(file_name))"
   ]
  },
  {
   "cell_type": "code",
   "execution_count": 70,
   "id": "180cda7f",
   "metadata": {},
   "outputs": [
    {
     "name": "stdout",
     "output_type": "stream",
     "text": [
      "(21, 42191)\n"
     ]
    }
   ],
   "source": [
    "vectorizer = TfidfVectorizer()\n",
    "X = vectorizer.fit_transform(genre)\n",
    "\n",
    "print(X.shape)"
   ]
  },
  {
   "cell_type": "code",
   "execution_count": 71,
   "id": "5f881e44",
   "metadata": {},
   "outputs": [
    {
     "name": "stdout",
     "output_type": "stream",
     "text": [
      "가족: 엄마, 아빠, 가족, 영화제, 자신, 위해, 친구, 아주르, 아버지, 시작, 그녀, 아들, 마을, 국제, 낙타, \n",
      "공상과학: 위해, 자신, 지구, 시작, 사람, 인류, 인간, 미래, 우주, 그녀, 로봇, 세계, 모든, 박사, 우주선, \n",
      "공연: 오페라, 사랑, 토스카, 실황, 올레, 자신, 카바, 그녀, 공연, 오텔로, 리골레토, 백작, 프레, 베르디, 위해, \n",
      "공포_호러: 시작, 위해, 사람, 자신, 친구, 그녀, 사건, 공포, 발견, 죽음, 마을, 가족, 악령, 남자, 좀비, \n",
      "기타: 영화제, 국제, 서울, 단편, 영화, 자신, 사람, 이야기, 그녀, 남자, 위해, 시작, 사랑, 뉴미디어, 페스티벌, \n",
      "다큐멘터리: 영화제, 영화, 다큐, 국제, 다큐멘터리, 사람, 이야기, 대한, 자신, 감독, 위해, 서울, 우리, 시작, 세계, \n",
      "드라마: 자신, 영화제, 그녀, 사람, 사랑, 영화, 위해, 시작, 국제, 남자, 친구, 이야기, 엄마, 여자, 아버지, \n",
      "멜로로맨스: 그녀, 사랑, 자신, 시작, 남편, 남자, 여자, 사람, 친구, 섹스, 위해, 마음, 결혼, 서로, 아내, \n",
      "뮤지컬: 뮤지컬, 사랑, 에스메랄다, 그녀, 음악, 충무로, 모차르트, 영화, 토스카, 자신, 니웨, 카바, 영화제, 바흐, 페뷔스, \n",
      "미스터리: 사건, 그녀, 시작, 자신, 위해, 사람, 발견, 사고, 진실, 죽음, 기억, 살인, 친구, 아내, 남자, \n",
      "범죄: 사건, 위해, 자신, 경찰, 시작, 그녀, 범죄, 조직, 살인, 사람, 마약, 형사, 남자, 모든, 살해, \n",
      "서부극: 서부, 보안관, 위해, 벌린, 카우보이, 그레이프바인, 헨리, 마을, 자신, 개릿, 아이, 시작, 무법자, 프린트, 마적, \n",
      "성인물: 그녀, 남편, 마사지, 자신, 섹스, 관계, 영화, 정사, 남자, 위해, 시작, 여자, 유부녀, 마음, 사랑, \n",
      "스릴러: 자신, 그녀, 사건, 시작, 위해, 사람, 살인, 남자, 발견, 아내, 경찰, 친구, 모든, 사실, 살해, \n",
      "역사: 조선, 위해, 시작, 신기전, 사랑, 자신, 아가멤논, 황제, 그녀, 루안, 운명, 최고, 사람, 하선, 전쟁, \n",
      "애니메이션: 애니메이션, 국제, 영화제, 친구, 인디애니페스트, 위해, 자신, 시작, 사람, 페스티벌, 서울, 이야기, 아이, 마을, 소녀, \n",
      "액션: 위해, 자신, 시작, 조직, 사건, 사람, 그녀, 경찰, 전쟁, 모든, 목숨, 사실, 친구, 가족, 요원, \n",
      "어드벤처: 위해, 자신, 시작, 친구, 마을, 아버지, 영화, 사람, 아이, 여행, 세계, 앤트, 세상, 가족, 모험, \n",
      "전쟁: 전쟁, 독일군, 전투, 위해, 작전, 시작, 부대, 윈터스, 독일, 연합군, 미군, 임무, 자신, 사람, 나치, \n",
      "코미디: 그녀, 자신, 시작, 위해, 사랑, 사람, 친구, 영화, 남자, 여자, 영화제, 가족, 과연, 마을, 사건, \n",
      "판타지: 자신, 그녀, 시작, 위해, 사람, 사랑, 요괴, 영화제, 이야기, 영화, 소녀, 남자, 인간, 세상, 마을, \n"
     ]
    }
   ],
   "source": [
    "m = [X[i].tocoo() for i in range(X.shape[0])]\n",
    "\n",
    "w = [[[i, j] for i, j in zip(mm.col, mm.data)] for mm in m]\n",
    "\n",
    "for i in range(len(w)):\n",
    "    w[i].sort(key=lambda x: x[1], reverse=True)\n",
    "\n",
    "target = []\n",
    "for i in range(len(w)):\n",
    "    print(genre_name[i], end=': ')\n",
    "    targ = []\n",
    "    j = 0\n",
    "    while (len(targ) < 15):\n",
    "        if vectorizer.get_feature_names_out()[w[i][j][0]] in model.wv:\n",
    "            targ.append(vectorizer.get_feature_names_out()[w[i][j][0]])\n",
    "            print(vectorizer.get_feature_names_out()[w[i][j][0]], end=', ')\n",
    "        j += 1\n",
    "    target.append(targ)\n",
    "    print()"
   ]
  },
  {
   "cell_type": "markdown",
   "id": "9dde07cf",
   "metadata": {},
   "source": [
    "장르를 대표하는 단어들을 추출함\n",
    "\n",
    "4. embedding model과 단어 셋으로 WEAT score 구해보기\n",
    "\n",
    "WEAT_score"
   ]
  },
  {
   "cell_type": "code",
   "execution_count": 72,
   "id": "e4fd8345",
   "metadata": {},
   "outputs": [],
   "source": [
    "def cos_sim(i, j):\n",
    "    return dot(i, j.T)/(norm(i)*norm(j))\n",
    "\n",
    "def s(w, A, B):\n",
    "    c_a = cos_sim(w, A)\n",
    "    c_b = cos_sim(w, B)\n",
    "    mean_A = np.mean(c_a, axis=-1)\n",
    "    mean_B = np.mean(c_b, axis=-1)\n",
    "    return mean_A - mean_B #, c_a, c_b"
   ]
  },
  {
   "cell_type": "code",
   "execution_count": 73,
   "id": "c35c5267",
   "metadata": {},
   "outputs": [],
   "source": [
    "def weat_score(X, Y, A, B):\n",
    "    \n",
    "    s_X = s(X, A, B)\n",
    "    s_Y = s(Y, A, B)\n",
    "\n",
    "    mean_X = np.mean(s_X)\n",
    "    mean_Y = np.mean(s_Y)\n",
    "    \n",
    "    std_dev = np.std(np.concatenate([s_X, s_Y], axis=0))\n",
    "    \n",
    "    return  (mean_X-mean_Y)/std_dev\n"
   ]
  },
  {
   "cell_type": "code",
   "execution_count": 74,
   "id": "5430bc3e",
   "metadata": {},
   "outputs": [],
   "source": [
    "matrix = [[0 for _ in range(len(genre_name))] for _ in range(len(genre_name))]"
   ]
  },
  {
   "cell_type": "code",
   "execution_count": 75,
   "id": "532e030e",
   "metadata": {},
   "outputs": [],
   "source": [
    "A = np.array([model.wv[word] for word in attributes_art]) # A에 예술영화\n",
    "B = np.array([model.wv[word] for word in attributes_gen]) # B에 상업영화\n",
    "\n",
    "for i in range(len(genre_name)-1):\n",
    "    for j in range(i+1, len(genre_name)):\n",
    "        X = np.array([model.wv[word] for word in target[i]]) # X에 행 한줄을 차지할 영화\n",
    "        Y = np.array([model.wv[word] for word in target[j]]) # Y에 그 행의 열을 차지할 영화를 넣었다.\n",
    "        matrix[i][j] = weat_score(X, Y, A, B)"
   ]
  },
  {
   "cell_type": "markdown",
   "id": "05148999",
   "metadata": {},
   "source": [
    "### WEAT score가 0.8 이상, -0.8 이하의 경우만 해석  "
   ]
  },
  {
   "cell_type": "code",
   "execution_count": 76,
   "id": "23dbc6dc",
   "metadata": {},
   "outputs": [
    {
     "name": "stdout",
     "output_type": "stream",
     "text": [
      "가족 공상과학 0.39297372\n",
      "\n",
      "\n",
      "가족 공연 0.09729914\n",
      "\n",
      "\n",
      "가족 공포_호러 -0.093615025\n",
      "\n",
      "\n",
      "가족 기타 0.5836248\n",
      "\n",
      "\n",
      "가족 다큐멘터리 0.8323073\n",
      "가족 영화와 다큐멘터리 영화의 예술영화와 상업영화, WEAT score의 의미를 해석해보면\n",
      "가족 영화는 예술영화,  다큐멘터리 영화는 상업영화에 가깝다고 볼 수 있습니다.\n",
      "\n",
      "가족 드라마 0.09727687\n",
      "\n",
      "\n",
      "가족 멜로로맨스 -0.59010696\n",
      "\n",
      "\n",
      "가족 뮤지컬 0.5204221\n",
      "\n",
      "\n",
      "가족 미스터리 -0.26490104\n",
      "\n",
      "\n",
      "가족 범죄 0.20668289\n",
      "\n",
      "\n",
      "가족 서부극 0.14503407\n",
      "\n",
      "\n",
      "가족 성인물 -0.28951374\n",
      "\n",
      "\n",
      "가족 스릴러 -0.11973964\n",
      "\n",
      "\n",
      "가족 역사 -0.024079813\n",
      "\n",
      "\n",
      "가족 애니메이션 0.5711357\n",
      "\n",
      "\n",
      "가족 액션 0.09409775\n",
      "\n",
      "\n",
      "가족 어드벤처 -0.0166326\n",
      "\n",
      "\n",
      "가족 전쟁 0.5293248\n",
      "\n",
      "\n",
      "가족 코미디 0.11191825\n",
      "\n",
      "\n",
      "가족 판타지 0.25717425\n",
      "\n",
      "\n",
      "공상과학 공연 -0.35849747\n",
      "\n",
      "\n",
      "공상과학 공포_호러 -0.74545425\n",
      "\n",
      "\n",
      "공상과학 기타 0.35614812\n",
      "\n",
      "\n",
      "공상과학 다큐멘터리 0.7085295\n",
      "\n",
      "\n",
      "공상과학 드라마 -0.28625903\n",
      "\n",
      "\n",
      "공상과학 멜로로맨스 -1.3598889\n",
      "공상과학 영화와 멜로로맨스 영화의 예술영화와 상업영화, WEAT score의 의미를 해석해보면\n",
      "공상과학 영화는 상업영화,  멜로로맨스 영화는 예술영화에 가깝다고 볼 수 있습니다.\n",
      "\n",
      "공상과학 뮤지컬 0.2881908\n",
      "\n",
      "\n",
      "공상과학 미스터리 -0.9841088\n",
      "공상과학 영화와 미스터리 영화의 예술영화와 상업영화, WEAT score의 의미를 해석해보면\n",
      "공상과학 영화는 상업영화,  미스터리 영화는 예술영화에 가깝다고 볼 수 있습니다.\n",
      "\n",
      "공상과학 범죄 -0.30405378\n",
      "\n",
      "\n",
      "공상과학 서부극 -0.40596345\n",
      "\n",
      "\n",
      "공상과학 성인물 -0.9360215\n",
      "공상과학 영화와 성인물 영화의 예술영화와 상업영화, WEAT score의 의미를 해석해보면\n",
      "공상과학 영화는 상업영화,  성인물 영화는 예술영화에 가깝다고 볼 수 있습니다.\n",
      "\n",
      "공상과학 스릴러 -0.78005475\n",
      "\n",
      "\n",
      "공상과학 역사 -0.57820165\n",
      "\n",
      "\n",
      "공상과학 애니메이션 0.3384263\n",
      "\n",
      "\n",
      "공상과학 액션 -0.46751833\n",
      "\n",
      "\n",
      "공상과학 어드벤처 -0.58381623\n",
      "\n",
      "\n",
      "공상과학 전쟁 0.2256325\n",
      "\n",
      "\n",
      "공상과학 코미디 -0.3024116\n",
      "\n",
      "\n",
      "공상과학 판타지 -0.109310314\n",
      "\n",
      "\n",
      "공연 공포_호러 -0.25548905\n",
      "\n",
      "\n",
      "공연 기타 0.5716245\n",
      "\n",
      "\n",
      "공연 다큐멘터리 0.8707135\n",
      "공연 영화와 다큐멘터리 영화의 예술영화와 상업영화, WEAT score의 의미를 해석해보면\n",
      "공연 영화는 예술영화,  다큐멘터리 영화는 상업영화에 가깝다고 볼 수 있습니다.\n",
      "\n",
      "공연 드라마 0.0113959275\n",
      "\n",
      "\n",
      "공연 멜로로맨스 -0.86656535\n",
      "공연 영화와 멜로로맨스 영화의 예술영화와 상업영화, WEAT score의 의미를 해석해보면\n",
      "공연 영화는 상업영화,  멜로로맨스 영화는 예술영화에 가깝다고 볼 수 있습니다.\n",
      "\n",
      "공연 뮤지컬 0.4956653\n",
      "\n",
      "\n",
      "공연 미스터리 -0.4718642\n",
      "\n",
      "\n",
      "공연 범죄 0.12349521\n",
      "\n",
      "\n",
      "공연 서부극 0.044797227\n",
      "\n",
      "\n",
      "공연 성인물 -0.48219842\n",
      "\n",
      "\n",
      "공연 스릴러 -0.28799483\n",
      "\n",
      "\n",
      "공연 역사 -0.15596849\n",
      "\n",
      "\n",
      "공연 애니메이션 0.5574732\n",
      "\n",
      "\n",
      "공연 액션 -0.017965114\n",
      "\n",
      "\n",
      "공연 어드벤처 -0.14964873\n",
      "\n",
      "\n",
      "공연 전쟁 0.5289674\n",
      "\n",
      "\n",
      "공연 코미디 0.022796689\n",
      "\n",
      "\n",
      "공연 판타지 0.19328003\n",
      "\n",
      "\n",
      "공포_호러 기타 0.813024\n",
      "공포_호러 영화와 기타 영화의 예술영화와 상업영화, WEAT score의 의미를 해석해보면\n",
      "공포_호러 영화는 예술영화,  기타 영화는 상업영화에 가깝다고 볼 수 있습니다.\n",
      "\n",
      "공포_호러 다큐멘터리 1.1533656\n",
      "공포_호러 영화와 다큐멘터리 영화의 예술영화와 상업영화, WEAT score의 의미를 해석해보면\n",
      "공포_호러 영화는 예술영화,  다큐멘터리 영화는 상업영화에 가깝다고 볼 수 있습니다.\n",
      "\n",
      "공포_호러 드라마 0.22228159\n",
      "\n",
      "\n",
      "공포_호러 멜로로맨스 -0.9022343\n",
      "공포_호러 영화와 멜로로맨스 영화의 예술영화와 상업영화, WEAT score의 의미를 해석해보면\n",
      "공포_호러 영화는 상업영화,  멜로로맨스 영화는 예술영화에 가깝다고 볼 수 있습니다.\n",
      "\n",
      "공포_호러 뮤지컬 0.7031908\n",
      "\n",
      "\n",
      "공포_호러 미스터리 -0.3025352\n",
      "\n",
      "\n",
      "공포_호러 범죄 0.48473093\n",
      "\n",
      "\n",
      "공포_호러 서부극 0.3948764\n",
      "\n",
      "\n",
      "공포_호러 성인물 -0.32352316\n",
      "\n",
      "\n",
      "공포_호러 스릴러 -0.044765227\n",
      "\n",
      "\n",
      "공포_호러 역사 0.099260956\n",
      "\n",
      "\n",
      "공포_호러 애니메이션 0.8002674\n",
      "공포_호러 영화와 애니메이션 영화의 예술영화와 상업영화, WEAT score의 의미를 해석해보면\n",
      "공포_호러 영화는 예술영화,  애니메이션 영화는 상업영화에 가깝다고 볼 수 있습니다.\n",
      "\n",
      "공포_호러 액션 0.3049909\n",
      "\n",
      "\n",
      "공포_호러 어드벤처 0.114784546\n",
      "\n",
      "\n",
      "공포_호러 전쟁 0.9260721\n",
      "공포_호러 영화와 전쟁 영화의 예술영화와 상업영화, WEAT score의 의미를 해석해보면\n",
      "공포_호러 영화는 예술영화,  전쟁 영화는 상업영화에 가깝다고 볼 수 있습니다.\n",
      "\n",
      "공포_호러 코미디 0.25739866\n",
      "\n",
      "\n",
      "공포_호러 판타지 0.4462644\n",
      "\n",
      "\n",
      "기타 다큐멘터리 0.24278495\n",
      "\n",
      "\n",
      "기타 드라마 -0.5060067\n",
      "\n",
      "\n",
      "기타 멜로로맨스 -1.1888001\n",
      "기타 영화와 멜로로맨스 영화의 예술영화와 상업영화, WEAT score의 의미를 해석해보면\n",
      "기타 영화는 상업영화,  멜로로맨스 영화는 예술영화에 가깝다고 볼 수 있습니다.\n",
      "\n",
      "기타 뮤지컬 -0.02323885\n",
      "\n",
      "\n",
      "기타 미스터리 -0.9541886\n",
      "기타 영화와 미스터리 영화의 예술영화와 상업영화, WEAT score의 의미를 해석해보면\n",
      "기타 영화는 상업영화,  미스터리 영화는 예술영화에 가깝다고 볼 수 있습니다.\n",
      "\n",
      "기타 범죄 -0.54706764\n",
      "\n",
      "\n",
      "기타 서부극 -0.6088734\n",
      "\n",
      "\n",
      "기타 성인물 -0.9439687\n",
      "기타 영화와 성인물 영화의 예술영화와 상업영화, WEAT score의 의미를 해석해보면\n",
      "기타 영화는 상업영화,  성인물 영화는 예술영화에 가깝다고 볼 수 있습니다.\n",
      "\n",
      "기타 스릴러 -0.83406323\n",
      "기타 영화와 스릴러 영화의 예술영화와 상업영화, WEAT score의 의미를 해석해보면\n",
      "기타 영화는 상업영화,  스릴러 영화는 예술영화에 가깝다고 볼 수 있습니다.\n",
      "\n",
      "기타 역사 -0.71841294\n",
      "\n",
      "\n",
      "기타 애니메이션 -0.016100237\n",
      "\n",
      "\n",
      "기타 액션 -0.64627165\n",
      "\n",
      "\n",
      "기타 어드벤처 -0.7207886\n",
      "\n",
      "\n",
      "기타 전쟁 -0.20893766\n",
      "\n",
      "\n",
      "기타 코미디 -0.52607095\n",
      "\n",
      "\n",
      "기타 판타지 -0.38495657\n",
      "\n",
      "\n",
      "다큐멘터리 드라마 -0.7643416\n",
      "\n",
      "\n",
      "다큐멘터리 멜로로맨스 -1.4817221\n",
      "다큐멘터리 영화와 멜로로맨스 영화의 예술영화와 상업영화, WEAT score의 의미를 해석해보면\n",
      "다큐멘터리 영화는 상업영화,  멜로로맨스 영화는 예술영화에 가깝다고 볼 수 있습니다.\n",
      "\n",
      "다큐멘터리 뮤지컬 -0.24423143\n",
      "\n",
      "\n",
      "다큐멘터리 미스터리 -1.2828642\n",
      "다큐멘터리 영화와 미스터리 영화의 예술영화와 상업영화, WEAT score의 의미를 해석해보면\n",
      "다큐멘터리 영화는 상업영화,  미스터리 영화는 예술영화에 가깝다고 볼 수 있습니다.\n",
      "\n",
      "다큐멘터리 범죄 -0.90365046\n",
      "다큐멘터리 영화와 범죄 영화의 예술영화와 상업영화, WEAT score의 의미를 해석해보면\n",
      "다큐멘터리 영화는 상업영화,  범죄 영화는 예술영화에 가깝다고 볼 수 있습니다.\n",
      "\n",
      "다큐멘터리 서부극 -0.96658593\n",
      "다큐멘터리 영화와 서부극 영화의 예술영화와 상업영화, WEAT score의 의미를 해석해보면\n",
      "다큐멘터리 영화는 상업영화,  서부극 영화는 예술영화에 가깝다고 볼 수 있습니다.\n",
      "\n",
      "다큐멘터리 성인물 -1.249252\n",
      "다큐멘터리 영화와 성인물 영화의 예술영화와 상업영화, WEAT score의 의미를 해석해보면\n",
      "다큐멘터리 영화는 상업영화,  성인물 영화는 예술영화에 가깝다고 볼 수 있습니다.\n",
      "\n",
      "다큐멘터리 스릴러 -1.1720026\n",
      "다큐멘터리 영화와 스릴러 영화의 예술영화와 상업영화, WEAT score의 의미를 해석해보면\n",
      "다큐멘터리 영화는 상업영화,  스릴러 영화는 예술영화에 가깝다고 볼 수 있습니다.\n",
      "\n",
      "다큐멘터리 역사 -1.0379137\n",
      "다큐멘터리 영화와 역사 영화의 예술영화와 상업영화, WEAT score의 의미를 해석해보면\n",
      "다큐멘터리 영화는 상업영화,  역사 영화는 예술영화에 가깝다고 볼 수 있습니다.\n",
      "\n",
      "다큐멘터리 애니메이션 -0.26106527\n",
      "\n",
      "\n",
      "다큐멘터리 액션 -0.99505895\n",
      "다큐멘터리 영화와 액션 영화의 예술영화와 상업영화, WEAT score의 의미를 해석해보면\n",
      "다큐멘터리 영화는 상업영화,  액션 영화는 예술영화에 가깝다고 볼 수 있습니다.\n",
      "\n",
      "다큐멘터리 어드벤처 -1.0468932\n",
      "다큐멘터리 영화와 어드벤처 영화의 예술영화와 상업영화, WEAT score의 의미를 해석해보면\n",
      "다큐멘터리 영화는 상업영화,  어드벤처 영화는 예술영화에 가깝다고 볼 수 있습니다.\n",
      "\n",
      "다큐멘터리 전쟁 -0.5541971\n",
      "\n",
      "\n",
      "다큐멘터리 코미디 -0.80516404\n",
      "다큐멘터리 영화와 코미디 영화의 예술영화와 상업영화, WEAT score의 의미를 해석해보면\n",
      "다큐멘터리 영화는 상업영화,  코미디 영화는 예술영화에 가깝다고 볼 수 있습니다.\n",
      "\n",
      "다큐멘터리 판타지 -0.66471475\n",
      "\n",
      "\n",
      "드라마 멜로로맨스 -0.72226614\n",
      "\n",
      "\n",
      "드라마 뮤지컬 0.44545183\n",
      "\n",
      "\n",
      "드라마 미스터리 -0.39779702\n",
      "\n",
      "\n",
      "드라마 범죄 0.0890323\n",
      "\n",
      "\n",
      "드라마 서부극 0.023838188\n",
      "\n",
      "\n",
      "드라마 성인물 -0.41537943\n",
      "\n",
      "\n",
      "드라마 스릴러 -0.24893403\n",
      "\n",
      "\n",
      "드라마 역사 -0.14351621\n",
      "\n",
      "\n",
      "드라마 애니메이션 0.4926459\n",
      "\n",
      "\n",
      "드라마 액션 -0.027599074\n",
      "\n",
      "\n",
      "드라마 어드벤처 -0.13761856\n",
      "\n",
      "\n",
      "드라마 전쟁 0.4313986\n",
      "\n",
      "\n",
      "드라마 코미디 0.009240058\n",
      "\n",
      "\n",
      "드라마 판타지 0.15963343\n",
      "\n",
      "\n",
      "멜로로맨스 뮤지컬 1.0578722\n",
      "멜로로맨스 영화와 뮤지컬 영화의 예술영화와 상업영화, WEAT score의 의미를 해석해보면\n",
      "멜로로맨스 영화는 예술영화,  뮤지컬 영화는 상업영화에 가깝다고 볼 수 있습니다.\n",
      "\n",
      "멜로로맨스 미스터리 0.686046\n",
      "\n",
      "\n",
      "멜로로맨스 범죄 1.2229842\n",
      "멜로로맨스 영화와 범죄 영화의 예술영화와 상업영화, WEAT score의 의미를 해석해보면\n",
      "멜로로맨스 영화는 예술영화,  범죄 영화는 상업영화에 가깝다고 볼 수 있습니다.\n",
      "\n",
      "멜로로맨스 서부극 1.1824539\n",
      "멜로로맨스 영화와 서부극 영화의 예술영화와 상업영화, WEAT score의 의미를 해석해보면\n",
      "멜로로맨스 영화는 예술영화,  서부극 영화는 상업영화에 가깝다고 볼 수 있습니다.\n",
      "\n",
      "멜로로맨스 성인물 0.50651103\n",
      "\n",
      "\n",
      "멜로로맨스 스릴러 0.8664774\n",
      "멜로로맨스 영화와 스릴러 영화의 예술영화와 상업영화, WEAT score의 의미를 해석해보면\n",
      "멜로로맨스 영화는 예술영화,  스릴러 영화는 상업영화에 가깝다고 볼 수 있습니다.\n",
      "\n",
      "멜로로맨스 역사 0.840617\n",
      "멜로로맨스 영화와 역사 영화의 예술영화와 상업영화, WEAT score의 의미를 해석해보면\n",
      "멜로로맨스 영화는 예술영화,  역사 영화는 상업영화에 가깝다고 볼 수 있습니다.\n",
      "\n",
      "멜로로맨스 애니메이션 1.1812545\n",
      "멜로로맨스 영화와 애니메이션 영화의 예술영화와 상업영화, WEAT score의 의미를 해석해보면\n",
      "멜로로맨스 영화는 예술영화,  애니메이션 영화는 상업영화에 가깝다고 볼 수 있습니다.\n",
      "\n",
      "멜로로맨스 액션 1.0944844\n",
      "멜로로맨스 영화와 액션 영화의 예술영화와 상업영화, WEAT score의 의미를 해석해보면\n",
      "멜로로맨스 영화는 예술영화,  액션 영화는 상업영화에 가깝다고 볼 수 있습니다.\n",
      "\n",
      "멜로로맨스 어드벤처 0.8808948\n",
      "멜로로맨스 영화와 어드벤처 영화의 예술영화와 상업영화, WEAT score의 의미를 해석해보면\n",
      "멜로로맨스 영화는 예술영화,  어드벤처 영화는 상업영화에 가깝다고 볼 수 있습니다.\n",
      "\n",
      "멜로로맨스 전쟁 1.4602034\n",
      "멜로로맨스 영화와 전쟁 영화의 예술영화와 상업영화, WEAT score의 의미를 해석해보면\n",
      "멜로로맨스 영화는 예술영화,  전쟁 영화는 상업영화에 가깝다고 볼 수 있습니다.\n",
      "\n",
      "멜로로맨스 코미디 0.8069943\n",
      "멜로로맨스 영화와 코미디 영화의 예술영화와 상업영화, WEAT score의 의미를 해석해보면\n",
      "멜로로맨스 영화는 예술영화,  코미디 영화는 상업영화에 가깝다고 볼 수 있습니다.\n",
      "\n",
      "멜로로맨스 판타지 0.9564573\n",
      "멜로로맨스 영화와 판타지 영화의 예술영화와 상업영화, WEAT score의 의미를 해석해보면\n",
      "멜로로맨스 영화는 예술영화,  판타지 영화는 상업영화에 가깝다고 볼 수 있습니다.\n",
      "\n",
      "뮤지컬 미스터리 -0.833811\n",
      "뮤지컬 영화와 미스터리 영화의 예술영화와 상업영화, WEAT score의 의미를 해석해보면\n",
      "뮤지컬 영화는 상업영화,  미스터리 영화는 예술영화에 가깝다고 볼 수 있습니다.\n",
      "\n",
      "뮤지컬 범죄 -0.45932066\n",
      "\n",
      "\n",
      "뮤지컬 서부극 -0.51467603\n",
      "\n",
      "\n",
      "뮤지컬 성인물 -0.8331353\n",
      "뮤지컬 영화와 성인물 영화의 예술영화와 상업영화, WEAT score의 의미를 해석해보면\n",
      "뮤지컬 영화는 상업영화,  성인물 영화는 예술영화에 가깝다고 볼 수 있습니다.\n",
      "\n",
      "뮤지컬 스릴러 -0.7228633\n",
      "\n",
      "\n",
      "뮤지컬 역사 -0.62403494\n",
      "\n",
      "\n",
      "뮤지컬 애니메이션 0.008508629\n",
      "\n",
      "\n",
      "뮤지컬 액션 -0.55061203\n",
      "\n",
      "\n",
      "뮤지컬 어드벤처 -0.6242474\n",
      "\n",
      "\n",
      "뮤지컬 전쟁 -0.15691283\n",
      "\n",
      "\n",
      "뮤지컬 코미디 -0.45882425\n",
      "\n",
      "\n",
      "뮤지컬 판타지 -0.32816124\n",
      "\n",
      "\n",
      "미스터리 범죄 0.75996435\n",
      "\n",
      "\n",
      "미스터리 서부극 0.68381315\n",
      "\n",
      "\n",
      "미스터리 성인물 -0.06516557\n",
      "\n",
      "\n",
      "미스터리 스릴러 0.25725862\n",
      "\n",
      "\n",
      "미스터리 역사 0.3547056\n",
      "\n",
      "\n",
      "미스터리 애니메이션 0.94326735\n",
      "미스터리 영화와 애니메이션 영화의 예술영화와 상업영화, WEAT score의 의미를 해석해보면\n",
      "미스터리 영화는 예술영화,  애니메이션 영화는 상업영화에 가깝다고 볼 수 있습니다.\n",
      "\n",
      "미스터리 액션 0.58900344\n",
      "\n",
      "\n",
      "미스터리 어드벤처 0.37950265\n",
      "\n",
      "\n",
      "미스터리 전쟁 1.1387476\n",
      "미스터리 영화와 전쟁 영화의 예술영화와 상업영화, WEAT score의 의미를 해석해보면\n",
      "미스터리 영화는 예술영화,  전쟁 영화는 상업영화에 가깝다고 볼 수 있습니다.\n",
      "\n",
      "미스터리 코미디 0.4516364\n",
      "\n",
      "\n",
      "미스터리 판타지 0.63130575\n",
      "\n",
      "\n",
      "범죄 서부극 -0.10379555\n",
      "\n",
      "\n",
      "범죄 성인물 -0.72807384\n",
      "\n",
      "\n",
      "범죄 스릴러 -0.5249386\n",
      "\n",
      "\n",
      "범죄 역사 -0.32990807\n",
      "\n",
      "\n",
      "범죄 애니메이션 0.53112096\n",
      "\n",
      "\n",
      "범죄 액션 -0.1795685\n",
      "\n",
      "\n",
      "범죄 어드벤처 -0.32854483\n",
      "\n",
      "\n",
      "범죄 전쟁 0.522065\n",
      "\n",
      "\n",
      "범죄 코미디 -0.08601508\n",
      "\n",
      "\n",
      "범죄 판타지 0.1112481\n",
      "\n",
      "\n",
      "서부극 성인물 -0.6578369\n",
      "\n",
      "\n",
      "서부극 스릴러 -0.4371164\n",
      "\n",
      "\n",
      "서부극 역사 -0.24548073\n",
      "\n",
      "\n",
      "서부극 애니메이션 0.5935396\n",
      "\n",
      "\n",
      "서부극 액션 -0.08079022\n",
      "\n",
      "\n",
      "서부극 어드벤처 -0.2414862\n",
      "\n",
      "\n",
      "서부극 전쟁 0.62018216\n",
      "\n",
      "\n",
      "서부극 코미디 -0.014098116\n",
      "\n",
      "\n",
      "서부극 판타지 0.18404691\n",
      "\n",
      "\n",
      "성인물 스릴러 0.28434607\n",
      "\n",
      "\n",
      "성인물 역사 0.3725078\n",
      "\n",
      "\n",
      "성인물 애니메이션 0.9332879\n",
      "성인물 영화와 애니메이션 영화의 예술영화와 상업영화, WEAT score의 의미를 해석해보면\n",
      "성인물 영화는 예술영화,  애니메이션 영화는 상업영화에 가깝다고 볼 수 있습니다.\n",
      "\n",
      "성인물 액션 0.5764365\n",
      "\n",
      "\n",
      "성인물 어드벤처 0.39403662\n",
      "\n",
      "\n",
      "성인물 전쟁 1.0810417\n",
      "성인물 영화와 전쟁 영화의 예술영화와 상업영화, WEAT score의 의미를 해석해보면\n",
      "성인물 영화는 예술영화,  전쟁 영화는 상업영화에 가깝다고 볼 수 있습니다.\n",
      "\n",
      "성인물 코미디 0.46521664\n",
      "\n",
      "\n",
      "성인물 판타지 0.63366973\n",
      "\n",
      "\n",
      "스릴러 역사 0.13744889\n",
      "\n",
      "\n",
      "스릴러 애니메이션 0.821588\n",
      "스릴러 영화와 애니메이션 영화의 예술영화와 상업영화, WEAT score의 의미를 해석해보면\n",
      "스릴러 영화는 예술영화,  애니메이션 영화는 상업영화에 가깝다고 볼 수 있습니다.\n",
      "\n",
      "스릴러 액션 0.34676114\n",
      "\n",
      "\n",
      "스릴러 어드벤처 0.15423603\n",
      "\n",
      "\n",
      "스릴러 전쟁 0.9565877\n",
      "스릴러 영화와 전쟁 영화의 예술영화와 상업영화, WEAT score의 의미를 해석해보면\n",
      "스릴러 영화는 예술영화,  전쟁 영화는 상업영화에 가깝다고 볼 수 있습니다.\n",
      "\n",
      "스릴러 코미디 0.28673667\n",
      "\n",
      "\n",
      "스릴러 판타지 0.47407794\n",
      "\n",
      "\n",
      "역사 애니메이션 0.7050858\n",
      "\n",
      "\n",
      "역사 액션 0.17019477\n",
      "\n",
      "\n",
      "역사 어드벤처 0.010806227\n",
      "\n",
      "\n",
      "역사 전쟁 0.7539443\n",
      "\n",
      "\n",
      "역사 코미디 0.16778928\n",
      "\n",
      "\n",
      "역사 판타지 0.34761912\n",
      "\n",
      "\n",
      "애니메이션 액션 -0.6315375\n",
      "\n",
      "\n",
      "애니메이션 어드벤처 -0.7073363\n",
      "\n",
      "\n",
      "애니메이션 전쟁 -0.19002451\n",
      "\n",
      "\n",
      "애니메이션 코미디 -0.5121611\n",
      "\n",
      "\n",
      "애니메이션 판타지 -0.36994848\n",
      "\n",
      "\n",
      "액션 어드벤처 -0.16372964\n",
      "\n",
      "\n",
      "액션 전쟁 0.67108977\n",
      "\n",
      "\n",
      "액션 코미디 0.042424783\n",
      "\n",
      "\n",
      "액션 판타지 0.23652484\n",
      "\n",
      "\n",
      "어드벤처 전쟁 0.76396817\n",
      "\n",
      "\n",
      "어드벤처 코미디 0.16197494\n",
      "\n",
      "\n",
      "어드벤처 판타지 0.34499422\n",
      "\n",
      "\n",
      "전쟁 코미디 -0.4608227\n",
      "\n",
      "\n",
      "전쟁 판타지 -0.27322128\n",
      "\n",
      "\n",
      "코미디 판타지 0.16072653\n",
      "\n",
      "\n"
     ]
    }
   ],
   "source": [
    "for i in range(len(genre_name)-1):\n",
    "    for j in range(i+1, len(genre_name)):\n",
    "        print(genre_name[i], genre_name[j],matrix[i][j])\n",
    "        if abs(matrix[i][j])>= 0.8:\n",
    "            print('{} 영화와 {} 영화의 예술영화와 상업영화, WEAT score의 의미를 해석해보면'.format(genre_name[i], genre_name[j]))\n",
    "            if matrix[i][j] > 0:\n",
    "                print('{} 영화는 예술영화,  {} 영화는 상업영화에 가깝다고 볼 수 있습니다.\\n'.format(genre_name[i], genre_name[j]))\n",
    "            else:\n",
    "                print('{} 영화는 상업영화,  {} 영화는 예술영화에 가깝다고 볼 수 있습니다.\\n'.format(genre_name[i], genre_name[j]))                \n",
    "        else:\n",
    "            print('\\n')"
   ]
  },
  {
   "cell_type": "code",
   "execution_count": 78,
   "id": "cbfd9538",
   "metadata": {},
   "outputs": [],
   "source": [
    "for i in range(len(genre_name)-1):\n",
    "    for j in range(i+1, len(genre_name)):\n",
    "        matrix[j][i] = - matrix[i][j] # 비어있는 부분을 채워줍니다.\n"
   ]
  },
  {
   "cell_type": "markdown",
   "id": "20e5455c",
   "metadata": {},
   "source": [
    "****STEP 4. WEAT score 계산과 시각화****\n",
    "\n",
    "영화 구분, 영화 장르에 따른 편향성을 측정하여 WEAT score로 계산해 보고 이를 Heatmap 형태로 시각화해 봅시다. 편향성이 두드러지는 영화장르 target 구성에는 어떤 케이스가 있는지 시각적으로 두드러지게 구성되면 좋습니다."
   ]
  },
  {
   "cell_type": "code",
   "execution_count": 79,
   "id": "5c7e9275",
   "metadata": {},
   "outputs": [
    {
     "data": {
      "text/plain": [
       "<AxesSubplot:title={'center':'Compare genres of art or commercial films \\n (higher value  is  more closed to art film)'}>"
      ]
     },
     "execution_count": 79,
     "metadata": {},
     "output_type": "execute_result"
    },
    {
     "data": {
      "image/png": "[encoded data removed]",
      "text/plain": [
       "<Figure size 1296x576 with 2 Axes>"
      ]
     },
     "metadata": {
      "needs_background": "light"
     },
     "output_type": "display_data"
    }
   ],
   "source": [
    "# -*- coding: UTF-8 -*-\n",
    "import numpy as np; \n",
    "import seaborn as sns; \n",
    "\n",
    "np.random.seed(0)\n",
    "\n",
    "# 마이너스 부호 \n",
    "plt.rcParams['axes.unicode_minus'] = False\n",
    "\n",
    "plt.figure(figsize=(18,8))\n",
    "plt.title('Compare genres of art or commercial films \\n (higher value  is  more closed to art film)')\n",
    "ax = sns.heatmap(matrix, xticklabels=genre_list, yticklabels=genre_list, annot=True,  cmap='RdYlGn_r')\n",
    "ax"
   ]
  },
  {
   "cell_type": "markdown",
   "id": "e8fe3164",
   "metadata": {},
   "source": [
    "## 후기 :  \n",
    "### 교재 따라하다 혼돈만 증가했다. 왜 이렇게 설명해야 했을까 왜 이렇게 코딩을 했을까 다시 생각해보는 계기가 되었다.  \n",
    "### 식을 설명하는 논문 30줄 정도 읽고 나름 대로 정리를 하고 코딩을 수정했다.  \n",
    "###  attribute words A, B에 예술영화와 상업영화를 넣고 X, Y에는 다양한 장르를 넣어서 특정장르가 예술영화와 상업영화 어느쪽에 가까운지 계산 하였다. (LMS 교재는 X, Y에 예술영화와 상업영화를 넣었다)  \n",
    "###  표 보는 법이 좀 애매한데 좌측에 있는 장르와 하단에 있는 장르를 비교해서 좌측에 있는 장르가 예술영화에 가까운가(양수) 또는 상업영화에 가까운가(음수)를 표시한 것이다.  \n",
    "### 로맨스 장르는 다른 장르에 비해서 빈번하게 나타나는 단어들만으로 따지면 점수가 높아서 예술영화쪽으로 분류되는 성향이 강하게 나타난다.  \n",
    "### 의외로 다큐멘터리가 상업영화에 가깝게 나타났다.  \n",
    "### WEAT score가 0.8 이상, -0.8 이하의 경우만 해석.  코드실행결과 출력(out[76])이 길어서 그런지 깃허브에서 보이지 않는다. 코드를 다운받으면 볼 수 있다."
   ]
  },
  {
   "cell_type": "markdown",
   "id": "462a16ef",
   "metadata": {},
   "source": [
    "#### 관련논문 날림 파파고 번역\n",
    "https://arxiv.org/pdf/1608.07187.pdf 9페이지\n",
    "\n",
    "\n",
    "WEAT(Word Embedding Association Test)\n",
    "편견을 입증하고 정량화하기 위해 permutation test를 사용합니다. IAT 문헌에서 용어를 차용하여 두 가지 세트를 고려합니다.\n",
    "**대상 단어**(**target words**)(**예: 프로그래머, 엔지니어, 과학자, ... 및 간호사, 교사, 사서**, ...)와 두 세트의 **속성 단어(attribute words) (예: 남자, 남자, ..., 여자, 여자...)(e.g., man, male, ... and woman, female ...)** 귀무 가설은 두 대상 집합 사이에 차이가 없다는 것입니다.\n",
    "두 가지 속성 단어 세트와의 상대적 유사성 측면에서 단어. permutation test은 다음과 같은 가능성을 측정합니다.\n",
    "속성 단어(attribute words)의 무작위 순열이 관찰된 것을 만들어 낼 확률을 계산함으로써 귀무 가설 표본 평균의 차이(또는 그 이상)입니다.\n",
    "형식적인 용어로 **X와 Y를 같은 크기**의 **대상 단어 타깃 워드**의 두 세트, **A와 B를 속성 단어**의 두 세트라고 합니다. cos($a^→$, $b^→$)는 벡터 $a^→$와  $b^→$ 사이 각도의 코사인입니다.\n",
    "\n",
    "$$\n",
    "s(X,Y,A,B) = ∑_{\n",
    "x∈X}\n",
    "s(x,A,B)− ∑_{\n",
    "y∈Y}\n",
    "s(y,A,B)\n",
    "$$\n",
    "\n",
    "여기서\n",
    "\n",
    "$$\n",
    "s(w,A,B)=mean_{a∈A}cos(w^→,a^→)−mean_{b∈B}cos(w^→,b^→)\n",
    "$$\n",
    "\n",
    "즉, s(w,A,B)는 단어 w와 속성과의 관련성을 측정하고 s(X,Y,A,B)는 두 세트의 표적 단어와 속성과의 차이 값을 측정합니다. \n",
    "\n",
    "$\\{(X_i, Y_i)\\}_i$ 는  $X \\cup Y$ 의 모든 파티션을 동일한 크기의 두 집합으로 나타낸다고 합시다. permutation test의 one-sided p-value는 \n",
    "\n",
    "$$\n",
    "Pr_i[s(X_i, Y_i, A, B) > s(X, Y, A, B)]\n",
    "$$\n",
    "\n",
    "effect size 는\n",
    "\n",
    "$$\n",
    "{mean_{x∈X}s(x,A,B)−mean_{y∈Y}s(y,A,B)}\\over{std_{w∈X∪Y}s(w,A,B)}\n",
    "$$\n",
    "\n",
    "이것은 두 분포(목표값과 속성 사이의 연관성)가 얼마나 분리되어 있는지에 대한 정규화된 측도입니다.\n",
    "\n",
    "이러한 p-values와 effect sizes가 IAT와 동일한 해석을 가지고 있지 않음을 다시 설명합니다. 모델의 '대상'은 실험에 쓰인 단어들(words)을 뜻하는 것이지 사람이 아니다.  IAT는 단일 대상 쌍 간의 차등 연관성(differential association between a single pair of target concepts and an attribute)을 측정할 수 있지만, WEAT는 개념과 속성, 두 세트의 target concepts과  attribute 사이의 차이 연관성(differential association between two sets of target concepts and an attribute)만 측정할 수 있습니다."
   ]
  },
  {
   "cell_type": "code",
   "execution_count": null,
   "id": "04c87b9e",
   "metadata": {},
   "outputs": [],
   "source": []
  }
 ],
 "metadata": {
  "kernelspec": {
   "display_name": "Python 3 (ipykernel)",
   "language": "python",
   "name": "python3"
  },
  "language_info": {
   "codemirror_mode": {
    "name": "ipython",
    "version": 3
   },
   "file_extension": ".py",
   "mimetype": "text/x-python",
   "name": "python",
   "nbconvert_exporter": "python",
   "pygments_lexer": "ipython3",
   "version": "3.8.12"
  }
 },
 "nbformat": 4,
 "nbformat_minor": 5
}
