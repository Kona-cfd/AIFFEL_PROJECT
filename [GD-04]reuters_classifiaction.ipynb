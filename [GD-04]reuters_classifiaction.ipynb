{
 "cells": [
  {
   "cell_type": "markdown",
   "id": "0e43b0a3",
   "metadata": {
    "id": "d123a5b8"
   },
   "source": [
    "## 4. 뉴스 카테고리 다중분류"
   ]
  },
  {
   "cell_type": "markdown",
   "id": "5c82922c",
   "metadata": {
    "id": "1f9e7cc2"
   },
   "source": [
    "### ****4-1. 들어가며****\n",
    "\n",
    "****머신러닝을 이용한 텍스트 분류****\n",
    "\n",
    "텍스트 분류(Text Classification) - 주어진 텍스트를 사전 정의된 클래스(Pre-defined Class)들로 분류하는 자연어 처리 태스크\n",
    "\n",
    "텍스트 분류 종류 - '스팸 메일 자동 분류', '사용자의 리뷰로부터 긍정, 부정을 판단하는 감성 분류', '포털 사이트가 언론사의 뉴스들을 문화, 정치 등으로 자동 분류하여 보여주는 뉴스 카테고리 분류'"
   ]
  },
  {
   "cell_type": "markdown",
   "id": "908385b4",
   "metadata": {
    "id": "4251a26a"
   },
   "source": [
    "#### 텍스트 분류 과정"
   ]
  },
  {
   "cell_type": "markdown",
   "id": "b75b0c5f",
   "metadata": {
    "id": "c60bbb78"
   },
   "source": [
    "벡터화 방법 - 워드 임베딩\n",
    "\n",
    "딥러닝 모델 - RNN, CNN, BERT\n",
    "\n",
    "**텍스트 분류**\n",
    "\n",
    "이진 분류(Binary Classification) - 클래스가 2개인 경우\n",
    "\n",
    "다중 클래스 분류(Multiclass Classification) - 3개 이상인 경우 ****\n",
    "\n",
    "**여러 머신러닝 알고리즘을 사용해서 텍스트를 분류**"
   ]
  },
  {
   "cell_type": "markdown",
   "id": "f1ffc828",
   "metadata": {
    "id": "ef5bc397"
   },
   "source": [
    "### ****4-2. 로이터 뉴스 데이터 (1) 데이터 확인하기****\n",
    "\n",
    "로이터 뉴스 데이터 - 텐서플로우 데이터셋에서 제공하고 있는 데이터로 총 46개의 클래스로 구성"
   ]
  },
  {
   "cell_type": "code",
   "execution_count": 1,
   "id": "dad12a4a",
   "metadata": {
    "executionInfo": {
     "elapsed": 312,
     "status": "ok",
     "timestamp": 1647962780862,
     "user": {
      "displayName": "김원",
      "photoUrl": "https://lh3.googleusercontent.com/a-/AOh14GgvV0kpow6ScghG9dKtn2fSZZrypgReLbsjMwdO=s64",
      "userId": "06508057127562568720"
     },
     "user_tz": -540
    },
    "id": "1e904bb6"
   },
   "outputs": [],
   "source": [
    "from tensorflow.keras.datasets import reuters\n",
    "import matplotlib.pyplot as plt\n",
    "import seaborn as sns\n",
    "import numpy as np\n",
    "import pandas as pd\n"
   ]
  },
  {
   "cell_type": "markdown",
   "id": "97e0ab29",
   "metadata": {
    "id": "a291b209"
   },
   "source": [
    "#### 훈련 데이터와 테스트 데이터 로드하기"
   ]
  },
  {
   "cell_type": "code",
   "execution_count": 2,
   "id": "f3875860",
   "metadata": {
    "colab": {
     "base_uri": "https://localhost:8080/"
    },
    "executionInfo": {
     "elapsed": 1315,
     "status": "ok",
     "timestamp": 1647962782674,
     "user": {
      "displayName": "김원",
      "photoUrl": "https://lh3.googleusercontent.com/a-/AOh14GgvV0kpow6ScghG9dKtn2fSZZrypgReLbsjMwdO=s64",
      "userId": "06508057127562568720"
     },
     "user_tz": -540
    },
    "id": "6bc4c08e",
    "outputId": "2bbb07cb-7cbb-4af0-a71b-7b28b22bff2e"
   },
   "outputs": [
    {
     "name": "stdout",
     "output_type": "stream",
     "text": [
      "Downloading data from https://storage.googleapis.com/tensorflow/tf-keras-datasets/reuters.npz\n",
      "2113536/2110848 [==============================] - 0s 0us/step\n",
      "2121728/2110848 [==============================] - 0s 0us/step\n",
      "훈련 샘플의 수: 8982\n",
      "테스트 샘플의 수: 2246\n"
     ]
    }
   ],
   "source": [
    "(x_train, y_train), (x_test, y_test) = reuters.load_data(num_words=10000, test_split=0.2)\n",
    "print('훈련 샘플의 수: {}'.format(len(x_train)))\n",
    "print('테스트 샘플의 수: {}'.format(len(x_test)))"
   ]
  },
  {
   "cell_type": "markdown",
   "id": "4a7e20a9",
   "metadata": {
    "id": "22ea092b"
   },
   "source": [
    "### 데이터 출력해보기"
   ]
  },
  {
   "cell_type": "code",
   "execution_count": 3,
   "id": "1434efaf",
   "metadata": {
    "colab": {
     "base_uri": "https://localhost:8080/"
    },
    "executionInfo": {
     "elapsed": 14,
     "status": "ok",
     "timestamp": 1647962782675,
     "user": {
      "displayName": "김원",
      "photoUrl": "https://lh3.googleusercontent.com/a-/AOh14GgvV0kpow6ScghG9dKtn2fSZZrypgReLbsjMwdO=s64",
      "userId": "06508057127562568720"
     },
     "user_tz": -540
    },
    "id": "1d76e9f4",
    "outputId": "f98c6667-9ba2-41e5-82f0-688eb8a7191e"
   },
   "outputs": [
    {
     "name": "stdout",
     "output_type": "stream",
     "text": [
      "[1, 2, 2, 8, 43, 10, 447, 5, 25, 207, 270, 5, 3095, 111, 16, 369, 186, 90, 67, 7, 89, 5, 19, 102, 6, 19, 124, 15, 90, 67, 84, 22, 482, 26, 7, 48, 4, 49, 8, 864, 39, 209, 154, 6, 151, 6, 83, 11, 15, 22, 155, 11, 15, 7, 48, 9, 4579, 1005, 504, 6, 258, 6, 272, 11, 15, 22, 134, 44, 11, 15, 16, 8, 197, 1245, 90, 67, 52, 29, 209, 30, 32, 132, 6, 109, 15, 17, 12]\n",
      "[1, 4, 1378, 2025, 9, 697, 4622, 111, 8, 25, 109, 29, 3650, 11, 150, 244, 364, 33, 30, 30, 1398, 333, 6, 2, 159, 9, 1084, 363, 13, 2, 71, 9, 2, 71, 117, 4, 225, 78, 206, 10, 9, 1214, 8, 4, 270, 5, 2, 7, 748, 48, 9, 2, 7, 207, 1451, 966, 1864, 793, 97, 133, 336, 7, 4, 493, 98, 273, 104, 284, 25, 39, 338, 22, 905, 220, 3465, 644, 59, 20, 6, 119, 61, 11, 15, 58, 579, 26, 10, 67, 7, 4, 738, 98, 43, 88, 333, 722, 12, 20, 6, 19, 746, 35, 15, 10, 9, 1214, 855, 129, 783, 21, 4, 2280, 244, 364, 51, 16, 299, 452, 16, 515, 4, 99, 29, 5, 4, 364, 281, 48, 10, 9, 1214, 23, 644, 47, 20, 324, 27, 56, 2, 2, 5, 192, 510, 17, 12]\n"
     ]
    }
   ],
   "source": [
    "print(x_train[0])\n",
    "print(x_test[0])"
   ]
  },
  {
   "cell_type": "markdown",
   "id": "ae07f0e8",
   "metadata": {
    "id": "2a21298f"
   },
   "source": [
    "`num_words`는 이 데이터에서 빈도수 기준으로 상위 몇 번째 단어까지 사용할 것인지 조절\n",
    "\n",
    "`num_words`의 인자로 10,000을 기재한다고 해서 10,000보다 높은 정수가 맵핑된 단어들이 받아온 데이터에서 사라지는 게 아님\n",
    "\n",
    "`test_split = 0.2`는 전체 데이터 중에서 80%를 훈련 데이터, 20%를 테스트 데이터로 사용한다는 의미"
   ]
  },
  {
   "cell_type": "code",
   "execution_count": 4,
   "id": "2e6c3274",
   "metadata": {
    "colab": {
     "base_uri": "https://localhost:8080/"
    },
    "executionInfo": {
     "elapsed": 12,
     "status": "ok",
     "timestamp": 1647962782676,
     "user": {
      "displayName": "김원",
      "photoUrl": "https://lh3.googleusercontent.com/a-/AOh14GgvV0kpow6ScghG9dKtn2fSZZrypgReLbsjMwdO=s64",
      "userId": "06508057127562568720"
     },
     "user_tz": -540
    },
    "id": "2e9430db",
    "outputId": "8f9a40d2-9c37-4809-ce80-9632c104b652"
   },
   "outputs": [
    {
     "name": "stdout",
     "output_type": "stream",
     "text": [
      "3\n",
      "3\n"
     ]
    }
   ],
   "source": [
    "print(y_train[0])\n",
    "print(y_test[0])"
   ]
  },
  {
   "cell_type": "code",
   "execution_count": 5,
   "id": "aacb264d",
   "metadata": {
    "colab": {
     "base_uri": "https://localhost:8080/"
    },
    "executionInfo": {
     "elapsed": 9,
     "status": "ok",
     "timestamp": 1647962782676,
     "user": {
      "displayName": "김원",
      "photoUrl": "https://lh3.googleusercontent.com/a-/AOh14GgvV0kpow6ScghG9dKtn2fSZZrypgReLbsjMwdO=s64",
      "userId": "06508057127562568720"
     },
     "user_tz": -540
    },
    "id": "be8c89fc",
    "outputId": "875a932a-967c-40e5-e3f3-660ab952a43f"
   },
   "outputs": [
    {
     "name": "stdout",
     "output_type": "stream",
     "text": [
      "클래스의 수 : 46\n"
     ]
    }
   ],
   "source": [
    "num_classes = max(y_train) + 1\n",
    "print('클래스의 수 : {}'.format(num_classes))"
   ]
  },
  {
   "cell_type": "markdown",
   "id": "5d022365",
   "metadata": {
    "id": "06e532fd"
   },
   "source": [
    "#### 데이터 분포 확인해보기"
   ]
  },
  {
   "cell_type": "code",
   "execution_count": 6,
   "id": "4fba32e6",
   "metadata": {
    "colab": {
     "base_uri": "https://localhost:8080/",
     "height": 317
    },
    "executionInfo": {
     "elapsed": 557,
     "status": "ok",
     "timestamp": 1647962783226,
     "user": {
      "displayName": "김원",
      "photoUrl": "https://lh3.googleusercontent.com/a-/AOh14GgvV0kpow6ScghG9dKtn2fSZZrypgReLbsjMwdO=s64",
      "userId": "06508057127562568720"
     },
     "user_tz": -540
    },
    "id": "68e53336",
    "outputId": "7159b7f4-ebdf-42f0-c668-8f0e38e3eaa7"
   },
   "outputs": [
    {
     "name": "stdout",
     "output_type": "stream",
     "text": [
      "훈련용 뉴스의 최대 길이 :2376\n",
      "훈련용 뉴스의 평균 길이 :145.5398574927633\n"
     ]
    },
    {
     "data": {
      "image/png": "[encoded data removed]",
      "text/plain": [
       "<Figure size 432x288 with 1 Axes>"
      ]
     },
     "metadata": {
      "needs_background": "light"
     },
     "output_type": "display_data"
    }
   ],
   "source": [
    "print('훈련용 뉴스의 최대 길이 :{}'.format(max(len(l) for l in x_train)))\n",
    "print('훈련용 뉴스의 평균 길이 :{}'.format(sum(map(len, x_train))/len(x_train)))\n",
    "\n",
    "plt.hist([len(s) for s in x_train], bins=50)\n",
    "plt.xlabel('length of samples')\n",
    "plt.ylabel('number of samples')\n",
    "plt.show()"
   ]
  },
  {
   "cell_type": "markdown",
   "id": "53dc1eff",
   "metadata": {
    "id": "c2843949"
   },
   "source": [
    "길이가 가장 긴 뉴스의 길이는 2,376입니다. 평균 길이는 145"
   ]
  },
  {
   "cell_type": "code",
   "execution_count": 7,
   "id": "2b997cc1",
   "metadata": {
    "colab": {
     "base_uri": "https://localhost:8080/",
     "height": 320
    },
    "executionInfo": {
     "elapsed": 24,
     "status": "ok",
     "timestamp": 1647962783227,
     "user": {
      "displayName": "김원",
      "photoUrl": "https://lh3.googleusercontent.com/a-/AOh14GgvV0kpow6ScghG9dKtn2fSZZrypgReLbsjMwdO=s64",
      "userId": "06508057127562568720"
     },
     "user_tz": -540
    },
    "id": "38d823c8",
    "outputId": "d7bf8258-20fb-47af-bb3a-a04e807bc0a3"
   },
   "outputs": [
    {
     "data": {
      "image/png": "[encoded data removed]",
      "text/plain": [
       "<Figure size 792x360 with 1 Axes>"
      ]
     },
     "metadata": {
      "needs_background": "light"
     },
     "output_type": "display_data"
    }
   ],
   "source": [
    "fig, axe = plt.subplots(ncols=1)\n",
    "fig.set_size_inches(11,5)\n",
    "sns.countplot(x=y_train)\n",
    "plt.show()"
   ]
  },
  {
   "cell_type": "code",
   "execution_count": 8,
   "id": "1cbb2137",
   "metadata": {
    "colab": {
     "base_uri": "https://localhost:8080/"
    },
    "executionInfo": {
     "elapsed": 24,
     "status": "ok",
     "timestamp": 1647962783228,
     "user": {
      "displayName": "김원",
      "photoUrl": "https://lh3.googleusercontent.com/a-/AOh14GgvV0kpow6ScghG9dKtn2fSZZrypgReLbsjMwdO=s64",
      "userId": "06508057127562568720"
     },
     "user_tz": -540
    },
    "id": "6f98d0f1",
    "outputId": "25980aa6-ad35-420d-f301-2d19c68b01bd"
   },
   "outputs": [
    {
     "name": "stdout",
     "output_type": "stream",
     "text": [
      "각 클래스 빈도수:\n",
      "[[   0    1    2    3    4    5    6    7    8    9   10   11   12   13\n",
      "    14   15   16   17   18   19   20   21   22   23   24   25   26   27\n",
      "    28   29   30   31   32   33   34   35   36   37   38   39   40   41\n",
      "    42   43   44   45]\n",
      " [  55  432   74 3159 1949   17   48   16  139  101  124  390   49  172\n",
      "    26   20  444   39   66  549  269  100   15   41   62   92   24   15\n",
      "    48   19   45   39   32   11   50   10   49   19   19   24   36   30\n",
      "    13   21   12   18]]\n"
     ]
    }
   ],
   "source": [
    "unique_elements, counts_elements = np.unique(y_train, return_counts=True)\n",
    "print(\"각 클래스 빈도수:\")\n",
    "print(np.asarray((unique_elements, counts_elements)))"
   ]
  },
  {
   "cell_type": "markdown",
   "id": "e9d3470c",
   "metadata": {
    "id": "c5610f6a"
   },
   "source": [
    "3번, 4번 클래스의 경우에는 각각 3,159개와 1,949개가 존재"
   ]
  },
  {
   "cell_type": "markdown",
   "id": "1e39f102",
   "metadata": {
    "id": "866013a7"
   },
   "source": [
    "### ****4-3. 로이터 뉴스 데이터 (2) 데이터 복원하기****\n",
    "\n",
    "****원본 뉴스 데이터로 복원해보기****\n",
    "\n",
    "로이터 뉴스 데이터는 '단어'를 key값으로, 고유한 '정수'를 value로 가지는 dictionary를 제공"
   ]
  },
  {
   "cell_type": "code",
   "execution_count": 9,
   "id": "e021c1ac",
   "metadata": {
    "colab": {
     "base_uri": "https://localhost:8080/"
    },
    "executionInfo": {
     "elapsed": 475,
     "status": "ok",
     "timestamp": 1647962783683,
     "user": {
      "displayName": "김원",
      "photoUrl": "https://lh3.googleusercontent.com/a-/AOh14GgvV0kpow6ScghG9dKtn2fSZZrypgReLbsjMwdO=s64",
      "userId": "06508057127562568720"
     },
     "user_tz": -540
    },
    "id": "b2e04e77",
    "outputId": "208bc1a2-3c4a-4510-f263-cc049b84994e"
   },
   "outputs": [
    {
     "name": "stdout",
     "output_type": "stream",
     "text": [
      "Downloading data from https://storage.googleapis.com/tensorflow/tf-keras-datasets/reuters_word_index.json\n",
      "557056/550378 [==============================] - 0s 0us/step\n",
      "565248/550378 [==============================] - 0s 0us/step\n",
      "=3\n"
     ]
    }
   ],
   "source": [
    "word_index = reuters.get_word_index(path=\"reuters_word_index.json\")\n",
    "print('=3')"
   ]
  },
  {
   "cell_type": "code",
   "execution_count": 10,
   "id": "ad416eb1",
   "metadata": {
    "colab": {
     "base_uri": "https://localhost:8080/"
    },
    "executionInfo": {
     "elapsed": 36,
     "status": "ok",
     "timestamp": 1647962783684,
     "user": {
      "displayName": "김원",
      "photoUrl": "https://lh3.googleusercontent.com/a-/AOh14GgvV0kpow6ScghG9dKtn2fSZZrypgReLbsjMwdO=s64",
      "userId": "06508057127562568720"
     },
     "user_tz": -540
    },
    "id": "1f47b2fe",
    "outputId": "a81b014e-ec75-4f48-d2a6-3e71dbffc330"
   },
   "outputs": [
    {
     "data": {
      "text/plain": [
       "1"
      ]
     },
     "execution_count": 10,
     "metadata": {},
     "output_type": "execute_result"
    }
   ],
   "source": [
    "word_index['the']"
   ]
  },
  {
   "cell_type": "markdown",
   "id": "4127d716",
   "metadata": {
    "id": "977afaa9"
   },
   "source": [
    "단어 'the'는 정수 1과 맵핑"
   ]
  },
  {
   "cell_type": "code",
   "execution_count": 11,
   "id": "b5fc6329",
   "metadata": {
    "colab": {
     "base_uri": "https://localhost:8080/"
    },
    "executionInfo": {
     "elapsed": 34,
     "status": "ok",
     "timestamp": 1647962783685,
     "user": {
      "displayName": "김원",
      "photoUrl": "https://lh3.googleusercontent.com/a-/AOh14GgvV0kpow6ScghG9dKtn2fSZZrypgReLbsjMwdO=s64",
      "userId": "06508057127562568720"
     },
     "user_tz": -540
    },
    "id": "601cdb24",
    "outputId": "c096b416-8b4d-4f7d-ea31-98ce46e52f10"
   },
   "outputs": [
    {
     "data": {
      "text/plain": [
       "1"
      ]
     },
     "execution_count": 11,
     "metadata": {},
     "output_type": "execute_result"
    }
   ],
   "source": [
    "word_index['the']"
   ]
  },
  {
   "cell_type": "markdown",
   "id": "b5ce1b41",
   "metadata": {
    "id": "9b545b6b"
   },
   "source": [
    "단어 'it'은 정수 13과 맵핑\n",
    "\n",
    "단어 'it'은 사실 13번 단어가 아니라 16번 단어, 단어 'the'는  1번이 아니라 4번 단어\n",
    "\n",
    "`reuters.get_word_index`에는 실제 단어에 맵핑 한 정수에 -3을 한 정수를 입력"
   ]
  },
  {
   "cell_type": "code",
   "execution_count": 12,
   "id": "1b8ca86d",
   "metadata": {
    "colab": {
     "base_uri": "https://localhost:8080/"
    },
    "executionInfo": {
     "elapsed": 32,
     "status": "ok",
     "timestamp": 1647962783686,
     "user": {
      "displayName": "김원",
      "photoUrl": "https://lh3.googleusercontent.com/a-/AOh14GgvV0kpow6ScghG9dKtn2fSZZrypgReLbsjMwdO=s64",
      "userId": "06508057127562568720"
     },
     "user_tz": -540
    },
    "id": "061b2118",
    "outputId": "bb2d09c1-a757-4f1a-d4d8-318947bd2362"
   },
   "outputs": [
    {
     "name": "stdout",
     "output_type": "stream",
     "text": [
      "=3\n",
      "the\n",
      "it\n"
     ]
    }
   ],
   "source": [
    "index_to_word = { index+3 : word for word, index in word_index.items() }\n",
    "print('=3')\n",
    "print(index_to_word[4])\n",
    "print(index_to_word[16])"
   ]
  },
  {
   "cell_type": "markdown",
   "id": "3b5a65d0",
   "metadata": {
    "id": "fe94e481"
   },
   "source": [
    "0번, 1번, 2번은 사실 각각 <pad>, <sos>, <unk>라는 자연어 처리를 위한 특별한 토큰들을 위해 맵핑된 번호"
   ]
  },
  {
   "cell_type": "code",
   "execution_count": 13,
   "id": "b3f608d1",
   "metadata": {
    "colab": {
     "base_uri": "https://localhost:8080/"
    },
    "executionInfo": {
     "elapsed": 31,
     "status": "ok",
     "timestamp": 1647962783687,
     "user": {
      "displayName": "김원",
      "photoUrl": "https://lh3.googleusercontent.com/a-/AOh14GgvV0kpow6ScghG9dKtn2fSZZrypgReLbsjMwdO=s64",
      "userId": "06508057127562568720"
     },
     "user_tz": -540
    },
    "id": "f19609af",
    "outputId": "52cdd9f7-de8c-4d90-d1c4-f995ed5af005"
   },
   "outputs": [
    {
     "name": "stdout",
     "output_type": "stream",
     "text": [
      "=3\n"
     ]
    }
   ],
   "source": [
    "# index_to_word에 숫자 0은 <pad>, 숫자 1은 <sos>, 숫자 2는 <unk>를 넣어줍니다.\n",
    "for index, token in enumerate((\"<pad>\", \"<sos>\", \"<unk>\")):\n",
    "  index_to_word[index]=token\n",
    "print('=3')"
   ]
  },
  {
   "cell_type": "markdown",
   "id": "172a3e72",
   "metadata": {
    "id": "16af457b"
   },
   "source": [
    "index_to_word를 통해서 첫 번째 훈련용 뉴스 기사를 원래 텍스트로 복원"
   ]
  },
  {
   "cell_type": "code",
   "execution_count": 14,
   "id": "b8be609f",
   "metadata": {
    "colab": {
     "base_uri": "https://localhost:8080/"
    },
    "executionInfo": {
     "elapsed": 29,
     "status": "ok",
     "timestamp": 1647962783688,
     "user": {
      "displayName": "김원",
      "photoUrl": "https://lh3.googleusercontent.com/a-/AOh14GgvV0kpow6ScghG9dKtn2fSZZrypgReLbsjMwdO=s64",
      "userId": "06508057127562568720"
     },
     "user_tz": -540
    },
    "id": "fe6f76a1",
    "outputId": "a50d76f0-9bea-42a9-9269-44008f6df8bd"
   },
   "outputs": [
    {
     "name": "stdout",
     "output_type": "stream",
     "text": [
      "<sos> <unk> <unk> said as a result of its december acquisition of space co it expects earnings per share in 1987 of 1 15 to 1 30 dlrs per share up from 70 cts in 1986 the company said pretax net should rise to nine to 10 mln dlrs from six mln dlrs in 1986 and rental operation revenues to 19 to 22 mln dlrs from 12 5 mln dlrs it said cash flow per share this year should be 2 50 to three dlrs reuter 3\n"
     ]
    }
   ],
   "source": [
    "print(' '.join([index_to_word[index] for index in x_train[0]]))"
   ]
  },
  {
   "cell_type": "markdown",
   "id": "01667494",
   "metadata": {
    "id": "6178e18c"
   },
   "source": [
    "****OOV 문제와 UNK 토큰****\n",
    "\n",
    "단어장(Vocabulary) - 기계가 알고 있는 단어들의 집합\n",
    "\n",
    "OOV(Out-Of-Vocabulary) 또는 UNK(Unknown) - 기계가 미처 배우지 못한 모르는 단어\n",
    "\n",
    "`num_words=10000`는 정수 번호가 10,000이 넘는 단어들을 자동으로 `<unk>` 토큰으로 처리"
   ]
  },
  {
   "cell_type": "code",
   "execution_count": 15,
   "id": "86c2d3ab",
   "metadata": {
    "colab": {
     "base_uri": "https://localhost:8080/"
    },
    "executionInfo": {
     "elapsed": 28,
     "status": "ok",
     "timestamp": 1647962783689,
     "user": {
      "displayName": "김원",
      "photoUrl": "https://lh3.googleusercontent.com/a-/AOh14GgvV0kpow6ScghG9dKtn2fSZZrypgReLbsjMwdO=s64",
      "userId": "06508057127562568720"
     },
     "user_tz": -540
    },
    "id": "fb91a4d9",
    "outputId": "5c7682a5-76e8-4cfe-9980-e667a99b9db7"
   },
   "outputs": [
    {
     "name": "stdout",
     "output_type": "stream",
     "text": [
      "8982\n"
     ]
    }
   ],
   "source": [
    "decoded = []\n",
    "for i in range(len(x_train)):\n",
    "    t = ' '.join([index_to_word[index] for index in x_train[i]])\n",
    "    decoded.append(t)\n",
    "\n",
    "x_train = decoded\n",
    "print(len(x_train))"
   ]
  },
  {
   "cell_type": "code",
   "execution_count": 16,
   "id": "24872649",
   "metadata": {
    "colab": {
     "base_uri": "https://localhost:8080/"
    },
    "executionInfo": {
     "elapsed": 25,
     "status": "ok",
     "timestamp": 1647962783689,
     "user": {
      "displayName": "김원",
      "photoUrl": "https://lh3.googleusercontent.com/a-/AOh14GgvV0kpow6ScghG9dKtn2fSZZrypgReLbsjMwdO=s64",
      "userId": "06508057127562568720"
     },
     "user_tz": -540
    },
    "id": "fa56c188",
    "outputId": "531a7095-2c96-40fd-9c0a-a04b7102600c"
   },
   "outputs": [
    {
     "name": "stdout",
     "output_type": "stream",
     "text": [
      "2246\n"
     ]
    }
   ],
   "source": [
    "decoded = []\n",
    "for i in range(len(x_test)):\n",
    "    t = ' '.join([index_to_word[index] for index in x_test[i]])\n",
    "    decoded.append(t)\n",
    "\n",
    "x_test = decoded\n",
    "print(len(x_test))"
   ]
  },
  {
   "cell_type": "code",
   "execution_count": 17,
   "id": "2b2462e3",
   "metadata": {
    "colab": {
     "base_uri": "https://localhost:8080/"
    },
    "executionInfo": {
     "elapsed": 24,
     "status": "ok",
     "timestamp": 1647962783690,
     "user": {
      "displayName": "김원",
      "photoUrl": "https://lh3.googleusercontent.com/a-/AOh14GgvV0kpow6ScghG9dKtn2fSZZrypgReLbsjMwdO=s64",
      "userId": "06508057127562568720"
     },
     "user_tz": -540
    },
    "id": "ae20274c",
    "outputId": "55fc9021-68ba-4fa6-c656-f34eb925be87"
   },
   "outputs": [
    {
     "data": {
      "text/plain": [
       "['<sos> <unk> <unk> said as a result of its december acquisition of space co it expects earnings per share in 1987 of 1 15 to 1 30 dlrs per share up from 70 cts in 1986 the company said pretax net should rise to nine to 10 mln dlrs from six mln dlrs in 1986 and rental operation revenues to 19 to 22 mln dlrs from 12 5 mln dlrs it said cash flow per share this year should be 2 50 to three dlrs reuter 3',\n",
       " '<sos> generale de banque sa lt <unk> br and lt heller overseas corp of chicago have each taken 50 pct stakes in <unk> company sa <unk> factors generale de banque said in a statement it gave no financial details of the transaction sa <unk> <unk> turnover in 1986 was 17 5 billion belgian francs reuter 3',\n",
       " '<sos> shr 3 28 dlrs vs 22 cts shr diluted 2 99 dlrs vs 22 cts net 46 0 mln vs 3 328 000 avg shrs 14 0 mln vs 15 2 mln year shr 5 41 dlrs vs 1 56 dlrs shr diluted 4 94 dlrs vs 1 50 dlrs net 78 2 mln vs 25 9 mln avg shrs 14 5 mln vs 15 1 mln note earnings per share reflect the two for one split effective january 6 1987 per share amounts are calculated after preferred stock dividends loss continuing operations for the qtr 1986 includes gains of sale of investments in <unk> corp of 14 mln dlrs and associated companies of 4 189 000 less writedowns of investments in national <unk> inc of 11 8 mln and <unk> corp of 15 6 mln reuter 3',\n",
       " \"<sos> the farmers home administration the u s agriculture department's farm lending arm could lose about seven billion dlrs in outstanding principal on its severely <unk> borrowers or about one fourth of its farm loan portfolio the general accounting office gao said in remarks prepared for delivery to the senate agriculture committee brian crowley senior associate director of gao also said that a preliminary analysis of proposed changes in <unk> financial eligibility standards indicated as many as one half of <unk> borrowers who received new loans from the agency in 1986 would be <unk> under the proposed system the agency has proposed evaluating <unk> credit using a variety of financial ratios instead of relying solely on <unk> ability senate agriculture committee chairman patrick leahy d vt <unk> the proposed eligibility changes telling <unk> administrator <unk> clark at a hearing that they would mark a dramatic shift in the agency's purpose away from being farmers' lender of last resort toward becoming a big city bank but clark defended the new regulations saying the agency had a responsibility to <unk> its 70 billion dlr loan portfolio in a <unk> yet <unk> manner crowley of gao <unk> <unk> arm said the proposed credit <unk> system attempted to ensure that <unk> would make loans only to borrowers who had a reasonable change of repaying their debt reuter 3\",\n",
       " '<sos> seton co said its board has received a proposal from chairman and chief executive officer philip d <unk> to acquire seton for 15 75 dlrs per share in cash seton said the acquisition bid is subject to <unk> arranging the necessary financing it said he intends to ask other members of senior management to participate the company said <unk> owns 30 pct of seton stock and other management members another 7 5 pct seton said it has formed an independent board committee to consider the offer and has deferred the annual meeting it had scheduled for march 31 reuter 3']"
      ]
     },
     "execution_count": 17,
     "metadata": {},
     "output_type": "execute_result"
    }
   ],
   "source": [
    "x_train[:5]"
   ]
  },
  {
   "cell_type": "code",
   "execution_count": 18,
   "id": "719da93d",
   "metadata": {
    "colab": {
     "base_uri": "https://localhost:8080/"
    },
    "executionInfo": {
     "elapsed": 20,
     "status": "ok",
     "timestamp": 1647962783690,
     "user": {
      "displayName": "김원",
      "photoUrl": "https://lh3.googleusercontent.com/a-/AOh14GgvV0kpow6ScghG9dKtn2fSZZrypgReLbsjMwdO=s64",
      "userId": "06508057127562568720"
     },
     "user_tz": -540
    },
    "id": "2f910b1e",
    "outputId": "32f093b1-6bfc-4bee-ba8a-8a104ec77cff"
   },
   "outputs": [
    {
     "data": {
      "text/plain": [
       "['<sos> the great atlantic and pacific tea co said its three year 345 mln dlr capital program will be be substantially increased to <unk> growth and expansion plans for <unk> inc and <unk> inc over the next two years a and p said the acquisition of <unk> in august 1986 and <unk> in december helped us achieve better than expected results in the fourth quarter ended february 28 its net income from continuing operations jumped 52 6 pct to 20 7 mln dlrs or 55 cts a share in the latest quarter as sales increased 48 3 pct to 1 58 billion dlrs a and p gave no details on the expanded capital program but it did say it completed the first year of the program during 1986 a and p is 52 4 pct owned by lt <unk> <unk> of west germany reuter 3',\n",
       " \"<sos> philippine sugar production in the 1987 88 crop year ending august has been set at 1 6 mln tonnes up from a provisional 1 3 mln tonnes this year sugar regulatory administration <unk> chairman <unk> yulo said yulo told reuters a survey during the current milling season which ends next month showed the 1986 87 estimate would almost certainly be met he said at least 1 2 mln tonnes of the 1987 88 crop would be earmarked for domestic consumption yulo said about 130 000 tonnes would be set aside for the u s sugar quota 150 000 tonnes for strategic reserves and 50 000 tonnes would be sold on the world market he said if the government approved a long standing <unk> recommendation to manufacture ethanol the project would take up another 150 000 tonnes slightly raising the target the government for its own reasons has been delaying approval of the project but we expect it to come through by july yulo said ethanol could make up five pct of gasoline cutting the oil import bill by about 300 mln pesos yulo said three major philippine <unk> were ready to start manufacturing ethanol if the project was approved the ethanol project would result in employment for about 100 000 people sharply reducing those thrown out of work by depressed world sugar prices and a <unk> domestic industry production quotas set for the first time in 1987 88 had been submitted to president corazon aquino i think the president would rather wait <unk> the new congress <unk> after the may elections he said but there is really no need for such quotas we are right now producing just slightly over our own consumption level the producers have never enjoyed such high prices yulo said adding sugar was currently selling locally for 320 pesos per <unk> up from 190 pesos last august yulo said prices were driven up because of speculation following the <unk> bid to control production we are no longer concerned so much with the world market he said adding producers in the <unk> region had learned from their <unk> and diversified into corn and <unk> farming and <unk> production he said diversification into products other than ethanol was also possible within the sugar industry the <unk> long ago <unk> their <unk> yulo said they have 300 sugar mills compared with our 41 but they <unk> many of them and diversified production we want to call this a <unk> <unk> instead of the sugar industry he said sugarcane could be fed to pigs and livestock used for <unk> <unk> or used in room <unk> when you cut sugarcane you don't even have to produce sugar he said yulo said the philippines was lobbying for a renewal of the international sugar agreement which expired in 1984 as a major sugar producer we are urging them to write a new agreement which would revive world prices yulo said if there is no agreement world prices will always be depressed particularly because the european community is <unk> its producers and dumping sugar on the markets he said current world prices holding steady at about 7 60 cents per pound were <unk> for the philippines where production costs ranged from 12 to 14 cents a pound if the price holds steady for a while at 7 60 cents i expect the level to rise to about 11 cents a pound by the end of this year he said yulo said economists forecast a bullish sugar market by 1990 with world consumption <unk> production he said sugar markets were holding up despite <unk> from artificial sweeteners and high fructose corn syrup but we are not happy with the reagan administration he said since <unk> we have been regular suppliers of sugar to the u s in 1982 when they restored the quota system they cut <unk> in half without any justification manila was <unk> watching washington's moves to cut domestic support prices to 12 cents a pound from 18 cents the u s agriculture department last december slashed its 12 month 1987 sugar import quota from the philippines to 143 780 short tons from 231 660 short tons in 1986 yulo said despite next year's increased production target some philippine mills were expected to shut down at least four of the 41 mills were not working during the 1986 87 season he said we expect two or three more to follow suit during the next season reuter 3\",\n",
       " \"<sos> the agriculture department's widening of louisiana gulf differentials will affect county posted prices for number two yellow corn in ten states a usda official said all counties in iowa will be affected as will counties which use the gulf to price corn in illinois indiana tennessee kentucky missouri mississippi arkansas alabama and louisiana said <unk> <unk> deputy director of commodity operations division for the usda usda last night notified the grain industry that effective immediately all gulf differentials used to price interior corn would be widened on a sliding scale basis of four to eight cts depending on what the differential is usda's action was taken to lower excessively high posted county prices for corn caused by high gulf prices we've been following this louisiana gulf situation for a month and we don't think it's going to get back in line in any nearby time <unk> said <unk> said usda will probably narrow back the gulf differentials when and if gulf prices <unk> if we're off the mark now because we're too high wouldn't we be as much off the mark if we're too low he said while forecasting more adjustments if gulf prices fall <unk> said no other changes in usda's price system are being planned right now we don't tinker we don't make changes <unk> and we don't make changes often he said reuter 3\",\n",
       " '<sos> <unk> <unk> oil and gas partnership said it completed the sale of interests in two major oil and gas fields to lt energy assets international corp for 21 mln dlrs the company said it sold about one half of its 50 pct interest in the oak hill and north <unk> fields its two largest producing properties it said it used about 20 mln dlrs of the proceeds to <unk> principal on its senior secured notes semi annual principal payments on the remaining 40 mln dlrs of notes have been satisfied until december 1988 as a result it said the company said the note agreements were amended to reflect an easing of some financial covenants and an increase of interest to 13 5 pct from 13 0 pct until december 1990 it said the <unk> exercise price for 1 125 000 warrants was also reduced to 50 cts from 1 50 dlrs the company said energy assets agreed to share the costs of increasing production at the oak hill field reuter 3',\n",
       " '<sos> strong south <unk> winds were keeping many vessels trapped in the ice off the finnish and swedish coasts in one of the worst icy periods in the baltic for many years the finnish board of navigation said in finland and sweden up to 50 vessels were reported to be stuck in the ice and even the largest of the <unk> <unk> were having difficulties in breaking through to the <unk> ships <unk> officials said however icy conditions in the southern baltic at the soviet oil ports of <unk> and <unk> had eased they said weather officials in neighbouring sweden said the icy conditions in the baltic were the worst for 30 years with ships fighting a losing battle to keep moving in the coastal stretches of the gulf of <unk> which <unk> finland and sweden the ice is up to one <unk> thick with <unk> and <unk> packing it into almost <unk> walls three metres high swedish <unk> officials said weather forecasts say winds may ease during the weekend but a further drop in temperature could bring shipping to a standstill the officials said reuter 3']"
      ]
     },
     "execution_count": 18,
     "metadata": {},
     "output_type": "execute_result"
    }
   ],
   "source": [
    "x_test[:5]"
   ]
  },
  {
   "cell_type": "code",
   "execution_count": 19,
   "id": "f8a4143f",
   "metadata": {
    "colab": {
     "base_uri": "https://localhost:8080/"
    },
    "executionInfo": {
     "elapsed": 18,
     "status": "ok",
     "timestamp": 1647962783691,
     "user": {
      "displayName": "김원",
      "photoUrl": "https://lh3.googleusercontent.com/a-/AOh14GgvV0kpow6ScghG9dKtn2fSZZrypgReLbsjMwdO=s64",
      "userId": "06508057127562568720"
     },
     "user_tz": -540
    },
    "id": "d056e204",
    "outputId": "e5b778da-7886-4c15-b3a8-9ba87e079920"
   },
   "outputs": [
    {
     "data": {
      "text/plain": [
       "list"
      ]
     },
     "execution_count": 19,
     "metadata": {},
     "output_type": "execute_result"
    }
   ],
   "source": [
    "type(x_train)"
   ]
  },
  {
   "cell_type": "code",
   "execution_count": 20,
   "id": "268ead5b",
   "metadata": {
    "colab": {
     "base_uri": "https://localhost:8080/"
    },
    "executionInfo": {
     "elapsed": 316,
     "status": "ok",
     "timestamp": 1647962783993,
     "user": {
      "displayName": "김원",
      "photoUrl": "https://lh3.googleusercontent.com/a-/AOh14GgvV0kpow6ScghG9dKtn2fSZZrypgReLbsjMwdO=s64",
      "userId": "06508057127562568720"
     },
     "user_tz": -540
    },
    "id": "d3507762",
    "outputId": "b626cbf9-e030-4c5d-f8f9-333c37ab7634"
   },
   "outputs": [
    {
     "data": {
      "text/plain": [
       "str"
      ]
     },
     "execution_count": 20,
     "metadata": {},
     "output_type": "execute_result"
    }
   ],
   "source": [
    "type(x_train[0])"
   ]
  },
  {
   "cell_type": "code",
   "execution_count": 21,
   "id": "9b425851",
   "metadata": {
    "colab": {
     "base_uri": "https://localhost:8080/",
     "height": 92
    },
    "executionInfo": {
     "elapsed": 14,
     "status": "ok",
     "timestamp": 1647962783994,
     "user": {
      "displayName": "김원",
      "photoUrl": "https://lh3.googleusercontent.com/a-/AOh14GgvV0kpow6ScghG9dKtn2fSZZrypgReLbsjMwdO=s64",
      "userId": "06508057127562568720"
     },
     "user_tz": -540
    },
    "id": "89ac224b",
    "outputId": "a3c7fd41-e8c3-4e83-f64c-bf81a224c9fa"
   },
   "outputs": [
    {
     "data": {
      "text/plain": [
       "'<sos> <unk> <unk> said as a result of its december acquisition of space co it expects earnings per share in 1987 of 1 15 to 1 30 dlrs per share up from 70 cts in 1986 the company said pretax net should rise to nine to 10 mln dlrs from six mln dlrs in 1986 and rental operation revenues to 19 to 22 mln dlrs from 12 5 mln dlrs it said cash flow per share this year should be 2 50 to three dlrs reuter 3'"
      ]
     },
     "execution_count": 21,
     "metadata": {},
     "output_type": "execute_result"
    }
   ],
   "source": [
    "x_train[0]"
   ]
  },
  {
   "cell_type": "markdown",
   "id": "0a3b3f5a",
   "metadata": {
    "id": "d6dfc368"
   },
   "source": [
    "## 4-4. 벡터화 하기"
   ]
  },
  {
   "cell_type": "code",
   "execution_count": 22,
   "id": "1dfe6fcb",
   "metadata": {
    "colab": {
     "base_uri": "https://localhost:8080/"
    },
    "executionInfo": {
     "elapsed": 13,
     "status": "ok",
     "timestamp": 1647962783995,
     "user": {
      "displayName": "김원",
      "photoUrl": "https://lh3.googleusercontent.com/a-/AOh14GgvV0kpow6ScghG9dKtn2fSZZrypgReLbsjMwdO=s64",
      "userId": "06508057127562568720"
     },
     "user_tz": -540
    },
    "id": "10cd9ef4",
    "outputId": "564e1891-4bea-436a-a24a-15baf4d97dc2"
   },
   "outputs": [
    {
     "name": "stdout",
     "output_type": "stream",
     "text": [
      "=3\n"
     ]
    }
   ],
   "source": [
    "from sklearn.feature_extraction.text import CountVectorizer\n",
    "from sklearn.feature_extraction.text import TfidfTransformer\n",
    "print('=3')"
   ]
  },
  {
   "cell_type": "markdown",
   "id": "08082e7e",
   "metadata": {
    "id": "a744e929"
   },
   "source": [
    "벡터화 방법 - Word Embedding, Document Embedding, Contextual Embedding 등\n",
    "\n",
    "실습에서는 Bag of Words 가설을 기반으로 하는 DTM, TF-IDF 행렬을 이용해 벡터화\n",
    "\n",
    "[3) 문서 단어 행렬(Document-Term Matrix, DTM) - 딥 러닝을 이용한 자연어 처리 입문 (wikidocs.net)](https://wikidocs.net/24559)\n",
    "\n",
    "사이킷런의 `CountVectorizer()`를 사용해서 Document Term Matrix, DTM 생성"
   ]
  },
  {
   "cell_type": "code",
   "execution_count": 23,
   "id": "025bae2c",
   "metadata": {
    "colab": {
     "base_uri": "https://localhost:8080/"
    },
    "executionInfo": {
     "elapsed": 508,
     "status": "ok",
     "timestamp": 1647962784494,
     "user": {
      "displayName": "김원",
      "photoUrl": "https://lh3.googleusercontent.com/a-/AOh14GgvV0kpow6ScghG9dKtn2fSZZrypgReLbsjMwdO=s64",
      "userId": "06508057127562568720"
     },
     "user_tz": -540
    },
    "id": "d11717f2",
    "outputId": "51855fa7-0af2-4e27-fe32-d206e097c3b7"
   },
   "outputs": [
    {
     "name": "stdout",
     "output_type": "stream",
     "text": [
      "(8982, 9670)\n"
     ]
    }
   ],
   "source": [
    "dtmvector = CountVectorizer()\n",
    "x_train_dtm = dtmvector.fit_transform(x_train)\n",
    "print(x_train_dtm.shape)\n",
    "#(8982, 9670) \n",
    "# 10000이 아니다. DTM이 자체적인 규칙에 따라서 불필요하다고 판단하는 토큰들을 제거"
   ]
  },
  {
   "cell_type": "code",
   "execution_count": 24,
   "id": "8d13a7b7",
   "metadata": {
    "colab": {
     "base_uri": "https://localhost:8080/"
    },
    "executionInfo": {
     "elapsed": 6,
     "status": "ok",
     "timestamp": 1647962784494,
     "user": {
      "displayName": "김원",
      "photoUrl": "https://lh3.googleusercontent.com/a-/AOh14GgvV0kpow6ScghG9dKtn2fSZZrypgReLbsjMwdO=s64",
      "userId": "06508057127562568720"
     },
     "user_tz": -540
    },
    "id": "cf8ed8b1",
    "outputId": "6534e396-9ca8-466f-ccbd-ca91c353e0a3"
   },
   "outputs": [
    {
     "data": {
      "text/plain": [
       "list"
      ]
     },
     "execution_count": 24,
     "metadata": {},
     "output_type": "execute_result"
    }
   ],
   "source": [
    "type(x_train)"
   ]
  },
  {
   "cell_type": "code",
   "execution_count": 25,
   "id": "ca2fc5a2",
   "metadata": {
    "colab": {
     "base_uri": "https://localhost:8080/"
    },
    "executionInfo": {
     "elapsed": 19,
     "status": "ok",
     "timestamp": 1647962784894,
     "user": {
      "displayName": "김원",
      "photoUrl": "https://lh3.googleusercontent.com/a-/AOh14GgvV0kpow6ScghG9dKtn2fSZZrypgReLbsjMwdO=s64",
      "userId": "06508057127562568720"
     },
     "user_tz": -540
    },
    "id": "88efbd7d",
    "outputId": "63428e7c-e19e-4414-db2d-813b90463074"
   },
   "outputs": [
    {
     "data": {
      "text/plain": [
       "str"
      ]
     },
     "execution_count": 25,
     "metadata": {},
     "output_type": "execute_result"
    }
   ],
   "source": [
    "type(x_train[0])"
   ]
  },
  {
   "cell_type": "code",
   "execution_count": 26,
   "id": "e21c46c0",
   "metadata": {
    "colab": {
     "base_uri": "https://localhost:8080/",
     "height": 92
    },
    "executionInfo": {
     "elapsed": 19,
     "status": "ok",
     "timestamp": 1647962784895,
     "user": {
      "displayName": "김원",
      "photoUrl": "https://lh3.googleusercontent.com/a-/AOh14GgvV0kpow6ScghG9dKtn2fSZZrypgReLbsjMwdO=s64",
      "userId": "06508057127562568720"
     },
     "user_tz": -540
    },
    "id": "1a679a9f",
    "outputId": "d6e89e7f-3d89-46ee-9cea-ec577239a3a1"
   },
   "outputs": [
    {
     "data": {
      "text/plain": [
       "'<sos> <unk> <unk> said as a result of its december acquisition of space co it expects earnings per share in 1987 of 1 15 to 1 30 dlrs per share up from 70 cts in 1986 the company said pretax net should rise to nine to 10 mln dlrs from six mln dlrs in 1986 and rental operation revenues to 19 to 22 mln dlrs from 12 5 mln dlrs it said cash flow per share this year should be 2 50 to three dlrs reuter 3'"
      ]
     },
     "execution_count": 26,
     "metadata": {},
     "output_type": "execute_result"
    }
   ],
   "source": [
    "x_train[0]"
   ]
  },
  {
   "cell_type": "markdown",
   "id": "eed08c16",
   "metadata": {
    "id": "e57a4355"
   },
   "source": [
    "[4) TF-IDF(Term Frequency-Inverse Document Frequency) - 딥 러닝을 이용한 자연어 처리 입문 (wikidocs.net)](https://wikidocs.net/31698)\n",
    "\n",
    "`TfidfTransformer()`를 사용해서 TF-IDF Matrix 생성"
   ]
  },
  {
   "cell_type": "code",
   "execution_count": 27,
   "id": "bffecc47",
   "metadata": {
    "colab": {
     "base_uri": "https://localhost:8080/"
    },
    "executionInfo": {
     "elapsed": 18,
     "status": "ok",
     "timestamp": 1647962784895,
     "user": {
      "displayName": "김원",
      "photoUrl": "https://lh3.googleusercontent.com/a-/AOh14GgvV0kpow6ScghG9dKtn2fSZZrypgReLbsjMwdO=s64",
      "userId": "06508057127562568720"
     },
     "user_tz": -540
    },
    "id": "28b9d710",
    "outputId": "0b75927c-a67d-491b-d419-c2a0d36f52a1"
   },
   "outputs": [
    {
     "name": "stdout",
     "output_type": "stream",
     "text": [
      "(8982, 9670)\n"
     ]
    }
   ],
   "source": [
    "tfidf_transformer = TfidfTransformer()\n",
    "tfidfv = tfidf_transformer.fit_transform(x_train_dtm)\n",
    "print(tfidfv.shape)"
   ]
  },
  {
   "cell_type": "markdown",
   "id": "1f64097e",
   "metadata": {
    "id": "fa0c7423"
   },
   "source": [
    "### ****4-5. 나이브 베이즈 분류기****\n",
    "\n",
    "****라이브러리 불러오기****"
   ]
  },
  {
   "cell_type": "code",
   "execution_count": 28,
   "id": "a70c4188",
   "metadata": {
    "colab": {
     "base_uri": "https://localhost:8080/"
    },
    "executionInfo": {
     "elapsed": 335,
     "status": "ok",
     "timestamp": 1647962785215,
     "user": {
      "displayName": "김원",
      "photoUrl": "https://lh3.googleusercontent.com/a-/AOh14GgvV0kpow6ScghG9dKtn2fSZZrypgReLbsjMwdO=s64",
      "userId": "06508057127562568720"
     },
     "user_tz": -540
    },
    "id": "7254c4ed",
    "outputId": "7ed642b8-339c-49d7-fda0-5420b4ffcd2b"
   },
   "outputs": [
    {
     "name": "stdout",
     "output_type": "stream",
     "text": [
      "=3\n"
     ]
    }
   ],
   "source": [
    "from sklearn.naive_bayes import MultinomialNB #다항분포 나이브 베이즈 모델\n",
    "from sklearn.linear_model import LogisticRegression, SGDClassifier\n",
    "from sklearn.naive_bayes import ComplementNB\n",
    "from sklearn.tree import DecisionTreeClassifier\n",
    "from sklearn.ensemble import RandomForestClassifier\n",
    "from sklearn.ensemble import GradientBoostingClassifier\n",
    "from sklearn.ensemble import VotingClassifier\n",
    "from sklearn.svm import LinearSVC\n",
    "from sklearn.metrics import accuracy_score #정확도 계산\n",
    "\n",
    "print('=3')"
   ]
  },
  {
   "cell_type": "markdown",
   "id": "8b72b9a8",
   "metadata": {
    "id": "c8d3fb8c"
   },
   "source": [
    "#### 나이브 베이즈 분류기(Multinomial Naive Bayes Classifier)"
   ]
  },
  {
   "cell_type": "code",
   "execution_count": 29,
   "id": "4f7a08f2",
   "metadata": {
    "colab": {
     "base_uri": "https://localhost:8080/"
    },
    "executionInfo": {
     "elapsed": 12,
     "status": "ok",
     "timestamp": 1647962785216,
     "user": {
      "displayName": "김원",
      "photoUrl": "https://lh3.googleusercontent.com/a-/AOh14GgvV0kpow6ScghG9dKtn2fSZZrypgReLbsjMwdO=s64",
      "userId": "06508057127562568720"
     },
     "user_tz": -540
    },
    "id": "08693841",
    "outputId": "0e288441-c83c-45fe-b491-b21478f5692f"
   },
   "outputs": [
    {
     "data": {
      "text/plain": [
       "MultinomialNB()"
      ]
     },
     "execution_count": 29,
     "metadata": {},
     "output_type": "execute_result"
    }
   ],
   "source": [
    "model = MultinomialNB()\n",
    "model.fit(tfidfv, y_train)"
   ]
  },
  {
   "cell_type": "markdown",
   "id": "7c6f2d8a",
   "metadata": {
    "id": "b05b6dbb"
   },
   "source": [
    "#### 테스트 데이터도 TF-IDF 행렬로 변환"
   ]
  },
  {
   "cell_type": "code",
   "execution_count": 30,
   "id": "8993d095",
   "metadata": {
    "colab": {
     "base_uri": "https://localhost:8080/"
    },
    "executionInfo": {
     "elapsed": 11,
     "status": "ok",
     "timestamp": 1647962785218,
     "user": {
      "displayName": "김원",
      "photoUrl": "https://lh3.googleusercontent.com/a-/AOh14GgvV0kpow6ScghG9dKtn2fSZZrypgReLbsjMwdO=s64",
      "userId": "06508057127562568720"
     },
     "user_tz": -540
    },
    "id": "080a8e55",
    "outputId": "3ccc0baf-742b-46a5-8e18-c5b36ea7381f"
   },
   "outputs": [
    {
     "name": "stdout",
     "output_type": "stream",
     "text": [
      "정확도: 0.6567230632235085\n"
     ]
    }
   ],
   "source": [
    "x_test_dtm = dtmvector.transform(x_test) #테스트 데이터를 DTM으로 변환\n",
    "tfidfv_test = tfidf_transformer.transform(x_test_dtm) #DTM을 TF-IDF 행렬로 변환\n",
    "\n",
    "predicted = model.predict(tfidfv_test) #테스트 데이터에 대한 예측\n",
    "print(\"정확도:\", accuracy_score(y_test, predicted)) #예측값과 실제값 비교"
   ]
  },
  {
   "cell_type": "code",
   "execution_count": 31,
   "id": "1a2e324e",
   "metadata": {
    "colab": {
     "base_uri": "https://localhost:8080/",
     "height": 167
    },
    "executionInfo": {
     "elapsed": 12,
     "status": "ok",
     "timestamp": 1647962785221,
     "user": {
      "displayName": "김원",
      "photoUrl": "https://lh3.googleusercontent.com/a-/AOh14GgvV0kpow6ScghG9dKtn2fSZZrypgReLbsjMwdO=s64",
      "userId": "06508057127562568720"
     },
     "user_tz": -540
    },
    "id": "90392a3f",
    "outputId": "b34ede1b-8eb7-4718-8688-daf090553e0e"
   },
   "outputs": [
    {
     "data": {
      "text/plain": [
       "'<sos> <unk> <unk> oil and gas partnership said it completed the sale of interests in two major oil and gas fields to lt energy assets international corp for 21 mln dlrs the company said it sold about one half of its 50 pct interest in the oak hill and north <unk> fields its two largest producing properties it said it used about 20 mln dlrs of the proceeds to <unk> principal on its senior secured notes semi annual principal payments on the remaining 40 mln dlrs of notes have been satisfied until december 1988 as a result it said the company said the note agreements were amended to reflect an easing of some financial covenants and an increase of interest to 13 5 pct from 13 0 pct until december 1990 it said the <unk> exercise price for 1 125 000 warrants was also reduced to 50 cts from 1 50 dlrs the company said energy assets agreed to share the costs of increasing production at the oak hill field reuter 3'"
      ]
     },
     "execution_count": 31,
     "metadata": {},
     "output_type": "execute_result"
    }
   ],
   "source": [
    "x_test[3]\n",
    "#4"
   ]
  },
  {
   "cell_type": "code",
   "execution_count": 32,
   "id": "f96fa753",
   "metadata": {
    "colab": {
     "base_uri": "https://localhost:8080/",
     "height": 334
    },
    "executionInfo": {
     "elapsed": 371,
     "status": "ok",
     "timestamp": 1647962785581,
     "user": {
      "displayName": "김원",
      "photoUrl": "https://lh3.googleusercontent.com/a-/AOh14GgvV0kpow6ScghG9dKtn2fSZZrypgReLbsjMwdO=s64",
      "userId": "06508057127562568720"
     },
     "user_tz": -540
    },
    "id": "45139190",
    "outputId": "d23bf7ba-15a7-4e1d-a978-54478ba0aad8"
   },
   "outputs": [
    {
     "data": {
      "image/png": "[encoded data removed]",
      "text/plain": [
       "<Figure size 792x360 with 1 Axes>"
      ]
     },
     "metadata": {
      "needs_background": "light"
     },
     "output_type": "display_data"
    }
   ],
   "source": [
    "probability_3 = model.predict_proba(tfidfv_test[3])[0]\n",
    "\n",
    "plt.rcParams[\"figure.figsize\"] = (11,5)\n",
    "plt.bar(model.classes_, probability_3)\n",
    "plt.xlim(-1, 21)\n",
    "plt.xticks(model.classes_)\n",
    "plt.xlabel(\"Class\")\n",
    "plt.ylabel(\"Probability\")\n",
    "plt.show()"
   ]
  },
  {
   "cell_type": "code",
   "execution_count": 33,
   "id": "2db343a4",
   "metadata": {
    "colab": {
     "base_uri": "https://localhost:8080/"
    },
    "executionInfo": {
     "elapsed": 18,
     "status": "ok",
     "timestamp": 1647962785582,
     "user": {
      "displayName": "김원",
      "photoUrl": "https://lh3.googleusercontent.com/a-/AOh14GgvV0kpow6ScghG9dKtn2fSZZrypgReLbsjMwdO=s64",
      "userId": "06508057127562568720"
     },
     "user_tz": -540
    },
    "id": "c9ad83f2",
    "outputId": "449b547d-732b-4ae5-aeab-d4645573ce07"
   },
   "outputs": [
    {
     "data": {
      "text/plain": [
       "array([4])"
      ]
     },
     "execution_count": 33,
     "metadata": {},
     "output_type": "execute_result"
    }
   ],
   "source": [
    "model.predict(tfidfv_test[3])"
   ]
  },
  {
   "cell_type": "markdown",
   "id": "43d10ab0",
   "metadata": {
    "id": "25c74d2c"
   },
   "source": [
    "### ****4-6. F1-Score, Confusion Matrix****\n",
    "\n",
    "****필요한 라이브러리 불러오기****"
   ]
  },
  {
   "cell_type": "code",
   "execution_count": 34,
   "id": "5724c90d",
   "metadata": {
    "colab": {
     "base_uri": "https://localhost:8080/"
    },
    "executionInfo": {
     "elapsed": 16,
     "status": "ok",
     "timestamp": 1647962785584,
     "user": {
      "displayName": "김원",
      "photoUrl": "https://lh3.googleusercontent.com/a-/AOh14GgvV0kpow6ScghG9dKtn2fSZZrypgReLbsjMwdO=s64",
      "userId": "06508057127562568720"
     },
     "user_tz": -540
    },
    "id": "5f9cc3b7",
    "outputId": "9e82ee46-2344-4798-a4f0-4a6aefd40c49"
   },
   "outputs": [
    {
     "name": "stdout",
     "output_type": "stream",
     "text": [
      "=3\n"
     ]
    }
   ],
   "source": [
    "from sklearn.metrics import classification_report\n",
    "from sklearn.metrics import confusion_matrix\n",
    "\n",
    "print('=3')"
   ]
  },
  {
   "cell_type": "markdown",
   "id": "13c669e9",
   "metadata": {
    "id": "5cf0edcb"
   },
   "source": [
    "****Precision, Recall & F1 Score****\n",
    "\n",
    "[분류성능평가지표 - Precision(정밀도), Recall(재현율) and Accuracy(정확도) (tistory.com)](https://sumniya.tistory.com/26)"
   ]
  },
  {
   "cell_type": "code",
   "execution_count": 35,
   "id": "b12fe4e0",
   "metadata": {
    "colab": {
     "base_uri": "https://localhost:8080/"
    },
    "executionInfo": {
     "elapsed": 15,
     "status": "ok",
     "timestamp": 1647962785586,
     "user": {
      "displayName": "김원",
      "photoUrl": "https://lh3.googleusercontent.com/a-/AOh14GgvV0kpow6ScghG9dKtn2fSZZrypgReLbsjMwdO=s64",
      "userId": "06508057127562568720"
     },
     "user_tz": -540
    },
    "id": "29a14289",
    "outputId": "23c34579-ba16-4c6b-c9a9-aa6f9771efef"
   },
   "outputs": [
    {
     "name": "stdout",
     "output_type": "stream",
     "text": [
      "              precision    recall  f1-score   support\n",
      "\n",
      "           0       0.00      0.00      0.00        12\n",
      "           1       0.62      0.69      0.65       105\n",
      "           2       0.00      0.00      0.00        20\n",
      "           3       0.81      0.90      0.85       813\n",
      "           4       0.51      0.96      0.67       474\n",
      "           5       0.00      0.00      0.00         5\n",
      "           6       0.00      0.00      0.00        14\n",
      "           7       0.00      0.00      0.00         3\n",
      "           8       0.00      0.00      0.00        38\n",
      "           9       1.00      0.08      0.15        25\n",
      "          10       0.00      0.00      0.00        30\n",
      "          11       0.66      0.63      0.64        83\n",
      "          12       0.00      0.00      0.00        13\n",
      "          13       1.00      0.03      0.05        37\n",
      "          14       0.00      0.00      0.00         2\n",
      "          15       0.00      0.00      0.00         9\n",
      "          16       0.69      0.56      0.61        99\n",
      "          17       0.00      0.00      0.00        12\n",
      "          18       0.00      0.00      0.00        20\n",
      "          19       0.60      0.78      0.68       133\n",
      "          20       1.00      0.04      0.08        70\n",
      "          21       0.00      0.00      0.00        27\n",
      "          22       0.00      0.00      0.00         7\n",
      "          23       0.00      0.00      0.00        12\n",
      "          24       0.00      0.00      0.00        19\n",
      "          25       1.00      0.03      0.06        31\n",
      "          26       0.00      0.00      0.00         8\n",
      "          27       0.00      0.00      0.00         4\n",
      "          28       0.00      0.00      0.00        10\n",
      "          29       0.00      0.00      0.00         4\n",
      "          30       0.00      0.00      0.00        12\n",
      "          31       0.00      0.00      0.00        13\n",
      "          32       0.00      0.00      0.00        10\n",
      "          33       0.00      0.00      0.00         5\n",
      "          34       0.00      0.00      0.00         7\n",
      "          35       0.00      0.00      0.00         6\n",
      "          36       0.00      0.00      0.00        11\n",
      "          37       0.00      0.00      0.00         2\n",
      "          38       0.00      0.00      0.00         3\n",
      "          39       0.00      0.00      0.00         5\n",
      "          40       0.00      0.00      0.00        10\n",
      "          41       0.00      0.00      0.00         8\n",
      "          42       0.00      0.00      0.00         3\n",
      "          43       0.00      0.00      0.00         6\n",
      "          44       0.00      0.00      0.00         5\n",
      "          45       0.00      0.00      0.00         1\n",
      "\n",
      "    accuracy                           0.66      2246\n",
      "   macro avg       0.17      0.10      0.10      2246\n",
      "weighted avg       0.59      0.66      0.58      2246\n",
      "\n"
     ]
    }
   ],
   "source": [
    "print(classification_report(y_test, model.predict(tfidfv_test), zero_division=0))"
   ]
  },
  {
   "cell_type": "markdown",
   "id": "ef94ff49",
   "metadata": {
    "id": "cc59b3b1"
   },
   "source": [
    "****Confusion Matrix****\n",
    "\n",
    "[Confusion Matrix 혼동 행렬 :: Deeppp (tistory.com)](https://mjdeeplearning.tistory.com/31)"
   ]
  },
  {
   "cell_type": "code",
   "execution_count": 36,
   "id": "51ba171c",
   "metadata": {
    "colab": {
     "base_uri": "https://localhost:8080/",
     "height": 743
    },
    "executionInfo": {
     "elapsed": 6537,
     "status": "ok",
     "timestamp": 1647962792111,
     "user": {
      "displayName": "김원",
      "photoUrl": "https://lh3.googleusercontent.com/a-/AOh14GgvV0kpow6ScghG9dKtn2fSZZrypgReLbsjMwdO=s64",
      "userId": "06508057127562568720"
     },
     "user_tz": -540
    },
    "id": "28ef0bb6",
    "outputId": "a6040bbf-b697-4c7a-9e94-26d0ecf7db22"
   },
   "outputs": [
    {
     "name": "stdout",
     "output_type": "stream",
     "text": [
      "=3\n"
     ]
    },
    {
     "data": {
      "image/png": "[encoded data removed]",
      "text/plain": [
       "<Figure size 864x864 with 2 Axes>"
      ]
     },
     "metadata": {
      "needs_background": "light"
     },
     "output_type": "display_data"
    }
   ],
   "source": [
    "def graph_confusion_matrix(model, x_test, y_test):#, classes_name):\n",
    "  df_cm = pd.DataFrame(confusion_matrix(y_test, model.predict(x_test)))#, index=classes_name, columns=classes_name)\n",
    "  fig = plt.figure(figsize=(12,12))\n",
    "  heatmap = sns.heatmap(df_cm, annot=True, fmt=\"d\")\n",
    "  heatmap.yaxis.set_ticklabels(heatmap.yaxis.get_ticklabels(), rotation=0, ha='right', fontsize=12)\n",
    "  heatmap.xaxis.set_ticklabels(heatmap.xaxis.get_ticklabels(), rotation=45, ha='right', fontsize=12)\n",
    "  plt.ylabel('label')\n",
    "  plt.xlabel('predicted value')\n",
    "\n",
    "print('=3')\n",
    "\n",
    "graph_confusion_matrix(model, tfidfv_test, y_test)"
   ]
  },
  {
   "cell_type": "markdown",
   "id": "6a2d572f",
   "metadata": {
    "id": "ec60be58"
   },
   "source": [
    "### ****4-7. 다양한 머신러닝 모델 사용해보기 (1)****\n",
    "\n",
    "나이브 베이즈 분류기(MultinomialNB)로는 약 66%의 정확도를 얻음\n",
    "\n",
    "****Complement Naive Bayes Classifier(CNB)****\n",
    "\n",
    "컴플리먼트 나이브 베이즈 분류기 - 데이터의 불균형을 고려하여 가중치를 부여"
   ]
  },
  {
   "cell_type": "code",
   "execution_count": 37,
   "id": "dcce6742",
   "metadata": {
    "colab": {
     "base_uri": "https://localhost:8080/"
    },
    "executionInfo": {
     "elapsed": 29,
     "status": "ok",
     "timestamp": 1647962792112,
     "user": {
      "displayName": "김원",
      "photoUrl": "https://lh3.googleusercontent.com/a-/AOh14GgvV0kpow6ScghG9dKtn2fSZZrypgReLbsjMwdO=s64",
      "userId": "06508057127562568720"
     },
     "user_tz": -540
    },
    "id": "665d8fb0",
    "outputId": "3efeda01-4cfc-44f2-c133-faf8cf9a8efd"
   },
   "outputs": [
    {
     "data": {
      "text/plain": [
       "ComplementNB()"
      ]
     },
     "execution_count": 37,
     "metadata": {},
     "output_type": "execute_result"
    }
   ],
   "source": [
    "cb = ComplementNB()\n",
    "cb.fit(tfidfv, y_train)"
   ]
  },
  {
   "cell_type": "code",
   "execution_count": 38,
   "id": "1bf6920a",
   "metadata": {
    "colab": {
     "base_uri": "https://localhost:8080/"
    },
    "executionInfo": {
     "elapsed": 26,
     "status": "ok",
     "timestamp": 1647962792113,
     "user": {
      "displayName": "김원",
      "photoUrl": "https://lh3.googleusercontent.com/a-/AOh14GgvV0kpow6ScghG9dKtn2fSZZrypgReLbsjMwdO=s64",
      "userId": "06508057127562568720"
     },
     "user_tz": -540
    },
    "id": "268f3db9",
    "outputId": "0238b092-0bd5-44a5-b6ce-2d4b56e0cf94"
   },
   "outputs": [
    {
     "name": "stdout",
     "output_type": "stream",
     "text": [
      "정확도: 0.7707034728406055\n"
     ]
    }
   ],
   "source": [
    "predicted = cb.predict(tfidfv_test) #테스트 데이터에 대한 예측\n",
    "print(\"정확도:\", accuracy_score(y_test, predicted)) #예측값과 실제값 비교"
   ]
  },
  {
   "cell_type": "markdown",
   "id": "8dd9e23b",
   "metadata": {
    "id": "dfd15201"
   },
   "source": [
    "****로지스틱 회귀(Logistic Regression)****\n",
    "\n",
    "다중 클래스 분류를 위한 로지스틱 회귀"
   ]
  },
  {
   "cell_type": "code",
   "execution_count": 39,
   "id": "95089622",
   "metadata": {
    "colab": {
     "base_uri": "https://localhost:8080/"
    },
    "executionInfo": {
     "elapsed": 20272,
     "status": "ok",
     "timestamp": 1647962812362,
     "user": {
      "displayName": "김원",
      "photoUrl": "https://lh3.googleusercontent.com/a-/AOh14GgvV0kpow6ScghG9dKtn2fSZZrypgReLbsjMwdO=s64",
      "userId": "06508057127562568720"
     },
     "user_tz": -540
    },
    "id": "ec7a0d6a",
    "outputId": "c37331df-ec53-4e23-b26a-bc81052d7462"
   },
   "outputs": [
    {
     "name": "stderr",
     "output_type": "stream",
     "text": [
      "/opt/conda/lib/python3.9/site-packages/sklearn/linear_model/_logistic.py:814: ConvergenceWarning: lbfgs failed to converge (status=1):\n",
      "STOP: TOTAL NO. of ITERATIONS REACHED LIMIT.\n",
      "\n",
      "Increase the number of iterations (max_iter) or scale the data as shown in:\n",
      "    https://scikit-learn.org/stable/modules/preprocessing.html\n",
      "Please also refer to the documentation for alternative solver options:\n",
      "    https://scikit-learn.org/stable/modules/linear_model.html#logistic-regression\n",
      "  n_iter_i = _check_optimize_result(\n"
     ]
    },
    {
     "data": {
      "text/plain": [
       "LogisticRegression(C=1)"
      ]
     },
     "execution_count": 39,
     "metadata": {},
     "output_type": "execute_result"
    }
   ],
   "source": [
    "lr = LogisticRegression(C=1, penalty='l2')\n",
    "lr.fit(tfidfv, y_train)"
   ]
  },
  {
   "cell_type": "code",
   "execution_count": 40,
   "id": "fed8325c",
   "metadata": {
    "colab": {
     "base_uri": "https://localhost:8080/"
    },
    "executionInfo": {
     "elapsed": 11,
     "status": "ok",
     "timestamp": 1647962812363,
     "user": {
      "displayName": "김원",
      "photoUrl": "https://lh3.googleusercontent.com/a-/AOh14GgvV0kpow6ScghG9dKtn2fSZZrypgReLbsjMwdO=s64",
      "userId": "06508057127562568720"
     },
     "user_tz": -540
    },
    "id": "8d28bfc9",
    "outputId": "6eaf7560-02db-4930-b0e6-94645b8429ea"
   },
   "outputs": [
    {
     "name": "stdout",
     "output_type": "stream",
     "text": [
      "정확도: 0.7951914514692787\n"
     ]
    }
   ],
   "source": [
    "predicted = lr.predict(tfidfv_test) #테스트 데이터에 대한 예측\n",
    "print(\"정확도:\", accuracy_score(y_test, predicted)) #예측값과 실제값 비교\n",
    "#정확도: 0.8076580587711487"
   ]
  },
  {
   "cell_type": "markdown",
   "id": "949bf6a8",
   "metadata": {
    "id": "71919df2"
   },
   "source": [
    "****선형 서포트 벡터 머신(Linear Support Vector Machine)****\n",
    "\n",
    "[서포트 벡터 머신 - 위키백과, 우리 모두의 백과사전 (wikipedia.org)](https://ko.wikipedia.org/wiki/%EC%84%9C%ED%8F%AC%ED%8A%B8_%EB%B2%A1%ED%84%B0_%EB%A8%B8%EC%8B%A0#:~:text=%EC%84%9C%ED%8F%AC%ED%8A%B8%20%EB%B2%A1%ED%84%B0%20%EB%A8%B8%EC%8B%A0(support%20vector,%EB%B6%84%EC%84%9D%EC%9D%84%20%EC%9C%84%ED%95%B4%20%EC%82%AC%EC%9A%A9%ED%95%9C%EB%8B%A4.)\n",
    "\n",
    "[지원 벡터 기계 - 위키백과, 우리 모두의 백과사전 (wikipedia.org)](https://en.wikipedia.org/wiki/Support-vector_machine#Definition)"
   ]
  },
  {
   "cell_type": "code",
   "execution_count": 41,
   "id": "d2a265aa",
   "metadata": {
    "colab": {
     "base_uri": "https://localhost:8080/"
    },
    "executionInfo": {
     "elapsed": 9799,
     "status": "ok",
     "timestamp": 1647962822154,
     "user": {
      "displayName": "김원",
      "photoUrl": "https://lh3.googleusercontent.com/a-/AOh14GgvV0kpow6ScghG9dKtn2fSZZrypgReLbsjMwdO=s64",
      "userId": "06508057127562568720"
     },
     "user_tz": -540
    },
    "id": "2bf3a197",
    "outputId": "0ae92b1a-9424-445f-f7c6-3f15f514c48b"
   },
   "outputs": [
    {
     "name": "stderr",
     "output_type": "stream",
     "text": [
      "/opt/conda/lib/python3.9/site-packages/sklearn/svm/_base.py:1199: ConvergenceWarning: Liblinear failed to converge, increase the number of iterations.\n",
      "  warnings.warn(\n"
     ]
    },
    {
     "data": {
      "text/plain": [
       "LinearSVC(C=1, dual=False, max_iter=500, penalty='l1')"
      ]
     },
     "execution_count": 41,
     "metadata": {},
     "output_type": "execute_result"
    }
   ],
   "source": [
    "lsvc = LinearSVC(C=1, penalty='l1', max_iter=500, dual=False)\n",
    "lsvc.fit(tfidfv, y_train)"
   ]
  },
  {
   "cell_type": "code",
   "execution_count": 42,
   "id": "2a2fcdba",
   "metadata": {
    "colab": {
     "base_uri": "https://localhost:8080/"
    },
    "executionInfo": {
     "elapsed": 12,
     "status": "ok",
     "timestamp": 1647962822155,
     "user": {
      "displayName": "김원",
      "photoUrl": "https://lh3.googleusercontent.com/a-/AOh14GgvV0kpow6ScghG9dKtn2fSZZrypgReLbsjMwdO=s64",
      "userId": "06508057127562568720"
     },
     "user_tz": -540
    },
    "id": "c620fe3f",
    "outputId": "6d3ee613-593e-4968-970f-03b721e1bc4f"
   },
   "outputs": [
    {
     "name": "stdout",
     "output_type": "stream",
     "text": [
      "정확도: 0.838379341050757\n"
     ]
    }
   ],
   "source": [
    "predicted = lsvc.predict(tfidfv_test) #테스트 데이터에 대한 예측\n",
    "print(\"정확도:\", accuracy_score(y_test, predicted)) #예측값과 실제값 비교"
   ]
  },
  {
   "cell_type": "markdown",
   "id": "a0b3cccc",
   "metadata": {
    "id": "c9bd4824"
   },
   "source": [
    "### ****4-8. 다양한 머신러닝 모델 사용해보기 (2)****\n",
    "\n",
    "**결정 트리(Decision Tree)**\n",
    "\n",
    "[Decision tree - Wikipedia](https://en.wikipedia.org/wiki/Decision_tree)\n",
    "\n",
    "[결정 트리 학습법 - 위키백과, 우리 모두의 백과사전 (wikipedia.org)](https://ko.wikipedia.org/wiki/%EA%B2%B0%EC%A0%95_%ED%8A%B8%EB%A6%AC_%ED%95%99%EC%8A%B5%EB%B2%95)\n",
    "\n",
    "사이킷런에서는 `DecisionTreeClassifier()`를 사용"
   ]
  },
  {
   "cell_type": "code",
   "execution_count": 43,
   "id": "842dab11",
   "metadata": {
    "colab": {
     "base_uri": "https://localhost:8080/"
    },
    "executionInfo": {
     "elapsed": 1310,
     "status": "ok",
     "timestamp": 1647962823458,
     "user": {
      "displayName": "김원",
      "photoUrl": "https://lh3.googleusercontent.com/a-/AOh14GgvV0kpow6ScghG9dKtn2fSZZrypgReLbsjMwdO=s64",
      "userId": "06508057127562568720"
     },
     "user_tz": -540
    },
    "id": "e7ef512d",
    "outputId": "90b7dfd9-f4db-4712-d537-b9fd97df6d3c"
   },
   "outputs": [
    {
     "data": {
      "text/plain": [
       "DecisionTreeClassifier(max_depth=10, random_state=0)"
      ]
     },
     "execution_count": 43,
     "metadata": {},
     "output_type": "execute_result"
    }
   ],
   "source": [
    "tree = DecisionTreeClassifier(max_depth=10, random_state=0)\n",
    "tree.fit(tfidfv, y_train)\n",
    "#DecisionTreeClassifier(max_depth=10, random_state=0)"
   ]
  },
  {
   "cell_type": "code",
   "execution_count": 44,
   "id": "30befd4e",
   "metadata": {
    "colab": {
     "base_uri": "https://localhost:8080/"
    },
    "executionInfo": {
     "elapsed": 6,
     "status": "ok",
     "timestamp": 1647962823459,
     "user": {
      "displayName": "김원",
      "photoUrl": "https://lh3.googleusercontent.com/a-/AOh14GgvV0kpow6ScghG9dKtn2fSZZrypgReLbsjMwdO=s64",
      "userId": "06508057127562568720"
     },
     "user_tz": -540
    },
    "id": "1bac7c1a",
    "outputId": "abf59392-0244-4065-a523-1490d3515287"
   },
   "outputs": [
    {
     "name": "stdout",
     "output_type": "stream",
     "text": [
      "정확도: 0.6202137132680321\n"
     ]
    }
   ],
   "source": [
    "predicted = tree.predict(tfidfv_test) #테스트 데이터에 대한 예측\n",
    "print(\"정확도:\", accuracy_score(y_test, predicted)) #예측값과 실제값 비교\n",
    "#정확도: 0.6202137132680321"
   ]
  },
  {
   "cell_type": "markdown",
   "id": "13747001",
   "metadata": {
    "id": "3d9de487"
   },
   "source": [
    "트리 계열의 모델들은 고차원이고 희소한 데이터에 대해서는 성능이 나오지 않음\n",
    "\n",
    "**앙상블(Ensemble) 모델**\n",
    "\n",
    "여러 머신러닝 모델을 연결하여 더 강력한 모델을 만드는 기법\n",
    "\n",
    "****랜덤 포레스트(Random Forest)****"
   ]
  },
  {
   "cell_type": "code",
   "execution_count": 45,
   "id": "4078b321",
   "metadata": {
    "colab": {
     "base_uri": "https://localhost:8080/"
    },
    "executionInfo": {
     "elapsed": 1507,
     "status": "ok",
     "timestamp": 1647962824963,
     "user": {
      "displayName": "김원",
      "photoUrl": "https://lh3.googleusercontent.com/a-/AOh14GgvV0kpow6ScghG9dKtn2fSZZrypgReLbsjMwdO=s64",
      "userId": "06508057127562568720"
     },
     "user_tz": -540
    },
    "id": "7843462c",
    "outputId": "4a119408-4436-420f-fe29-ff4cac106c18"
   },
   "outputs": [
    {
     "data": {
      "text/plain": [
       "RandomForestClassifier(n_estimators=5, random_state=0)"
      ]
     },
     "execution_count": 45,
     "metadata": {},
     "output_type": "execute_result"
    }
   ],
   "source": [
    "forest = RandomForestClassifier(n_estimators=5, random_state=0)\n",
    "forest.fit(tfidfv, y_train)"
   ]
  },
  {
   "cell_type": "code",
   "execution_count": 46,
   "id": "942a36b0",
   "metadata": {
    "colab": {
     "base_uri": "https://localhost:8080/"
    },
    "executionInfo": {
     "elapsed": 9,
     "status": "ok",
     "timestamp": 1647962824964,
     "user": {
      "displayName": "김원",
      "photoUrl": "https://lh3.googleusercontent.com/a-/AOh14GgvV0kpow6ScghG9dKtn2fSZZrypgReLbsjMwdO=s64",
      "userId": "06508057127562568720"
     },
     "user_tz": -540
    },
    "id": "84d5fc31",
    "outputId": "37f56dd9-8652-40ff-bdb6-6f1517cac365"
   },
   "outputs": [
    {
     "name": "stdout",
     "output_type": "stream",
     "text": [
      "정확도: 0.674087266251113\n"
     ]
    }
   ],
   "source": [
    "predicted = forest.predict(tfidfv_test) #테스트 데이터에 대한 예측\n",
    "print(\"정확도:\", accuracy_score(y_test, predicted)) #예측값과 실제값 비교"
   ]
  },
  {
   "cell_type": "markdown",
   "id": "d24c8a52",
   "metadata": {
    "id": "609be65b"
   },
   "source": [
    "****그래디언트 부스팅 트리(GradientBoostingClassifier)****\n",
    "\n",
    "순차적으로 트리를 만듬"
   ]
  },
  {
   "cell_type": "code",
   "execution_count": 47,
   "id": "928c7a60",
   "metadata": {
    "colab": {
     "base_uri": "https://localhost:8080/"
    },
    "executionInfo": {
     "elapsed": 903288,
     "status": "ok",
     "timestamp": 1647963728247,
     "user": {
      "displayName": "김원",
      "photoUrl": "https://lh3.googleusercontent.com/a-/AOh14GgvV0kpow6ScghG9dKtn2fSZZrypgReLbsjMwdO=s64",
      "userId": "06508057127562568720"
     },
     "user_tz": -540
    },
    "id": "272dc2de",
    "outputId": "49abac25-3647-43f8-dcb1-eff49755154f"
   },
   "outputs": [
    {
     "data": {
      "text/plain": [
       "GradientBoostingClassifier(random_state=0)"
      ]
     },
     "execution_count": 47,
     "metadata": {},
     "output_type": "execute_result"
    }
   ],
   "source": [
    "grbt = GradientBoostingClassifier(random_state=0) # verbose=3\n",
    "grbt.fit(tfidfv, y_train)"
   ]
  },
  {
   "cell_type": "code",
   "execution_count": 48,
   "id": "d348b0b3",
   "metadata": {
    "colab": {
     "base_uri": "https://localhost:8080/"
    },
    "executionInfo": {
     "elapsed": 8,
     "status": "ok",
     "timestamp": 1647963728248,
     "user": {
      "displayName": "김원",
      "photoUrl": "https://lh3.googleusercontent.com/a-/AOh14GgvV0kpow6ScghG9dKtn2fSZZrypgReLbsjMwdO=s64",
      "userId": "06508057127562568720"
     },
     "user_tz": -540
    },
    "id": "a4e7b6b5",
    "outputId": "6712a982-67fe-4a28-a19a-ce2a4f546d2b"
   },
   "outputs": [
    {
     "name": "stdout",
     "output_type": "stream",
     "text": [
      "정확도: 0.7662511130899377\n"
     ]
    }
   ],
   "source": [
    "predicted = grbt.predict(tfidfv_test) #테스트 데이터에 대한 예측\n",
    "print(\"정확도:\", accuracy_score(y_test, predicted)) #예측값과 실제값 비교"
   ]
  },
  {
   "cell_type": "markdown",
   "id": "ebcb7b8b",
   "metadata": {
    "id": "df51d3cf"
   },
   "source": [
    "#### 보팅(Voting)"
   ]
  },
  {
   "cell_type": "code",
   "execution_count": 49,
   "id": "e381c5e1",
   "metadata": {
    "id": "7449bb56"
   },
   "outputs": [
    {
     "name": "stderr",
     "output_type": "stream",
     "text": [
      "/opt/conda/lib/python3.9/site-packages/sklearn/linear_model/_logistic.py:814: ConvergenceWarning: lbfgs failed to converge (status=1):\n",
      "STOP: TOTAL NO. of ITERATIONS REACHED LIMIT.\n",
      "\n",
      "Increase the number of iterations (max_iter) or scale the data as shown in:\n",
      "    https://scikit-learn.org/stable/modules/preprocessing.html\n",
      "Please also refer to the documentation for alternative solver options:\n",
      "    https://scikit-learn.org/stable/modules/linear_model.html#logistic-regression\n",
      "  n_iter_i = _check_optimize_result(\n"
     ]
    },
    {
     "data": {
      "text/plain": [
       "VotingClassifier(estimators=[('lr', LogisticRegression(C=10000)),\n",
       "                             ('cb', ComplementNB()),\n",
       "                             ('grbt',\n",
       "                              GradientBoostingClassifier(random_state=0))],\n",
       "                 n_jobs=-1, voting='soft')"
      ]
     },
     "execution_count": 49,
     "metadata": {},
     "output_type": "execute_result"
    }
   ],
   "source": [
    "voting_classifier = VotingClassifier(estimators=[\n",
    "         ('lr', LogisticRegression(C=10000, penalty='l2')),\n",
    "        ('cb', ComplementNB()),\n",
    "        ('grbt', GradientBoostingClassifier(random_state=0))\n",
    "], voting='soft', n_jobs=-1)\n",
    "voting_classifier.fit(tfidfv, y_train)"
   ]
  },
  {
   "cell_type": "code",
   "execution_count": 50,
   "id": "89d89465",
   "metadata": {
    "id": "2628a6f0"
   },
   "outputs": [
    {
     "name": "stdout",
     "output_type": "stream",
     "text": [
      "정확도: 0.8116651825467498\n"
     ]
    }
   ],
   "source": [
    "predicted = voting_classifier.predict(tfidfv_test) #테스트 데이터에 대한 예측\n",
    "print(\"정확도:\", accuracy_score(y_test, predicted)) #예측값과 실제값 비교\n",
    "#정확도: 0.8116651825467498"
   ]
  },
  {
   "cell_type": "markdown",
   "id": "2214191e",
   "metadata": {
    "id": "2833de7a"
   },
   "source": [
    "# ****4-9. 프로젝트: Vocabulary Size를 변경해서 시도해보기****\n",
    "\n",
    "**단어의 수에 따라서 모델의 성능이 어떻게 변하는지 테스트**\n",
    "\n",
    "****라이브러리 버전을 확인해 봅니다****"
   ]
  },
  {
   "cell_type": "code",
   "execution_count": 51,
   "id": "37923da2",
   "metadata": {
    "id": "f0c397de"
   },
   "outputs": [
    {
     "name": "stdout",
     "output_type": "stream",
     "text": [
      "2.6.0\n",
      "3.4.3\n",
      "0.11.2\n",
      "1.22.2\n",
      "1.3.3\n",
      "1.0\n"
     ]
    }
   ],
   "source": [
    "import tensorflow\n",
    "import matplotlib\n",
    "import seaborn \n",
    "import numpy \n",
    "import pandas\n",
    "import sklearn\n",
    "\n",
    "print(tensorflow.__version__)\n",
    "print(matplotlib.__version__)\n",
    "print(seaborn.__version__)\n",
    "print(numpy.__version__)\n",
    "print(pandas.__version__)\n",
    "print(sklearn.__version__)"
   ]
  },
  {
   "cell_type": "code",
   "execution_count": 52,
   "id": "3c8fa2f3",
   "metadata": {
    "id": "tZGJel4jHOuh"
   },
   "outputs": [],
   "source": [
    "import matplotlib.pyplot as plt"
   ]
  },
  {
   "cell_type": "code",
   "execution_count": 53,
   "id": "b3b0f2a1",
   "metadata": {
    "id": "7154dea4"
   },
   "outputs": [],
   "source": [
    "def decoded_data(encoded_data):\n",
    "    decoded = []\n",
    "    for i in range(len(encoded_data)):\n",
    "        t = ' '.join([index_to_word[index] for index in encoded_data[i]])\n",
    "        decoded.append(t)\n",
    "    return decoded    "
   ]
  },
  {
   "cell_type": "code",
   "execution_count": 54,
   "id": "d4394a2e",
   "metadata": {
    "id": "86820ed7"
   },
   "outputs": [],
   "source": [
    "def model_accuracy(model, tfidfv_test, y_test):\n",
    "    predicted = model.predict(tfidfv_test) #테스트 데이터에 대한 예측\n",
    "    return accuracy_score(y_test, predicted)"
   ]
  },
  {
   "cell_type": "markdown",
   "id": "b430a9c2",
   "metadata": {
    "id": "d3d44930"
   },
   "source": [
    "### 나이브 베이즈 분류기"
   ]
  },
  {
   "cell_type": "code",
   "execution_count": 55,
   "id": "33f65b35",
   "metadata": {
    "id": "66192dd4"
   },
   "outputs": [],
   "source": [
    "def Naive_Bayes(tfidfv, y_train):\n",
    "    model_Naive_Bayes = MultinomialNB()\n",
    "    model_Naive_Bayes.fit(tfidfv, y_train)\n",
    "    return model_Naive_Bayes"
   ]
  },
  {
   "cell_type": "markdown",
   "id": "68b1bd47",
   "metadata": {
    "id": "cb3e7086"
   },
   "source": [
    "### Complement Naive Bayes Classifier(CNB)"
   ]
  },
  {
   "cell_type": "code",
   "execution_count": 56,
   "id": "5fa2c169",
   "metadata": {
    "id": "29d4950b"
   },
   "outputs": [],
   "source": [
    "def Complement_Naive_Bayes(tfidfv, y_train):\n",
    "    model_Complement_Naive_Bayes = ComplementNB()\n",
    "    model_Complement_Naive_Bayes.fit(tfidfv, y_train)\n",
    "    return model_Complement_Naive_Bayes"
   ]
  },
  {
   "cell_type": "markdown",
   "id": "35634402",
   "metadata": {
    "id": "29dd9ac7"
   },
   "source": [
    "### 로지스틱 회귀(Logistic Regression)"
   ]
  },
  {
   "cell_type": "code",
   "execution_count": 57,
   "id": "815b79d0",
   "metadata": {
    "id": "e3fb27df"
   },
   "outputs": [],
   "source": [
    "def Logistic(tfidfv, y_train):\n",
    "    model_Logistic = LogisticRegression(C=1, penalty='l2')\n",
    "    model_Logistic.fit(tfidfv, y_train)\n",
    "    return model_Logistic"
   ]
  },
  {
   "cell_type": "markdown",
   "id": "c8e7cc0e",
   "metadata": {
    "id": "6e0b142e"
   },
   "source": [
    "### 선형 서포트 벡터 머신(Linear Support Vector Machine)"
   ]
  },
  {
   "cell_type": "code",
   "execution_count": 58,
   "id": "df38435c",
   "metadata": {
    "id": "15b9ac29"
   },
   "outputs": [],
   "source": [
    "def LinearSVC(tfidfv, y_train):\n",
    "    model_LinearSVC = LinearSVC(C=1, penalty='l1', max_iter=500, dual=False)\n",
    "    model_LinearSVC.fit(tfidfv, y_train)\n",
    "    return model_LinearSVC"
   ]
  },
  {
   "cell_type": "markdown",
   "id": "869d243b",
   "metadata": {
    "id": "fce6e878"
   },
   "source": [
    "### 결정 트리(Decision Tree)"
   ]
  },
  {
   "cell_type": "code",
   "execution_count": 59,
   "id": "c43a5bb1",
   "metadata": {
    "id": "574bbe09"
   },
   "outputs": [],
   "source": [
    "def tree(tfidfv, y_train):\n",
    "    model_tree = DecisionTreeClassifier(max_depth=10, random_state=0)\n",
    "    model_tree.fit(tfidfv, y_train)\n",
    "    return model_tree"
   ]
  },
  {
   "cell_type": "markdown",
   "id": "cc341025",
   "metadata": {
    "id": "0e67dd4d"
   },
   "source": [
    "## 앙상블(Ensemble) 모델"
   ]
  },
  {
   "cell_type": "markdown",
   "id": "3f01d2c1",
   "metadata": {
    "id": "c90394ed"
   },
   "source": [
    "### 그래디언트 부스팅 트리(GradientBoostingClassifier)"
   ]
  },
  {
   "cell_type": "code",
   "execution_count": 60,
   "id": "a572003b",
   "metadata": {
    "id": "0093d4ee"
   },
   "outputs": [],
   "source": [
    "def GradientBoost(tfidfv, y_train):\n",
    "    grbt = GradientBoostingClassifier(random_state=0) # verbose=3\n",
    "    grbt.fit(tfidfv, y_train)\n",
    "    return grbt"
   ]
  },
  {
   "cell_type": "markdown",
   "id": "fdb8cd38",
   "metadata": {
    "id": "c24631d1"
   },
   "source": [
    "### 보팅(Voting)"
   ]
  },
  {
   "cell_type": "code",
   "execution_count": 61,
   "id": "8cfea6fc",
   "metadata": {
    "id": "80929d9d"
   },
   "outputs": [],
   "source": [
    "def voting(tfidfv, y_train):\n",
    "    voting_classifier = VotingClassifier(estimators=[\n",
    "             ('lr',   LogisticRegression(C=1, penalty='l2')),\n",
    "             ('cb',   ComplementNB()),\n",
    "             ('grbt', GradientBoostingClassifier(random_state=0))\n",
    "    ], voting='soft', n_jobs=-1)\n",
    "    voting_classifier.fit(tfidfv, y_train)\n",
    "    return voting_classifier"
   ]
  },
  {
   "cell_type": "markdown",
   "id": "a5a9b02d",
   "metadata": {
    "id": "9a415d09"
   },
   "source": [
    "## 1. 모든 단어 사용"
   ]
  },
  {
   "cell_type": "code",
   "execution_count": 62,
   "id": "cf571013",
   "metadata": {
    "id": "f9cdafe5"
   },
   "outputs": [
    {
     "name": "stderr",
     "output_type": "stream",
     "text": [
      "/opt/conda/lib/python3.9/site-packages/sklearn/linear_model/_logistic.py:814: ConvergenceWarning: lbfgs failed to converge (status=1):\n",
      "STOP: TOTAL NO. of ITERATIONS REACHED LIMIT.\n",
      "\n",
      "Increase the number of iterations (max_iter) or scale the data as shown in:\n",
      "    https://scikit-learn.org/stable/modules/preprocessing.html\n",
      "Please also refer to the documentation for alternative solver options:\n",
      "    https://scikit-learn.org/stable/modules/linear_model.html#logistic-regression\n",
      "  n_iter_i = _check_optimize_result(\n",
      "/opt/conda/lib/python3.9/site-packages/sklearn/linear_model/_logistic.py:814: ConvergenceWarning: lbfgs failed to converge (status=1):\n",
      "STOP: TOTAL NO. of ITERATIONS REACHED LIMIT.\n",
      "\n",
      "Increase the number of iterations (max_iter) or scale the data as shown in:\n",
      "    https://scikit-learn.org/stable/modules/preprocessing.html\n",
      "Please also refer to the documentation for alternative solver options:\n",
      "    https://scikit-learn.org/stable/modules/linear_model.html#logistic-regression\n",
      "  n_iter_i = _check_optimize_result(\n",
      "/opt/conda/lib/python3.9/site-packages/sklearn/linear_model/_logistic.py:814: ConvergenceWarning: lbfgs failed to converge (status=1):\n",
      "STOP: TOTAL NO. of ITERATIONS REACHED LIMIT.\n",
      "\n",
      "Increase the number of iterations (max_iter) or scale the data as shown in:\n",
      "    https://scikit-learn.org/stable/modules/preprocessing.html\n",
      "Please also refer to the documentation for alternative solver options:\n",
      "    https://scikit-learn.org/stable/modules/linear_model.html#logistic-regression\n",
      "  n_iter_i = _check_optimize_result(\n",
      "/opt/conda/lib/python3.9/site-packages/sklearn/linear_model/_logistic.py:814: ConvergenceWarning: lbfgs failed to converge (status=1):\n",
      "STOP: TOTAL NO. of ITERATIONS REACHED LIMIT.\n",
      "\n",
      "Increase the number of iterations (max_iter) or scale the data as shown in:\n",
      "    https://scikit-learn.org/stable/modules/preprocessing.html\n",
      "Please also refer to the documentation for alternative solver options:\n",
      "    https://scikit-learn.org/stable/modules/linear_model.html#logistic-regression\n",
      "  n_iter_i = _check_optimize_result(\n",
      "/opt/conda/lib/python3.9/site-packages/sklearn/linear_model/_logistic.py:814: ConvergenceWarning: lbfgs failed to converge (status=1):\n",
      "STOP: TOTAL NO. of ITERATIONS REACHED LIMIT.\n",
      "\n",
      "Increase the number of iterations (max_iter) or scale the data as shown in:\n",
      "    https://scikit-learn.org/stable/modules/preprocessing.html\n",
      "Please also refer to the documentation for alternative solver options:\n",
      "    https://scikit-learn.org/stable/modules/linear_model.html#logistic-regression\n",
      "  n_iter_i = _check_optimize_result(\n",
      "/opt/conda/lib/python3.9/site-packages/sklearn/linear_model/_logistic.py:814: ConvergenceWarning: lbfgs failed to converge (status=1):\n",
      "STOP: TOTAL NO. of ITERATIONS REACHED LIMIT.\n",
      "\n",
      "Increase the number of iterations (max_iter) or scale the data as shown in:\n",
      "    https://scikit-learn.org/stable/modules/preprocessing.html\n",
      "Please also refer to the documentation for alternative solver options:\n",
      "    https://scikit-learn.org/stable/modules/linear_model.html#logistic-regression\n",
      "  n_iter_i = _check_optimize_result(\n",
      "/opt/conda/lib/python3.9/site-packages/sklearn/linear_model/_logistic.py:814: ConvergenceWarning: lbfgs failed to converge (status=1):\n",
      "STOP: TOTAL NO. of ITERATIONS REACHED LIMIT.\n",
      "\n",
      "Increase the number of iterations (max_iter) or scale the data as shown in:\n",
      "    https://scikit-learn.org/stable/modules/preprocessing.html\n",
      "Please also refer to the documentation for alternative solver options:\n",
      "    https://scikit-learn.org/stable/modules/linear_model.html#logistic-regression\n",
      "  n_iter_i = _check_optimize_result(\n",
      "/opt/conda/lib/python3.9/site-packages/sklearn/linear_model/_logistic.py:814: ConvergenceWarning: lbfgs failed to converge (status=1):\n",
      "STOP: TOTAL NO. of ITERATIONS REACHED LIMIT.\n",
      "\n",
      "Increase the number of iterations (max_iter) or scale the data as shown in:\n",
      "    https://scikit-learn.org/stable/modules/preprocessing.html\n",
      "Please also refer to the documentation for alternative solver options:\n",
      "    https://scikit-learn.org/stable/modules/linear_model.html#logistic-regression\n",
      "  n_iter_i = _check_optimize_result(\n",
      "/opt/conda/lib/python3.9/site-packages/sklearn/linear_model/_logistic.py:814: ConvergenceWarning: lbfgs failed to converge (status=1):\n",
      "STOP: TOTAL NO. of ITERATIONS REACHED LIMIT.\n",
      "\n",
      "Increase the number of iterations (max_iter) or scale the data as shown in:\n",
      "    https://scikit-learn.org/stable/modules/preprocessing.html\n",
      "Please also refer to the documentation for alternative solver options:\n",
      "    https://scikit-learn.org/stable/modules/linear_model.html#logistic-regression\n",
      "  n_iter_i = _check_optimize_result(\n",
      "/opt/conda/lib/python3.9/site-packages/sklearn/linear_model/_logistic.py:814: ConvergenceWarning: lbfgs failed to converge (status=1):\n",
      "STOP: TOTAL NO. of ITERATIONS REACHED LIMIT.\n",
      "\n",
      "Increase the number of iterations (max_iter) or scale the data as shown in:\n",
      "    https://scikit-learn.org/stable/modules/preprocessing.html\n",
      "Please also refer to the documentation for alternative solver options:\n",
      "    https://scikit-learn.org/stable/modules/linear_model.html#logistic-regression\n",
      "  n_iter_i = _check_optimize_result(\n",
      "/opt/conda/lib/python3.9/site-packages/sklearn/linear_model/_logistic.py:814: ConvergenceWarning: lbfgs failed to converge (status=1):\n",
      "STOP: TOTAL NO. of ITERATIONS REACHED LIMIT.\n",
      "\n",
      "Increase the number of iterations (max_iter) or scale the data as shown in:\n",
      "    https://scikit-learn.org/stable/modules/preprocessing.html\n",
      "Please also refer to the documentation for alternative solver options:\n",
      "    https://scikit-learn.org/stable/modules/linear_model.html#logistic-regression\n",
      "  n_iter_i = _check_optimize_result(\n",
      "/opt/conda/lib/python3.9/site-packages/sklearn/linear_model/_logistic.py:814: ConvergenceWarning: lbfgs failed to converge (status=1):\n",
      "STOP: TOTAL NO. of ITERATIONS REACHED LIMIT.\n",
      "\n",
      "Increase the number of iterations (max_iter) or scale the data as shown in:\n",
      "    https://scikit-learn.org/stable/modules/preprocessing.html\n",
      "Please also refer to the documentation for alternative solver options:\n",
      "    https://scikit-learn.org/stable/modules/linear_model.html#logistic-regression\n",
      "  n_iter_i = _check_optimize_result(\n",
      "/opt/conda/lib/python3.9/site-packages/sklearn/linear_model/_logistic.py:814: ConvergenceWarning: lbfgs failed to converge (status=1):\n",
      "STOP: TOTAL NO. of ITERATIONS REACHED LIMIT.\n",
      "\n",
      "Increase the number of iterations (max_iter) or scale the data as shown in:\n",
      "    https://scikit-learn.org/stable/modules/preprocessing.html\n",
      "Please also refer to the documentation for alternative solver options:\n",
      "    https://scikit-learn.org/stable/modules/linear_model.html#logistic-regression\n",
      "  n_iter_i = _check_optimize_result(\n",
      "/opt/conda/lib/python3.9/site-packages/sklearn/linear_model/_logistic.py:814: ConvergenceWarning: lbfgs failed to converge (status=1):\n",
      "STOP: TOTAL NO. of ITERATIONS REACHED LIMIT.\n",
      "\n",
      "Increase the number of iterations (max_iter) or scale the data as shown in:\n",
      "    https://scikit-learn.org/stable/modules/preprocessing.html\n",
      "Please also refer to the documentation for alternative solver options:\n",
      "    https://scikit-learn.org/stable/modules/linear_model.html#logistic-regression\n",
      "  n_iter_i = _check_optimize_result(\n",
      "/opt/conda/lib/python3.9/site-packages/sklearn/linear_model/_logistic.py:814: ConvergenceWarning: lbfgs failed to converge (status=1):\n",
      "STOP: TOTAL NO. of ITERATIONS REACHED LIMIT.\n",
      "\n",
      "Increase the number of iterations (max_iter) or scale the data as shown in:\n",
      "    https://scikit-learn.org/stable/modules/preprocessing.html\n",
      "Please also refer to the documentation for alternative solver options:\n",
      "    https://scikit-learn.org/stable/modules/linear_model.html#logistic-regression\n",
      "  n_iter_i = _check_optimize_result(\n",
      "/opt/conda/lib/python3.9/site-packages/sklearn/linear_model/_logistic.py:814: ConvergenceWarning: lbfgs failed to converge (status=1):\n",
      "STOP: TOTAL NO. of ITERATIONS REACHED LIMIT.\n",
      "\n",
      "Increase the number of iterations (max_iter) or scale the data as shown in:\n",
      "    https://scikit-learn.org/stable/modules/preprocessing.html\n",
      "Please also refer to the documentation for alternative solver options:\n",
      "    https://scikit-learn.org/stable/modules/linear_model.html#logistic-regression\n",
      "  n_iter_i = _check_optimize_result(\n",
      "/opt/conda/lib/python3.9/site-packages/sklearn/linear_model/_logistic.py:814: ConvergenceWarning: lbfgs failed to converge (status=1):\n",
      "STOP: TOTAL NO. of ITERATIONS REACHED LIMIT.\n",
      "\n",
      "Increase the number of iterations (max_iter) or scale the data as shown in:\n",
      "    https://scikit-learn.org/stable/modules/preprocessing.html\n",
      "Please also refer to the documentation for alternative solver options:\n",
      "    https://scikit-learn.org/stable/modules/linear_model.html#logistic-regression\n",
      "  n_iter_i = _check_optimize_result(\n"
     ]
    },
    {
     "name": "stderr",
     "output_type": "stream",
     "text": [
      "/opt/conda/lib/python3.9/site-packages/sklearn/linear_model/_logistic.py:814: ConvergenceWarning: lbfgs failed to converge (status=1):\n",
      "STOP: TOTAL NO. of ITERATIONS REACHED LIMIT.\n",
      "\n",
      "Increase the number of iterations (max_iter) or scale the data as shown in:\n",
      "    https://scikit-learn.org/stable/modules/preprocessing.html\n",
      "Please also refer to the documentation for alternative solver options:\n",
      "    https://scikit-learn.org/stable/modules/linear_model.html#logistic-regression\n",
      "  n_iter_i = _check_optimize_result(\n",
      "/opt/conda/lib/python3.9/site-packages/sklearn/linear_model/_logistic.py:814: ConvergenceWarning: lbfgs failed to converge (status=1):\n",
      "STOP: TOTAL NO. of ITERATIONS REACHED LIMIT.\n",
      "\n",
      "Increase the number of iterations (max_iter) or scale the data as shown in:\n",
      "    https://scikit-learn.org/stable/modules/preprocessing.html\n",
      "Please also refer to the documentation for alternative solver options:\n",
      "    https://scikit-learn.org/stable/modules/linear_model.html#logistic-regression\n",
      "  n_iter_i = _check_optimize_result(\n",
      "/opt/conda/lib/python3.9/site-packages/sklearn/linear_model/_logistic.py:814: ConvergenceWarning: lbfgs failed to converge (status=1):\n",
      "STOP: TOTAL NO. of ITERATIONS REACHED LIMIT.\n",
      "\n",
      "Increase the number of iterations (max_iter) or scale the data as shown in:\n",
      "    https://scikit-learn.org/stable/modules/preprocessing.html\n",
      "Please also refer to the documentation for alternative solver options:\n",
      "    https://scikit-learn.org/stable/modules/linear_model.html#logistic-regression\n",
      "  n_iter_i = _check_optimize_result(\n"
     ]
    }
   ],
   "source": [
    "# model_list = [Naive_Bayes, Complement_Naive_Bayes, Logistic,  LinearSVC,  tree, GradientBoost,  voting]\n",
    "model_list = [Naive_Bayes, Complement_Naive_Bayes, Logistic,  tree, GradientBoost,  voting]\n",
    "# model_list = [Naive_Bayes, Complement_Naive_Bayes]\n",
    "\n",
    "num_words_list = [25, 50, 100, 200, 500, 1000, 2000, 5000, 10000, None]\n",
    "# num_words_list = [5000, 8000, None]\n",
    "\n",
    "m = len(num_words_list)\n",
    "n = len(model_list)\n",
    "\n",
    "accuracy = [[0]*n for _ in range(m)]\n",
    "\n",
    "for i in range(m):\n",
    "    (x_train, y_train), (x_test, y_test) = reuters.load_data(num_words=num_words_list[i], test_split=0.2)\n",
    "    \n",
    "    x_train = decoded_data(x_train)\n",
    "    x_test  = decoded_data(x_test)\n",
    "    \n",
    "    # Bag of Words 가설을 기반으로 하는 DTM, TF-IDF 행렬을 이용해 벡터화\n",
    "    # 사이킷런의 CountVectorizer()를 사용해서 Document Term Matrix, DTM 생성\n",
    "    dtmvector = CountVectorizer()\n",
    "    x_train_dtm = dtmvector.fit_transform(x_train)\n",
    "\n",
    "    \n",
    "    # `TfidfTransformer()`를 사용해서 TF-IDF Matrix 생성\n",
    "    tfidf_transformer = TfidfTransformer()\n",
    "    tfidfv = tfidf_transformer.fit_transform(x_train_dtm)\n",
    "    \n",
    "    x_test_dtm = dtmvector.transform(x_test) #테스트 데이터를 DTM으로 변환\n",
    "    tfidfv_test = tfidf_transformer.transform(x_test_dtm) #DTM을 TF-IDF 행렬로 변환\n",
    "    \n",
    "    for j, make_model in enumerate(model_list): # accuracy 구하기\n",
    "        accuracy[i][j] = model_accuracy(make_model(tfidfv, y_train), tfidfv_test, y_test)        "
   ]
  },
  {
   "cell_type": "code",
   "execution_count": 63,
   "id": "e7734798",
   "metadata": {
    "id": "769053f7"
   },
   "outputs": [
    {
     "data": {
      "text/plain": [
       "[[0.44256455921638466,\n",
       "  0.47684772929652713,\n",
       "  0.4866429207479964,\n",
       "  0.5089047195013358,\n",
       "  0.5146927871772039,\n",
       "  0.5360641139804097],\n",
       " [0.4982190560997329,\n",
       "  0.4946571682991986,\n",
       "  0.5342831700801425,\n",
       "  0.5569902048085486,\n",
       "  0.5805877114870882,\n",
       "  0.5828138913624221],\n",
       " [0.4977738201246661,\n",
       "  0.5734639358860196,\n",
       "  0.6344612644701692,\n",
       "  0.6157613535173642,\n",
       "  0.6393588601959038,\n",
       "  0.6540516473731077],\n",
       " [0.5489759572573464,\n",
       "  0.6264470169189671,\n",
       "  0.6798753339269813,\n",
       "  0.6046304541406946,\n",
       "  0.6754229741763135,\n",
       "  0.6812110418521816],\n",
       " [0.6589492430988424,\n",
       "  0.707479964381122,\n",
       "  0.7586821015138023,\n",
       "  0.6108637577916296,\n",
       "  0.7279608192341941,\n",
       "  0.7479964381121995],\n",
       " [0.6856634016028496,\n",
       "  0.7346393588601959,\n",
       "  0.780053428317008,\n",
       "  0.6179875333926982,\n",
       "  0.7453250222617988,\n",
       "  0.7693677649154052],\n",
       " [0.6914514692787177,\n",
       "  0.7569011576135352,\n",
       "  0.7974176313446126,\n",
       "  0.6255565449688335,\n",
       "  0.757346393588602,\n",
       "  0.7836153161175423],\n",
       " [0.6731967943009796,\n",
       "  0.7707034728406055,\n",
       "  0.7978628673196795,\n",
       "  0.6179875333926982,\n",
       "  0.767586821015138,\n",
       "  0.7960819234194123],\n",
       " [0.6567230632235085,\n",
       "  0.7707034728406055,\n",
       "  0.7951914514692787,\n",
       "  0.6202137132680321,\n",
       "  0.7662511130899377,\n",
       "  0.7969723953695459],\n",
       " [0.5997328584149599,\n",
       "  0.7649154051647373,\n",
       "  0.7920747996438112,\n",
       "  0.6211041852181657,\n",
       "  0.7702582368655387,\n",
       "  0.8000890471950134]]"
      ]
     },
     "execution_count": 63,
     "metadata": {},
     "output_type": "execute_result"
    }
   ],
   "source": [
    "accuracy"
   ]
  },
  {
   "cell_type": "code",
   "execution_count": 64,
   "id": "c307d7b8",
   "metadata": {
    "id": "UdoG3nPzBwe0"
   },
   "outputs": [
    {
     "data": {
      "text/plain": [
       "Text(0, 0.5, 'Accuracy')"
      ]
     },
     "execution_count": 64,
     "metadata": {},
     "output_type": "execute_result"
    },
    {
     "data": {
      "image/png": "[encoded data removed]",
      "text/plain": [
       "<Figure size 432x288 with 1 Axes>"
      ]
     },
     "metadata": {
      "needs_background": "light"
     },
     "output_type": "display_data"
    }
   ],
   "source": [
    "column_names = ['Naive_Bayes', 'Complement_Naive_Bayes', 'Logistic',  'tree', 'GradientBoost',  'voting']\n",
    "# row_indices  = ['3000', '5000', '8000', '10000', 'None']\n",
    "row_indices  = ['25', '50', '100', '200', '500', '1000', '2000', '5000', '10000', 'None']\n",
    "data_df = pd.DataFrame(accuracy, index=row_indices, columns=column_names)\n",
    "%matplotlib inline \n",
    "data_df.plot( )\n",
    "plt.title('Vocabulary size vs Accuracy')\n",
    "plt.xlabel(\"vocab_size\")\n",
    "plt.ylabel('Accuracy')"
   ]
  },
  {
   "cell_type": "markdown",
   "id": "6d8d56e3",
   "metadata": {
    "id": "7950a7e2"
   },
   "source": [
    "## 2. 빈도수 상위 5,000개의 단어만 사용"
   ]
  },
  {
   "cell_type": "markdown",
   "id": "be40abce",
   "metadata": {
    "id": "e9769ac1"
   },
   "source": [
    "## 3. 직접 단어 개수를 설정해서 사용\n",
    "\n",
    "위 단계에서 5000으로 제시된 `num_words`를 다양하게 바꾸어 가며 성능을 확인. 최소 3가지 경우 이상을 실험"
   ]
  },
  {
   "cell_type": "markdown",
   "id": "86a71270",
   "metadata": {
    "id": "0f45c147"
   },
   "source": [
    "**사용할 모델**\n",
    "\n",
    "나이브 베이즈 분류기, CNB, 로지스틱 회귀, 서포트 벡터 머신, 결정 트리, 랜덤 포레스트, 그래디언트 부스팅 트리, 보팅"
   ]
  },
  {
   "cell_type": "markdown",
   "id": "21946c7f",
   "metadata": {
    "id": "c5500374"
   },
   "source": [
    "## 4. 딥러닝 모델과 비교해 보기\n",
    "\n",
    "위 과정을 통해 나온 최적의 모델과 단어 수 조건에서, 본인이 선택한 다른 모델을 적용한 결과와 비교해 봅시다. 감정 분석 등에 사용했던 RNN이나 1-D CNN 등의 딥러닝 모델 중 하나를 선택해서 오늘 사용했던 데이터셋을 학습해 보고 나오는 결과를 비교해 봅시다. 단, 공정한 비교를 위해 이때 Word2Vec 등의 pretrained model은 사용하지 않도록 합니다."
   ]
  },
  {
   "cell_type": "markdown",
   "id": "8b77706c",
   "metadata": {
    "id": "b0c61425"
   },
   "source": [
    "## LSTM 사용 네이버 영화감상평 분류 코드 사용"
   ]
  },
  {
   "cell_type": "code",
   "execution_count": 1,
   "id": "e2f51088",
   "metadata": {
    "id": "d149f9c0"
   },
   "outputs": [],
   "source": [
    "from tensorflow.keras.datasets import reuters\n",
    "import tensorflow as tf\n",
    "import numpy as np\n",
    "import matplotlib.pyplot as plt\n",
    "import pandas as pd\n",
    "from tensorflow.keras.utils import to_categorical\n",
    "from tensorflow.keras.callbacks import EarlyStopping, ModelCheckpoint\n",
    "from tensorflow.keras.models import load_model"
   ]
  },
  {
   "cell_type": "code",
   "execution_count": 2,
   "id": "6a8d55dd",
   "metadata": {
    "id": "kGnlQaa84qvc"
   },
   "outputs": [],
   "source": [
    "def plot_graphs(history, metric):\n",
    "    '''\n",
    "    히스토리 그래프\n",
    "    '''\n",
    "    plt.plot(history.history[metric])\n",
    "    plt.plot(history.history['val_' + metric], '')\n",
    "    plt.xlabel(\"Epochs\")\n",
    "    plt.ylabel(metric)\n",
    "    plt.legend([metric, 'val_' + metric])"
   ]
  },
  {
   "cell_type": "markdown",
   "id": "a7a05552",
   "metadata": {
    "id": "865b3581"
   },
   "source": [
    "### 데이터 불러오기"
   ]
  },
  {
   "cell_type": "code",
   "execution_count": 3,
   "id": "79e9f5ac",
   "metadata": {
    "id": "951f4aa2"
   },
   "outputs": [
    {
     "name": "stdout",
     "output_type": "stream",
     "text": [
      "1792\n"
     ]
    }
   ],
   "source": [
    "# 문장 토큰수 제한\n",
    "min_len = 20   # 최소 길이\n",
    "# max_len = 21 나중에 정함\n",
    "\n",
    "vocab_size      = 10000    # 어휘 사전의 크기입니다(10,000개의 단어)\n",
    "word_vector_dim = 300      # 워드 벡터의 차원 수 (변경 가능한 하이퍼파라미터)\n",
    "# word_vector_dim = 100      # 워드 벡터의 차원 수 (변경 가능한 하이퍼파라미터)\n",
    "BUFFER_SIZE     = 1024\n",
    "# BATCH_SIZE      = 512\n",
    "BATCH_SIZE      = 64\n",
    "epochs          = 60\n",
    "\n",
    "# 약 8982건의 train 데이터\n",
    "# validation set 사이즈 8982 * 0.2 = 약1792\n",
    "\n",
    "int_partition = int((8982 * 0.2) / BATCH_SIZE) * BATCH_SIZE\n",
    "\n",
    "print(int_partition)"
   ]
  },
  {
   "cell_type": "code",
   "execution_count": 4,
   "id": "d270fdb3",
   "metadata": {
    "id": "5eb57f93"
   },
   "outputs": [
    {
     "name": "stdout",
     "output_type": "stream",
     "text": [
      "훈련 샘플의 수: 8982\n",
      "테스트 샘플의 수: 2246\n"
     ]
    }
   ],
   "source": [
    "(x_train, y_train), (x_test, y_test) = reuters.load_data(num_words=vocab_size, test_split=0.2)\n",
    "print('훈련 샘플의 수: {}'.format(len(x_train)))\n",
    "print('테스트 샘플의 수: {}'.format(len(x_test)))"
   ]
  },
  {
   "cell_type": "code",
   "execution_count": 5,
   "id": "5b5c09d8",
   "metadata": {
    "id": "842236e2"
   },
   "outputs": [
    {
     "name": "stdout",
     "output_type": "stream",
     "text": [
      "문장길이 평균 :  145.96419665122906\n",
      "문장길이 최소 :  2\n",
      "문장길이 최대 :  2376\n",
      "문장길이 표준편차 :  145.8784764459447\n",
      "pad_sequences max_len :  291\n",
      "전체 문장의 0.8810117563234771%가 max_len 설정값 이내에 포함됩니다. \n"
     ]
    }
   ],
   "source": [
    "total_data_text = list(x_train) + list(x_test)\n",
    "# 텍스트데이터 문장길이의 리스트를 생성한 후\n",
    "num_tokens = [len(tokens) for tokens in total_data_text]\n",
    "num_tokens = np.array(num_tokens)\n",
    "# 문장길이의 평균값, 최대값, 표준편차를 계산해 본다. \n",
    "print('문장길이 평균 : ', np.mean(num_tokens))\n",
    "print('문장길이 최소 : ', np.min(num_tokens))\n",
    "print('문장길이 최대 : ', np.max(num_tokens))\n",
    "print('문장길이 표준편차 : ', np.std(num_tokens))\n",
    "\n",
    "# 예를들어, 최대 길이를 (평균 + 표준편차)로 한다면,  \n",
    "max_tokens = np.mean(num_tokens) + np.std(num_tokens)\n",
    "max_len = int(max_tokens)\n",
    "\n",
    "print('pad_sequences max_len : ', max_len)\n",
    "print('전체 문장의 {}%가 max_len 설정값 이내에 포함됩니다. '.format(np.sum(num_tokens < max_tokens) / len(num_tokens)))\n"
   ]
  },
  {
   "cell_type": "code",
   "execution_count": 6,
   "id": "16d2ee7b",
   "metadata": {
    "id": "5ffUX9tuEA-c"
   },
   "outputs": [],
   "source": [
    "num_classes = max(y_train) + 1"
   ]
  },
  {
   "cell_type": "code",
   "execution_count": 7,
   "id": "503172aa",
   "metadata": {
    "id": "d3532055"
   },
   "outputs": [],
   "source": [
    "x_train_st = []\n",
    "y_train_st = []\n",
    "for tokens, label in zip(x_train, y_train) :\n",
    "    if min_len <= len(tokens) and  len(tokens) <= max_len:  # 토큰의 길이가 min_len max_len 사이에 있게 한다.\n",
    "        x_train_st.append(tokens)\n",
    "        y_train_st.append(label)\n",
    "y_train = np.array(y_train_st)\n",
    "\n",
    "x_test_st = []\n",
    "y_test_st = []\n",
    "for tokens, label in zip(x_test, y_test) :   \n",
    "    if min_len <= len(tokens) and  len(tokens) <= max_len:  # 토큰의 길이가 min_len max_len 사이에 있게 한다.\n",
    "        x_test_st.append(tokens)\n",
    "        y_test_st.append(label)\n",
    "y_test = np.array(y_test_st)"
   ]
  },
  {
   "cell_type": "code",
   "execution_count": 8,
   "id": "11389cc0",
   "metadata": {
    "id": "0b2e57f1"
   },
   "outputs": [
    {
     "name": "stdout",
     "output_type": "stream",
     "text": [
      "(7603, 291)\n",
      "(7603, 46)\n"
     ]
    }
   ],
   "source": [
    "x_train = tf.keras.preprocessing.sequence.pad_sequences(x_train_st, padding='post', maxlen=max_len)\n",
    "x_test  = tf.keras.preprocessing.sequence.pad_sequences(x_test_st,  padding='post', maxlen=max_len)\n",
    "y_train = to_categorical(y_train)\n",
    "y_test  = to_categorical(y_test)\n",
    "print(x_train.shape)\n",
    "print(y_train.shape)"
   ]
  },
  {
   "cell_type": "code",
   "execution_count": 9,
   "id": "a21d1bdd",
   "metadata": {
    "id": "8e82b921"
   },
   "outputs": [],
   "source": [
    "# for i in range(5):\n",
    "#   print(x_train[i])\n",
    "#   print(y_train[i])"
   ]
  },
  {
   "cell_type": "code",
   "execution_count": 10,
   "id": "ceaf97e1",
   "metadata": {
    "id": "d542e6ca"
   },
   "outputs": [
    {
     "name": "stdout",
     "output_type": "stream",
     "text": [
      "(5811, 291)\n",
      "(5811, 46)\n"
     ]
    }
   ],
   "source": [
    "x_val = x_train[:int_partition]   \n",
    "y_val = y_train[:int_partition]\n",
    "\n",
    "# validation set을 제외한 나머지 \n",
    "partial_x_train = x_train[int_partition:]  \n",
    "partial_y_train = y_train[int_partition:]\n",
    "\n",
    "print(partial_x_train.shape)\n",
    "print(partial_y_train.shape)"
   ]
  },
  {
   "cell_type": "code",
   "execution_count": 11,
   "id": "f620fa93",
   "metadata": {
    "id": "019ce594"
   },
   "outputs": [
    {
     "name": "stdout",
     "output_type": "stream",
     "text": [
      "(5811, 291)\n",
      "(5811, 46)\n"
     ]
    }
   ],
   "source": [
    "x_val = x_train[:int_partition]   \n",
    "y_val = y_train[:int_partition]\n",
    "\n",
    "# validation set을 제외한 나머지 \n",
    "partial_x_train = x_train[int_partition:]  \n",
    "partial_y_train = y_train[int_partition:]\n",
    "\n",
    "print(partial_x_train.shape)\n",
    "print(partial_y_train.shape)"
   ]
  },
  {
   "cell_type": "code",
   "execution_count": 12,
   "id": "8560de96",
   "metadata": {
    "id": "9c491c39"
   },
   "outputs": [
    {
     "name": "stdout",
     "output_type": "stream",
     "text": [
      "Model: \"sequential\"\n",
      "_________________________________________________________________\n",
      " Layer (type)                Output Shape              Param #   \n",
      "=================================================================\n",
      " embedding (Embedding)       (None, 291, 300)          3000000   \n",
      "                                                                 \n",
      " bidirectional (Bidirectiona  (None, 291, 512)         1140736   \n",
      " l)                                                              \n",
      "                                                                 \n",
      " bidirectional_1 (Bidirectio  (None, 512)              1574912   \n",
      " nal)                                                            \n",
      "                                                                 \n",
      " dense (Dense)               (None, 256)               131328    \n",
      "                                                                 \n",
      " dropout (Dropout)           (None, 256)               0         \n",
      "                                                                 \n",
      " dense_1 (Dense)             (None, 46)                11822     \n",
      "                                                                 \n",
      "=================================================================\n",
      "Total params: 5,858,798\n",
      "Trainable params: 5,858,798\n",
      "Non-trainable params: 0\n",
      "_________________________________________________________________\n"
     ]
    }
   ],
   "source": [
    "model_LSTM = tf.keras.Sequential([\n",
    "    tf.keras.layers.Embedding(vocab_size, \n",
    "                                 word_vector_dim, \n",
    "                                 input_length=max_len, \n",
    "                                 trainable=True),\n",
    "    tf.keras.layers.Bidirectional(tf.keras.layers.LSTM(256,  return_sequences=True)),\n",
    "    tf.keras.layers.Bidirectional(tf.keras.layers.LSTM(256)),\n",
    "    tf.keras.layers.Dense(256, activation='relu'),\n",
    "    tf.keras.layers.Dropout(0.3),\n",
    "    tf.keras.layers.Dense(num_classes, activation='softmax')\n",
    "])\n",
    "\n",
    "model_LSTM.summary()"
   ]
  },
  {
   "cell_type": "code",
   "execution_count": 13,
   "id": "6ddf86bd",
   "metadata": {
    "id": "b38cb5a3"
   },
   "outputs": [
    {
     "name": "stdout",
     "output_type": "stream",
     "text": [
      "[False, True, True, True, True, True]\n"
     ]
    }
   ],
   "source": [
    "print([layer.supports_masking for layer in model_LSTM.layers])"
   ]
  },
  {
   "cell_type": "code",
   "execution_count": 14,
   "id": "cdbff333",
   "metadata": {
    "id": "7be8aeec"
   },
   "outputs": [],
   "source": [
    "model_LSTM.compile(loss=tf.keras.losses.CategoricalCrossentropy(),\n",
    "              optimizer=tf.keras.optimizers.Adam(1e-4),\n",
    "              metrics=['acc'])"
   ]
  },
  {
   "cell_type": "code",
   "execution_count": 15,
   "id": "889e930e",
   "metadata": {
    "id": "68360a92"
   },
   "outputs": [
    {
     "name": "stdout",
     "output_type": "stream",
     "text": [
      "Epoch 1/60\n",
      "91/91 [==============================] - ETA: 0s - loss: 2.5928 - acc: 0.4345\n",
      "Epoch 1: val_acc improved from -inf to 0.53292, saving model to best_model.h5\n",
      "91/91 [==============================] - 38s 340ms/step - loss: 2.5928 - acc: 0.4345 - val_loss: 2.0927 - val_acc: 0.5329\n",
      "Epoch 2/60\n",
      "91/91 [==============================] - ETA: 0s - loss: 1.9273 - acc: 0.5548\n",
      "Epoch 2: val_acc improved from 0.53292 to 0.54074, saving model to best_model.h5\n",
      "91/91 [==============================] - 30s 328ms/step - loss: 1.9273 - acc: 0.5548 - val_loss: 1.9027 - val_acc: 0.5407\n",
      "Epoch 3/60\n",
      "91/91 [==============================] - ETA: 0s - loss: 1.6421 - acc: 0.6056\n",
      "Epoch 3: val_acc improved from 0.54074 to 0.59766, saving model to best_model.h5\n",
      "91/91 [==============================] - 30s 335ms/step - loss: 1.6421 - acc: 0.6056 - val_loss: 1.6309 - val_acc: 0.5977\n",
      "Epoch 4/60\n",
      "91/91 [==============================] - ETA: 0s - loss: 1.4702 - acc: 0.6376\n",
      "Epoch 4: val_acc improved from 0.59766 to 0.61272, saving model to best_model.h5\n",
      "91/91 [==============================] - 30s 333ms/step - loss: 1.4702 - acc: 0.6376 - val_loss: 1.5789 - val_acc: 0.6127\n",
      "Epoch 5/60\n",
      "91/91 [==============================] - ETA: 0s - loss: 1.3807 - acc: 0.6584\n",
      "Epoch 5: val_acc improved from 0.61272 to 0.62388, saving model to best_model.h5\n",
      "91/91 [==============================] - 32s 348ms/step - loss: 1.3807 - acc: 0.6584 - val_loss: 1.5500 - val_acc: 0.6239\n",
      "Epoch 6/60\n",
      "91/91 [==============================] - ETA: 0s - loss: 1.2956 - acc: 0.6797\n",
      "Epoch 6: val_acc improved from 0.62388 to 0.63449, saving model to best_model.h5\n",
      "91/91 [==============================] - 31s 341ms/step - loss: 1.2956 - acc: 0.6797 - val_loss: 1.5053 - val_acc: 0.6345\n",
      "Epoch 7/60\n",
      "91/91 [==============================] - ETA: 0s - loss: 1.2309 - acc: 0.6995\n",
      "Epoch 7: val_acc did not improve from 0.63449\n",
      "91/91 [==============================] - 30s 325ms/step - loss: 1.2309 - acc: 0.6995 - val_loss: 1.5051 - val_acc: 0.6306\n",
      "Epoch 8/60\n",
      "91/91 [==============================] - ETA: 0s - loss: 1.1570 - acc: 0.7183\n",
      "Epoch 8: val_acc improved from 0.63449 to 0.64844, saving model to best_model.h5\n",
      "91/91 [==============================] - 30s 325ms/step - loss: 1.1570 - acc: 0.7183 - val_loss: 1.5138 - val_acc: 0.6484\n",
      "Epoch 9/60\n",
      "91/91 [==============================] - ETA: 0s - loss: 1.0970 - acc: 0.7362\n",
      "Epoch 9: val_acc improved from 0.64844 to 0.64900, saving model to best_model.h5\n",
      "91/91 [==============================] - 29s 319ms/step - loss: 1.0970 - acc: 0.7362 - val_loss: 1.5089 - val_acc: 0.6490\n",
      "Epoch 10/60\n",
      "91/91 [==============================] - ETA: 0s - loss: 1.0320 - acc: 0.7477\n",
      "Epoch 10: val_acc improved from 0.64900 to 0.65067, saving model to best_model.h5\n",
      "91/91 [==============================] - 28s 309ms/step - loss: 1.0320 - acc: 0.7477 - val_loss: 1.5078 - val_acc: 0.6507\n",
      "Epoch 11/60\n",
      "91/91 [==============================] - ETA: 0s - loss: 0.9848 - acc: 0.7648\n",
      "Epoch 11: val_acc did not improve from 0.65067\n",
      "91/91 [==============================] - 28s 310ms/step - loss: 0.9848 - acc: 0.7648 - val_loss: 1.4888 - val_acc: 0.6507\n",
      "Epoch 12/60\n",
      "91/91 [==============================] - ETA: 0s - loss: 0.9502 - acc: 0.7708\n",
      "Epoch 12: val_acc improved from 0.65067 to 0.65569, saving model to best_model.h5\n",
      "91/91 [==============================] - 28s 310ms/step - loss: 0.9502 - acc: 0.7708 - val_loss: 1.4807 - val_acc: 0.6557\n",
      "Epoch 13/60\n",
      "91/91 [==============================] - ETA: 0s - loss: 0.8693 - acc: 0.7949\n",
      "Epoch 13: val_acc improved from 0.65569 to 0.66574, saving model to best_model.h5\n",
      "91/91 [==============================] - 29s 314ms/step - loss: 0.8693 - acc: 0.7949 - val_loss: 1.4889 - val_acc: 0.6657\n",
      "Epoch 14/60\n",
      "91/91 [==============================] - ETA: 0s - loss: 0.8162 - acc: 0.8021\n",
      "Epoch 14: val_acc improved from 0.66574 to 0.66964, saving model to best_model.h5\n",
      "91/91 [==============================] - 29s 318ms/step - loss: 0.8162 - acc: 0.8021 - val_loss: 1.4975 - val_acc: 0.6696\n",
      "Epoch 15/60\n",
      "91/91 [==============================] - ETA: 0s - loss: 0.7770 - acc: 0.8110\n",
      "Epoch 15: val_acc did not improve from 0.66964\n",
      "91/91 [==============================] - 28s 305ms/step - loss: 0.7770 - acc: 0.8110 - val_loss: 1.5320 - val_acc: 0.6691\n",
      "Epoch 16/60\n",
      "91/91 [==============================] - ETA: 0s - loss: 0.7352 - acc: 0.8224\n",
      "Epoch 16: val_acc improved from 0.66964 to 0.67411, saving model to best_model.h5\n",
      "91/91 [==============================] - 28s 308ms/step - loss: 0.7352 - acc: 0.8224 - val_loss: 1.4961 - val_acc: 0.6741\n",
      "Epoch 17/60\n",
      "91/91 [==============================] - ETA: 0s - loss: 0.6903 - acc: 0.8326\n",
      "Epoch 17: val_acc improved from 0.67411 to 0.67522, saving model to best_model.h5\n",
      "91/91 [==============================] - 28s 307ms/step - loss: 0.6903 - acc: 0.8326 - val_loss: 1.5415 - val_acc: 0.6752\n",
      "Epoch 17: early stopping\n"
     ]
    }
   ],
   "source": [
    "es = EarlyStopping(monitor='val_loss', mode='min', verbose=1, patience=5)\n",
    "mc = ModelCheckpoint('best_model.h5', monitor='val_acc', mode='max', verbose=1, save_best_only=True)\n",
    "\n",
    "history_LSTM = model_LSTM.fit(partial_x_train,\n",
    "                    partial_y_train,\n",
    "                    epochs=epochs,\n",
    "                    batch_size=BATCH_SIZE,\n",
    "                    callbacks=[es, mc],\n",
    "                    validation_data=(x_val, y_val),\n",
    "                    verbose=1)"
   ]
  },
  {
   "cell_type": "code",
   "execution_count": 16,
   "id": "6ce0a6c9",
   "metadata": {
    "id": "fe04d7d0"
   },
   "outputs": [
    {
     "name": "stdout",
     "output_type": "stream",
     "text": [
      "59/59 [==============================] - 6s 65ms/step - loss: 1.5030 - acc: 0.6859\n",
      "Test Loss: 1.5030375719070435\n",
      "Test Accuracy: 0.6859109997749329\n"
     ]
    }
   ],
   "source": [
    "loaded_model = load_model('best_model.h5')\n",
    "test_loss, test_acc = loaded_model.evaluate(x_test, y_test)\n",
    "print('Test Loss:', test_loss)\n",
    "print('Test Accuracy:', test_acc)"
   ]
  },
  {
   "cell_type": "code",
   "execution_count": 17,
   "id": "70ac68c5",
   "metadata": {
    "id": "61d0ca01"
   },
   "outputs": [
    {
     "data": {
      "image/png": "[encoded data removed]",
      "text/plain": [
       "<Figure size 1152x432 with 2 Axes>"
      ]
     },
     "metadata": {
      "needs_background": "light"
     },
     "output_type": "display_data"
    }
   ],
   "source": [
    "plt.figure(figsize=(16, 6))\n",
    "plt.subplot(1, 2, 1)\n",
    "plot_graphs(history_LSTM, 'acc')\n",
    "plt.subplot(1, 2, 2)\n",
    "plot_graphs(history_LSTM, 'loss')"
   ]
  },
  {
   "cell_type": "markdown",
   "id": "6bc9e82b",
   "metadata": {},
   "source": [
    "## 후기  \n",
    "\n",
    "### Vocabulary Size를 변경해서 시도해보기  \n",
    "#### Out [64] 참고  \n",
    "\n",
    "#### DecisionTreeClassifier와 Naive Bayes 분류기 를 제외하고 0.75 이상의 정확도를 보였다.  \n",
    "\n",
    "#### Naive Bayes는 단어수 2000 정도에서 최고점 0.67 정도가 나왔고 단어수가 늘수록 성능이 저하되었다.  \n",
    "\n",
    "#### DecisionTreeClassifier는 단어수 100에서 0.62 정도 나왔고 단어수가 늘더라도 더이상 성능향상이 없었다.  \n",
    "  \n",
    "  \n",
    "### 딥러닝 모델과 비교해 보기\n",
    "\n",
    "#### 딥러닝 모델의 Test Loss: 1.50  Test Accuracy: 0.686 으로 머신러닝 모델들의 성능이 단순한 딥러닝보다 높게 나왔다.\n",
    "\n",
    "  \n",
    "  \n",
    "\n",
    "## 아이펠은 실습환경을 제대로 제공하라.\n",
    "\n",
    "![](https://raw.githubusercontent.com/Kona-cfd/AIFFEL_PROJECT/main/%EC%95%84%EC%9D%B4%ED%8E%A0%EC%8B%A4%EC%83%81.JPG)\n",
    "\n"
   ]
  },
  {
   "cell_type": "code",
   "execution_count": null,
   "id": "233d1738",
   "metadata": {},
   "outputs": [],
   "source": []
  }
 ],
 "metadata": {
  "accelerator": "GPU",
  "colab": {
   "collapsed_sections": [
    "df51d3cf"
   ],
   "name": "reuters_classifiaction2.ipynb",
   "provenance": []
  },
  "kernelspec": {
   "display_name": "Python 3 (ipykernel)",
   "language": "python",
   "name": "python3"
  },
  "language_info": {
   "codemirror_mode": {
    "name": "ipython",
    "version": 3
   },
   "file_extension": ".py",
   "mimetype": "text/x-python",
   "name": "python",
   "nbconvert_exporter": "python",
   "pygments_lexer": "ipython3",
   "version": "3.8.12"
  }
 },
 "nbformat": 4,
 "nbformat_minor": 5
}
