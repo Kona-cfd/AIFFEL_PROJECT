{
 "cells": [
  {
   "cell_type": "code",
   "execution_count": 2,
   "id": "7533643c",
   "metadata": {},
   "outputs": [],
   "source": [
    "# matplotlib 한글 출력 가능하도록 만들기\n",
    "from matplotlib import font_manager, rc\n",
    "font_name = font_manager.FontProperties(fname=\"c:/Windows/Fonts/malgun.ttf\").get_name()\n",
    "rc('font', family=font_name)"
   ]
  },
  {
   "cell_type": "code",
   "execution_count": 5,
   "id": "dfb15a15",
   "metadata": {},
   "outputs": [],
   "source": [
    "# 데이터 크롤링 모듈\n",
    "from selenium import webdriver\n",
    "from bs4 import BeautifulSoup\n",
    "import re"
   ]
  },
  {
   "cell_type": "code",
   "execution_count": 6,
   "id": "74e71bb9",
   "metadata": {},
   "outputs": [],
   "source": [
    "# 데이터 분석 모듈\n",
    "import pandas as pd\n",
    "import numpy as np\n",
    "import matplotlib.pyplot as plt\n",
    "import seaborn as sns\n",
    "import time\n",
    "from datetime import datetime"
   ]
  },
  {
   "cell_type": "code",
   "execution_count": 9,
   "id": "7735d336",
   "metadata": {},
   "outputs": [],
   "source": [
    "# submission = pd.read_csv(\"data/submission.csv\")\n",
    "\n",
    "\n",
    "\n",
    "# reg = pd.read_csv(\"data/Regular_Season_Batter.csv\")\n",
    "\n",
    "\n",
    "\n",
    "import pandas as pd\n",
    "from pathlib import Path\n",
    "data_path = Path.joinpath(Path.cwd(),'data')\n",
    "train_path = Path.joinpath(Path.cwd(),'data','Regular_Season_Batter.csv')\n",
    "reg = pd.read_csv(train_path)"
   ]
  },
  {
   "cell_type": "code",
   "execution_count": 10,
   "id": "1ffc308a",
   "metadata": {},
   "outputs": [
    {
     "name": "stderr",
     "output_type": "stream",
     "text": [
      "C:\\Users\\ami\\AppData\\Local\\Temp\\ipykernel_20876\\278159627.py:3: DeprecationWarning: executable_path has been deprecated, please pass in a Service object\n",
      "  driver = webdriver.Chrome('webdrivers/chromedriver.exe')\n"
     ]
    }
   ],
   "source": [
    "# 가상 웹드라이버 불러오기\n",
    "# chromedriver.exe가 크롬 버젼에 맞게 설치 되어 있어야 함\n",
    "driver = webdriver.Chrome('webdrivers/chromedriver.exe')"
   ]
  },
  {
   "cell_type": "code",
   "execution_count": 11,
   "id": "e8ccd0a5",
   "metadata": {},
   "outputs": [
    {
     "name": "stderr",
     "output_type": "stream",
     "text": [
      "C:\\Users\\ami\\AppData\\Local\\Temp\\ipykernel_20876\\455068102.py:10: DeprecationWarning: find_element_by_xpath is deprecated. Please use find_element(by=By.XPATH, value=xpath) instead\n",
      "  html = driver.find_element_by_xpath('//*[@id=\"mytable\"]/tbody').get_attribute(\"innerHTML\") #기록 table을 str형태로 저장\n",
      "C:\\Users\\ami\\AppData\\Local\\Temp\\ipykernel_20876\\455068102.py:31: FutureWarning: The default value of regex will change from True to False in a future version.\n",
      "  temp[0] = temp[0].str.replace(\"^\\d+\", '')\n"
     ]
    },
    {
     "name": "stdout",
     "output_type": "stream",
     "text": [
      "0 완료\n"
     ]
    },
    {
     "name": "stderr",
     "output_type": "stream",
     "text": [
      "C:\\Users\\ami\\AppData\\Local\\Temp\\ipykernel_20876\\455068102.py:10: DeprecationWarning: find_element_by_xpath is deprecated. Please use find_element(by=By.XPATH, value=xpath) instead\n",
      "  html = driver.find_element_by_xpath('//*[@id=\"mytable\"]/tbody').get_attribute(\"innerHTML\") #기록 table을 str형태로 저장\n",
      "C:\\Users\\ami\\AppData\\Local\\Temp\\ipykernel_20876\\455068102.py:31: FutureWarning: The default value of regex will change from True to False in a future version.\n",
      "  temp[0] = temp[0].str.replace(\"^\\d+\", '')\n",
      "C:\\Users\\ami\\AppData\\Local\\Temp\\ipykernel_20876\\455068102.py:48: FutureWarning: The frame.append method is deprecated and will be removed from pandas in a future version. Use pandas.concat instead.\n",
      "  result = result.append(temp)\n"
     ]
    },
    {
     "name": "stdout",
     "output_type": "stream",
     "text": [
      "1 완료\n"
     ]
    },
    {
     "name": "stderr",
     "output_type": "stream",
     "text": [
      "C:\\Users\\ami\\AppData\\Local\\Temp\\ipykernel_20876\\455068102.py:10: DeprecationWarning: find_element_by_xpath is deprecated. Please use find_element(by=By.XPATH, value=xpath) instead\n",
      "  html = driver.find_element_by_xpath('//*[@id=\"mytable\"]/tbody').get_attribute(\"innerHTML\") #기록 table을 str형태로 저장\n",
      "C:\\Users\\ami\\AppData\\Local\\Temp\\ipykernel_20876\\455068102.py:31: FutureWarning: The default value of regex will change from True to False in a future version.\n",
      "  temp[0] = temp[0].str.replace(\"^\\d+\", '')\n",
      "C:\\Users\\ami\\AppData\\Local\\Temp\\ipykernel_20876\\455068102.py:48: FutureWarning: The frame.append method is deprecated and will be removed from pandas in a future version. Use pandas.concat instead.\n",
      "  result = result.append(temp)\n"
     ]
    },
    {
     "name": "stdout",
     "output_type": "stream",
     "text": [
      "2 완료\n"
     ]
    },
    {
     "name": "stderr",
     "output_type": "stream",
     "text": [
      "C:\\Users\\ami\\AppData\\Local\\Temp\\ipykernel_20876\\455068102.py:10: DeprecationWarning: find_element_by_xpath is deprecated. Please use find_element(by=By.XPATH, value=xpath) instead\n",
      "  html = driver.find_element_by_xpath('//*[@id=\"mytable\"]/tbody').get_attribute(\"innerHTML\") #기록 table을 str형태로 저장\n",
      "C:\\Users\\ami\\AppData\\Local\\Temp\\ipykernel_20876\\455068102.py:31: FutureWarning: The default value of regex will change from True to False in a future version.\n",
      "  temp[0] = temp[0].str.replace(\"^\\d+\", '')\n",
      "C:\\Users\\ami\\AppData\\Local\\Temp\\ipykernel_20876\\455068102.py:48: FutureWarning: The frame.append method is deprecated and will be removed from pandas in a future version. Use pandas.concat instead.\n",
      "  result = result.append(temp)\n"
     ]
    },
    {
     "name": "stdout",
     "output_type": "stream",
     "text": [
      "3 완료\n"
     ]
    },
    {
     "name": "stderr",
     "output_type": "stream",
     "text": [
      "C:\\Users\\ami\\AppData\\Local\\Temp\\ipykernel_20876\\455068102.py:10: DeprecationWarning: find_element_by_xpath is deprecated. Please use find_element(by=By.XPATH, value=xpath) instead\n",
      "  html = driver.find_element_by_xpath('//*[@id=\"mytable\"]/tbody').get_attribute(\"innerHTML\") #기록 table을 str형태로 저장\n",
      "C:\\Users\\ami\\AppData\\Local\\Temp\\ipykernel_20876\\455068102.py:31: FutureWarning: The default value of regex will change from True to False in a future version.\n",
      "  temp[0] = temp[0].str.replace(\"^\\d+\", '')\n",
      "C:\\Users\\ami\\AppData\\Local\\Temp\\ipykernel_20876\\455068102.py:48: FutureWarning: The frame.append method is deprecated and will be removed from pandas in a future version. Use pandas.concat instead.\n",
      "  result = result.append(temp)\n"
     ]
    },
    {
     "name": "stdout",
     "output_type": "stream",
     "text": [
      "4 완료\n"
     ]
    },
    {
     "name": "stderr",
     "output_type": "stream",
     "text": [
      "C:\\Users\\ami\\AppData\\Local\\Temp\\ipykernel_20876\\455068102.py:10: DeprecationWarning: find_element_by_xpath is deprecated. Please use find_element(by=By.XPATH, value=xpath) instead\n",
      "  html = driver.find_element_by_xpath('//*[@id=\"mytable\"]/tbody').get_attribute(\"innerHTML\") #기록 table을 str형태로 저장\n",
      "C:\\Users\\ami\\AppData\\Local\\Temp\\ipykernel_20876\\455068102.py:31: FutureWarning: The default value of regex will change from True to False in a future version.\n",
      "  temp[0] = temp[0].str.replace(\"^\\d+\", '')\n",
      "C:\\Users\\ami\\AppData\\Local\\Temp\\ipykernel_20876\\455068102.py:48: FutureWarning: The frame.append method is deprecated and will be removed from pandas in a future version. Use pandas.concat instead.\n",
      "  result = result.append(temp)\n"
     ]
    },
    {
     "name": "stdout",
     "output_type": "stream",
     "text": [
      "5 완료\n"
     ]
    },
    {
     "name": "stderr",
     "output_type": "stream",
     "text": [
      "C:\\Users\\ami\\AppData\\Local\\Temp\\ipykernel_20876\\455068102.py:10: DeprecationWarning: find_element_by_xpath is deprecated. Please use find_element(by=By.XPATH, value=xpath) instead\n",
      "  html = driver.find_element_by_xpath('//*[@id=\"mytable\"]/tbody').get_attribute(\"innerHTML\") #기록 table을 str형태로 저장\n",
      "C:\\Users\\ami\\AppData\\Local\\Temp\\ipykernel_20876\\455068102.py:31: FutureWarning: The default value of regex will change from True to False in a future version.\n",
      "  temp[0] = temp[0].str.replace(\"^\\d+\", '')\n",
      "C:\\Users\\ami\\AppData\\Local\\Temp\\ipykernel_20876\\455068102.py:48: FutureWarning: The frame.append method is deprecated and will be removed from pandas in a future version. Use pandas.concat instead.\n",
      "  result = result.append(temp)\n"
     ]
    },
    {
     "name": "stdout",
     "output_type": "stream",
     "text": [
      "6 완료\n"
     ]
    },
    {
     "name": "stderr",
     "output_type": "stream",
     "text": [
      "C:\\Users\\ami\\AppData\\Local\\Temp\\ipykernel_20876\\455068102.py:10: DeprecationWarning: find_element_by_xpath is deprecated. Please use find_element(by=By.XPATH, value=xpath) instead\n",
      "  html = driver.find_element_by_xpath('//*[@id=\"mytable\"]/tbody').get_attribute(\"innerHTML\") #기록 table을 str형태로 저장\n",
      "C:\\Users\\ami\\AppData\\Local\\Temp\\ipykernel_20876\\455068102.py:31: FutureWarning: The default value of regex will change from True to False in a future version.\n",
      "  temp[0] = temp[0].str.replace(\"^\\d+\", '')\n",
      "C:\\Users\\ami\\AppData\\Local\\Temp\\ipykernel_20876\\455068102.py:48: FutureWarning: The frame.append method is deprecated and will be removed from pandas in a future version. Use pandas.concat instead.\n",
      "  result = result.append(temp)\n"
     ]
    },
    {
     "name": "stdout",
     "output_type": "stream",
     "text": [
      "7 완료\n"
     ]
    },
    {
     "name": "stderr",
     "output_type": "stream",
     "text": [
      "C:\\Users\\ami\\AppData\\Local\\Temp\\ipykernel_20876\\455068102.py:10: DeprecationWarning: find_element_by_xpath is deprecated. Please use find_element(by=By.XPATH, value=xpath) instead\n",
      "  html = driver.find_element_by_xpath('//*[@id=\"mytable\"]/tbody').get_attribute(\"innerHTML\") #기록 table을 str형태로 저장\n",
      "C:\\Users\\ami\\AppData\\Local\\Temp\\ipykernel_20876\\455068102.py:31: FutureWarning: The default value of regex will change from True to False in a future version.\n",
      "  temp[0] = temp[0].str.replace(\"^\\d+\", '')\n",
      "C:\\Users\\ami\\AppData\\Local\\Temp\\ipykernel_20876\\455068102.py:48: FutureWarning: The frame.append method is deprecated and will be removed from pandas in a future version. Use pandas.concat instead.\n",
      "  result = result.append(temp)\n"
     ]
    },
    {
     "name": "stdout",
     "output_type": "stream",
     "text": [
      "8 완료\n"
     ]
    },
    {
     "name": "stderr",
     "output_type": "stream",
     "text": [
      "C:\\Users\\ami\\AppData\\Local\\Temp\\ipykernel_20876\\455068102.py:10: DeprecationWarning: find_element_by_xpath is deprecated. Please use find_element(by=By.XPATH, value=xpath) instead\n",
      "  html = driver.find_element_by_xpath('//*[@id=\"mytable\"]/tbody').get_attribute(\"innerHTML\") #기록 table을 str형태로 저장\n",
      "C:\\Users\\ami\\AppData\\Local\\Temp\\ipykernel_20876\\455068102.py:31: FutureWarning: The default value of regex will change from True to False in a future version.\n",
      "  temp[0] = temp[0].str.replace(\"^\\d+\", '')\n",
      "C:\\Users\\ami\\AppData\\Local\\Temp\\ipykernel_20876\\455068102.py:48: FutureWarning: The frame.append method is deprecated and will be removed from pandas in a future version. Use pandas.concat instead.\n",
      "  result = result.append(temp)\n"
     ]
    },
    {
     "name": "stdout",
     "output_type": "stream",
     "text": [
      "9 완료\n"
     ]
    },
    {
     "name": "stderr",
     "output_type": "stream",
     "text": [
      "C:\\Users\\ami\\AppData\\Local\\Temp\\ipykernel_20876\\455068102.py:10: DeprecationWarning: find_element_by_xpath is deprecated. Please use find_element(by=By.XPATH, value=xpath) instead\n",
      "  html = driver.find_element_by_xpath('//*[@id=\"mytable\"]/tbody').get_attribute(\"innerHTML\") #기록 table을 str형태로 저장\n",
      "C:\\Users\\ami\\AppData\\Local\\Temp\\ipykernel_20876\\455068102.py:31: FutureWarning: The default value of regex will change from True to False in a future version.\n",
      "  temp[0] = temp[0].str.replace(\"^\\d+\", '')\n",
      "C:\\Users\\ami\\AppData\\Local\\Temp\\ipykernel_20876\\455068102.py:48: FutureWarning: The frame.append method is deprecated and will be removed from pandas in a future version. Use pandas.concat instead.\n",
      "  result = result.append(temp)\n"
     ]
    },
    {
     "name": "stdout",
     "output_type": "stream",
     "text": [
      "10 완료\n"
     ]
    },
    {
     "name": "stderr",
     "output_type": "stream",
     "text": [
      "C:\\Users\\ami\\AppData\\Local\\Temp\\ipykernel_20876\\455068102.py:10: DeprecationWarning: find_element_by_xpath is deprecated. Please use find_element(by=By.XPATH, value=xpath) instead\n",
      "  html = driver.find_element_by_xpath('//*[@id=\"mytable\"]/tbody').get_attribute(\"innerHTML\") #기록 table을 str형태로 저장\n",
      "C:\\Users\\ami\\AppData\\Local\\Temp\\ipykernel_20876\\455068102.py:31: FutureWarning: The default value of regex will change from True to False in a future version.\n",
      "  temp[0] = temp[0].str.replace(\"^\\d+\", '')\n",
      "C:\\Users\\ami\\AppData\\Local\\Temp\\ipykernel_20876\\455068102.py:48: FutureWarning: The frame.append method is deprecated and will be removed from pandas in a future version. Use pandas.concat instead.\n",
      "  result = result.append(temp)\n"
     ]
    },
    {
     "name": "stdout",
     "output_type": "stream",
     "text": [
      "11 완료\n"
     ]
    },
    {
     "name": "stderr",
     "output_type": "stream",
     "text": [
      "C:\\Users\\ami\\AppData\\Local\\Temp\\ipykernel_20876\\455068102.py:10: DeprecationWarning: find_element_by_xpath is deprecated. Please use find_element(by=By.XPATH, value=xpath) instead\n",
      "  html = driver.find_element_by_xpath('//*[@id=\"mytable\"]/tbody').get_attribute(\"innerHTML\") #기록 table을 str형태로 저장\n",
      "C:\\Users\\ami\\AppData\\Local\\Temp\\ipykernel_20876\\455068102.py:31: FutureWarning: The default value of regex will change from True to False in a future version.\n",
      "  temp[0] = temp[0].str.replace(\"^\\d+\", '')\n",
      "C:\\Users\\ami\\AppData\\Local\\Temp\\ipykernel_20876\\455068102.py:48: FutureWarning: The frame.append method is deprecated and will be removed from pandas in a future version. Use pandas.concat instead.\n",
      "  result = result.append(temp)\n"
     ]
    },
    {
     "name": "stdout",
     "output_type": "stream",
     "text": [
      "12 완료\n"
     ]
    },
    {
     "name": "stderr",
     "output_type": "stream",
     "text": [
      "C:\\Users\\ami\\AppData\\Local\\Temp\\ipykernel_20876\\455068102.py:10: DeprecationWarning: find_element_by_xpath is deprecated. Please use find_element(by=By.XPATH, value=xpath) instead\n",
      "  html = driver.find_element_by_xpath('//*[@id=\"mytable\"]/tbody').get_attribute(\"innerHTML\") #기록 table을 str형태로 저장\n",
      "C:\\Users\\ami\\AppData\\Local\\Temp\\ipykernel_20876\\455068102.py:31: FutureWarning: The default value of regex will change from True to False in a future version.\n",
      "  temp[0] = temp[0].str.replace(\"^\\d+\", '')\n",
      "C:\\Users\\ami\\AppData\\Local\\Temp\\ipykernel_20876\\455068102.py:48: FutureWarning: The frame.append method is deprecated and will be removed from pandas in a future version. Use pandas.concat instead.\n",
      "  result = result.append(temp)\n"
     ]
    },
    {
     "name": "stdout",
     "output_type": "stream",
     "text": [
      "13 완료\n"
     ]
    },
    {
     "name": "stderr",
     "output_type": "stream",
     "text": [
      "C:\\Users\\ami\\AppData\\Local\\Temp\\ipykernel_20876\\455068102.py:10: DeprecationWarning: find_element_by_xpath is deprecated. Please use find_element(by=By.XPATH, value=xpath) instead\n",
      "  html = driver.find_element_by_xpath('//*[@id=\"mytable\"]/tbody').get_attribute(\"innerHTML\") #기록 table을 str형태로 저장\n",
      "C:\\Users\\ami\\AppData\\Local\\Temp\\ipykernel_20876\\455068102.py:31: FutureWarning: The default value of regex will change from True to False in a future version.\n",
      "  temp[0] = temp[0].str.replace(\"^\\d+\", '')\n",
      "C:\\Users\\ami\\AppData\\Local\\Temp\\ipykernel_20876\\455068102.py:48: FutureWarning: The frame.append method is deprecated and will be removed from pandas in a future version. Use pandas.concat instead.\n",
      "  result = result.append(temp)\n"
     ]
    },
    {
     "name": "stdout",
     "output_type": "stream",
     "text": [
      "14 완료\n"
     ]
    },
    {
     "name": "stderr",
     "output_type": "stream",
     "text": [
      "C:\\Users\\ami\\AppData\\Local\\Temp\\ipykernel_20876\\455068102.py:10: DeprecationWarning: find_element_by_xpath is deprecated. Please use find_element(by=By.XPATH, value=xpath) instead\n",
      "  html = driver.find_element_by_xpath('//*[@id=\"mytable\"]/tbody').get_attribute(\"innerHTML\") #기록 table을 str형태로 저장\n",
      "C:\\Users\\ami\\AppData\\Local\\Temp\\ipykernel_20876\\455068102.py:31: FutureWarning: The default value of regex will change from True to False in a future version.\n",
      "  temp[0] = temp[0].str.replace(\"^\\d+\", '')\n",
      "C:\\Users\\ami\\AppData\\Local\\Temp\\ipykernel_20876\\455068102.py:48: FutureWarning: The frame.append method is deprecated and will be removed from pandas in a future version. Use pandas.concat instead.\n",
      "  result = result.append(temp)\n"
     ]
    },
    {
     "name": "stdout",
     "output_type": "stream",
     "text": [
      "15 완료\n"
     ]
    },
    {
     "name": "stderr",
     "output_type": "stream",
     "text": [
      "C:\\Users\\ami\\AppData\\Local\\Temp\\ipykernel_20876\\455068102.py:10: DeprecationWarning: find_element_by_xpath is deprecated. Please use find_element(by=By.XPATH, value=xpath) instead\n",
      "  html = driver.find_element_by_xpath('//*[@id=\"mytable\"]/tbody').get_attribute(\"innerHTML\") #기록 table을 str형태로 저장\n",
      "C:\\Users\\ami\\AppData\\Local\\Temp\\ipykernel_20876\\455068102.py:31: FutureWarning: The default value of regex will change from True to False in a future version.\n",
      "  temp[0] = temp[0].str.replace(\"^\\d+\", '')\n",
      "C:\\Users\\ami\\AppData\\Local\\Temp\\ipykernel_20876\\455068102.py:48: FutureWarning: The frame.append method is deprecated and will be removed from pandas in a future version. Use pandas.concat instead.\n",
      "  result = result.append(temp)\n"
     ]
    },
    {
     "name": "stdout",
     "output_type": "stream",
     "text": [
      "16 완료\n"
     ]
    },
    {
     "name": "stderr",
     "output_type": "stream",
     "text": [
      "C:\\Users\\ami\\AppData\\Local\\Temp\\ipykernel_20876\\455068102.py:10: DeprecationWarning: find_element_by_xpath is deprecated. Please use find_element(by=By.XPATH, value=xpath) instead\n",
      "  html = driver.find_element_by_xpath('//*[@id=\"mytable\"]/tbody').get_attribute(\"innerHTML\") #기록 table을 str형태로 저장\n",
      "C:\\Users\\ami\\AppData\\Local\\Temp\\ipykernel_20876\\455068102.py:31: FutureWarning: The default value of regex will change from True to False in a future version.\n",
      "  temp[0] = temp[0].str.replace(\"^\\d+\", '')\n",
      "C:\\Users\\ami\\AppData\\Local\\Temp\\ipykernel_20876\\455068102.py:48: FutureWarning: The frame.append method is deprecated and will be removed from pandas in a future version. Use pandas.concat instead.\n",
      "  result = result.append(temp)\n"
     ]
    },
    {
     "name": "stdout",
     "output_type": "stream",
     "text": [
      "17 완료\n"
     ]
    },
    {
     "name": "stderr",
     "output_type": "stream",
     "text": [
      "C:\\Users\\ami\\AppData\\Local\\Temp\\ipykernel_20876\\455068102.py:10: DeprecationWarning: find_element_by_xpath is deprecated. Please use find_element(by=By.XPATH, value=xpath) instead\n",
      "  html = driver.find_element_by_xpath('//*[@id=\"mytable\"]/tbody').get_attribute(\"innerHTML\") #기록 table을 str형태로 저장\n",
      "C:\\Users\\ami\\AppData\\Local\\Temp\\ipykernel_20876\\455068102.py:31: FutureWarning: The default value of regex will change from True to False in a future version.\n",
      "  temp[0] = temp[0].str.replace(\"^\\d+\", '')\n",
      "C:\\Users\\ami\\AppData\\Local\\Temp\\ipykernel_20876\\455068102.py:48: FutureWarning: The frame.append method is deprecated and will be removed from pandas in a future version. Use pandas.concat instead.\n",
      "  result = result.append(temp)\n"
     ]
    },
    {
     "name": "stdout",
     "output_type": "stream",
     "text": [
      "18 완료\n"
     ]
    },
    {
     "name": "stderr",
     "output_type": "stream",
     "text": [
      "C:\\Users\\ami\\AppData\\Local\\Temp\\ipykernel_20876\\455068102.py:10: DeprecationWarning: find_element_by_xpath is deprecated. Please use find_element(by=By.XPATH, value=xpath) instead\n",
      "  html = driver.find_element_by_xpath('//*[@id=\"mytable\"]/tbody').get_attribute(\"innerHTML\") #기록 table을 str형태로 저장\n",
      "C:\\Users\\ami\\AppData\\Local\\Temp\\ipykernel_20876\\455068102.py:31: FutureWarning: The default value of regex will change from True to False in a future version.\n",
      "  temp[0] = temp[0].str.replace(\"^\\d+\", '')\n",
      "C:\\Users\\ami\\AppData\\Local\\Temp\\ipykernel_20876\\455068102.py:48: FutureWarning: The frame.append method is deprecated and will be removed from pandas in a future version. Use pandas.concat instead.\n",
      "  result = result.append(temp)\n"
     ]
    },
    {
     "name": "stdout",
     "output_type": "stream",
     "text": [
      "19 완료\n"
     ]
    },
    {
     "name": "stderr",
     "output_type": "stream",
     "text": [
      "C:\\Users\\ami\\AppData\\Local\\Temp\\ipykernel_20876\\455068102.py:10: DeprecationWarning: find_element_by_xpath is deprecated. Please use find_element(by=By.XPATH, value=xpath) instead\n",
      "  html = driver.find_element_by_xpath('//*[@id=\"mytable\"]/tbody').get_attribute(\"innerHTML\") #기록 table을 str형태로 저장\n",
      "C:\\Users\\ami\\AppData\\Local\\Temp\\ipykernel_20876\\455068102.py:31: FutureWarning: The default value of regex will change from True to False in a future version.\n",
      "  temp[0] = temp[0].str.replace(\"^\\d+\", '')\n",
      "C:\\Users\\ami\\AppData\\Local\\Temp\\ipykernel_20876\\455068102.py:48: FutureWarning: The frame.append method is deprecated and will be removed from pandas in a future version. Use pandas.concat instead.\n",
      "  result = result.append(temp)\n"
     ]
    },
    {
     "name": "stdout",
     "output_type": "stream",
     "text": [
      "20 완료\n"
     ]
    },
    {
     "name": "stderr",
     "output_type": "stream",
     "text": [
      "C:\\Users\\ami\\AppData\\Local\\Temp\\ipykernel_20876\\455068102.py:10: DeprecationWarning: find_element_by_xpath is deprecated. Please use find_element(by=By.XPATH, value=xpath) instead\n",
      "  html = driver.find_element_by_xpath('//*[@id=\"mytable\"]/tbody').get_attribute(\"innerHTML\") #기록 table을 str형태로 저장\n",
      "C:\\Users\\ami\\AppData\\Local\\Temp\\ipykernel_20876\\455068102.py:31: FutureWarning: The default value of regex will change from True to False in a future version.\n",
      "  temp[0] = temp[0].str.replace(\"^\\d+\", '')\n",
      "C:\\Users\\ami\\AppData\\Local\\Temp\\ipykernel_20876\\455068102.py:48: FutureWarning: The frame.append method is deprecated and will be removed from pandas in a future version. Use pandas.concat instead.\n",
      "  result = result.append(temp)\n"
     ]
    },
    {
     "name": "stdout",
     "output_type": "stream",
     "text": [
      "21 완료\n"
     ]
    },
    {
     "name": "stderr",
     "output_type": "stream",
     "text": [
      "C:\\Users\\ami\\AppData\\Local\\Temp\\ipykernel_20876\\455068102.py:10: DeprecationWarning: find_element_by_xpath is deprecated. Please use find_element(by=By.XPATH, value=xpath) instead\n",
      "  html = driver.find_element_by_xpath('//*[@id=\"mytable\"]/tbody').get_attribute(\"innerHTML\") #기록 table을 str형태로 저장\n",
      "C:\\Users\\ami\\AppData\\Local\\Temp\\ipykernel_20876\\455068102.py:31: FutureWarning: The default value of regex will change from True to False in a future version.\n",
      "  temp[0] = temp[0].str.replace(\"^\\d+\", '')\n",
      "C:\\Users\\ami\\AppData\\Local\\Temp\\ipykernel_20876\\455068102.py:48: FutureWarning: The frame.append method is deprecated and will be removed from pandas in a future version. Use pandas.concat instead.\n",
      "  result = result.append(temp)\n"
     ]
    },
    {
     "name": "stdout",
     "output_type": "stream",
     "text": [
      "22 완료\n"
     ]
    },
    {
     "name": "stderr",
     "output_type": "stream",
     "text": [
      "C:\\Users\\ami\\AppData\\Local\\Temp\\ipykernel_20876\\455068102.py:10: DeprecationWarning: find_element_by_xpath is deprecated. Please use find_element(by=By.XPATH, value=xpath) instead\n",
      "  html = driver.find_element_by_xpath('//*[@id=\"mytable\"]/tbody').get_attribute(\"innerHTML\") #기록 table을 str형태로 저장\n",
      "C:\\Users\\ami\\AppData\\Local\\Temp\\ipykernel_20876\\455068102.py:31: FutureWarning: The default value of regex will change from True to False in a future version.\n",
      "  temp[0] = temp[0].str.replace(\"^\\d+\", '')\n",
      "C:\\Users\\ami\\AppData\\Local\\Temp\\ipykernel_20876\\455068102.py:48: FutureWarning: The frame.append method is deprecated and will be removed from pandas in a future version. Use pandas.concat instead.\n",
      "  result = result.append(temp)\n"
     ]
    },
    {
     "name": "stdout",
     "output_type": "stream",
     "text": [
      "23 완료\n"
     ]
    },
    {
     "name": "stderr",
     "output_type": "stream",
     "text": [
      "C:\\Users\\ami\\AppData\\Local\\Temp\\ipykernel_20876\\455068102.py:10: DeprecationWarning: find_element_by_xpath is deprecated. Please use find_element(by=By.XPATH, value=xpath) instead\n",
      "  html = driver.find_element_by_xpath('//*[@id=\"mytable\"]/tbody').get_attribute(\"innerHTML\") #기록 table을 str형태로 저장\n",
      "C:\\Users\\ami\\AppData\\Local\\Temp\\ipykernel_20876\\455068102.py:31: FutureWarning: The default value of regex will change from True to False in a future version.\n",
      "  temp[0] = temp[0].str.replace(\"^\\d+\", '')\n",
      "C:\\Users\\ami\\AppData\\Local\\Temp\\ipykernel_20876\\455068102.py:48: FutureWarning: The frame.append method is deprecated and will be removed from pandas in a future version. Use pandas.concat instead.\n",
      "  result = result.append(temp)\n"
     ]
    },
    {
     "name": "stdout",
     "output_type": "stream",
     "text": [
      "24 완료\n"
     ]
    },
    {
     "name": "stderr",
     "output_type": "stream",
     "text": [
      "C:\\Users\\ami\\AppData\\Local\\Temp\\ipykernel_20876\\455068102.py:10: DeprecationWarning: find_element_by_xpath is deprecated. Please use find_element(by=By.XPATH, value=xpath) instead\n",
      "  html = driver.find_element_by_xpath('//*[@id=\"mytable\"]/tbody').get_attribute(\"innerHTML\") #기록 table을 str형태로 저장\n",
      "C:\\Users\\ami\\AppData\\Local\\Temp\\ipykernel_20876\\455068102.py:31: FutureWarning: The default value of regex will change from True to False in a future version.\n",
      "  temp[0] = temp[0].str.replace(\"^\\d+\", '')\n",
      "C:\\Users\\ami\\AppData\\Local\\Temp\\ipykernel_20876\\455068102.py:48: FutureWarning: The frame.append method is deprecated and will be removed from pandas in a future version. Use pandas.concat instead.\n",
      "  result = result.append(temp)\n"
     ]
    },
    {
     "name": "stdout",
     "output_type": "stream",
     "text": [
      "25 완료\n"
     ]
    },
    {
     "name": "stderr",
     "output_type": "stream",
     "text": [
      "C:\\Users\\ami\\AppData\\Local\\Temp\\ipykernel_20876\\455068102.py:10: DeprecationWarning: find_element_by_xpath is deprecated. Please use find_element(by=By.XPATH, value=xpath) instead\n",
      "  html = driver.find_element_by_xpath('//*[@id=\"mytable\"]/tbody').get_attribute(\"innerHTML\") #기록 table을 str형태로 저장\n",
      "C:\\Users\\ami\\AppData\\Local\\Temp\\ipykernel_20876\\455068102.py:31: FutureWarning: The default value of regex will change from True to False in a future version.\n",
      "  temp[0] = temp[0].str.replace(\"^\\d+\", '')\n",
      "C:\\Users\\ami\\AppData\\Local\\Temp\\ipykernel_20876\\455068102.py:48: FutureWarning: The frame.append method is deprecated and will be removed from pandas in a future version. Use pandas.concat instead.\n",
      "  result = result.append(temp)\n"
     ]
    },
    {
     "name": "stdout",
     "output_type": "stream",
     "text": [
      "26 완료\n"
     ]
    },
    {
     "name": "stderr",
     "output_type": "stream",
     "text": [
      "C:\\Users\\ami\\AppData\\Local\\Temp\\ipykernel_20876\\455068102.py:10: DeprecationWarning: find_element_by_xpath is deprecated. Please use find_element(by=By.XPATH, value=xpath) instead\n",
      "  html = driver.find_element_by_xpath('//*[@id=\"mytable\"]/tbody').get_attribute(\"innerHTML\") #기록 table을 str형태로 저장\n",
      "C:\\Users\\ami\\AppData\\Local\\Temp\\ipykernel_20876\\455068102.py:31: FutureWarning: The default value of regex will change from True to False in a future version.\n",
      "  temp[0] = temp[0].str.replace(\"^\\d+\", '')\n",
      "C:\\Users\\ami\\AppData\\Local\\Temp\\ipykernel_20876\\455068102.py:48: FutureWarning: The frame.append method is deprecated and will be removed from pandas in a future version. Use pandas.concat instead.\n",
      "  result = result.append(temp)\n"
     ]
    },
    {
     "name": "stdout",
     "output_type": "stream",
     "text": [
      "27 완료\n"
     ]
    },
    {
     "name": "stderr",
     "output_type": "stream",
     "text": [
      "C:\\Users\\ami\\AppData\\Local\\Temp\\ipykernel_20876\\455068102.py:10: DeprecationWarning: find_element_by_xpath is deprecated. Please use find_element(by=By.XPATH, value=xpath) instead\n",
      "  html = driver.find_element_by_xpath('//*[@id=\"mytable\"]/tbody').get_attribute(\"innerHTML\") #기록 table을 str형태로 저장\n",
      "C:\\Users\\ami\\AppData\\Local\\Temp\\ipykernel_20876\\455068102.py:31: FutureWarning: The default value of regex will change from True to False in a future version.\n",
      "  temp[0] = temp[0].str.replace(\"^\\d+\", '')\n",
      "C:\\Users\\ami\\AppData\\Local\\Temp\\ipykernel_20876\\455068102.py:48: FutureWarning: The frame.append method is deprecated and will be removed from pandas in a future version. Use pandas.concat instead.\n",
      "  result = result.append(temp)\n"
     ]
    },
    {
     "name": "stdout",
     "output_type": "stream",
     "text": [
      "28 완료\n"
     ]
    },
    {
     "name": "stderr",
     "output_type": "stream",
     "text": [
      "C:\\Users\\ami\\AppData\\Local\\Temp\\ipykernel_20876\\455068102.py:10: DeprecationWarning: find_element_by_xpath is deprecated. Please use find_element(by=By.XPATH, value=xpath) instead\n",
      "  html = driver.find_element_by_xpath('//*[@id=\"mytable\"]/tbody').get_attribute(\"innerHTML\") #기록 table을 str형태로 저장\n",
      "C:\\Users\\ami\\AppData\\Local\\Temp\\ipykernel_20876\\455068102.py:31: FutureWarning: The default value of regex will change from True to False in a future version.\n",
      "  temp[0] = temp[0].str.replace(\"^\\d+\", '')\n",
      "C:\\Users\\ami\\AppData\\Local\\Temp\\ipykernel_20876\\455068102.py:48: FutureWarning: The frame.append method is deprecated and will be removed from pandas in a future version. Use pandas.concat instead.\n",
      "  result = result.append(temp)\n"
     ]
    },
    {
     "name": "stdout",
     "output_type": "stream",
     "text": [
      "29 완료\n"
     ]
    },
    {
     "name": "stderr",
     "output_type": "stream",
     "text": [
      "C:\\Users\\ami\\AppData\\Local\\Temp\\ipykernel_20876\\455068102.py:10: DeprecationWarning: find_element_by_xpath is deprecated. Please use find_element(by=By.XPATH, value=xpath) instead\n",
      "  html = driver.find_element_by_xpath('//*[@id=\"mytable\"]/tbody').get_attribute(\"innerHTML\") #기록 table을 str형태로 저장\n",
      "C:\\Users\\ami\\AppData\\Local\\Temp\\ipykernel_20876\\455068102.py:31: FutureWarning: The default value of regex will change from True to False in a future version.\n",
      "  temp[0] = temp[0].str.replace(\"^\\d+\", '')\n",
      "C:\\Users\\ami\\AppData\\Local\\Temp\\ipykernel_20876\\455068102.py:48: FutureWarning: The frame.append method is deprecated and will be removed from pandas in a future version. Use pandas.concat instead.\n",
      "  result = result.append(temp)\n"
     ]
    },
    {
     "name": "stdout",
     "output_type": "stream",
     "text": [
      "30 완료\n"
     ]
    },
    {
     "name": "stderr",
     "output_type": "stream",
     "text": [
      "C:\\Users\\ami\\AppData\\Local\\Temp\\ipykernel_20876\\455068102.py:10: DeprecationWarning: find_element_by_xpath is deprecated. Please use find_element(by=By.XPATH, value=xpath) instead\n",
      "  html = driver.find_element_by_xpath('//*[@id=\"mytable\"]/tbody').get_attribute(\"innerHTML\") #기록 table을 str형태로 저장\n",
      "C:\\Users\\ami\\AppData\\Local\\Temp\\ipykernel_20876\\455068102.py:31: FutureWarning: The default value of regex will change from True to False in a future version.\n",
      "  temp[0] = temp[0].str.replace(\"^\\d+\", '')\n",
      "C:\\Users\\ami\\AppData\\Local\\Temp\\ipykernel_20876\\455068102.py:48: FutureWarning: The frame.append method is deprecated and will be removed from pandas in a future version. Use pandas.concat instead.\n",
      "  result = result.append(temp)\n"
     ]
    },
    {
     "name": "stdout",
     "output_type": "stream",
     "text": [
      "31 완료\n"
     ]
    },
    {
     "name": "stderr",
     "output_type": "stream",
     "text": [
      "C:\\Users\\ami\\AppData\\Local\\Temp\\ipykernel_20876\\455068102.py:10: DeprecationWarning: find_element_by_xpath is deprecated. Please use find_element(by=By.XPATH, value=xpath) instead\n",
      "  html = driver.find_element_by_xpath('//*[@id=\"mytable\"]/tbody').get_attribute(\"innerHTML\") #기록 table을 str형태로 저장\n",
      "C:\\Users\\ami\\AppData\\Local\\Temp\\ipykernel_20876\\455068102.py:31: FutureWarning: The default value of regex will change from True to False in a future version.\n",
      "  temp[0] = temp[0].str.replace(\"^\\d+\", '')\n",
      "C:\\Users\\ami\\AppData\\Local\\Temp\\ipykernel_20876\\455068102.py:48: FutureWarning: The frame.append method is deprecated and will be removed from pandas in a future version. Use pandas.concat instead.\n",
      "  result = result.append(temp)\n"
     ]
    },
    {
     "name": "stdout",
     "output_type": "stream",
     "text": [
      "32 완료\n"
     ]
    },
    {
     "name": "stderr",
     "output_type": "stream",
     "text": [
      "C:\\Users\\ami\\AppData\\Local\\Temp\\ipykernel_20876\\455068102.py:10: DeprecationWarning: find_element_by_xpath is deprecated. Please use find_element(by=By.XPATH, value=xpath) instead\n",
      "  html = driver.find_element_by_xpath('//*[@id=\"mytable\"]/tbody').get_attribute(\"innerHTML\") #기록 table을 str형태로 저장\n",
      "C:\\Users\\ami\\AppData\\Local\\Temp\\ipykernel_20876\\455068102.py:31: FutureWarning: The default value of regex will change from True to False in a future version.\n",
      "  temp[0] = temp[0].str.replace(\"^\\d+\", '')\n",
      "C:\\Users\\ami\\AppData\\Local\\Temp\\ipykernel_20876\\455068102.py:48: FutureWarning: The frame.append method is deprecated and will be removed from pandas in a future version. Use pandas.concat instead.\n",
      "  result = result.append(temp)\n"
     ]
    },
    {
     "name": "stdout",
     "output_type": "stream",
     "text": [
      "33 완료\n"
     ]
    },
    {
     "name": "stderr",
     "output_type": "stream",
     "text": [
      "C:\\Users\\ami\\AppData\\Local\\Temp\\ipykernel_20876\\455068102.py:10: DeprecationWarning: find_element_by_xpath is deprecated. Please use find_element(by=By.XPATH, value=xpath) instead\n",
      "  html = driver.find_element_by_xpath('//*[@id=\"mytable\"]/tbody').get_attribute(\"innerHTML\") #기록 table을 str형태로 저장\n",
      "C:\\Users\\ami\\AppData\\Local\\Temp\\ipykernel_20876\\455068102.py:31: FutureWarning: The default value of regex will change from True to False in a future version.\n",
      "  temp[0] = temp[0].str.replace(\"^\\d+\", '')\n",
      "C:\\Users\\ami\\AppData\\Local\\Temp\\ipykernel_20876\\455068102.py:48: FutureWarning: The frame.append method is deprecated and will be removed from pandas in a future version. Use pandas.concat instead.\n",
      "  result = result.append(temp)\n"
     ]
    },
    {
     "name": "stdout",
     "output_type": "stream",
     "text": [
      "34 완료\n"
     ]
    },
    {
     "name": "stderr",
     "output_type": "stream",
     "text": [
      "C:\\Users\\ami\\AppData\\Local\\Temp\\ipykernel_20876\\455068102.py:10: DeprecationWarning: find_element_by_xpath is deprecated. Please use find_element(by=By.XPATH, value=xpath) instead\n",
      "  html = driver.find_element_by_xpath('//*[@id=\"mytable\"]/tbody').get_attribute(\"innerHTML\") #기록 table을 str형태로 저장\n",
      "C:\\Users\\ami\\AppData\\Local\\Temp\\ipykernel_20876\\455068102.py:31: FutureWarning: The default value of regex will change from True to False in a future version.\n",
      "  temp[0] = temp[0].str.replace(\"^\\d+\", '')\n",
      "C:\\Users\\ami\\AppData\\Local\\Temp\\ipykernel_20876\\455068102.py:48: FutureWarning: The frame.append method is deprecated and will be removed from pandas in a future version. Use pandas.concat instead.\n",
      "  result = result.append(temp)\n"
     ]
    },
    {
     "name": "stdout",
     "output_type": "stream",
     "text": [
      "35 완료\n"
     ]
    },
    {
     "name": "stderr",
     "output_type": "stream",
     "text": [
      "C:\\Users\\ami\\AppData\\Local\\Temp\\ipykernel_20876\\455068102.py:10: DeprecationWarning: find_element_by_xpath is deprecated. Please use find_element(by=By.XPATH, value=xpath) instead\n",
      "  html = driver.find_element_by_xpath('//*[@id=\"mytable\"]/tbody').get_attribute(\"innerHTML\") #기록 table을 str형태로 저장\n",
      "C:\\Users\\ami\\AppData\\Local\\Temp\\ipykernel_20876\\455068102.py:31: FutureWarning: The default value of regex will change from True to False in a future version.\n",
      "  temp[0] = temp[0].str.replace(\"^\\d+\", '')\n",
      "C:\\Users\\ami\\AppData\\Local\\Temp\\ipykernel_20876\\455068102.py:48: FutureWarning: The frame.append method is deprecated and will be removed from pandas in a future version. Use pandas.concat instead.\n",
      "  result = result.append(temp)\n"
     ]
    },
    {
     "name": "stdout",
     "output_type": "stream",
     "text": [
      "36 완료\n"
     ]
    },
    {
     "name": "stderr",
     "output_type": "stream",
     "text": [
      "C:\\Users\\ami\\AppData\\Local\\Temp\\ipykernel_20876\\455068102.py:10: DeprecationWarning: find_element_by_xpath is deprecated. Please use find_element(by=By.XPATH, value=xpath) instead\n",
      "  html = driver.find_element_by_xpath('//*[@id=\"mytable\"]/tbody').get_attribute(\"innerHTML\") #기록 table을 str형태로 저장\n",
      "C:\\Users\\ami\\AppData\\Local\\Temp\\ipykernel_20876\\455068102.py:31: FutureWarning: The default value of regex will change from True to False in a future version.\n",
      "  temp[0] = temp[0].str.replace(\"^\\d+\", '')\n",
      "C:\\Users\\ami\\AppData\\Local\\Temp\\ipykernel_20876\\455068102.py:48: FutureWarning: The frame.append method is deprecated and will be removed from pandas in a future version. Use pandas.concat instead.\n",
      "  result = result.append(temp)\n"
     ]
    },
    {
     "name": "stdout",
     "output_type": "stream",
     "text": [
      "37 완료\n"
     ]
    },
    {
     "name": "stderr",
     "output_type": "stream",
     "text": [
      "C:\\Users\\ami\\AppData\\Local\\Temp\\ipykernel_20876\\455068102.py:10: DeprecationWarning: find_element_by_xpath is deprecated. Please use find_element(by=By.XPATH, value=xpath) instead\n",
      "  html = driver.find_element_by_xpath('//*[@id=\"mytable\"]/tbody').get_attribute(\"innerHTML\") #기록 table을 str형태로 저장\n",
      "C:\\Users\\ami\\AppData\\Local\\Temp\\ipykernel_20876\\455068102.py:31: FutureWarning: The default value of regex will change from True to False in a future version.\n",
      "  temp[0] = temp[0].str.replace(\"^\\d+\", '')\n",
      "C:\\Users\\ami\\AppData\\Local\\Temp\\ipykernel_20876\\455068102.py:48: FutureWarning: The frame.append method is deprecated and will be removed from pandas in a future version. Use pandas.concat instead.\n",
      "  result = result.append(temp)\n"
     ]
    },
    {
     "name": "stdout",
     "output_type": "stream",
     "text": [
      "38 완료\n"
     ]
    },
    {
     "name": "stderr",
     "output_type": "stream",
     "text": [
      "C:\\Users\\ami\\AppData\\Local\\Temp\\ipykernel_20876\\455068102.py:10: DeprecationWarning: find_element_by_xpath is deprecated. Please use find_element(by=By.XPATH, value=xpath) instead\n",
      "  html = driver.find_element_by_xpath('//*[@id=\"mytable\"]/tbody').get_attribute(\"innerHTML\") #기록 table을 str형태로 저장\n",
      "C:\\Users\\ami\\AppData\\Local\\Temp\\ipykernel_20876\\455068102.py:31: FutureWarning: The default value of regex will change from True to False in a future version.\n",
      "  temp[0] = temp[0].str.replace(\"^\\d+\", '')\n",
      "C:\\Users\\ami\\AppData\\Local\\Temp\\ipykernel_20876\\455068102.py:48: FutureWarning: The frame.append method is deprecated and will be removed from pandas in a future version. Use pandas.concat instead.\n",
      "  result = result.append(temp)\n"
     ]
    },
    {
     "name": "stdout",
     "output_type": "stream",
     "text": [
      "39 완료\n"
     ]
    },
    {
     "name": "stderr",
     "output_type": "stream",
     "text": [
      "C:\\Users\\ami\\AppData\\Local\\Temp\\ipykernel_20876\\455068102.py:10: DeprecationWarning: find_element_by_xpath is deprecated. Please use find_element(by=By.XPATH, value=xpath) instead\n",
      "  html = driver.find_element_by_xpath('//*[@id=\"mytable\"]/tbody').get_attribute(\"innerHTML\") #기록 table을 str형태로 저장\n",
      "C:\\Users\\ami\\AppData\\Local\\Temp\\ipykernel_20876\\455068102.py:31: FutureWarning: The default value of regex will change from True to False in a future version.\n",
      "  temp[0] = temp[0].str.replace(\"^\\d+\", '')\n",
      "C:\\Users\\ami\\AppData\\Local\\Temp\\ipykernel_20876\\455068102.py:48: FutureWarning: The frame.append method is deprecated and will be removed from pandas in a future version. Use pandas.concat instead.\n",
      "  result = result.append(temp)\n"
     ]
    },
    {
     "name": "stdout",
     "output_type": "stream",
     "text": [
      "40 완료\n"
     ]
    },
    {
     "name": "stderr",
     "output_type": "stream",
     "text": [
      "C:\\Users\\ami\\AppData\\Local\\Temp\\ipykernel_20876\\455068102.py:10: DeprecationWarning: find_element_by_xpath is deprecated. Please use find_element(by=By.XPATH, value=xpath) instead\n",
      "  html = driver.find_element_by_xpath('//*[@id=\"mytable\"]/tbody').get_attribute(\"innerHTML\") #기록 table을 str형태로 저장\n",
      "C:\\Users\\ami\\AppData\\Local\\Temp\\ipykernel_20876\\455068102.py:31: FutureWarning: The default value of regex will change from True to False in a future version.\n",
      "  temp[0] = temp[0].str.replace(\"^\\d+\", '')\n",
      "C:\\Users\\ami\\AppData\\Local\\Temp\\ipykernel_20876\\455068102.py:48: FutureWarning: The frame.append method is deprecated and will be removed from pandas in a future version. Use pandas.concat instead.\n",
      "  result = result.append(temp)\n"
     ]
    },
    {
     "name": "stdout",
     "output_type": "stream",
     "text": [
      "41 완료\n"
     ]
    },
    {
     "name": "stderr",
     "output_type": "stream",
     "text": [
      "C:\\Users\\ami\\AppData\\Local\\Temp\\ipykernel_20876\\455068102.py:10: DeprecationWarning: find_element_by_xpath is deprecated. Please use find_element(by=By.XPATH, value=xpath) instead\n",
      "  html = driver.find_element_by_xpath('//*[@id=\"mytable\"]/tbody').get_attribute(\"innerHTML\") #기록 table을 str형태로 저장\n",
      "C:\\Users\\ami\\AppData\\Local\\Temp\\ipykernel_20876\\455068102.py:31: FutureWarning: The default value of regex will change from True to False in a future version.\n",
      "  temp[0] = temp[0].str.replace(\"^\\d+\", '')\n",
      "C:\\Users\\ami\\AppData\\Local\\Temp\\ipykernel_20876\\455068102.py:48: FutureWarning: The frame.append method is deprecated and will be removed from pandas in a future version. Use pandas.concat instead.\n",
      "  result = result.append(temp)\n"
     ]
    },
    {
     "name": "stdout",
     "output_type": "stream",
     "text": [
      "42 완료\n"
     ]
    },
    {
     "name": "stderr",
     "output_type": "stream",
     "text": [
      "C:\\Users\\ami\\AppData\\Local\\Temp\\ipykernel_20876\\455068102.py:10: DeprecationWarning: find_element_by_xpath is deprecated. Please use find_element(by=By.XPATH, value=xpath) instead\n",
      "  html = driver.find_element_by_xpath('//*[@id=\"mytable\"]/tbody').get_attribute(\"innerHTML\") #기록 table을 str형태로 저장\n",
      "C:\\Users\\ami\\AppData\\Local\\Temp\\ipykernel_20876\\455068102.py:31: FutureWarning: The default value of regex will change from True to False in a future version.\n",
      "  temp[0] = temp[0].str.replace(\"^\\d+\", '')\n",
      "C:\\Users\\ami\\AppData\\Local\\Temp\\ipykernel_20876\\455068102.py:48: FutureWarning: The frame.append method is deprecated and will be removed from pandas in a future version. Use pandas.concat instead.\n",
      "  result = result.append(temp)\n"
     ]
    },
    {
     "name": "stdout",
     "output_type": "stream",
     "text": [
      "43 완료\n"
     ]
    },
    {
     "name": "stderr",
     "output_type": "stream",
     "text": [
      "C:\\Users\\ami\\AppData\\Local\\Temp\\ipykernel_20876\\455068102.py:10: DeprecationWarning: find_element_by_xpath is deprecated. Please use find_element(by=By.XPATH, value=xpath) instead\n",
      "  html = driver.find_element_by_xpath('//*[@id=\"mytable\"]/tbody').get_attribute(\"innerHTML\") #기록 table을 str형태로 저장\n",
      "C:\\Users\\ami\\AppData\\Local\\Temp\\ipykernel_20876\\455068102.py:31: FutureWarning: The default value of regex will change from True to False in a future version.\n",
      "  temp[0] = temp[0].str.replace(\"^\\d+\", '')\n",
      "C:\\Users\\ami\\AppData\\Local\\Temp\\ipykernel_20876\\455068102.py:48: FutureWarning: The frame.append method is deprecated and will be removed from pandas in a future version. Use pandas.concat instead.\n",
      "  result = result.append(temp)\n"
     ]
    },
    {
     "name": "stdout",
     "output_type": "stream",
     "text": [
      "44 완료\n"
     ]
    },
    {
     "name": "stderr",
     "output_type": "stream",
     "text": [
      "C:\\Users\\ami\\AppData\\Local\\Temp\\ipykernel_20876\\455068102.py:10: DeprecationWarning: find_element_by_xpath is deprecated. Please use find_element(by=By.XPATH, value=xpath) instead\n",
      "  html = driver.find_element_by_xpath('//*[@id=\"mytable\"]/tbody').get_attribute(\"innerHTML\") #기록 table을 str형태로 저장\n",
      "C:\\Users\\ami\\AppData\\Local\\Temp\\ipykernel_20876\\455068102.py:31: FutureWarning: The default value of regex will change from True to False in a future version.\n",
      "  temp[0] = temp[0].str.replace(\"^\\d+\", '')\n",
      "C:\\Users\\ami\\AppData\\Local\\Temp\\ipykernel_20876\\455068102.py:48: FutureWarning: The frame.append method is deprecated and will be removed from pandas in a future version. Use pandas.concat instead.\n",
      "  result = result.append(temp)\n"
     ]
    },
    {
     "name": "stdout",
     "output_type": "stream",
     "text": [
      "45 완료\n"
     ]
    },
    {
     "name": "stderr",
     "output_type": "stream",
     "text": [
      "C:\\Users\\ami\\AppData\\Local\\Temp\\ipykernel_20876\\455068102.py:10: DeprecationWarning: find_element_by_xpath is deprecated. Please use find_element(by=By.XPATH, value=xpath) instead\n",
      "  html = driver.find_element_by_xpath('//*[@id=\"mytable\"]/tbody').get_attribute(\"innerHTML\") #기록 table을 str형태로 저장\n",
      "C:\\Users\\ami\\AppData\\Local\\Temp\\ipykernel_20876\\455068102.py:31: FutureWarning: The default value of regex will change from True to False in a future version.\n",
      "  temp[0] = temp[0].str.replace(\"^\\d+\", '')\n",
      "C:\\Users\\ami\\AppData\\Local\\Temp\\ipykernel_20876\\455068102.py:48: FutureWarning: The frame.append method is deprecated and will be removed from pandas in a future version. Use pandas.concat instead.\n",
      "  result = result.append(temp)\n"
     ]
    },
    {
     "name": "stdout",
     "output_type": "stream",
     "text": [
      "46 완료\n"
     ]
    },
    {
     "name": "stderr",
     "output_type": "stream",
     "text": [
      "C:\\Users\\ami\\AppData\\Local\\Temp\\ipykernel_20876\\455068102.py:10: DeprecationWarning: find_element_by_xpath is deprecated. Please use find_element(by=By.XPATH, value=xpath) instead\n",
      "  html = driver.find_element_by_xpath('//*[@id=\"mytable\"]/tbody').get_attribute(\"innerHTML\") #기록 table을 str형태로 저장\n",
      "C:\\Users\\ami\\AppData\\Local\\Temp\\ipykernel_20876\\455068102.py:31: FutureWarning: The default value of regex will change from True to False in a future version.\n",
      "  temp[0] = temp[0].str.replace(\"^\\d+\", '')\n",
      "C:\\Users\\ami\\AppData\\Local\\Temp\\ipykernel_20876\\455068102.py:48: FutureWarning: The frame.append method is deprecated and will be removed from pandas in a future version. Use pandas.concat instead.\n",
      "  result = result.append(temp)\n"
     ]
    },
    {
     "name": "stdout",
     "output_type": "stream",
     "text": [
      "47 완료\n"
     ]
    },
    {
     "name": "stderr",
     "output_type": "stream",
     "text": [
      "C:\\Users\\ami\\AppData\\Local\\Temp\\ipykernel_20876\\455068102.py:10: DeprecationWarning: find_element_by_xpath is deprecated. Please use find_element(by=By.XPATH, value=xpath) instead\n",
      "  html = driver.find_element_by_xpath('//*[@id=\"mytable\"]/tbody').get_attribute(\"innerHTML\") #기록 table을 str형태로 저장\n",
      "C:\\Users\\ami\\AppData\\Local\\Temp\\ipykernel_20876\\455068102.py:31: FutureWarning: The default value of regex will change from True to False in a future version.\n",
      "  temp[0] = temp[0].str.replace(\"^\\d+\", '')\n",
      "C:\\Users\\ami\\AppData\\Local\\Temp\\ipykernel_20876\\455068102.py:48: FutureWarning: The frame.append method is deprecated and will be removed from pandas in a future version. Use pandas.concat instead.\n",
      "  result = result.append(temp)\n"
     ]
    },
    {
     "name": "stdout",
     "output_type": "stream",
     "text": [
      "48 완료\n"
     ]
    },
    {
     "name": "stderr",
     "output_type": "stream",
     "text": [
      "C:\\Users\\ami\\AppData\\Local\\Temp\\ipykernel_20876\\455068102.py:10: DeprecationWarning: find_element_by_xpath is deprecated. Please use find_element(by=By.XPATH, value=xpath) instead\n",
      "  html = driver.find_element_by_xpath('//*[@id=\"mytable\"]/tbody').get_attribute(\"innerHTML\") #기록 table을 str형태로 저장\n",
      "C:\\Users\\ami\\AppData\\Local\\Temp\\ipykernel_20876\\455068102.py:31: FutureWarning: The default value of regex will change from True to False in a future version.\n",
      "  temp[0] = temp[0].str.replace(\"^\\d+\", '')\n",
      "C:\\Users\\ami\\AppData\\Local\\Temp\\ipykernel_20876\\455068102.py:48: FutureWarning: The frame.append method is deprecated and will be removed from pandas in a future version. Use pandas.concat instead.\n",
      "  result = result.append(temp)\n"
     ]
    },
    {
     "name": "stdout",
     "output_type": "stream",
     "text": [
      "49 완료\n"
     ]
    },
    {
     "name": "stderr",
     "output_type": "stream",
     "text": [
      "C:\\Users\\ami\\AppData\\Local\\Temp\\ipykernel_20876\\455068102.py:10: DeprecationWarning: find_element_by_xpath is deprecated. Please use find_element(by=By.XPATH, value=xpath) instead\n",
      "  html = driver.find_element_by_xpath('//*[@id=\"mytable\"]/tbody').get_attribute(\"innerHTML\") #기록 table을 str형태로 저장\n",
      "C:\\Users\\ami\\AppData\\Local\\Temp\\ipykernel_20876\\455068102.py:31: FutureWarning: The default value of regex will change from True to False in a future version.\n",
      "  temp[0] = temp[0].str.replace(\"^\\d+\", '')\n",
      "C:\\Users\\ami\\AppData\\Local\\Temp\\ipykernel_20876\\455068102.py:48: FutureWarning: The frame.append method is deprecated and will be removed from pandas in a future version. Use pandas.concat instead.\n",
      "  result = result.append(temp)\n"
     ]
    },
    {
     "name": "stdout",
     "output_type": "stream",
     "text": [
      "50 완료\n"
     ]
    },
    {
     "name": "stderr",
     "output_type": "stream",
     "text": [
      "C:\\Users\\ami\\AppData\\Local\\Temp\\ipykernel_20876\\455068102.py:10: DeprecationWarning: find_element_by_xpath is deprecated. Please use find_element(by=By.XPATH, value=xpath) instead\n",
      "  html = driver.find_element_by_xpath('//*[@id=\"mytable\"]/tbody').get_attribute(\"innerHTML\") #기록 table을 str형태로 저장\n",
      "C:\\Users\\ami\\AppData\\Local\\Temp\\ipykernel_20876\\455068102.py:31: FutureWarning: The default value of regex will change from True to False in a future version.\n",
      "  temp[0] = temp[0].str.replace(\"^\\d+\", '')\n",
      "C:\\Users\\ami\\AppData\\Local\\Temp\\ipykernel_20876\\455068102.py:48: FutureWarning: The frame.append method is deprecated and will be removed from pandas in a future version. Use pandas.concat instead.\n",
      "  result = result.append(temp)\n"
     ]
    },
    {
     "name": "stdout",
     "output_type": "stream",
     "text": [
      "51 완료\n"
     ]
    },
    {
     "name": "stderr",
     "output_type": "stream",
     "text": [
      "C:\\Users\\ami\\AppData\\Local\\Temp\\ipykernel_20876\\455068102.py:10: DeprecationWarning: find_element_by_xpath is deprecated. Please use find_element(by=By.XPATH, value=xpath) instead\n",
      "  html = driver.find_element_by_xpath('//*[@id=\"mytable\"]/tbody').get_attribute(\"innerHTML\") #기록 table을 str형태로 저장\n",
      "C:\\Users\\ami\\AppData\\Local\\Temp\\ipykernel_20876\\455068102.py:31: FutureWarning: The default value of regex will change from True to False in a future version.\n",
      "  temp[0] = temp[0].str.replace(\"^\\d+\", '')\n",
      "C:\\Users\\ami\\AppData\\Local\\Temp\\ipykernel_20876\\455068102.py:48: FutureWarning: The frame.append method is deprecated and will be removed from pandas in a future version. Use pandas.concat instead.\n",
      "  result = result.append(temp)\n"
     ]
    },
    {
     "name": "stdout",
     "output_type": "stream",
     "text": [
      "52 완료\n"
     ]
    },
    {
     "name": "stderr",
     "output_type": "stream",
     "text": [
      "C:\\Users\\ami\\AppData\\Local\\Temp\\ipykernel_20876\\455068102.py:10: DeprecationWarning: find_element_by_xpath is deprecated. Please use find_element(by=By.XPATH, value=xpath) instead\n",
      "  html = driver.find_element_by_xpath('//*[@id=\"mytable\"]/tbody').get_attribute(\"innerHTML\") #기록 table을 str형태로 저장\n",
      "C:\\Users\\ami\\AppData\\Local\\Temp\\ipykernel_20876\\455068102.py:31: FutureWarning: The default value of regex will change from True to False in a future version.\n",
      "  temp[0] = temp[0].str.replace(\"^\\d+\", '')\n",
      "C:\\Users\\ami\\AppData\\Local\\Temp\\ipykernel_20876\\455068102.py:48: FutureWarning: The frame.append method is deprecated and will be removed from pandas in a future version. Use pandas.concat instead.\n",
      "  result = result.append(temp)\n"
     ]
    },
    {
     "name": "stdout",
     "output_type": "stream",
     "text": [
      "53 완료\n"
     ]
    },
    {
     "name": "stderr",
     "output_type": "stream",
     "text": [
      "C:\\Users\\ami\\AppData\\Local\\Temp\\ipykernel_20876\\455068102.py:10: DeprecationWarning: find_element_by_xpath is deprecated. Please use find_element(by=By.XPATH, value=xpath) instead\n",
      "  html = driver.find_element_by_xpath('//*[@id=\"mytable\"]/tbody').get_attribute(\"innerHTML\") #기록 table을 str형태로 저장\n",
      "C:\\Users\\ami\\AppData\\Local\\Temp\\ipykernel_20876\\455068102.py:31: FutureWarning: The default value of regex will change from True to False in a future version.\n",
      "  temp[0] = temp[0].str.replace(\"^\\d+\", '')\n",
      "C:\\Users\\ami\\AppData\\Local\\Temp\\ipykernel_20876\\455068102.py:48: FutureWarning: The frame.append method is deprecated and will be removed from pandas in a future version. Use pandas.concat instead.\n",
      "  result = result.append(temp)\n"
     ]
    },
    {
     "name": "stdout",
     "output_type": "stream",
     "text": [
      "54 완료\n"
     ]
    },
    {
     "name": "stderr",
     "output_type": "stream",
     "text": [
      "C:\\Users\\ami\\AppData\\Local\\Temp\\ipykernel_20876\\455068102.py:10: DeprecationWarning: find_element_by_xpath is deprecated. Please use find_element(by=By.XPATH, value=xpath) instead\n",
      "  html = driver.find_element_by_xpath('//*[@id=\"mytable\"]/tbody').get_attribute(\"innerHTML\") #기록 table을 str형태로 저장\n",
      "C:\\Users\\ami\\AppData\\Local\\Temp\\ipykernel_20876\\455068102.py:31: FutureWarning: The default value of regex will change from True to False in a future version.\n",
      "  temp[0] = temp[0].str.replace(\"^\\d+\", '')\n",
      "C:\\Users\\ami\\AppData\\Local\\Temp\\ipykernel_20876\\455068102.py:48: FutureWarning: The frame.append method is deprecated and will be removed from pandas in a future version. Use pandas.concat instead.\n",
      "  result = result.append(temp)\n"
     ]
    },
    {
     "name": "stdout",
     "output_type": "stream",
     "text": [
      "55 완료\n"
     ]
    },
    {
     "name": "stderr",
     "output_type": "stream",
     "text": [
      "C:\\Users\\ami\\AppData\\Local\\Temp\\ipykernel_20876\\455068102.py:10: DeprecationWarning: find_element_by_xpath is deprecated. Please use find_element(by=By.XPATH, value=xpath) instead\n",
      "  html = driver.find_element_by_xpath('//*[@id=\"mytable\"]/tbody').get_attribute(\"innerHTML\") #기록 table을 str형태로 저장\n",
      "C:\\Users\\ami\\AppData\\Local\\Temp\\ipykernel_20876\\455068102.py:31: FutureWarning: The default value of regex will change from True to False in a future version.\n",
      "  temp[0] = temp[0].str.replace(\"^\\d+\", '')\n",
      "C:\\Users\\ami\\AppData\\Local\\Temp\\ipykernel_20876\\455068102.py:48: FutureWarning: The frame.append method is deprecated and will be removed from pandas in a future version. Use pandas.concat instead.\n",
      "  result = result.append(temp)\n"
     ]
    },
    {
     "name": "stdout",
     "output_type": "stream",
     "text": [
      "56 완료\n"
     ]
    },
    {
     "name": "stderr",
     "output_type": "stream",
     "text": [
      "C:\\Users\\ami\\AppData\\Local\\Temp\\ipykernel_20876\\455068102.py:10: DeprecationWarning: find_element_by_xpath is deprecated. Please use find_element(by=By.XPATH, value=xpath) instead\n",
      "  html = driver.find_element_by_xpath('//*[@id=\"mytable\"]/tbody').get_attribute(\"innerHTML\") #기록 table을 str형태로 저장\n",
      "C:\\Users\\ami\\AppData\\Local\\Temp\\ipykernel_20876\\455068102.py:31: FutureWarning: The default value of regex will change from True to False in a future version.\n",
      "  temp[0] = temp[0].str.replace(\"^\\d+\", '')\n",
      "C:\\Users\\ami\\AppData\\Local\\Temp\\ipykernel_20876\\455068102.py:48: FutureWarning: The frame.append method is deprecated and will be removed from pandas in a future version. Use pandas.concat instead.\n",
      "  result = result.append(temp)\n"
     ]
    },
    {
     "name": "stdout",
     "output_type": "stream",
     "text": [
      "57 완료\n"
     ]
    },
    {
     "name": "stderr",
     "output_type": "stream",
     "text": [
      "C:\\Users\\ami\\AppData\\Local\\Temp\\ipykernel_20876\\455068102.py:10: DeprecationWarning: find_element_by_xpath is deprecated. Please use find_element(by=By.XPATH, value=xpath) instead\n",
      "  html = driver.find_element_by_xpath('//*[@id=\"mytable\"]/tbody').get_attribute(\"innerHTML\") #기록 table을 str형태로 저장\n",
      "C:\\Users\\ami\\AppData\\Local\\Temp\\ipykernel_20876\\455068102.py:31: FutureWarning: The default value of regex will change from True to False in a future version.\n",
      "  temp[0] = temp[0].str.replace(\"^\\d+\", '')\n",
      "C:\\Users\\ami\\AppData\\Local\\Temp\\ipykernel_20876\\455068102.py:48: FutureWarning: The frame.append method is deprecated and will be removed from pandas in a future version. Use pandas.concat instead.\n",
      "  result = result.append(temp)\n"
     ]
    },
    {
     "name": "stdout",
     "output_type": "stream",
     "text": [
      "58 완료\n"
     ]
    },
    {
     "name": "stderr",
     "output_type": "stream",
     "text": [
      "C:\\Users\\ami\\AppData\\Local\\Temp\\ipykernel_20876\\455068102.py:10: DeprecationWarning: find_element_by_xpath is deprecated. Please use find_element(by=By.XPATH, value=xpath) instead\n",
      "  html = driver.find_element_by_xpath('//*[@id=\"mytable\"]/tbody').get_attribute(\"innerHTML\") #기록 table을 str형태로 저장\n",
      "C:\\Users\\ami\\AppData\\Local\\Temp\\ipykernel_20876\\455068102.py:31: FutureWarning: The default value of regex will change from True to False in a future version.\n",
      "  temp[0] = temp[0].str.replace(\"^\\d+\", '')\n",
      "C:\\Users\\ami\\AppData\\Local\\Temp\\ipykernel_20876\\455068102.py:48: FutureWarning: The frame.append method is deprecated and will be removed from pandas in a future version. Use pandas.concat instead.\n",
      "  result = result.append(temp)\n"
     ]
    },
    {
     "name": "stdout",
     "output_type": "stream",
     "text": [
      "59 완료\n"
     ]
    },
    {
     "name": "stderr",
     "output_type": "stream",
     "text": [
      "C:\\Users\\ami\\AppData\\Local\\Temp\\ipykernel_20876\\455068102.py:10: DeprecationWarning: find_element_by_xpath is deprecated. Please use find_element(by=By.XPATH, value=xpath) instead\n",
      "  html = driver.find_element_by_xpath('//*[@id=\"mytable\"]/tbody').get_attribute(\"innerHTML\") #기록 table을 str형태로 저장\n",
      "C:\\Users\\ami\\AppData\\Local\\Temp\\ipykernel_20876\\455068102.py:31: FutureWarning: The default value of regex will change from True to False in a future version.\n",
      "  temp[0] = temp[0].str.replace(\"^\\d+\", '')\n",
      "C:\\Users\\ami\\AppData\\Local\\Temp\\ipykernel_20876\\455068102.py:48: FutureWarning: The frame.append method is deprecated and will be removed from pandas in a future version. Use pandas.concat instead.\n",
      "  result = result.append(temp)\n"
     ]
    },
    {
     "name": "stdout",
     "output_type": "stream",
     "text": [
      "60 완료\n"
     ]
    },
    {
     "name": "stderr",
     "output_type": "stream",
     "text": [
      "C:\\Users\\ami\\AppData\\Local\\Temp\\ipykernel_20876\\455068102.py:10: DeprecationWarning: find_element_by_xpath is deprecated. Please use find_element(by=By.XPATH, value=xpath) instead\n",
      "  html = driver.find_element_by_xpath('//*[@id=\"mytable\"]/tbody').get_attribute(\"innerHTML\") #기록 table을 str형태로 저장\n",
      "C:\\Users\\ami\\AppData\\Local\\Temp\\ipykernel_20876\\455068102.py:31: FutureWarning: The default value of regex will change from True to False in a future version.\n",
      "  temp[0] = temp[0].str.replace(\"^\\d+\", '')\n",
      "C:\\Users\\ami\\AppData\\Local\\Temp\\ipykernel_20876\\455068102.py:48: FutureWarning: The frame.append method is deprecated and will be removed from pandas in a future version. Use pandas.concat instead.\n",
      "  result = result.append(temp)\n"
     ]
    },
    {
     "name": "stdout",
     "output_type": "stream",
     "text": [
      "61 완료\n"
     ]
    },
    {
     "name": "stderr",
     "output_type": "stream",
     "text": [
      "C:\\Users\\ami\\AppData\\Local\\Temp\\ipykernel_20876\\455068102.py:10: DeprecationWarning: find_element_by_xpath is deprecated. Please use find_element(by=By.XPATH, value=xpath) instead\n",
      "  html = driver.find_element_by_xpath('//*[@id=\"mytable\"]/tbody').get_attribute(\"innerHTML\") #기록 table을 str형태로 저장\n",
      "C:\\Users\\ami\\AppData\\Local\\Temp\\ipykernel_20876\\455068102.py:31: FutureWarning: The default value of regex will change from True to False in a future version.\n",
      "  temp[0] = temp[0].str.replace(\"^\\d+\", '')\n",
      "C:\\Users\\ami\\AppData\\Local\\Temp\\ipykernel_20876\\455068102.py:48: FutureWarning: The frame.append method is deprecated and will be removed from pandas in a future version. Use pandas.concat instead.\n",
      "  result = result.append(temp)\n"
     ]
    },
    {
     "name": "stdout",
     "output_type": "stream",
     "text": [
      "62 완료\n"
     ]
    },
    {
     "name": "stderr",
     "output_type": "stream",
     "text": [
      "C:\\Users\\ami\\AppData\\Local\\Temp\\ipykernel_20876\\455068102.py:10: DeprecationWarning: find_element_by_xpath is deprecated. Please use find_element(by=By.XPATH, value=xpath) instead\n",
      "  html = driver.find_element_by_xpath('//*[@id=\"mytable\"]/tbody').get_attribute(\"innerHTML\") #기록 table을 str형태로 저장\n",
      "C:\\Users\\ami\\AppData\\Local\\Temp\\ipykernel_20876\\455068102.py:31: FutureWarning: The default value of regex will change from True to False in a future version.\n",
      "  temp[0] = temp[0].str.replace(\"^\\d+\", '')\n",
      "C:\\Users\\ami\\AppData\\Local\\Temp\\ipykernel_20876\\455068102.py:48: FutureWarning: The frame.append method is deprecated and will be removed from pandas in a future version. Use pandas.concat instead.\n",
      "  result = result.append(temp)\n"
     ]
    },
    {
     "name": "stdout",
     "output_type": "stream",
     "text": [
      "63 완료\n"
     ]
    },
    {
     "name": "stderr",
     "output_type": "stream",
     "text": [
      "C:\\Users\\ami\\AppData\\Local\\Temp\\ipykernel_20876\\455068102.py:10: DeprecationWarning: find_element_by_xpath is deprecated. Please use find_element(by=By.XPATH, value=xpath) instead\n",
      "  html = driver.find_element_by_xpath('//*[@id=\"mytable\"]/tbody').get_attribute(\"innerHTML\") #기록 table을 str형태로 저장\n",
      "C:\\Users\\ami\\AppData\\Local\\Temp\\ipykernel_20876\\455068102.py:31: FutureWarning: The default value of regex will change from True to False in a future version.\n",
      "  temp[0] = temp[0].str.replace(\"^\\d+\", '')\n",
      "C:\\Users\\ami\\AppData\\Local\\Temp\\ipykernel_20876\\455068102.py:48: FutureWarning: The frame.append method is deprecated and will be removed from pandas in a future version. Use pandas.concat instead.\n",
      "  result = result.append(temp)\n"
     ]
    },
    {
     "name": "stdout",
     "output_type": "stream",
     "text": [
      "64 완료\n"
     ]
    },
    {
     "name": "stderr",
     "output_type": "stream",
     "text": [
      "C:\\Users\\ami\\AppData\\Local\\Temp\\ipykernel_20876\\455068102.py:10: DeprecationWarning: find_element_by_xpath is deprecated. Please use find_element(by=By.XPATH, value=xpath) instead\n",
      "  html = driver.find_element_by_xpath('//*[@id=\"mytable\"]/tbody').get_attribute(\"innerHTML\") #기록 table을 str형태로 저장\n",
      "C:\\Users\\ami\\AppData\\Local\\Temp\\ipykernel_20876\\455068102.py:31: FutureWarning: The default value of regex will change from True to False in a future version.\n",
      "  temp[0] = temp[0].str.replace(\"^\\d+\", '')\n",
      "C:\\Users\\ami\\AppData\\Local\\Temp\\ipykernel_20876\\455068102.py:48: FutureWarning: The frame.append method is deprecated and will be removed from pandas in a future version. Use pandas.concat instead.\n",
      "  result = result.append(temp)\n"
     ]
    },
    {
     "name": "stdout",
     "output_type": "stream",
     "text": [
      "65 완료\n"
     ]
    },
    {
     "name": "stderr",
     "output_type": "stream",
     "text": [
      "C:\\Users\\ami\\AppData\\Local\\Temp\\ipykernel_20876\\455068102.py:10: DeprecationWarning: find_element_by_xpath is deprecated. Please use find_element(by=By.XPATH, value=xpath) instead\n",
      "  html = driver.find_element_by_xpath('//*[@id=\"mytable\"]/tbody').get_attribute(\"innerHTML\") #기록 table을 str형태로 저장\n",
      "C:\\Users\\ami\\AppData\\Local\\Temp\\ipykernel_20876\\455068102.py:31: FutureWarning: The default value of regex will change from True to False in a future version.\n",
      "  temp[0] = temp[0].str.replace(\"^\\d+\", '')\n",
      "C:\\Users\\ami\\AppData\\Local\\Temp\\ipykernel_20876\\455068102.py:48: FutureWarning: The frame.append method is deprecated and will be removed from pandas in a future version. Use pandas.concat instead.\n",
      "  result = result.append(temp)\n"
     ]
    },
    {
     "name": "stdout",
     "output_type": "stream",
     "text": [
      "66 완료\n"
     ]
    },
    {
     "name": "stderr",
     "output_type": "stream",
     "text": [
      "C:\\Users\\ami\\AppData\\Local\\Temp\\ipykernel_20876\\455068102.py:10: DeprecationWarning: find_element_by_xpath is deprecated. Please use find_element(by=By.XPATH, value=xpath) instead\n",
      "  html = driver.find_element_by_xpath('//*[@id=\"mytable\"]/tbody').get_attribute(\"innerHTML\") #기록 table을 str형태로 저장\n",
      "C:\\Users\\ami\\AppData\\Local\\Temp\\ipykernel_20876\\455068102.py:31: FutureWarning: The default value of regex will change from True to False in a future version.\n",
      "  temp[0] = temp[0].str.replace(\"^\\d+\", '')\n",
      "C:\\Users\\ami\\AppData\\Local\\Temp\\ipykernel_20876\\455068102.py:48: FutureWarning: The frame.append method is deprecated and will be removed from pandas in a future version. Use pandas.concat instead.\n",
      "  result = result.append(temp)\n"
     ]
    },
    {
     "name": "stdout",
     "output_type": "stream",
     "text": [
      "67 완료\n"
     ]
    },
    {
     "name": "stderr",
     "output_type": "stream",
     "text": [
      "C:\\Users\\ami\\AppData\\Local\\Temp\\ipykernel_20876\\455068102.py:10: DeprecationWarning: find_element_by_xpath is deprecated. Please use find_element(by=By.XPATH, value=xpath) instead\n",
      "  html = driver.find_element_by_xpath('//*[@id=\"mytable\"]/tbody').get_attribute(\"innerHTML\") #기록 table을 str형태로 저장\n",
      "C:\\Users\\ami\\AppData\\Local\\Temp\\ipykernel_20876\\455068102.py:31: FutureWarning: The default value of regex will change from True to False in a future version.\n",
      "  temp[0] = temp[0].str.replace(\"^\\d+\", '')\n",
      "C:\\Users\\ami\\AppData\\Local\\Temp\\ipykernel_20876\\455068102.py:48: FutureWarning: The frame.append method is deprecated and will be removed from pandas in a future version. Use pandas.concat instead.\n",
      "  result = result.append(temp)\n"
     ]
    },
    {
     "name": "stdout",
     "output_type": "stream",
     "text": [
      "68 완료\n"
     ]
    },
    {
     "name": "stderr",
     "output_type": "stream",
     "text": [
      "C:\\Users\\ami\\AppData\\Local\\Temp\\ipykernel_20876\\455068102.py:10: DeprecationWarning: find_element_by_xpath is deprecated. Please use find_element(by=By.XPATH, value=xpath) instead\n",
      "  html = driver.find_element_by_xpath('//*[@id=\"mytable\"]/tbody').get_attribute(\"innerHTML\") #기록 table을 str형태로 저장\n",
      "C:\\Users\\ami\\AppData\\Local\\Temp\\ipykernel_20876\\455068102.py:31: FutureWarning: The default value of regex will change from True to False in a future version.\n",
      "  temp[0] = temp[0].str.replace(\"^\\d+\", '')\n",
      "C:\\Users\\ami\\AppData\\Local\\Temp\\ipykernel_20876\\455068102.py:48: FutureWarning: The frame.append method is deprecated and will be removed from pandas in a future version. Use pandas.concat instead.\n",
      "  result = result.append(temp)\n"
     ]
    },
    {
     "name": "stdout",
     "output_type": "stream",
     "text": [
      "69 완료\n"
     ]
    },
    {
     "name": "stderr",
     "output_type": "stream",
     "text": [
      "C:\\Users\\ami\\AppData\\Local\\Temp\\ipykernel_20876\\455068102.py:10: DeprecationWarning: find_element_by_xpath is deprecated. Please use find_element(by=By.XPATH, value=xpath) instead\n",
      "  html = driver.find_element_by_xpath('//*[@id=\"mytable\"]/tbody').get_attribute(\"innerHTML\") #기록 table을 str형태로 저장\n",
      "C:\\Users\\ami\\AppData\\Local\\Temp\\ipykernel_20876\\455068102.py:31: FutureWarning: The default value of regex will change from True to False in a future version.\n",
      "  temp[0] = temp[0].str.replace(\"^\\d+\", '')\n",
      "C:\\Users\\ami\\AppData\\Local\\Temp\\ipykernel_20876\\455068102.py:48: FutureWarning: The frame.append method is deprecated and will be removed from pandas in a future version. Use pandas.concat instead.\n",
      "  result = result.append(temp)\n"
     ]
    },
    {
     "name": "stdout",
     "output_type": "stream",
     "text": [
      "70 완료\n"
     ]
    },
    {
     "name": "stderr",
     "output_type": "stream",
     "text": [
      "C:\\Users\\ami\\AppData\\Local\\Temp\\ipykernel_20876\\455068102.py:10: DeprecationWarning: find_element_by_xpath is deprecated. Please use find_element(by=By.XPATH, value=xpath) instead\n",
      "  html = driver.find_element_by_xpath('//*[@id=\"mytable\"]/tbody').get_attribute(\"innerHTML\") #기록 table을 str형태로 저장\n",
      "C:\\Users\\ami\\AppData\\Local\\Temp\\ipykernel_20876\\455068102.py:31: FutureWarning: The default value of regex will change from True to False in a future version.\n",
      "  temp[0] = temp[0].str.replace(\"^\\d+\", '')\n",
      "C:\\Users\\ami\\AppData\\Local\\Temp\\ipykernel_20876\\455068102.py:48: FutureWarning: The frame.append method is deprecated and will be removed from pandas in a future version. Use pandas.concat instead.\n",
      "  result = result.append(temp)\n"
     ]
    },
    {
     "name": "stdout",
     "output_type": "stream",
     "text": [
      "71 완료\n"
     ]
    },
    {
     "name": "stderr",
     "output_type": "stream",
     "text": [
      "C:\\Users\\ami\\AppData\\Local\\Temp\\ipykernel_20876\\455068102.py:10: DeprecationWarning: find_element_by_xpath is deprecated. Please use find_element(by=By.XPATH, value=xpath) instead\n",
      "  html = driver.find_element_by_xpath('//*[@id=\"mytable\"]/tbody').get_attribute(\"innerHTML\") #기록 table을 str형태로 저장\n",
      "C:\\Users\\ami\\AppData\\Local\\Temp\\ipykernel_20876\\455068102.py:31: FutureWarning: The default value of regex will change from True to False in a future version.\n",
      "  temp[0] = temp[0].str.replace(\"^\\d+\", '')\n",
      "C:\\Users\\ami\\AppData\\Local\\Temp\\ipykernel_20876\\455068102.py:48: FutureWarning: The frame.append method is deprecated and will be removed from pandas in a future version. Use pandas.concat instead.\n",
      "  result = result.append(temp)\n"
     ]
    },
    {
     "name": "stdout",
     "output_type": "stream",
     "text": [
      "72 완료\n"
     ]
    },
    {
     "name": "stderr",
     "output_type": "stream",
     "text": [
      "C:\\Users\\ami\\AppData\\Local\\Temp\\ipykernel_20876\\455068102.py:10: DeprecationWarning: find_element_by_xpath is deprecated. Please use find_element(by=By.XPATH, value=xpath) instead\n",
      "  html = driver.find_element_by_xpath('//*[@id=\"mytable\"]/tbody').get_attribute(\"innerHTML\") #기록 table을 str형태로 저장\n",
      "C:\\Users\\ami\\AppData\\Local\\Temp\\ipykernel_20876\\455068102.py:31: FutureWarning: The default value of regex will change from True to False in a future version.\n",
      "  temp[0] = temp[0].str.replace(\"^\\d+\", '')\n",
      "C:\\Users\\ami\\AppData\\Local\\Temp\\ipykernel_20876\\455068102.py:48: FutureWarning: The frame.append method is deprecated and will be removed from pandas in a future version. Use pandas.concat instead.\n",
      "  result = result.append(temp)\n"
     ]
    },
    {
     "name": "stdout",
     "output_type": "stream",
     "text": [
      "73 완료\n"
     ]
    },
    {
     "name": "stderr",
     "output_type": "stream",
     "text": [
      "C:\\Users\\ami\\AppData\\Local\\Temp\\ipykernel_20876\\455068102.py:10: DeprecationWarning: find_element_by_xpath is deprecated. Please use find_element(by=By.XPATH, value=xpath) instead\n",
      "  html = driver.find_element_by_xpath('//*[@id=\"mytable\"]/tbody').get_attribute(\"innerHTML\") #기록 table을 str형태로 저장\n",
      "C:\\Users\\ami\\AppData\\Local\\Temp\\ipykernel_20876\\455068102.py:31: FutureWarning: The default value of regex will change from True to False in a future version.\n",
      "  temp[0] = temp[0].str.replace(\"^\\d+\", '')\n",
      "C:\\Users\\ami\\AppData\\Local\\Temp\\ipykernel_20876\\455068102.py:48: FutureWarning: The frame.append method is deprecated and will be removed from pandas in a future version. Use pandas.concat instead.\n",
      "  result = result.append(temp)\n"
     ]
    },
    {
     "name": "stdout",
     "output_type": "stream",
     "text": [
      "74 완료\n"
     ]
    },
    {
     "name": "stderr",
     "output_type": "stream",
     "text": [
      "C:\\Users\\ami\\AppData\\Local\\Temp\\ipykernel_20876\\455068102.py:10: DeprecationWarning: find_element_by_xpath is deprecated. Please use find_element(by=By.XPATH, value=xpath) instead\n",
      "  html = driver.find_element_by_xpath('//*[@id=\"mytable\"]/tbody').get_attribute(\"innerHTML\") #기록 table을 str형태로 저장\n",
      "C:\\Users\\ami\\AppData\\Local\\Temp\\ipykernel_20876\\455068102.py:31: FutureWarning: The default value of regex will change from True to False in a future version.\n",
      "  temp[0] = temp[0].str.replace(\"^\\d+\", '')\n",
      "C:\\Users\\ami\\AppData\\Local\\Temp\\ipykernel_20876\\455068102.py:48: FutureWarning: The frame.append method is deprecated and will be removed from pandas in a future version. Use pandas.concat instead.\n",
      "  result = result.append(temp)\n"
     ]
    },
    {
     "name": "stdout",
     "output_type": "stream",
     "text": [
      "75 완료\n"
     ]
    },
    {
     "name": "stderr",
     "output_type": "stream",
     "text": [
      "C:\\Users\\ami\\AppData\\Local\\Temp\\ipykernel_20876\\455068102.py:10: DeprecationWarning: find_element_by_xpath is deprecated. Please use find_element(by=By.XPATH, value=xpath) instead\n",
      "  html = driver.find_element_by_xpath('//*[@id=\"mytable\"]/tbody').get_attribute(\"innerHTML\") #기록 table을 str형태로 저장\n",
      "C:\\Users\\ami\\AppData\\Local\\Temp\\ipykernel_20876\\455068102.py:31: FutureWarning: The default value of regex will change from True to False in a future version.\n",
      "  temp[0] = temp[0].str.replace(\"^\\d+\", '')\n",
      "C:\\Users\\ami\\AppData\\Local\\Temp\\ipykernel_20876\\455068102.py:48: FutureWarning: The frame.append method is deprecated and will be removed from pandas in a future version. Use pandas.concat instead.\n",
      "  result = result.append(temp)\n"
     ]
    },
    {
     "name": "stdout",
     "output_type": "stream",
     "text": [
      "76 완료\n"
     ]
    },
    {
     "name": "stderr",
     "output_type": "stream",
     "text": [
      "C:\\Users\\ami\\AppData\\Local\\Temp\\ipykernel_20876\\455068102.py:10: DeprecationWarning: find_element_by_xpath is deprecated. Please use find_element(by=By.XPATH, value=xpath) instead\n",
      "  html = driver.find_element_by_xpath('//*[@id=\"mytable\"]/tbody').get_attribute(\"innerHTML\") #기록 table을 str형태로 저장\n",
      "C:\\Users\\ami\\AppData\\Local\\Temp\\ipykernel_20876\\455068102.py:31: FutureWarning: The default value of regex will change from True to False in a future version.\n",
      "  temp[0] = temp[0].str.replace(\"^\\d+\", '')\n",
      "C:\\Users\\ami\\AppData\\Local\\Temp\\ipykernel_20876\\455068102.py:48: FutureWarning: The frame.append method is deprecated and will be removed from pandas in a future version. Use pandas.concat instead.\n",
      "  result = result.append(temp)\n"
     ]
    },
    {
     "name": "stdout",
     "output_type": "stream",
     "text": [
      "77 완료\n"
     ]
    },
    {
     "name": "stderr",
     "output_type": "stream",
     "text": [
      "C:\\Users\\ami\\AppData\\Local\\Temp\\ipykernel_20876\\455068102.py:10: DeprecationWarning: find_element_by_xpath is deprecated. Please use find_element(by=By.XPATH, value=xpath) instead\n",
      "  html = driver.find_element_by_xpath('//*[@id=\"mytable\"]/tbody').get_attribute(\"innerHTML\") #기록 table을 str형태로 저장\n",
      "C:\\Users\\ami\\AppData\\Local\\Temp\\ipykernel_20876\\455068102.py:31: FutureWarning: The default value of regex will change from True to False in a future version.\n",
      "  temp[0] = temp[0].str.replace(\"^\\d+\", '')\n",
      "C:\\Users\\ami\\AppData\\Local\\Temp\\ipykernel_20876\\455068102.py:48: FutureWarning: The frame.append method is deprecated and will be removed from pandas in a future version. Use pandas.concat instead.\n",
      "  result = result.append(temp)\n"
     ]
    },
    {
     "name": "stdout",
     "output_type": "stream",
     "text": [
      "78 완료\n"
     ]
    },
    {
     "name": "stderr",
     "output_type": "stream",
     "text": [
      "C:\\Users\\ami\\AppData\\Local\\Temp\\ipykernel_20876\\455068102.py:10: DeprecationWarning: find_element_by_xpath is deprecated. Please use find_element(by=By.XPATH, value=xpath) instead\n",
      "  html = driver.find_element_by_xpath('//*[@id=\"mytable\"]/tbody').get_attribute(\"innerHTML\") #기록 table을 str형태로 저장\n",
      "C:\\Users\\ami\\AppData\\Local\\Temp\\ipykernel_20876\\455068102.py:31: FutureWarning: The default value of regex will change from True to False in a future version.\n",
      "  temp[0] = temp[0].str.replace(\"^\\d+\", '')\n",
      "C:\\Users\\ami\\AppData\\Local\\Temp\\ipykernel_20876\\455068102.py:48: FutureWarning: The frame.append method is deprecated and will be removed from pandas in a future version. Use pandas.concat instead.\n",
      "  result = result.append(temp)\n"
     ]
    },
    {
     "name": "stdout",
     "output_type": "stream",
     "text": [
      "79 완료\n"
     ]
    },
    {
     "name": "stderr",
     "output_type": "stream",
     "text": [
      "C:\\Users\\ami\\AppData\\Local\\Temp\\ipykernel_20876\\455068102.py:10: DeprecationWarning: find_element_by_xpath is deprecated. Please use find_element(by=By.XPATH, value=xpath) instead\n",
      "  html = driver.find_element_by_xpath('//*[@id=\"mytable\"]/tbody').get_attribute(\"innerHTML\") #기록 table을 str형태로 저장\n",
      "C:\\Users\\ami\\AppData\\Local\\Temp\\ipykernel_20876\\455068102.py:31: FutureWarning: The default value of regex will change from True to False in a future version.\n",
      "  temp[0] = temp[0].str.replace(\"^\\d+\", '')\n",
      "C:\\Users\\ami\\AppData\\Local\\Temp\\ipykernel_20876\\455068102.py:48: FutureWarning: The frame.append method is deprecated and will be removed from pandas in a future version. Use pandas.concat instead.\n",
      "  result = result.append(temp)\n"
     ]
    },
    {
     "name": "stdout",
     "output_type": "stream",
     "text": [
      "80 완료\n"
     ]
    },
    {
     "name": "stderr",
     "output_type": "stream",
     "text": [
      "C:\\Users\\ami\\AppData\\Local\\Temp\\ipykernel_20876\\455068102.py:10: DeprecationWarning: find_element_by_xpath is deprecated. Please use find_element(by=By.XPATH, value=xpath) instead\n",
      "  html = driver.find_element_by_xpath('//*[@id=\"mytable\"]/tbody').get_attribute(\"innerHTML\") #기록 table을 str형태로 저장\n",
      "C:\\Users\\ami\\AppData\\Local\\Temp\\ipykernel_20876\\455068102.py:31: FutureWarning: The default value of regex will change from True to False in a future version.\n",
      "  temp[0] = temp[0].str.replace(\"^\\d+\", '')\n",
      "C:\\Users\\ami\\AppData\\Local\\Temp\\ipykernel_20876\\455068102.py:48: FutureWarning: The frame.append method is deprecated and will be removed from pandas in a future version. Use pandas.concat instead.\n",
      "  result = result.append(temp)\n"
     ]
    },
    {
     "name": "stdout",
     "output_type": "stream",
     "text": [
      "81 완료\n"
     ]
    },
    {
     "name": "stderr",
     "output_type": "stream",
     "text": [
      "C:\\Users\\ami\\AppData\\Local\\Temp\\ipykernel_20876\\455068102.py:10: DeprecationWarning: find_element_by_xpath is deprecated. Please use find_element(by=By.XPATH, value=xpath) instead\n",
      "  html = driver.find_element_by_xpath('//*[@id=\"mytable\"]/tbody').get_attribute(\"innerHTML\") #기록 table을 str형태로 저장\n",
      "C:\\Users\\ami\\AppData\\Local\\Temp\\ipykernel_20876\\455068102.py:31: FutureWarning: The default value of regex will change from True to False in a future version.\n",
      "  temp[0] = temp[0].str.replace(\"^\\d+\", '')\n",
      "C:\\Users\\ami\\AppData\\Local\\Temp\\ipykernel_20876\\455068102.py:48: FutureWarning: The frame.append method is deprecated and will be removed from pandas in a future version. Use pandas.concat instead.\n",
      "  result = result.append(temp)\n"
     ]
    },
    {
     "name": "stdout",
     "output_type": "stream",
     "text": [
      "82 완료\n"
     ]
    },
    {
     "name": "stderr",
     "output_type": "stream",
     "text": [
      "C:\\Users\\ami\\AppData\\Local\\Temp\\ipykernel_20876\\455068102.py:10: DeprecationWarning: find_element_by_xpath is deprecated. Please use find_element(by=By.XPATH, value=xpath) instead\n",
      "  html = driver.find_element_by_xpath('//*[@id=\"mytable\"]/tbody').get_attribute(\"innerHTML\") #기록 table을 str형태로 저장\n",
      "C:\\Users\\ami\\AppData\\Local\\Temp\\ipykernel_20876\\455068102.py:31: FutureWarning: The default value of regex will change from True to False in a future version.\n",
      "  temp[0] = temp[0].str.replace(\"^\\d+\", '')\n",
      "C:\\Users\\ami\\AppData\\Local\\Temp\\ipykernel_20876\\455068102.py:48: FutureWarning: The frame.append method is deprecated and will be removed from pandas in a future version. Use pandas.concat instead.\n",
      "  result = result.append(temp)\n"
     ]
    },
    {
     "name": "stdout",
     "output_type": "stream",
     "text": [
      "83 완료\n"
     ]
    },
    {
     "name": "stderr",
     "output_type": "stream",
     "text": [
      "C:\\Users\\ami\\AppData\\Local\\Temp\\ipykernel_20876\\455068102.py:10: DeprecationWarning: find_element_by_xpath is deprecated. Please use find_element(by=By.XPATH, value=xpath) instead\n",
      "  html = driver.find_element_by_xpath('//*[@id=\"mytable\"]/tbody').get_attribute(\"innerHTML\") #기록 table을 str형태로 저장\n",
      "C:\\Users\\ami\\AppData\\Local\\Temp\\ipykernel_20876\\455068102.py:31: FutureWarning: The default value of regex will change from True to False in a future version.\n",
      "  temp[0] = temp[0].str.replace(\"^\\d+\", '')\n",
      "C:\\Users\\ami\\AppData\\Local\\Temp\\ipykernel_20876\\455068102.py:48: FutureWarning: The frame.append method is deprecated and will be removed from pandas in a future version. Use pandas.concat instead.\n",
      "  result = result.append(temp)\n"
     ]
    },
    {
     "name": "stdout",
     "output_type": "stream",
     "text": [
      "84 완료\n"
     ]
    },
    {
     "name": "stderr",
     "output_type": "stream",
     "text": [
      "C:\\Users\\ami\\AppData\\Local\\Temp\\ipykernel_20876\\455068102.py:10: DeprecationWarning: find_element_by_xpath is deprecated. Please use find_element(by=By.XPATH, value=xpath) instead\n",
      "  html = driver.find_element_by_xpath('//*[@id=\"mytable\"]/tbody').get_attribute(\"innerHTML\") #기록 table을 str형태로 저장\n",
      "C:\\Users\\ami\\AppData\\Local\\Temp\\ipykernel_20876\\455068102.py:31: FutureWarning: The default value of regex will change from True to False in a future version.\n",
      "  temp[0] = temp[0].str.replace(\"^\\d+\", '')\n",
      "C:\\Users\\ami\\AppData\\Local\\Temp\\ipykernel_20876\\455068102.py:48: FutureWarning: The frame.append method is deprecated and will be removed from pandas in a future version. Use pandas.concat instead.\n",
      "  result = result.append(temp)\n"
     ]
    },
    {
     "name": "stdout",
     "output_type": "stream",
     "text": [
      "85 완료\n",
      "최종 완료\n"
     ]
    }
   ],
   "source": [
    "# 크롤링\n",
    "for i in range(86):\n",
    "    \n",
    "    # 1982년 부터 2018년 까지 statiz에 기록된 선수들 필터링 (총 8558명)\n",
    "    url = 'http://www.statiz.co.kr/stat.php?mid=stat&re=0&ys=1982&ye=2018&sn=100&pa={}'.format(i*100)\n",
    "    \n",
    "    driver.get(url)\n",
    "    driver.implicitly_wait(5)\n",
    "    \n",
    "    html = driver.find_element_by_xpath('//*[@id=\"mytable\"]/tbody').get_attribute(\"innerHTML\") #기록 table을 str형태로 저장\n",
    "    soup = BeautifulSoup(html, 'html.parser') #str 객체를 BeautifulSoup 객체로 변경\n",
    "    \n",
    "    temp = [i.text.strip() for i in soup.findAll(\"tr\")] #tr 태그에서, text만 저장하기\n",
    "    temp = pd.Series(temp) #list 객체에서 series 객체로 변경\n",
    "    \n",
    "        #'순'이나 'W'로 시작하는 row 제거\n",
    "    # 즉, 선수별 기록만 남기고, index를 reset 해주기\n",
    "    temp = temp[~temp.str.match(\"[순W]\")].reset_index(drop=True) \n",
    "    \n",
    "    temp = temp.apply(lambda x: pd.Series(x.split(' '))) #띄어쓰기 기준으로 나눠서 dataframe으로 변경\n",
    "    \n",
    "    #선수 팀 정보 이후 첫번째 기록과는 space 하나로 구분, 그 이후로는 space 두개로 구분이 되어 있음 \n",
    "    #그래서 space 하나로 구분을 시키면, 빈 column들이 존재 하는데, 해당 column들 제거 \n",
    "    temp = temp.replace('', np.nan).dropna(axis=1) \n",
    "    \n",
    "    #WAR 정보가 들어간 column이 2개 있다. (index가 1인 column과, 제일 마지막 column)\n",
    "    #그 중에서 index가 1인 columm 제거 \n",
    "    temp = temp.drop(1, axis=1)\n",
    "    \n",
    "    #선수 이름 앞의 숫자 제거\n",
    "    temp[0] = temp[0].str.replace(\"^\\d+\", '')\n",
    "    \n",
    "    \n",
    "        # 선수들의 생일 정보가 담긴 tag들 가지고 오기\n",
    "    birth = [i.find(\"a\") for i in soup.findAll('tr') if 'birth' in i.find('a').attrs['href']]\n",
    "    \n",
    "    # tag내에서, 생일 날짜만 추출하기 \n",
    "    p = re.compile(\"\\d{4}\\-\\d{2}\\-\\d{2}\")\n",
    "    birth = [p.findall(i.attrs['href'])[0] for i in birth]\n",
    "    \n",
    "    # 생일 column 추가\n",
    "    temp['생일'] = birth\n",
    "    \n",
    "    # page별 완성된 dataframe을 계속해서 result에 추가 시켜주기 \n",
    "    if i == 0:\n",
    "        result = temp\n",
    "    else:\n",
    "        result = result.append(temp)\n",
    "        result = result.reset_index(drop=True)\n",
    "        \n",
    "    print(i, \"완료\")\n",
    "    \n",
    "#column 명 정보 저장        \n",
    "columns = ['선수'] + [i.text for i in soup.findAll(\"tr\")[0].findAll(\"th\")][4:-3] + ['타율', '출루', '장타', 'OPS', 'wOBA', 'wRC+', 'WAR+', '생일']\n",
    "\n",
    "#column 명 추가\n",
    "result.columns = columns\n",
    "\n",
    "#webdriver 종료\n",
    "driver.close()\n",
    "\n",
    "print(\"최종 완료\")    \n",
    "    "
   ]
  },
  {
   "cell_type": "code",
   "execution_count": 14,
   "id": "7c2c933a",
   "metadata": {},
   "outputs": [
    {
     "data": {
      "text/plain": [
       "(8557, 28)"
      ]
     },
     "execution_count": 14,
     "metadata": {},
     "output_type": "execute_result"
    }
   ],
   "source": [
    "result.shape"
   ]
  },
  {
   "cell_type": "code",
   "execution_count": 15,
   "id": "e961a305",
   "metadata": {},
   "outputs": [],
   "source": [
    "#결과값 저장해두기\n",
    "result.to_csv(\"data/statiz_origin.csv\")"
   ]
  },
  {
   "cell_type": "markdown",
   "id": "c90df1c2",
   "metadata": {},
   "source": [
    "## 데이터 전처리"
   ]
  },
  {
   "cell_type": "markdown",
   "id": "a42d529d",
   "metadata": {},
   "source": [
    "### 선수정보"
   ]
  },
  {
   "cell_type": "code",
   "execution_count": 16,
   "id": "11c0f70a",
   "metadata": {},
   "outputs": [],
   "source": [
    "# 저장해둔 데이터 불러오기\n",
    "# result = pd.read_csv(\"data/statiz_origin.csv\", index_col=0)"
   ]
  },
  {
   "cell_type": "code",
   "execution_count": 17,
   "id": "28c9f350",
   "metadata": {},
   "outputs": [],
   "source": [
    "# 이름 분리 해서, '이름' column 추가\n",
    "result['이름'] = result['선수'].str.findall(\"^[ㄱ-힣]+\").apply(lambda x: x[0])\n",
    "\n",
    "# 기존 '선수' column 에 있던 이름 정보 제거\n",
    "result['선수'] = result.apply(lambda x: x['선수'].replace(x['이름'], ''), axis=1)"
   ]
  },
  {
   "cell_type": "code",
   "execution_count": 1,
   "id": "964451f6",
   "metadata": {},
   "outputs": [
    {
     "ename": "SyntaxError",
     "evalue": "expected 'else' after 'if' expression (2850397124.py, line 8)",
     "output_type": "error",
     "traceback": [
      "\u001b[1;36m  Input \u001b[1;32mIn [1]\u001b[1;36m\u001b[0m\n\u001b[1;33m    result['시즌'] = result['시즌'].apply(lambda x: int(\"20\"+ x) if int(x) &lt; 30 else int(\"19\"+x))\u001b[0m\n\u001b[1;37m                                                ^\u001b[0m\n\u001b[1;31mSyntaxError\u001b[0m\u001b[1;31m:\u001b[0m expected 'else' after 'if' expression\n"
     ]
    }
   ],
   "source": [
    "# '시즌' column 생성\n",
    "result['시즌'] = result['선수'].apply(lambda x: x[:2])\n",
    "\n",
    "# 기존 '선수' column 에 있던 시즌 정보 제거\n",
    "result['선수'] = result.apply(lambda x: x['선수'].replace(x['시즌'],''), axis=1)\n",
    "\n",
    "# 년도를 4자리 숫자로 바꾸어주기 ex) 98 -&gt; 1998, 15 -&gt; 2015\n",
    "result['시즌'] = result['시즌'].apply(lambda x: int(\"20\"+ x) if int(x) &lt; 30 else int(\"19\"+x))"
   ]
  },
  {
   "cell_type": "code",
   "execution_count": null,
   "id": "73ba6615",
   "metadata": {},
   "outputs": [],
   "source": [
    "\n",
    "# 포지션\n",
    "position = ['1B', '2B', '3B', 'SS', 'C', 'RF', 'LF', 'CF', 'DH'] \n",
    "\n",
    "# 포지션 여부 확인\n",
    "result['포지션여부'] = result['선수'].apply(lambda x : (np.isin(x[-2:], position) or np.isin(x[-1:], position))) \n",
    "\n",
    "# 포지션 분리\n",
    "result['포지션'] = result['선수'].apply(lambda x: x[-2:] if x[-2:] in position else x[-1:])\n",
    "\n",
    "#포지션이 기록 되어 있지 않으면, nan값 넣기 \n",
    "result.loc[result['포지션여부']==False, '포지션'] = np.nan"
   ]
  },
  {
   "cell_type": "code",
   "execution_count": null,
   "id": "66686158",
   "metadata": {},
   "outputs": [],
   "source": [
    "#statiz 사이트에, 2015시즌 조홍석 데이터에 생일이 기록 안되어 있음, 해당 시즌의 생일 추가 \n",
    "result.loc[(result.이름 =='조홍석'),'생일']"
   ]
  },
  {
   "cell_type": "code",
   "execution_count": null,
   "id": "f93ba6fd",
   "metadata": {},
   "outputs": [],
   "source": [
    "result.loc[(result.이름 =='조홍석')&(result.시즌 ==2015),'생일'] = '1990-02-23'"
   ]
  },
  {
   "cell_type": "code",
   "execution_count": null,
   "id": "05df39f4",
   "metadata": {},
   "outputs": [],
   "source": [
    "result[(result.이름 =='조홍석')&(result.시즌 ==2015)].생일"
   ]
  },
  {
   "cell_type": "code",
   "execution_count": null,
   "id": "ac9d7453",
   "metadata": {},
   "outputs": [],
   "source": [
    "# 팀 & 나이 column 생성\n",
    "result['팀'] = result.apply(lambda x: x['선수'].replace(x['포지션'],'') if type(x['포지션'])==str else x['선수'], axis=1)\n",
    "result['나이'] = result.apply(lambda x: x['시즌'] - int(x['생일'][:4]) + 1, axis=1)"
   ]
  },
  {
   "cell_type": "code",
   "execution_count": null,
   "id": "05d41822",
   "metadata": {},
   "outputs": [],
   "source": [
    "# 선수별 고유 아이디 부여\n",
    "info = result[['이름', '생일']].apply(lambda x: tuple(x), axis=1)\n",
    "\n",
    "player_id = {}\n",
    "for i,j in enumerate(info.unique()):\n",
    "    player_id[j] = i\n",
    "    \n",
    "result['ID'] = result.apply(lambda x: player_id[tuple([x['이름'], x['생일']])], axis=1)"
   ]
  },
  {
   "cell_type": "code",
   "execution_count": null,
   "id": "888f3197",
   "metadata": {},
   "outputs": [],
   "source": [
    "# submission에는 있지만, statiz에는 없는 이름 확인\n",
    "# 선수가 이름을 개명하여 submission과 statiz에 다르게 기록됨\n",
    "# statiz가 홈페이지를 업데이트를 할 때마다, 그리고 선수들이 개명을 할 때마다 다른 값이 나오므로,\n",
    "# 해당 코드를 돌릴 때마다 이름이 다르게 나올 수 있음 \n",
    "# 윤여운 -&gt; 윤수강 (submission : 윤수강 / statiz : 윤여운)\n",
    "# 이유찬 -&gt; 이병휘 (submission : 이병휘 / statiz : 이유찬)\n",
    "submission[~np.isin(submission['batter_name'], result['이름'])]"
   ]
  },
  {
   "cell_type": "code",
   "execution_count": null,
   "id": "3bebde08",
   "metadata": {},
   "outputs": [],
   "source": [
    "# 이름 변경\n",
    "result['이름'] = result['이름'].replace(\"윤여운\", \"윤수강\").replace('이유찬', '이병휘')"
   ]
  },
  {
   "cell_type": "code",
   "execution_count": null,
   "id": "87610b33",
   "metadata": {},
   "outputs": [],
   "source": [
    "# numeric data로 변환\n",
    "float_columns = result.iloc[:,1:27].columns\n",
    "result[float_columns] = result[float_columns].astype(float).fillna(0)"
   ]
  },
  {
   "cell_type": "code",
   "execution_count": null,
   "id": "56d2de8c",
   "metadata": {},
   "outputs": [],
   "source": [
    "# 필요한 features 선택\n",
    "cols = ['ID', '이름', '생일', '팀', '시즌', '포지션', '나이'] + list(float_columns)\n",
    "result = result[cols]"
   ]
  },
  {
   "cell_type": "markdown",
   "id": "16646b74",
   "metadata": {},
   "source": [
    "## 2. Visualization"
   ]
  },
  {
   "cell_type": "code",
   "execution_count": null,
   "id": "81bab495",
   "metadata": {},
   "outputs": [],
   "source": [
    "print(\"&lt;전체 column 타입확인&gt;\\n\\n\",result.dtypes.value_counts())\n",
    "print()\n",
    "print(\"&lt;object type columns&gt;\\n\\n\",result.columns[result.dtypes=='object'])"
   ]
  },
  {
   "cell_type": "code",
   "execution_count": null,
   "id": "c05ae04f",
   "metadata": {},
   "outputs": [],
   "source": [
    "# Find correlations with the target and sort\n",
    "correlations = result.corr()['OPS'].sort_values()\n",
    "\n",
    "# Display correlations\n",
    "print('Most Positive Correlations:\\n', correlations.tail(11))\n",
    "print('\\nMost Negative Correlations:\\n', correlations.head(10))"
   ]
  },
  {
   "cell_type": "markdown",
   "id": "a461d716",
   "metadata": {},
   "source": [
    "### OPS와 높은 상관관계  \n",
    "  \n",
    "#### 장타, 타율, wOBA, 출루, wRC+, G,루타, 타석,안타"
   ]
  },
  {
   "cell_type": "markdown",
   "id": "ae4486e0",
   "metadata": {},
   "source": [
    "### OPS와 낮은 상관관계  \n",
    "  \n",
    "#### 나이, 희타, 도루, 고4, 3타, 도실, 사구, 희비"
   ]
  },
  {
   "cell_type": "code",
   "execution_count": null,
   "id": "c1ff0ec0",
   "metadata": {},
   "outputs": [],
   "source": [
    "plt.style.use('fivethirtyeight')\n",
    "plt.figure(figsize=(15,8))\n",
    "\n",
    "plt.bar(correlations.tail(11)[:-1].index.astype(str)[::-1], 100*correlations.tail(11)[:-1][::-1],color='r')\n",
    "\n",
    "# Plot labeling\n",
    "plt.xticks(rotation=75) ; plt.xlabel('Top 10 correlations'); plt.ylabel('Correlation (%)');\n",
    "plt.title('Top 10 correlations with OPS')"
   ]
  },
  {
   "cell_type": "code",
   "execution_count": null,
   "id": "ecc56b36",
   "metadata": {},
   "outputs": [],
   "source": [
    "plt.figure(figsize=(15,8))\n",
    "\n",
    "plt.bar(correlations.head(10)[2:].index.astype(str), 100*correlations.head(10)[2:])\n",
    "\n",
    "# Plot labeling\n",
    "plt.xticks(rotation=75) ; plt.xlabel('Low 8 correlations'); plt.ylabel('Correlation (%)')\n",
    "plt.title('Low 8 correlations with OPS')"
   ]
  },
  {
   "cell_type": "code",
   "execution_count": null,
   "id": "1b96ba1e",
   "metadata": {},
   "outputs": [],
   "source": [
    "#Top 5. High correlation with 'OPS' Pair Plot\n",
    "print(\"Top 5. High correlation with 'OPS' Pair Plot\")\n",
    "high_corr = result.loc[:,list(correlations.tail(6)[::-1].index)]\n",
    "sns.pairplot(high_corr,diag_kind='kde')\n",
    "plt.show()"
   ]
  },
  {
   "cell_type": "markdown",
   "id": "54d744fe",
   "metadata": {},
   "source": [
    "#### OPS와 선형성을 보이는 변수들이 있음"
   ]
  },
  {
   "cell_type": "code",
   "execution_count": null,
   "id": "68300f03",
   "metadata": {},
   "outputs": [],
   "source": [
    "# Top5. Low correlation with 'OPS' Pair Plot\n",
    "print(\"Top5. Low correlation with 'OPS' Pair Plot\")\n",
    "low_corr = result.loc[:,['OPS']+list(correlations.head(7)[2:].index)]\n",
    "sns.pairplot(low_corr,diag_kind='kde')\n",
    "plt.show()"
   ]
  },
  {
   "cell_type": "markdown",
   "id": "c45f8322",
   "metadata": {},
   "source": [
    "#### OPS의 분포는 좁은 것에 비해서 상관성이 낮은 변수들은 분포가 넓음 (OPS 예측에 큰 도움이 안됨)"
   ]
  },
  {
   "cell_type": "code",
   "execution_count": null,
   "id": "6a044aa0",
   "metadata": {},
   "outputs": [],
   "source": [
    "# dtype이 object인 것과 OPS 추출\n",
    "result_obj=result.loc[:,list(result.columns[result.dtypes=='object'])+['OPS']]"
   ]
  },
  {
   "cell_type": "code",
   "execution_count": null,
   "id": "c2c32ebe",
   "metadata": {},
   "outputs": [],
   "source": [
    "# 포지션별 OPS violinplot 그려보기\n",
    "plt.figure(figsize=(15,8))\n",
    "sns.violinplot(x='포지션',y='OPS',data=result_obj)\n",
    "plt.title(\"포지션별 OPS violinplot\")"
   ]
  },
  {
   "cell_type": "markdown",
   "id": "0cbf004e",
   "metadata": {},
   "source": [
    "violinplot: Box plot(분위수 확인)과 KDE plot(데이터의 분포 확인)을 동시에 할 수 있다.  \n",
    "\n",
    "C (포수) 포지션의 경우 다른 포지션에 비해서 outlier가 매우 큰 선수가 있는 것으로 보인다."
   ]
  },
  {
   "cell_type": "markdown",
   "id": "ee5c42a5",
   "metadata": {},
   "source": [
    "## 3. Feature Engineering"
   ]
  },
  {
   "cell_type": "code",
   "execution_count": null,
   "id": "c5e2722e",
   "metadata": {},
   "outputs": [],
   "source": [
    "# 1루타 feature 생성\n",
    "result['1타'] = result['안타'] - result['2타'] - result['3타'] - result['홈런']"
   ]
  },
  {
   "cell_type": "code",
   "execution_count": null,
   "id": "94104590",
   "metadata": {},
   "outputs": [],
   "source": [
    "# 사용 features 명시\n",
    "infos = ['ID','이름','생일','팀','시즌','포지션','나이']\n",
    "stats = ['G','타수','득점','안타','1타','2타','3타','홈런','루타','타점','도루','도실','볼넷','사구','고4','삼진'\\\n",
    "        ,'병살','희타','희비','타율','출루','장타','OPS','wOBA','wRC+','WAR+']"
   ]
  },
  {
   "cell_type": "code",
   "execution_count": null,
   "id": "c082b26f",
   "metadata": {},
   "outputs": [],
   "source": [
    "# 해당 시즌 이전까지의 누적 기록\n",
    "def get_cumulative(player_id, season, stat=stats ,df=result):\n",
    "    try:\n",
    "        result_cum = df[(df['ID']==player_id) & (df['시즌'] &lt; season)][stat]\n",
    "        result_cum = result_cum.mean()\n",
    "        \n",
    "    except:\n",
    "        result_cum = [np.nan for i in stat]\n",
    "        result_cum = pd.Series(result_cum)\n",
    "    \n",
    "    return result_cum"
   ]
  },
  {
   "cell_type": "code",
   "execution_count": null,
   "id": "889d54a6",
   "metadata": {},
   "outputs": [],
   "source": [
    "# 모든 stats에 대한 누적 stat\n",
    "stats_cum = [i + '_누적' for i in stats]"
   ]
  },
  {
   "cell_type": "code",
   "execution_count": null,
   "id": "d725c51a",
   "metadata": {},
   "outputs": [],
   "source": [
    "# 누적 stat 데이터프레임에 반영\n",
    "result[stats_cum] = result.apply(lambda x: get_cumulative(x['ID'], x['시즌']), axis=1)"
   ]
  },
  {
   "cell_type": "code",
   "execution_count": null,
   "id": "6964acf5",
   "metadata": {},
   "outputs": [],
   "source": [
    "# lag stat (직전 몇년의 기록)\n",
    "def get_lag(player_id, season, lag, stat=stats, df=result):\n",
    "    try:\n",
    "        result_lag = df[(df['ID']==player_id)&(df['시즌'] == season-lag)][stat].values[0]\n",
    "        result_lag = pd.Series(result_lag)\n",
    "        \n",
    "    except:\n",
    "        result_lag = [np.nan for i in stat]\n",
    "        result_lag = pd.Series(result_lag)\n",
    "        \n",
    "    return result_lag"
   ]
  },
  {
   "cell_type": "code",
   "execution_count": null,
   "id": "0c5410f4",
   "metadata": {},
   "outputs": [],
   "source": [
    "# 직전 1,2,3년의 기록\n",
    "stats_lag1 = [i + '_LAG1' for i in stats]\n",
    "stats_lag2 = [i + '_LAG2' for i in stats]\n",
    "stats_lag3 = [i + '_LAG3' for i in stats]"
   ]
  },
  {
   "cell_type": "code",
   "execution_count": null,
   "id": "1586adf3",
   "metadata": {},
   "outputs": [],
   "source": [
    "# lag1\n",
    "result[stats_lag1] = result.apply(lambda x: get_lag(x['ID'],x['시즌'], lag=1), axis=1)"
   ]
  },
  {
   "cell_type": "code",
   "execution_count": null,
   "id": "131e56cf",
   "metadata": {},
   "outputs": [],
   "source": [
    "# lag2\n",
    "result[stats_lag2] = result.apply(lambda x: get_lag(x['ID'],x['시즌'], lag=2), axis=1)"
   ]
  },
  {
   "cell_type": "code",
   "execution_count": null,
   "id": "946acdb4",
   "metadata": {},
   "outputs": [],
   "source": [
    "# lag3\n",
    "result[stats_lag3] = result.apply(lambda x: get_lag(x['ID'],x['시즌'], lag=3), axis=1)"
   ]
  },
  {
   "cell_type": "code",
   "execution_count": null,
   "id": "c4629ec2",
   "metadata": {},
   "outputs": [],
   "source": [
    "# 내년 기록 (OPS, 장타, 출루)\n",
    "# 데이터 프레임의 정답 셋 만들기 위함\n",
    "\n",
    "def get_next_year(player_id, season, stat=['장타','출루','OPS'],df=result):\n",
    "    try:\n",
    "        result = df[(df['ID']==player_id)&(df['시즌']==season+1)][stat].values[0]\n",
    "        result = pd.Series(result)\n",
    "    except:\n",
    "        result = [np.nan for i in stat]\n",
    "        result = pd.Series(result)\n",
    "        \n",
    "    return result"
   ]
  },
  {
   "cell_type": "code",
   "execution_count": null,
   "id": "6c945845",
   "metadata": {},
   "outputs": [],
   "source": [
    "# 장타, 출루, OPS의 내년 기록\n",
    "stats_next = [i + '_NEXT' for i in ['장타', '출루', 'OPS']]\n",
    "result[stats_next] = result.apply(lambda x: get_next_year(x['ID'], x['시즌']), axis=1)"
   ]
  },
  {
   "cell_type": "code",
   "execution_count": null,
   "id": "716bb619",
   "metadata": {},
   "outputs": [],
   "source": [
    "# 변환 데이터 저장\n",
    "# result.to_csv(\"data/statiz_v2.csv\")"
   ]
  },
  {
   "cell_type": "markdown",
   "id": "b4ff28e2",
   "metadata": {},
   "source": [
    "## 4. Model Building"
   ]
  },
  {
   "cell_type": "markdown",
   "id": "6098f99c",
   "metadata": {},
   "source": [
    "### 모델링"
   ]
  },
  {
   "cell_type": "code",
   "execution_count": null,
   "id": "a4d17693",
   "metadata": {},
   "outputs": [],
   "source": [
    "# 출력 할 때 마다, 기존 출력물들은 제거해주는 모듈\n",
    "from IPython.display import clear_output"
   ]
  },
  {
   "cell_type": "code",
   "execution_count": null,
   "id": "7e99277f",
   "metadata": {},
   "outputs": [],
   "source": [
    "# 모델 모듈\n",
    "from xgboost import XGBRegressor, plot_importance\n",
    "from lightgbm import LGBMRegressor\n",
    "from sklearn.ensemble import RandomForestRegressor\n",
    "from sklearn.svm import SVR\n",
    "from sklearn.linear_model import Ridge, Lasso, LinearRegression, ElasticNet\n",
    "from sklearn.neighbors import KNeighborsRegressor\n",
    "\n",
    "from sklearn.metrics import mean_squared_error, r2_score\n",
    "from sklearn.preprocessing import StandardScaler, MinMaxScaler"
   ]
  },
  {
   "cell_type": "code",
   "execution_count": null,
   "id": "48f7d0e3",
   "metadata": {},
   "outputs": [],
   "source": [
    "df = result.fillna(-1) # nan값 -1로 impute \n",
    "df = df[df['OPS_NEXT'] &gt; 0] # 다음 해의 OPS가 존재하는 값들만 추출 (다음 해 OPS 가 없다면, predict 값과 target값을 비교 할 수 없기 때문)"
   ]
  },
  {
   "cell_type": "code",
   "execution_count": null,
   "id": "6e5d09bf",
   "metadata": {},
   "outputs": [],
   "source": [
    "df = pd.concat([df, pd.get_dummies(df['포지션'], drop_first=True)], axis=1) # 포지션 dummy variable로 변환"
   ]
  },
  {
   "cell_type": "markdown",
   "id": "76ed0c60",
   "metadata": {},
   "source": [
    "### 학습"
   ]
  },
  {
   "cell_type": "code",
   "execution_count": null,
   "id": "31d9e1bb",
   "metadata": {},
   "outputs": [],
   "source": [
    "# 사용 features 명시\n",
    "infos = ['ID','이름','생일','팀','시즌','포지션','나이']\n",
    "stats = ['G','타수','득점','안타','1타','2타','3타','홈런','루타','타점','도루','도실','볼넷','사구','고4','삼진'\\\n",
    "        ,'병살','희타','희비','타율','출루','장타','OPS']"
   ]
  },
  {
   "cell_type": "code",
   "execution_count": null,
   "id": "b906fd39",
   "metadata": {},
   "outputs": [],
   "source": [
    "# 누적 및 lag stat features 이름\n",
    "stats_cum = [i + '_누적' for i in stats]\n",
    "stats_lag1 = [i + '_LAG1' for i in stats]\n",
    "stats_lag2 = [i + '_LAG2' for i in stats]\n",
    "stats_lag3 = [i + '_LAG3' for i in stats]"
   ]
  },
  {
   "cell_type": "code",
   "execution_count": null,
   "id": "d233abef",
   "metadata": {},
   "outputs": [],
   "source": [
    "# X features와 y feature 정리\n",
    "stats_position = ['2B', '3B', 'C', 'CF', 'DH', 'LF', 'RF', 'SS']\n",
    "X_cols = stats + stats_cum + stats_lag1 + stats_lag2 + stats_position + ['나이']\n",
    "y_cols = ['OPS_NEXT']"
   ]
  },
  {
   "cell_type": "code",
   "execution_count": null,
   "id": "802e8cb4",
   "metadata": {},
   "outputs": [],
   "source": [
    "# 학습시킬 모델\n",
    "model_dict = {'xgb':XGBRegressor(n_estimators=110, learning_rate=0.05 ,max_depth=3, min_samples_split=400, random_state=23),\n",
    "              'lgbm':LGBMRegressor(),\n",
    "              'rf':RandomForestRegressor(),\n",
    "              'svr':SVR(),\n",
    "              'knn':KNeighborsRegressor(),\n",
    "              'reg':LinearRegression(),\n",
    "              'ridge':Ridge(),\n",
    "              'lasso':Lasso()}"
   ]
  },
  {
   "cell_type": "code",
   "execution_count": null,
   "id": "219aca30",
   "metadata": {},
   "outputs": [],
   "source": [
    "# 2009 ~ 2016년 기간의 데이터로 검증\n",
    "# 예를들어 2010년은 2009년까지의 데이터로, 2011년은 2010년까지의 데이터로 검증\n",
    "# 에러가 가장 낮은 두 모델, xgboost와 ridge 중 ridge 선택\n",
    "# ridge가 xgboost에 비해 과적합이 적고 일반화가 더 잘 이뤄졌을 것이라는 판단\n",
    "\n",
    "test_error = []\n",
    "r2 = []\n",
    "\n",
    "for year in range(2010, 2018):\n",
    "\n",
    "    train = df[df['시즌'] &lt; year-1].reset_index(drop=True)\n",
    "    test = df[df['시즌'] == year-1].reset_index(drop=True)\n",
    "    \n",
    "    X_train = train[X_cols]\n",
    "    y_train = train[y_cols]\n",
    "\n",
    "    X_test = test[X_cols]\n",
    "    y_test = test[y_cols]\n",
    "    \n",
    "    model = model_dict['ridge']    #모델명 바꾸어 가면서 실험 가능\n",
    "    weight = train['타수']\n",
    "    model.fit(X_train, y_train, sample_weight=weight)\n",
    "    y_predict = model.predict(X_test)\n",
    "    \n",
    "    test_error.append(mean_squared_error(y_test, y_predict, sample_weight=X_test['타수']) ** 0.5)\n",
    "    r2.append(r2_score(y_test, y_predict))\n",
    "    \n",
    "    clear_output(wait=True)\n",
    "    print(year, \": 완료\")\n",
    "    \n",
    "    \n",
    "print(\"test error : \", np.mean(test_error))\n",
    "print(\"test std : \", np.std(test_error))\n",
    "print(\"r2 : \", np.mean(r2))\n",
    "print(\"완료\")    \n",
    "    "
   ]
  },
  {
   "cell_type": "code",
   "execution_count": null,
   "id": "20a0cd55",
   "metadata": {},
   "outputs": [],
   "source": [
    "# 연도별 테스트 에러\n",
    "test_error"
   ]
  },
  {
   "cell_type": "code",
   "execution_count": null,
   "id": "89fa85bf",
   "metadata": {},
   "outputs": [],
   "source": [
    "# 예측값과 실제값의 시각화\n",
    "plt.scatter(y_test, y_predict)\n",
    "plt.xlabel(\"실제 값\")\n",
    "plt.ylabel(\"예측 값\")\n",
    "plt.xlim(0,1.5)\n",
    "plt.ylim(0,1.5)"
   ]
  },
  {
   "cell_type": "markdown",
   "id": "28b4d1d1",
   "metadata": {},
   "source": [
    "## 제출"
   ]
  },
  {
   "cell_type": "code",
   "execution_count": null,
   "id": "d1662304",
   "metadata": {},
   "outputs": [],
   "source": [
    "predict = result[result['시즌']==2018] # 2018년도 데이터 프레임\n",
    "predict = pd.concat([predict, pd.get_dummies(predict['포지션'], drop_first=True)], axis=1) # 포지션 dummy variable로 변환"
   ]
  },
  {
   "cell_type": "code",
   "execution_count": null,
   "id": "db74711c",
   "metadata": {},
   "outputs": [],
   "source": [
    "# Dacon regular season과 submission 병합\n",
    "# 추후 statiz data와 병합할 때 기준이 되는 생일 데이터를 얻기 위함\n",
    "reg_sub = pd.merge(submission, reg[reg['year']==2018], on='batter_id', how='left', suffixes=['','_reg'])"
   ]
  },
  {
   "cell_type": "code",
   "execution_count": null,
   "id": "fe71afbe",
   "metadata": {},
   "outputs": [],
   "source": [
    "# regular season dataframe의 생일 데이터를 statiz와 일치시킴\n",
    "reg_sub['year_born'] = reg_sub['year_born'].apply(lambda x: datetime.strptime(x, \"%Y년 %m월 %d일\").date())\n",
    "reg_sub['year_born'] = reg_sub['year_born'].astype(str)"
   ]
  },
  {
   "cell_type": "code",
   "execution_count": null,
   "id": "99dc2126",
   "metadata": {},
   "outputs": [],
   "source": [
    "# 필요한 feature만 남김\n",
    "reg_sub = reg_sub[['batter_name', 'year_born', 'batter_id']]"
   ]
  },
  {
   "cell_type": "code",
   "execution_count": null,
   "id": "20f951e4",
   "metadata": {},
   "outputs": [],
   "source": [
    "# 이름과 생일을 기준으로 dacon data와 statiz data 병합\n",
    "total = pd.merge(reg_sub, predict, how='left', left_on=['batter_name', 'year_born'], right_on=['이름', '생일'])"
   ]
  },
  {
   "cell_type": "code",
   "execution_count": null,
   "id": "c0a84754",
   "metadata": {},
   "outputs": [],
   "source": [
    "X = total[X_cols] # 사용 feature\n",
    "X = X.fillna(-1) # NA값 -1로 impute"
   ]
  },
  {
   "cell_type": "code",
   "execution_count": null,
   "id": "7f7a8c5f",
   "metadata": {},
   "outputs": [],
   "source": [
    "X = total[X_cols] # 사용 feature\n",
    "X = X.fillna(-1) # NA값 -1로 impute"
   ]
  },
  {
   "cell_type": "code",
   "execution_count": null,
   "id": "85d22ee0",
   "metadata": {},
   "outputs": [],
   "source": [
    "# 타자별 예측값 feature에 저장\n",
    "submission['batter_ops'] = submission['batter_id'].apply(lambda x: total[total['batter_id']==x]['y_hat'].values[0])"
   ]
  },
  {
   "cell_type": "code",
   "execution_count": null,
   "id": "5f27c632",
   "metadata": {},
   "outputs": [],
   "source": [
    "# 제출 파일 생성\n",
    "submission.to_csv(\"data/tnt_submission.csv\", index=False, encoding='utf-8')"
   ]
  },
  {
   "cell_type": "code",
   "execution_count": null,
   "id": "f9051245",
   "metadata": {},
   "outputs": [],
   "source": [
    "# 제출 결과 확인\n",
    "sub = pd.read_csv('data/tnt_submission.csv')\n",
    "sub"
   ]
  },
  {
   "cell_type": "code",
   "execution_count": null,
   "id": "6dddab18",
   "metadata": {},
   "outputs": [],
   "source": []
  },
  {
   "cell_type": "code",
   "execution_count": null,
   "id": "283a82df",
   "metadata": {},
   "outputs": [],
   "source": []
  },
  {
   "cell_type": "code",
   "execution_count": null,
   "id": "53e45df2",
   "metadata": {},
   "outputs": [],
   "source": []
  },
  {
   "cell_type": "code",
   "execution_count": null,
   "id": "1960ecf6",
   "metadata": {},
   "outputs": [],
   "source": []
  }
 ],
 "metadata": {
  "kernelspec": {
   "display_name": "Python 3 (ipykernel)",
   "language": "python",
   "name": "python3"
  },
  "language_info": {
   "codemirror_mode": {
    "name": "ipython",
    "version": 3
   },
   "file_extension": ".py",
   "mimetype": "text/x-python",
   "name": "python",
   "nbconvert_exporter": "python",
   "pygments_lexer": "ipython3",
   "version": "3.10.0"
  }
 },
 "nbformat": 4,
 "nbformat_minor": 5
}
