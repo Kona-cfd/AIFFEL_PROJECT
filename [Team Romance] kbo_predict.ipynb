{
 "cells": [
  {
   "cell_type": "markdown",
   "metadata": {},
   "source": [
    "# 0. 필요한 라이브러리 import"
   ]
  },
  {
   "cell_type": "code",
   "execution_count": 3,
   "metadata": {
    "_cell_guid": "b1076dfc-b9ad-4769-8c92-a6c4dae69d19",
    "_uuid": "8f2839f25d086af736a60e9eeb907d3b93b6e0e5"
   },
   "outputs": [],
   "source": [
    "# This Python 3 environment comes with many helpful analytics libraries installed\n",
    "# It is defined by the kaggle/python docker image: https://github.com/kaggle/docker-python\n",
    "# For example, here's several helpful packages to load in \n",
    "\n",
    "import numpy as np # linear algebra\n",
    "import pandas as pd # data processing, CSV file I/O (e.g. pd.read_csv)\n",
    "\n",
    "# Input data files are available in the \"../input/\" directory.\n",
    "# For example, running this (by clicking run or pressing Shift+Enter) will list all files under the input directory\n",
    "\n",
    "import os\n",
    "for dirname, _, filenames in os.walk('/kaggle/input'):\n",
    "    for filename in filenames:\n",
    "        print(os.path.join(dirname, filename))\n",
    "\n",
    "# Any results you write to the current directory are saved as output."
   ]
  },
  {
   "cell_type": "code",
   "execution_count": 4,
   "metadata": {},
   "outputs": [
    {
     "name": "stdout",
     "output_type": "stream",
     "text": [
      "['fontttf', 'NanumSquareB.ttf']\n"
     ]
    }
   ],
   "source": [
    "#!/usr/bin/python\n",
    "# -*- coding: UTF-8 -*-\n",
    "\n",
    "import warnings\n",
    "warnings.filterwarnings(action='ignore')\n",
    "\n",
    "pd.set_option('display.max_column',100)\n",
    "pd.set_option('display.max_row',500)\n",
    "from pandas import DataFrame\n",
    "from pandas import concat\n",
    "\n",
    "%matplotlib inline\n",
    "import matplotlib\n",
    "import matplotlib.pyplot as plt\n",
    "\n",
    "import seaborn as sns\n",
    "from operator import itemgetter\n",
    "\n",
    "import os\n",
    "print(os.listdir(\"./input\"))\n",
    "\n",
    "from matplotlib import font_manager, rc #그래프 폰트 깨질경우 방지 부분\n",
    "# #폰트 깨지는거 수정 부분\n",
    "# plt.rcParams['axes.unicode_minus']=False\n",
    "fontpath= \"./input/NanumSquareB.ttf\"\n",
    "fp=font_manager.FontProperties(fname=fontpath)\n",
    "\n",
    "font_name = font_manager.FontProperties(fname=fontpath).get_name()\n",
    "# matplotlib.rc('font',family=font_name)\n",
    "# plt.rcParams['font.family'] = 'NanumGothic'\n",
    "plt.rcParams['font.family'] = font_name\n",
    "plt.rcParams['font.size']   = 15\n",
    "\n",
    "\n",
    "import re\n",
    "import requests\n",
    "from bs4 import BeautifulSoup\n",
    "import time\n",
    "\n",
    "import math\n",
    "from tqdm import tqdm\n",
    "from collections import Counter\n",
    "from sklearn.preprocessing import MinMaxScaler\n",
    "\n",
    "\n",
    "from sklearn.ensemble import RandomForestRegressor\n",
    "from sklearn.model_selection import GridSearchCV\n",
    "from math import sqrt\n",
    "from sklearn.metrics import mean_absolute_error\n",
    "from xgboost import XGBRegressor\n",
    "from sklearn.linear_model import LinearRegression"
   ]
  },
  {
   "cell_type": "code",
   "execution_count": 5,
   "metadata": {},
   "outputs": [
    {
     "data": {
      "text/plain": [
       "'NanumSquare'"
      ]
     },
     "execution_count": 5,
     "metadata": {},
     "output_type": "execute_result"
    }
   ],
   "source": [
    "font_manager.FontProperties(fname=fontpath).get_name()"
   ]
  },
  {
   "cell_type": "code",
   "execution_count": 6,
   "metadata": {},
   "outputs": [
    {
     "name": "stdout",
     "output_type": "stream",
     "text": [
      "Python 3.10.0\n"
     ]
    }
   ],
   "source": [
    "!python --version"
   ]
  },
  {
   "cell_type": "code",
   "execution_count": 7,
   "metadata": {},
   "outputs": [],
   "source": [
    "#현재 데이터에서 발생하는 type error를 해결하기 위한 함수 생성해둠\n",
    "\n",
    "def coerce_df_columns_to_numeric(df, column_list):\n",
    "    df[column_list] = df[column_list].apply(pd.to_numeric, errors='coerce')"
   ]
  },
  {
   "cell_type": "markdown",
   "metadata": {},
   "source": [
    "# 1. 데이터 불러오기"
   ]
  },
  {
   "cell_type": "code",
   "execution_count": 8,
   "metadata": {
    "_cell_guid": "79c7e3d0-c299-4dcb-8224-4455121ee9b0",
    "_uuid": "d629ff2d2480ee46fbb7e2d37f6b5fab8052498a",
    "scrolled": true
   },
   "outputs": [
    {
     "data": {
      "text/html": [
       "<div>\n",
       "<style scoped>\n",
       "    .dataframe tbody tr th:only-of-type {\n",
       "        vertical-align: middle;\n",
       "    }\n",
       "\n",
       "    .dataframe tbody tr th {\n",
       "        vertical-align: top;\n",
       "    }\n",
       "\n",
       "    .dataframe thead th {\n",
       "        text-align: right;\n",
       "    }\n",
       "</style>\n",
       "<table border=\"1\" class=\"dataframe\">\n",
       "  <thead>\n",
       "    <tr style=\"text-align: right;\">\n",
       "      <th></th>\n",
       "      <th>batter_name</th>\n",
       "      <th>age</th>\n",
       "      <th>G</th>\n",
       "      <th>PA</th>\n",
       "      <th>AB</th>\n",
       "      <th>R</th>\n",
       "      <th>H</th>\n",
       "      <th>2B</th>\n",
       "      <th>3B</th>\n",
       "      <th>HR</th>\n",
       "      <th>TB</th>\n",
       "      <th>RBI</th>\n",
       "      <th>SB</th>\n",
       "      <th>CS</th>\n",
       "      <th>BB</th>\n",
       "      <th>HBP</th>\n",
       "      <th>GB</th>\n",
       "      <th>SO</th>\n",
       "      <th>GDP</th>\n",
       "      <th>BU</th>\n",
       "      <th>fly</th>\n",
       "      <th>year</th>\n",
       "      <th>salary</th>\n",
       "      <th>war</th>\n",
       "      <th>year_born</th>\n",
       "      <th>hand2</th>\n",
       "      <th>cp</th>\n",
       "      <th>tp</th>\n",
       "      <th>1B</th>\n",
       "      <th>FBP</th>\n",
       "      <th>avg</th>\n",
       "      <th>OBP</th>\n",
       "      <th>SLG</th>\n",
       "      <th>OPS</th>\n",
       "      <th>p_year</th>\n",
       "      <th>YAB</th>\n",
       "      <th>YOPS</th>\n",
       "    </tr>\n",
       "  </thead>\n",
       "  <tbody>\n",
       "    <tr>\n",
       "      <th>0</th>\n",
       "      <td>백용환</td>\n",
       "      <td>24.0</td>\n",
       "      <td>26.0</td>\n",
       "      <td>58.0</td>\n",
       "      <td>52.0</td>\n",
       "      <td>4.0</td>\n",
       "      <td>9.0</td>\n",
       "      <td>4.0</td>\n",
       "      <td>0.0</td>\n",
       "      <td>0.0</td>\n",
       "      <td>13.0</td>\n",
       "      <td>3.0</td>\n",
       "      <td>0.0</td>\n",
       "      <td>0.0</td>\n",
       "      <td>6.0</td>\n",
       "      <td>0.0</td>\n",
       "      <td>0.0</td>\n",
       "      <td>16.0</td>\n",
       "      <td>3.0</td>\n",
       "      <td>0.0</td>\n",
       "      <td>0.0</td>\n",
       "      <td>2013</td>\n",
       "      <td>2500</td>\n",
       "      <td>-0.055</td>\n",
       "      <td>1989-03-20</td>\n",
       "      <td>우투우타</td>\n",
       "      <td>포수</td>\n",
       "      <td>포수</td>\n",
       "      <td>5.0</td>\n",
       "      <td>6.0</td>\n",
       "      <td>0.173</td>\n",
       "      <td>0.259</td>\n",
       "      <td>0.250</td>\n",
       "      <td>0.509</td>\n",
       "      <td>2014</td>\n",
       "      <td>79.0</td>\n",
       "      <td>0.580</td>\n",
       "    </tr>\n",
       "    <tr>\n",
       "      <th>1</th>\n",
       "      <td>백용환</td>\n",
       "      <td>25.0</td>\n",
       "      <td>47.0</td>\n",
       "      <td>86.0</td>\n",
       "      <td>79.0</td>\n",
       "      <td>8.0</td>\n",
       "      <td>14.0</td>\n",
       "      <td>2.0</td>\n",
       "      <td>0.0</td>\n",
       "      <td>4.0</td>\n",
       "      <td>28.0</td>\n",
       "      <td>10.0</td>\n",
       "      <td>0.0</td>\n",
       "      <td>0.0</td>\n",
       "      <td>5.0</td>\n",
       "      <td>0.0</td>\n",
       "      <td>0.0</td>\n",
       "      <td>28.0</td>\n",
       "      <td>1.0</td>\n",
       "      <td>2.0</td>\n",
       "      <td>0.0</td>\n",
       "      <td>2014</td>\n",
       "      <td>2900</td>\n",
       "      <td>-0.441</td>\n",
       "      <td>1989-03-20</td>\n",
       "      <td>우투우타</td>\n",
       "      <td>포수</td>\n",
       "      <td>포수</td>\n",
       "      <td>8.0</td>\n",
       "      <td>5.0</td>\n",
       "      <td>0.177</td>\n",
       "      <td>0.226</td>\n",
       "      <td>0.354</td>\n",
       "      <td>0.580</td>\n",
       "      <td>2015</td>\n",
       "      <td>154.0</td>\n",
       "      <td>0.784</td>\n",
       "    </tr>\n",
       "    <tr>\n",
       "      <th>2</th>\n",
       "      <td>백용환</td>\n",
       "      <td>26.0</td>\n",
       "      <td>65.0</td>\n",
       "      <td>177.0</td>\n",
       "      <td>154.0</td>\n",
       "      <td>22.0</td>\n",
       "      <td>36.0</td>\n",
       "      <td>6.0</td>\n",
       "      <td>0.0</td>\n",
       "      <td>10.0</td>\n",
       "      <td>72.0</td>\n",
       "      <td>30.0</td>\n",
       "      <td>3.0</td>\n",
       "      <td>1.0</td>\n",
       "      <td>19.0</td>\n",
       "      <td>1.0</td>\n",
       "      <td>0.0</td>\n",
       "      <td>47.0</td>\n",
       "      <td>5.0</td>\n",
       "      <td>0.0</td>\n",
       "      <td>3.0</td>\n",
       "      <td>2015</td>\n",
       "      <td>6000</td>\n",
       "      <td>0.783</td>\n",
       "      <td>1989-03-20</td>\n",
       "      <td>우투우타</td>\n",
       "      <td>포수</td>\n",
       "      <td>포수</td>\n",
       "      <td>20.0</td>\n",
       "      <td>20.0</td>\n",
       "      <td>0.234</td>\n",
       "      <td>0.316</td>\n",
       "      <td>0.468</td>\n",
       "      <td>0.784</td>\n",
       "      <td>2016</td>\n",
       "      <td>174.0</td>\n",
       "      <td>0.581</td>\n",
       "    </tr>\n",
       "    <tr>\n",
       "      <th>3</th>\n",
       "      <td>백용환</td>\n",
       "      <td>27.0</td>\n",
       "      <td>80.0</td>\n",
       "      <td>199.0</td>\n",
       "      <td>174.0</td>\n",
       "      <td>12.0</td>\n",
       "      <td>34.0</td>\n",
       "      <td>7.0</td>\n",
       "      <td>0.0</td>\n",
       "      <td>4.0</td>\n",
       "      <td>53.0</td>\n",
       "      <td>15.0</td>\n",
       "      <td>2.0</td>\n",
       "      <td>1.0</td>\n",
       "      <td>19.0</td>\n",
       "      <td>1.0</td>\n",
       "      <td>1.0</td>\n",
       "      <td>52.0</td>\n",
       "      <td>6.0</td>\n",
       "      <td>3.0</td>\n",
       "      <td>2.0</td>\n",
       "      <td>2016</td>\n",
       "      <td>6000</td>\n",
       "      <td>-0.405</td>\n",
       "      <td>1989-03-20</td>\n",
       "      <td>우투우타</td>\n",
       "      <td>포수</td>\n",
       "      <td>포수</td>\n",
       "      <td>23.0</td>\n",
       "      <td>20.0</td>\n",
       "      <td>0.195</td>\n",
       "      <td>0.276</td>\n",
       "      <td>0.305</td>\n",
       "      <td>0.581</td>\n",
       "      <td>2017</td>\n",
       "      <td>17.0</td>\n",
       "      <td>0.476</td>\n",
       "    </tr>\n",
       "    <tr>\n",
       "      <th>4</th>\n",
       "      <td>백용환</td>\n",
       "      <td>28.0</td>\n",
       "      <td>15.0</td>\n",
       "      <td>20.0</td>\n",
       "      <td>17.0</td>\n",
       "      <td>2.0</td>\n",
       "      <td>3.0</td>\n",
       "      <td>0.0</td>\n",
       "      <td>0.0</td>\n",
       "      <td>0.0</td>\n",
       "      <td>3.0</td>\n",
       "      <td>1.0</td>\n",
       "      <td>0.0</td>\n",
       "      <td>0.0</td>\n",
       "      <td>3.0</td>\n",
       "      <td>0.0</td>\n",
       "      <td>0.0</td>\n",
       "      <td>3.0</td>\n",
       "      <td>2.0</td>\n",
       "      <td>0.0</td>\n",
       "      <td>0.0</td>\n",
       "      <td>2017</td>\n",
       "      <td>5500</td>\n",
       "      <td>-0.130</td>\n",
       "      <td>1989-03-20</td>\n",
       "      <td>우투우타</td>\n",
       "      <td>포수</td>\n",
       "      <td>포수</td>\n",
       "      <td>3.0</td>\n",
       "      <td>3.0</td>\n",
       "      <td>0.176</td>\n",
       "      <td>0.300</td>\n",
       "      <td>0.176</td>\n",
       "      <td>0.476</td>\n",
       "      <td>2018</td>\n",
       "      <td>47.0</td>\n",
       "      <td>0.691</td>\n",
       "    </tr>\n",
       "  </tbody>\n",
       "</table>\n",
       "</div>"
      ],
      "text/plain": [
       "  batter_name   age     G     PA     AB     R     H   2B   3B    HR    TB  \\\n",
       "0         백용환  24.0  26.0   58.0   52.0   4.0   9.0  4.0  0.0   0.0  13.0   \n",
       "1         백용환  25.0  47.0   86.0   79.0   8.0  14.0  2.0  0.0   4.0  28.0   \n",
       "2         백용환  26.0  65.0  177.0  154.0  22.0  36.0  6.0  0.0  10.0  72.0   \n",
       "3         백용환  27.0  80.0  199.0  174.0  12.0  34.0  7.0  0.0   4.0  53.0   \n",
       "4         백용환  28.0  15.0   20.0   17.0   2.0   3.0  0.0  0.0   0.0   3.0   \n",
       "\n",
       "    RBI   SB   CS    BB  HBP   GB    SO  GDP   BU  fly  year  salary    war  \\\n",
       "0   3.0  0.0  0.0   6.0  0.0  0.0  16.0  3.0  0.0  0.0  2013    2500 -0.055   \n",
       "1  10.0  0.0  0.0   5.0  0.0  0.0  28.0  1.0  2.0  0.0  2014    2900 -0.441   \n",
       "2  30.0  3.0  1.0  19.0  1.0  0.0  47.0  5.0  0.0  3.0  2015    6000  0.783   \n",
       "3  15.0  2.0  1.0  19.0  1.0  1.0  52.0  6.0  3.0  2.0  2016    6000 -0.405   \n",
       "4   1.0  0.0  0.0   3.0  0.0  0.0   3.0  2.0  0.0  0.0  2017    5500 -0.130   \n",
       "\n",
       "    year_born hand2  cp  tp    1B   FBP    avg    OBP    SLG    OPS  p_year  \\\n",
       "0  1989-03-20  우투우타  포수  포수   5.0   6.0  0.173  0.259  0.250  0.509    2014   \n",
       "1  1989-03-20  우투우타  포수  포수   8.0   5.0  0.177  0.226  0.354  0.580    2015   \n",
       "2  1989-03-20  우투우타  포수  포수  20.0  20.0  0.234  0.316  0.468  0.784    2016   \n",
       "3  1989-03-20  우투우타  포수  포수  23.0  20.0  0.195  0.276  0.305  0.581    2017   \n",
       "4  1989-03-20  우투우타  포수  포수   3.0   3.0  0.176  0.300  0.176  0.476    2018   \n",
       "\n",
       "     YAB   YOPS  \n",
       "0   79.0  0.580  \n",
       "1  154.0  0.784  \n",
       "2  174.0  0.581  \n",
       "3   17.0  0.476  \n",
       "4   47.0  0.691  "
      ]
     },
     "execution_count": 8,
     "metadata": {},
     "output_type": "execute_result"
    }
   ],
   "source": [
    "from pathlib import Path\n",
    "data_path = Path.joinpath(Path.cwd(),'data')\n",
    "train_path = Path.joinpath(Path.cwd(),'data','2019_kbo_for_kaggle_v2.csv')\n",
    "\n",
    "regular_y=pd.read_csv(train_path)\n",
    "regular_y.head()"
   ]
  },
  {
   "cell_type": "code",
   "execution_count": 9,
   "metadata": {},
   "outputs": [
    {
     "name": "stdout",
     "output_type": "stream",
     "text": [
      "<class 'pandas.core.frame.DataFrame'>\n",
      "RangeIndex: 1913 entries, 0 to 1912\n",
      "Data columns (total 37 columns):\n",
      " #   Column       Non-Null Count  Dtype  \n",
      "---  ------       --------------  -----  \n",
      " 0   batter_name  1913 non-null   object \n",
      " 1   age          1913 non-null   float64\n",
      " 2   G            1913 non-null   float64\n",
      " 3   PA           1913 non-null   float64\n",
      " 4   AB           1913 non-null   float64\n",
      " 5   R            1913 non-null   float64\n",
      " 6   H            1913 non-null   float64\n",
      " 7   2B           1913 non-null   float64\n",
      " 8   3B           1913 non-null   float64\n",
      " 9   HR           1913 non-null   float64\n",
      " 10  TB           1913 non-null   float64\n",
      " 11  RBI          1913 non-null   float64\n",
      " 12  SB           1913 non-null   float64\n",
      " 13  CS           1913 non-null   float64\n",
      " 14  BB           1913 non-null   float64\n",
      " 15  HBP          1913 non-null   float64\n",
      " 16  GB           1913 non-null   float64\n",
      " 17  SO           1913 non-null   float64\n",
      " 18  GDP          1913 non-null   float64\n",
      " 19  BU           1913 non-null   float64\n",
      " 20  fly          1913 non-null   float64\n",
      " 21  year         1913 non-null   int64  \n",
      " 22  salary       1913 non-null   int64  \n",
      " 23  war          1913 non-null   float64\n",
      " 24  year_born    1913 non-null   object \n",
      " 25  hand2        1913 non-null   object \n",
      " 26  cp           1913 non-null   object \n",
      " 27  tp           1913 non-null   object \n",
      " 28  1B           1913 non-null   float64\n",
      " 29  FBP          1913 non-null   float64\n",
      " 30  avg          1899 non-null   float64\n",
      " 31  OBP          1901 non-null   float64\n",
      " 32  SLG          1899 non-null   float64\n",
      " 33  OPS          1899 non-null   float64\n",
      " 34  p_year       1913 non-null   int64  \n",
      " 35  YAB          1913 non-null   float64\n",
      " 36  YOPS         1898 non-null   float64\n",
      "dtypes: float64(29), int64(3), object(5)\n",
      "memory usage: 553.1+ KB\n"
     ]
    }
   ],
   "source": [
    "regular_y.info()"
   ]
  },
  {
   "cell_type": "code",
   "execution_count": 10,
   "metadata": {
    "scrolled": true
   },
   "outputs": [
    {
     "data": {
      "text/plain": [
       "Index(['batter_name', 'age', 'G', 'PA', 'AB', 'R', 'H', '2B', '3B', 'HR', 'TB',\n",
       "       'RBI', 'SB', 'CS', 'BB', 'HBP', 'GB', 'SO', 'GDP', 'BU', 'fly', 'year',\n",
       "       'salary', 'war', 'year_born', 'hand2', 'cp', 'tp', '1B', 'FBP', 'avg',\n",
       "       'OBP', 'SLG', 'OPS', 'p_year', 'YAB', 'YOPS'],\n",
       "      dtype='object')"
      ]
     },
     "execution_count": 10,
     "metadata": {},
     "output_type": "execute_result"
    }
   ],
   "source": [
    "regular_y.keys()"
   ]
  },
  {
   "cell_type": "code",
   "execution_count": 11,
   "metadata": {
    "scrolled": false
   },
   "outputs": [
    {
     "data": {
      "text/html": [
       "<div>\n",
       "<style scoped>\n",
       "    .dataframe tbody tr th:only-of-type {\n",
       "        vertical-align: middle;\n",
       "    }\n",
       "\n",
       "    .dataframe tbody tr th {\n",
       "        vertical-align: top;\n",
       "    }\n",
       "\n",
       "    .dataframe thead th {\n",
       "        text-align: right;\n",
       "    }\n",
       "</style>\n",
       "<table border=\"1\" class=\"dataframe\">\n",
       "  <thead>\n",
       "    <tr style=\"text-align: right;\">\n",
       "      <th></th>\n",
       "      <th>batter_name</th>\n",
       "      <th>age</th>\n",
       "      <th>G</th>\n",
       "      <th>PA</th>\n",
       "      <th>AB</th>\n",
       "      <th>R</th>\n",
       "      <th>H</th>\n",
       "      <th>1B</th>\n",
       "      <th>2B</th>\n",
       "      <th>3B</th>\n",
       "      <th>HR</th>\n",
       "      <th>TB</th>\n",
       "      <th>RBI</th>\n",
       "      <th>SB</th>\n",
       "      <th>CS</th>\n",
       "      <th>BB</th>\n",
       "      <th>HBP</th>\n",
       "      <th>GB</th>\n",
       "      <th>SO</th>\n",
       "      <th>GDP</th>\n",
       "      <th>BU</th>\n",
       "      <th>fly</th>\n",
       "      <th>year</th>\n",
       "      <th>salary</th>\n",
       "      <th>war</th>\n",
       "      <th>year_born</th>\n",
       "      <th>hand2</th>\n",
       "      <th>cp</th>\n",
       "      <th>tp</th>\n",
       "      <th>FBP</th>\n",
       "      <th>avg</th>\n",
       "      <th>OBP</th>\n",
       "      <th>SLG</th>\n",
       "      <th>OPS</th>\n",
       "      <th>p_year</th>\n",
       "      <th>YAB</th>\n",
       "      <th>YOPS</th>\n",
       "    </tr>\n",
       "  </thead>\n",
       "  <tbody>\n",
       "    <tr>\n",
       "      <th>0</th>\n",
       "      <td>백용환</td>\n",
       "      <td>24.0</td>\n",
       "      <td>26.0</td>\n",
       "      <td>58.0</td>\n",
       "      <td>52.0</td>\n",
       "      <td>4.0</td>\n",
       "      <td>9.0</td>\n",
       "      <td>5.0</td>\n",
       "      <td>4.0</td>\n",
       "      <td>0.0</td>\n",
       "      <td>0.0</td>\n",
       "      <td>13.0</td>\n",
       "      <td>3.0</td>\n",
       "      <td>0.0</td>\n",
       "      <td>0.0</td>\n",
       "      <td>6.0</td>\n",
       "      <td>0.0</td>\n",
       "      <td>0.0</td>\n",
       "      <td>16.0</td>\n",
       "      <td>3.0</td>\n",
       "      <td>0.0</td>\n",
       "      <td>0.0</td>\n",
       "      <td>2013</td>\n",
       "      <td>2500</td>\n",
       "      <td>-0.055</td>\n",
       "      <td>1989-03-20</td>\n",
       "      <td>우투우타</td>\n",
       "      <td>포수</td>\n",
       "      <td>포수</td>\n",
       "      <td>6.0</td>\n",
       "      <td>0.173</td>\n",
       "      <td>0.259</td>\n",
       "      <td>0.250</td>\n",
       "      <td>0.509</td>\n",
       "      <td>2014</td>\n",
       "      <td>79.0</td>\n",
       "      <td>0.580</td>\n",
       "    </tr>\n",
       "    <tr>\n",
       "      <th>1</th>\n",
       "      <td>백용환</td>\n",
       "      <td>25.0</td>\n",
       "      <td>47.0</td>\n",
       "      <td>86.0</td>\n",
       "      <td>79.0</td>\n",
       "      <td>8.0</td>\n",
       "      <td>14.0</td>\n",
       "      <td>8.0</td>\n",
       "      <td>2.0</td>\n",
       "      <td>0.0</td>\n",
       "      <td>4.0</td>\n",
       "      <td>28.0</td>\n",
       "      <td>10.0</td>\n",
       "      <td>0.0</td>\n",
       "      <td>0.0</td>\n",
       "      <td>5.0</td>\n",
       "      <td>0.0</td>\n",
       "      <td>0.0</td>\n",
       "      <td>28.0</td>\n",
       "      <td>1.0</td>\n",
       "      <td>2.0</td>\n",
       "      <td>0.0</td>\n",
       "      <td>2014</td>\n",
       "      <td>2900</td>\n",
       "      <td>-0.441</td>\n",
       "      <td>1989-03-20</td>\n",
       "      <td>우투우타</td>\n",
       "      <td>포수</td>\n",
       "      <td>포수</td>\n",
       "      <td>5.0</td>\n",
       "      <td>0.177</td>\n",
       "      <td>0.226</td>\n",
       "      <td>0.354</td>\n",
       "      <td>0.580</td>\n",
       "      <td>2015</td>\n",
       "      <td>154.0</td>\n",
       "      <td>0.784</td>\n",
       "    </tr>\n",
       "    <tr>\n",
       "      <th>2</th>\n",
       "      <td>백용환</td>\n",
       "      <td>26.0</td>\n",
       "      <td>65.0</td>\n",
       "      <td>177.0</td>\n",
       "      <td>154.0</td>\n",
       "      <td>22.0</td>\n",
       "      <td>36.0</td>\n",
       "      <td>20.0</td>\n",
       "      <td>6.0</td>\n",
       "      <td>0.0</td>\n",
       "      <td>10.0</td>\n",
       "      <td>72.0</td>\n",
       "      <td>30.0</td>\n",
       "      <td>3.0</td>\n",
       "      <td>1.0</td>\n",
       "      <td>19.0</td>\n",
       "      <td>1.0</td>\n",
       "      <td>0.0</td>\n",
       "      <td>47.0</td>\n",
       "      <td>5.0</td>\n",
       "      <td>0.0</td>\n",
       "      <td>3.0</td>\n",
       "      <td>2015</td>\n",
       "      <td>6000</td>\n",
       "      <td>0.783</td>\n",
       "      <td>1989-03-20</td>\n",
       "      <td>우투우타</td>\n",
       "      <td>포수</td>\n",
       "      <td>포수</td>\n",
       "      <td>20.0</td>\n",
       "      <td>0.234</td>\n",
       "      <td>0.316</td>\n",
       "      <td>0.468</td>\n",
       "      <td>0.784</td>\n",
       "      <td>2016</td>\n",
       "      <td>174.0</td>\n",
       "      <td>0.581</td>\n",
       "    </tr>\n",
       "    <tr>\n",
       "      <th>3</th>\n",
       "      <td>백용환</td>\n",
       "      <td>27.0</td>\n",
       "      <td>80.0</td>\n",
       "      <td>199.0</td>\n",
       "      <td>174.0</td>\n",
       "      <td>12.0</td>\n",
       "      <td>34.0</td>\n",
       "      <td>23.0</td>\n",
       "      <td>7.0</td>\n",
       "      <td>0.0</td>\n",
       "      <td>4.0</td>\n",
       "      <td>53.0</td>\n",
       "      <td>15.0</td>\n",
       "      <td>2.0</td>\n",
       "      <td>1.0</td>\n",
       "      <td>19.0</td>\n",
       "      <td>1.0</td>\n",
       "      <td>1.0</td>\n",
       "      <td>52.0</td>\n",
       "      <td>6.0</td>\n",
       "      <td>3.0</td>\n",
       "      <td>2.0</td>\n",
       "      <td>2016</td>\n",
       "      <td>6000</td>\n",
       "      <td>-0.405</td>\n",
       "      <td>1989-03-20</td>\n",
       "      <td>우투우타</td>\n",
       "      <td>포수</td>\n",
       "      <td>포수</td>\n",
       "      <td>20.0</td>\n",
       "      <td>0.195</td>\n",
       "      <td>0.276</td>\n",
       "      <td>0.305</td>\n",
       "      <td>0.581</td>\n",
       "      <td>2017</td>\n",
       "      <td>17.0</td>\n",
       "      <td>0.476</td>\n",
       "    </tr>\n",
       "    <tr>\n",
       "      <th>4</th>\n",
       "      <td>백용환</td>\n",
       "      <td>28.0</td>\n",
       "      <td>15.0</td>\n",
       "      <td>20.0</td>\n",
       "      <td>17.0</td>\n",
       "      <td>2.0</td>\n",
       "      <td>3.0</td>\n",
       "      <td>3.0</td>\n",
       "      <td>0.0</td>\n",
       "      <td>0.0</td>\n",
       "      <td>0.0</td>\n",
       "      <td>3.0</td>\n",
       "      <td>1.0</td>\n",
       "      <td>0.0</td>\n",
       "      <td>0.0</td>\n",
       "      <td>3.0</td>\n",
       "      <td>0.0</td>\n",
       "      <td>0.0</td>\n",
       "      <td>3.0</td>\n",
       "      <td>2.0</td>\n",
       "      <td>0.0</td>\n",
       "      <td>0.0</td>\n",
       "      <td>2017</td>\n",
       "      <td>5500</td>\n",
       "      <td>-0.130</td>\n",
       "      <td>1989-03-20</td>\n",
       "      <td>우투우타</td>\n",
       "      <td>포수</td>\n",
       "      <td>포수</td>\n",
       "      <td>3.0</td>\n",
       "      <td>0.176</td>\n",
       "      <td>0.300</td>\n",
       "      <td>0.176</td>\n",
       "      <td>0.476</td>\n",
       "      <td>2018</td>\n",
       "      <td>47.0</td>\n",
       "      <td>0.691</td>\n",
       "    </tr>\n",
       "    <tr>\n",
       "      <th>...</th>\n",
       "      <td>...</td>\n",
       "      <td>...</td>\n",
       "      <td>...</td>\n",
       "      <td>...</td>\n",
       "      <td>...</td>\n",
       "      <td>...</td>\n",
       "      <td>...</td>\n",
       "      <td>...</td>\n",
       "      <td>...</td>\n",
       "      <td>...</td>\n",
       "      <td>...</td>\n",
       "      <td>...</td>\n",
       "      <td>...</td>\n",
       "      <td>...</td>\n",
       "      <td>...</td>\n",
       "      <td>...</td>\n",
       "      <td>...</td>\n",
       "      <td>...</td>\n",
       "      <td>...</td>\n",
       "      <td>...</td>\n",
       "      <td>...</td>\n",
       "      <td>...</td>\n",
       "      <td>...</td>\n",
       "      <td>...</td>\n",
       "      <td>...</td>\n",
       "      <td>...</td>\n",
       "      <td>...</td>\n",
       "      <td>...</td>\n",
       "      <td>...</td>\n",
       "      <td>...</td>\n",
       "      <td>...</td>\n",
       "      <td>...</td>\n",
       "      <td>...</td>\n",
       "      <td>...</td>\n",
       "      <td>...</td>\n",
       "      <td>...</td>\n",
       "      <td>...</td>\n",
       "    </tr>\n",
       "    <tr>\n",
       "      <th>1908</th>\n",
       "      <td>이원석</td>\n",
       "      <td>32.0</td>\n",
       "      <td>128.0</td>\n",
       "      <td>543.0</td>\n",
       "      <td>479.0</td>\n",
       "      <td>74.0</td>\n",
       "      <td>144.0</td>\n",
       "      <td>93.0</td>\n",
       "      <td>30.0</td>\n",
       "      <td>1.0</td>\n",
       "      <td>20.0</td>\n",
       "      <td>236.0</td>\n",
       "      <td>93.0</td>\n",
       "      <td>2.0</td>\n",
       "      <td>1.0</td>\n",
       "      <td>52.0</td>\n",
       "      <td>7.0</td>\n",
       "      <td>1.0</td>\n",
       "      <td>103.0</td>\n",
       "      <td>10.0</td>\n",
       "      <td>0.0</td>\n",
       "      <td>5.0</td>\n",
       "      <td>2018</td>\n",
       "      <td>30000</td>\n",
       "      <td>3.315</td>\n",
       "      <td>1986-10-21</td>\n",
       "      <td>우투우타</td>\n",
       "      <td>3루수</td>\n",
       "      <td>3루수</td>\n",
       "      <td>59.0</td>\n",
       "      <td>0.301</td>\n",
       "      <td>0.374</td>\n",
       "      <td>0.493</td>\n",
       "      <td>0.867</td>\n",
       "      <td>2019</td>\n",
       "      <td>395.0</td>\n",
       "      <td>0.768</td>\n",
       "    </tr>\n",
       "    <tr>\n",
       "      <th>1909</th>\n",
       "      <td>조용호</td>\n",
       "      <td>28.0</td>\n",
       "      <td>68.0</td>\n",
       "      <td>225.0</td>\n",
       "      <td>191.0</td>\n",
       "      <td>34.0</td>\n",
       "      <td>52.0</td>\n",
       "      <td>44.0</td>\n",
       "      <td>7.0</td>\n",
       "      <td>1.0</td>\n",
       "      <td>0.0</td>\n",
       "      <td>61.0</td>\n",
       "      <td>10.0</td>\n",
       "      <td>11.0</td>\n",
       "      <td>2.0</td>\n",
       "      <td>25.0</td>\n",
       "      <td>3.0</td>\n",
       "      <td>0.0</td>\n",
       "      <td>39.0</td>\n",
       "      <td>4.0</td>\n",
       "      <td>6.0</td>\n",
       "      <td>0.0</td>\n",
       "      <td>2017</td>\n",
       "      <td>3100</td>\n",
       "      <td>0.215</td>\n",
       "      <td>1989-09-09</td>\n",
       "      <td>우투좌타</td>\n",
       "      <td>우익수</td>\n",
       "      <td>우익수</td>\n",
       "      <td>28.0</td>\n",
       "      <td>0.272</td>\n",
       "      <td>0.365</td>\n",
       "      <td>0.319</td>\n",
       "      <td>0.684</td>\n",
       "      <td>2018</td>\n",
       "      <td>13.0</td>\n",
       "      <td>0.154</td>\n",
       "    </tr>\n",
       "    <tr>\n",
       "      <th>1910</th>\n",
       "      <td>조용호</td>\n",
       "      <td>29.0</td>\n",
       "      <td>16.0</td>\n",
       "      <td>14.0</td>\n",
       "      <td>13.0</td>\n",
       "      <td>4.0</td>\n",
       "      <td>1.0</td>\n",
       "      <td>1.0</td>\n",
       "      <td>0.0</td>\n",
       "      <td>0.0</td>\n",
       "      <td>0.0</td>\n",
       "      <td>1.0</td>\n",
       "      <td>0.0</td>\n",
       "      <td>0.0</td>\n",
       "      <td>1.0</td>\n",
       "      <td>0.0</td>\n",
       "      <td>0.0</td>\n",
       "      <td>0.0</td>\n",
       "      <td>5.0</td>\n",
       "      <td>0.0</td>\n",
       "      <td>1.0</td>\n",
       "      <td>0.0</td>\n",
       "      <td>2018</td>\n",
       "      <td>6200</td>\n",
       "      <td>-0.271</td>\n",
       "      <td>1989-09-09</td>\n",
       "      <td>우투좌타</td>\n",
       "      <td>우익수</td>\n",
       "      <td>우익수</td>\n",
       "      <td>0.0</td>\n",
       "      <td>0.077</td>\n",
       "      <td>0.077</td>\n",
       "      <td>0.077</td>\n",
       "      <td>0.154</td>\n",
       "      <td>2019</td>\n",
       "      <td>188.0</td>\n",
       "      <td>0.720</td>\n",
       "    </tr>\n",
       "    <tr>\n",
       "      <th>1911</th>\n",
       "      <td>히메네스</td>\n",
       "      <td>27.0</td>\n",
       "      <td>70.0</td>\n",
       "      <td>299.0</td>\n",
       "      <td>279.0</td>\n",
       "      <td>37.0</td>\n",
       "      <td>87.0</td>\n",
       "      <td>57.0</td>\n",
       "      <td>17.0</td>\n",
       "      <td>2.0</td>\n",
       "      <td>11.0</td>\n",
       "      <td>141.0</td>\n",
       "      <td>46.0</td>\n",
       "      <td>8.0</td>\n",
       "      <td>2.0</td>\n",
       "      <td>12.0</td>\n",
       "      <td>4.0</td>\n",
       "      <td>1.0</td>\n",
       "      <td>48.0</td>\n",
       "      <td>4.0</td>\n",
       "      <td>0.0</td>\n",
       "      <td>4.0</td>\n",
       "      <td>2015</td>\n",
       "      <td>50000</td>\n",
       "      <td>2.365</td>\n",
       "      <td>1988-01-18</td>\n",
       "      <td>우투우타</td>\n",
       "      <td>3루수</td>\n",
       "      <td>3루수</td>\n",
       "      <td>16.0</td>\n",
       "      <td>0.312</td>\n",
       "      <td>0.344</td>\n",
       "      <td>0.505</td>\n",
       "      <td>0.849</td>\n",
       "      <td>2016</td>\n",
       "      <td>523.0</td>\n",
       "      <td>0.889</td>\n",
       "    </tr>\n",
       "    <tr>\n",
       "      <th>1912</th>\n",
       "      <td>히메네스</td>\n",
       "      <td>28.0</td>\n",
       "      <td>135.0</td>\n",
       "      <td>579.0</td>\n",
       "      <td>523.0</td>\n",
       "      <td>101.0</td>\n",
       "      <td>161.0</td>\n",
       "      <td>99.0</td>\n",
       "      <td>36.0</td>\n",
       "      <td>0.0</td>\n",
       "      <td>26.0</td>\n",
       "      <td>275.0</td>\n",
       "      <td>102.0</td>\n",
       "      <td>18.0</td>\n",
       "      <td>9.0</td>\n",
       "      <td>39.0</td>\n",
       "      <td>10.0</td>\n",
       "      <td>2.0</td>\n",
       "      <td>67.0</td>\n",
       "      <td>8.0</td>\n",
       "      <td>1.0</td>\n",
       "      <td>6.0</td>\n",
       "      <td>2016</td>\n",
       "      <td>50000</td>\n",
       "      <td>5.356</td>\n",
       "      <td>1988-01-18</td>\n",
       "      <td>우투우타</td>\n",
       "      <td>3루수</td>\n",
       "      <td>3루수</td>\n",
       "      <td>49.0</td>\n",
       "      <td>0.308</td>\n",
       "      <td>0.363</td>\n",
       "      <td>0.526</td>\n",
       "      <td>0.889</td>\n",
       "      <td>2017</td>\n",
       "      <td>181.0</td>\n",
       "      <td>0.769</td>\n",
       "    </tr>\n",
       "  </tbody>\n",
       "</table>\n",
       "<p>1913 rows × 37 columns</p>\n",
       "</div>"
      ],
      "text/plain": [
       "     batter_name   age      G     PA     AB      R      H    1B    2B   3B  \\\n",
       "0            백용환  24.0   26.0   58.0   52.0    4.0    9.0   5.0   4.0  0.0   \n",
       "1            백용환  25.0   47.0   86.0   79.0    8.0   14.0   8.0   2.0  0.0   \n",
       "2            백용환  26.0   65.0  177.0  154.0   22.0   36.0  20.0   6.0  0.0   \n",
       "3            백용환  27.0   80.0  199.0  174.0   12.0   34.0  23.0   7.0  0.0   \n",
       "4            백용환  28.0   15.0   20.0   17.0    2.0    3.0   3.0   0.0  0.0   \n",
       "...          ...   ...    ...    ...    ...    ...    ...   ...   ...  ...   \n",
       "1908         이원석  32.0  128.0  543.0  479.0   74.0  144.0  93.0  30.0  1.0   \n",
       "1909         조용호  28.0   68.0  225.0  191.0   34.0   52.0  44.0   7.0  1.0   \n",
       "1910         조용호  29.0   16.0   14.0   13.0    4.0    1.0   1.0   0.0  0.0   \n",
       "1911        히메네스  27.0   70.0  299.0  279.0   37.0   87.0  57.0  17.0  2.0   \n",
       "1912        히메네스  28.0  135.0  579.0  523.0  101.0  161.0  99.0  36.0  0.0   \n",
       "\n",
       "        HR     TB    RBI    SB   CS    BB   HBP   GB     SO   GDP   BU  fly  \\\n",
       "0      0.0   13.0    3.0   0.0  0.0   6.0   0.0  0.0   16.0   3.0  0.0  0.0   \n",
       "1      4.0   28.0   10.0   0.0  0.0   5.0   0.0  0.0   28.0   1.0  2.0  0.0   \n",
       "2     10.0   72.0   30.0   3.0  1.0  19.0   1.0  0.0   47.0   5.0  0.0  3.0   \n",
       "3      4.0   53.0   15.0   2.0  1.0  19.0   1.0  1.0   52.0   6.0  3.0  2.0   \n",
       "4      0.0    3.0    1.0   0.0  0.0   3.0   0.0  0.0    3.0   2.0  0.0  0.0   \n",
       "...    ...    ...    ...   ...  ...   ...   ...  ...    ...   ...  ...  ...   \n",
       "1908  20.0  236.0   93.0   2.0  1.0  52.0   7.0  1.0  103.0  10.0  0.0  5.0   \n",
       "1909   0.0   61.0   10.0  11.0  2.0  25.0   3.0  0.0   39.0   4.0  6.0  0.0   \n",
       "1910   0.0    1.0    0.0   0.0  1.0   0.0   0.0  0.0    5.0   0.0  1.0  0.0   \n",
       "1911  11.0  141.0   46.0   8.0  2.0  12.0   4.0  1.0   48.0   4.0  0.0  4.0   \n",
       "1912  26.0  275.0  102.0  18.0  9.0  39.0  10.0  2.0   67.0   8.0  1.0  6.0   \n",
       "\n",
       "      year  salary    war   year_born hand2   cp   tp   FBP    avg    OBP  \\\n",
       "0     2013    2500 -0.055  1989-03-20  우투우타   포수   포수   6.0  0.173  0.259   \n",
       "1     2014    2900 -0.441  1989-03-20  우투우타   포수   포수   5.0  0.177  0.226   \n",
       "2     2015    6000  0.783  1989-03-20  우투우타   포수   포수  20.0  0.234  0.316   \n",
       "3     2016    6000 -0.405  1989-03-20  우투우타   포수   포수  20.0  0.195  0.276   \n",
       "4     2017    5500 -0.130  1989-03-20  우투우타   포수   포수   3.0  0.176  0.300   \n",
       "...    ...     ...    ...         ...   ...  ...  ...   ...    ...    ...   \n",
       "1908  2018   30000  3.315  1986-10-21  우투우타  3루수  3루수  59.0  0.301  0.374   \n",
       "1909  2017    3100  0.215  1989-09-09  우투좌타  우익수  우익수  28.0  0.272  0.365   \n",
       "1910  2018    6200 -0.271  1989-09-09  우투좌타  우익수  우익수   0.0  0.077  0.077   \n",
       "1911  2015   50000  2.365  1988-01-18  우투우타  3루수  3루수  16.0  0.312  0.344   \n",
       "1912  2016   50000  5.356  1988-01-18  우투우타  3루수  3루수  49.0  0.308  0.363   \n",
       "\n",
       "        SLG    OPS  p_year    YAB   YOPS  \n",
       "0     0.250  0.509    2014   79.0  0.580  \n",
       "1     0.354  0.580    2015  154.0  0.784  \n",
       "2     0.468  0.784    2016  174.0  0.581  \n",
       "3     0.305  0.581    2017   17.0  0.476  \n",
       "4     0.176  0.476    2018   47.0  0.691  \n",
       "...     ...    ...     ...    ...    ...  \n",
       "1908  0.493  0.867    2019  395.0  0.768  \n",
       "1909  0.319  0.684    2018   13.0  0.154  \n",
       "1910  0.077  0.154    2019  188.0  0.720  \n",
       "1911  0.505  0.849    2016  523.0  0.889  \n",
       "1912  0.526  0.889    2017  181.0  0.769  \n",
       "\n",
       "[1913 rows x 37 columns]"
      ]
     },
     "execution_count": 11,
     "metadata": {},
     "output_type": "execute_result"
    }
   ],
   "source": [
    "regular_y = regular_y.loc[:,['batter_name', 'age', 'G', 'PA', 'AB', 'R', 'H', '1B', '2B', '3B', 'HR', 'TB',\n",
    "       'RBI', 'SB', 'CS', 'BB', 'HBP', 'GB', 'SO', 'GDP', 'BU', 'fly', 'year',\n",
    "       'salary', 'war', 'year_born', 'hand2', 'cp', 'tp', 'FBP', 'avg', 'OBP', 'SLG', 'OPS', 'p_year',\n",
    "       'YAB', 'YOPS']]\n",
    "regular_y"
   ]
  },
  {
   "cell_type": "markdown",
   "metadata": {},
   "source": [
    "**기본적 데이터 변수들의 정보는 다음과 같다.**  \n",
    "**Following table shows the description of variables.**\n",
    "\n",
    "|**Number**|**Columns**|**Description**|   \n",
    "|:----:|:----:|:----:|\n",
    "|1|batter_name|타자 이름|\n",
    "|2|age|타자 나이|\n",
    "|3|G|출전게임수|\n",
    "|4|PA|타석|\n",
    "|5|AB|타수(타석-볼넷-사구-희생번트-희생플라이)|\n",
    "|6|R|득점|\n",
    "|7|H|안타(1루타+2루타+3루타+홈런)|\n",
    "|8|1B|1루타|\n",
    "|9|2B|2루타|\n",
    "|10|3B|3루타|\n",
    "|11|HR|홈런|\n",
    "|12|TB|루타 수|\n",
    "|13|RBI|타점|\n",
    "|14|SB|도루 성공|\n",
    "|15|CS|도루 실패|\n",
    "|16|BB|볼넷|\n",
    "|17|HBP|사구(몸에 맞는 볼)|\n",
    "|18|GB|고의 4구|\n",
    "|19|SO|삼진아웃|\n",
    "|20|GDP|병살타|\n",
    "|21|BU|희생타|\n",
    "|22|fly|희생플라이|\t\n",
    "|23|year|해당 시즌|\t\n",
    "|24|salary|연봉|\n",
    "|25|war|대체 선수 대비 승리 기여도|\n",
    "|26|year_born|출생일|\n",
    "|27|hand2|타석위치|\t\n",
    "|28|tp|통합포지션|\t\n",
    "|29|FBP|BB+HBP|\t\n",
    "|30|avg|타율|\t\n",
    "|31|OBP|출루율|\t\n",
    "|32|SLG|장타율|\t\n",
    "|33|OPS|OPS(OBP+SLG)|\n",
    "|34|p_year|다음시즌|\n",
    "|35|YAB|다음 시즌 타석 수|\t\n",
    "|36|YOPS|다음 시즌 OPS|\t\n",
    "\n",
    "  "
   ]
  },
  {
   "cell_type": "code",
   "execution_count": 12,
   "metadata": {},
   "outputs": [],
   "source": [
    "'''\n",
    "그래프 크기와 폰트 사이즈 조절\n",
    "'''\n",
    "figure_size          = (10,6) # 그래프 사이즈\n",
    "title_font_size      =  24    # 제목 폰트크기\n",
    "label_font_size      =  18    # 레이블 폰트크기\n",
    "tick_label_font_size =  14    # 틱 레이블 폰트크기\n",
    "#plt.figure(figsize=figure_size)\n"
   ]
  },
  {
   "cell_type": "markdown",
   "metadata": {},
   "source": [
    "# 2. 데이터 정제 및 처리"
   ]
  },
  {
   "cell_type": "markdown",
   "metadata": {},
   "source": [
    "### 2-1 범주형 변수 통합"
   ]
  },
  {
   "cell_type": "code",
   "execution_count": 13,
   "metadata": {
    "ExecuteTime": {
     "end_time": "2019-12-04T02:59:13.332056Z",
     "start_time": "2019-12-04T02:59:13.326088Z"
    }
   },
   "outputs": [
    {
     "data": {
      "text/plain": [
       "Counter({'포수': 230,\n",
       "         '2루수': 213,\n",
       "         '유격수': 135,\n",
       "         '1루수': 212,\n",
       "         '중견수': 172,\n",
       "         '3루수': 243,\n",
       "         '좌익수': 240,\n",
       "         '우익수': 200,\n",
       "         '지명타자': 268})"
      ]
     },
     "execution_count": 13,
     "metadata": {},
     "output_type": "execute_result"
    }
   ],
   "source": [
    "Counter(regular_y['cp'])"
   ]
  },
  {
   "cell_type": "code",
   "execution_count": 14,
   "metadata": {
    "ExecuteTime": {
     "end_time": "2019-12-04T02:59:13.671381Z",
     "start_time": "2019-12-04T02:59:13.333088Z"
    }
   },
   "outputs": [
    {
     "data": {
      "image/png": "[encoded data removed]",
      "text/plain": [
       "<Figure size 720x432 with 1 Axes>"
      ]
     },
     "metadata": {
      "needs_background": "light"
     },
     "output_type": "display_data"
    }
   ],
   "source": [
    "plt.figure(figsize=figure_size)\n",
    "\n",
    "# 설치된 폰트 출력 가능\n",
    "sns.boxplot(x='hand2',y=\"YOPS\", data=regular_y,palette=\"Spectral\")\n",
    "plt.title('타석위치 별 YOPS Boxplot',fontproperties=fp,size=title_font_size)\n",
    "plt.xticks(fontproperties=fp,fontsize=tick_label_font_size)\n",
    "plt.yticks(fontproperties=fp,fontsize=tick_label_font_size)\n",
    "plt.xlabel('hand',fontproperties=fp,size=label_font_size)\n",
    "plt.ylabel('다음 시즌 OPS',fontproperties=fp,size=label_font_size);\n"
   ]
  },
  {
   "cell_type": "code",
   "execution_count": 15,
   "metadata": {
    "ExecuteTime": {
     "end_time": "2019-12-04T02:59:13.988383Z",
     "start_time": "2019-12-04T02:59:13.672382Z"
    }
   },
   "outputs": [
    {
     "name": "stderr",
     "output_type": "stream",
     "text": [
      "findfont: Font family ['NanumSquare'] not found. Falling back to DejaVu Sans.\n",
      "findfont: Font family ['NanumSquare'] not found. Falling back to DejaVu Sans.\n"
     ]
    },
    {
     "data": {
      "image/png": "[encoded data removed]",
      "text/plain": [
       "<Figure size 720x432 with 1 Axes>"
      ]
     },
     "metadata": {
      "needs_background": "light"
     },
     "output_type": "display_data"
    }
   ],
   "source": [
    "# plt.figure(figsize=(20,9))\n",
    "plt.figure(figsize=figure_size)\n",
    "sns.boxplot(x='tp',y=\"YOPS\", data=regular_y,palette=\"Spectral\")\n",
    "plt.title('포지션 별 YOPS Boxplot',fontproperties=fp,size=title_font_size)\n",
    "plt.xticks(fontproperties=fp,fontsize=tick_label_font_size)\n",
    "plt.yticks(fontsize=tick_label_font_size)\n",
    "plt.xlabel('position',size=label_font_size)\n",
    "plt.ylabel('다음 시즌 OPS',fontproperties=fp,size=label_font_size);"
   ]
  },
  {
   "cell_type": "code",
   "execution_count": 16,
   "metadata": {
    "ExecuteTime": {
     "end_time": "2019-12-04T02:59:14.340382Z",
     "start_time": "2019-12-04T02:59:14.004383Z"
    }
   },
   "outputs": [
    {
     "data": {
      "image/png": "[encoded data removed]",
      "text/plain": [
       "<Figure size 1152x648 with 2 Axes>"
      ]
     },
     "metadata": {
      "needs_background": "light"
     },
     "output_type": "display_data"
    }
   ],
   "source": [
    "plt.figure(figsize=(16,9))\n",
    "\n",
    "plt.subplot(121)\n",
    "sns.boxplot(x='hand2',y=\"YOPS\", data=regular_y,palette=\"Spectral\")\n",
    "plt.title('타석위치 별 YOPS Boxplot',fontproperties=fp,size=title_font_size)\n",
    "plt.xticks(fontproperties=fp,fontsize=label_font_size)\n",
    "plt.yticks(fontsize=tick_label_font_size)\n",
    "plt.xlabel('hand',size=label_font_size)\n",
    "plt.ylabel('다음 시즌 OPS',fontproperties=fp,size=label_font_size)\n",
    "\n",
    "fkd1= list(Counter(regular_y['hand2']).keys())\n",
    "fkd2= list(Counter(regular_y['hand2']).values())\n",
    "\n",
    "plt.subplot(122)\n",
    "sns.barplot(x=fkd1,y=fkd2)\n",
    "plt.title('타석 위치 별 인원수(중복포함)',fontproperties=fp,size=title_font_size)\n",
    "plt.xticks(fontproperties=fp,fontsize=label_font_size)\n",
    "plt.yticks(fontsize=tick_label_font_size)\n",
    "plt.xlabel('타석 위치',fontproperties=fp,size=label_font_size)\n",
    "plt.ylabel('인원수',fontproperties=fp,size=label_font_size)\n",
    "for x,y in zip(range(0,len(fkd1)),fkd2):\n",
    "    if len(str(y))==2:\n",
    "        plt.text(x-0.05,y,fkd2[x],size=label_font_size)\n",
    "    else:\n",
    "        plt.text(x-0.175,y,fkd2[x],size=label_font_size)"
   ]
  },
  {
   "cell_type": "code",
   "execution_count": 17,
   "metadata": {
    "ExecuteTime": {
     "end_time": "2019-12-04T02:59:14.356382Z",
     "start_time": "2019-12-04T02:59:14.342398Z"
    }
   },
   "outputs": [
    {
     "data": {
      "text/plain": [
       "array(['포수', '내야수', '외야수'], dtype=object)"
      ]
     },
     "execution_count": 17,
     "metadata": {},
     "output_type": "execute_result"
    }
   ],
   "source": [
    "#스탯티즈를 통해서 대체된 포지션의 경우에 대한 포지션 통합 작업\n",
    "#지명타자의 경우 외야수 출신인 이범호를 제외하고는 전부 지명타자 출신이어서 내야수로 할당하였다.\n",
    "regular_y['tp']=regular_y['tp'].replace('2루수','내야수')\n",
    "regular_y['tp']=regular_y['tp'].replace('지명타자','내야수')\n",
    "regular_y['tp']=regular_y['tp'].replace('유격수','내야수')\n",
    "regular_y['tp']=regular_y['tp'].replace('3루수','내야수')\n",
    "regular_y['tp']=regular_y['tp'].replace('1루수','내야수')\n",
    "\n",
    "regular_y['tp']=regular_y['tp'].replace('우익수','외야수')\n",
    "regular_y['tp']=regular_y['tp'].replace('중견수','외야수')\n",
    "regular_y['tp']=regular_y['tp'].replace('좌익수','외야수')\n",
    "\n",
    "regular_y['tp'].unique()"
   ]
  },
  {
   "cell_type": "code",
   "execution_count": 18,
   "metadata": {
    "ExecuteTime": {
     "end_time": "2019-12-04T02:59:14.663382Z",
     "start_time": "2019-12-04T02:59:14.357391Z"
    }
   },
   "outputs": [
    {
     "data": {
      "image/png": "[encoded data removed]",
      "text/plain": [
       "<Figure size 1152x648 with 2 Axes>"
      ]
     },
     "metadata": {
      "needs_background": "light"
     },
     "output_type": "display_data"
    }
   ],
   "source": [
    "plt.figure(figsize=(16,9))\n",
    "\n",
    "plt.subplot(121)\n",
    "sns.boxplot(x='tp',y=\"YOPS\", data=regular_y,palette=\"Spectral\")\n",
    "plt.title('포지션 별 YOPS Boxplot',fontproperties=fp,size=title_font_size)\n",
    "plt.xticks(fontproperties=fp,fontsize=label_font_size)\n",
    "plt.yticks(fontsize=tick_label_font_size)\n",
    "plt.xlabel('position',size=label_font_size)\n",
    "plt.ylabel('다음 시즌 OPS',fontproperties=fp,size=label_font_size)\n",
    "\n",
    "fkd1= list(Counter(regular_y['tp']).keys())\n",
    "fkd2= list(Counter(regular_y['tp']).values())\n",
    "plt.subplot(122)\n",
    "sns.barplot(x=fkd1,y=fkd2)\n",
    "plt.title('포지션 별 인원수(중복포함)',fontproperties=fp,size=title_font_size)\n",
    "plt.xticks(fontproperties=fp,fontsize=label_font_size)\n",
    "plt.yticks(fontsize=tick_label_font_size)\n",
    "plt.xlabel('position',size=label_font_size)\n",
    "plt.ylabel('인원수',fontproperties=fp,size=label_font_size)\n",
    "for x,y in zip(range(0,len(fkd1)),fkd2):\n",
    "    if len(str(y))==2:\n",
    "        plt.text(x-0.05,y,fkd2[x],size=label_font_size)\n",
    "    else:\n",
    "        plt.text(x-0.15,y,fkd2[x],size=label_font_size)"
   ]
  },
  {
   "cell_type": "markdown",
   "metadata": {},
   "source": [
    "## 2-2 타석위치, 통합 포지션 만들기"
   ]
  },
  {
   "cell_type": "code",
   "execution_count": 19,
   "metadata": {
    "ExecuteTime": {
     "end_time": "2019-12-04T02:59:14.670384Z",
     "start_time": "2019-12-04T02:59:14.664382Z"
    }
   },
   "outputs": [],
   "source": [
    "del regular_y['cp']\n",
    "del regular_y['year_born']\n",
    "del regular_y['p_year']"
   ]
  },
  {
   "cell_type": "markdown",
   "metadata": {},
   "source": [
    "## 2-3 결측치 처리"
   ]
  },
  {
   "cell_type": "code",
   "execution_count": 20,
   "metadata": {
    "ExecuteTime": {
     "end_time": "2019-12-04T02:59:14.706382Z",
     "start_time": "2019-12-04T02:59:14.671384Z"
    }
   },
   "outputs": [
    {
     "data": {
      "text/html": [
       "<div>\n",
       "<style scoped>\n",
       "    .dataframe tbody tr th:only-of-type {\n",
       "        vertical-align: middle;\n",
       "    }\n",
       "\n",
       "    .dataframe tbody tr th {\n",
       "        vertical-align: top;\n",
       "    }\n",
       "\n",
       "    .dataframe thead th {\n",
       "        text-align: right;\n",
       "    }\n",
       "</style>\n",
       "<table border=\"1\" class=\"dataframe\">\n",
       "  <thead>\n",
       "    <tr style=\"text-align: right;\">\n",
       "      <th></th>\n",
       "      <th>batter_name</th>\n",
       "      <th>age</th>\n",
       "      <th>G</th>\n",
       "      <th>PA</th>\n",
       "      <th>AB</th>\n",
       "      <th>R</th>\n",
       "      <th>H</th>\n",
       "      <th>1B</th>\n",
       "      <th>2B</th>\n",
       "      <th>3B</th>\n",
       "      <th>HR</th>\n",
       "      <th>TB</th>\n",
       "      <th>RBI</th>\n",
       "      <th>SB</th>\n",
       "      <th>CS</th>\n",
       "      <th>BB</th>\n",
       "      <th>HBP</th>\n",
       "      <th>GB</th>\n",
       "      <th>SO</th>\n",
       "      <th>GDP</th>\n",
       "      <th>BU</th>\n",
       "      <th>fly</th>\n",
       "      <th>year</th>\n",
       "      <th>salary</th>\n",
       "      <th>war</th>\n",
       "      <th>hand2</th>\n",
       "      <th>tp</th>\n",
       "      <th>FBP</th>\n",
       "      <th>avg</th>\n",
       "      <th>OBP</th>\n",
       "      <th>SLG</th>\n",
       "      <th>OPS</th>\n",
       "      <th>YAB</th>\n",
       "      <th>YOPS</th>\n",
       "    </tr>\n",
       "  </thead>\n",
       "  <tbody>\n",
       "    <tr>\n",
       "      <th>188</th>\n",
       "      <td>전민재</td>\n",
       "      <td>19.0</td>\n",
       "      <td>12.0</td>\n",
       "      <td>8.0</td>\n",
       "      <td>8.0</td>\n",
       "      <td>2.0</td>\n",
       "      <td>3.0</td>\n",
       "      <td>2.0</td>\n",
       "      <td>1.0</td>\n",
       "      <td>0.0</td>\n",
       "      <td>0.0</td>\n",
       "      <td>4.0</td>\n",
       "      <td>3.0</td>\n",
       "      <td>0.0</td>\n",
       "      <td>0.0</td>\n",
       "      <td>0.0</td>\n",
       "      <td>0.0</td>\n",
       "      <td>0.0</td>\n",
       "      <td>2.0</td>\n",
       "      <td>1.0</td>\n",
       "      <td>0.0</td>\n",
       "      <td>0.0</td>\n",
       "      <td>2018</td>\n",
       "      <td>2700</td>\n",
       "      <td>0.047</td>\n",
       "      <td>우투우타</td>\n",
       "      <td>내야수</td>\n",
       "      <td>0.0</td>\n",
       "      <td>0.375</td>\n",
       "      <td>0.375</td>\n",
       "      <td>0.500</td>\n",
       "      <td>0.875</td>\n",
       "      <td>0.0</td>\n",
       "      <td>NaN</td>\n",
       "    </tr>\n",
       "    <tr>\n",
       "      <th>607</th>\n",
       "      <td>최윤석</td>\n",
       "      <td>30.0</td>\n",
       "      <td>21.0</td>\n",
       "      <td>33.0</td>\n",
       "      <td>32.0</td>\n",
       "      <td>3.0</td>\n",
       "      <td>7.0</td>\n",
       "      <td>7.0</td>\n",
       "      <td>0.0</td>\n",
       "      <td>0.0</td>\n",
       "      <td>0.0</td>\n",
       "      <td>7.0</td>\n",
       "      <td>2.0</td>\n",
       "      <td>0.0</td>\n",
       "      <td>0.0</td>\n",
       "      <td>0.0</td>\n",
       "      <td>0.0</td>\n",
       "      <td>0.0</td>\n",
       "      <td>6.0</td>\n",
       "      <td>0.0</td>\n",
       "      <td>1.0</td>\n",
       "      <td>0.0</td>\n",
       "      <td>2017</td>\n",
       "      <td>5200</td>\n",
       "      <td>-0.343</td>\n",
       "      <td>우투우타</td>\n",
       "      <td>내야수</td>\n",
       "      <td>0.0</td>\n",
       "      <td>0.219</td>\n",
       "      <td>0.219</td>\n",
       "      <td>0.219</td>\n",
       "      <td>0.438</td>\n",
       "      <td>0.0</td>\n",
       "      <td>NaN</td>\n",
       "    </tr>\n",
       "    <tr>\n",
       "      <th>691</th>\n",
       "      <td>양원혁</td>\n",
       "      <td>27.0</td>\n",
       "      <td>7.0</td>\n",
       "      <td>6.0</td>\n",
       "      <td>5.0</td>\n",
       "      <td>3.0</td>\n",
       "      <td>2.0</td>\n",
       "      <td>2.0</td>\n",
       "      <td>0.0</td>\n",
       "      <td>0.0</td>\n",
       "      <td>0.0</td>\n",
       "      <td>2.0</td>\n",
       "      <td>0.0</td>\n",
       "      <td>0.0</td>\n",
       "      <td>0.0</td>\n",
       "      <td>1.0</td>\n",
       "      <td>0.0</td>\n",
       "      <td>0.0</td>\n",
       "      <td>0.0</td>\n",
       "      <td>0.0</td>\n",
       "      <td>0.0</td>\n",
       "      <td>0.0</td>\n",
       "      <td>2018</td>\n",
       "      <td>2900</td>\n",
       "      <td>0.096</td>\n",
       "      <td>좌타우투</td>\n",
       "      <td>내야수</td>\n",
       "      <td>1.0</td>\n",
       "      <td>0.400</td>\n",
       "      <td>0.500</td>\n",
       "      <td>0.400</td>\n",
       "      <td>0.900</td>\n",
       "      <td>0.0</td>\n",
       "      <td>NaN</td>\n",
       "    </tr>\n",
       "    <tr>\n",
       "      <th>715</th>\n",
       "      <td>양종민</td>\n",
       "      <td>22.0</td>\n",
       "      <td>2.0</td>\n",
       "      <td>4.0</td>\n",
       "      <td>4.0</td>\n",
       "      <td>0.0</td>\n",
       "      <td>1.0</td>\n",
       "      <td>1.0</td>\n",
       "      <td>0.0</td>\n",
       "      <td>0.0</td>\n",
       "      <td>0.0</td>\n",
       "      <td>1.0</td>\n",
       "      <td>1.0</td>\n",
       "      <td>1.0</td>\n",
       "      <td>0.0</td>\n",
       "      <td>0.0</td>\n",
       "      <td>0.0</td>\n",
       "      <td>0.0</td>\n",
       "      <td>1.0</td>\n",
       "      <td>0.0</td>\n",
       "      <td>0.0</td>\n",
       "      <td>0.0</td>\n",
       "      <td>2012</td>\n",
       "      <td>3200</td>\n",
       "      <td>0.018</td>\n",
       "      <td>우투양타</td>\n",
       "      <td>내야수</td>\n",
       "      <td>0.0</td>\n",
       "      <td>0.250</td>\n",
       "      <td>0.250</td>\n",
       "      <td>0.250</td>\n",
       "      <td>0.500</td>\n",
       "      <td>0.0</td>\n",
       "      <td>NaN</td>\n",
       "    </tr>\n",
       "    <tr>\n",
       "      <th>878</th>\n",
       "      <td>이준수</td>\n",
       "      <td>25.0</td>\n",
       "      <td>47.0</td>\n",
       "      <td>74.0</td>\n",
       "      <td>65.0</td>\n",
       "      <td>6.0</td>\n",
       "      <td>13.0</td>\n",
       "      <td>10.0</td>\n",
       "      <td>3.0</td>\n",
       "      <td>0.0</td>\n",
       "      <td>0.0</td>\n",
       "      <td>16.0</td>\n",
       "      <td>6.0</td>\n",
       "      <td>0.0</td>\n",
       "      <td>0.0</td>\n",
       "      <td>3.0</td>\n",
       "      <td>3.0</td>\n",
       "      <td>0.0</td>\n",
       "      <td>21.0</td>\n",
       "      <td>0.0</td>\n",
       "      <td>2.0</td>\n",
       "      <td>1.0</td>\n",
       "      <td>2013</td>\n",
       "      <td>3400</td>\n",
       "      <td>-0.081</td>\n",
       "      <td>우투우타</td>\n",
       "      <td>포수</td>\n",
       "      <td>6.0</td>\n",
       "      <td>0.200</td>\n",
       "      <td>0.264</td>\n",
       "      <td>0.246</td>\n",
       "      <td>0.510</td>\n",
       "      <td>0.0</td>\n",
       "      <td>NaN</td>\n",
       "    </tr>\n",
       "    <tr>\n",
       "      <th>979</th>\n",
       "      <td>박계범</td>\n",
       "      <td>19.0</td>\n",
       "      <td>3.0</td>\n",
       "      <td>0.0</td>\n",
       "      <td>0.0</td>\n",
       "      <td>0.0</td>\n",
       "      <td>0.0</td>\n",
       "      <td>0.0</td>\n",
       "      <td>0.0</td>\n",
       "      <td>0.0</td>\n",
       "      <td>0.0</td>\n",
       "      <td>0.0</td>\n",
       "      <td>0.0</td>\n",
       "      <td>0.0</td>\n",
       "      <td>0.0</td>\n",
       "      <td>0.0</td>\n",
       "      <td>0.0</td>\n",
       "      <td>0.0</td>\n",
       "      <td>0.0</td>\n",
       "      <td>0.0</td>\n",
       "      <td>0.0</td>\n",
       "      <td>0.0</td>\n",
       "      <td>2015</td>\n",
       "      <td>2700</td>\n",
       "      <td>0.016</td>\n",
       "      <td>우타우투</td>\n",
       "      <td>내야수</td>\n",
       "      <td>0.0</td>\n",
       "      <td>NaN</td>\n",
       "      <td>NaN</td>\n",
       "      <td>NaN</td>\n",
       "      <td>NaN</td>\n",
       "      <td>0.0</td>\n",
       "      <td>NaN</td>\n",
       "    </tr>\n",
       "    <tr>\n",
       "      <th>1042</th>\n",
       "      <td>지성준</td>\n",
       "      <td>21.0</td>\n",
       "      <td>9.0</td>\n",
       "      <td>12.0</td>\n",
       "      <td>12.0</td>\n",
       "      <td>1.0</td>\n",
       "      <td>3.0</td>\n",
       "      <td>2.0</td>\n",
       "      <td>1.0</td>\n",
       "      <td>0.0</td>\n",
       "      <td>0.0</td>\n",
       "      <td>4.0</td>\n",
       "      <td>0.0</td>\n",
       "      <td>0.0</td>\n",
       "      <td>0.0</td>\n",
       "      <td>0.0</td>\n",
       "      <td>0.0</td>\n",
       "      <td>0.0</td>\n",
       "      <td>5.0</td>\n",
       "      <td>0.0</td>\n",
       "      <td>0.0</td>\n",
       "      <td>0.0</td>\n",
       "      <td>2015</td>\n",
       "      <td>2700</td>\n",
       "      <td>-0.059</td>\n",
       "      <td>우타우투</td>\n",
       "      <td>포수</td>\n",
       "      <td>0.0</td>\n",
       "      <td>0.250</td>\n",
       "      <td>0.250</td>\n",
       "      <td>0.333</td>\n",
       "      <td>0.583</td>\n",
       "      <td>0.0</td>\n",
       "      <td>NaN</td>\n",
       "    </tr>\n",
       "    <tr>\n",
       "      <th>1183</th>\n",
       "      <td>백승룡</td>\n",
       "      <td>30.0</td>\n",
       "      <td>33.0</td>\n",
       "      <td>62.0</td>\n",
       "      <td>52.0</td>\n",
       "      <td>3.0</td>\n",
       "      <td>12.0</td>\n",
       "      <td>11.0</td>\n",
       "      <td>1.0</td>\n",
       "      <td>0.0</td>\n",
       "      <td>0.0</td>\n",
       "      <td>13.0</td>\n",
       "      <td>3.0</td>\n",
       "      <td>3.0</td>\n",
       "      <td>0.0</td>\n",
       "      <td>6.0</td>\n",
       "      <td>3.0</td>\n",
       "      <td>0.0</td>\n",
       "      <td>20.0</td>\n",
       "      <td>0.0</td>\n",
       "      <td>1.0</td>\n",
       "      <td>0.0</td>\n",
       "      <td>2012</td>\n",
       "      <td>3000</td>\n",
       "      <td>0.253</td>\n",
       "      <td>우투우타</td>\n",
       "      <td>내야수</td>\n",
       "      <td>9.0</td>\n",
       "      <td>0.231</td>\n",
       "      <td>0.344</td>\n",
       "      <td>0.250</td>\n",
       "      <td>0.594</td>\n",
       "      <td>0.0</td>\n",
       "      <td>NaN</td>\n",
       "    </tr>\n",
       "    <tr>\n",
       "      <th>1316</th>\n",
       "      <td>황진수</td>\n",
       "      <td>23.0</td>\n",
       "      <td>28.0</td>\n",
       "      <td>20.0</td>\n",
       "      <td>18.0</td>\n",
       "      <td>2.0</td>\n",
       "      <td>2.0</td>\n",
       "      <td>1.0</td>\n",
       "      <td>1.0</td>\n",
       "      <td>0.0</td>\n",
       "      <td>0.0</td>\n",
       "      <td>3.0</td>\n",
       "      <td>0.0</td>\n",
       "      <td>2.0</td>\n",
       "      <td>0.0</td>\n",
       "      <td>1.0</td>\n",
       "      <td>0.0</td>\n",
       "      <td>0.0</td>\n",
       "      <td>9.0</td>\n",
       "      <td>1.0</td>\n",
       "      <td>1.0</td>\n",
       "      <td>0.0</td>\n",
       "      <td>2012</td>\n",
       "      <td>2400</td>\n",
       "      <td>-0.117</td>\n",
       "      <td>우투양타</td>\n",
       "      <td>내야수</td>\n",
       "      <td>1.0</td>\n",
       "      <td>0.111</td>\n",
       "      <td>0.158</td>\n",
       "      <td>0.167</td>\n",
       "      <td>0.325</td>\n",
       "      <td>0.0</td>\n",
       "      <td>NaN</td>\n",
       "    </tr>\n",
       "    <tr>\n",
       "      <th>1420</th>\n",
       "      <td>강동관</td>\n",
       "      <td>20.0</td>\n",
       "      <td>2.0</td>\n",
       "      <td>2.0</td>\n",
       "      <td>2.0</td>\n",
       "      <td>0.0</td>\n",
       "      <td>0.0</td>\n",
       "      <td>0.0</td>\n",
       "      <td>0.0</td>\n",
       "      <td>0.0</td>\n",
       "      <td>0.0</td>\n",
       "      <td>0.0</td>\n",
       "      <td>0.0</td>\n",
       "      <td>0.0</td>\n",
       "      <td>0.0</td>\n",
       "      <td>0.0</td>\n",
       "      <td>0.0</td>\n",
       "      <td>0.0</td>\n",
       "      <td>0.0</td>\n",
       "      <td>0.0</td>\n",
       "      <td>0.0</td>\n",
       "      <td>0.0</td>\n",
       "      <td>2016</td>\n",
       "      <td>2700</td>\n",
       "      <td>-0.046</td>\n",
       "      <td>우타우투</td>\n",
       "      <td>포수</td>\n",
       "      <td>0.0</td>\n",
       "      <td>0.000</td>\n",
       "      <td>0.000</td>\n",
       "      <td>0.000</td>\n",
       "      <td>0.000</td>\n",
       "      <td>0.0</td>\n",
       "      <td>NaN</td>\n",
       "    </tr>\n",
       "    <tr>\n",
       "      <th>1437</th>\n",
       "      <td>이승재</td>\n",
       "      <td>23.0</td>\n",
       "      <td>38.0</td>\n",
       "      <td>36.0</td>\n",
       "      <td>34.0</td>\n",
       "      <td>2.0</td>\n",
       "      <td>6.0</td>\n",
       "      <td>4.0</td>\n",
       "      <td>2.0</td>\n",
       "      <td>0.0</td>\n",
       "      <td>0.0</td>\n",
       "      <td>8.0</td>\n",
       "      <td>2.0</td>\n",
       "      <td>0.0</td>\n",
       "      <td>0.0</td>\n",
       "      <td>1.0</td>\n",
       "      <td>0.0</td>\n",
       "      <td>0.0</td>\n",
       "      <td>7.0</td>\n",
       "      <td>2.0</td>\n",
       "      <td>0.0</td>\n",
       "      <td>1.0</td>\n",
       "      <td>2006</td>\n",
       "      <td>2400</td>\n",
       "      <td>-0.132</td>\n",
       "      <td>우투우타</td>\n",
       "      <td>포수</td>\n",
       "      <td>1.0</td>\n",
       "      <td>0.176</td>\n",
       "      <td>0.194</td>\n",
       "      <td>0.235</td>\n",
       "      <td>0.429</td>\n",
       "      <td>0.0</td>\n",
       "      <td>NaN</td>\n",
       "    </tr>\n",
       "    <tr>\n",
       "      <th>1473</th>\n",
       "      <td>박계원</td>\n",
       "      <td>31.0</td>\n",
       "      <td>48.0</td>\n",
       "      <td>22.0</td>\n",
       "      <td>20.0</td>\n",
       "      <td>15.0</td>\n",
       "      <td>5.0</td>\n",
       "      <td>4.0</td>\n",
       "      <td>1.0</td>\n",
       "      <td>0.0</td>\n",
       "      <td>0.0</td>\n",
       "      <td>6.0</td>\n",
       "      <td>2.0</td>\n",
       "      <td>7.0</td>\n",
       "      <td>2.0</td>\n",
       "      <td>2.0</td>\n",
       "      <td>0.0</td>\n",
       "      <td>0.0</td>\n",
       "      <td>7.0</td>\n",
       "      <td>1.0</td>\n",
       "      <td>0.0</td>\n",
       "      <td>0.0</td>\n",
       "      <td>2001</td>\n",
       "      <td>4500</td>\n",
       "      <td>0.091</td>\n",
       "      <td>우투우타</td>\n",
       "      <td>내야수</td>\n",
       "      <td>2.0</td>\n",
       "      <td>0.250</td>\n",
       "      <td>0.318</td>\n",
       "      <td>0.300</td>\n",
       "      <td>0.618</td>\n",
       "      <td>0.0</td>\n",
       "      <td>NaN</td>\n",
       "    </tr>\n",
       "    <tr>\n",
       "      <th>1489</th>\n",
       "      <td>서한규</td>\n",
       "      <td>25.0</td>\n",
       "      <td>23.0</td>\n",
       "      <td>21.0</td>\n",
       "      <td>19.0</td>\n",
       "      <td>4.0</td>\n",
       "      <td>4.0</td>\n",
       "      <td>3.0</td>\n",
       "      <td>0.0</td>\n",
       "      <td>1.0</td>\n",
       "      <td>0.0</td>\n",
       "      <td>6.0</td>\n",
       "      <td>2.0</td>\n",
       "      <td>1.0</td>\n",
       "      <td>0.0</td>\n",
       "      <td>1.0</td>\n",
       "      <td>1.0</td>\n",
       "      <td>0.0</td>\n",
       "      <td>6.0</td>\n",
       "      <td>0.0</td>\n",
       "      <td>0.0</td>\n",
       "      <td>0.0</td>\n",
       "      <td>1998</td>\n",
       "      <td>2400</td>\n",
       "      <td>0.057</td>\n",
       "      <td>우투우타</td>\n",
       "      <td>내야수</td>\n",
       "      <td>2.0</td>\n",
       "      <td>0.211</td>\n",
       "      <td>0.286</td>\n",
       "      <td>0.316</td>\n",
       "      <td>0.602</td>\n",
       "      <td>0.0</td>\n",
       "      <td>NaN</td>\n",
       "    </tr>\n",
       "    <tr>\n",
       "      <th>1649</th>\n",
       "      <td>김성현</td>\n",
       "      <td>19.0</td>\n",
       "      <td>5.0</td>\n",
       "      <td>1.0</td>\n",
       "      <td>1.0</td>\n",
       "      <td>2.0</td>\n",
       "      <td>1.0</td>\n",
       "      <td>1.0</td>\n",
       "      <td>0.0</td>\n",
       "      <td>0.0</td>\n",
       "      <td>0.0</td>\n",
       "      <td>1.0</td>\n",
       "      <td>0.0</td>\n",
       "      <td>0.0</td>\n",
       "      <td>0.0</td>\n",
       "      <td>0.0</td>\n",
       "      <td>0.0</td>\n",
       "      <td>0.0</td>\n",
       "      <td>0.0</td>\n",
       "      <td>0.0</td>\n",
       "      <td>0.0</td>\n",
       "      <td>0.0</td>\n",
       "      <td>2006</td>\n",
       "      <td>2400</td>\n",
       "      <td>0.059</td>\n",
       "      <td>우투우타</td>\n",
       "      <td>내야수</td>\n",
       "      <td>0.0</td>\n",
       "      <td>1.000</td>\n",
       "      <td>1.000</td>\n",
       "      <td>1.000</td>\n",
       "      <td>2.000</td>\n",
       "      <td>0.0</td>\n",
       "      <td>NaN</td>\n",
       "    </tr>\n",
       "    <tr>\n",
       "      <th>1793</th>\n",
       "      <td>홍재호</td>\n",
       "      <td>29.0</td>\n",
       "      <td>22.0</td>\n",
       "      <td>16.0</td>\n",
       "      <td>13.0</td>\n",
       "      <td>4.0</td>\n",
       "      <td>1.0</td>\n",
       "      <td>1.0</td>\n",
       "      <td>0.0</td>\n",
       "      <td>0.0</td>\n",
       "      <td>0.0</td>\n",
       "      <td>1.0</td>\n",
       "      <td>1.0</td>\n",
       "      <td>0.0</td>\n",
       "      <td>0.0</td>\n",
       "      <td>2.0</td>\n",
       "      <td>0.0</td>\n",
       "      <td>0.0</td>\n",
       "      <td>3.0</td>\n",
       "      <td>0.0</td>\n",
       "      <td>0.0</td>\n",
       "      <td>1.0</td>\n",
       "      <td>2016</td>\n",
       "      <td>3400</td>\n",
       "      <td>-0.140</td>\n",
       "      <td>우투우타</td>\n",
       "      <td>내야수</td>\n",
       "      <td>2.0</td>\n",
       "      <td>0.077</td>\n",
       "      <td>0.188</td>\n",
       "      <td>0.077</td>\n",
       "      <td>0.265</td>\n",
       "      <td>0.0</td>\n",
       "      <td>NaN</td>\n",
       "    </tr>\n",
       "  </tbody>\n",
       "</table>\n",
       "</div>"
      ],
      "text/plain": [
       "     batter_name   age     G    PA    AB     R     H    1B   2B   3B   HR  \\\n",
       "188          전민재  19.0  12.0   8.0   8.0   2.0   3.0   2.0  1.0  0.0  0.0   \n",
       "607          최윤석  30.0  21.0  33.0  32.0   3.0   7.0   7.0  0.0  0.0  0.0   \n",
       "691          양원혁  27.0   7.0   6.0   5.0   3.0   2.0   2.0  0.0  0.0  0.0   \n",
       "715          양종민  22.0   2.0   4.0   4.0   0.0   1.0   1.0  0.0  0.0  0.0   \n",
       "878          이준수  25.0  47.0  74.0  65.0   6.0  13.0  10.0  3.0  0.0  0.0   \n",
       "979          박계범  19.0   3.0   0.0   0.0   0.0   0.0   0.0  0.0  0.0  0.0   \n",
       "1042         지성준  21.0   9.0  12.0  12.0   1.0   3.0   2.0  1.0  0.0  0.0   \n",
       "1183         백승룡  30.0  33.0  62.0  52.0   3.0  12.0  11.0  1.0  0.0  0.0   \n",
       "1316         황진수  23.0  28.0  20.0  18.0   2.0   2.0   1.0  1.0  0.0  0.0   \n",
       "1420         강동관  20.0   2.0   2.0   2.0   0.0   0.0   0.0  0.0  0.0  0.0   \n",
       "1437         이승재  23.0  38.0  36.0  34.0   2.0   6.0   4.0  2.0  0.0  0.0   \n",
       "1473         박계원  31.0  48.0  22.0  20.0  15.0   5.0   4.0  1.0  0.0  0.0   \n",
       "1489         서한규  25.0  23.0  21.0  19.0   4.0   4.0   3.0  0.0  1.0  0.0   \n",
       "1649         김성현  19.0   5.0   1.0   1.0   2.0   1.0   1.0  0.0  0.0  0.0   \n",
       "1793         홍재호  29.0  22.0  16.0  13.0   4.0   1.0   1.0  0.0  0.0  0.0   \n",
       "\n",
       "        TB  RBI   SB   CS   BB  HBP   GB    SO  GDP   BU  fly  year  salary  \\\n",
       "188    4.0  3.0  0.0  0.0  0.0  0.0  0.0   2.0  1.0  0.0  0.0  2018    2700   \n",
       "607    7.0  2.0  0.0  0.0  0.0  0.0  0.0   6.0  0.0  1.0  0.0  2017    5200   \n",
       "691    2.0  0.0  0.0  0.0  1.0  0.0  0.0   0.0  0.0  0.0  0.0  2018    2900   \n",
       "715    1.0  1.0  1.0  0.0  0.0  0.0  0.0   1.0  0.0  0.0  0.0  2012    3200   \n",
       "878   16.0  6.0  0.0  0.0  3.0  3.0  0.0  21.0  0.0  2.0  1.0  2013    3400   \n",
       "979    0.0  0.0  0.0  0.0  0.0  0.0  0.0   0.0  0.0  0.0  0.0  2015    2700   \n",
       "1042   4.0  0.0  0.0  0.0  0.0  0.0  0.0   5.0  0.0  0.0  0.0  2015    2700   \n",
       "1183  13.0  3.0  3.0  0.0  6.0  3.0  0.0  20.0  0.0  1.0  0.0  2012    3000   \n",
       "1316   3.0  0.0  2.0  0.0  1.0  0.0  0.0   9.0  1.0  1.0  0.0  2012    2400   \n",
       "1420   0.0  0.0  0.0  0.0  0.0  0.0  0.0   0.0  0.0  0.0  0.0  2016    2700   \n",
       "1437   8.0  2.0  0.0  0.0  1.0  0.0  0.0   7.0  2.0  0.0  1.0  2006    2400   \n",
       "1473   6.0  2.0  7.0  2.0  2.0  0.0  0.0   7.0  1.0  0.0  0.0  2001    4500   \n",
       "1489   6.0  2.0  1.0  0.0  1.0  1.0  0.0   6.0  0.0  0.0  0.0  1998    2400   \n",
       "1649   1.0  0.0  0.0  0.0  0.0  0.0  0.0   0.0  0.0  0.0  0.0  2006    2400   \n",
       "1793   1.0  1.0  0.0  0.0  2.0  0.0  0.0   3.0  0.0  0.0  1.0  2016    3400   \n",
       "\n",
       "        war hand2   tp  FBP    avg    OBP    SLG    OPS  YAB  YOPS  \n",
       "188   0.047  우투우타  내야수  0.0  0.375  0.375  0.500  0.875  0.0   NaN  \n",
       "607  -0.343  우투우타  내야수  0.0  0.219  0.219  0.219  0.438  0.0   NaN  \n",
       "691   0.096  좌타우투  내야수  1.0  0.400  0.500  0.400  0.900  0.0   NaN  \n",
       "715   0.018  우투양타  내야수  0.0  0.250  0.250  0.250  0.500  0.0   NaN  \n",
       "878  -0.081  우투우타   포수  6.0  0.200  0.264  0.246  0.510  0.0   NaN  \n",
       "979   0.016  우타우투  내야수  0.0    NaN    NaN    NaN    NaN  0.0   NaN  \n",
       "1042 -0.059  우타우투   포수  0.0  0.250  0.250  0.333  0.583  0.0   NaN  \n",
       "1183  0.253  우투우타  내야수  9.0  0.231  0.344  0.250  0.594  0.0   NaN  \n",
       "1316 -0.117  우투양타  내야수  1.0  0.111  0.158  0.167  0.325  0.0   NaN  \n",
       "1420 -0.046  우타우투   포수  0.0  0.000  0.000  0.000  0.000  0.0   NaN  \n",
       "1437 -0.132  우투우타   포수  1.0  0.176  0.194  0.235  0.429  0.0   NaN  \n",
       "1473  0.091  우투우타  내야수  2.0  0.250  0.318  0.300  0.618  0.0   NaN  \n",
       "1489  0.057  우투우타  내야수  2.0  0.211  0.286  0.316  0.602  0.0   NaN  \n",
       "1649  0.059  우투우타  내야수  0.0  1.000  1.000  1.000  2.000  0.0   NaN  \n",
       "1793 -0.140  우투우타  내야수  2.0  0.077  0.188  0.077  0.265  0.0   NaN  "
      ]
     },
     "execution_count": 20,
     "metadata": {},
     "output_type": "execute_result"
    }
   ],
   "source": [
    "regular_y[regular_y.isnull()['YOPS']]"
   ]
  },
  {
   "cell_type": "code",
   "execution_count": 21,
   "metadata": {
    "ExecuteTime": {
     "end_time": "2019-12-04T02:59:14.731392Z",
     "start_time": "2019-12-04T02:59:14.707382Z"
    }
   },
   "outputs": [
    {
     "data": {
      "text/html": [
       "<div>\n",
       "<style scoped>\n",
       "    .dataframe tbody tr th:only-of-type {\n",
       "        vertical-align: middle;\n",
       "    }\n",
       "\n",
       "    .dataframe tbody tr th {\n",
       "        vertical-align: top;\n",
       "    }\n",
       "\n",
       "    .dataframe thead th {\n",
       "        text-align: right;\n",
       "    }\n",
       "</style>\n",
       "<table border=\"1\" class=\"dataframe\">\n",
       "  <thead>\n",
       "    <tr style=\"text-align: right;\">\n",
       "      <th></th>\n",
       "      <th>batter_name</th>\n",
       "      <th>age</th>\n",
       "      <th>G</th>\n",
       "      <th>PA</th>\n",
       "      <th>AB</th>\n",
       "      <th>R</th>\n",
       "      <th>H</th>\n",
       "      <th>1B</th>\n",
       "      <th>2B</th>\n",
       "      <th>3B</th>\n",
       "      <th>HR</th>\n",
       "      <th>TB</th>\n",
       "      <th>RBI</th>\n",
       "      <th>SB</th>\n",
       "      <th>CS</th>\n",
       "      <th>BB</th>\n",
       "      <th>HBP</th>\n",
       "      <th>GB</th>\n",
       "      <th>SO</th>\n",
       "      <th>GDP</th>\n",
       "      <th>BU</th>\n",
       "      <th>fly</th>\n",
       "      <th>year</th>\n",
       "      <th>salary</th>\n",
       "      <th>war</th>\n",
       "      <th>hand2</th>\n",
       "      <th>tp</th>\n",
       "      <th>FBP</th>\n",
       "      <th>avg</th>\n",
       "      <th>OBP</th>\n",
       "      <th>SLG</th>\n",
       "      <th>OPS</th>\n",
       "      <th>YAB</th>\n",
       "      <th>YOPS</th>\n",
       "    </tr>\n",
       "  </thead>\n",
       "  <tbody>\n",
       "    <tr>\n",
       "      <th>603</th>\n",
       "      <td>최윤석</td>\n",
       "      <td>23.0</td>\n",
       "      <td>47.0</td>\n",
       "      <td>93.0</td>\n",
       "      <td>76.0</td>\n",
       "      <td>13.0</td>\n",
       "      <td>7.0</td>\n",
       "      <td>5.0</td>\n",
       "      <td>2.0</td>\n",
       "      <td>0.0</td>\n",
       "      <td>0.0</td>\n",
       "      <td>9.0</td>\n",
       "      <td>2.0</td>\n",
       "      <td>7.0</td>\n",
       "      <td>1.0</td>\n",
       "      <td>8.0</td>\n",
       "      <td>1.0</td>\n",
       "      <td>0.0</td>\n",
       "      <td>19.0</td>\n",
       "      <td>1.0</td>\n",
       "      <td>7.0</td>\n",
       "      <td>1.0</td>\n",
       "      <td>2010</td>\n",
       "      <td>2400</td>\n",
       "      <td>-0.777</td>\n",
       "      <td>우투우타</td>\n",
       "      <td>내야수</td>\n",
       "      <td>9.0</td>\n",
       "      <td>0.092</td>\n",
       "      <td>0.186</td>\n",
       "      <td>0.118</td>\n",
       "      <td>0.304</td>\n",
       "      <td>156.0</td>\n",
       "      <td>0.696</td>\n",
       "    </tr>\n",
       "    <tr>\n",
       "      <th>604</th>\n",
       "      <td>최윤석</td>\n",
       "      <td>24.0</td>\n",
       "      <td>82.0</td>\n",
       "      <td>209.0</td>\n",
       "      <td>156.0</td>\n",
       "      <td>21.0</td>\n",
       "      <td>38.0</td>\n",
       "      <td>32.0</td>\n",
       "      <td>4.0</td>\n",
       "      <td>1.0</td>\n",
       "      <td>1.0</td>\n",
       "      <td>47.0</td>\n",
       "      <td>9.0</td>\n",
       "      <td>4.0</td>\n",
       "      <td>4.0</td>\n",
       "      <td>32.0</td>\n",
       "      <td>7.0</td>\n",
       "      <td>0.0</td>\n",
       "      <td>38.0</td>\n",
       "      <td>2.0</td>\n",
       "      <td>14.0</td>\n",
       "      <td>0.0</td>\n",
       "      <td>2011</td>\n",
       "      <td>3200</td>\n",
       "      <td>1.066</td>\n",
       "      <td>우투우타</td>\n",
       "      <td>내야수</td>\n",
       "      <td>39.0</td>\n",
       "      <td>0.244</td>\n",
       "      <td>0.395</td>\n",
       "      <td>0.301</td>\n",
       "      <td>0.696</td>\n",
       "      <td>170.0</td>\n",
       "      <td>0.612</td>\n",
       "    </tr>\n",
       "    <tr>\n",
       "      <th>605</th>\n",
       "      <td>최윤석</td>\n",
       "      <td>25.0</td>\n",
       "      <td>109.0</td>\n",
       "      <td>213.0</td>\n",
       "      <td>170.0</td>\n",
       "      <td>17.0</td>\n",
       "      <td>39.0</td>\n",
       "      <td>37.0</td>\n",
       "      <td>1.0</td>\n",
       "      <td>0.0</td>\n",
       "      <td>1.0</td>\n",
       "      <td>43.0</td>\n",
       "      <td>15.0</td>\n",
       "      <td>6.0</td>\n",
       "      <td>5.0</td>\n",
       "      <td>33.0</td>\n",
       "      <td>2.0</td>\n",
       "      <td>0.0</td>\n",
       "      <td>36.0</td>\n",
       "      <td>4.0</td>\n",
       "      <td>7.0</td>\n",
       "      <td>1.0</td>\n",
       "      <td>2012</td>\n",
       "      <td>5000</td>\n",
       "      <td>0.763</td>\n",
       "      <td>우투우타</td>\n",
       "      <td>내야수</td>\n",
       "      <td>35.0</td>\n",
       "      <td>0.229</td>\n",
       "      <td>0.359</td>\n",
       "      <td>0.253</td>\n",
       "      <td>0.612</td>\n",
       "      <td>67.0</td>\n",
       "      <td>0.595</td>\n",
       "    </tr>\n",
       "    <tr>\n",
       "      <th>606</th>\n",
       "      <td>최윤석</td>\n",
       "      <td>29.0</td>\n",
       "      <td>11.0</td>\n",
       "      <td>17.0</td>\n",
       "      <td>16.0</td>\n",
       "      <td>2.0</td>\n",
       "      <td>2.0</td>\n",
       "      <td>2.0</td>\n",
       "      <td>0.0</td>\n",
       "      <td>0.0</td>\n",
       "      <td>0.0</td>\n",
       "      <td>2.0</td>\n",
       "      <td>0.0</td>\n",
       "      <td>0.0</td>\n",
       "      <td>0.0</td>\n",
       "      <td>1.0</td>\n",
       "      <td>0.0</td>\n",
       "      <td>0.0</td>\n",
       "      <td>4.0</td>\n",
       "      <td>0.0</td>\n",
       "      <td>0.0</td>\n",
       "      <td>0.0</td>\n",
       "      <td>2016</td>\n",
       "      <td>5700</td>\n",
       "      <td>-0.423</td>\n",
       "      <td>우투우타</td>\n",
       "      <td>내야수</td>\n",
       "      <td>1.0</td>\n",
       "      <td>0.125</td>\n",
       "      <td>0.176</td>\n",
       "      <td>0.125</td>\n",
       "      <td>0.301</td>\n",
       "      <td>32.0</td>\n",
       "      <td>0.438</td>\n",
       "    </tr>\n",
       "    <tr>\n",
       "      <th>607</th>\n",
       "      <td>최윤석</td>\n",
       "      <td>30.0</td>\n",
       "      <td>21.0</td>\n",
       "      <td>33.0</td>\n",
       "      <td>32.0</td>\n",
       "      <td>3.0</td>\n",
       "      <td>7.0</td>\n",
       "      <td>7.0</td>\n",
       "      <td>0.0</td>\n",
       "      <td>0.0</td>\n",
       "      <td>0.0</td>\n",
       "      <td>7.0</td>\n",
       "      <td>2.0</td>\n",
       "      <td>0.0</td>\n",
       "      <td>0.0</td>\n",
       "      <td>0.0</td>\n",
       "      <td>0.0</td>\n",
       "      <td>0.0</td>\n",
       "      <td>6.0</td>\n",
       "      <td>0.0</td>\n",
       "      <td>1.0</td>\n",
       "      <td>0.0</td>\n",
       "      <td>2017</td>\n",
       "      <td>5200</td>\n",
       "      <td>-0.343</td>\n",
       "      <td>우투우타</td>\n",
       "      <td>내야수</td>\n",
       "      <td>0.0</td>\n",
       "      <td>0.219</td>\n",
       "      <td>0.219</td>\n",
       "      <td>0.219</td>\n",
       "      <td>0.438</td>\n",
       "      <td>0.0</td>\n",
       "      <td>NaN</td>\n",
       "    </tr>\n",
       "    <tr>\n",
       "      <th>608</th>\n",
       "      <td>최윤석</td>\n",
       "      <td>31.0</td>\n",
       "      <td>2.0</td>\n",
       "      <td>2.0</td>\n",
       "      <td>0.0</td>\n",
       "      <td>1.0</td>\n",
       "      <td>0.0</td>\n",
       "      <td>0.0</td>\n",
       "      <td>0.0</td>\n",
       "      <td>0.0</td>\n",
       "      <td>0.0</td>\n",
       "      <td>0.0</td>\n",
       "      <td>0.0</td>\n",
       "      <td>0.0</td>\n",
       "      <td>0.0</td>\n",
       "      <td>2.0</td>\n",
       "      <td>0.0</td>\n",
       "      <td>0.0</td>\n",
       "      <td>0.0</td>\n",
       "      <td>0.0</td>\n",
       "      <td>0.0</td>\n",
       "      <td>0.0</td>\n",
       "      <td>2018</td>\n",
       "      <td>4800</td>\n",
       "      <td>0.003</td>\n",
       "      <td>우투우타</td>\n",
       "      <td>내야수</td>\n",
       "      <td>2.0</td>\n",
       "      <td>NaN</td>\n",
       "      <td>1.000</td>\n",
       "      <td>NaN</td>\n",
       "      <td>NaN</td>\n",
       "      <td>12.0</td>\n",
       "      <td>0.650</td>\n",
       "    </tr>\n",
       "  </tbody>\n",
       "</table>\n",
       "</div>"
      ],
      "text/plain": [
       "    batter_name   age      G     PA     AB     R     H    1B   2B   3B   HR  \\\n",
       "603         최윤석  23.0   47.0   93.0   76.0  13.0   7.0   5.0  2.0  0.0  0.0   \n",
       "604         최윤석  24.0   82.0  209.0  156.0  21.0  38.0  32.0  4.0  1.0  1.0   \n",
       "605         최윤석  25.0  109.0  213.0  170.0  17.0  39.0  37.0  1.0  0.0  1.0   \n",
       "606         최윤석  29.0   11.0   17.0   16.0   2.0   2.0   2.0  0.0  0.0  0.0   \n",
       "607         최윤석  30.0   21.0   33.0   32.0   3.0   7.0   7.0  0.0  0.0  0.0   \n",
       "608         최윤석  31.0    2.0    2.0    0.0   1.0   0.0   0.0  0.0  0.0  0.0   \n",
       "\n",
       "       TB   RBI   SB   CS    BB  HBP   GB    SO  GDP    BU  fly  year  salary  \\\n",
       "603   9.0   2.0  7.0  1.0   8.0  1.0  0.0  19.0  1.0   7.0  1.0  2010    2400   \n",
       "604  47.0   9.0  4.0  4.0  32.0  7.0  0.0  38.0  2.0  14.0  0.0  2011    3200   \n",
       "605  43.0  15.0  6.0  5.0  33.0  2.0  0.0  36.0  4.0   7.0  1.0  2012    5000   \n",
       "606   2.0   0.0  0.0  0.0   1.0  0.0  0.0   4.0  0.0   0.0  0.0  2016    5700   \n",
       "607   7.0   2.0  0.0  0.0   0.0  0.0  0.0   6.0  0.0   1.0  0.0  2017    5200   \n",
       "608   0.0   0.0  0.0  0.0   2.0  0.0  0.0   0.0  0.0   0.0  0.0  2018    4800   \n",
       "\n",
       "       war hand2   tp   FBP    avg    OBP    SLG    OPS    YAB   YOPS  \n",
       "603 -0.777  우투우타  내야수   9.0  0.092  0.186  0.118  0.304  156.0  0.696  \n",
       "604  1.066  우투우타  내야수  39.0  0.244  0.395  0.301  0.696  170.0  0.612  \n",
       "605  0.763  우투우타  내야수  35.0  0.229  0.359  0.253  0.612   67.0  0.595  \n",
       "606 -0.423  우투우타  내야수   1.0  0.125  0.176  0.125  0.301   32.0  0.438  \n",
       "607 -0.343  우투우타  내야수   0.0  0.219  0.219  0.219  0.438    0.0    NaN  \n",
       "608  0.003  우투우타  내야수   2.0    NaN  1.000    NaN    NaN   12.0  0.650  "
      ]
     },
     "execution_count": 21,
     "metadata": {},
     "output_type": "execute_result"
    }
   ],
   "source": [
    "regular_y[regular_y['batter_name']=='최윤석']"
   ]
  },
  {
   "cell_type": "code",
   "execution_count": 22,
   "metadata": {
    "ExecuteTime": {
     "end_time": "2019-12-04T02:59:14.768381Z",
     "start_time": "2019-12-04T02:59:14.734381Z"
    }
   },
   "outputs": [
    {
     "data": {
      "text/html": [
       "<div>\n",
       "<style scoped>\n",
       "    .dataframe tbody tr th:only-of-type {\n",
       "        vertical-align: middle;\n",
       "    }\n",
       "\n",
       "    .dataframe tbody tr th {\n",
       "        vertical-align: top;\n",
       "    }\n",
       "\n",
       "    .dataframe thead th {\n",
       "        text-align: right;\n",
       "    }\n",
       "</style>\n",
       "<table border=\"1\" class=\"dataframe\">\n",
       "  <thead>\n",
       "    <tr style=\"text-align: right;\">\n",
       "      <th></th>\n",
       "      <th>batter_name</th>\n",
       "      <th>age</th>\n",
       "      <th>G</th>\n",
       "      <th>PA</th>\n",
       "      <th>AB</th>\n",
       "      <th>R</th>\n",
       "      <th>H</th>\n",
       "      <th>1B</th>\n",
       "      <th>2B</th>\n",
       "      <th>3B</th>\n",
       "      <th>HR</th>\n",
       "      <th>TB</th>\n",
       "      <th>RBI</th>\n",
       "      <th>SB</th>\n",
       "      <th>CS</th>\n",
       "      <th>BB</th>\n",
       "      <th>HBP</th>\n",
       "      <th>GB</th>\n",
       "      <th>SO</th>\n",
       "      <th>GDP</th>\n",
       "      <th>BU</th>\n",
       "      <th>fly</th>\n",
       "      <th>year</th>\n",
       "      <th>salary</th>\n",
       "      <th>war</th>\n",
       "      <th>hand2</th>\n",
       "      <th>tp</th>\n",
       "      <th>FBP</th>\n",
       "      <th>avg</th>\n",
       "      <th>OBP</th>\n",
       "      <th>SLG</th>\n",
       "      <th>OPS</th>\n",
       "      <th>YAB</th>\n",
       "      <th>YOPS</th>\n",
       "    </tr>\n",
       "  </thead>\n",
       "  <tbody>\n",
       "    <tr>\n",
       "      <th>712</th>\n",
       "      <td>양종민</td>\n",
       "      <td>19.0</td>\n",
       "      <td>6.0</td>\n",
       "      <td>1.0</td>\n",
       "      <td>1.0</td>\n",
       "      <td>0.0</td>\n",
       "      <td>0.0</td>\n",
       "      <td>0.0</td>\n",
       "      <td>0.0</td>\n",
       "      <td>0.0</td>\n",
       "      <td>0.0</td>\n",
       "      <td>0.0</td>\n",
       "      <td>0.0</td>\n",
       "      <td>0.0</td>\n",
       "      <td>0.0</td>\n",
       "      <td>0.0</td>\n",
       "      <td>0.0</td>\n",
       "      <td>0.0</td>\n",
       "      <td>1.0</td>\n",
       "      <td>0.0</td>\n",
       "      <td>0.0</td>\n",
       "      <td>0.0</td>\n",
       "      <td>2009</td>\n",
       "      <td>2400</td>\n",
       "      <td>0.006</td>\n",
       "      <td>우투양타</td>\n",
       "      <td>내야수</td>\n",
       "      <td>0.0</td>\n",
       "      <td>0.000</td>\n",
       "      <td>0.000</td>\n",
       "      <td>0.000</td>\n",
       "      <td>0.000</td>\n",
       "      <td>9.0</td>\n",
       "      <td>0.422</td>\n",
       "    </tr>\n",
       "    <tr>\n",
       "      <th>713</th>\n",
       "      <td>양종민</td>\n",
       "      <td>20.0</td>\n",
       "      <td>7.0</td>\n",
       "      <td>10.0</td>\n",
       "      <td>9.0</td>\n",
       "      <td>0.0</td>\n",
       "      <td>1.0</td>\n",
       "      <td>0.0</td>\n",
       "      <td>1.0</td>\n",
       "      <td>0.0</td>\n",
       "      <td>0.0</td>\n",
       "      <td>2.0</td>\n",
       "      <td>3.0</td>\n",
       "      <td>0.0</td>\n",
       "      <td>0.0</td>\n",
       "      <td>1.0</td>\n",
       "      <td>0.0</td>\n",
       "      <td>0.0</td>\n",
       "      <td>3.0</td>\n",
       "      <td>0.0</td>\n",
       "      <td>0.0</td>\n",
       "      <td>0.0</td>\n",
       "      <td>2010</td>\n",
       "      <td>2400</td>\n",
       "      <td>-0.052</td>\n",
       "      <td>우투양타</td>\n",
       "      <td>내야수</td>\n",
       "      <td>1.0</td>\n",
       "      <td>0.111</td>\n",
       "      <td>0.200</td>\n",
       "      <td>0.222</td>\n",
       "      <td>0.422</td>\n",
       "      <td>55.0</td>\n",
       "      <td>0.573</td>\n",
       "    </tr>\n",
       "    <tr>\n",
       "      <th>714</th>\n",
       "      <td>양종민</td>\n",
       "      <td>21.0</td>\n",
       "      <td>58.0</td>\n",
       "      <td>64.0</td>\n",
       "      <td>55.0</td>\n",
       "      <td>11.0</td>\n",
       "      <td>13.0</td>\n",
       "      <td>11.0</td>\n",
       "      <td>2.0</td>\n",
       "      <td>0.0</td>\n",
       "      <td>0.0</td>\n",
       "      <td>15.0</td>\n",
       "      <td>5.0</td>\n",
       "      <td>0.0</td>\n",
       "      <td>3.0</td>\n",
       "      <td>5.0</td>\n",
       "      <td>0.0</td>\n",
       "      <td>0.0</td>\n",
       "      <td>21.0</td>\n",
       "      <td>1.0</td>\n",
       "      <td>4.0</td>\n",
       "      <td>0.0</td>\n",
       "      <td>2011</td>\n",
       "      <td>2500</td>\n",
       "      <td>-0.105</td>\n",
       "      <td>우투양타</td>\n",
       "      <td>내야수</td>\n",
       "      <td>5.0</td>\n",
       "      <td>0.236</td>\n",
       "      <td>0.300</td>\n",
       "      <td>0.273</td>\n",
       "      <td>0.573</td>\n",
       "      <td>4.0</td>\n",
       "      <td>0.500</td>\n",
       "    </tr>\n",
       "    <tr>\n",
       "      <th>715</th>\n",
       "      <td>양종민</td>\n",
       "      <td>22.0</td>\n",
       "      <td>2.0</td>\n",
       "      <td>4.0</td>\n",
       "      <td>4.0</td>\n",
       "      <td>0.0</td>\n",
       "      <td>1.0</td>\n",
       "      <td>1.0</td>\n",
       "      <td>0.0</td>\n",
       "      <td>0.0</td>\n",
       "      <td>0.0</td>\n",
       "      <td>1.0</td>\n",
       "      <td>1.0</td>\n",
       "      <td>1.0</td>\n",
       "      <td>0.0</td>\n",
       "      <td>0.0</td>\n",
       "      <td>0.0</td>\n",
       "      <td>0.0</td>\n",
       "      <td>1.0</td>\n",
       "      <td>0.0</td>\n",
       "      <td>0.0</td>\n",
       "      <td>0.0</td>\n",
       "      <td>2012</td>\n",
       "      <td>3200</td>\n",
       "      <td>0.018</td>\n",
       "      <td>우투양타</td>\n",
       "      <td>내야수</td>\n",
       "      <td>0.0</td>\n",
       "      <td>0.250</td>\n",
       "      <td>0.250</td>\n",
       "      <td>0.250</td>\n",
       "      <td>0.500</td>\n",
       "      <td>0.0</td>\n",
       "      <td>NaN</td>\n",
       "    </tr>\n",
       "    <tr>\n",
       "      <th>716</th>\n",
       "      <td>양종민</td>\n",
       "      <td>23.0</td>\n",
       "      <td>1.0</td>\n",
       "      <td>0.0</td>\n",
       "      <td>0.0</td>\n",
       "      <td>1.0</td>\n",
       "      <td>0.0</td>\n",
       "      <td>0.0</td>\n",
       "      <td>0.0</td>\n",
       "      <td>0.0</td>\n",
       "      <td>0.0</td>\n",
       "      <td>0.0</td>\n",
       "      <td>0.0</td>\n",
       "      <td>0.0</td>\n",
       "      <td>0.0</td>\n",
       "      <td>0.0</td>\n",
       "      <td>0.0</td>\n",
       "      <td>0.0</td>\n",
       "      <td>0.0</td>\n",
       "      <td>0.0</td>\n",
       "      <td>0.0</td>\n",
       "      <td>0.0</td>\n",
       "      <td>2013</td>\n",
       "      <td>2700</td>\n",
       "      <td>0.000</td>\n",
       "      <td>우투양타</td>\n",
       "      <td>내야수</td>\n",
       "      <td>0.0</td>\n",
       "      <td>NaN</td>\n",
       "      <td>NaN</td>\n",
       "      <td>NaN</td>\n",
       "      <td>NaN</td>\n",
       "      <td>4.0</td>\n",
       "      <td>0.000</td>\n",
       "    </tr>\n",
       "    <tr>\n",
       "      <th>717</th>\n",
       "      <td>양종민</td>\n",
       "      <td>24.0</td>\n",
       "      <td>5.0</td>\n",
       "      <td>4.0</td>\n",
       "      <td>4.0</td>\n",
       "      <td>0.0</td>\n",
       "      <td>0.0</td>\n",
       "      <td>0.0</td>\n",
       "      <td>0.0</td>\n",
       "      <td>0.0</td>\n",
       "      <td>0.0</td>\n",
       "      <td>0.0</td>\n",
       "      <td>0.0</td>\n",
       "      <td>0.0</td>\n",
       "      <td>0.0</td>\n",
       "      <td>0.0</td>\n",
       "      <td>0.0</td>\n",
       "      <td>0.0</td>\n",
       "      <td>2.0</td>\n",
       "      <td>0.0</td>\n",
       "      <td>0.0</td>\n",
       "      <td>0.0</td>\n",
       "      <td>2014</td>\n",
       "      <td>2900</td>\n",
       "      <td>-0.077</td>\n",
       "      <td>우투양타</td>\n",
       "      <td>내야수</td>\n",
       "      <td>0.0</td>\n",
       "      <td>0.000</td>\n",
       "      <td>0.000</td>\n",
       "      <td>0.000</td>\n",
       "      <td>0.000</td>\n",
       "      <td>16.0</td>\n",
       "      <td>0.534</td>\n",
       "    </tr>\n",
       "    <tr>\n",
       "      <th>718</th>\n",
       "      <td>양종민</td>\n",
       "      <td>28.0</td>\n",
       "      <td>21.0</td>\n",
       "      <td>15.0</td>\n",
       "      <td>14.0</td>\n",
       "      <td>5.0</td>\n",
       "      <td>4.0</td>\n",
       "      <td>3.0</td>\n",
       "      <td>0.0</td>\n",
       "      <td>1.0</td>\n",
       "      <td>0.0</td>\n",
       "      <td>6.0</td>\n",
       "      <td>1.0</td>\n",
       "      <td>0.0</td>\n",
       "      <td>0.0</td>\n",
       "      <td>1.0</td>\n",
       "      <td>0.0</td>\n",
       "      <td>0.0</td>\n",
       "      <td>5.0</td>\n",
       "      <td>1.0</td>\n",
       "      <td>0.0</td>\n",
       "      <td>0.0</td>\n",
       "      <td>2018</td>\n",
       "      <td>2900</td>\n",
       "      <td>-0.031</td>\n",
       "      <td>우투양타</td>\n",
       "      <td>내야수</td>\n",
       "      <td>1.0</td>\n",
       "      <td>0.286</td>\n",
       "      <td>0.333</td>\n",
       "      <td>0.429</td>\n",
       "      <td>0.762</td>\n",
       "      <td>44.0</td>\n",
       "      <td>0.352</td>\n",
       "    </tr>\n",
       "  </tbody>\n",
       "</table>\n",
       "</div>"
      ],
      "text/plain": [
       "    batter_name   age     G    PA    AB     R     H    1B   2B   3B   HR  \\\n",
       "712         양종민  19.0   6.0   1.0   1.0   0.0   0.0   0.0  0.0  0.0  0.0   \n",
       "713         양종민  20.0   7.0  10.0   9.0   0.0   1.0   0.0  1.0  0.0  0.0   \n",
       "714         양종민  21.0  58.0  64.0  55.0  11.0  13.0  11.0  2.0  0.0  0.0   \n",
       "715         양종민  22.0   2.0   4.0   4.0   0.0   1.0   1.0  0.0  0.0  0.0   \n",
       "716         양종민  23.0   1.0   0.0   0.0   1.0   0.0   0.0  0.0  0.0  0.0   \n",
       "717         양종민  24.0   5.0   4.0   4.0   0.0   0.0   0.0  0.0  0.0  0.0   \n",
       "718         양종민  28.0  21.0  15.0  14.0   5.0   4.0   3.0  0.0  1.0  0.0   \n",
       "\n",
       "       TB  RBI   SB   CS   BB  HBP   GB    SO  GDP   BU  fly  year  salary  \\\n",
       "712   0.0  0.0  0.0  0.0  0.0  0.0  0.0   1.0  0.0  0.0  0.0  2009    2400   \n",
       "713   2.0  3.0  0.0  0.0  1.0  0.0  0.0   3.0  0.0  0.0  0.0  2010    2400   \n",
       "714  15.0  5.0  0.0  3.0  5.0  0.0  0.0  21.0  1.0  4.0  0.0  2011    2500   \n",
       "715   1.0  1.0  1.0  0.0  0.0  0.0  0.0   1.0  0.0  0.0  0.0  2012    3200   \n",
       "716   0.0  0.0  0.0  0.0  0.0  0.0  0.0   0.0  0.0  0.0  0.0  2013    2700   \n",
       "717   0.0  0.0  0.0  0.0  0.0  0.0  0.0   2.0  0.0  0.0  0.0  2014    2900   \n",
       "718   6.0  1.0  0.0  0.0  1.0  0.0  0.0   5.0  1.0  0.0  0.0  2018    2900   \n",
       "\n",
       "       war hand2   tp  FBP    avg    OBP    SLG    OPS   YAB   YOPS  \n",
       "712  0.006  우투양타  내야수  0.0  0.000  0.000  0.000  0.000   9.0  0.422  \n",
       "713 -0.052  우투양타  내야수  1.0  0.111  0.200  0.222  0.422  55.0  0.573  \n",
       "714 -0.105  우투양타  내야수  5.0  0.236  0.300  0.273  0.573   4.0  0.500  \n",
       "715  0.018  우투양타  내야수  0.0  0.250  0.250  0.250  0.500   0.0    NaN  \n",
       "716  0.000  우투양타  내야수  0.0    NaN    NaN    NaN    NaN   4.0  0.000  \n",
       "717 -0.077  우투양타  내야수  0.0  0.000  0.000  0.000  0.000  16.0  0.534  \n",
       "718 -0.031  우투양타  내야수  1.0  0.286  0.333  0.429  0.762  44.0  0.352  "
      ]
     },
     "execution_count": 22,
     "metadata": {},
     "output_type": "execute_result"
    }
   ],
   "source": [
    "regular_y[regular_y['batter_name']=='양종민']"
   ]
  },
  {
   "cell_type": "code",
   "execution_count": 23,
   "metadata": {
    "ExecuteTime": {
     "end_time": "2019-12-04T02:59:14.774381Z",
     "start_time": "2019-12-04T02:59:14.769383Z"
    }
   },
   "outputs": [],
   "source": [
    "regular_y['YOPS']=regular_y['YOPS'].fillna(0.00000)"
   ]
  },
  {
   "cell_type": "markdown",
   "metadata": {},
   "source": [
    "# 3. 핵심변수 파악"
   ]
  },
  {
   "cell_type": "markdown",
   "metadata": {},
   "source": [
    "## 3-1 전체 변수간 상관관계 및 목적변수와의 상관관계"
   ]
  },
  {
   "cell_type": "code",
   "execution_count": 24,
   "metadata": {
    "ExecuteTime": {
     "end_time": "2019-12-04T02:59:14.790387Z",
     "start_time": "2019-12-04T02:59:14.775382Z"
    }
   },
   "outputs": [],
   "source": [
    "cor=regular_y.corr()\n",
    "\n",
    "regular_y2=regular_y.copy()\n",
    "del regular_y2['BB']\n",
    "del regular_y2['HBP']\n",
    "del regular_y2['year']\n",
    "del regular_y2['1B']\n",
    "del regular_y2['YAB']\n",
    "del regular_y2['PA']\n",
    "del regular_y2['batter_name']\n",
    "del regular_y2['hand2']\n",
    "del regular_y2['tp']"
   ]
  },
  {
   "cell_type": "code",
   "execution_count": 25,
   "metadata": {
    "ExecuteTime": {
     "end_time": "2019-12-04T02:59:16.843416Z",
     "start_time": "2019-12-04T02:59:16.281386Z"
    }
   },
   "outputs": [
    {
     "name": "stderr",
     "output_type": "stream",
     "text": [
      "findfont: Font family ['NanumSquare'] not found. Falling back to DejaVu Sans.\n",
      "findfont: Font family ['NanumSquare'] not found. Falling back to DejaVu Sans.\n"
     ]
    },
    {
     "data": {
      "image/png": "[encoded data removed]",
      "text/plain": [
       "<Figure size 1152x648 with 1 Axes>"
      ]
     },
     "metadata": {
      "needs_background": "light"
     },
     "output_type": "display_data"
    }
   ],
   "source": [
    "cor=regular_y2.corr()\n",
    "\n",
    "f,ax=plt.subplots(figsize=(16,9))\n",
    "ax=sns.barplot(x=cor['YOPS'].sort_values(ascending=False)[1:].keys(), y=cor['YOPS'].sort_values(ascending=False)[1:].values,\n",
    "            palette=['lightblue' if _y >0.3  else 'lightgrey' if (_y > (-0.1) and ( _y <= 0.3)) else 'lightcoral' for _y in list(cor['YOPS'].sort_values(ascending=False)[1:].values) ])\n",
    "plt.xticks(fontsize=20,rotation=45)\n",
    "plt.yticks(fontsize=20)\n",
    "plt.xlabel('variable name',size=title_font_size)\n",
    "plt.ylabel('YOPS correlation',size=title_font_size)\n",
    "plt.title('YOPS와 수치형 변수간의 상관관계',fontproperties=fp,size=30)\n",
    "\n",
    "tk=[round(i,2) for i in cor['YOPS'].sort_values(ascending=False)[1:].values]\n",
    "for x,y in zip(range(0,len(tk)),tk):\n",
    "        plt.text(x-0.375,y+0.0025,tk[x],size=tick_label_font_size);"
   ]
  },
  {
   "cell_type": "markdown",
   "metadata": {},
   "source": [
    "## 3-2 핵심 변수들 분포 및 상관관계"
   ]
  },
  {
   "cell_type": "code",
   "execution_count": 26,
   "metadata": {
    "ExecuteTime": {
     "end_time": "2019-12-04T02:59:17.781415Z",
     "start_time": "2019-12-04T02:59:16.844382Z"
    },
    "scrolled": false
   },
   "outputs": [
    {
     "data": {
      "image/png": "[encoded data removed]",
      "text/plain": [
       "<Figure size 1152x792 with 4 Axes>"
      ]
     },
     "metadata": {
      "needs_background": "light"
     },
     "output_type": "display_data"
    }
   ],
   "source": [
    "fig = plt.figure(figsize=(16,11))\n",
    "\n",
    "plt.subplot(2,2,1)\n",
    "plt.hist(regular_y2['age'])\n",
    "plt.title('나이 별 분포',fontproperties=fp,size=title_font_size)\n",
    "plt.xticks(fontsize=tick_label_font_size)\n",
    "plt.yticks(fontsize=tick_label_font_size)\n",
    "plt.ylabel('크기',fontproperties=fp,size=label_font_size)\n",
    "\n",
    "plt.subplot(2,2,2)\n",
    "plt.hist(regular_y2['AB'])\n",
    "plt.title('타수 별 분포',fontproperties=fp,size=title_font_size)\n",
    "plt.xticks(fontsize=tick_label_font_size)\n",
    "plt.yticks(fontsize=tick_label_font_size)\n",
    "plt.ylabel('크기',fontproperties=fp,size=label_font_size)\n",
    "\n",
    "plt.subplot(2,2,3)\n",
    "plt.hist(regular_y2['HR'])\n",
    "plt.title('홈런 수 별 분포',fontproperties=fp,size=title_font_size)\n",
    "plt.xticks(fontsize=tick_label_font_size)\n",
    "plt.yticks(fontsize=tick_label_font_size)\n",
    "plt.ylabel('크기',fontproperties=fp,size=label_font_size)\n",
    "\n",
    "plt.subplot(2,2,4)\n",
    "plt.hist(regular_y2['war'])\n",
    "plt.title('war 별 분포',fontproperties=fp,size=title_font_size)\n",
    "plt.xticks(fontsize=tick_label_font_size)\n",
    "plt.yticks(fontsize=tick_label_font_size)\n",
    "plt.ylabel('크기',fontproperties=fp,size=label_font_size);"
   ]
  },
  {
   "cell_type": "code",
   "execution_count": 27,
   "metadata": {
    "ExecuteTime": {
     "end_time": "2019-12-04T02:59:18.795415Z",
     "start_time": "2019-12-04T02:59:17.783382Z"
    },
    "scrolled": false
   },
   "outputs": [
    {
     "data": {
      "image/png": "[encoded data removed]",
      "text/plain": [
       "<Figure size 1152x792 with 4 Axes>"
      ]
     },
     "metadata": {
      "needs_background": "light"
     },
     "output_type": "display_data"
    }
   ],
   "source": [
    "fig = plt.figure(figsize=(16,11))\n",
    "\n",
    "plt.subplot(2,2,1)\n",
    "plt.scatter(regular_y2['age'], regular_y2['YOPS'])\n",
    "plt.title('나이 별 YOPS 분포',fontproperties=fp,size=title_font_size)\n",
    "plt.xticks(fontsize=tick_label_font_size)\n",
    "plt.yticks(fontsize=tick_label_font_size)\n",
    "plt.ylabel('YOPS',size=label_font_size)\n",
    "plt.text(30,1.75,'correlation : 0.25',size=label_font_size)\n",
    "\n",
    "plt.subplot(2,2,2)\n",
    "plt.scatter(regular_y2['AB'], regular_y2['YOPS'])\n",
    "plt.title('타수 별 YOPS 분포',fontproperties=fp,size=title_font_size)\n",
    "plt.xticks(fontsize=tick_label_font_size)\n",
    "plt.yticks(fontsize=tick_label_font_size)\n",
    "plt.ylabel('YOPS',size=label_font_size)\n",
    "# plt.text(350,1.75,'correlation : 0.49',size=label_font_size)\n",
    "plt.text(320,1.75,'correlation : 0.49',size=label_font_size)\n",
    "\n",
    "plt.subplot(2,2,3)\n",
    "plt.scatter(regular_y2['HR'], regular_y2['YOPS'])\n",
    "plt.title('홈런 수 별 YOPS 분포',fontproperties=fp,size=title_font_size)\n",
    "plt.xticks(fontsize=tick_label_font_size)\n",
    "plt.yticks(fontsize=tick_label_font_size)\n",
    "plt.ylabel('YOPS',size=label_font_size)\n",
    "plt.text(30,1.75,'correlation : 0.47',size=label_font_size)\n",
    "\n",
    "plt.subplot(2,2,4)\n",
    "plt.scatter(regular_y2['war'], regular_y2['YOPS'])\n",
    "plt.title('war 별 YOPS 분포',fontproperties=fp,size=title_font_size)\n",
    "plt.xticks(fontsize=tick_label_font_size)\n",
    "plt.yticks(fontsize=tick_label_font_size)\n",
    "plt.ylabel('YOPS',size=label_font_size)\n",
    "# plt.text(6,1.75,'correlation : 0.47',size=label_font_size);\n",
    "plt.text(5.4,1.75,'correlation : 0.47',size=label_font_size);\n"
   ]
  },
  {
   "cell_type": "markdown",
   "metadata": {},
   "source": [
    "# 4. 변수 추가\n",
    "## 4-1 추가 도루횟수, EqA , babip 변수 만들기\n",
    "- Equivalent Average : 안타 이외의 즉, 볼넷, 장타 등등 타율 보정지표\n",
    "- Batting Average on Balls in Play : 인플레이 타구의 타율 (안타-홈런)/(타수-삼진-홈런+희생타)"
   ]
  },
  {
   "cell_type": "code",
   "execution_count": 28,
   "metadata": {
    "ExecuteTime": {
     "end_time": "2019-12-04T02:59:18.819521Z",
     "start_time": "2019-12-04T02:59:18.796382Z"
    }
   },
   "outputs": [],
   "source": [
    "#도루 횟수 관련 변수 만들기\n",
    "regular_y['run']=regular_y['SB']+regular_y['CS']\n",
    "\n",
    "# eqa 구하기\n",
    "eqa_high=regular_y['H']+regular_y['TB']+1.5*(regular_y['FBP'])+regular_y['run']  #eqa 분자 공식\n",
    "eqa_low=regular_y['AB']+regular_y['FBP']+regular_y['CS']+(regular_y['run']/3) #eqa 분모 공식\n",
    "regular_y['eqa']=round(eqa_high/eqa_low,3) #분자/분모\n",
    "regular_y['eqa']=regular_y['eqa'].fillna(0) # NaN을 0으로 처리\n",
    "\n",
    "# isop 구하기\n",
    "regular_y['avg']=regular_y['avg'].replace('-',0.0) #현재 avg중에서 -처리가 된 것이 있어 0으로 대체함\n",
    "regular_y['SLG']=regular_y['SLG'].fillna(0) # NaN을 0으로 처리\n",
    "    \n",
    "coerce_df_columns_to_numeric(regular_y,'avg') #문자로 인식이 되는 문제가 있어 숫자로 변경\n",
    "\n",
    "regular_y['isop']=regular_y['SLG']-regular_y['avg'] #공식 사용\n",
    "regular_y['isop']=round(regular_y['isop'],3) #보기 편하기 위해 소수3자리로 반올림\n",
    "\n",
    "# 운 변수 투입하기\n",
    "#데이콘 측에서 사용한 행운 변수 추가해보기\n",
    "regular_y['1b_luck']=regular_y['1B']/(regular_y['AB']-regular_y['HR']-regular_y['SO'])\n",
    "regular_y['2b_luck']=regular_y['2B']/(regular_y['AB']-regular_y['HR']-regular_y['SO'])\n",
    "regular_y['3b_luck']=regular_y['3B']/(regular_y['AB']-regular_y['HR']-regular_y['SO'])\n",
    "\n",
    "#심화적인 변수들중 BB%,SO%가 쓰이는 경우가 있다.\n",
    "\n",
    "regular_y['BB%']=regular_y['BB']/regular_y['PA']\n",
    "regular_y['BB%']=regular_y['BB%'].fillna(0.0)\n",
    "regular_y['BB%']=round(regular_y['BB%'],3)\n",
    "\n",
    "regular_y['SO%']=regular_y['SO']/regular_y['PA']\n",
    "\n",
    "#BABIP구하기\n",
    "regular_y['babip']= round( (regular_y['H']-regular_y['HR']) / (regular_y['AB']-regular_y['SO']-regular_y['HR']+regular_y['fly']) ,3)\n",
    "regular_y['babip']=regular_y['babip'].fillna(0) # NaN을 0으로 처리"
   ]
  },
  {
   "cell_type": "markdown",
   "metadata": {},
   "source": [
    "## 4-2 선수당 시즌 보낸 횟수"
   ]
  },
  {
   "cell_type": "code",
   "execution_count": 29,
   "metadata": {
    "ExecuteTime": {
     "end_time": "2019-12-04T05:01:00.866028Z",
     "start_time": "2019-12-04T05:01:00.833997Z"
    }
   },
   "outputs": [
    {
     "ename": "NameError",
     "evalue": "name 'regular4' is not defined",
     "output_type": "error",
     "traceback": [
      "\u001b[1;31m---------------------------------------------------------------------------\u001b[0m",
      "\u001b[1;31mNameError\u001b[0m                                 Traceback (most recent call last)",
      "Input \u001b[1;32mIn [29]\u001b[0m, in \u001b[0;36m<cell line: 1>\u001b[1;34m()\u001b[0m\n\u001b[1;32m----> 1\u001b[0m regular46\u001b[38;5;241m=\u001b[39m\u001b[43mregular4\u001b[49m\u001b[38;5;241m.\u001b[39mcopy()\n\u001b[0;32m      2\u001b[0m regular46\u001b[38;5;241m=\u001b[39mregular46\u001b[38;5;241m.\u001b[39msort_values(by\u001b[38;5;241m=\u001b[39m[\u001b[38;5;124m'\u001b[39m\u001b[38;5;124mbatter_name\u001b[39m\u001b[38;5;124m'\u001b[39m, \u001b[38;5;124m'\u001b[39m\u001b[38;5;124myear\u001b[39m\u001b[38;5;124m'\u001b[39m]) \u001b[38;5;66;03m#이름과 연도 별로 sort\u001b[39;00m\n\u001b[0;32m      4\u001b[0m tk\u001b[38;5;241m=\u001b[39m[i \u001b[38;5;28;01mfor\u001b[39;00m i \u001b[38;5;129;01min\u001b[39;00m regular46[\u001b[38;5;124m'\u001b[39m\u001b[38;5;124mbatter_name\u001b[39m\u001b[38;5;124m'\u001b[39m][\u001b[38;5;241m1\u001b[39m:]] \u001b[38;5;66;03m#각 관측치마다 연차를 부여하기 위해서 생성\u001b[39;00m\n",
      "\u001b[1;31mNameError\u001b[0m: name 'regular4' is not defined"
     ]
    }
   ],
   "source": [
    "regular46=regular4.copy()\n",
    "regular46=regular46.sort_values(by=['batter_name', 'year']) #이름과 연도 별로 sort\n",
    "\n",
    "tk=[i for i in regular46['batter_name'][1:]] #각 관측치마다 연차를 부여하기 위해서 생성\n",
    "tk2=[i for i in regular46['batter_name'][0:]]\n",
    "\n",
    "co=list() #해당 관측치와 다음 관측치의 이름이 같으면 1년차 -> 2년차의 방식을 빠르게 수행하기 위해서 시행\n",
    "co.append(1)\n",
    "for i in range(len(tk)):\n",
    "    if tk[i]==tk2[i]:\n",
    "        co.append(co[i]+1)\n",
    "    else:\n",
    "        co.append(1)\n",
    "regular46['work_year']=co\n",
    "\n",
    "regular46=regular46.sort_index()"
   ]
  },
  {
   "cell_type": "code",
   "execution_count": null,
   "metadata": {
    "ExecuteTime": {
     "end_time": "2019-12-04T05:01:02.78562Z",
     "start_time": "2019-12-04T05:01:02.262654Z"
    }
   },
   "outputs": [],
   "source": [
    "regular6=regular46[['batter_name','work_year']]\n",
    "\n",
    "regular6=regular6.drop_duplicates(keep='first')\n",
    "\n",
    "c=Counter(Counter(regular6['batter_name']).values()) #이름 갯수로 누적 시즌 횟수 획득\n",
    "x3=[]\n",
    "y3=[]\n",
    "for i in range(len(c)):\n",
    "    x3.append(sorted(c.items(), key=itemgetter(0))[i][0]) # 1~ 17\n",
    "    y3.append(sorted(c.items(), key=itemgetter(0))[i][1]) # 해당 시즌 보낸 사람 인원수\n",
    "\n",
    "# f,ax=plt.subplots(figsize=(20,9))\n",
    "f,ax=plt.subplots(figsize=(16,9))\n",
    "\n",
    "plt.bar(x3,y3,color='grey')\n",
    "plt.xticks(x3, (list(range(1,20))),size=tick_label_font_size)\n",
    "plt.yticks(range(5,80,10),size=tick_label_font_size)\n",
    "plt.xlabel('누적 연차',fontproperties=fp,size=label_font_size)\n",
    "plt.ylabel('인원수',fontproperties=fp,size=label_font_size)\n",
    "ax.spines['left'].set_position(('axes', 0.025))\n",
    "plt.title('누적 연차 인원 분포',fontproperties=fp,size=title_font_size)\n",
    "\n",
    "#ax.spines를 한 이후 축 글자 크기 변경시 사용한 부분\n",
    "for label in ax.get_xticklabels() + ax.get_yticklabels(): \n",
    "    label.set_fontsize(label_font_size)\n",
    "#     label.set_bbox(dict(facecolor='white', edgecolor='None', alpha=0.65 ))\n",
    "    label.set_bbox(dict(facecolor='white', edgecolor='None'))\n",
    "    \n",
    "for x,y in zip(range(1,20),y3):\n",
    "    if y>=10:\n",
    "        plt.text(x-0.2,y,y3[x-1],size=label_font_size)\n",
    "    else:\n",
    "        plt.text(x-0.075,y,y3[x-1],size=label_font_size)\n",
    "        \n",
    "regular46.to_csv(\"regular_total.csv\",index=False)"
   ]
  },
  {
   "cell_type": "markdown",
   "metadata": {},
   "source": [
    "## 4-3 심화 변수들 생성하기\n",
    "### 스피드 구하기\n",
    "- 타자의 속도와 관련된 변수로 spd는 5개의 척도들의 평균을 이용한 값\n",
    "- f1은 도루성공 관련, f2는 도루관련 f3은 홈런제외 타구비율 f4는 3루타 비율 f5는 병살관련 부분"
   ]
  },
  {
   "cell_type": "code",
   "execution_count": null,
   "metadata": {
    "ExecuteTime": {
     "end_time": "2019-12-04T02:59:19.179387Z",
     "start_time": "2019-12-04T02:59:18.820382Z"
    }
   },
   "outputs": [],
   "source": [
    "agg={}\n",
    "for i in range(2006,2019,1):\n",
    "\n",
    "    regular3=regular_y[ (regular_y['year']==i) & (regular_y['AB']>=100) ]\n",
    "    regular3=regular3.reset_index(drop=True)\n",
    "\n",
    "    #인원수를 동일하게 맞춰줘야 되기 때문에 f1 ~f5를 다시 생성하였음\n",
    "\n",
    "    f1= DataFrame( [( ((regular3['SB'][i]+3) / (regular3['SB'][i]+regular3['CS'][i]+7)) -0.4) * 20 for i in range(len(regular3)) ] ,columns=['f1'])\n",
    "    f2= DataFrame( [ (math.sqrt( (regular3['SB'][i]+regular3['CS'][i])/ ( (regular3['H'][i]-regular3['2B'][i]-regular3['3B'][i]-regular3['HR'][i]) +regular3['BB'][i]+regular3['HBP'][i]) )) /0.07 for i in range(len(regular3)) ] ,columns=['f2'])\n",
    "    f3= DataFrame( [ (regular3['3B'][i]/(regular3['AB'][i]-regular3['HR'][i]-regular3['SO'][i]))*625 for i in range(len(regular3)) ] ,columns=['f3'])\n",
    "    f4= DataFrame( [ (((regular3['R'][i]-regular3['HR'][i])/(regular3['H'][i]+regular3['BB'][i]-regular3['HR'][i]+regular3['HBP'][i]))-0.1)*25 for i in range(len(regular3)) ] ,columns=['f4'])\n",
    "    f5= DataFrame( [ (0.063-(regular3['GDP'][i]/(regular3['AB'][i]-regular3['HR'][i]-regular3['SO'][i])))/0.007 for i in range(len(regular3)) ] ,columns=['f5'])\n",
    "\n",
    "    f_total=pd.concat([f1,f2,f3,f4,f5],axis=1)\n",
    "\n",
    "    scaler = MinMaxScaler()\n",
    "    scaler.fit(f_total)\n",
    "\n",
    "    f_total2=DataFrame(scaler.transform(f_total)*10)\n",
    "\n",
    "    f_total3=pd.concat([regular3[['batter_name','year']],f_total2 ],axis=1)\n",
    "    f_total3=f_total3.fillna(0) #비어있는 부분을 0으로 채움\n",
    "\n",
    "    f_total3['spd'] = (f_total3[0]+f_total3[1]+f_total3[2]+f_total3[3]+f_total3[4])/5\n",
    "    agg[i-2006]=f_total3[['batter_name','year','spd']]"
   ]
  },
  {
   "cell_type": "code",
   "execution_count": null,
   "metadata": {
    "ExecuteTime": {
     "end_time": "2019-12-04T02:59:19.256391Z",
     "start_time": "2019-12-04T02:59:19.180382Z"
    }
   },
   "outputs": [],
   "source": [
    "regular3=regular_y[ (regular_y['year']<=2005) & (regular_y['AB']>=100) ]\n",
    "regular3=regular3.reset_index(drop=True)\n",
    "\n",
    "#인원수를 동일하게 맞춰줘야 되기 때문에 f1 ~f5를 다시 생성하였음\n",
    "\n",
    "f1= DataFrame( [( ((regular3['SB'][i]+3) / (regular3['SB'][i]+regular3['CS'][i]+7)) -0.4) * 20 for i in range(len(regular3)) ] ,columns=['f1'])\n",
    "f2=DataFrame( [ (math.sqrt( (regular3['SB'][i]+regular3['CS'][i])/ ( (regular3['H'][i]-regular3['2B'][i]-regular3['3B'][i]-regular3['HR'][i]) +regular3['BB'][i]+regular3['HBP'][i]) )) /0.07 for i in range(len(regular3)) ] ,columns=['f2'])\n",
    "f3= DataFrame( [ (regular3['3B'][i]/(regular3['AB'][i]-regular3['HR'][i]-regular3['SO'][i]))*625 for i in range(len(regular3)) ] ,columns=['f3'])\n",
    "f4= DataFrame( [ (((regular3['R'][i]-regular3['HR'][i])/(regular3['H'][i]+regular3['BB'][i]-regular3['HR'][i]+regular3['HBP'][i]))-0.1)*25 for i in range(len(regular3)) ] ,columns=['f4'])\n",
    "f5= DataFrame( [ (0.063-(regular3['GDP'][i]/(regular3['AB'][i]-regular3['HR'][i]-regular3['SO'][i])))/0.007 for i in range(len(regular3)) ] ,columns=['f5'])\n",
    "\n",
    "f_total=pd.concat([f1,f2,f3,f4,f5],axis=1)\n",
    "\n",
    "scaler = MinMaxScaler()\n",
    "scaler.fit(f_total)\n",
    "\n",
    "f_total2=DataFrame(scaler.transform(f_total)*10)\n",
    "\n",
    "f_total3=pd.concat([regular3[['batter_name','year']],f_total2 ],axis=1)\n",
    "f_total3=f_total3.fillna(0) #비어있는 부분을 0으로 채움\n",
    "\n",
    "f_total3['spd'] = (f_total3[0]+f_total3[1]+f_total3[2]+f_total3[3]+f_total3[4])/5\n",
    "agg[13]=f_total3[['batter_name','year','spd']]"
   ]
  },
  {
   "cell_type": "code",
   "execution_count": null,
   "metadata": {
    "ExecuteTime": {
     "end_time": "2019-12-04T02:59:19.272381Z",
     "start_time": "2019-12-04T02:59:19.257381Z"
    }
   },
   "outputs": [],
   "source": [
    "f_real=pd.concat(agg,ignore_index=True)\n",
    "f_real=f_real.drop_duplicates(keep='first')\n",
    "\n",
    "regular_y3=pd.merge(regular_y,f_real,how='left',on=['batter_name','year'])\n",
    "\n",
    "# regular_y3.to_csv(\"regular3.csv\",index=False)"
   ]
  },
  {
   "cell_type": "code",
   "execution_count": null,
   "metadata": {
    "ExecuteTime": {
     "end_time": "2019-12-04T02:59:19.598425Z",
     "start_time": "2019-12-04T02:59:19.273382Z"
    }
   },
   "outputs": [],
   "source": [
    "#변화되는 공식이 아닌 일반적인 공식을 사용하였음\n",
    "# regular_y3['spd'].hist(bins=20,figsize=(20,10)) #확인 필요\n",
    "regular_y3['spd'].hist(bins=20,figsize=figure_size) #확인 필요\n",
    "plt.grid(False)\n",
    "plt.xticks(size=tick_label_font_size)\n",
    "plt.yticks(size=tick_label_font_size)\n",
    "plt.xlabel('spd value',size=label_font_size)\n",
    "plt.ylabel('인원수(중복) ',fontproperties=fp,size=label_font_size)\n",
    "plt.title('spd 인원 분포',fontproperties=fp,size=title_font_size);"
   ]
  },
  {
   "cell_type": "code",
   "execution_count": null,
   "metadata": {
    "ExecuteTime": {
     "end_time": "2019-12-04T02:59:19.606383Z",
     "start_time": "2019-12-04T02:59:19.599391Z"
    }
   },
   "outputs": [],
   "source": [
    "regular_y3['spd']=regular_y3['spd'].fillna(regular_y3['spd'].mean())"
   ]
  },
  {
   "cell_type": "markdown",
   "metadata": {},
   "source": [
    "### wOBA구하기"
   ]
  },
  {
   "cell_type": "code",
   "execution_count": null,
   "metadata": {
    "ExecuteTime": {
     "end_time": "2019-12-04T02:59:19.948385Z",
     "start_time": "2019-12-04T02:59:19.608382Z"
    }
   },
   "outputs": [],
   "source": [
    "#변화되는 공식이 아닌 일반적인 공식을 사용하였음\n",
    "regular_y3['wOBA']=(0.72*regular_y3['BB'] + 0.75*regular_y3['HBP'] + 0.9*regular_y3['1B'] + 1.24*regular_y3['2B'] + 1.56*regular_y3['3B'] + 1.95*regular_y3['HR'] ) / ( regular_y3['AB'] +regular_y3['FBP'] + regular_y3['fly'] )\n",
    "regular_y3['wOBA']=regular_y3['wOBA'].fillna(0.0) \n",
    "\n",
    "regular_y3['wOBA']=round(regular_y3['wOBA'],3)\n",
    "\n",
    "# regular_y3['wOBA'].hist(bins=20,figsize=(20,10)) #확인 필요\n",
    "regular_y3['wOBA'].hist(bins=20,figsize=figure_size) #확인 필요\n",
    "plt.grid(False)\n",
    "plt.xticks(size=tick_label_font_size)\n",
    "plt.yticks(size=tick_label_font_size)\n",
    "plt.xlabel('wOBA value',size=label_font_size)\n",
    "plt.ylabel('인원수(중복) ',fontproperties=fp,size=label_font_size)\n",
    "plt.title('wOBA 값 변경 전 인원 분포',fontproperties=fp,size=title_font_size);"
   ]
  },
  {
   "cell_type": "code",
   "execution_count": null,
   "metadata": {
    "ExecuteTime": {
     "end_time": "2019-12-04T02:59:20.300415Z",
     "start_time": "2019-12-04T02:59:19.949395Z"
    }
   },
   "outputs": [],
   "source": [
    "#변화되는 공식이 아닌 일반적인 공식을 사용하였음\n",
    "regular_y3['wOBA']=(0.72*regular_y3['BB'] + 0.75*regular_y3['HBP'] + 0.9*regular_y3['1B'] + 1.24*regular_y3['2B'] + 1.56*regular_y3['3B'] + 1.95*regular_y3['HR'] ) / ( regular_y3['AB'] +regular_y3['FBP'] + regular_y3['fly'] )\n",
    "regular_y3['wOBA']=regular_y3['wOBA'].fillna(0.0) \n",
    "\n",
    "regular_y3['wOBA']=round(regular_y3['wOBA'],3)\n",
    "regular_y33=regular_y3.loc[regular_y3['wOBA']<0.6]\n",
    "\n",
    "# regular_y33['wOBA'].hist(bins=20,figsize=(20,10)) #확인 필요\n",
    "regular_y33['wOBA'].hist(bins=20,figsize=figure_size) #확인 필요\n",
    "plt.grid(False)\n",
    "plt.xticks(size=tick_label_font_size)\n",
    "plt.yticks(size=tick_label_font_size)\n",
    "plt.xlabel('wOBA value',size=label_font_size)\n",
    "plt.ylabel('인원수(중복) ',fontproperties=fp,size=label_font_size)\n",
    "plt.title('wOBA 값 변경 후 인원 분포',fontproperties=fp,size=title_font_size);"
   ]
  },
  {
   "cell_type": "code",
   "execution_count": null,
   "metadata": {
    "ExecuteTime": {
     "end_time": "2019-12-04T02:59:20.677382Z",
     "start_time": "2019-12-04T02:59:20.302393Z"
    }
   },
   "outputs": [],
   "source": [
    "# regular_y33['OBP'].hist(bins=20,figsize=(20,10)) #확인 필요\n",
    "regular_y33['OBP'].hist(bins=20,figsize=figure_size) #확인 필요\n",
    "plt.grid(False)\n",
    "plt.xticks(size=tick_label_font_size)\n",
    "plt.yticks(size=tick_label_font_size)\n",
    "plt.xlabel('OBP',size=label_font_size)\n",
    "plt.ylabel('인원수(중복) ',fontproperties=fp,size=label_font_size)\n",
    "plt.title('OBP 값 인원 분포',fontproperties=fp,size=title_font_size);"
   ]
  },
  {
   "cell_type": "markdown",
   "metadata": {},
   "source": [
    "### OPS+구하기"
   ]
  },
  {
   "cell_type": "code",
   "execution_count": null,
   "metadata": {
    "ExecuteTime": {
     "end_time": "2019-12-04T02:59:20.694541Z",
     "start_time": "2019-12-04T02:59:20.678382Z"
    }
   },
   "outputs": [],
   "source": [
    "#각 시즌별 평균 값이 필요하기 때문에 해당 과정을 실시\n",
    "mra=regular_y3.groupby(['year'])['wOBA', 'R','H','FBP', 'AB', 'fly', 'TB'].sum()\n",
    "mra2=regular_y3.groupby(['year'])['wOBA', 'R','H','FBP', 'AB', 'fly', 'TB'].size()\n",
    "mra['size']=mra2\n",
    "\n",
    "mra.to_csv(\"mra.csv\")\n",
    "mra=pd.read_csv(\"mra.csv\")"
   ]
  },
  {
   "cell_type": "markdown",
   "metadata": {},
   "source": [
    "**mra 현재 2000년대 연도들은 사이즈가 너무 작아서 평균을 구하는게 힘듬**     \n",
    "\n",
    "**몇개 연도를 합쳐서 그 평균값을 사용하기로 결정함(2004년이전, 2005~2006 통합)**"
   ]
  },
  {
   "cell_type": "code",
   "execution_count": null,
   "metadata": {
    "ExecuteTime": {
     "end_time": "2019-12-04T02:59:20.80553Z",
     "start_time": "2019-12-04T02:59:20.701398Z"
    }
   },
   "outputs": [],
   "source": [
    "#2003년 이전 합치기\n",
    "mra.loc[mra['year']<=2003,'wOBA']=(mra.loc[mra['year']<=2003,'wOBA'].sum()) \n",
    "mra.loc[mra['year']<=2003,'R']=(mra.loc[mra['year']<=2003,'R'].sum()) \n",
    "mra.loc[mra['year']<=2003,'H']=(mra.loc[mra['year']<=2003,'H'].sum()) \n",
    "mra.loc[mra['year']<=2003,'FBP']=(mra.loc[mra['year']<=2003,'FBP'].sum()) \n",
    "mra.loc[mra['year']<=2003,'AB']=(mra.loc[mra['year']<=2003,'AB'].sum()) \n",
    "mra.loc[mra['year']<=2003,'fly']=(mra.loc[mra['year']<=2003,'fly'].sum()) \n",
    "mra.loc[mra['year']<=2003,'TB']=(mra.loc[mra['year']<=2003,'TB'].sum()) \n",
    "mra.loc[mra['year']<=2003,'size']=(mra.loc[mra['year']<=2003,'size'].sum()) \n",
    "\n",
    "#2004년과 2005년 합치기\n",
    "\n",
    "mra.loc[(mra['year']<=2005) & (mra['year']>=2004) ,'wOBA']= (mra.loc[(mra['year']<=2005) & (mra['year']>=2004) ,'wOBA'].sum()) \n",
    "mra.loc[(mra['year']<=2005) & (mra['year']>=2004) ,'R']=(mra.loc[(mra['year']<=2005) & (mra['year']>=2004) ,'R'].sum()) \n",
    "mra.loc[(mra['year']<=2005) & (mra['year']>=2004) ,'H']=(mra.loc[(mra['year']<=2005) & (mra['year']>=2004) ,'H'].sum()) \n",
    "mra.loc[(mra['year']<=2005) & (mra['year']>=2004) ,'FBP']=(mra.loc[(mra['year']<=2005) & (mra['year']>=2004) ,'FBP'].sum()) \n",
    "mra.loc[(mra['year']<=2005) & (mra['year']>=2004) ,'AB']=(mra.loc[(mra['year']<=2005) & (mra['year']>=2004) ,'AB'].sum()) \n",
    "mra.loc[(mra['year']<=2005) & (mra['year']>=2004) ,'fly']=(mra.loc[(mra['year']<=2005) & (mra['year']>=2004) ,'fly'].sum())\n",
    "mra.loc[(mra['year']<=2005) & (mra['year']>=2004) ,'TB']=(mra.loc[(mra['year']<=2005) & (mra['year']>=2004) ,'TB'].sum()) \n",
    "mra.loc[(mra['year']<=2005) & (mra['year']>=2004) ,'size']=(mra.loc[(mra['year']<=2005) & (mra['year']>=2004) ,'size'].sum()) \n",
    "\n",
    "#2006 2007\n",
    "mra.loc[(mra['year']<=2007) & (mra['year']>=2006) ,'wOBA']= (mra.loc[(mra['year']<=2007) & (mra['year']>=2006) ,'wOBA'].sum()) \n",
    "mra.loc[(mra['year']<=2007) & (mra['year']>=2006) ,'R']=(mra.loc[(mra['year']<=2007) & (mra['year']>=2006) ,'R'].sum()) \n",
    "mra.loc[(mra['year']<=2007) & (mra['year']>=2006) ,'H']=(mra.loc[(mra['year']<=2007) & (mra['year']>=2006) ,'H'].sum()) \n",
    "mra.loc[(mra['year']<=2007) & (mra['year']>=2006) ,'FBP']=(mra.loc[(mra['year']<=2007) & (mra['year']>=2006) ,'FBP'].sum()) \n",
    "mra.loc[(mra['year']<=2007) & (mra['year']>=2006) ,'AB']=(mra.loc[(mra['year']<=2007) & (mra['year']>=2006) ,'AB'].sum()) \n",
    "mra.loc[(mra['year']<=2007) & (mra['year']>=2006) ,'fly']=(mra.loc[(mra['year']<=2007) & (mra['year']>=2006) ,'fly'].sum())\n",
    "mra.loc[(mra['year']<=2007) & (mra['year']>=2006) ,'TB']=(mra.loc[(mra['year']<=2007) & (mra['year']>=2006) ,'TB'].sum()) \n",
    "mra.loc[(mra['year']<=2007) & (mra['year']>=2006) ,'size']=(mra.loc[(mra['year']<=2007) & (mra['year']>=2006) ,'size'].sum()) \n",
    "\n",
    "#2008 2009\n",
    "mra.loc[(mra['year']<=2009) & (mra['year']>=2008) ,'wOBA']= (mra.loc[(mra['year']<=2009) & (mra['year']>=2008) ,'wOBA'].sum()) \n",
    "mra.loc[(mra['year']<=2009) & (mra['year']>=2008) ,'R']=(mra.loc[(mra['year']<=2009) & (mra['year']>=2008) ,'R'].sum()) \n",
    "mra.loc[(mra['year']<=2009) & (mra['year']>=2008) ,'H']=(mra.loc[(mra['year']<=2009) & (mra['year']>=2008) ,'H'].sum()) \n",
    "mra.loc[(mra['year']<=2009) & (mra['year']>=2008) ,'FBP']=(mra.loc[(mra['year']<=2009) & (mra['year']>=2008) ,'FBP'].sum()) \n",
    "mra.loc[(mra['year']<=2009) & (mra['year']>=2008) ,'AB']=(mra.loc[(mra['year']<=2009) & (mra['year']>=2008) ,'AB'].sum()) \n",
    "mra.loc[(mra['year']<=2009) & (mra['year']>=2008) ,'fly']=(mra.loc[(mra['year']<=2009) & (mra['year']>=2008) ,'fly'].sum())\n",
    "mra.loc[(mra['year']<=2009) & (mra['year']>=2008) ,'TB']=(mra.loc[(mra['year']<=2009) & (mra['year']>=2008) ,'TB'].sum()) \n",
    "mra.loc[(mra['year']<=2009) & (mra['year']>=2008) ,'size']=(mra.loc[(mra['year']<=2009) & (mra['year']>=2008) ,'size'].sum()) "
   ]
  },
  {
   "cell_type": "code",
   "execution_count": null,
   "metadata": {
    "ExecuteTime": {
     "end_time": "2019-12-04T05:00:21.678941Z",
     "start_time": "2019-12-04T05:00:21.283937Z"
    }
   },
   "outputs": [],
   "source": [
    "mra['aOBP']=(mra['H']+mra['FBP'])/(mra['AB']+mra['FBP']+mra['fly']) #각 연도의 평균 OBP생성\n",
    "\n",
    "mra['aSLG']=mra['TB']/mra['AB'] #각 연도의 평균 SLG생성\n",
    "\n",
    "mra_total=mra[['year','aOBP','aSLG']] #각 연도별 평균 OBP,SLG만 추출\n",
    "\n",
    "regular4=pd.merge(regular_y3,mra_total,how='left') #각 선수별 OPS+를 적용시키기 위해서 통합 실시\n",
    "\n",
    "#OPS + 를 구하는 공식을 사용하고 OPS+는 자연수 값이기 때문에 반올림로 정수 처리하였음\n",
    "regular4['OPS+']= ( (regular4['OBP']/regular4['aOBP']) + (regular4['SLG']/regular4['aSLG']) -1 ) * 100\n",
    "regular4['OPS+']=round(regular4['OPS+'],0)\n",
    "\n",
    "# regular4['OPS+'].hist(bins=20,figsize=(20,10)) #현재 0이하의 값과 200이상의 이상치들이 보이는 모습이 있음\n",
    "regular4['OPS+'].hist(bins=20,figsize=figure_size) #현재 0이하의 값과 200이상의 이상치들이 보이는 모습이 있음\n",
    "plt.grid(False)\n",
    "plt.xticks(size=tick_label_font_size)\n",
    "plt.yticks(size=tick_label_font_size)\n",
    "plt.xlabel('OPS+ value',size=label_font_size)\n",
    "plt.ylabel('인원수 (중복)',fontproperties=fp,size=label_font_size)\n",
    "plt.title('OPS+ 수정 전 value 인원 분포',fontproperties=fp,size=title_font_size);"
   ]
  },
  {
   "cell_type": "code",
   "execution_count": null,
   "metadata": {
    "ExecuteTime": {
     "end_time": "2019-12-04T05:00:46.989397Z",
     "start_time": "2019-12-04T05:00:46.613386Z"
    }
   },
   "outputs": [],
   "source": [
    "regular4.loc[regular4['OPS+']>=220,['OPS+']]=0 #200이상의 이상치는 0으로 처리\n",
    "regular4.loc[regular4['OPS+']<=0,['OPS+']]=0 #0이하의 값은 0으로 처리\n",
    "\n",
    "#다 사용이 된 평균 OBP,SLG는 삭제함\n",
    "del regular4['aOBP']\n",
    "del regular4['aSLG']\n",
    "\n",
    "# regular4['OPS+'].hist(bins=20,figsize=(20,10)) #이상치 제거 이후 OPS+확인 작업\n",
    "regular4['OPS+'].hist(bins=20,figsize=figure_size) #이상치 제거 이후 OPS+확인 작업\n",
    "plt.grid(False)\n",
    "plt.xticks(size=tick_label_font_size)\n",
    "plt.yticks(size=tick_label_font_size)\n",
    "plt.xlabel('OPS+ value',size=label_font_size)\n",
    "plt.ylabel('인원수 (중복)',fontproperties=fp,size=label_font_size)\n",
    "plt.title('OPS+ value 수정 후 인원 분포',fontproperties=fp,size=title_font_size);"
   ]
  },
  {
   "cell_type": "code",
   "execution_count": null,
   "metadata": {
    "ExecuteTime": {
     "end_time": "2019-12-04T05:00:59.969823Z",
     "start_time": "2019-12-04T05:00:59.592793Z"
    }
   },
   "outputs": [],
   "source": [
    "regular555=regular4[regular4['OPS']<=1.5]\n",
    "# regular555['OPS'].hist(bins=20,figsize=(20,10)) #이상치 제거 이후 OPS+확인 작업\n",
    "regular555['OPS'].hist(bins=20,figsize=figure_size) #이상치 제거 이후 OPS+확인 작업\n",
    "plt.grid(False)\n",
    "plt.xticks(size=tick_label_font_size)\n",
    "plt.yticks(size=tick_label_font_size)\n",
    "plt.xlabel('OPS',size=label_font_size)\n",
    "plt.ylabel('인원수 (중복)',fontproperties=fp,size=label_font_size)\n",
    "plt.title('OPS 수정 후 인원 분포',fontproperties=fp,size=title_font_size);"
   ]
  },
  {
   "cell_type": "markdown",
   "metadata": {},
   "source": [
    "### 공 반발계수 추가"
   ]
  },
  {
   "cell_type": "code",
   "execution_count": null,
   "metadata": {
    "ExecuteTime": {
     "end_time": "2019-12-04T05:01:03.953771Z",
     "start_time": "2019-12-04T05:01:03.067627Z"
    }
   },
   "outputs": [],
   "source": [
    "total=pd.read_csv(\"regular_total.csv\")\n",
    "total['ball_score']=0.45032\n",
    "\n",
    "total['ball_score'] = [np.where( total['year'][i]==2009, np.random.normal(0.4297, 0.005, 1)[0],total['ball_score'][i] ) for i in range(len(total))  ]\n",
    "total['ball_score'] = [np.where( total['year'][i]==2010, np.random.normal(0.4187, 0.005, 1)[0],total['ball_score'][i] ) for i in range(len(total))  ]\n",
    "total['ball_score'] = [np.where( total['year'][i]==2011, np.random.normal(0.4228, 0.005, 1)[0],total['ball_score'][i] ) for i in range(len(total))  ]\n",
    "total['ball_score'] = [np.where( total['year'][i]==2012, np.random.normal(0.4172, 0.005, 1)[0],total['ball_score'][i] ) for i in range(len(total))  ]\n",
    "total['ball_score'] = [np.where( total['year'][i]==2013, np.random.normal(0.4236, 0.005, 1)[0],total['ball_score'][i] ) for i in range(len(total))  ]\n",
    "total['ball_score'] = [np.where( total['year'][i]==2014, np.random.normal(0.4316, 0.005, 1)[0],total['ball_score'][i] ) for i in range(len(total))  ]\n",
    "total['ball_score'] = [np.where( total['year'][i]==2015, np.random.normal(0.4244, 0.005, 1)[0],total['ball_score'][i] ) for i in range(len(total))  ]\n",
    "total['ball_score'] = [np.where( total['year'][i]==2016, np.random.normal(0.4216, 0.005, 1)[0],total['ball_score'][i] ) for i in range(len(total))  ]\n",
    "total['ball_score'] = [np.where( total['year'][i]==2017, np.random.normal(0.4224, 0.005, 1)[0],total['ball_score'][i] ) for i in range(len(total))  ]\n",
    "total['ball_score'] = [np.where( total['year'][i]==2018, np.random.normal(0.4187, 0.005, 1)[0],total['ball_score'][i] ) for i in range(len(total))  ]\n",
    "\n",
    "total['ball_score'] = [np.where( (total['year'][i]<2009) | (total['year'][i]>2018) , np.random.normal(0.42307, 0.005, 1)[0],total['ball_score'][i] ) for i in range(len(total))  ]"
   ]
  },
  {
   "cell_type": "code",
   "execution_count": null,
   "metadata": {
    "ExecuteTime": {
     "end_time": "2019-12-04T05:01:09.802381Z",
     "start_time": "2019-12-04T05:01:08.89328Z"
    }
   },
   "outputs": [],
   "source": [
    "total['p_year']=total['year']+1\n",
    "total['next_ball_score']=0.45032\n",
    "\n",
    "total['next_ball_score'] = [np.where( total['p_year'][i]<2009, np.random.normal(0.42307, 0.005, 1)[0],total['next_ball_score'][i] ) for i in range(len(total))  ]\n",
    "total['next_ball_score'] = [np.where( total['p_year'][i]==2009, np.random.normal(0.4297, 0.005, 1)[0],total['next_ball_score'][i] ) for i in range(len(total))  ]\n",
    "total['next_ball_score'] = [np.where( total['p_year'][i]==2010, np.random.normal(0.4187, 0.005, 1)[0],total['next_ball_score'][i] ) for i in range(len(total))  ]\n",
    "total['next_ball_score'] = [np.where( total['p_year'][i]==2011, np.random.normal(0.4228, 0.005, 1)[0],total['next_ball_score'][i] ) for i in range(len(total))  ]\n",
    "total['next_ball_score'] = [np.where( total['p_year'][i]==2012, np.random.normal(0.4172, 0.005, 1)[0],total['next_ball_score'][i] ) for i in range(len(total))  ]\n",
    "total['next_ball_score'] = [np.where( total['p_year'][i]==2013, np.random.normal(0.4236, 0.005, 1)[0],total['next_ball_score'][i] ) for i in range(len(total))  ]\n",
    "total['next_ball_score'] = [np.where( total['p_year'][i]==2014, np.random.normal(0.4316, 0.005, 1)[0],total['next_ball_score'][i] ) for i in range(len(total))  ]\n",
    "total['next_ball_score'] = [np.where( total['p_year'][i]==2015, np.random.normal(0.4244, 0.005, 1)[0],total['next_ball_score'][i] ) for i in range(len(total))  ]\n",
    "total['next_ball_score'] = [np.where( total['p_year'][i]==2016, np.random.normal(0.4216, 0.005, 1)[0],total['next_ball_score'][i] ) for i in range(len(total))  ]\n",
    "total['next_ball_score'] = [np.where( total['p_year'][i]==2017, np.random.normal(0.4224, 0.005, 1)[0],total['next_ball_score'][i] ) for i in range(len(total))  ]\n",
    "total['next_ball_score'] = [np.where( total['p_year'][i]==2018, np.random.normal(0.4187, 0.005, 1)[0],total['next_ball_score'][i] ) for i in range(len(total))  ]\n",
    "total['next_ball_score'] = [np.where( total['p_year'][i]==2019, np.random.normal(0.41, 0.005, 1)[0],total['next_ball_score'][i] ) for i in range(len(total))  ]"
   ]
  },
  {
   "cell_type": "code",
   "execution_count": null,
   "metadata": {
    "ExecuteTime": {
     "end_time": "2019-12-04T05:01:09.847242Z",
     "start_time": "2019-12-04T05:01:09.803274Z"
    }
   },
   "outputs": [],
   "source": [
    "coerce_df_columns_to_numeric(total,'ball_score') #문자로 입력된 것을 숫자로 변경\n",
    "coerce_df_columns_to_numeric(total,'next_ball_score') #문자로 입력된 것을 숫자로 변경\n",
    "cor1=total[['ball_score','next_ball_score','YOPS']].corr()\n",
    "cor1"
   ]
  },
  {
   "cell_type": "code",
   "execution_count": null,
   "metadata": {
    "ExecuteTime": {
     "end_time": "2019-12-04T05:01:09.857242Z",
     "start_time": "2019-12-04T05:01:09.850243Z"
    }
   },
   "outputs": [],
   "source": [
    "cor1['ball_score']['YOPS']"
   ]
  },
  {
   "cell_type": "code",
   "execution_count": null,
   "metadata": {
    "ExecuteTime": {
     "end_time": "2019-12-04T05:01:10.997279Z",
     "start_time": "2019-12-04T05:01:09.860241Z"
    }
   },
   "outputs": [],
   "source": [
    "fig = plt.figure(figsize=(22,12))\n",
    "\n",
    "plt.subplot(1,3,1)\n",
    "plt.scatter(total['ball_score'], total['YOPS'])\n",
    "plt.title('반발계수와 YOPS 분포',fontproperties=fp,size=title_font_size)\n",
    "plt.xticks(fontsize=tick_label_font_size)\n",
    "plt.yticks(fontsize=tick_label_font_size)\n",
    "plt.xlabel('현시즌 반발계수',fontproperties=fp,size=label_font_size)\n",
    "plt.ylabel('YOPS',size=label_font_size)\n",
    "plt.text(0.405,1.85, 'correlation :  ' + str(round(cor1['ball_score']['YOPS'],4)) ,size=title_font_size)\n",
    "\n",
    "plt.subplot(1,3,2)\n",
    "plt.scatter(total['next_ball_score'], total['YOPS'])\n",
    "plt.title('다음 시즌 반발계수와 YOPS 분포',fontproperties=fp,size=title_font_size)\n",
    "plt.xticks(fontsize=tick_label_font_size)\n",
    "plt.yticks(fontsize=tick_label_font_size)\n",
    "plt.xlabel('다음 시즌 반발계수',fontproperties=fp,size=label_font_size)\n",
    "plt.ylabel('YOPS',size=label_font_size)\n",
    "plt.text(0.4,1.85,'correlation :  ' + str(round(cor1['next_ball_score']['YOPS'],4)),size=title_font_size)\n",
    "\n",
    "plt.subplot(1,3,3)\n",
    "plt.scatter(total['ball_score'], total['next_ball_score'])\n",
    "plt.title('반발계수 간 분포',fontproperties=fp,size=title_font_size)\n",
    "plt.xticks(fontsize=tick_label_font_size)\n",
    "plt.yticks(fontsize=tick_label_font_size)\n",
    "plt.xlabel('현 시즌 반발계수',fontproperties=fp,size=label_font_size)\n",
    "plt.ylabel('다음 시즌 반발계수',fontproperties=fp,size=label_font_size)\n",
    "# plt.text(0.40,0.445, 'correlation :  ' + str(round(cor1['ball_score']['next_ball_score'],4)) ,size=title_font_size);\n",
    "plt.text(0.405,0.44, 'correlation :  ' + str(round(cor1['ball_score']['next_ball_score'],4)) ,size=title_font_size);\n",
    "\n",
    "total.to_csv(\"real_total.csv\",index=False)"
   ]
  },
  {
   "cell_type": "markdown",
   "metadata": {},
   "source": [
    "# 5. 기본 EDA"
   ]
  },
  {
   "cell_type": "markdown",
   "metadata": {},
   "source": [
    "## 5-1 Year (해당 시즌)"
   ]
  },
  {
   "cell_type": "code",
   "execution_count": null,
   "metadata": {},
   "outputs": [],
   "source": [
    "plt.figure(figsize=figure_size)\n",
    "\n",
    "#distribution 'year'\n",
    "sns.distplot(regular_y['year'])\n",
    "plt.title('데이터양',fontproperties=fp,fontsize=title_font_size)\n",
    "plt.xlabel('Year',fontsize=label_font_size)\n",
    "plt.ylabel('Density',fontsize=label_font_size)\n",
    "plt.xticks(fontsize=tick_label_font_size)\n",
    "plt.yticks(fontsize=tick_label_font_size)\n",
    "\n",
    "#simple analytsis of 'year'\n",
    "regular_y['year'].describe()"
   ]
  },
  {
   "cell_type": "markdown",
   "metadata": {},
   "source": [
    "데이터의 양이 최근 년도로 편중 되있는것으로 확인되며,  \n",
    "기본적인 데이터 분석에서도 중간값이 **2011년대**로 나오는것을 확인 할수 있다.    "
   ]
  },
  {
   "cell_type": "markdown",
   "metadata": {},
   "source": [
    "## 5-2 AB (타수)"
   ]
  },
  {
   "cell_type": "code",
   "execution_count": null,
   "metadata": {
    "scrolled": false
   },
   "outputs": [],
   "source": [
    "plt.figure(figsize=figure_size)\n",
    "#distribution 'AB'\n",
    "fig = sns.distplot(regular_y['AB'])\n",
    "plt.title('Distribution of AB',fontsize=title_font_size)\n",
    "plt.xlabel('AB',fontsize=label_font_size)\n",
    "plt.ylabel('Density',fontsize=label_font_size)\n",
    "plt.xticks(fontsize=tick_label_font_size)\n",
    "plt.yticks(fontsize=tick_label_font_size)\n",
    "\n",
    "plt.show(fig)\n",
    "\n"
   ]
  },
  {
   "cell_type": "code",
   "execution_count": null,
   "metadata": {},
   "outputs": [],
   "source": [
    "#simple analysis 'AB'\n",
    "regular_y['AB'].describe()"
   ]
  },
  {
   "cell_type": "markdown",
   "metadata": {},
   "source": [
    "상당수의 타자들이 **100 회 이하의 타석**에 들어선 것을 알수 있으며,  \n",
    "기본적 데이터 분석에서도 **절반의 선수가 163 타석이하로 들어서는 것**을 알 수 있다"
   ]
  },
  {
   "cell_type": "markdown",
   "metadata": {},
   "source": [
    "## 5-3 OPS"
   ]
  },
  {
   "cell_type": "code",
   "execution_count": null,
   "metadata": {},
   "outputs": [],
   "source": [
    "plt.figure(figsize=figure_size)\n",
    "#distribution 'OPS'\n",
    "#OPS의 경우 null 값이 있으므로 해당 null 값들을 제외한다.\n",
    "fig = sns.distplot(regular_y['OPS'].dropna())\n",
    "plt.title('Distribution of OPS',fontsize=title_font_size)\n",
    "\n",
    "plt.xlabel('OPS',fontsize=label_font_size)\n",
    "plt.ylabel('Density',fontsize=label_font_size)\n",
    "plt.xticks(fontsize=tick_label_font_size)\n",
    "plt.yticks(fontsize=tick_label_font_size)\n",
    "\n",
    "plt.show(fig)\n",
    "\n",
    "#simple analysis 'OPS'\n",
    "regular_y['OPS'].describe()"
   ]
  },
  {
   "cell_type": "markdown",
   "metadata": {},
   "source": [
    "**OPS**의 경우 데이터상 **0**의 값을 가지고 있는 선수들이 있으므로 **0** 의 경우 상대적 높게 관측되지만, 어느정도 정규분포를 따른다고 이야기 할 수 있다.\n",
    "  "
   ]
  },
  {
   "cell_type": "markdown",
   "metadata": {},
   "source": [
    "# 6. 연관성"
   ]
  },
  {
   "cell_type": "markdown",
   "metadata": {},
   "source": [
    "## 6-1 OPS vs AB"
   ]
  },
  {
   "cell_type": "code",
   "execution_count": null,
   "metadata": {},
   "outputs": [],
   "source": [
    "#OPS vs AB\n",
    "plt.figure(figsize=figure_size)\n",
    "plt.scatter(regular_y['AB'],regular_y['OPS'])\n",
    "plt.title(\"OPS on AB\",fontsize=title_font_size)\n",
    "plt.xlabel(\"AB\",fontsize=label_font_size)\n",
    "plt.ylabel(\"OPS\",fontsize=label_font_size)\n",
    "plt.xticks(fontsize=tick_label_font_size)\n",
    "plt.yticks(fontsize=tick_label_font_size)\n",
    "plt.show"
   ]
  },
  {
   "cell_type": "markdown",
   "metadata": {},
   "source": [
    "**OPS**는 **AB(타석)** 수에 **비례하여 상승** 하는것으로 보인다  \n",
    "이와 같은 경우는 **성적이 좋은선수 (OPS가 높을 가능성이 높음)** 가  \n",
    "꾸준히 타석에 들어서기 때문일 가능성이 제기된다.  \n",
    "  "
   ]
  },
  {
   "cell_type": "markdown",
   "metadata": {},
   "source": [
    "## 6-2 OPS vs Year"
   ]
  },
  {
   "cell_type": "code",
   "execution_count": null,
   "metadata": {},
   "outputs": [],
   "source": [
    "#Year vs OPS\n",
    "plt.figure(figsize=figure_size)\n",
    "plt.scatter(regular_y['year'],regular_y['OPS'])\n",
    "plt.title('OPS on year',fontsize=title_font_size)\n",
    "plt.xlabel('year',fontsize=label_font_size)\n",
    "plt.ylabel('OPS',fontsize=label_font_size)\n",
    "plt.xticks(fontsize=tick_label_font_size)\n",
    "plt.yticks(fontsize=tick_label_font_size)\n",
    "plt.ylim(-0.2,2.5)\n",
    "plt.show()"
   ]
  },
  {
   "cell_type": "markdown",
   "metadata": {},
   "source": [
    "**OPS**의 **year** 별 분포는 대부분 비슷한 수준으로 형성되있으나,  \n",
    "몇몇 outlier 와 2005년 이전에 값의 부재를 확인 할수 있다."
   ]
  },
  {
   "cell_type": "markdown",
   "metadata": {},
   "source": [
    "## 6-3 Year vs AB"
   ]
  },
  {
   "cell_type": "code",
   "execution_count": null,
   "metadata": {
    "scrolled": true
   },
   "outputs": [],
   "source": [
    "#'year' vs 'AB'\n",
    "plt.figure(figsize=figure_size)\n",
    "plt.scatter(regular_y['year'],regular_y['AB'])\n",
    "plt.title('AB on year',fontsize=title_font_size)\n",
    "plt.xlabel('year',fontsize=label_font_size)\n",
    "plt.ylabel('AB',fontsize=label_font_size)\n",
    "plt.xticks(fontsize=tick_label_font_size)\n",
    "plt.yticks(fontsize=tick_label_font_size)\n",
    "plt.show()"
   ]
  },
  {
   "cell_type": "markdown",
   "metadata": {},
   "source": [
    "## 7. 기타 데이터"
   ]
  },
  {
   "cell_type": "markdown",
   "metadata": {},
   "source": [
    "### 선수"
   ]
  },
  {
   "cell_type": "code",
   "execution_count": null,
   "metadata": {},
   "outputs": [],
   "source": [
    "#count of unique values\n",
    "regular_y['batter_name'].nunique()"
   ]
  },
  {
   "cell_type": "markdown",
   "metadata": {},
   "source": [
    "**데이터 내에 총 338명의 선수**가 있다."
   ]
  },
  {
   "cell_type": "markdown",
   "metadata": {},
   "source": [
    "### 포지션(투타)"
   ]
  },
  {
   "cell_type": "code",
   "execution_count": null,
   "metadata": {},
   "outputs": [],
   "source": [
    "#각 포지션 별로 카운트와, 평균값 그래프로 도출\n",
    "#그룹별로 해서 그래프로 도출하기\n",
    "#subplot visualisation\n",
    "plt.figure(figsize=figure_size)\n",
    "plt.subplots_adjust(hspace=0.4)\n",
    "\n",
    "plt.tight_layout()\n",
    "plt.title('OPS & Number of players by Position',size=25)\n",
    "\n",
    "plt.xticks(fontproperties=fp,fontsize=tick_label_font_size)\n",
    "plt.yticks(fontproperties=fp,fontsize=tick_label_font_size)\n",
    "\n",
    "plt.xlabel('cp',fontproperties=fp, fontsize=label_font_size)\n",
    "plt.ylabel('OPS',fontproperties=fp,fontsize=label_font_size)\n",
    "\n",
    "#number of players for each position\n",
    "#plt.subplot(2,1,1)\n",
    "regular_y.groupby(['cp'])['cp'].value_counts().plot(secondary_y=True)\n",
    "\n",
    "#mean of 'OPS' by each position\n",
    "#plt.subplot(2,1,2)\n",
    "regular_y.groupby(['cp'])['OPS'].mean().plot.bar()\n",
    "\n",
    "plt.show()"
   ]
  },
  {
   "cell_type": "markdown",
   "metadata": {},
   "source": [
    "**포지션별 OPS**의 경우,  \n",
    "**내야수가 평균적으로 가장 높은 것**으로 관측되며,\n",
    "**외야수가 평균적으로 가장 낮은 것**으로 관측된다.\n",
    "  \n",
    "포지션의 경우 기재되지 않은 값(null) 값이 다수 존재하므로,  \n",
    "관측 대상에서는 제외한다.  \n"
   ]
  },
  {
   "cell_type": "markdown",
   "metadata": {},
   "source": [
    "# 8. Advanced EDA (OPS related)"
   ]
  },
  {
   "cell_type": "markdown",
   "metadata": {},
   "source": [
    "기본적인 EDA 분석후 세부 EDA와 OPS (Target) 관련 변수들에 대해 알아본다."
   ]
  },
  {
   "cell_type": "markdown",
   "metadata": {},
   "source": [
    "## 8-1 Correlation (OPS)"
   ]
  },
  {
   "cell_type": "code",
   "execution_count": null,
   "metadata": {
    "ExecuteTime": {
     "end_time": "2019-12-04T02:59:16.279382Z",
     "start_time": "2019-12-04T02:59:14.791382Z"
    },
    "scrolled": false
   },
   "outputs": [],
   "source": [
    "cor=regular_y2.corr()\n",
    "\n",
    "mask=np.zeros_like(cor,dtype=np.bool)\n",
    "mask[np.triu_indices_from(mask)]=True\n",
    "\n",
    "f,ax=plt.subplots(figsize=(20,20))\n",
    "cmap=sns.diverging_palette(200,10,as_cmap=True)\n",
    "sns.heatmap(cor,mask=mask,cmap=cmap,center=0,square=True,linewidths=0.5,cbar_kws={\"shrink\":0.75},annot=True)\n",
    "plt.title('baseball data correlation',size=30)\n",
    "ax.set_xticklabels(list(regular_y2.columns),size=15)\n",
    "ax.set_yticklabels(list(regular_y2.columns),size=15,rotation=0);\n",
    "\n"
   ]
  },
  {
   "cell_type": "markdown",
   "metadata": {},
   "source": [
    "Correlation(연관성) 으로 알아보면\n",
    "\n",
    "OPS 측면에서     \n",
    "avg, SLG, OBP 가 OPS와 높은 상관관계를 가지는 것을 알 수 있다.      \n",
    "이는 OPS가 SLG와 OBP로 이루어져 있는 것을 통해 설명 가능하며,     \n",
    "avg는 SLG와 OBP에 영향을 미치기 때문에 위와 같은 결과를 예측 할 수 있다.      "
   ]
  },
  {
   "cell_type": "code",
   "execution_count": null,
   "metadata": {},
   "outputs": [],
   "source": [
    "#Correlation of all variables\n",
    "data_corr = regular_y.corr()\n",
    "\n",
    "#Correlation heat map\n",
    "#sns set load\n",
    "sns.set(style=\"white\")\n",
    "\n",
    "# Generate a mask for the upper triangle\n",
    "mask = np.zeros_like(data_corr, dtype=np.bool)\n",
    "mask[np.triu_indices_from(mask)] = True\n",
    "\n",
    "# Set up the matplotlib figure\n",
    "f, ax = plt.subplots(figsize=(11, 9))\n",
    "\n",
    "# Generate a custom diverging colormap\n",
    "cmap = sns.diverging_palette(220, 10, as_cmap=True)\n",
    "\n",
    "# Draw the heatmap with the mask and correct aspect ratio\n",
    "sns.heatmap(data_corr,mask=mask, cmap=cmap, vmin= -1, vmax=1, center=0,\n",
    "            square=True, linewidths=.5, cbar_kws={\"shrink\": .5})\n",
    "ax.set_title('Correlation',size=25)\n",
    "plt.show()\n",
    "\n"
   ]
  },
  {
   "cell_type": "markdown",
   "metadata": {},
   "source": [
    "#### Corrleation (OPS on AB)"
   ]
  },
  {
   "cell_type": "code",
   "execution_count": null,
   "metadata": {},
   "outputs": [],
   "source": [
    "#100타석 이하의 OPS\n",
    "plt.figure(figsize=figure_size)\n",
    "data_ab100 = regular_y.loc[regular_y['AB']<100]\n",
    "plt.scatter(data_ab100['AB'],data_ab100['OPS'])\n",
    "plt.title('OPS on AB(<100)',size=25)\n",
    "plt.xlabel('AB')\n",
    "plt.ylabel('OPS')\n",
    "\n",
    "# plt.xticks(fontproperties=fp,fontsize=25)\n",
    "# plt.yticks(fontsize=25)\n",
    "# plt.xlabel('hand',size=30)\n",
    "# plt.ylabel('다음 시즌 OPS',fontproperties=fp,size=30);\n",
    "plt.xlabel('hand',fontproperties=fp,size=15)\n",
    "plt.ylabel('다음 시즌 OPS',fontproperties=fp,size=15);\n",
    "\n",
    "\n",
    "\n",
    "plt.show()\n",
    "\n",
    "#50타석 이전의 경우 변동성이 높으므로 50타석 이상의 선수들로 사용."
   ]
  },
  {
   "cell_type": "markdown",
   "metadata": {},
   "source": [
    "위의 그래프에서 관찰되었듯이,  \n",
    "**50타석 이하의 경우, 변동성이 높은 분포**를 보이며,  \n",
    "이는 모델의 예측성이 낮으므로,   \n",
    "**50타석이상의 결과값으로 모델링을 진행**한다."
   ]
  },
  {
   "cell_type": "markdown",
   "metadata": {},
   "source": [
    "## 8-2 Variation"
   ]
  },
  {
   "cell_type": "code",
   "execution_count": null,
   "metadata": {},
   "outputs": [],
   "source": [
    "#self correlation definition and scatter plot print \n",
    "def get_self_corr(var,data=regular_y):\n",
    "    x=[]\n",
    "    y=[]\n",
    "    data_self_corr=data.loc[data['AB']>=50,]\n",
    "    for name in data_self_corr['batter_name'].unique():\n",
    "        a=data_self_corr.loc[data_self_corr['batter_name']==name,].sort_values('year')\n",
    "        k=[]\n",
    "        for i in a['year'].unique():\n",
    "            if (a['year']==i+1).sum()==1:\n",
    "                k.append(i)\n",
    "        for i in k:\n",
    "            x.append(a.loc[a['year']==i,var].iloc[0])\n",
    "            y.append(a.loc[a['year']==i+1,var].iloc[0])\n",
    "    plt.scatter(x,y)\n",
    "    plt.title(var)\n",
    "    \n",
    "#self correlation definition and scatter plot print \n",
    "def get_self_corr_value(var,data=regular_y):\n",
    "    x=[]\n",
    "    y=[]\n",
    "    data_self_corr=data.loc[data['AB']>=50,]\n",
    "    for name in data_self_corr['batter_name'].unique():\n",
    "        a=data_self_corr.loc[data_self_corr['batter_name']==name,].sort_values('year')\n",
    "        k=[]\n",
    "        for i in a['year'].unique():\n",
    "            if (a['year']==i+1).sum()==1:\n",
    "                k.append(i)\n",
    "        for i in k:\n",
    "            x.append(a.loc[a['year']==i,var].iloc[0])\n",
    "            y.append(a.loc[a['year']==i+1,var].iloc[0])\n",
    "    \n",
    "    return (pd.Series(x).corr(pd.Series(y))**2)"
   ]
  },
  {
   "cell_type": "code",
   "execution_count": null,
   "metadata": {},
   "outputs": [],
   "source": [
    "#subplot visualisation\n",
    "plt.figure(figsize=(16,12))\n",
    "plt.subplots_adjust(hspace=0.4)\n",
    "\n",
    "plt.tight_layout()\n",
    "\n",
    "plt.subplot(4,4,1)\n",
    "get_self_corr('G')\n",
    "\n",
    "plt.subplot(4,4,2)\n",
    "get_self_corr('R')\n",
    "\n",
    "plt.subplot(4,4,3)\n",
    "get_self_corr('H')\n",
    "\n",
    "plt.subplot(4,4,4)\n",
    "get_self_corr('1B')\n",
    "\n",
    "plt.subplot(4,4,5)\n",
    "get_self_corr('2B')\n",
    "\n",
    "plt.subplot(4,4,6)\n",
    "get_self_corr('3B')\n",
    "\n",
    "plt.subplot(4,4,7)\n",
    "get_self_corr('HR')\n",
    "\n",
    "plt.subplot(4,4,8)\n",
    "get_self_corr('RBI')\n",
    "\n",
    "plt.subplot(4,4,9)\n",
    "get_self_corr('SB')\n",
    "\n",
    "plt.subplot(4,4,10)\n",
    "get_self_corr('CS')\n",
    "\n",
    "plt.subplot(4,4,11)\n",
    "get_self_corr('BB')\n",
    "\n",
    "plt.subplot(4,4,12)\n",
    "get_self_corr('HBP')\n",
    "\n",
    "plt.subplot(4,4,13)\n",
    "get_self_corr('SO')\n",
    "\n",
    "plt.subplot(4,4,14)\n",
    "get_self_corr('GDP')\n",
    "\n",
    "plt.subplot(4,4,15)\n",
    "get_self_corr('avg')\n",
    "\n",
    "# plt.subplot(4,4,16)\n",
    "# get_self_corr('E')"
   ]
  },
  {
   "cell_type": "code",
   "execution_count": null,
   "metadata": {},
   "outputs": [],
   "source": [
    "self_corr_value={}\n",
    "for i in ['avg','G','R','H','1B','2B','3B','HR','RBI','SB','CS','BB','HBP','SO','GDP']:\n",
    "    self_corr_value[i]=get_self_corr_value(i)\n",
    "self_corr_value"
   ]
  },
  {
   "cell_type": "markdown",
   "metadata": {},
   "source": [
    "상대적 신뢰성이 낮은 지표 (변동성이 높은 지표)    \n",
    "> **타율, 병살타, 경기수, 3루타**  **운적인 요소가 강한 지표**\n",
    "\n",
    "상대적 신뢰성이 높은 지표 (변동성이 낮은 지표):  \n",
    "\n",
    ">**볼넷, 홈런, 타점, 도루**   **운적인 요소가 적은 지표**\n",
    "\n",
    "\n",
    "이와같이 변동성이 높은 지표의 경우, 변동성을 줄이는 것이 요구된다.  \n",
    "\n",
    "따라서, \n",
    "변동성이 높은 지표는 **선수의 누적성적 (Career_performance)** 로 변동성을 줄이는 것이 요구된다."
   ]
  },
  {
   "cell_type": "markdown",
   "metadata": {},
   "source": [
    "# 9. 모델링"
   ]
  },
  {
   "cell_type": "markdown",
   "metadata": {},
   "source": [
    "## 9-1 train, test 나누기 및 변수 선택"
   ]
  },
  {
   "cell_type": "code",
   "execution_count": null,
   "metadata": {
    "ExecuteTime": {
     "end_time": "2019-12-04T05:01:11.011286Z",
     "start_time": "2019-12-04T05:01:10.999244Z"
    }
   },
   "outputs": [],
   "source": [
    "# total=pd.read_csv(\"real_total.csv\")\n",
    "\n",
    "del total['BB']\n",
    "del total['HBP']\n",
    "\n",
    "del total['PA']\n",
    "\n",
    "del total['SB']\n",
    "del total['CS']\n",
    "\n",
    "del total['OBP']\n",
    "del total['SLG']\n",
    "\n",
    "del total['1B']\n",
    "del total['2B']\n",
    "del total['3B']\n",
    "\n",
    "del total['SO']"
   ]
  },
  {
   "cell_type": "code",
   "execution_count": null,
   "metadata": {
    "ExecuteTime": {
     "end_time": "2019-12-04T05:21:01.86175Z",
     "start_time": "2019-12-04T05:21:01.832695Z"
    }
   },
   "outputs": [],
   "source": [
    "train=total.copy()\n",
    "del train['p_year']\n",
    "\n",
    "train_y2=train[['year','YAB','YOPS']]\n",
    "\n",
    "y_train=train_y2[train_y2['year']<=2017].reset_index(drop=True)\n",
    "y_test=train_y2[train_y2['year']==2018].reset_index(drop=True)\n",
    "\n",
    "del y_train['year']\n",
    "del y_test['year']\n",
    "\n",
    "del train['batter_name']\n",
    "del train['YAB']\n",
    "del train['YOPS']\n",
    "\n",
    "train = pd.get_dummies(train,columns=['hand2'])\n",
    "train = pd.get_dummies(train,columns=['tp'])\n",
    "\n",
    "X_train=train[train['year']<=2017].reset_index(drop=True)\n",
    "\n",
    "X_test=train[train['year']==2018].reset_index(drop=True)\n",
    "\n",
    "del X_train['year']\n",
    "del X_test['year']"
   ]
  },
  {
   "cell_type": "code",
   "execution_count": null,
   "metadata": {
    "ExecuteTime": {
     "end_time": "2019-12-04T05:21:02.438697Z",
     "start_time": "2019-12-04T05:21:02.427697Z"
    }
   },
   "outputs": [],
   "source": [
    "X_train=X_train.fillna(0.0000)\n",
    "\n",
    "X_test=X_test.fillna(0.0000)\n",
    "\n",
    "y_train=y_train.fillna(0.0000)\n",
    "\n",
    "y_test=y_test.fillna(0.0000)\n",
    "\n",
    "X_train.shape, X_test.shape, y_train.shape, y_test.shape"
   ]
  },
  {
   "cell_type": "markdown",
   "metadata": {},
   "source": [
    "### eda 제거"
   ]
  },
  {
   "cell_type": "code",
   "execution_count": null,
   "metadata": {
    "ExecuteTime": {
     "end_time": "2019-12-04T05:21:04.099354Z",
     "start_time": "2019-12-04T05:21:04.078353Z"
    }
   },
   "outputs": [],
   "source": [
    "list1=list(X_train[X_train['OPS']>=1.25].index)\n",
    "X_train=X_train.drop(list1,axis=0).reset_index(drop=True)\n",
    "y_train=y_train.drop(list1,axis=0).reset_index(drop=True)\n",
    "\n",
    "list2=list(X_train[X_train['OPS+']<=25].index)\n",
    "X_train=X_train.drop(list2,axis=0).reset_index(drop=True)\n",
    "y_train=y_train.drop(list2,axis=0).reset_index(drop=True)\n",
    "\n",
    "# list3=list(X_train[ (X_train['AB']<=10) & (X_train['OPS']>=1) ].index)\n",
    "# X_train=X_train.drop(list3,axis=0).reset_index(drop=True)\n",
    "# y_train=y_train.drop(list3,axis=0).reset_index(drop=True)\n",
    "\n",
    "# list4=list(X_train[ (X_train['AB']<=10) & (X_train['OPS']<=0.00001) ].index)\n",
    "# X_train=X_train.drop(list4,axis=0).reset_index(drop=True)\n",
    "# y_train=y_train.drop(list4,axis=0).reset_index(drop=True)\n",
    "\n",
    "X_train.shape, X_test.shape, y_train.shape, y_test.shape"
   ]
  },
  {
   "cell_type": "markdown",
   "metadata": {},
   "source": [
    "## 9-2 randomforestregressor"
   ]
  },
  {
   "cell_type": "code",
   "execution_count": null,
   "metadata": {
    "ExecuteTime": {
     "end_time": "2019-12-04T05:10:55.726162Z",
     "start_time": "2019-12-04T05:07:29.865865Z"
    }
   },
   "outputs": [],
   "source": [
    "# # Create the parameter grid based on the results of random search \n",
    "# param_grid = {\n",
    "#     'max_features': [2, 3],\n",
    "#     'min_samples_leaf': [7,9,11],\n",
    "#     'min_samples_split': [2,3],\n",
    "#     'n_estimators': [200,300,500]\n",
    "# }\n",
    "# # Create a based model\n",
    "# rf = RandomForestRegressor(criterion='mae',random_state=1234)\n",
    "# # Instantiate the grid search model\n",
    "# grid_search = GridSearchCV(estimator = rf, param_grid = param_grid)\n",
    "\n",
    "# grid_search.fit(X_train, y_train['YOPS'])"
   ]
  },
  {
   "cell_type": "code",
   "execution_count": null,
   "metadata": {
    "ExecuteTime": {
     "end_time": "2019-12-04T05:10:55.732131Z",
     "start_time": "2019-12-04T05:10:55.72813Z"
    }
   },
   "outputs": [],
   "source": [
    "# grid_search.best_params_"
   ]
  },
  {
   "cell_type": "code",
   "execution_count": null,
   "metadata": {
    "ExecuteTime": {
     "end_time": "2019-12-04T05:10:55.739162Z",
     "start_time": "2019-12-04T05:10:55.735131Z"
    }
   },
   "outputs": [],
   "source": [
    "# best_grid = grid_search.best_estimator_"
   ]
  },
  {
   "cell_type": "markdown",
   "metadata": {},
   "source": [
    "train 결측치 제거 추가적인 eda도 한 경우"
   ]
  },
  {
   "cell_type": "code",
   "execution_count": null,
   "metadata": {
    "ExecuteTime": {
     "end_time": "2019-12-04T05:21:39.952866Z",
     "start_time": "2019-12-04T05:21:36.522469Z"
    }
   },
   "outputs": [],
   "source": [
    "# best_grid = RandomForestRegressor(criterion='mae',max_features=3,min_samples_leaf=7, min_samples_split=2, n_estimators=200,random_state=1234)\n",
    "best_grid = RandomForestRegressor(criterion='mae',max_features=3,min_samples_leaf=7, min_samples_split=2, n_estimators=300,random_state=1234)\n",
    "\n",
    "best_grid.fit(X_train,y_train['YOPS'])"
   ]
  },
  {
   "cell_type": "code",
   "execution_count": null,
   "metadata": {
    "ExecuteTime": {
     "end_time": "2019-12-04T05:21:40.094835Z",
     "start_time": "2019-12-04T05:21:40.048836Z"
    }
   },
   "outputs": [],
   "source": [
    "y_pred_train = best_grid.predict(X_train)\n",
    "\n",
    "print( 'train randomforest regressor mae :' , round(mean_absolute_error(y_train['YOPS'], y_pred_train),4) )"
   ]
  },
  {
   "cell_type": "code",
   "execution_count": null,
   "metadata": {
    "ExecuteTime": {
     "end_time": "2019-12-04T05:21:40.484874Z",
     "start_time": "2019-12-04T05:21:40.455836Z"
    }
   },
   "outputs": [],
   "source": [
    "y_pred = best_grid.predict(X_test)\n",
    "\n",
    "print( 'test randomforest regressor mae :' , round(mean_absolute_error(y_test['YOPS'], y_pred),4) )"
   ]
  },
  {
   "cell_type": "code",
   "execution_count": null,
   "metadata": {
    "ExecuteTime": {
     "end_time": "2019-12-04T05:21:40.671837Z",
     "start_time": "2019-12-04T05:21:40.662835Z"
    }
   },
   "outputs": [],
   "source": [
    "print( 'test randomforest regressor 가중치 rmse :' , round( sqrt( (( (((y_test['YOPS']-y_pred)**2)*y_test['YAB']).sum() )  /  y_test['YAB'].sum()) ),4) )"
   ]
  },
  {
   "cell_type": "code",
   "execution_count": null,
   "metadata": {
    "ExecuteTime": {
     "end_time": "2019-12-04T05:21:40.893839Z",
     "start_time": "2019-12-04T05:21:40.879834Z"
    }
   },
   "outputs": [],
   "source": [
    "df1 = DataFrame( list(zip(y_test['YOPS'],y_pred,y_test['YAB'])), columns=['YOPS','predict','YAB']  )\n",
    "\n",
    "df1 = df1[df1['YAB']>=50]\n",
    "\n",
    "print( '50타수 이상 test randomforest regressor mae :' , round( mean_absolute_error(df1['YOPS'], df1['predict']),4) )"
   ]
  },
  {
   "cell_type": "code",
   "execution_count": null,
   "metadata": {
    "ExecuteTime": {
     "end_time": "2019-12-04T05:21:41.37944Z",
     "start_time": "2019-12-04T05:21:41.369441Z"
    }
   },
   "outputs": [],
   "source": [
    "print( '50타수 이상 test randomforest regressor 가중치 rmse :' , round( sqrt( (( (((df1['YOPS']-df1['predict'])**2)*df1['YAB']).sum() )  /  df1['YAB'].sum()) ),4) )"
   ]
  },
  {
   "cell_type": "markdown",
   "metadata": {},
   "source": [
    "# 10. 최종 결론"
   ]
  },
  {
   "cell_type": "markdown",
   "metadata": {},
   "source": [
    "## 10-1 변수가 미치는 요인 파악"
   ]
  },
  {
   "cell_type": "code",
   "execution_count": null,
   "metadata": {
    "ExecuteTime": {
     "end_time": "2019-12-04T05:10:55.864131Z",
     "start_time": "2019-12-04T05:10:55.85913Z"
    }
   },
   "outputs": [],
   "source": [
    "n_feature = X_train.shape[1] #주어진 변수들의 갯수를 구함\n",
    "index = np.arange(n_feature)\n",
    "input_var=X_train.columns"
   ]
  },
  {
   "cell_type": "markdown",
   "metadata": {},
   "source": [
    "학습된 랜덤포레스트에서 feature_importance_를 입력하면, 해당 변수에 대한 변수 중요도가 수치적으로 나타난다.\n",
    "\n",
    "이를 수평 막대 그래프를 활용하여 그리는 과정은 다음과 같다."
   ]
  },
  {
   "cell_type": "code",
   "execution_count": null,
   "metadata": {
    "ExecuteTime": {
     "end_time": "2019-12-04T05:10:55.912138Z",
     "start_time": "2019-12-04T05:10:55.877133Z"
    }
   },
   "outputs": [],
   "source": [
    "score2=DataFrame( list(zip(input_var,best_grid.feature_importances_  )), columns=['name','importance'])\n",
    "score2=score2.sort_values('importance')\n",
    "score3=score2.sort_values('importance',ascending=False)"
   ]
  },
  {
   "cell_type": "code",
   "execution_count": null,
   "metadata": {
    "ExecuteTime": {
     "end_time": "2019-12-04T05:10:55.92213Z",
     "start_time": "2019-12-04T05:10:55.913128Z"
    }
   },
   "outputs": [],
   "source": [
    "score3.head(6)"
   ]
  },
  {
   "cell_type": "code",
   "execution_count": null,
   "metadata": {
    "ExecuteTime": {
     "end_time": "2019-12-04T05:10:55.93313Z",
     "start_time": "2019-12-04T05:10:55.924131Z"
    }
   },
   "outputs": [],
   "source": [
    "score3.tail(6)"
   ]
  },
  {
   "cell_type": "code",
   "execution_count": null,
   "metadata": {
    "ExecuteTime": {
     "end_time": "2019-12-04T05:10:56.441162Z",
     "start_time": "2019-12-04T05:10:55.93513Z"
    }
   },
   "outputs": [],
   "source": [
    "plt.rcParams[\"figure.figsize\"] = (16,10)\n",
    "\n",
    "plt.barh(index, score2['importance'], align='center') #\n",
    "plt.xticks(size=tick_label_font_size)\n",
    "plt.yticks(index, score2['name'],fontproperties=fp,size=tick_label_font_size)\n",
    "plt.ylim(-1, n_feature)\n",
    "plt.xlabel('feature importance', size=label_font_size)\n",
    "plt.ylabel('feature', size=label_font_size)\n",
    "plt.title('RandomForest Regressor feature importance', size=title_font_size)\n",
    "plt.show();"
   ]
  },
  {
   "cell_type": "markdown",
   "metadata": {},
   "source": [
    "## 10-2 xgbregressor, lin_reg 비교"
   ]
  },
  {
   "cell_type": "code",
   "execution_count": null,
   "metadata": {
    "ExecuteTime": {
     "end_time": "2019-12-04T05:16:50.655519Z",
     "start_time": "2019-12-04T05:16:50.178545Z"
    }
   },
   "outputs": [],
   "source": [
    "est=XGBRegressor(max_depth=3, learning_rate=0.005, n_estimators=100,\n",
    "                     objective='reg:linear', booster='gblinear', reg_lambda=1,\n",
    "                     scale_pos_weight=190, base_score=0.4, random_state=0,\n",
    "                     seed=None, missing=None)\n",
    "\n",
    "result=est.fit(X_train, y_train['YOPS'], sample_weight=None, eval_set=None, eval_metric=None,\n",
    "                  early_stopping_rounds=None, verbose=True, xgb_model=None)\n",
    "\n"
   ]
  },
  {
   "cell_type": "code",
   "execution_count": null,
   "metadata": {
    "ExecuteTime": {
     "end_time": "2019-12-04T05:16:50.671523Z",
     "start_time": "2019-12-04T05:16:50.657506Z"
    }
   },
   "outputs": [],
   "source": [
    "y_pred_train = result.predict(X_train)\n",
    "\n",
    "print( 'train randomforest regressor mae :' , round(mean_absolute_error(y_train['YOPS'], y_pred_train),4) )"
   ]
  },
  {
   "cell_type": "code",
   "execution_count": null,
   "metadata": {
    "ExecuteTime": {
     "end_time": "2019-12-04T05:16:50.68351Z",
     "start_time": "2019-12-04T05:16:50.673517Z"
    }
   },
   "outputs": [],
   "source": [
    "y_pred = result.predict(X_test)\n",
    "\n",
    "print( 'test randomforest regressor mae :' , round(mean_absolute_error(y_test['YOPS'], y_pred),4) )"
   ]
  },
  {
   "cell_type": "code",
   "execution_count": null,
   "metadata": {
    "ExecuteTime": {
     "end_time": "2019-12-04T05:16:50.77851Z",
     "start_time": "2019-12-04T05:16:50.770542Z"
    }
   },
   "outputs": [],
   "source": [
    "print( 'test randomforest regressor 가중치 rmse :' ,round( sqrt( (( (((y_test['YOPS']-y_pred)**2)*y_test['YAB']).sum() )  /  y_test['YAB'].sum()) ),4) )"
   ]
  },
  {
   "cell_type": "code",
   "execution_count": null,
   "metadata": {
    "ExecuteTime": {
     "end_time": "2019-12-04T05:16:50.964946Z",
     "start_time": "2019-12-04T05:16:50.952947Z"
    }
   },
   "outputs": [],
   "source": [
    "df1 = DataFrame( list(zip(y_test['YOPS'],y_pred,y_test['YAB'])), columns=['YOPS','predict','YAB']  )\n",
    "\n",
    "df1 = df1[df1['YAB']>=50]\n",
    "\n",
    "print( '50타수 이상 test randomforest regressor mae :' , round(mean_absolute_error(df1['YOPS'], df1['predict']),4) )"
   ]
  },
  {
   "cell_type": "markdown",
   "metadata": {},
   "source": [
    "linear regression"
   ]
  },
  {
   "cell_type": "code",
   "execution_count": null,
   "metadata": {
    "ExecuteTime": {
     "end_time": "2019-12-04T05:16:51.335949Z",
     "start_time": "2019-12-04T05:16:51.315948Z"
    }
   },
   "outputs": [],
   "source": [
    "model2 = LinearRegression().fit(X_train, y_train['YOPS'])\n",
    "\n",
    "y_pred_train = model2.predict(X_train)\n",
    "\n",
    "print( 'train randomforest regressor mae :' , round(mean_absolute_error(y_train['YOPS'], y_pred_train),4) )"
   ]
  },
  {
   "cell_type": "code",
   "execution_count": null,
   "metadata": {
    "ExecuteTime": {
     "end_time": "2019-12-04T05:16:51.519983Z",
     "start_time": "2019-12-04T05:16:51.51095Z"
    }
   },
   "outputs": [],
   "source": [
    "y_pred = model2.predict(X_test)\n",
    "\n",
    "print( 'test randomforest regressor mae :' , round(mean_absolute_error(y_test['YOPS'], y_pred),4) )"
   ]
  },
  {
   "cell_type": "code",
   "execution_count": null,
   "metadata": {
    "ExecuteTime": {
     "end_time": "2019-12-04T05:16:51.705947Z",
     "start_time": "2019-12-04T05:16:51.695946Z"
    }
   },
   "outputs": [],
   "source": [
    "print( 'test randomforest regressor 가중치 rmse :' ,round( sqrt( (( (((y_test['YOPS']-y_pred)**2)*y_test['YAB']).sum() )  /  y_test['YAB'].sum()) ),4) )"
   ]
  },
  {
   "cell_type": "code",
   "execution_count": null,
   "metadata": {
    "ExecuteTime": {
     "end_time": "2019-12-04T05:16:51.896618Z",
     "start_time": "2019-12-04T05:16:51.885644Z"
    }
   },
   "outputs": [],
   "source": [
    "df1 = DataFrame( list(zip(y_test['YOPS'],y_pred,y_test['YAB'])), columns=['YOPS','predict','YAB']  )\n",
    "\n",
    "df1 = df1[df1['YAB']>=50]\n",
    "\n",
    "print( '50타수 이상 test randomforest regressor mae :' , round(mean_absolute_error(df1['YOPS'], df1['predict']),4) )"
   ]
  },
  {
   "cell_type": "markdown",
   "metadata": {},
   "source": [
    "## 10-2 KBO 2016, 2017, 2018 시즌 결과 비교"
   ]
  },
  {
   "cell_type": "markdown",
   "metadata": {},
   "source": [
    "### 2016 시즌"
   ]
  },
  {
   "cell_type": "code",
   "execution_count": null,
   "metadata": {
    "ExecuteTime": {
     "end_time": "2019-12-04T05:22:02.789295Z",
     "start_time": "2019-12-04T05:22:02.761288Z"
    }
   },
   "outputs": [],
   "source": [
    "train=total.copy()\n",
    "del train['p_year']\n",
    "\n",
    "train_y2=train[['year','YAB','YOPS']]\n",
    "\n",
    "y_train=train_y2[train_y2['year']<=2015].reset_index(drop=True)\n",
    "y_test=train_y2[train_y2['year']==2016].reset_index(drop=True)\n",
    "\n",
    "del y_train['year']\n",
    "del y_test['year']\n",
    "\n",
    "del train['batter_name']\n",
    "del train['YAB']\n",
    "del train['YOPS']\n",
    "\n",
    "train = pd.get_dummies(train,columns=['hand2'])\n",
    "train = pd.get_dummies(train,columns=['tp'])\n",
    "\n",
    "X_train=train[train['year']<=2015].reset_index(drop=True)\n",
    "\n",
    "X_test=train[train['year']==2016].reset_index(drop=True)\n",
    "\n",
    "del X_train['year']\n",
    "del X_test['year']"
   ]
  },
  {
   "cell_type": "code",
   "execution_count": null,
   "metadata": {
    "ExecuteTime": {
     "end_time": "2019-12-04T05:22:02.968248Z",
     "start_time": "2019-12-04T05:22:02.960281Z"
    }
   },
   "outputs": [],
   "source": [
    "X_train=X_train.fillna(0.0000)\n",
    "\n",
    "X_test=X_test.fillna(0.0000)\n",
    "\n",
    "y_train=y_train.fillna(0.0000)\n",
    "\n",
    "y_test=y_test.fillna(0.0000)\n",
    "\n",
    "X_train.shape, X_test.shape, y_train.shape, y_test.shape"
   ]
  },
  {
   "cell_type": "code",
   "execution_count": null,
   "metadata": {
    "ExecuteTime": {
     "end_time": "2019-12-04T05:22:03.150374Z",
     "start_time": "2019-12-04T05:22:03.131333Z"
    }
   },
   "outputs": [],
   "source": [
    "list1=list(X_train[X_train['OPS']>=1.25].index)\n",
    "X_train=X_train.drop(list1,axis=0).reset_index(drop=True)\n",
    "y_train=y_train.drop(list1,axis=0).reset_index(drop=True)\n",
    "\n",
    "list2=list(X_train[X_train['OPS+']<=25].index)\n",
    "X_train=X_train.drop(list2,axis=0).reset_index(drop=True)\n",
    "y_train=y_train.drop(list2,axis=0).reset_index(drop=True)\n",
    "\n",
    "X_train.shape, X_test.shape, y_train.shape, y_test.shape"
   ]
  },
  {
   "cell_type": "code",
   "execution_count": null,
   "metadata": {
    "ExecuteTime": {
     "end_time": "2019-12-04T05:22:05.552335Z",
     "start_time": "2019-12-04T05:22:03.303333Z"
    }
   },
   "outputs": [],
   "source": [
    "rf = RandomForestRegressor(criterion='mae',max_features=3,min_samples_leaf=7, min_samples_split=2, n_estimators=200,random_state=1234)\n",
    "\n",
    "rf.fit(X_train,y_train['YOPS'])"
   ]
  },
  {
   "cell_type": "code",
   "execution_count": null,
   "metadata": {
    "ExecuteTime": {
     "end_time": "2019-12-04T05:22:05.598333Z",
     "start_time": "2019-12-04T05:22:05.554335Z"
    },
    "scrolled": true
   },
   "outputs": [],
   "source": [
    "y_pred_train = rf.predict(X_train)\n",
    "\n",
    "print( 'train randomforest regressor mae :' , round(mean_absolute_error(y_train['YOPS'], y_pred_train),4) )"
   ]
  },
  {
   "cell_type": "code",
   "execution_count": null,
   "metadata": {
    "ExecuteTime": {
     "end_time": "2019-12-04T05:22:05.62537Z",
     "start_time": "2019-12-04T05:22:05.601369Z"
    }
   },
   "outputs": [],
   "source": [
    "y_pred = best_grid.predict(X_test)\n",
    "\n",
    "print( 'test randomforest regressor mae :' , round(mean_absolute_error(y_test['YOPS'], y_pred),4) )"
   ]
  },
  {
   "cell_type": "code",
   "execution_count": null,
   "metadata": {
    "ExecuteTime": {
     "end_time": "2019-12-04T05:22:05.638335Z",
     "start_time": "2019-12-04T05:22:05.628335Z"
    }
   },
   "outputs": [],
   "source": [
    "print( 'test randomforest regressor 가중치 rmse :' , round( sqrt( (( (((y_test['YOPS']-y_pred)**2)*y_test['YAB']).sum() )  /  y_test['YAB'].sum()) ),4) )"
   ]
  },
  {
   "cell_type": "code",
   "execution_count": null,
   "metadata": {
    "ExecuteTime": {
     "end_time": "2019-12-04T05:22:05.664333Z",
     "start_time": "2019-12-04T05:22:05.640334Z"
    }
   },
   "outputs": [],
   "source": [
    "df1 = DataFrame( list(zip(y_test['YOPS'],y_pred,y_test['YAB'])), columns=['YOPS','predict','YAB']  )\n",
    "\n",
    "df1 = df1[df1['YAB']>=50]\n",
    "\n",
    "print( '50타수 이상 test randomforest regressor mae :' , round( mean_absolute_error(df1['YOPS'], df1['predict']),4) )"
   ]
  },
  {
   "cell_type": "code",
   "execution_count": null,
   "metadata": {
    "ExecuteTime": {
     "end_time": "2019-12-04T05:22:05.677335Z",
     "start_time": "2019-12-04T05:22:05.667343Z"
    }
   },
   "outputs": [],
   "source": [
    "print( '50타수 이상 test randomforest regressor 가중치 rmse :' , round( sqrt( (( (((df1['YOPS']-df1['predict'])**2)*df1['YAB']).sum() )  /  df1['YAB'].sum()) ),4) )"
   ]
  },
  {
   "cell_type": "markdown",
   "metadata": {},
   "source": [
    "### 2017 시즌"
   ]
  },
  {
   "cell_type": "code",
   "execution_count": null,
   "metadata": {
    "ExecuteTime": {
     "end_time": "2019-12-04T05:22:05.714331Z",
     "start_time": "2019-12-04T05:22:05.679335Z"
    }
   },
   "outputs": [],
   "source": [
    "train=total.copy()\n",
    "del train['p_year']\n",
    "\n",
    "train_y2=train[['year','YAB','YOPS']]\n",
    "\n",
    "y_train=train_y2[train_y2['year']<=2016].reset_index(drop=True)\n",
    "y_test=train_y2[train_y2['year']==2017].reset_index(drop=True)\n",
    "\n",
    "del y_train['year']\n",
    "del y_test['year']\n",
    "\n",
    "del train['batter_name']\n",
    "del train['YAB']\n",
    "del train['YOPS']\n",
    "\n",
    "train = pd.get_dummies(train,columns=['hand2'])\n",
    "train = pd.get_dummies(train,columns=['tp'])\n",
    "\n",
    "X_train=train[train['year']<=2016].reset_index(drop=True)\n",
    "\n",
    "X_test=train[train['year']==2017].reset_index(drop=True)\n",
    "\n",
    "del X_train['year']\n",
    "del X_test['year']"
   ]
  },
  {
   "cell_type": "code",
   "execution_count": null,
   "metadata": {
    "ExecuteTime": {
     "end_time": "2019-12-04T05:22:05.728334Z",
     "start_time": "2019-12-04T05:22:05.716333Z"
    }
   },
   "outputs": [],
   "source": [
    "X_train=X_train.fillna(0.0000)\n",
    "\n",
    "X_test=X_test.fillna(0.0000)\n",
    "\n",
    "y_train=y_train.fillna(0.0000)\n",
    "\n",
    "y_test=y_test.fillna(0.0000)\n",
    "\n",
    "X_train.shape, X_test.shape, y_train.shape, y_test.shape"
   ]
  },
  {
   "cell_type": "code",
   "execution_count": null,
   "metadata": {
    "ExecuteTime": {
     "end_time": "2019-12-04T05:22:05.746333Z",
     "start_time": "2019-12-04T05:22:05.730333Z"
    }
   },
   "outputs": [],
   "source": [
    "list1=list(X_train[X_train['OPS']>=1.25].index)\n",
    "X_train=X_train.drop(list1,axis=0).reset_index(drop=True)\n",
    "y_train=y_train.drop(list1,axis=0).reset_index(drop=True)\n",
    "\n",
    "list2=list(X_train[X_train['OPS+']<=25].index)\n",
    "X_train=X_train.drop(list2,axis=0).reset_index(drop=True)\n",
    "y_train=y_train.drop(list2,axis=0).reset_index(drop=True)\n",
    "\n",
    "X_train.shape, X_test.shape, y_train.shape, y_test.shape"
   ]
  },
  {
   "cell_type": "code",
   "execution_count": null,
   "metadata": {
    "ExecuteTime": {
     "end_time": "2019-12-04T05:22:08.324369Z",
     "start_time": "2019-12-04T05:22:05.748334Z"
    }
   },
   "outputs": [],
   "source": [
    "rf = RandomForestRegressor(criterion='mae',max_features=3,min_samples_leaf=7, min_samples_split=2, n_estimators=200,random_state=1234)\n",
    "\n",
    "rf.fit(X_train,y_train['YOPS'])"
   ]
  },
  {
   "cell_type": "code",
   "execution_count": null,
   "metadata": {
    "ExecuteTime": {
     "end_time": "2019-12-04T05:22:08.369337Z",
     "start_time": "2019-12-04T05:22:08.325333Z"
    },
    "scrolled": true
   },
   "outputs": [],
   "source": [
    "y_pred_train = rf.predict(X_train)\n",
    "\n",
    "print( 'train randomforest regressor mae :' , round(mean_absolute_error(y_train['YOPS'], y_pred_train),4) )"
   ]
  },
  {
   "cell_type": "code",
   "execution_count": null,
   "metadata": {
    "ExecuteTime": {
     "end_time": "2019-12-04T05:22:08.398335Z",
     "start_time": "2019-12-04T05:22:08.372335Z"
    }
   },
   "outputs": [],
   "source": [
    "y_pred = best_grid.predict(X_test)\n",
    "\n",
    "print( 'test randomforest regressor mae :' , round(mean_absolute_error(y_test['YOPS'], y_pred),4) )"
   ]
  },
  {
   "cell_type": "code",
   "execution_count": null,
   "metadata": {
    "ExecuteTime": {
     "end_time": "2019-12-04T05:22:08.41334Z",
     "start_time": "2019-12-04T05:22:08.401341Z"
    }
   },
   "outputs": [],
   "source": [
    "print( 'test randomforest regressor 가중치 rmse :' , round( sqrt( (( (((y_test['YOPS']-y_pred)**2)*y_test['YAB']).sum() )  /  y_test['YAB'].sum()) ),4) )"
   ]
  },
  {
   "cell_type": "code",
   "execution_count": null,
   "metadata": {
    "ExecuteTime": {
     "end_time": "2019-12-04T05:22:08.431338Z",
     "start_time": "2019-12-04T05:22:08.417336Z"
    }
   },
   "outputs": [],
   "source": [
    "df1 = DataFrame( list(zip(y_test['YOPS'],y_pred,y_test['YAB'])), columns=['YOPS','predict','YAB']  )\n",
    "\n",
    "df1 = df1[df1['YAB']>=50]\n",
    "\n",
    "print( '50타수 이상 test randomforest regressor mae :' , round( mean_absolute_error(df1['YOPS'], df1['predict']),4) )"
   ]
  },
  {
   "cell_type": "code",
   "execution_count": null,
   "metadata": {
    "ExecuteTime": {
     "end_time": "2019-12-04T05:22:08.443339Z",
     "start_time": "2019-12-04T05:22:08.434334Z"
    }
   },
   "outputs": [],
   "source": [
    "print( '50타수 이상 test randomforest regressor 가중치 rmse :' , round( sqrt( (( (((df1['YOPS']-df1['predict'])**2)*df1['YAB']).sum() )  /  df1['YAB'].sum()) ),4) )"
   ]
  },
  {
   "cell_type": "markdown",
   "metadata": {},
   "source": [
    "### 2018 시즌"
   ]
  },
  {
   "cell_type": "code",
   "execution_count": null,
   "metadata": {},
   "outputs": [],
   "source": [
    "train=total.copy()\n",
    "del train['p_year']\n",
    "\n",
    "train_y2=train[['year','YAB','YOPS']]\n",
    "\n",
    "y_train=train_y2[train_y2['year']<=2017].reset_index(drop=True)\n",
    "y_test=train_y2[train_y2['year']==2018].reset_index(drop=True)\n",
    "\n",
    "del y_train['year']\n",
    "del y_test['year']\n",
    "\n",
    "del train['batter_name']\n",
    "del train['YAB']\n",
    "del train['YOPS']\n",
    "\n",
    "train = pd.get_dummies(train,columns=['hand2'])\n",
    "train = pd.get_dummies(train,columns=['tp'])\n",
    "\n",
    "X_train=train[train['year']<=2017].reset_index(drop=True)\n",
    "\n",
    "X_test=train[train['year']==2018].reset_index(drop=True)\n",
    "\n",
    "del X_train['year']\n",
    "del X_test['year']"
   ]
  },
  {
   "cell_type": "code",
   "execution_count": null,
   "metadata": {},
   "outputs": [],
   "source": [
    "X_train=X_train.fillna(0.0000)\n",
    "\n",
    "X_test=X_test.fillna(0.0000)\n",
    "\n",
    "y_train=y_train.fillna(0.0000)\n",
    "\n",
    "y_test=y_test.fillna(0.0000)\n",
    "\n",
    "X_train.shape, X_test.shape, y_train.shape, y_test.shape"
   ]
  },
  {
   "cell_type": "code",
   "execution_count": null,
   "metadata": {},
   "outputs": [],
   "source": [
    "list1=list(X_train[X_train['OPS']>=1.25].index)\n",
    "X_train=X_train.drop(list1,axis=0).reset_index(drop=True)\n",
    "y_train=y_train.drop(list1,axis=0).reset_index(drop=True)\n",
    "\n",
    "list2=list(X_train[X_train['OPS+']<=25].index)\n",
    "X_train=X_train.drop(list2,axis=0).reset_index(drop=True)\n",
    "y_train=y_train.drop(list2,axis=0).reset_index(drop=True)\n",
    "\n",
    "X_train.shape, X_test.shape, y_train.shape, y_test.shape"
   ]
  },
  {
   "cell_type": "code",
   "execution_count": null,
   "metadata": {},
   "outputs": [],
   "source": [
    "rf = RandomForestRegressor(criterion='mae',max_features=3,min_samples_leaf=7, min_samples_split=2, n_estimators=200,random_state=1234)\n",
    "\n",
    "rf.fit(X_train,y_train['YOPS'])"
   ]
  },
  {
   "cell_type": "code",
   "execution_count": null,
   "metadata": {},
   "outputs": [],
   "source": [
    "y_pred_train = rf.predict(X_train)\n",
    "\n",
    "print( 'train randomforest regressor mae :' , round(mean_absolute_error(y_train['YOPS'], y_pred_train),4) )"
   ]
  },
  {
   "cell_type": "code",
   "execution_count": null,
   "metadata": {},
   "outputs": [],
   "source": [
    "y_pred = best_grid.predict(X_test)\n",
    "\n",
    "print( 'test randomforest regressor mae :' , round(mean_absolute_error(y_test['YOPS'], y_pred),4) )"
   ]
  },
  {
   "cell_type": "code",
   "execution_count": null,
   "metadata": {},
   "outputs": [],
   "source": [
    "print( 'test randomforest regressor 가중치 rmse :' , round( sqrt( (( (((y_test['YOPS']-y_pred)**2)*y_test['YAB']).sum() )  /  y_test['YAB'].sum()) ),4) )"
   ]
  },
  {
   "cell_type": "code",
   "execution_count": null,
   "metadata": {},
   "outputs": [],
   "source": [
    "df1 = DataFrame( list(zip(y_test['YOPS'],y_pred,y_test['YAB'])), columns=['YOPS','predict','YAB']  )\n",
    "\n",
    "df1 = df1[df1['YAB']>=50]\n",
    "\n",
    "print( '50타수 이상 test randomforest regressor mae :' , round( mean_absolute_error(df1['YOPS'], df1['predict']),4) )"
   ]
  },
  {
   "cell_type": "code",
   "execution_count": null,
   "metadata": {},
   "outputs": [],
   "source": [
    "print( '50타수 이상 test randomforest regressor 가중치 rmse :' , round( sqrt( (( (((df1['YOPS']-df1['predict'])**2)*df1['YAB']).sum() )  /  df1['YAB'].sum()) ),4) )"
   ]
  }
 ],
 "metadata": {
  "kernelspec": {
   "display_name": "Python 3 (ipykernel)",
   "language": "python",
   "name": "python3"
  },
  "language_info": {
   "codemirror_mode": {
    "name": "ipython",
    "version": 3
   },
   "file_extension": ".py",
   "mimetype": "text/x-python",
   "name": "python",
   "nbconvert_exporter": "python",
   "pygments_lexer": "ipython3",
   "version": "3.10.0"
  }
 },
 "nbformat": 4,
 "nbformat_minor": 1
}
