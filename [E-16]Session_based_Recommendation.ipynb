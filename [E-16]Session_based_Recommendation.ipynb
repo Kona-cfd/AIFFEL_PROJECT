{
 "cells": [
  {
   "cell_type": "markdown",
   "id": "783c8132",
   "metadata": {},
   "source": [
    "## 16. 다음에 볼 영화 예측하기"
   ]
  },
  {
   "cell_type": "markdown",
   "id": "f92eaadf",
   "metadata": {},
   "source": [
    "### 16-6. 프로젝트 - Movielens 영화 SBR"
   ]
  },
  {
   "cell_type": "markdown",
   "id": "6f416ea2",
   "metadata": {},
   "source": [
    " #### Movielens 1M Dataset을 기반으로, Session based Recommendation 시스템을 제작"
   ]
  },
  {
   "cell_type": "code",
   "execution_count": 1,
   "id": "201217d9",
   "metadata": {},
   "outputs": [],
   "source": [
    "import datetime as dt\n",
    "import pandas as pd\n",
    "import tensorflow\n",
    "import numpy as np\n",
    "import warnings\n",
    "warnings.filterwarnings('ignore')\n",
    "\n",
    "# print(pandas.__version__)\n",
    "# print(tensorflow.__version__)"
   ]
  },
  {
   "cell_type": "code",
   "execution_count": 2,
   "id": "87c6f618",
   "metadata": {},
   "outputs": [
    {
     "data": {
      "text/html": [
       "<div>\n",
       "<style scoped>\n",
       "    .dataframe tbody tr th:only-of-type {\n",
       "        vertical-align: middle;\n",
       "    }\n",
       "\n",
       "    .dataframe tbody tr th {\n",
       "        vertical-align: top;\n",
       "    }\n",
       "\n",
       "    .dataframe thead th {\n",
       "        text-align: right;\n",
       "    }\n",
       "</style>\n",
       "<table border=\"1\" class=\"dataframe\">\n",
       "  <thead>\n",
       "    <tr style=\"text-align: right;\">\n",
       "      <th></th>\n",
       "      <th>UserId</th>\n",
       "      <th>ItemId</th>\n",
       "      <th>Rating</th>\n",
       "      <th>Time</th>\n",
       "    </tr>\n",
       "  </thead>\n",
       "  <tbody>\n",
       "    <tr>\n",
       "      <th>31</th>\n",
       "      <td>1</td>\n",
       "      <td>3186</td>\n",
       "      <td>4</td>\n",
       "      <td>978300019</td>\n",
       "    </tr>\n",
       "    <tr>\n",
       "      <th>22</th>\n",
       "      <td>1</td>\n",
       "      <td>1270</td>\n",
       "      <td>5</td>\n",
       "      <td>978300055</td>\n",
       "    </tr>\n",
       "    <tr>\n",
       "      <th>27</th>\n",
       "      <td>1</td>\n",
       "      <td>1721</td>\n",
       "      <td>4</td>\n",
       "      <td>978300055</td>\n",
       "    </tr>\n",
       "    <tr>\n",
       "      <th>37</th>\n",
       "      <td>1</td>\n",
       "      <td>1022</td>\n",
       "      <td>5</td>\n",
       "      <td>978300055</td>\n",
       "    </tr>\n",
       "    <tr>\n",
       "      <th>24</th>\n",
       "      <td>1</td>\n",
       "      <td>2340</td>\n",
       "      <td>3</td>\n",
       "      <td>978300103</td>\n",
       "    </tr>\n",
       "    <tr>\n",
       "      <th>...</th>\n",
       "      <td>...</td>\n",
       "      <td>...</td>\n",
       "      <td>...</td>\n",
       "      <td>...</td>\n",
       "    </tr>\n",
       "    <tr>\n",
       "      <th>1000019</th>\n",
       "      <td>6040</td>\n",
       "      <td>2917</td>\n",
       "      <td>4</td>\n",
       "      <td>997454429</td>\n",
       "    </tr>\n",
       "    <tr>\n",
       "      <th>999988</th>\n",
       "      <td>6040</td>\n",
       "      <td>1921</td>\n",
       "      <td>4</td>\n",
       "      <td>997454464</td>\n",
       "    </tr>\n",
       "    <tr>\n",
       "      <th>1000172</th>\n",
       "      <td>6040</td>\n",
       "      <td>1784</td>\n",
       "      <td>3</td>\n",
       "      <td>997454464</td>\n",
       "    </tr>\n",
       "    <tr>\n",
       "      <th>1000167</th>\n",
       "      <td>6040</td>\n",
       "      <td>161</td>\n",
       "      <td>3</td>\n",
       "      <td>997454486</td>\n",
       "    </tr>\n",
       "    <tr>\n",
       "      <th>1000042</th>\n",
       "      <td>6040</td>\n",
       "      <td>1221</td>\n",
       "      <td>4</td>\n",
       "      <td>998315055</td>\n",
       "    </tr>\n",
       "  </tbody>\n",
       "</table>\n",
       "<p>1000209 rows × 4 columns</p>\n",
       "</div>"
      ],
      "text/plain": [
       "         UserId  ItemId  Rating       Time\n",
       "31            1    3186       4  978300019\n",
       "22            1    1270       5  978300055\n",
       "27            1    1721       4  978300055\n",
       "37            1    1022       5  978300055\n",
       "24            1    2340       3  978300103\n",
       "...         ...     ...     ...        ...\n",
       "1000019    6040    2917       4  997454429\n",
       "999988     6040    1921       4  997454464\n",
       "1000172    6040    1784       3  997454464\n",
       "1000167    6040     161       3  997454486\n",
       "1000042    6040    1221       4  998315055\n",
       "\n",
       "[1000209 rows x 4 columns]"
      ]
     },
     "execution_count": 2,
     "metadata": {},
     "output_type": "execute_result"
    }
   ],
   "source": [
    "# data_path = Path(os.getenv('HOME')+'/aiffel/yoochoose/data/') \n",
    "# train_path = data_path / 'ratings.dat'\n",
    "\n",
    "from pathlib import Path\n",
    "data_path = Path.joinpath(Path.cwd(),'data')\n",
    "train_path = Path.joinpath(Path.cwd(),'data','ratings.dat')\n",
    "\n",
    "def load_data(data_path: Path, nrows=None):\n",
    "    data = pd.read_csv(data_path, sep='::', header=None, usecols=[0, 1, 2, 3], dtype={0: np.int32, 1: np.int32, 2: np.int32}, nrows=nrows)\n",
    "    data.columns = ['UserId', 'ItemId', 'Rating', 'Time']\n",
    "    return data\n",
    "\n",
    "data = load_data(train_path, None)\n",
    "data.sort_values(['UserId', 'Time'], inplace=True)  # data를 id와 시간 순서로 정렬해줍니다.\n",
    "data"
   ]
  },
  {
   "cell_type": "code",
   "execution_count": 3,
   "id": "ef0c231a",
   "metadata": {},
   "outputs": [],
   "source": [
    "# data = data.head(200000)\n",
    "# data = data.tail(100000)\n",
    "# data"
   ]
  },
  {
   "cell_type": "markdown",
   "id": "e0467f25",
   "metadata": {},
   "source": [
    " 실습 내역과 가장 크게 다른 부분은 바로 SessionID 대신 UserID 항목이 들어갔다"
   ]
  },
  {
   "cell_type": "markdown",
   "id": "64ee98d4",
   "metadata": {},
   "source": [
    "Rating 정보가 포함되어 있다"
   ]
  },
  {
   "cell_type": "markdown",
   "id": "f13d4de9",
   "metadata": {},
   "source": [
    "Time 항목에는 UTC time 가 포함되어, 1970년 1월 1일부터 경과된 초 단위 시간이 기재되어 있다."
   ]
  },
  {
   "cell_type": "markdown",
   "id": "d123bd8f",
   "metadata": {},
   "source": [
    "### Step 1. 데이터의 전처리"
   ]
  },
  {
   "cell_type": "markdown",
   "id": "4c346077",
   "metadata": {},
   "source": [
    "위와 같이 간단히 구성해 본 데이터셋을 꼼꼼히 살펴보면서 항목별 기본 분석, session length, session time, cleaning 등의 작업을 진행합니다.\n",
    "특히, 이 데이터셋에서는 Session이 아닌 UserID 단위로 데이터가 생성되어 있으므로, 이를 Session 단위로 어떻게 해석할지에 주의합니다."
   ]
  },
  {
   "cell_type": "code",
   "execution_count": 4,
   "id": "2f9ad823",
   "metadata": {},
   "outputs": [
    {
     "data": {
      "text/plain": [
       "(6040, 3706)"
      ]
     },
     "execution_count": 4,
     "metadata": {},
     "output_type": "execute_result"
    }
   ],
   "source": [
    "data['UserId'].nunique(), data['ItemId'].nunique()"
   ]
  },
  {
   "cell_type": "markdown",
   "id": "54b33bfd",
   "metadata": {},
   "source": [
    "UserId의 숫자가 약 6040 개, 아이템 숫자는 약 3706 개가 됩니다."
   ]
  },
  {
   "cell_type": "markdown",
   "id": "d5b7f373",
   "metadata": {},
   "source": [
    "코드 재사용을 편리하게 하기 위해서 'UserId':'SessionId'로 바꿈"
   ]
  },
  {
   "cell_type": "code",
   "execution_count": 5,
   "id": "32dfadeb",
   "metadata": {},
   "outputs": [],
   "source": [
    "data.rename(columns = {'UserId':'SessionId'},inplace=True)"
   ]
  },
  {
   "cell_type": "code",
   "execution_count": 6,
   "id": "f96d9f1d",
   "metadata": {},
   "outputs": [
    {
     "data": {
      "text/html": [
       "<div>\n",
       "<style scoped>\n",
       "    .dataframe tbody tr th:only-of-type {\n",
       "        vertical-align: middle;\n",
       "    }\n",
       "\n",
       "    .dataframe tbody tr th {\n",
       "        vertical-align: top;\n",
       "    }\n",
       "\n",
       "    .dataframe thead th {\n",
       "        text-align: right;\n",
       "    }\n",
       "</style>\n",
       "<table border=\"1\" class=\"dataframe\">\n",
       "  <thead>\n",
       "    <tr style=\"text-align: right;\">\n",
       "      <th></th>\n",
       "      <th>SessionId</th>\n",
       "      <th>ItemId</th>\n",
       "      <th>Rating</th>\n",
       "      <th>Time</th>\n",
       "    </tr>\n",
       "  </thead>\n",
       "  <tbody>\n",
       "    <tr>\n",
       "      <th>31</th>\n",
       "      <td>1</td>\n",
       "      <td>3186</td>\n",
       "      <td>4</td>\n",
       "      <td>978300019</td>\n",
       "    </tr>\n",
       "    <tr>\n",
       "      <th>22</th>\n",
       "      <td>1</td>\n",
       "      <td>1270</td>\n",
       "      <td>5</td>\n",
       "      <td>978300055</td>\n",
       "    </tr>\n",
       "    <tr>\n",
       "      <th>27</th>\n",
       "      <td>1</td>\n",
       "      <td>1721</td>\n",
       "      <td>4</td>\n",
       "      <td>978300055</td>\n",
       "    </tr>\n",
       "    <tr>\n",
       "      <th>37</th>\n",
       "      <td>1</td>\n",
       "      <td>1022</td>\n",
       "      <td>5</td>\n",
       "      <td>978300055</td>\n",
       "    </tr>\n",
       "    <tr>\n",
       "      <th>24</th>\n",
       "      <td>1</td>\n",
       "      <td>2340</td>\n",
       "      <td>3</td>\n",
       "      <td>978300103</td>\n",
       "    </tr>\n",
       "    <tr>\n",
       "      <th>...</th>\n",
       "      <td>...</td>\n",
       "      <td>...</td>\n",
       "      <td>...</td>\n",
       "      <td>...</td>\n",
       "    </tr>\n",
       "    <tr>\n",
       "      <th>1000019</th>\n",
       "      <td>6040</td>\n",
       "      <td>2917</td>\n",
       "      <td>4</td>\n",
       "      <td>997454429</td>\n",
       "    </tr>\n",
       "    <tr>\n",
       "      <th>999988</th>\n",
       "      <td>6040</td>\n",
       "      <td>1921</td>\n",
       "      <td>4</td>\n",
       "      <td>997454464</td>\n",
       "    </tr>\n",
       "    <tr>\n",
       "      <th>1000172</th>\n",
       "      <td>6040</td>\n",
       "      <td>1784</td>\n",
       "      <td>3</td>\n",
       "      <td>997454464</td>\n",
       "    </tr>\n",
       "    <tr>\n",
       "      <th>1000167</th>\n",
       "      <td>6040</td>\n",
       "      <td>161</td>\n",
       "      <td>3</td>\n",
       "      <td>997454486</td>\n",
       "    </tr>\n",
       "    <tr>\n",
       "      <th>1000042</th>\n",
       "      <td>6040</td>\n",
       "      <td>1221</td>\n",
       "      <td>4</td>\n",
       "      <td>998315055</td>\n",
       "    </tr>\n",
       "  </tbody>\n",
       "</table>\n",
       "<p>1000209 rows × 4 columns</p>\n",
       "</div>"
      ],
      "text/plain": [
       "         SessionId  ItemId  Rating       Time\n",
       "31               1    3186       4  978300019\n",
       "22               1    1270       5  978300055\n",
       "27               1    1721       4  978300055\n",
       "37               1    1022       5  978300055\n",
       "24               1    2340       3  978300103\n",
       "...            ...     ...     ...        ...\n",
       "1000019       6040    2917       4  997454429\n",
       "999988        6040    1921       4  997454464\n",
       "1000172       6040    1784       3  997454464\n",
       "1000167       6040     161       3  997454486\n",
       "1000042       6040    1221       4  998315055\n",
       "\n",
       "[1000209 rows x 4 columns]"
      ]
     },
     "execution_count": 6,
     "metadata": {},
     "output_type": "execute_result"
    }
   ],
   "source": [
    "data"
   ]
  },
  {
   "cell_type": "code",
   "execution_count": 7,
   "id": "3c2572fa",
   "metadata": {},
   "outputs": [
    {
     "data": {
      "text/plain": [
       "SessionId\n",
       "1        53\n",
       "2       129\n",
       "3        51\n",
       "4        21\n",
       "5       198\n",
       "       ... \n",
       "6036    888\n",
       "6037    202\n",
       "6038     20\n",
       "6039    123\n",
       "6040    341\n",
       "Length: 6040, dtype: int64"
      ]
     },
     "execution_count": 7,
     "metadata": {},
     "output_type": "execute_result"
    }
   ],
   "source": [
    "session_length = data.groupby('SessionId').size()\n",
    "session_length"
   ]
  },
  {
   "cell_type": "code",
   "execution_count": 8,
   "id": "1ca37b1e",
   "metadata": {},
   "outputs": [
    {
     "data": {
      "text/plain": [
       "(96.0, 165.5975165562914)"
      ]
     },
     "execution_count": 8,
     "metadata": {},
     "output_type": "execute_result"
    }
   ],
   "source": [
    "session_length.median(), session_length.mean()"
   ]
  },
  {
   "cell_type": "code",
   "execution_count": 9,
   "id": "f0d85c08",
   "metadata": {},
   "outputs": [
    {
     "data": {
      "text/plain": [
       "(20, 2314)"
      ]
     },
     "execution_count": 9,
     "metadata": {},
     "output_type": "execute_result"
    }
   ],
   "source": [
    "session_length.min(), session_length.max()"
   ]
  },
  {
   "cell_type": "code",
   "execution_count": 10,
   "id": "c33b5d1b",
   "metadata": {},
   "outputs": [
    {
     "data": {
      "text/plain": [
       "1343.181000000005"
      ]
     },
     "execution_count": 10,
     "metadata": {},
     "output_type": "execute_result"
    }
   ],
   "source": [
    "session_length.quantile(0.999)"
   ]
  },
  {
   "cell_type": "markdown",
   "id": "49e03ce0",
   "metadata": {},
   "source": [
    "99.9% 세션은 길이가 1344이하입니다. 길이가 2314인 세션을 확인합니다."
   ]
  },
  {
   "cell_type": "code",
   "execution_count": 11,
   "id": "db74474b",
   "metadata": {},
   "outputs": [
    {
     "data": {
      "text/html": [
       "<div>\n",
       "<style scoped>\n",
       "    .dataframe tbody tr th:only-of-type {\n",
       "        vertical-align: middle;\n",
       "    }\n",
       "\n",
       "    .dataframe tbody tr th {\n",
       "        vertical-align: top;\n",
       "    }\n",
       "\n",
       "    .dataframe thead th {\n",
       "        text-align: right;\n",
       "    }\n",
       "</style>\n",
       "<table border=\"1\" class=\"dataframe\">\n",
       "  <thead>\n",
       "    <tr style=\"text-align: right;\">\n",
       "      <th></th>\n",
       "      <th>SessionId</th>\n",
       "      <th>ItemId</th>\n",
       "      <th>Rating</th>\n",
       "      <th>Time</th>\n",
       "    </tr>\n",
       "  </thead>\n",
       "  <tbody>\n",
       "    <tr>\n",
       "      <th>696969</th>\n",
       "      <td>4169</td>\n",
       "      <td>1268</td>\n",
       "      <td>5</td>\n",
       "      <td>965333392</td>\n",
       "    </tr>\n",
       "    <tr>\n",
       "      <th>697168</th>\n",
       "      <td>4169</td>\n",
       "      <td>2617</td>\n",
       "      <td>4</td>\n",
       "      <td>965333392</td>\n",
       "    </tr>\n",
       "    <tr>\n",
       "      <th>697185</th>\n",
       "      <td>4169</td>\n",
       "      <td>2628</td>\n",
       "      <td>4</td>\n",
       "      <td>965333392</td>\n",
       "    </tr>\n",
       "    <tr>\n",
       "      <th>697219</th>\n",
       "      <td>4169</td>\n",
       "      <td>2653</td>\n",
       "      <td>4</td>\n",
       "      <td>965333392</td>\n",
       "    </tr>\n",
       "    <tr>\n",
       "      <th>697275</th>\n",
       "      <td>4169</td>\n",
       "      <td>423</td>\n",
       "      <td>3</td>\n",
       "      <td>965333392</td>\n",
       "    </tr>\n",
       "    <tr>\n",
       "      <th>...</th>\n",
       "      <td>...</td>\n",
       "      <td>...</td>\n",
       "      <td>...</td>\n",
       "      <td>...</td>\n",
       "    </tr>\n",
       "    <tr>\n",
       "      <th>697882</th>\n",
       "      <td>4169</td>\n",
       "      <td>3754</td>\n",
       "      <td>2</td>\n",
       "      <td>1024174347</td>\n",
       "    </tr>\n",
       "    <tr>\n",
       "      <th>695702</th>\n",
       "      <td>4169</td>\n",
       "      <td>1413</td>\n",
       "      <td>3</td>\n",
       "      <td>1024175031</td>\n",
       "    </tr>\n",
       "    <tr>\n",
       "      <th>697358</th>\n",
       "      <td>4169</td>\n",
       "      <td>494</td>\n",
       "      <td>4</td>\n",
       "      <td>1024175760</td>\n",
       "    </tr>\n",
       "    <tr>\n",
       "      <th>695945</th>\n",
       "      <td>4169</td>\n",
       "      <td>1804</td>\n",
       "      <td>2</td>\n",
       "      <td>1024175783</td>\n",
       "    </tr>\n",
       "    <tr>\n",
       "      <th>696446</th>\n",
       "      <td>4169</td>\n",
       "      <td>1548</td>\n",
       "      <td>3</td>\n",
       "      <td>1024176337</td>\n",
       "    </tr>\n",
       "  </tbody>\n",
       "</table>\n",
       "<p>2314 rows × 4 columns</p>\n",
       "</div>"
      ],
      "text/plain": [
       "        SessionId  ItemId  Rating        Time\n",
       "696969       4169    1268       5   965333392\n",
       "697168       4169    2617       4   965333392\n",
       "697185       4169    2628       4   965333392\n",
       "697219       4169    2653       4   965333392\n",
       "697275       4169     423       3   965333392\n",
       "...           ...     ...     ...         ...\n",
       "697882       4169    3754       2  1024174347\n",
       "695702       4169    1413       3  1024175031\n",
       "697358       4169     494       4  1024175760\n",
       "695945       4169    1804       2  1024175783\n",
       "696446       4169    1548       3  1024176337\n",
       "\n",
       "[2314 rows x 4 columns]"
      ]
     },
     "execution_count": 11,
     "metadata": {},
     "output_type": "execute_result"
    }
   ],
   "source": [
    "long_session = session_length[session_length==2314].index[0]\n",
    "data[data['SessionId']==long_session]"
   ]
  },
  {
   "cell_type": "markdown",
   "id": "40d3a337",
   "metadata": {},
   "source": [
    "초로 표시된 시간은 년월일로 바꿔줍니다."
   ]
  },
  {
   "cell_type": "code",
   "execution_count": 12,
   "id": "3d59bd74",
   "metadata": {},
   "outputs": [
    {
     "data": {
      "text/html": [
       "<div>\n",
       "<style scoped>\n",
       "    .dataframe tbody tr th:only-of-type {\n",
       "        vertical-align: middle;\n",
       "    }\n",
       "\n",
       "    .dataframe tbody tr th {\n",
       "        vertical-align: top;\n",
       "    }\n",
       "\n",
       "    .dataframe thead th {\n",
       "        text-align: right;\n",
       "    }\n",
       "</style>\n",
       "<table border=\"1\" class=\"dataframe\">\n",
       "  <thead>\n",
       "    <tr style=\"text-align: right;\">\n",
       "      <th></th>\n",
       "      <th>SessionId</th>\n",
       "      <th>ItemId</th>\n",
       "      <th>Rating</th>\n",
       "      <th>Time</th>\n",
       "    </tr>\n",
       "  </thead>\n",
       "  <tbody>\n",
       "    <tr>\n",
       "      <th>31</th>\n",
       "      <td>1</td>\n",
       "      <td>3186</td>\n",
       "      <td>4</td>\n",
       "      <td>2000-12-31 22:00:19</td>\n",
       "    </tr>\n",
       "    <tr>\n",
       "      <th>22</th>\n",
       "      <td>1</td>\n",
       "      <td>1270</td>\n",
       "      <td>5</td>\n",
       "      <td>2000-12-31 22:00:55</td>\n",
       "    </tr>\n",
       "    <tr>\n",
       "      <th>27</th>\n",
       "      <td>1</td>\n",
       "      <td>1721</td>\n",
       "      <td>4</td>\n",
       "      <td>2000-12-31 22:00:55</td>\n",
       "    </tr>\n",
       "    <tr>\n",
       "      <th>37</th>\n",
       "      <td>1</td>\n",
       "      <td>1022</td>\n",
       "      <td>5</td>\n",
       "      <td>2000-12-31 22:00:55</td>\n",
       "    </tr>\n",
       "    <tr>\n",
       "      <th>24</th>\n",
       "      <td>1</td>\n",
       "      <td>2340</td>\n",
       "      <td>3</td>\n",
       "      <td>2000-12-31 22:01:43</td>\n",
       "    </tr>\n",
       "    <tr>\n",
       "      <th>...</th>\n",
       "      <td>...</td>\n",
       "      <td>...</td>\n",
       "      <td>...</td>\n",
       "      <td>...</td>\n",
       "    </tr>\n",
       "    <tr>\n",
       "      <th>1000019</th>\n",
       "      <td>6040</td>\n",
       "      <td>2917</td>\n",
       "      <td>4</td>\n",
       "      <td>2001-08-10 14:40:29</td>\n",
       "    </tr>\n",
       "    <tr>\n",
       "      <th>999988</th>\n",
       "      <td>6040</td>\n",
       "      <td>1921</td>\n",
       "      <td>4</td>\n",
       "      <td>2001-08-10 14:41:04</td>\n",
       "    </tr>\n",
       "    <tr>\n",
       "      <th>1000172</th>\n",
       "      <td>6040</td>\n",
       "      <td>1784</td>\n",
       "      <td>3</td>\n",
       "      <td>2001-08-10 14:41:04</td>\n",
       "    </tr>\n",
       "    <tr>\n",
       "      <th>1000167</th>\n",
       "      <td>6040</td>\n",
       "      <td>161</td>\n",
       "      <td>3</td>\n",
       "      <td>2001-08-10 14:41:26</td>\n",
       "    </tr>\n",
       "    <tr>\n",
       "      <th>1000042</th>\n",
       "      <td>6040</td>\n",
       "      <td>1221</td>\n",
       "      <td>4</td>\n",
       "      <td>2001-08-20 13:44:15</td>\n",
       "    </tr>\n",
       "  </tbody>\n",
       "</table>\n",
       "<p>1000209 rows × 4 columns</p>\n",
       "</div>"
      ],
      "text/plain": [
       "         SessionId  ItemId  Rating                Time\n",
       "31               1    3186       4 2000-12-31 22:00:19\n",
       "22               1    1270       5 2000-12-31 22:00:55\n",
       "27               1    1721       4 2000-12-31 22:00:55\n",
       "37               1    1022       5 2000-12-31 22:00:55\n",
       "24               1    2340       3 2000-12-31 22:01:43\n",
       "...            ...     ...     ...                 ...\n",
       "1000019       6040    2917       4 2001-08-10 14:40:29\n",
       "999988        6040    1921       4 2001-08-10 14:41:04\n",
       "1000172       6040    1784       3 2001-08-10 14:41:04\n",
       "1000167       6040     161       3 2001-08-10 14:41:26\n",
       "1000042       6040    1221       4 2001-08-20 13:44:15\n",
       "\n",
       "[1000209 rows x 4 columns]"
      ]
     },
     "execution_count": 12,
     "metadata": {},
     "output_type": "execute_result"
    }
   ],
   "source": [
    "data['Time']=pd.to_datetime(data['Time'], unit='s')\n",
    "data"
   ]
  },
  {
   "cell_type": "code",
   "execution_count": 13,
   "id": "ec5742e4",
   "metadata": {},
   "outputs": [
    {
     "data": {
      "text/plain": [
       "20      0.014238\n",
       "21      0.029305\n",
       "22      0.042053\n",
       "23      0.055464\n",
       "24      0.068874\n",
       "          ...   \n",
       "1271    0.998179\n",
       "1277    0.998344\n",
       "1286    0.998510\n",
       "1302    0.998675\n",
       "1323    0.998841\n",
       "Length: 736, dtype: float64"
      ]
     },
     "execution_count": 13,
     "metadata": {},
     "output_type": "execute_result"
    }
   ],
   "source": [
    "length_count = session_length.groupby(session_length).size()\n",
    "length_percent_cumsum = length_count.cumsum() / length_count.sum()\n",
    "length_percent_cumsum_999 = length_percent_cumsum[length_percent_cumsum < 0.999]\n",
    "\n",
    "length_percent_cumsum_999"
   ]
  },
  {
   "cell_type": "code",
   "execution_count": 14,
   "id": "fdc79942",
   "metadata": {},
   "outputs": [
    {
     "data": {
      "image/png": "[encoded data removed]",
      "text/plain": [
       "<Figure size 1440x720 with 1 Axes>"
      ]
     },
     "metadata": {
      "needs_background": "light"
     },
     "output_type": "display_data"
    }
   ],
   "source": [
    "import matplotlib.pyplot as plt\n",
    "\n",
    "plt.figure(figsize=(20, 10))\n",
    "plt.bar(x=length_percent_cumsum_999.index,\n",
    "        height=length_percent_cumsum_999, color='red')\n",
    "plt.xticks(length_percent_cumsum_999.index)\n",
    "plt.yticks(np.arange(0, 1.01, 0.05))\n",
    "plt.title('Cumsum Percentage Until 0.999', size=20)\n",
    "plt.show()"
   ]
  },
  {
   "cell_type": "code",
   "execution_count": 15,
   "id": "832c6cfe",
   "metadata": {},
   "outputs": [
    {
     "data": {
      "image/png": "[encoded data removed]",
      "text/plain": [
       "<Figure size 432x288 with 1 Axes>"
      ]
     },
     "metadata": {
      "needs_background": "light"
     },
     "output_type": "display_data"
    }
   ],
   "source": [
    "plt.hist(data['Rating'], density=True,bins=5)\n",
    "plt.title('Histogram of Rating')\n",
    "plt.axis([1, 5, 0, 0.5])\n",
    "plt.show()"
   ]
  },
  {
   "cell_type": "markdown",
   "id": "b0690094",
   "metadata": {},
   "source": [
    "선호하는 영화를 고르기 위해서 평가점수를 3점 미만으로 낮게 준 데이터는 제거한다."
   ]
  },
  {
   "cell_type": "code",
   "execution_count": 16,
   "id": "3717b2b1",
   "metadata": {},
   "outputs": [
    {
     "data": {
      "text/html": [
       "<div>\n",
       "<style scoped>\n",
       "    .dataframe tbody tr th:only-of-type {\n",
       "        vertical-align: middle;\n",
       "    }\n",
       "\n",
       "    .dataframe tbody tr th {\n",
       "        vertical-align: top;\n",
       "    }\n",
       "\n",
       "    .dataframe thead th {\n",
       "        text-align: right;\n",
       "    }\n",
       "</style>\n",
       "<table border=\"1\" class=\"dataframe\">\n",
       "  <thead>\n",
       "    <tr style=\"text-align: right;\">\n",
       "      <th></th>\n",
       "      <th>SessionId</th>\n",
       "      <th>ItemId</th>\n",
       "      <th>Rating</th>\n",
       "      <th>Time</th>\n",
       "    </tr>\n",
       "  </thead>\n",
       "  <tbody>\n",
       "    <tr>\n",
       "      <th>31</th>\n",
       "      <td>1</td>\n",
       "      <td>3186</td>\n",
       "      <td>4</td>\n",
       "      <td>2000-12-31 22:00:19</td>\n",
       "    </tr>\n",
       "    <tr>\n",
       "      <th>22</th>\n",
       "      <td>1</td>\n",
       "      <td>1270</td>\n",
       "      <td>5</td>\n",
       "      <td>2000-12-31 22:00:55</td>\n",
       "    </tr>\n",
       "    <tr>\n",
       "      <th>27</th>\n",
       "      <td>1</td>\n",
       "      <td>1721</td>\n",
       "      <td>4</td>\n",
       "      <td>2000-12-31 22:00:55</td>\n",
       "    </tr>\n",
       "    <tr>\n",
       "      <th>37</th>\n",
       "      <td>1</td>\n",
       "      <td>1022</td>\n",
       "      <td>5</td>\n",
       "      <td>2000-12-31 22:00:55</td>\n",
       "    </tr>\n",
       "    <tr>\n",
       "      <th>24</th>\n",
       "      <td>1</td>\n",
       "      <td>2340</td>\n",
       "      <td>3</td>\n",
       "      <td>2000-12-31 22:01:43</td>\n",
       "    </tr>\n",
       "    <tr>\n",
       "      <th>...</th>\n",
       "      <td>...</td>\n",
       "      <td>...</td>\n",
       "      <td>...</td>\n",
       "      <td>...</td>\n",
       "    </tr>\n",
       "    <tr>\n",
       "      <th>1000019</th>\n",
       "      <td>6040</td>\n",
       "      <td>2917</td>\n",
       "      <td>4</td>\n",
       "      <td>2001-08-10 14:40:29</td>\n",
       "    </tr>\n",
       "    <tr>\n",
       "      <th>999988</th>\n",
       "      <td>6040</td>\n",
       "      <td>1921</td>\n",
       "      <td>4</td>\n",
       "      <td>2001-08-10 14:41:04</td>\n",
       "    </tr>\n",
       "    <tr>\n",
       "      <th>1000172</th>\n",
       "      <td>6040</td>\n",
       "      <td>1784</td>\n",
       "      <td>3</td>\n",
       "      <td>2001-08-10 14:41:04</td>\n",
       "    </tr>\n",
       "    <tr>\n",
       "      <th>1000167</th>\n",
       "      <td>6040</td>\n",
       "      <td>161</td>\n",
       "      <td>3</td>\n",
       "      <td>2001-08-10 14:41:26</td>\n",
       "    </tr>\n",
       "    <tr>\n",
       "      <th>1000042</th>\n",
       "      <td>6040</td>\n",
       "      <td>1221</td>\n",
       "      <td>4</td>\n",
       "      <td>2001-08-20 13:44:15</td>\n",
       "    </tr>\n",
       "  </tbody>\n",
       "</table>\n",
       "<p>836478 rows × 4 columns</p>\n",
       "</div>"
      ],
      "text/plain": [
       "         SessionId  ItemId  Rating                Time\n",
       "31               1    3186       4 2000-12-31 22:00:19\n",
       "22               1    1270       5 2000-12-31 22:00:55\n",
       "27               1    1721       4 2000-12-31 22:00:55\n",
       "37               1    1022       5 2000-12-31 22:00:55\n",
       "24               1    2340       3 2000-12-31 22:01:43\n",
       "...            ...     ...     ...                 ...\n",
       "1000019       6040    2917       4 2001-08-10 14:40:29\n",
       "999988        6040    1921       4 2001-08-10 14:41:04\n",
       "1000172       6040    1784       3 2001-08-10 14:41:04\n",
       "1000167       6040     161       3 2001-08-10 14:41:26\n",
       "1000042       6040    1221       4 2001-08-20 13:44:15\n",
       "\n",
       "[836478 rows x 4 columns]"
      ]
     },
     "execution_count": 16,
     "metadata": {},
     "output_type": "execute_result"
    }
   ],
   "source": [
    "data = data[data['Rating']>=3]\n",
    "data"
   ]
  },
  {
   "cell_type": "markdown",
   "id": "00c5db85",
   "metadata": {},
   "source": [
    "#### 2.3 Session Time"
   ]
  },
  {
   "cell_type": "code",
   "execution_count": 17,
   "id": "e87639d7",
   "metadata": {},
   "outputs": [
    {
     "name": "stdout",
     "output_type": "stream",
     "text": [
      "2000-04-25 23:05:32\n",
      "2003-02-28 17:49:50\n"
     ]
    }
   ],
   "source": [
    "oldest, latest = data['Time'].min(), data['Time'].max()\n",
    "print(oldest) \n",
    "print(latest)"
   ]
  },
  {
   "cell_type": "code",
   "execution_count": 18,
   "id": "f7730783",
   "metadata": {},
   "outputs": [
    {
     "data": {
      "text/plain": [
       "pandas._libs.tslibs.timestamps.Timestamp"
      ]
     },
     "execution_count": 18,
     "metadata": {},
     "output_type": "execute_result"
    }
   ],
   "source": [
    "type(latest)"
   ]
  },
  {
   "cell_type": "code",
   "execution_count": 19,
   "id": "979aa1b2",
   "metadata": {},
   "outputs": [],
   "source": [
    "# short_session을 제거한 다음 unpopular item을 제거하면 다시 길이가 1인 session이 생길 수 있습니다.\n",
    "# 이를 위해 반복문을 통해 지속적으로 제거 합니다.\n",
    "def cleanse_recursive(data: pd.DataFrame, shortest, least_click) -> pd.DataFrame:\n",
    "    while True:\n",
    "        before_len = len(data)\n",
    "        data = cleanse_short_session(data, shortest)\n",
    "        data = cleanse_unpopular_item(data, least_click)\n",
    "        after_len = len(data)\n",
    "        if before_len == after_len:\n",
    "            break\n",
    "    return data\n",
    "\n",
    "\n",
    "def cleanse_short_session(data: pd.DataFrame, shortest):\n",
    "    session_len = data.groupby('SessionId').size()\n",
    "    session_use = session_len[session_len >= shortest].index\n",
    "    data = data[data['SessionId'].isin(session_use)]\n",
    "    return data\n",
    "\n",
    "\n",
    "def cleanse_unpopular_item(data: pd.DataFrame, least_click):\n",
    "    item_popular = data.groupby('ItemId').size()\n",
    "    item_use = item_popular[item_popular >= least_click].index\n",
    "    data = data[data['ItemId'].isin(item_use)]\n",
    "    return data"
   ]
  },
  {
   "cell_type": "markdown",
   "id": "3ff4272c",
   "metadata": {},
   "source": [
    "###  3년 동안 900편 이상의 영화에 평점을 남긴 유저는 삭제"
   ]
  },
  {
   "cell_type": "code",
   "execution_count": 20,
   "id": "c2100c0b",
   "metadata": {},
   "outputs": [],
   "source": [
    "def cleanse_long_session(data: pd.DataFrame, longest):\n",
    "    session_len = data.groupby('SessionId').size()\n",
    "    session_use = session_len[session_len <= longest].index\n",
    "    data = data[data['SessionId'].isin(session_use)]\n",
    "    return data"
   ]
  },
  {
   "cell_type": "code",
   "execution_count": 21,
   "id": "beb52c5b",
   "metadata": {},
   "outputs": [
    {
     "data": {
      "text/html": [
       "<div>\n",
       "<style scoped>\n",
       "    .dataframe tbody tr th:only-of-type {\n",
       "        vertical-align: middle;\n",
       "    }\n",
       "\n",
       "    .dataframe tbody tr th {\n",
       "        vertical-align: top;\n",
       "    }\n",
       "\n",
       "    .dataframe thead th {\n",
       "        text-align: right;\n",
       "    }\n",
       "</style>\n",
       "<table border=\"1\" class=\"dataframe\">\n",
       "  <thead>\n",
       "    <tr style=\"text-align: right;\">\n",
       "      <th></th>\n",
       "      <th>SessionId</th>\n",
       "      <th>ItemId</th>\n",
       "      <th>Rating</th>\n",
       "      <th>Time</th>\n",
       "    </tr>\n",
       "  </thead>\n",
       "  <tbody>\n",
       "    <tr>\n",
       "      <th>31</th>\n",
       "      <td>1</td>\n",
       "      <td>3186</td>\n",
       "      <td>4</td>\n",
       "      <td>2000-12-31 22:00:19</td>\n",
       "    </tr>\n",
       "    <tr>\n",
       "      <th>22</th>\n",
       "      <td>1</td>\n",
       "      <td>1270</td>\n",
       "      <td>5</td>\n",
       "      <td>2000-12-31 22:00:55</td>\n",
       "    </tr>\n",
       "    <tr>\n",
       "      <th>27</th>\n",
       "      <td>1</td>\n",
       "      <td>1721</td>\n",
       "      <td>4</td>\n",
       "      <td>2000-12-31 22:00:55</td>\n",
       "    </tr>\n",
       "    <tr>\n",
       "      <th>37</th>\n",
       "      <td>1</td>\n",
       "      <td>1022</td>\n",
       "      <td>5</td>\n",
       "      <td>2000-12-31 22:00:55</td>\n",
       "    </tr>\n",
       "    <tr>\n",
       "      <th>24</th>\n",
       "      <td>1</td>\n",
       "      <td>2340</td>\n",
       "      <td>3</td>\n",
       "      <td>2000-12-31 22:01:43</td>\n",
       "    </tr>\n",
       "    <tr>\n",
       "      <th>...</th>\n",
       "      <td>...</td>\n",
       "      <td>...</td>\n",
       "      <td>...</td>\n",
       "      <td>...</td>\n",
       "    </tr>\n",
       "    <tr>\n",
       "      <th>1000019</th>\n",
       "      <td>6040</td>\n",
       "      <td>2917</td>\n",
       "      <td>4</td>\n",
       "      <td>2001-08-10 14:40:29</td>\n",
       "    </tr>\n",
       "    <tr>\n",
       "      <th>999988</th>\n",
       "      <td>6040</td>\n",
       "      <td>1921</td>\n",
       "      <td>4</td>\n",
       "      <td>2001-08-10 14:41:04</td>\n",
       "    </tr>\n",
       "    <tr>\n",
       "      <th>1000172</th>\n",
       "      <td>6040</td>\n",
       "      <td>1784</td>\n",
       "      <td>3</td>\n",
       "      <td>2001-08-10 14:41:04</td>\n",
       "    </tr>\n",
       "    <tr>\n",
       "      <th>1000167</th>\n",
       "      <td>6040</td>\n",
       "      <td>161</td>\n",
       "      <td>3</td>\n",
       "      <td>2001-08-10 14:41:26</td>\n",
       "    </tr>\n",
       "    <tr>\n",
       "      <th>1000042</th>\n",
       "      <td>6040</td>\n",
       "      <td>1221</td>\n",
       "      <td>4</td>\n",
       "      <td>2001-08-20 13:44:15</td>\n",
       "    </tr>\n",
       "  </tbody>\n",
       "</table>\n",
       "<p>807876 rows × 4 columns</p>\n",
       "</div>"
      ],
      "text/plain": [
       "         SessionId  ItemId  Rating                Time\n",
       "31               1    3186       4 2000-12-31 22:00:19\n",
       "22               1    1270       5 2000-12-31 22:00:55\n",
       "27               1    1721       4 2000-12-31 22:00:55\n",
       "37               1    1022       5 2000-12-31 22:00:55\n",
       "24               1    2340       3 2000-12-31 22:01:43\n",
       "...            ...     ...     ...                 ...\n",
       "1000019       6040    2917       4 2001-08-10 14:40:29\n",
       "999988        6040    1921       4 2001-08-10 14:41:04\n",
       "1000172       6040    1784       3 2001-08-10 14:41:04\n",
       "1000167       6040     161       3 2001-08-10 14:41:26\n",
       "1000042       6040    1221       4 2001-08-20 13:44:15\n",
       "\n",
       "[807876 rows x 4 columns]"
      ]
     },
     "execution_count": 21,
     "metadata": {},
     "output_type": "execute_result"
    }
   ],
   "source": [
    "data = cleanse_long_session(data, longest=900) \n",
    "data"
   ]
  },
  {
   "cell_type": "markdown",
   "id": "ffff29d3",
   "metadata": {},
   "source": [
    "### 같은시간 한유저가 여러 영화에 평점을 준 데이터는 삭제"
   ]
  },
  {
   "cell_type": "code",
   "execution_count": 22,
   "id": "ecc57552",
   "metadata": {},
   "outputs": [
    {
     "data": {
      "text/html": [
       "<div>\n",
       "<style scoped>\n",
       "    .dataframe tbody tr th:only-of-type {\n",
       "        vertical-align: middle;\n",
       "    }\n",
       "\n",
       "    .dataframe tbody tr th {\n",
       "        vertical-align: top;\n",
       "    }\n",
       "\n",
       "    .dataframe thead th {\n",
       "        text-align: right;\n",
       "    }\n",
       "</style>\n",
       "<table border=\"1\" class=\"dataframe\">\n",
       "  <thead>\n",
       "    <tr style=\"text-align: right;\">\n",
       "      <th></th>\n",
       "      <th>SessionId</th>\n",
       "      <th>ItemId</th>\n",
       "      <th>Rating</th>\n",
       "      <th>Time</th>\n",
       "    </tr>\n",
       "  </thead>\n",
       "  <tbody>\n",
       "    <tr>\n",
       "      <th>31</th>\n",
       "      <td>1</td>\n",
       "      <td>3186</td>\n",
       "      <td>4</td>\n",
       "      <td>2000-12-31 22:00:19</td>\n",
       "    </tr>\n",
       "    <tr>\n",
       "      <th>24</th>\n",
       "      <td>1</td>\n",
       "      <td>2340</td>\n",
       "      <td>3</td>\n",
       "      <td>2000-12-31 22:01:43</td>\n",
       "    </tr>\n",
       "    <tr>\n",
       "      <th>36</th>\n",
       "      <td>1</td>\n",
       "      <td>1836</td>\n",
       "      <td>5</td>\n",
       "      <td>2000-12-31 22:02:52</td>\n",
       "    </tr>\n",
       "    <tr>\n",
       "      <th>3</th>\n",
       "      <td>1</td>\n",
       "      <td>3408</td>\n",
       "      <td>4</td>\n",
       "      <td>2000-12-31 22:04:35</td>\n",
       "    </tr>\n",
       "    <tr>\n",
       "      <th>9</th>\n",
       "      <td>1</td>\n",
       "      <td>919</td>\n",
       "      <td>4</td>\n",
       "      <td>2000-12-31 22:22:48</td>\n",
       "    </tr>\n",
       "    <tr>\n",
       "      <th>...</th>\n",
       "      <td>...</td>\n",
       "      <td>...</td>\n",
       "      <td>...</td>\n",
       "      <td>...</td>\n",
       "    </tr>\n",
       "    <tr>\n",
       "      <th>1000119</th>\n",
       "      <td>6040</td>\n",
       "      <td>3671</td>\n",
       "      <td>4</td>\n",
       "      <td>2001-08-10 14:39:27</td>\n",
       "    </tr>\n",
       "    <tr>\n",
       "      <th>999923</th>\n",
       "      <td>6040</td>\n",
       "      <td>232</td>\n",
       "      <td>5</td>\n",
       "      <td>2001-08-10 14:39:58</td>\n",
       "    </tr>\n",
       "    <tr>\n",
       "      <th>1000019</th>\n",
       "      <td>6040</td>\n",
       "      <td>2917</td>\n",
       "      <td>4</td>\n",
       "      <td>2001-08-10 14:40:29</td>\n",
       "    </tr>\n",
       "    <tr>\n",
       "      <th>1000167</th>\n",
       "      <td>6040</td>\n",
       "      <td>161</td>\n",
       "      <td>3</td>\n",
       "      <td>2001-08-10 14:41:26</td>\n",
       "    </tr>\n",
       "    <tr>\n",
       "      <th>1000042</th>\n",
       "      <td>6040</td>\n",
       "      <td>1221</td>\n",
       "      <td>4</td>\n",
       "      <td>2001-08-20 13:44:15</td>\n",
       "    </tr>\n",
       "  </tbody>\n",
       "</table>\n",
       "<p>212260 rows × 4 columns</p>\n",
       "</div>"
      ],
      "text/plain": [
       "         SessionId  ItemId  Rating                Time\n",
       "31               1    3186       4 2000-12-31 22:00:19\n",
       "24               1    2340       3 2000-12-31 22:01:43\n",
       "36               1    1836       5 2000-12-31 22:02:52\n",
       "3                1    3408       4 2000-12-31 22:04:35\n",
       "9                1     919       4 2000-12-31 22:22:48\n",
       "...            ...     ...     ...                 ...\n",
       "1000119       6040    3671       4 2001-08-10 14:39:27\n",
       "999923        6040     232       5 2001-08-10 14:39:58\n",
       "1000019       6040    2917       4 2001-08-10 14:40:29\n",
       "1000167       6040     161       3 2001-08-10 14:41:26\n",
       "1000042       6040    1221       4 2001-08-20 13:44:15\n",
       "\n",
       "[212260 rows x 4 columns]"
      ]
     },
     "execution_count": 22,
     "metadata": {},
     "output_type": "execute_result"
    }
   ],
   "source": [
    "data = data.drop_duplicates(subset=['SessionId', 'Time'],keep=False)\n",
    "data"
   ]
  },
  {
   "cell_type": "code",
   "execution_count": 23,
   "id": "21036416",
   "metadata": {},
   "outputs": [
    {
     "data": {
      "text/html": [
       "<div>\n",
       "<style scoped>\n",
       "    .dataframe tbody tr th:only-of-type {\n",
       "        vertical-align: middle;\n",
       "    }\n",
       "\n",
       "    .dataframe tbody tr th {\n",
       "        vertical-align: top;\n",
       "    }\n",
       "\n",
       "    .dataframe thead th {\n",
       "        text-align: right;\n",
       "    }\n",
       "</style>\n",
       "<table border=\"1\" class=\"dataframe\">\n",
       "  <thead>\n",
       "    <tr style=\"text-align: right;\">\n",
       "      <th></th>\n",
       "      <th>SessionId</th>\n",
       "      <th>ItemId</th>\n",
       "      <th>Rating</th>\n",
       "      <th>Time</th>\n",
       "    </tr>\n",
       "  </thead>\n",
       "  <tbody>\n",
       "    <tr>\n",
       "      <th>0</th>\n",
       "      <td>1</td>\n",
       "      <td>3186</td>\n",
       "      <td>4</td>\n",
       "      <td>2000-12-31 22:00:19</td>\n",
       "    </tr>\n",
       "    <tr>\n",
       "      <th>1</th>\n",
       "      <td>1</td>\n",
       "      <td>2340</td>\n",
       "      <td>3</td>\n",
       "      <td>2000-12-31 22:01:43</td>\n",
       "    </tr>\n",
       "    <tr>\n",
       "      <th>2</th>\n",
       "      <td>1</td>\n",
       "      <td>1836</td>\n",
       "      <td>5</td>\n",
       "      <td>2000-12-31 22:02:52</td>\n",
       "    </tr>\n",
       "    <tr>\n",
       "      <th>3</th>\n",
       "      <td>1</td>\n",
       "      <td>3408</td>\n",
       "      <td>4</td>\n",
       "      <td>2000-12-31 22:04:35</td>\n",
       "    </tr>\n",
       "    <tr>\n",
       "      <th>4</th>\n",
       "      <td>1</td>\n",
       "      <td>919</td>\n",
       "      <td>4</td>\n",
       "      <td>2000-12-31 22:22:48</td>\n",
       "    </tr>\n",
       "    <tr>\n",
       "      <th>...</th>\n",
       "      <td>...</td>\n",
       "      <td>...</td>\n",
       "      <td>...</td>\n",
       "      <td>...</td>\n",
       "    </tr>\n",
       "    <tr>\n",
       "      <th>212255</th>\n",
       "      <td>6040</td>\n",
       "      <td>3671</td>\n",
       "      <td>4</td>\n",
       "      <td>2001-08-10 14:39:27</td>\n",
       "    </tr>\n",
       "    <tr>\n",
       "      <th>212256</th>\n",
       "      <td>6040</td>\n",
       "      <td>232</td>\n",
       "      <td>5</td>\n",
       "      <td>2001-08-10 14:39:58</td>\n",
       "    </tr>\n",
       "    <tr>\n",
       "      <th>212257</th>\n",
       "      <td>6040</td>\n",
       "      <td>2917</td>\n",
       "      <td>4</td>\n",
       "      <td>2001-08-10 14:40:29</td>\n",
       "    </tr>\n",
       "    <tr>\n",
       "      <th>212258</th>\n",
       "      <td>6040</td>\n",
       "      <td>161</td>\n",
       "      <td>3</td>\n",
       "      <td>2001-08-10 14:41:26</td>\n",
       "    </tr>\n",
       "    <tr>\n",
       "      <th>212259</th>\n",
       "      <td>6040</td>\n",
       "      <td>1221</td>\n",
       "      <td>4</td>\n",
       "      <td>2001-08-20 13:44:15</td>\n",
       "    </tr>\n",
       "  </tbody>\n",
       "</table>\n",
       "<p>212260 rows × 4 columns</p>\n",
       "</div>"
      ],
      "text/plain": [
       "        SessionId  ItemId  Rating                Time\n",
       "0               1    3186       4 2000-12-31 22:00:19\n",
       "1               1    2340       3 2000-12-31 22:01:43\n",
       "2               1    1836       5 2000-12-31 22:02:52\n",
       "3               1    3408       4 2000-12-31 22:04:35\n",
       "4               1     919       4 2000-12-31 22:22:48\n",
       "...           ...     ...     ...                 ...\n",
       "212255       6040    3671       4 2001-08-10 14:39:27\n",
       "212256       6040     232       5 2001-08-10 14:39:58\n",
       "212257       6040    2917       4 2001-08-10 14:40:29\n",
       "212258       6040     161       3 2001-08-10 14:41:26\n",
       "212259       6040    1221       4 2001-08-20 13:44:15\n",
       "\n",
       "[212260 rows x 4 columns]"
      ]
     },
     "execution_count": 23,
     "metadata": {},
     "output_type": "execute_result"
    }
   ],
   "source": [
    "data.reset_index(drop=True, inplace=True)\n",
    "data"
   ]
  },
  {
   "cell_type": "markdown",
   "id": "bf073ee3",
   "metadata": {},
   "source": [
    "### 3년동안 영화 20편 이하 본 유저 제외  \n",
    "### 6040명의 유저가 100번도 안본 영화는 제외"
   ]
  },
  {
   "cell_type": "code",
   "execution_count": 24,
   "id": "c31d51ae",
   "metadata": {},
   "outputs": [
    {
     "data": {
      "text/html": [
       "<div>\n",
       "<style scoped>\n",
       "    .dataframe tbody tr th:only-of-type {\n",
       "        vertical-align: middle;\n",
       "    }\n",
       "\n",
       "    .dataframe tbody tr th {\n",
       "        vertical-align: top;\n",
       "    }\n",
       "\n",
       "    .dataframe thead th {\n",
       "        text-align: right;\n",
       "    }\n",
       "</style>\n",
       "<table border=\"1\" class=\"dataframe\">\n",
       "  <thead>\n",
       "    <tr style=\"text-align: right;\">\n",
       "      <th></th>\n",
       "      <th>SessionId</th>\n",
       "      <th>ItemId</th>\n",
       "      <th>Rating</th>\n",
       "      <th>Time</th>\n",
       "    </tr>\n",
       "  </thead>\n",
       "  <tbody>\n",
       "    <tr>\n",
       "      <th>122</th>\n",
       "      <td>8</td>\n",
       "      <td>1210</td>\n",
       "      <td>4</td>\n",
       "      <td>2000-12-31 02:13:09</td>\n",
       "    </tr>\n",
       "    <tr>\n",
       "      <th>123</th>\n",
       "      <td>8</td>\n",
       "      <td>111</td>\n",
       "      <td>5</td>\n",
       "      <td>2000-12-31 02:13:52</td>\n",
       "    </tr>\n",
       "    <tr>\n",
       "      <th>124</th>\n",
       "      <td>8</td>\n",
       "      <td>288</td>\n",
       "      <td>5</td>\n",
       "      <td>2000-12-31 02:23:11</td>\n",
       "    </tr>\n",
       "    <tr>\n",
       "      <th>125</th>\n",
       "      <td>8</td>\n",
       "      <td>25</td>\n",
       "      <td>5</td>\n",
       "      <td>2000-12-31 02:24:37</td>\n",
       "    </tr>\n",
       "    <tr>\n",
       "      <th>127</th>\n",
       "      <td>8</td>\n",
       "      <td>3386</td>\n",
       "      <td>3</td>\n",
       "      <td>2000-12-31 02:32:59</td>\n",
       "    </tr>\n",
       "    <tr>\n",
       "      <th>...</th>\n",
       "      <td>...</td>\n",
       "      <td>...</td>\n",
       "      <td>...</td>\n",
       "      <td>...</td>\n",
       "    </tr>\n",
       "    <tr>\n",
       "      <th>212253</th>\n",
       "      <td>6040</td>\n",
       "      <td>1673</td>\n",
       "      <td>4</td>\n",
       "      <td>2001-08-10 14:36:52</td>\n",
       "    </tr>\n",
       "    <tr>\n",
       "      <th>212254</th>\n",
       "      <td>6040</td>\n",
       "      <td>457</td>\n",
       "      <td>4</td>\n",
       "      <td>2001-08-10 14:39:09</td>\n",
       "    </tr>\n",
       "    <tr>\n",
       "      <th>212255</th>\n",
       "      <td>6040</td>\n",
       "      <td>3671</td>\n",
       "      <td>4</td>\n",
       "      <td>2001-08-10 14:39:27</td>\n",
       "    </tr>\n",
       "    <tr>\n",
       "      <th>212258</th>\n",
       "      <td>6040</td>\n",
       "      <td>161</td>\n",
       "      <td>3</td>\n",
       "      <td>2001-08-10 14:41:26</td>\n",
       "    </tr>\n",
       "    <tr>\n",
       "      <th>212259</th>\n",
       "      <td>6040</td>\n",
       "      <td>1221</td>\n",
       "      <td>4</td>\n",
       "      <td>2001-08-20 13:44:15</td>\n",
       "    </tr>\n",
       "  </tbody>\n",
       "</table>\n",
       "<p>87259 rows × 4 columns</p>\n",
       "</div>"
      ],
      "text/plain": [
       "        SessionId  ItemId  Rating                Time\n",
       "122             8    1210       4 2000-12-31 02:13:09\n",
       "123             8     111       5 2000-12-31 02:13:52\n",
       "124             8     288       5 2000-12-31 02:23:11\n",
       "125             8      25       5 2000-12-31 02:24:37\n",
       "127             8    3386       3 2000-12-31 02:32:59\n",
       "...           ...     ...     ...                 ...\n",
       "212253       6040    1673       4 2001-08-10 14:36:52\n",
       "212254       6040     457       4 2001-08-10 14:39:09\n",
       "212255       6040    3671       4 2001-08-10 14:39:27\n",
       "212258       6040     161       3 2001-08-10 14:41:26\n",
       "212259       6040    1221       4 2001-08-20 13:44:15\n",
       "\n",
       "[87259 rows x 4 columns]"
      ]
     },
     "execution_count": 24,
     "metadata": {},
     "output_type": "execute_result"
    }
   ],
   "source": [
    "data = cleanse_recursive(data, shortest=20, least_click=100) \n",
    "data"
   ]
  },
  {
   "cell_type": "code",
   "execution_count": 25,
   "id": "a279927f",
   "metadata": {},
   "outputs": [
    {
     "data": {
      "text/html": [
       "<div>\n",
       "<style scoped>\n",
       "    .dataframe tbody tr th:only-of-type {\n",
       "        vertical-align: middle;\n",
       "    }\n",
       "\n",
       "    .dataframe tbody tr th {\n",
       "        vertical-align: top;\n",
       "    }\n",
       "\n",
       "    .dataframe thead th {\n",
       "        text-align: right;\n",
       "    }\n",
       "</style>\n",
       "<table border=\"1\" class=\"dataframe\">\n",
       "  <thead>\n",
       "    <tr style=\"text-align: right;\">\n",
       "      <th></th>\n",
       "      <th>SessionId</th>\n",
       "      <th>ItemId</th>\n",
       "      <th>Rating</th>\n",
       "      <th>Time</th>\n",
       "      <th>user_id</th>\n",
       "    </tr>\n",
       "  </thead>\n",
       "  <tbody>\n",
       "    <tr>\n",
       "      <th>122</th>\n",
       "      <td>8</td>\n",
       "      <td>1210</td>\n",
       "      <td>4</td>\n",
       "      <td>2000-12-31 02:13:09</td>\n",
       "      <td>0</td>\n",
       "    </tr>\n",
       "    <tr>\n",
       "      <th>123</th>\n",
       "      <td>8</td>\n",
       "      <td>111</td>\n",
       "      <td>5</td>\n",
       "      <td>2000-12-31 02:13:52</td>\n",
       "      <td>0</td>\n",
       "    </tr>\n",
       "    <tr>\n",
       "      <th>124</th>\n",
       "      <td>8</td>\n",
       "      <td>288</td>\n",
       "      <td>5</td>\n",
       "      <td>2000-12-31 02:23:11</td>\n",
       "      <td>0</td>\n",
       "    </tr>\n",
       "    <tr>\n",
       "      <th>125</th>\n",
       "      <td>8</td>\n",
       "      <td>25</td>\n",
       "      <td>5</td>\n",
       "      <td>2000-12-31 02:24:37</td>\n",
       "      <td>0</td>\n",
       "    </tr>\n",
       "    <tr>\n",
       "      <th>127</th>\n",
       "      <td>8</td>\n",
       "      <td>3386</td>\n",
       "      <td>3</td>\n",
       "      <td>2000-12-31 02:32:59</td>\n",
       "      <td>0</td>\n",
       "    </tr>\n",
       "    <tr>\n",
       "      <th>...</th>\n",
       "      <td>...</td>\n",
       "      <td>...</td>\n",
       "      <td>...</td>\n",
       "      <td>...</td>\n",
       "      <td>...</td>\n",
       "    </tr>\n",
       "    <tr>\n",
       "      <th>212253</th>\n",
       "      <td>6040</td>\n",
       "      <td>1673</td>\n",
       "      <td>4</td>\n",
       "      <td>2001-08-10 14:36:52</td>\n",
       "      <td>1930</td>\n",
       "    </tr>\n",
       "    <tr>\n",
       "      <th>212254</th>\n",
       "      <td>6040</td>\n",
       "      <td>457</td>\n",
       "      <td>4</td>\n",
       "      <td>2001-08-10 14:39:09</td>\n",
       "      <td>1930</td>\n",
       "    </tr>\n",
       "    <tr>\n",
       "      <th>212255</th>\n",
       "      <td>6040</td>\n",
       "      <td>3671</td>\n",
       "      <td>4</td>\n",
       "      <td>2001-08-10 14:39:27</td>\n",
       "      <td>1930</td>\n",
       "    </tr>\n",
       "    <tr>\n",
       "      <th>212258</th>\n",
       "      <td>6040</td>\n",
       "      <td>161</td>\n",
       "      <td>3</td>\n",
       "      <td>2001-08-10 14:41:26</td>\n",
       "      <td>1930</td>\n",
       "    </tr>\n",
       "    <tr>\n",
       "      <th>212259</th>\n",
       "      <td>6040</td>\n",
       "      <td>1221</td>\n",
       "      <td>4</td>\n",
       "      <td>2001-08-20 13:44:15</td>\n",
       "      <td>1930</td>\n",
       "    </tr>\n",
       "  </tbody>\n",
       "</table>\n",
       "<p>87259 rows × 5 columns</p>\n",
       "</div>"
      ],
      "text/plain": [
       "        SessionId  ItemId  Rating                Time  user_id\n",
       "122             8    1210       4 2000-12-31 02:13:09        0\n",
       "123             8     111       5 2000-12-31 02:13:52        0\n",
       "124             8     288       5 2000-12-31 02:23:11        0\n",
       "125             8      25       5 2000-12-31 02:24:37        0\n",
       "127             8    3386       3 2000-12-31 02:32:59        0\n",
       "...           ...     ...     ...                 ...      ...\n",
       "212253       6040    1673       4 2001-08-10 14:36:52     1930\n",
       "212254       6040     457       4 2001-08-10 14:39:09     1930\n",
       "212255       6040    3671       4 2001-08-10 14:39:27     1930\n",
       "212258       6040     161       3 2001-08-10 14:41:26     1930\n",
       "212259       6040    1221       4 2001-08-20 13:44:15     1930\n",
       "\n",
       "[87259 rows x 5 columns]"
      ]
     },
     "execution_count": 25,
     "metadata": {},
     "output_type": "execute_result"
    }
   ],
   "source": [
    "SessionId2user_id = {user_id : index for index, user_id in enumerate(data['SessionId'].unique())}\n",
    "\n",
    "def indexing_SessionId(df, id2idx):\n",
    "    df['user_id'] = df['SessionId'].map(lambda x: id2idx.get(x, -1))  # id2idx에 없는 아이템은 모르는 값(-1) 처리 해줍니다.\n",
    "    return df\n",
    "\n",
    "data  = indexing_SessionId(data,  SessionId2user_id)\n",
    "data"
   ]
  },
  {
   "cell_type": "markdown",
   "id": "4c8131a7",
   "metadata": {},
   "source": [
    "### 사용하지 않는 평점 데이터 삭제"
   ]
  },
  {
   "cell_type": "code",
   "execution_count": 26,
   "id": "7b78596a",
   "metadata": {},
   "outputs": [
    {
     "data": {
      "text/html": [
       "<div>\n",
       "<style scoped>\n",
       "    .dataframe tbody tr th:only-of-type {\n",
       "        vertical-align: middle;\n",
       "    }\n",
       "\n",
       "    .dataframe tbody tr th {\n",
       "        vertical-align: top;\n",
       "    }\n",
       "\n",
       "    .dataframe thead th {\n",
       "        text-align: right;\n",
       "    }\n",
       "</style>\n",
       "<table border=\"1\" class=\"dataframe\">\n",
       "  <thead>\n",
       "    <tr style=\"text-align: right;\">\n",
       "      <th></th>\n",
       "      <th>SessionId</th>\n",
       "      <th>Time</th>\n",
       "      <th>ItemId</th>\n",
       "      <th>user_id</th>\n",
       "    </tr>\n",
       "  </thead>\n",
       "  <tbody>\n",
       "    <tr>\n",
       "      <th>122</th>\n",
       "      <td>8</td>\n",
       "      <td>2000-12-31 02:13:09</td>\n",
       "      <td>1210</td>\n",
       "      <td>0</td>\n",
       "    </tr>\n",
       "    <tr>\n",
       "      <th>123</th>\n",
       "      <td>8</td>\n",
       "      <td>2000-12-31 02:13:52</td>\n",
       "      <td>111</td>\n",
       "      <td>0</td>\n",
       "    </tr>\n",
       "    <tr>\n",
       "      <th>124</th>\n",
       "      <td>8</td>\n",
       "      <td>2000-12-31 02:23:11</td>\n",
       "      <td>288</td>\n",
       "      <td>0</td>\n",
       "    </tr>\n",
       "    <tr>\n",
       "      <th>125</th>\n",
       "      <td>8</td>\n",
       "      <td>2000-12-31 02:24:37</td>\n",
       "      <td>25</td>\n",
       "      <td>0</td>\n",
       "    </tr>\n",
       "    <tr>\n",
       "      <th>127</th>\n",
       "      <td>8</td>\n",
       "      <td>2000-12-31 02:32:59</td>\n",
       "      <td>3386</td>\n",
       "      <td>0</td>\n",
       "    </tr>\n",
       "    <tr>\n",
       "      <th>...</th>\n",
       "      <td>...</td>\n",
       "      <td>...</td>\n",
       "      <td>...</td>\n",
       "      <td>...</td>\n",
       "    </tr>\n",
       "    <tr>\n",
       "      <th>212253</th>\n",
       "      <td>6040</td>\n",
       "      <td>2001-08-10 14:36:52</td>\n",
       "      <td>1673</td>\n",
       "      <td>1930</td>\n",
       "    </tr>\n",
       "    <tr>\n",
       "      <th>212254</th>\n",
       "      <td>6040</td>\n",
       "      <td>2001-08-10 14:39:09</td>\n",
       "      <td>457</td>\n",
       "      <td>1930</td>\n",
       "    </tr>\n",
       "    <tr>\n",
       "      <th>212255</th>\n",
       "      <td>6040</td>\n",
       "      <td>2001-08-10 14:39:27</td>\n",
       "      <td>3671</td>\n",
       "      <td>1930</td>\n",
       "    </tr>\n",
       "    <tr>\n",
       "      <th>212258</th>\n",
       "      <td>6040</td>\n",
       "      <td>2001-08-10 14:41:26</td>\n",
       "      <td>161</td>\n",
       "      <td>1930</td>\n",
       "    </tr>\n",
       "    <tr>\n",
       "      <th>212259</th>\n",
       "      <td>6040</td>\n",
       "      <td>2001-08-20 13:44:15</td>\n",
       "      <td>1221</td>\n",
       "      <td>1930</td>\n",
       "    </tr>\n",
       "  </tbody>\n",
       "</table>\n",
       "<p>87259 rows × 4 columns</p>\n",
       "</div>"
      ],
      "text/plain": [
       "        SessionId                Time  ItemId  user_id\n",
       "122             8 2000-12-31 02:13:09    1210        0\n",
       "123             8 2000-12-31 02:13:52     111        0\n",
       "124             8 2000-12-31 02:23:11     288        0\n",
       "125             8 2000-12-31 02:24:37      25        0\n",
       "127             8 2000-12-31 02:32:59    3386        0\n",
       "...           ...                 ...     ...      ...\n",
       "212253       6040 2001-08-10 14:36:52    1673     1930\n",
       "212254       6040 2001-08-10 14:39:09     457     1930\n",
       "212255       6040 2001-08-10 14:39:27    3671     1930\n",
       "212258       6040 2001-08-10 14:41:26     161     1930\n",
       "212259       6040 2001-08-20 13:44:15    1221     1930\n",
       "\n",
       "[87259 rows x 4 columns]"
      ]
     },
     "execution_count": 26,
     "metadata": {},
     "output_type": "execute_result"
    }
   ],
   "source": [
    "data = data.loc[:,['SessionId', 'Time', 'ItemId','user_id']]\n",
    "data"
   ]
  },
  {
   "cell_type": "markdown",
   "id": "9c980a1e",
   "metadata": {},
   "source": [
    "#### 2.5 Train / Valid / Test split"
   ]
  },
  {
   "cell_type": "code",
   "execution_count": 27,
   "id": "7b006f20",
   "metadata": {},
   "outputs": [
    {
     "data": {
      "text/plain": [
       "(Timestamp('2000-04-25 23:05:32'), Timestamp('2003-02-28 17:47:23'))"
      ]
     },
     "execution_count": 27,
     "metadata": {},
     "output_type": "execute_result"
    }
   ],
   "source": [
    "data['Time'].min(), data['Time'].max()"
   ]
  },
  {
   "cell_type": "markdown",
   "id": "45c91b5b",
   "metadata": {},
   "source": [
    "## 교재의 방법으로 데이터 셋을 나눔"
   ]
  },
  {
   "cell_type": "code",
   "execution_count": 28,
   "id": "b5ea5c2a",
   "metadata": {},
   "outputs": [],
   "source": [
    "def split_by_date(data: pd.DataFrame, n_days: int):\n",
    "    final_time = data['Time'].max()\n",
    "    session_last_time = data.groupby('SessionId')['Time'].max()\n",
    "    session_in_train = session_last_time[session_last_time < final_time - dt.timedelta(n_days)].index\n",
    "    session_in_test = session_last_time[session_last_time >= final_time - dt.timedelta(n_days)].index\n",
    "\n",
    "    before_date = data[data['SessionId'].isin(session_in_train)]\n",
    "    after_date = data[data['SessionId'].isin(session_in_test)]\n",
    "    after_date = after_date[after_date['ItemId'].isin(before_date['ItemId'])]\n",
    "    return before_date, after_date"
   ]
  },
  {
   "cell_type": "code",
   "execution_count": 29,
   "id": "3c9775e8",
   "metadata": {},
   "outputs": [],
   "source": [
    "tr, test = split_by_date(data, n_days=90)\n",
    "tr, val = split_by_date(tr, n_days=90)"
   ]
  },
  {
   "cell_type": "code",
   "execution_count": 30,
   "id": "b9feb9ab",
   "metadata": {},
   "outputs": [],
   "source": [
    "# data에 대한 정보를 살펴봅니다.\n",
    "def stats_info(data: pd.DataFrame, status: str):\n",
    "    print(f'* {status} Set Stats Info\\n'\n",
    "          f'\\t Events: {len(data)}\\n'\n",
    "          f'\\t Sessions: {data[\"SessionId\"].nunique()}\\n'\n",
    "          f'\\t Items: {data[\"ItemId\"].nunique()}\\n'\n",
    "          f'\\t First Time : {data[\"Time\"].min()}\\n'\n",
    "          f'\\t Last Time : {data[\"Time\"].max()}\\n')"
   ]
  },
  {
   "cell_type": "code",
   "execution_count": 31,
   "id": "23ee9658",
   "metadata": {},
   "outputs": [
    {
     "name": "stdout",
     "output_type": "stream",
     "text": [
      "* train Set Stats Info\n",
      "\t Events: 70040\n",
      "\t Sessions: 1691\n",
      "\t Items: 492\n",
      "\t First Time : 2000-04-25 23:05:32\n",
      "\t Last Time : 2002-08-29 23:58:12\n",
      "\n",
      "* valid Set Stats Info\n",
      "\t Events: 5971\n",
      "\t Sessions: 88\n",
      "\t Items: 492\n",
      "\t First Time : 2000-04-27 16:38:08\n",
      "\t Last Time : 2002-11-30 13:47:32\n",
      "\n",
      "* test Set Stats Info\n",
      "\t Events: 11248\n",
      "\t Sessions: 152\n",
      "\t Items: 492\n",
      "\t First Time : 2000-05-01 11:15:42\n",
      "\t Last Time : 2003-02-28 17:47:23\n",
      "\n"
     ]
    }
   ],
   "source": [
    "stats_info(tr,  'train')\n",
    "stats_info(val, 'valid')\n",
    "stats_info(test,'test')"
   ]
  },
  {
   "cell_type": "markdown",
   "id": "2072cfcb",
   "metadata": {},
   "source": [
    "### 교재의 방법은 분할 날짜가 원하는대로 되지 않고 있다.   \n",
    "### 짧은 시간 동안 이루어 지는 인터넷 접속 클릭 데이터를 체크하는 알고리즘을 영화추천에 그대로 적용하는 것은 문제가 있어 보인다."
   ]
  },
  {
   "cell_type": "code",
   "execution_count": 32,
   "id": "df4adf75",
   "metadata": {},
   "outputs": [],
   "source": [
    "# train set에 없는 아이템이 val, test기간에 생길 수 있으므로 train data를 기준으로 인덱싱합니다.\n",
    "id2idx = {item_id : index for index, item_id in enumerate(data['ItemId'].unique())}\n",
    "\n",
    "def indexing(df, id2idx):\n",
    "    df['item_idx'] = df['ItemId'].map(lambda x: id2idx.get(x, -1))  # id2idx에 없는 아이템은 모르는 값(-1) 처리 해줍니다.\n",
    "    return df\n",
    "\n",
    "tr   = indexing(tr,  id2idx)\n",
    "val  = indexing(val, id2idx)\n",
    "test = indexing(test,id2idx)"
   ]
  },
  {
   "cell_type": "code",
   "execution_count": 33,
   "id": "83867253",
   "metadata": {},
   "outputs": [],
   "source": [
    "save_path = data_path / 'processed'\n",
    "save_path.mkdir(parents=True, exist_ok=True)\n",
    "\n",
    "tr.to_pickle(save_path / 'train.pkl')\n",
    "val.to_pickle(save_path / 'valid.pkl')\n",
    "test.to_pickle(save_path / 'test.pkl')"
   ]
  },
  {
   "cell_type": "markdown",
   "id": "a87c86ad",
   "metadata": {},
   "source": [
    "### Step 2. 미니 배치의 구성"
   ]
  },
  {
   "cell_type": "markdown",
   "id": "9d2c62cf",
   "metadata": {},
   "source": [
    "실습 코드 내역을 참고하여 데이터셋과 미니 배치를 구성해 봅시다. Session-Parallel Mini-Batch의 개념에 따라, 학습 속도의 저하가 최소화될 수 있도록 구성합니다.\n",
    "단, 위 Step 1에서 Session 단위를 어떻게 정의했느냐에 따라서 Session-Parallel Mini-Batch이 굳이 필요하지 않을 수도 있습니다."
   ]
  },
  {
   "cell_type": "markdown",
   "id": "602d5d29",
   "metadata": {},
   "source": [
    "#### Data Pipeline"
   ]
  },
  {
   "cell_type": "markdown",
   "id": "64a492f5",
   "metadata": {},
   "source": [
    "Session-Parallel Mini-Batch 를 구현. "
   ]
  },
  {
   "cell_type": "markdown",
   "id": "043d0bfe",
   "metadata": {},
   "source": [
    "#### 2.1 SessionDataset"
   ]
  },
  {
   "cell_type": "code",
   "execution_count": 34,
   "id": "8be3b6fa",
   "metadata": {},
   "outputs": [],
   "source": [
    "class SessionDataset:\n",
    "    \"\"\"Credit to yhs-968/pyGRU4REC.\"\"\"\n",
    "\n",
    "    def __init__(self, data):\n",
    "        self.df = data\n",
    "        self.click_offsets = self.get_click_offsets()\n",
    "        self.session_idx = np.arange(self.df['SessionId'].nunique())  # indexing to SessionId\n",
    "\n",
    "    def get_click_offsets(self):\n",
    "        \"\"\"\n",
    "        Return the indexes of the first click of each session IDs,\n",
    "        \"\"\"\n",
    "        offsets = np.zeros(self.df['SessionId'].nunique() + 1, dtype=np.int32)\n",
    "        offsets[1:] = self.df.groupby('SessionId').size().cumsum()\n",
    "        return offsets   \n"
   ]
  },
  {
   "cell_type": "code",
   "execution_count": 35,
   "id": "08492262",
   "metadata": {},
   "outputs": [
    {
     "data": {
      "text/html": [
       "<div>\n",
       "<style scoped>\n",
       "    .dataframe tbody tr th:only-of-type {\n",
       "        vertical-align: middle;\n",
       "    }\n",
       "\n",
       "    .dataframe tbody tr th {\n",
       "        vertical-align: top;\n",
       "    }\n",
       "\n",
       "    .dataframe thead th {\n",
       "        text-align: right;\n",
       "    }\n",
       "</style>\n",
       "<table border=\"1\" class=\"dataframe\">\n",
       "  <thead>\n",
       "    <tr style=\"text-align: right;\">\n",
       "      <th></th>\n",
       "      <th>SessionId</th>\n",
       "      <th>Time</th>\n",
       "      <th>ItemId</th>\n",
       "      <th>user_id</th>\n",
       "      <th>item_idx</th>\n",
       "    </tr>\n",
       "  </thead>\n",
       "  <tbody>\n",
       "    <tr>\n",
       "      <th>122</th>\n",
       "      <td>8</td>\n",
       "      <td>2000-12-31 02:13:09</td>\n",
       "      <td>1210</td>\n",
       "      <td>0</td>\n",
       "      <td>0</td>\n",
       "    </tr>\n",
       "    <tr>\n",
       "      <th>123</th>\n",
       "      <td>8</td>\n",
       "      <td>2000-12-31 02:13:52</td>\n",
       "      <td>111</td>\n",
       "      <td>0</td>\n",
       "      <td>1</td>\n",
       "    </tr>\n",
       "    <tr>\n",
       "      <th>124</th>\n",
       "      <td>8</td>\n",
       "      <td>2000-12-31 02:23:11</td>\n",
       "      <td>288</td>\n",
       "      <td>0</td>\n",
       "      <td>2</td>\n",
       "    </tr>\n",
       "    <tr>\n",
       "      <th>125</th>\n",
       "      <td>8</td>\n",
       "      <td>2000-12-31 02:24:37</td>\n",
       "      <td>25</td>\n",
       "      <td>0</td>\n",
       "      <td>3</td>\n",
       "    </tr>\n",
       "    <tr>\n",
       "      <th>127</th>\n",
       "      <td>8</td>\n",
       "      <td>2000-12-31 02:32:59</td>\n",
       "      <td>3386</td>\n",
       "      <td>0</td>\n",
       "      <td>4</td>\n",
       "    </tr>\n",
       "    <tr>\n",
       "      <th>128</th>\n",
       "      <td>8</td>\n",
       "      <td>2000-12-31 02:34:55</td>\n",
       "      <td>16</td>\n",
       "      <td>0</td>\n",
       "      <td>5</td>\n",
       "    </tr>\n",
       "    <tr>\n",
       "      <th>129</th>\n",
       "      <td>8</td>\n",
       "      <td>2000-12-31 02:35:20</td>\n",
       "      <td>2336</td>\n",
       "      <td>0</td>\n",
       "      <td>6</td>\n",
       "    </tr>\n",
       "    <tr>\n",
       "      <th>130</th>\n",
       "      <td>8</td>\n",
       "      <td>2000-12-31 02:35:52</td>\n",
       "      <td>2686</td>\n",
       "      <td>0</td>\n",
       "      <td>7</td>\n",
       "    </tr>\n",
       "    <tr>\n",
       "      <th>131</th>\n",
       "      <td>8</td>\n",
       "      <td>2000-12-31 02:37:07</td>\n",
       "      <td>3006</td>\n",
       "      <td>0</td>\n",
       "      <td>8</td>\n",
       "    </tr>\n",
       "    <tr>\n",
       "      <th>132</th>\n",
       "      <td>8</td>\n",
       "      <td>2000-12-31 02:39:16</td>\n",
       "      <td>1673</td>\n",
       "      <td>0</td>\n",
       "      <td>9</td>\n",
       "    </tr>\n",
       "    <tr>\n",
       "      <th>134</th>\n",
       "      <td>8</td>\n",
       "      <td>2000-12-31 02:44:09</td>\n",
       "      <td>1678</td>\n",
       "      <td>0</td>\n",
       "      <td>10</td>\n",
       "    </tr>\n",
       "    <tr>\n",
       "      <th>135</th>\n",
       "      <td>8</td>\n",
       "      <td>2000-12-31 02:44:26</td>\n",
       "      <td>3105</td>\n",
       "      <td>0</td>\n",
       "      <td>11</td>\n",
       "    </tr>\n",
       "    <tr>\n",
       "      <th>138</th>\n",
       "      <td>8</td>\n",
       "      <td>2000-12-31 02:50:31</td>\n",
       "      <td>2541</td>\n",
       "      <td>0</td>\n",
       "      <td>12</td>\n",
       "    </tr>\n",
       "    <tr>\n",
       "      <th>139</th>\n",
       "      <td>8</td>\n",
       "      <td>2000-12-31 02:52:30</td>\n",
       "      <td>151</td>\n",
       "      <td>0</td>\n",
       "      <td>13</td>\n",
       "    </tr>\n",
       "    <tr>\n",
       "      <th>140</th>\n",
       "      <td>8</td>\n",
       "      <td>2000-12-31 02:54:12</td>\n",
       "      <td>2297</td>\n",
       "      <td>0</td>\n",
       "      <td>14</td>\n",
       "    </tr>\n",
       "    <tr>\n",
       "      <th>141</th>\n",
       "      <td>8</td>\n",
       "      <td>2000-12-31 02:57:09</td>\n",
       "      <td>2688</td>\n",
       "      <td>0</td>\n",
       "      <td>15</td>\n",
       "    </tr>\n",
       "    <tr>\n",
       "      <th>142</th>\n",
       "      <td>8</td>\n",
       "      <td>2000-12-31 02:58:13</td>\n",
       "      <td>1476</td>\n",
       "      <td>0</td>\n",
       "      <td>16</td>\n",
       "    </tr>\n",
       "    <tr>\n",
       "      <th>145</th>\n",
       "      <td>8</td>\n",
       "      <td>2000-12-31 03:00:14</td>\n",
       "      <td>266</td>\n",
       "      <td>0</td>\n",
       "      <td>17</td>\n",
       "    </tr>\n",
       "    <tr>\n",
       "      <th>149</th>\n",
       "      <td>8</td>\n",
       "      <td>2000-12-31 03:04:50</td>\n",
       "      <td>1711</td>\n",
       "      <td>0</td>\n",
       "      <td>18</td>\n",
       "    </tr>\n",
       "    <tr>\n",
       "      <th>151</th>\n",
       "      <td>8</td>\n",
       "      <td>2000-12-31 03:31:36</td>\n",
       "      <td>1</td>\n",
       "      <td>0</td>\n",
       "      <td>19</td>\n",
       "    </tr>\n",
       "    <tr>\n",
       "      <th>153</th>\n",
       "      <td>8</td>\n",
       "      <td>2000-12-31 07:19:03</td>\n",
       "      <td>3257</td>\n",
       "      <td>0</td>\n",
       "      <td>20</td>\n",
       "    </tr>\n",
       "    <tr>\n",
       "      <th>154</th>\n",
       "      <td>9</td>\n",
       "      <td>2000-12-31 01:07:59</td>\n",
       "      <td>912</td>\n",
       "      <td>1</td>\n",
       "      <td>21</td>\n",
       "    </tr>\n",
       "    <tr>\n",
       "      <th>155</th>\n",
       "      <td>9</td>\n",
       "      <td>2000-12-31 01:08:13</td>\n",
       "      <td>1210</td>\n",
       "      <td>1</td>\n",
       "      <td>0</td>\n",
       "    </tr>\n",
       "    <tr>\n",
       "      <th>156</th>\n",
       "      <td>9</td>\n",
       "      <td>2000-12-31 01:12:33</td>\n",
       "      <td>3916</td>\n",
       "      <td>1</td>\n",
       "      <td>22</td>\n",
       "    </tr>\n",
       "    <tr>\n",
       "      <th>157</th>\n",
       "      <td>9</td>\n",
       "      <td>2000-12-31 01:12:57</td>\n",
       "      <td>3948</td>\n",
       "      <td>1</td>\n",
       "      <td>23</td>\n",
       "    </tr>\n",
       "    <tr>\n",
       "      <th>158</th>\n",
       "      <td>9</td>\n",
       "      <td>2000-12-31 01:16:41</td>\n",
       "      <td>920</td>\n",
       "      <td>1</td>\n",
       "      <td>24</td>\n",
       "    </tr>\n",
       "    <tr>\n",
       "      <th>159</th>\n",
       "      <td>9</td>\n",
       "      <td>2000-12-31 01:19:41</td>\n",
       "      <td>3793</td>\n",
       "      <td>1</td>\n",
       "      <td>25</td>\n",
       "    </tr>\n",
       "    <tr>\n",
       "      <th>160</th>\n",
       "      <td>9</td>\n",
       "      <td>2000-12-31 01:21:11</td>\n",
       "      <td>3623</td>\n",
       "      <td>1</td>\n",
       "      <td>26</td>\n",
       "    </tr>\n",
       "    <tr>\n",
       "      <th>161</th>\n",
       "      <td>9</td>\n",
       "      <td>2000-12-31 01:21:26</td>\n",
       "      <td>3298</td>\n",
       "      <td>1</td>\n",
       "      <td>27</td>\n",
       "    </tr>\n",
       "    <tr>\n",
       "      <th>162</th>\n",
       "      <td>9</td>\n",
       "      <td>2000-12-31 01:21:49</td>\n",
       "      <td>3717</td>\n",
       "      <td>1</td>\n",
       "      <td>28</td>\n",
       "    </tr>\n",
       "    <tr>\n",
       "      <th>164</th>\n",
       "      <td>9</td>\n",
       "      <td>2000-12-31 01:23:47</td>\n",
       "      <td>3148</td>\n",
       "      <td>1</td>\n",
       "      <td>29</td>\n",
       "    </tr>\n",
       "    <tr>\n",
       "      <th>165</th>\n",
       "      <td>9</td>\n",
       "      <td>2000-12-31 01:24:43</td>\n",
       "      <td>318</td>\n",
       "      <td>1</td>\n",
       "      <td>30</td>\n",
       "    </tr>\n",
       "    <tr>\n",
       "      <th>166</th>\n",
       "      <td>9</td>\n",
       "      <td>2000-12-31 01:25:08</td>\n",
       "      <td>2028</td>\n",
       "      <td>1</td>\n",
       "      <td>31</td>\n",
       "    </tr>\n",
       "    <tr>\n",
       "      <th>167</th>\n",
       "      <td>9</td>\n",
       "      <td>2000-12-31 01:27:03</td>\n",
       "      <td>162</td>\n",
       "      <td>1</td>\n",
       "      <td>32</td>\n",
       "    </tr>\n",
       "    <tr>\n",
       "      <th>168</th>\n",
       "      <td>9</td>\n",
       "      <td>2000-12-31 01:27:34</td>\n",
       "      <td>2355</td>\n",
       "      <td>1</td>\n",
       "      <td>33</td>\n",
       "    </tr>\n",
       "    <tr>\n",
       "      <th>169</th>\n",
       "      <td>9</td>\n",
       "      <td>2000-12-31 01:28:13</td>\n",
       "      <td>47</td>\n",
       "      <td>1</td>\n",
       "      <td>34</td>\n",
       "    </tr>\n",
       "    <tr>\n",
       "      <th>171</th>\n",
       "      <td>9</td>\n",
       "      <td>2000-12-31 01:30:07</td>\n",
       "      <td>1358</td>\n",
       "      <td>1</td>\n",
       "      <td>35</td>\n",
       "    </tr>\n",
       "    <tr>\n",
       "      <th>172</th>\n",
       "      <td>9</td>\n",
       "      <td>2000-12-31 01:30:16</td>\n",
       "      <td>3255</td>\n",
       "      <td>1</td>\n",
       "      <td>36</td>\n",
       "    </tr>\n",
       "    <tr>\n",
       "      <th>173</th>\n",
       "      <td>9</td>\n",
       "      <td>2000-12-31 01:30:33</td>\n",
       "      <td>1584</td>\n",
       "      <td>1</td>\n",
       "      <td>37</td>\n",
       "    </tr>\n",
       "    <tr>\n",
       "      <th>174</th>\n",
       "      <td>9</td>\n",
       "      <td>2000-12-31 01:31:17</td>\n",
       "      <td>300</td>\n",
       "      <td>1</td>\n",
       "      <td>38</td>\n",
       "    </tr>\n",
       "    <tr>\n",
       "      <th>175</th>\n",
       "      <td>9</td>\n",
       "      <td>2000-12-31 01:31:42</td>\n",
       "      <td>1682</td>\n",
       "      <td>1</td>\n",
       "      <td>39</td>\n",
       "    </tr>\n",
       "    <tr>\n",
       "      <th>176</th>\n",
       "      <td>9</td>\n",
       "      <td>2000-12-31 01:31:55</td>\n",
       "      <td>508</td>\n",
       "      <td>1</td>\n",
       "      <td>40</td>\n",
       "    </tr>\n",
       "    <tr>\n",
       "      <th>178</th>\n",
       "      <td>9</td>\n",
       "      <td>2000-12-31 01:32:23</td>\n",
       "      <td>1912</td>\n",
       "      <td>1</td>\n",
       "      <td>41</td>\n",
       "    </tr>\n",
       "    <tr>\n",
       "      <th>179</th>\n",
       "      <td>9</td>\n",
       "      <td>2000-12-31 01:32:48</td>\n",
       "      <td>1921</td>\n",
       "      <td>1</td>\n",
       "      <td>42</td>\n",
       "    </tr>\n",
       "    <tr>\n",
       "      <th>180</th>\n",
       "      <td>9</td>\n",
       "      <td>2000-12-31 01:33:54</td>\n",
       "      <td>590</td>\n",
       "      <td>1</td>\n",
       "      <td>43</td>\n",
       "    </tr>\n",
       "    <tr>\n",
       "      <th>181</th>\n",
       "      <td>9</td>\n",
       "      <td>2000-12-31 01:34:23</td>\n",
       "      <td>2302</td>\n",
       "      <td>1</td>\n",
       "      <td>44</td>\n",
       "    </tr>\n",
       "    <tr>\n",
       "      <th>182</th>\n",
       "      <td>9</td>\n",
       "      <td>2000-12-31 01:34:33</td>\n",
       "      <td>597</td>\n",
       "      <td>1</td>\n",
       "      <td>45</td>\n",
       "    </tr>\n",
       "    <tr>\n",
       "      <th>184</th>\n",
       "      <td>9</td>\n",
       "      <td>2000-12-31 01:36:59</td>\n",
       "      <td>1653</td>\n",
       "      <td>1</td>\n",
       "      <td>46</td>\n",
       "    </tr>\n",
       "    <tr>\n",
       "      <th>186</th>\n",
       "      <td>9</td>\n",
       "      <td>2000-12-31 01:37:45</td>\n",
       "      <td>2278</td>\n",
       "      <td>1</td>\n",
       "      <td>47</td>\n",
       "    </tr>\n",
       "    <tr>\n",
       "      <th>187</th>\n",
       "      <td>10</td>\n",
       "      <td>2000-12-31 01:03:47</td>\n",
       "      <td>2858</td>\n",
       "      <td>2</td>\n",
       "      <td>48</td>\n",
       "    </tr>\n",
       "  </tbody>\n",
       "</table>\n",
       "</div>"
      ],
      "text/plain": [
       "     SessionId                Time  ItemId  user_id  item_idx\n",
       "122          8 2000-12-31 02:13:09    1210        0         0\n",
       "123          8 2000-12-31 02:13:52     111        0         1\n",
       "124          8 2000-12-31 02:23:11     288        0         2\n",
       "125          8 2000-12-31 02:24:37      25        0         3\n",
       "127          8 2000-12-31 02:32:59    3386        0         4\n",
       "128          8 2000-12-31 02:34:55      16        0         5\n",
       "129          8 2000-12-31 02:35:20    2336        0         6\n",
       "130          8 2000-12-31 02:35:52    2686        0         7\n",
       "131          8 2000-12-31 02:37:07    3006        0         8\n",
       "132          8 2000-12-31 02:39:16    1673        0         9\n",
       "134          8 2000-12-31 02:44:09    1678        0        10\n",
       "135          8 2000-12-31 02:44:26    3105        0        11\n",
       "138          8 2000-12-31 02:50:31    2541        0        12\n",
       "139          8 2000-12-31 02:52:30     151        0        13\n",
       "140          8 2000-12-31 02:54:12    2297        0        14\n",
       "141          8 2000-12-31 02:57:09    2688        0        15\n",
       "142          8 2000-12-31 02:58:13    1476        0        16\n",
       "145          8 2000-12-31 03:00:14     266        0        17\n",
       "149          8 2000-12-31 03:04:50    1711        0        18\n",
       "151          8 2000-12-31 03:31:36       1        0        19\n",
       "153          8 2000-12-31 07:19:03    3257        0        20\n",
       "154          9 2000-12-31 01:07:59     912        1        21\n",
       "155          9 2000-12-31 01:08:13    1210        1         0\n",
       "156          9 2000-12-31 01:12:33    3916        1        22\n",
       "157          9 2000-12-31 01:12:57    3948        1        23\n",
       "158          9 2000-12-31 01:16:41     920        1        24\n",
       "159          9 2000-12-31 01:19:41    3793        1        25\n",
       "160          9 2000-12-31 01:21:11    3623        1        26\n",
       "161          9 2000-12-31 01:21:26    3298        1        27\n",
       "162          9 2000-12-31 01:21:49    3717        1        28\n",
       "164          9 2000-12-31 01:23:47    3148        1        29\n",
       "165          9 2000-12-31 01:24:43     318        1        30\n",
       "166          9 2000-12-31 01:25:08    2028        1        31\n",
       "167          9 2000-12-31 01:27:03     162        1        32\n",
       "168          9 2000-12-31 01:27:34    2355        1        33\n",
       "169          9 2000-12-31 01:28:13      47        1        34\n",
       "171          9 2000-12-31 01:30:07    1358        1        35\n",
       "172          9 2000-12-31 01:30:16    3255        1        36\n",
       "173          9 2000-12-31 01:30:33    1584        1        37\n",
       "174          9 2000-12-31 01:31:17     300        1        38\n",
       "175          9 2000-12-31 01:31:42    1682        1        39\n",
       "176          9 2000-12-31 01:31:55     508        1        40\n",
       "178          9 2000-12-31 01:32:23    1912        1        41\n",
       "179          9 2000-12-31 01:32:48    1921        1        42\n",
       "180          9 2000-12-31 01:33:54     590        1        43\n",
       "181          9 2000-12-31 01:34:23    2302        1        44\n",
       "182          9 2000-12-31 01:34:33     597        1        45\n",
       "184          9 2000-12-31 01:36:59    1653        1        46\n",
       "186          9 2000-12-31 01:37:45    2278        1        47\n",
       "187         10 2000-12-31 01:03:47    2858        2        48"
      ]
     },
     "execution_count": 35,
     "metadata": {},
     "output_type": "execute_result"
    }
   ],
   "source": [
    "tr_dataset = SessionDataset(tr)\n",
    "tr_dataset.df.head(50)"
   ]
  },
  {
   "cell_type": "markdown",
   "id": "bb103880",
   "metadata": {},
   "source": [
    "#### 2.2 SessionDataLoader"
   ]
  },
  {
   "cell_type": "code",
   "execution_count": 36,
   "id": "93c658f1",
   "metadata": {},
   "outputs": [],
   "source": [
    "class SessionDataLoader:\n",
    "    \"\"\"Credit to yhs-968/pyGRU4REC.\"\"\"\n",
    "\n",
    "    def __init__(self, dataset: SessionDataset, batch_size=50):\n",
    "        self.dataset = dataset\n",
    "        self.batch_size = batch_size\n",
    "\n",
    "    def __iter__(self):\n",
    "        \"\"\" Returns the iterator for producing session-parallel training mini-batches.\n",
    "        Yields:\n",
    "            input (B,):  Item indices that will be encoded as one-hot vectors later.\n",
    "            target (B,): a Variable that stores the target item indices\n",
    "            masks: Numpy array indicating the positions of the sessions to be terminated\n",
    "        \"\"\"\n",
    "\n",
    "        start, end, mask, last_session, finished = self.initialize()  # initialize 메소드에서 확인해주세요.\n",
    "        \"\"\"\n",
    "        start : Index Where Session Start\n",
    "        end : Index Where Session End\n",
    "        mask : indicator for the sessions to be terminated\n",
    "        \"\"\"\n",
    "\n",
    "        while not finished:\n",
    "            min_len = (end - start).min() - 1  # Shortest Length Among Sessions\n",
    "            for i in range(min_len):\n",
    "                # Build inputs & targets\n",
    "                inp = self.dataset.df['item_idx'].values[start + i]\n",
    "                target = self.dataset.df['item_idx'].values[start + i + 1]\n",
    "                yield inp, target, mask\n",
    "\n",
    "            start, end, mask, last_session, finished = self.update_status(start, end, min_len, last_session, finished)\n",
    "\n",
    "    def initialize(self):\n",
    "        first_iters  = np.arange(self.batch_size)    # 첫 배치에 사용할 세션 Index를 가져옵니다.\n",
    "        last_session = self.batch_size - 1           # 마지막으로 다루고 있는 세션 Index를 저장해둡니다.\n",
    "        start = self.dataset.click_offsets[self.dataset.session_idx[first_iters]]      # data 상에서 session이 시작된 위치를 가져옵니다.\n",
    "        end   = self.dataset.click_offsets[self.dataset.session_idx[first_iters] + 1]  # session이 끝난 위치 바로 다음 위치를 가져옵니다.\n",
    "        mask  = np.array([])   # session의 모든 아이템을 다 돌은 경우 mask에 추가해줄 것입니다.\n",
    "        finished = False         # data를 전부 돌았는지 기록하기 위한 변수입니다.\n",
    "        return start, end, mask, last_session, finished\n",
    "\n",
    "    def update_status(self, start: np.ndarray, end: np.ndarray, min_len: int, last_session: int, finished: bool):  \n",
    "        # 다음 배치 데이터를 생성하기 위해 상태를 update합니다.\n",
    "        \n",
    "        start += min_len   # __iter__에서 min_len 만큼 for문을 돌았으므로 start를 min_len 만큼 더해줍니다.\n",
    "        mask = np.arange(self.batch_size)[(end - start) == 1]  \n",
    "        # end는 다음 세션이 시작되는 위치인데 start와 한 칸 차이난다는 것은 session이 끝났다는 뜻입니다. mask에 기록해줍니다.\n",
    "\n",
    "        for i, idx in enumerate(mask, start=1):  # mask에 추가된 세션 개수만큼 새로운 세션을 돌것입니다.\n",
    "            new_session = last_session + i  \n",
    "            if new_session > self.dataset.session_idx[-1]:  # 만약 새로운 세션이 마지막 세션 index보다 크다면 모든 학습데이터를 돈 것입니다.\n",
    "                finished = True\n",
    "                break\n",
    "            # update the next starting/ending point\n",
    "            start[idx] = self.dataset.click_offsets[self.dataset.session_idx[new_session]]     # 종료된 세션 대신 새로운 세션의 시작점을 기록합니다.\n",
    "            end[idx]   = self.dataset.click_offsets[self.dataset.session_idx[new_session] + 1]\n",
    "\n",
    "        last_session += len(mask)  # 마지막 세션의 위치를 기록해둡니다.\n",
    "        return start, end, mask, last_session, finished"
   ]
  },
  {
   "cell_type": "code",
   "execution_count": 37,
   "id": "543ac210",
   "metadata": {},
   "outputs": [
    {
     "data": {
      "text/html": [
       "<div>\n",
       "<style scoped>\n",
       "    .dataframe tbody tr th:only-of-type {\n",
       "        vertical-align: middle;\n",
       "    }\n",
       "\n",
       "    .dataframe tbody tr th {\n",
       "        vertical-align: top;\n",
       "    }\n",
       "\n",
       "    .dataframe thead th {\n",
       "        text-align: right;\n",
       "    }\n",
       "</style>\n",
       "<table border=\"1\" class=\"dataframe\">\n",
       "  <thead>\n",
       "    <tr style=\"text-align: right;\">\n",
       "      <th></th>\n",
       "      <th>SessionId</th>\n",
       "      <th>Time</th>\n",
       "      <th>ItemId</th>\n",
       "      <th>user_id</th>\n",
       "      <th>item_idx</th>\n",
       "    </tr>\n",
       "  </thead>\n",
       "  <tbody>\n",
       "    <tr>\n",
       "      <th>122</th>\n",
       "      <td>8</td>\n",
       "      <td>2000-12-31 02:13:09</td>\n",
       "      <td>1210</td>\n",
       "      <td>0</td>\n",
       "      <td>0</td>\n",
       "    </tr>\n",
       "    <tr>\n",
       "      <th>123</th>\n",
       "      <td>8</td>\n",
       "      <td>2000-12-31 02:13:52</td>\n",
       "      <td>111</td>\n",
       "      <td>0</td>\n",
       "      <td>1</td>\n",
       "    </tr>\n",
       "    <tr>\n",
       "      <th>124</th>\n",
       "      <td>8</td>\n",
       "      <td>2000-12-31 02:23:11</td>\n",
       "      <td>288</td>\n",
       "      <td>0</td>\n",
       "      <td>2</td>\n",
       "    </tr>\n",
       "    <tr>\n",
       "      <th>125</th>\n",
       "      <td>8</td>\n",
       "      <td>2000-12-31 02:24:37</td>\n",
       "      <td>25</td>\n",
       "      <td>0</td>\n",
       "      <td>3</td>\n",
       "    </tr>\n",
       "    <tr>\n",
       "      <th>127</th>\n",
       "      <td>8</td>\n",
       "      <td>2000-12-31 02:32:59</td>\n",
       "      <td>3386</td>\n",
       "      <td>0</td>\n",
       "      <td>4</td>\n",
       "    </tr>\n",
       "    <tr>\n",
       "      <th>128</th>\n",
       "      <td>8</td>\n",
       "      <td>2000-12-31 02:34:55</td>\n",
       "      <td>16</td>\n",
       "      <td>0</td>\n",
       "      <td>5</td>\n",
       "    </tr>\n",
       "    <tr>\n",
       "      <th>129</th>\n",
       "      <td>8</td>\n",
       "      <td>2000-12-31 02:35:20</td>\n",
       "      <td>2336</td>\n",
       "      <td>0</td>\n",
       "      <td>6</td>\n",
       "    </tr>\n",
       "    <tr>\n",
       "      <th>130</th>\n",
       "      <td>8</td>\n",
       "      <td>2000-12-31 02:35:52</td>\n",
       "      <td>2686</td>\n",
       "      <td>0</td>\n",
       "      <td>7</td>\n",
       "    </tr>\n",
       "    <tr>\n",
       "      <th>131</th>\n",
       "      <td>8</td>\n",
       "      <td>2000-12-31 02:37:07</td>\n",
       "      <td>3006</td>\n",
       "      <td>0</td>\n",
       "      <td>8</td>\n",
       "    </tr>\n",
       "    <tr>\n",
       "      <th>132</th>\n",
       "      <td>8</td>\n",
       "      <td>2000-12-31 02:39:16</td>\n",
       "      <td>1673</td>\n",
       "      <td>0</td>\n",
       "      <td>9</td>\n",
       "    </tr>\n",
       "    <tr>\n",
       "      <th>134</th>\n",
       "      <td>8</td>\n",
       "      <td>2000-12-31 02:44:09</td>\n",
       "      <td>1678</td>\n",
       "      <td>0</td>\n",
       "      <td>10</td>\n",
       "    </tr>\n",
       "    <tr>\n",
       "      <th>135</th>\n",
       "      <td>8</td>\n",
       "      <td>2000-12-31 02:44:26</td>\n",
       "      <td>3105</td>\n",
       "      <td>0</td>\n",
       "      <td>11</td>\n",
       "    </tr>\n",
       "    <tr>\n",
       "      <th>138</th>\n",
       "      <td>8</td>\n",
       "      <td>2000-12-31 02:50:31</td>\n",
       "      <td>2541</td>\n",
       "      <td>0</td>\n",
       "      <td>12</td>\n",
       "    </tr>\n",
       "    <tr>\n",
       "      <th>139</th>\n",
       "      <td>8</td>\n",
       "      <td>2000-12-31 02:52:30</td>\n",
       "      <td>151</td>\n",
       "      <td>0</td>\n",
       "      <td>13</td>\n",
       "    </tr>\n",
       "    <tr>\n",
       "      <th>140</th>\n",
       "      <td>8</td>\n",
       "      <td>2000-12-31 02:54:12</td>\n",
       "      <td>2297</td>\n",
       "      <td>0</td>\n",
       "      <td>14</td>\n",
       "    </tr>\n",
       "  </tbody>\n",
       "</table>\n",
       "</div>"
      ],
      "text/plain": [
       "     SessionId                Time  ItemId  user_id  item_idx\n",
       "122          8 2000-12-31 02:13:09    1210        0         0\n",
       "123          8 2000-12-31 02:13:52     111        0         1\n",
       "124          8 2000-12-31 02:23:11     288        0         2\n",
       "125          8 2000-12-31 02:24:37      25        0         3\n",
       "127          8 2000-12-31 02:32:59    3386        0         4\n",
       "128          8 2000-12-31 02:34:55      16        0         5\n",
       "129          8 2000-12-31 02:35:20    2336        0         6\n",
       "130          8 2000-12-31 02:35:52    2686        0         7\n",
       "131          8 2000-12-31 02:37:07    3006        0         8\n",
       "132          8 2000-12-31 02:39:16    1673        0         9\n",
       "134          8 2000-12-31 02:44:09    1678        0        10\n",
       "135          8 2000-12-31 02:44:26    3105        0        11\n",
       "138          8 2000-12-31 02:50:31    2541        0        12\n",
       "139          8 2000-12-31 02:52:30     151        0        13\n",
       "140          8 2000-12-31 02:54:12    2297        0        14"
      ]
     },
     "execution_count": 37,
     "metadata": {},
     "output_type": "execute_result"
    }
   ],
   "source": [
    "tr_data_loader = SessionDataLoader(tr_dataset, batch_size=5)\n",
    "tr_dataset.df.head(15)"
   ]
  },
  {
   "cell_type": "code",
   "execution_count": 38,
   "id": "fdad3049",
   "metadata": {},
   "outputs": [
    {
     "data": {
      "text/html": [
       "<div>\n",
       "<style scoped>\n",
       "    .dataframe tbody tr th:only-of-type {\n",
       "        vertical-align: middle;\n",
       "    }\n",
       "\n",
       "    .dataframe tbody tr th {\n",
       "        vertical-align: top;\n",
       "    }\n",
       "\n",
       "    .dataframe thead th {\n",
       "        text-align: right;\n",
       "    }\n",
       "</style>\n",
       "<table border=\"1\" class=\"dataframe\">\n",
       "  <thead>\n",
       "    <tr style=\"text-align: right;\">\n",
       "      <th></th>\n",
       "      <th>SessionId</th>\n",
       "      <th>Time</th>\n",
       "      <th>ItemId</th>\n",
       "      <th>user_id</th>\n",
       "      <th>item_idx</th>\n",
       "    </tr>\n",
       "  </thead>\n",
       "  <tbody>\n",
       "    <tr>\n",
       "      <th>4911</th>\n",
       "      <td>157</td>\n",
       "      <td>2000-12-19 17:34:38</td>\n",
       "      <td>858</td>\n",
       "      <td>45</td>\n",
       "      <td>201</td>\n",
       "    </tr>\n",
       "    <tr>\n",
       "      <th>4912</th>\n",
       "      <td>157</td>\n",
       "      <td>2000-12-19 17:36:42</td>\n",
       "      <td>3751</td>\n",
       "      <td>45</td>\n",
       "      <td>338</td>\n",
       "    </tr>\n",
       "    <tr>\n",
       "      <th>4913</th>\n",
       "      <td>157</td>\n",
       "      <td>2000-12-19 17:41:58</td>\n",
       "      <td>2763</td>\n",
       "      <td>45</td>\n",
       "      <td>457</td>\n",
       "    </tr>\n",
       "    <tr>\n",
       "      <th>4915</th>\n",
       "      <td>157</td>\n",
       "      <td>2000-12-19 17:45:13</td>\n",
       "      <td>318</td>\n",
       "      <td>45</td>\n",
       "      <td>30</td>\n",
       "    </tr>\n",
       "    <tr>\n",
       "      <th>4916</th>\n",
       "      <td>157</td>\n",
       "      <td>2000-12-19 17:45:57</td>\n",
       "      <td>2289</td>\n",
       "      <td>45</td>\n",
       "      <td>336</td>\n",
       "    </tr>\n",
       "    <tr>\n",
       "      <th>4917</th>\n",
       "      <td>157</td>\n",
       "      <td>2000-12-19 17:46:11</td>\n",
       "      <td>265</td>\n",
       "      <td>45</td>\n",
       "      <td>466</td>\n",
       "    </tr>\n",
       "    <tr>\n",
       "      <th>4919</th>\n",
       "      <td>157</td>\n",
       "      <td>2000-12-19 17:47:50</td>\n",
       "      <td>150</td>\n",
       "      <td>45</td>\n",
       "      <td>410</td>\n",
       "    </tr>\n",
       "    <tr>\n",
       "      <th>4920</th>\n",
       "      <td>157</td>\n",
       "      <td>2000-12-19 17:48:03</td>\n",
       "      <td>1784</td>\n",
       "      <td>45</td>\n",
       "      <td>188</td>\n",
       "    </tr>\n",
       "    <tr>\n",
       "      <th>4922</th>\n",
       "      <td>157</td>\n",
       "      <td>2000-12-19 17:49:39</td>\n",
       "      <td>2890</td>\n",
       "      <td>45</td>\n",
       "      <td>264</td>\n",
       "    </tr>\n",
       "    <tr>\n",
       "      <th>4923</th>\n",
       "      <td>157</td>\n",
       "      <td>2000-12-19 17:50:06</td>\n",
       "      <td>16</td>\n",
       "      <td>45</td>\n",
       "      <td>5</td>\n",
       "    </tr>\n",
       "  </tbody>\n",
       "</table>\n",
       "</div>"
      ],
      "text/plain": [
       "      SessionId                Time  ItemId  user_id  item_idx\n",
       "4911        157 2000-12-19 17:34:38     858       45       201\n",
       "4912        157 2000-12-19 17:36:42    3751       45       338\n",
       "4913        157 2000-12-19 17:41:58    2763       45       457\n",
       "4915        157 2000-12-19 17:45:13     318       45        30\n",
       "4916        157 2000-12-19 17:45:57    2289       45       336\n",
       "4917        157 2000-12-19 17:46:11     265       45       466\n",
       "4919        157 2000-12-19 17:47:50     150       45       410\n",
       "4920        157 2000-12-19 17:48:03    1784       45       188\n",
       "4922        157 2000-12-19 17:49:39    2890       45       264\n",
       "4923        157 2000-12-19 17:50:06      16       45         5"
      ]
     },
     "execution_count": 38,
     "metadata": {},
     "output_type": "execute_result"
    }
   ],
   "source": [
    "val_dataset = SessionDataset(val)\n",
    "val_data_loader = SessionDataLoader(val_dataset, batch_size=5)\n",
    "val_dataset.df.head(10)"
   ]
  },
  {
   "cell_type": "code",
   "execution_count": 39,
   "id": "0ff80970",
   "metadata": {},
   "outputs": [],
   "source": [
    "iter_ex = iter(tr_data_loader)"
   ]
  },
  {
   "cell_type": "code",
   "execution_count": 40,
   "id": "a0861a83",
   "metadata": {},
   "outputs": [
    {
     "name": "stdout",
     "output_type": "stream",
     "text": [
      "Model Input Item Idx are : [  0  21  48 112 112]\n",
      "Label Item Idx are :       [  1   0  49  70 141]\n",
      "Previous Masked Input Idx are []\n",
      "Model Input Item Idx are : [  1   0  49  70 141]\n",
      "Label Item Idx are :       [  2  22  50 113 142]\n",
      "Previous Masked Input Idx are []\n",
      "Model Input Item Idx are : [  2  22  50 113 142]\n",
      "Label Item Idx are :       [  3  23  51  30 122]\n",
      "Previous Masked Input Idx are []\n",
      "Model Input Item Idx are : [  3  23  51  30 122]\n",
      "Label Item Idx are :       [  4  24  52  48 143]\n",
      "Previous Masked Input Idx are []\n",
      "Model Input Item Idx are : [  4  24  52  48 143]\n",
      "Label Item Idx are :       [  5  25  53 114  79]\n",
      "Previous Masked Input Idx are []\n",
      "Model Input Item Idx are : [  5  25  53 114  79]\n",
      "Label Item Idx are :       [  6  26  54 115  57]\n",
      "Previous Masked Input Idx are []\n",
      "Model Input Item Idx are : [  6  26  54 115  57]\n",
      "Label Item Idx are :       [  7  27  21  11 144]\n",
      "Previous Masked Input Idx are []\n",
      "Model Input Item Idx are : [  7  27  21  11 144]\n",
      "Label Item Idx are :       [  8  28  55 116 145]\n",
      "Previous Masked Input Idx are []\n",
      "Model Input Item Idx are : [  8  28  55 116 145]\n",
      "Label Item Idx are :       [  9  29  56 117 146]\n",
      "Previous Masked Input Idx are []\n",
      "Model Input Item Idx are : [  9  29  56 117 146]\n",
      "Label Item Idx are :       [ 10  30  57 118  23]\n",
      "Previous Masked Input Idx are []\n"
     ]
    }
   ],
   "source": [
    "# inputs, labels, mask =  next(iter_ex)\n",
    "# print(f'Model Input Item Idx are : {inputs}')\n",
    "# print(f'Label Item Idx are : {\"\":5} {labels}')\n",
    "# print(f'Previous Masked Input Idx are {mask}')\n",
    "\n",
    "for i in range(10):\n",
    "    inputs, labels, mask =  next(iter_ex)\n",
    "    print(f'Model Input Item Idx are : {inputs}')\n",
    "    print(f'Label Item Idx are : {\"\":5} {labels}')\n",
    "    print(f'Previous Masked Input Idx are {mask}')\n"
   ]
  },
  {
   "cell_type": "markdown",
   "id": "295279ad",
   "metadata": {},
   "source": [
    "### Step 3. 모델 구성"
   ]
  },
  {
   "cell_type": "markdown",
   "id": "eb099e9b",
   "metadata": {},
   "source": [
    "이 부분도 실습 코드 내역을 참고하여 다양하게 모델 구조를 시도해 볼 수 있습니다.  \n",
    "이번 자료에서 사용할 모델은 2016년 ICLR에 공개된 SESSION-BASED RECOMMENDATIONS WITH RECURRENT NEURAL NETWORKS 입니다.  \n",
    "https://arxiv.org/pdf/1511.06939v4.pdf"
   ]
  },
  {
   "cell_type": "markdown",
   "id": "b0d301f3",
   "metadata": {},
   "source": [
    "#### 3.1 Evaluation Metric"
   ]
  },
  {
   "cell_type": "markdown",
   "id": "bdc01d57",
   "metadata": {},
   "source": [
    "Session-Based Recommendation Task에서는 모델이 k개의 아이템을 제시했을 때, 유저가 클릭/ 구매한 n개의 아이템이 많아야 좋습니다.\n",
    "이 때문에 recall의 개념을 확장한 recall@k 지표, precision의 개념을 확장한 Mean Average Precision@k 지표 등을 사용"
   ]
  },
  {
   "cell_type": "markdown",
   "id": "1f5a2030",
   "metadata": {},
   "source": [
    "이번 자료에서는 MRR과 Recall@k를 사용"
   ]
  },
  {
   "cell_type": "code",
   "execution_count": 41,
   "id": "be897fbd",
   "metadata": {},
   "outputs": [],
   "source": [
    "def mrr_k(pred, truth: int, k: int):\n",
    "    indexing = np.where(pred[:k] == truth)[0]\n",
    "    if len(indexing) > 0:\n",
    "        return 1 / (indexing[0] + 1)\n",
    "    else:\n",
    "        return 0\n",
    "\n",
    "def recall_k(pred, truth: int, k: int) -> int:\n",
    "    answer = truth in pred[:k]\n",
    "    return int(answer)"
   ]
  },
  {
   "cell_type": "markdown",
   "id": "31db041a",
   "metadata": {},
   "source": [
    "#### 3.2 Model Architecture"
   ]
  },
  {
   "cell_type": "code",
   "execution_count": 42,
   "id": "dbadd715",
   "metadata": {},
   "outputs": [],
   "source": [
    "import numpy as np\n",
    "import tensorflow as tf\n",
    "from tensorflow.keras.layers import Input, Dense, Dropout, GRU\n",
    "from tensorflow.keras.losses import categorical_crossentropy\n",
    "from tensorflow.keras.models import Model\n",
    "from tensorflow.keras.optimizers import Adam\n",
    "from tensorflow.keras.utils import to_categorical\n",
    "from tqdm import tqdm"
   ]
  },
  {
   "cell_type": "code",
   "execution_count": 43,
   "id": "98a25c8e",
   "metadata": {},
   "outputs": [],
   "source": [
    "def create_model(args):\n",
    "    inputs = Input(batch_shape=(args.batch_size, 1, args.num_items))\n",
    "    gru, _ = GRU(args.hsz, stateful=True, return_state=True, name='GRU')(inputs)\n",
    "    dropout = Dropout(args.drop_rate)(gru)\n",
    "    predictions = Dense(args.num_items, activation='softmax')(dropout)\n",
    "    model = Model(inputs=inputs, outputs=[predictions])\n",
    "    model.compile(loss=categorical_crossentropy, optimizer=Adam(args.lr), metrics=['accuracy'])\n",
    "    model.summary()\n",
    "    return model"
   ]
  },
  {
   "cell_type": "code",
   "execution_count": 44,
   "id": "b00b63fe",
   "metadata": {},
   "outputs": [],
   "source": [
    "class Args:\n",
    "    def __init__(self, tr, val, test, batch_size, hsz, drop_rate, lr, epochs, k):\n",
    "        self.tr = tr\n",
    "        self.val = val\n",
    "        self.test = test\n",
    "        self.num_items = tr['ItemId'].nunique()\n",
    "        self.num_sessions = tr['SessionId'].nunique()\n",
    "        self.batch_size = batch_size\n",
    "        self.hsz = hsz\n",
    "        self.drop_rate = drop_rate\n",
    "        self.lr = lr\n",
    "        self.epochs = epochs\n",
    "        self.k = k"
   ]
  },
  {
   "cell_type": "code",
   "execution_count": 45,
   "id": "1180da98",
   "metadata": {},
   "outputs": [],
   "source": [
    "# args = Args(tr, val, test, batch_size=64, hsz=100, drop_rate=0.125, lr=0.00125, epochs=50, k=20) # hsz=100은 epochs가 진행해도 개선되는게 없음\n",
    "args = Args(tr, val, test, batch_size=64, hsz=400, drop_rate=0.1, lr=0.001, epochs=30, k=20) # hsz=400은 정확도는 개선됨"
   ]
  },
  {
   "cell_type": "code",
   "execution_count": 46,
   "id": "8b43b0cf",
   "metadata": {},
   "outputs": [
    {
     "name": "stdout",
     "output_type": "stream",
     "text": [
      "Model: \"model\"\n",
      "_________________________________________________________________\n",
      " Layer (type)                Output Shape              Param #   \n",
      "=================================================================\n",
      " input_1 (InputLayer)        [(64, 1, 492)]            0         \n",
      "                                                                 \n",
      " GRU (GRU)                   [(64, 400),               1072800   \n",
      "                              (64, 400)]                         \n",
      "                                                                 \n",
      " dropout (Dropout)           (64, 400)                 0         \n",
      "                                                                 \n",
      " dense (Dense)               (64, 492)                 197292    \n",
      "                                                                 \n",
      "=================================================================\n",
      "Total params: 1,270,092\n",
      "Trainable params: 1,270,092\n",
      "Non-trainable params: 0\n",
      "_________________________________________________________________\n"
     ]
    }
   ],
   "source": [
    "model = create_model(args)"
   ]
  },
  {
   "cell_type": "markdown",
   "id": "f8dfc19d",
   "metadata": {},
   "source": [
    "### Step 4. 모델 학습"
   ]
  },
  {
   "cell_type": "markdown",
   "id": "76d0df0f",
   "metadata": {},
   "source": [
    "다양한 하이퍼파라미터를 변경해 보며 검증해 보도록 합니다. 실습 코드에 언급되었던 Recall, MRR 등의 개념들도 함께 관리될 수 있도록 합니다. 순서에 민감한 지표인 MRR, NDCG 같은 지표도 사용"
   ]
  },
  {
   "cell_type": "markdown",
   "id": "38961f4b",
   "metadata": {},
   "source": [
    "#### 4.1 Model Training"
   ]
  },
  {
   "cell_type": "code",
   "execution_count": 47,
   "id": "f6becc24",
   "metadata": {},
   "outputs": [],
   "source": [
    "# train 셋으로 학습하면서 valid 셋으로 검증합니다.\n",
    "def train_model(model, args):\n",
    "    train_dataset = SessionDataset(args.tr)\n",
    "    train_loader = SessionDataLoader(train_dataset, batch_size=args.batch_size)\n",
    "\n",
    "    for epoch in range(1, args.epochs + 1):\n",
    "        total_step = len(args.tr) - args.tr['SessionId'].nunique()\n",
    "        tr_loader = tqdm(train_loader, total=total_step // args.batch_size, desc='Train', mininterval=1)\n",
    "        for feat, target, mask in tr_loader:\n",
    "            \n",
    "            \n",
    "            reset_hidden_states(model, mask)  # 종료된 session은 hidden_state를 초기화합니다. 아래 메서드에서 확인해주세요.\n",
    "\n",
    "            input_ohe = to_categorical(feat, num_classes=args.num_items)\n",
    "            input_ohe = np.expand_dims(input_ohe, axis=1)\n",
    "            target_ohe = to_categorical(target, num_classes=args.num_items)\n",
    "\n",
    "            result = model.train_on_batch(input_ohe, target_ohe)\n",
    "            tr_loader.set_postfix(train_loss=result[0], accuracy = result[1])\n",
    "\n",
    "        val_recall, val_mrr = get_metrics(args.val, model, args, args.k)  # valid set에 대해 검증합니다.\n",
    "\n",
    "        print(f\"\\t - Recall@{args.k} epoch {epoch}: {val_recall:3f}\")\n",
    "        print(f\"\\t - MRR@{args.k}    epoch {epoch}: {val_mrr:3f}\\n\")\n",
    "\n",
    "\n",
    "def reset_hidden_states(model, mask):\n",
    "    gru_layer = model.get_layer(name='GRU')  # model에서 gru layer를 가져옵니다.\n",
    "    hidden_states = gru_layer.states[0].numpy()  # gru_layer의 parameter를 가져옵니다.\n",
    "    for elt in mask:  # mask된 인덱스 즉, 종료된 세션의 인덱스를 돌면서\n",
    "        hidden_states[elt, :] = 0  # parameter를 초기화 합니다.\n",
    "    gru_layer.reset_states(states=hidden_states)\n",
    "\n",
    "\n",
    "def get_metrics(data, model, args, k: int):  # valid셋과 test셋을 평가하는 코드입니다. \n",
    "                                             # train과 거의 같지만 mrr, recall을 구하는 라인이 있습니다.\n",
    "    dataset = SessionDataset(data)\n",
    "    loader  = SessionDataLoader(dataset, batch_size=args.batch_size)\n",
    "\n",
    "    recall_list, mrr_list = [], []\n",
    "\n",
    "    total_step = len(data) - data['SessionId'].nunique()\n",
    "    for inputs, label, mask in tqdm(loader, total=total_step // args.batch_size, desc='Evaluation', mininterval=1):\n",
    "        reset_hidden_states(model, mask)\n",
    "        input_ohe = to_categorical(inputs, num_classes=args.num_items)\n",
    "        input_ohe = np.expand_dims(input_ohe, axis=1)\n",
    "\n",
    "        pred = model.predict(input_ohe, batch_size=args.batch_size)\n",
    "        pred_arg = tf.argsort(pred, direction='DESCENDING')  # softmax 값이 큰 순서대로 sorting 합니다.\n",
    "        length = len(inputs)\n",
    "        recall_list.extend([recall_k(pred_arg[i], label[i], k) for i in range(length)])\n",
    "        mrr_list.extend([mrr_k(pred_arg[i], label[i], k) for i in range(length)])\n",
    "\n",
    "    recall, mrr = np.mean(recall_list), np.mean(mrr_list)\n",
    "    return recall, mrr"
   ]
  },
  {
   "cell_type": "code",
   "execution_count": 48,
   "id": "377c6b34",
   "metadata": {
    "scrolled": true
   },
   "outputs": [
    {
     "name": "stderr",
     "output_type": "stream",
     "text": [
      "Train:  98%|█████████████████████████████████████████▏| 1047/1067 [00:20<00:00, 50.01it/s, accuracy=0, train_loss=5.96]\n",
      "Evaluation:  60%|██████████████████████████████████████████▎                           | 55/91 [00:28<00:18,  1.91it/s]\n"
     ]
    },
    {
     "name": "stdout",
     "output_type": "stream",
     "text": [
      "\t - Recall@20 epoch 1: 0.149716\n",
      "\t - MRR@20    epoch 1: 0.030225\n",
      "\n"
     ]
    },
    {
     "name": "stderr",
     "output_type": "stream",
     "text": [
      "Train:  98%|█████████████████████████████████████████▏| 1047/1067 [00:15<00:00, 65.89it/s, accuracy=0, train_loss=5.74]\n",
      "Evaluation:  60%|██████████████████████████████████████████▎                           | 55/91 [00:28<00:18,  1.96it/s]\n"
     ]
    },
    {
     "name": "stdout",
     "output_type": "stream",
     "text": [
      "\t - Recall@20 epoch 2: 0.192045\n",
      "\t - MRR@20    epoch 2: 0.044205\n",
      "\n"
     ]
    },
    {
     "name": "stderr",
     "output_type": "stream",
     "text": [
      "Train:  98%|████████████████████████████████████▎| 1047/1067 [00:15<00:00, 65.71it/s, accuracy=0.0156, train_loss=5.56]\n",
      "Evaluation:  60%|██████████████████████████████████████████▎                           | 55/91 [00:28<00:18,  1.95it/s]\n"
     ]
    },
    {
     "name": "stdout",
     "output_type": "stream",
     "text": [
      "\t - Recall@20 epoch 3: 0.184659\n",
      "\t - MRR@20    epoch 3: 0.046263\n",
      "\n"
     ]
    },
    {
     "name": "stderr",
     "output_type": "stream",
     "text": [
      "Train:  98%|████████████████████████████████████▎| 1047/1067 [00:16<00:00, 65.28it/s, accuracy=0.0312, train_loss=5.36]\n",
      "Evaluation:  60%|██████████████████████████████████████████▎                           | 55/91 [00:28<00:18,  1.95it/s]\n"
     ]
    },
    {
     "name": "stdout",
     "output_type": "stream",
     "text": [
      "\t - Recall@20 epoch 4: 0.179261\n",
      "\t - MRR@20    epoch 4: 0.044258\n",
      "\n"
     ]
    },
    {
     "name": "stderr",
     "output_type": "stream",
     "text": [
      "Train:  98%|████████████████████████████████████▎| 1047/1067 [00:15<00:00, 65.91it/s, accuracy=0.0156, train_loss=5.18]\n",
      "Evaluation:  60%|██████████████████████████████████████████▎                           | 55/91 [00:28<00:18,  1.94it/s]\n"
     ]
    },
    {
     "name": "stdout",
     "output_type": "stream",
     "text": [
      "\t - Recall@20 epoch 5: 0.173580\n",
      "\t - MRR@20    epoch 5: 0.042664\n",
      "\n"
     ]
    },
    {
     "name": "stderr",
     "output_type": "stream",
     "text": [
      "Train:  98%|████████████████████████████████████▎| 1047/1067 [00:15<00:00, 66.32it/s, accuracy=0.0781, train_loss=4.95]\n",
      "Evaluation:  60%|██████████████████████████████████████████▎                           | 55/91 [00:28<00:18,  1.93it/s]\n"
     ]
    },
    {
     "name": "stdout",
     "output_type": "stream",
     "text": [
      "\t - Recall@20 epoch 6: 0.167045\n",
      "\t - MRR@20    epoch 6: 0.042370\n",
      "\n"
     ]
    },
    {
     "name": "stderr",
     "output_type": "stream",
     "text": [
      "Train:  98%|████████████████████████████████████▎| 1047/1067 [00:16<00:00, 65.21it/s, accuracy=0.0625, train_loss=4.71]\n",
      "Evaluation:  60%|██████████████████████████████████████████▎                           | 55/91 [00:28<00:18,  1.93it/s]\n"
     ]
    },
    {
     "name": "stdout",
     "output_type": "stream",
     "text": [
      "\t - Recall@20 epoch 7: 0.158523\n",
      "\t - MRR@20    epoch 7: 0.039161\n",
      "\n"
     ]
    },
    {
     "name": "stderr",
     "output_type": "stream",
     "text": [
      "Train:  98%|████████████████████████████████████▎| 1047/1067 [00:16<00:00, 65.26it/s, accuracy=0.0781, train_loss=4.55]\n",
      "Evaluation:  60%|██████████████████████████████████████████▎                           | 55/91 [00:28<00:18,  1.94it/s]\n"
     ]
    },
    {
     "name": "stdout",
     "output_type": "stream",
     "text": [
      "\t - Recall@20 epoch 8: 0.154830\n",
      "\t - MRR@20    epoch 8: 0.037967\n",
      "\n"
     ]
    },
    {
     "name": "stderr",
     "output_type": "stream",
     "text": [
      "Train:  98%|████████████████████████████████████▎| 1047/1067 [00:16<00:00, 65.21it/s, accuracy=0.0938, train_loss=4.44]\n",
      "Evaluation:  60%|██████████████████████████████████████████▎                           | 55/91 [00:28<00:18,  1.92it/s]\n"
     ]
    },
    {
     "name": "stdout",
     "output_type": "stream",
     "text": [
      "\t - Recall@20 epoch 9: 0.146023\n",
      "\t - MRR@20    epoch 9: 0.036446\n",
      "\n"
     ]
    },
    {
     "name": "stderr",
     "output_type": "stream",
     "text": [
      "Train:  98%|█████████████████████████████████████▎| 1047/1067 [00:15<00:00, 65.63it/s, accuracy=0.156, train_loss=4.25]\n",
      "Evaluation:  60%|██████████████████████████████████████████▎                           | 55/91 [00:28<00:18,  1.91it/s]\n"
     ]
    },
    {
     "name": "stdout",
     "output_type": "stream",
     "text": [
      "\t - Recall@20 epoch 10: 0.138068\n",
      "\t - MRR@20    epoch 10: 0.034691\n",
      "\n"
     ]
    },
    {
     "name": "stderr",
     "output_type": "stream",
     "text": [
      "Train:  98%|█████████████████████████████████████▎| 1047/1067 [00:16<00:00, 65.41it/s, accuracy=0.141, train_loss=4.24]\n",
      "Evaluation:  60%|██████████████████████████████████████████▎                           | 55/91 [00:28<00:18,  1.91it/s]\n"
     ]
    },
    {
     "name": "stdout",
     "output_type": "stream",
     "text": [
      "\t - Recall@20 epoch 11: 0.135795\n",
      "\t - MRR@20    epoch 11: 0.031795\n",
      "\n"
     ]
    },
    {
     "name": "stderr",
     "output_type": "stream",
     "text": [
      "Train:  98%|█████████████████████████████████████▎| 1047/1067 [00:16<00:00, 65.33it/s, accuracy=0.188, train_loss=3.97]\n",
      "Evaluation:  60%|██████████████████████████████████████████▎                           | 55/91 [00:28<00:18,  1.90it/s]\n"
     ]
    },
    {
     "name": "stdout",
     "output_type": "stream",
     "text": [
      "\t - Recall@20 epoch 12: 0.132386\n",
      "\t - MRR@20    epoch 12: 0.031153\n",
      "\n"
     ]
    },
    {
     "name": "stderr",
     "output_type": "stream",
     "text": [
      "Train:  98%|█████████████████████████████████████▎| 1047/1067 [00:15<00:00, 65.48it/s, accuracy=0.219, train_loss=3.75]\n",
      "Evaluation:  60%|██████████████████████████████████████████▎                           | 55/91 [00:28<00:18,  1.91it/s]\n"
     ]
    },
    {
     "name": "stdout",
     "output_type": "stream",
     "text": [
      "\t - Recall@20 epoch 13: 0.129545\n",
      "\t - MRR@20    epoch 13: 0.029513\n",
      "\n"
     ]
    },
    {
     "name": "stderr",
     "output_type": "stream",
     "text": [
      "Train:  98%|█████████████████████████████████████▎| 1047/1067 [00:15<00:00, 65.87it/s, accuracy=0.203, train_loss=3.52]\n",
      "Evaluation:  60%|██████████████████████████████████████████▎                           | 55/91 [00:29<00:19,  1.88it/s]\n"
     ]
    },
    {
     "name": "stdout",
     "output_type": "stream",
     "text": [
      "\t - Recall@20 epoch 14: 0.119034\n",
      "\t - MRR@20    epoch 14: 0.029469\n",
      "\n"
     ]
    },
    {
     "name": "stderr",
     "output_type": "stream",
     "text": [
      "Train:  98%|██████████████████████████████████████▎| 1047/1067 [00:16<00:00, 65.17it/s, accuracy=0.25, train_loss=3.42]\n",
      "Evaluation:  60%|██████████████████████████████████████████▎                           | 55/91 [00:28<00:18,  1.90it/s]\n"
     ]
    },
    {
     "name": "stdout",
     "output_type": "stream",
     "text": [
      "\t - Recall@20 epoch 15: 0.128409\n",
      "\t - MRR@20    epoch 15: 0.028268\n",
      "\n"
     ]
    },
    {
     "name": "stderr",
     "output_type": "stream",
     "text": [
      "Train:  98%|█████████████████████████████████████▎| 1047/1067 [00:16<00:00, 65.30it/s, accuracy=0.234, train_loss=3.41]\n",
      "Evaluation:  60%|██████████████████████████████████████████▎                           | 55/91 [00:28<00:18,  1.90it/s]\n"
     ]
    },
    {
     "name": "stdout",
     "output_type": "stream",
     "text": [
      "\t - Recall@20 epoch 16: 0.127273\n",
      "\t - MRR@20    epoch 16: 0.026580\n",
      "\n"
     ]
    },
    {
     "name": "stderr",
     "output_type": "stream",
     "text": [
      "Train:  98%|█████████████████████████████████████▎| 1047/1067 [00:16<00:00, 64.82it/s, accuracy=0.266, train_loss=3.35]\n",
      "Evaluation:  60%|██████████████████████████████████████████▎                           | 55/91 [00:28<00:18,  1.90it/s]\n"
     ]
    },
    {
     "name": "stdout",
     "output_type": "stream",
     "text": [
      "\t - Recall@20 epoch 17: 0.116761\n",
      "\t - MRR@20    epoch 17: 0.024410\n",
      "\n"
     ]
    },
    {
     "name": "stderr",
     "output_type": "stream",
     "text": [
      "Train:  98%|█████████████████████████████████████▎| 1047/1067 [00:15<00:00, 66.02it/s, accuracy=0.281, train_loss=3.26]\n",
      "Evaluation:  60%|██████████████████████████████████████████▎                           | 55/91 [00:28<00:18,  1.91it/s]\n"
     ]
    },
    {
     "name": "stdout",
     "output_type": "stream",
     "text": [
      "\t - Recall@20 epoch 18: 0.124148\n",
      "\t - MRR@20    epoch 18: 0.026760\n",
      "\n"
     ]
    },
    {
     "name": "stderr",
     "output_type": "stream",
     "text": [
      "Train:  98%|██████████████████████████████████████▎| 1047/1067 [00:15<00:00, 65.68it/s, accuracy=0.25, train_loss=3.18]\n",
      "Evaluation:  60%|██████████████████████████████████████████▎                           | 55/91 [00:28<00:18,  1.90it/s]\n"
     ]
    },
    {
     "name": "stdout",
     "output_type": "stream",
     "text": [
      "\t - Recall@20 epoch 19: 0.118750\n",
      "\t - MRR@20    epoch 19: 0.024048\n",
      "\n"
     ]
    },
    {
     "name": "stderr",
     "output_type": "stream",
     "text": [
      "Train:  98%|██████████████████████████████████████▎| 1047/1067 [00:16<00:00, 64.83it/s, accuracy=0.25, train_loss=3.31]\n",
      "Evaluation:  60%|██████████████████████████████████████████▎                           | 55/91 [00:28<00:18,  1.91it/s]\n"
     ]
    },
    {
     "name": "stdout",
     "output_type": "stream",
     "text": [
      "\t - Recall@20 epoch 20: 0.121307\n",
      "\t - MRR@20    epoch 20: 0.024638\n",
      "\n"
     ]
    },
    {
     "name": "stderr",
     "output_type": "stream",
     "text": [
      "Train:  98%|██████████████████████████████████████▎| 1047/1067 [00:15<00:00, 66.03it/s, accuracy=0.25, train_loss=3.27]\n",
      "Evaluation:  60%|██████████████████████████████████████████▎                           | 55/91 [00:28<00:18,  1.91it/s]\n"
     ]
    },
    {
     "name": "stdout",
     "output_type": "stream",
     "text": [
      "\t - Recall@20 epoch 21: 0.121875\n",
      "\t - MRR@20    epoch 21: 0.025280\n",
      "\n"
     ]
    },
    {
     "name": "stderr",
     "output_type": "stream",
     "text": [
      "Train:  98%|██████████████████████████████████████▎| 1047/1067 [00:16<00:00, 63.10it/s, accuracy=0.25, train_loss=3.07]\n",
      "Evaluation:  60%|██████████████████████████████████████████▎                           | 55/91 [00:29<00:19,  1.89it/s]\n"
     ]
    },
    {
     "name": "stdout",
     "output_type": "stream",
     "text": [
      "\t - Recall@20 epoch 22: 0.112784\n",
      "\t - MRR@20    epoch 22: 0.025444\n",
      "\n"
     ]
    },
    {
     "name": "stderr",
     "output_type": "stream",
     "text": [
      "Train:  98%|█████████████████████████████████████▎| 1047/1067 [00:16<00:00, 64.42it/s, accuracy=0.219, train_loss=3.07]\n",
      "Evaluation:  60%|██████████████████████████████████████████▎                           | 55/91 [00:29<00:19,  1.87it/s]\n"
     ]
    },
    {
     "name": "stdout",
     "output_type": "stream",
     "text": [
      "\t - Recall@20 epoch 23: 0.114773\n",
      "\t - MRR@20    epoch 23: 0.025010\n",
      "\n"
     ]
    },
    {
     "name": "stderr",
     "output_type": "stream",
     "text": [
      "Train:  98%|█████████████████████████████████████▎| 1047/1067 [00:16<00:00, 65.24it/s, accuracy=0.234, train_loss=3.18]\n",
      "Evaluation:  60%|██████████████████████████████████████████▎                           | 55/91 [00:28<00:18,  1.90it/s]\n"
     ]
    },
    {
     "name": "stdout",
     "output_type": "stream",
     "text": [
      "\t - Recall@20 epoch 24: 0.120170\n",
      "\t - MRR@20    epoch 24: 0.028785\n",
      "\n"
     ]
    },
    {
     "name": "stderr",
     "output_type": "stream",
     "text": [
      "Train:  98%|█████████████████████████████████████▎| 1047/1067 [00:15<00:00, 67.62it/s, accuracy=0.328, train_loss=2.75]\n",
      "Evaluation:  60%|██████████████████████████████████████████▎                           | 55/91 [00:29<00:19,  1.83it/s]\n"
     ]
    },
    {
     "name": "stdout",
     "output_type": "stream",
     "text": [
      "\t - Recall@20 epoch 25: 0.114489\n",
      "\t - MRR@20    epoch 25: 0.023929\n",
      "\n"
     ]
    },
    {
     "name": "stderr",
     "output_type": "stream",
     "text": [
      "Train:  98%|██████████████████████████████████████▎| 1047/1067 [00:15<00:00, 68.07it/s, accuracy=0.281, train_loss=3.1]\n",
      "Evaluation:  60%|██████████████████████████████████████████▎                           | 55/91 [00:30<00:19,  1.82it/s]\n"
     ]
    },
    {
     "name": "stdout",
     "output_type": "stream",
     "text": [
      "\t - Recall@20 epoch 26: 0.117330\n",
      "\t - MRR@20    epoch 26: 0.024564\n",
      "\n"
     ]
    },
    {
     "name": "stderr",
     "output_type": "stream",
     "text": [
      "Train:  98%|█████████████████████████████████████▎| 1047/1067 [00:15<00:00, 67.27it/s, accuracy=0.297, train_loss=2.72]\n",
      "Evaluation:  60%|██████████████████████████████████████████▎                           | 55/91 [00:29<00:19,  1.87it/s]\n"
     ]
    },
    {
     "name": "stdout",
     "output_type": "stream",
     "text": [
      "\t - Recall@20 epoch 27: 0.114205\n",
      "\t - MRR@20    epoch 27: 0.023295\n",
      "\n"
     ]
    },
    {
     "name": "stderr",
     "output_type": "stream",
     "text": [
      "Train:  98%|█████████████████████████████████████▎| 1047/1067 [00:15<00:00, 68.30it/s, accuracy=0.344, train_loss=2.84]\n",
      "Evaluation:  60%|██████████████████████████████████████████▎                           | 55/91 [00:29<00:19,  1.89it/s]\n"
     ]
    },
    {
     "name": "stdout",
     "output_type": "stream",
     "text": [
      "\t - Recall@20 epoch 28: 0.117045\n",
      "\t - MRR@20    epoch 28: 0.021786\n",
      "\n"
     ]
    },
    {
     "name": "stderr",
     "output_type": "stream",
     "text": [
      "Train:  98%|█████████████████████████████████████▎| 1047/1067 [00:15<00:00, 67.58it/s, accuracy=0.359, train_loss=2.63]\n",
      "Evaluation:  60%|██████████████████████████████████████████▎                           | 55/91 [00:29<00:19,  1.87it/s]\n"
     ]
    },
    {
     "name": "stdout",
     "output_type": "stream",
     "text": [
      "\t - Recall@20 epoch 29: 0.116761\n",
      "\t - MRR@20    epoch 29: 0.024753\n",
      "\n"
     ]
    },
    {
     "name": "stderr",
     "output_type": "stream",
     "text": [
      "Train:  98%|██████████████████████████████████████▎| 1047/1067 [00:15<00:00, 66.20it/s, accuracy=0.25, train_loss=2.58]\n",
      "Evaluation:  60%|██████████████████████████████████████████▎                           | 55/91 [00:29<00:19,  1.85it/s]"
     ]
    },
    {
     "name": "stdout",
     "output_type": "stream",
     "text": [
      "\t - Recall@20 epoch 30: 0.117045\n",
      "\t - MRR@20    epoch 30: 0.026331\n",
      "\n"
     ]
    },
    {
     "name": "stderr",
     "output_type": "stream",
     "text": [
      "\n"
     ]
    }
   ],
   "source": [
    "# # 학습 시간이 다소 오래 소요됩니다. 아래 주석을 풀지 마세요.\n",
    "train_model(model, args)"
   ]
  },
  {
   "cell_type": "markdown",
   "id": "6c805d6e",
   "metadata": {},
   "source": [
    "### Step 5. 모델 테스트"
   ]
  },
  {
   "cell_type": "markdown",
   "id": "3983065e",
   "metadata": {},
   "source": [
    "미리 구성한 테스트셋을 바탕으로 Recall, MRR 을 확인해 봅니다."
   ]
  },
  {
   "cell_type": "code",
   "execution_count": 49,
   "id": "c2c08909",
   "metadata": {},
   "outputs": [],
   "source": [
    "def test_model(model, args, test):\n",
    "    test_recall, test_mrr = get_metrics(test, model, args, 20)\n",
    "    print(f\"\\t - Recall@{args.k}: {test_recall:3f}\")\n",
    "    print(f\"\\t - MRR@{args.k}: {test_mrr:3f}\\n\")"
   ]
  },
  {
   "cell_type": "code",
   "execution_count": 50,
   "id": "163975e2",
   "metadata": {},
   "outputs": [
    {
     "name": "stderr",
     "output_type": "stream",
     "text": [
      "Evaluation:  74%|██████████████████████████████████████████████████▎                 | 128/173 [01:09<00:24,  1.84it/s]"
     ]
    },
    {
     "name": "stdout",
     "output_type": "stream",
     "text": [
      "\t - Recall@20: 0.106079\n",
      "\t - MRR@20: 0.023487\n",
      "\n"
     ]
    },
    {
     "name": "stderr",
     "output_type": "stream",
     "text": [
      "\n"
     ]
    }
   ],
   "source": [
    "test_model(model, args, test)"
   ]
  },
  {
   "cell_type": "markdown",
   "id": "dfbc6f22",
   "metadata": {},
   "source": [
    "#### 학습시 정확도는 올라가나 Recall@k MRR@k 는 조금 올랐다가 더 떨어짐"
   ]
  },
  {
   "cell_type": "markdown",
   "id": "eb2179b2",
   "metadata": {},
   "source": [
    "### 여기서 부터는 데이터를 다른 방법으로 나눠봄"
   ]
  },
  {
   "cell_type": "markdown",
   "id": "d37813a0",
   "metadata": {},
   "source": [
    "##  5.1 시간을 기준으로 데이터 셋을 나눠봄.\n",
    "\n",
    "#### 단점: 한유저의 데이터가 시간에 따라 분리 될 수도 있음"
   ]
  },
  {
   "cell_type": "code",
   "execution_count": 51,
   "id": "b4897b4d",
   "metadata": {},
   "outputs": [],
   "source": [
    "def split_by_date1(data: pd.DataFrame, n_days: int):\n",
    "    final_time = data['Time'].max()\n",
    "    session_last_time = data.groupby('Time')['Time'].max()\n",
    "    session_in_train = session_last_time[session_last_time < final_time - dt.timedelta(n_days)].index\n",
    "    session_in_test = session_last_time[session_last_time >= final_time - dt.timedelta(n_days)].index\n",
    "\n",
    "    before_date = data[data['Time'].isin(session_in_train)]\n",
    "    after_date  = data[data['Time'].isin(session_in_test)]\n",
    "    after_date  = after_date[after_date['ItemId'].isin(before_date['ItemId'])]  # 테스트데이터 아이템이 트레이닝데이터에도 있을 것.\n",
    "    return before_date, after_date"
   ]
  },
  {
   "cell_type": "code",
   "execution_count": 52,
   "id": "194962c1",
   "metadata": {},
   "outputs": [],
   "source": [
    "tr, test = split_by_date1(data, n_days=90)\n",
    "tr, val  = split_by_date1(tr,   n_days=90)"
   ]
  },
  {
   "cell_type": "code",
   "execution_count": 53,
   "id": "25e8d949",
   "metadata": {},
   "outputs": [
    {
     "name": "stdout",
     "output_type": "stream",
     "text": [
      "* train Set Stats Info\n",
      "\t Events: 85531\n",
      "\t Sessions: 1928\n",
      "\t Items: 492\n",
      "\t First Time : 2000-04-25 23:05:32\n",
      "\t Last Time : 2002-09-01 04:20:59\n",
      "\n",
      "* valid Set Stats Info\n",
      "\t Events: 804\n",
      "\t Sessions: 163\n",
      "\t Items: 372\n",
      "\t First Time : 2002-09-01 19:44:55\n",
      "\t Last Time : 2002-11-30 13:47:32\n",
      "\n",
      "* test Set Stats Info\n",
      "\t Events: 924\n",
      "\t Sessions: 152\n",
      "\t Items: 403\n",
      "\t First Time : 2002-11-30 21:53:04\n",
      "\t Last Time : 2003-02-28 17:47:23\n",
      "\n"
     ]
    }
   ],
   "source": [
    "stats_info(tr,  'train')\n",
    "stats_info(val, 'valid')\n",
    "stats_info(test,'test')"
   ]
  },
  {
   "cell_type": "code",
   "execution_count": 54,
   "id": "fb659207",
   "metadata": {},
   "outputs": [],
   "source": [
    "id2idx = {item_id : index for index, item_id in enumerate(tr['ItemId'].unique())}\n",
    "tr   = indexing(tr, id2idx)\n",
    "val  = indexing(val, id2idx)\n",
    "test = indexing(test, id2idx)"
   ]
  },
  {
   "cell_type": "code",
   "execution_count": 55,
   "id": "966de069",
   "metadata": {},
   "outputs": [],
   "source": [
    "args1_400 = Args(tr, val, test, batch_size=64, hsz=400, drop_rate=0.1, lr=0.001, epochs=30, k=20)"
   ]
  },
  {
   "cell_type": "code",
   "execution_count": 56,
   "id": "06c1c8d4",
   "metadata": {},
   "outputs": [
    {
     "name": "stdout",
     "output_type": "stream",
     "text": [
      "Model: \"model_1\"\n",
      "_________________________________________________________________\n",
      " Layer (type)                Output Shape              Param #   \n",
      "=================================================================\n",
      " input_2 (InputLayer)        [(64, 1, 492)]            0         \n",
      "                                                                 \n",
      " GRU (GRU)                   [(64, 400),               1072800   \n",
      "                              (64, 400)]                         \n",
      "                                                                 \n",
      " dropout_1 (Dropout)         (64, 400)                 0         \n",
      "                                                                 \n",
      " dense_1 (Dense)             (64, 492)                 197292    \n",
      "                                                                 \n",
      "=================================================================\n",
      "Total params: 1,270,092\n",
      "Trainable params: 1,270,092\n",
      "Non-trainable params: 0\n",
      "_________________________________________________________________\n"
     ]
    }
   ],
   "source": [
    "model1_400 = create_model(args1_400)"
   ]
  },
  {
   "cell_type": "code",
   "execution_count": 57,
   "id": "482080a6",
   "metadata": {},
   "outputs": [
    {
     "name": "stderr",
     "output_type": "stream",
     "text": [
      "Train:  98%|████████████████████████████████████▎| 1282/1306 [00:19<00:00, 64.38it/s, accuracy=0.0156, train_loss=5.92]\n",
      "Evaluation:  30%|█████████████████████▎                                                 | 3/10 [00:01<00:04,  1.67it/s]\n"
     ]
    },
    {
     "name": "stdout",
     "output_type": "stream",
     "text": [
      "\t - Recall@20 epoch 1: 0.140625\n",
      "\t - MRR@20    epoch 1: 0.035013\n",
      "\n"
     ]
    },
    {
     "name": "stderr",
     "output_type": "stream",
     "text": [
      "Train:  98%|█████████████████████████████████████████▏| 1282/1306 [00:18<00:00, 67.92it/s, accuracy=0, train_loss=5.68]\n",
      "Evaluation:  30%|█████████████████████▎                                                 | 3/10 [00:01<00:03,  1.96it/s]\n"
     ]
    },
    {
     "name": "stdout",
     "output_type": "stream",
     "text": [
      "\t - Recall@20 epoch 2: 0.156250\n",
      "\t - MRR@20    epoch 2: 0.061341\n",
      "\n"
     ]
    },
    {
     "name": "stderr",
     "output_type": "stream",
     "text": [
      "Train:  98%|████████████████████████████████████▎| 1282/1306 [00:18<00:00, 67.51it/s, accuracy=0.0156, train_loss=5.46]\n",
      "Evaluation:  30%|█████████████████████▎                                                 | 3/10 [00:01<00:03,  1.92it/s]\n"
     ]
    },
    {
     "name": "stdout",
     "output_type": "stream",
     "text": [
      "\t - Recall@20 epoch 3: 0.161458\n",
      "\t - MRR@20    epoch 3: 0.054698\n",
      "\n"
     ]
    },
    {
     "name": "stderr",
     "output_type": "stream",
     "text": [
      "Train:  98%|████████████████████████████████████▎| 1282/1306 [00:18<00:00, 69.34it/s, accuracy=0.0156, train_loss=5.26]\n",
      "Evaluation:  30%|█████████████████████▎                                                 | 3/10 [00:01<00:03,  1.92it/s]\n"
     ]
    },
    {
     "name": "stdout",
     "output_type": "stream",
     "text": [
      "\t - Recall@20 epoch 4: 0.151042\n",
      "\t - MRR@20    epoch 4: 0.042348\n",
      "\n"
     ]
    },
    {
     "name": "stderr",
     "output_type": "stream",
     "text": [
      "Train:  98%|████████████████████████████████████▎| 1282/1306 [00:18<00:00, 68.76it/s, accuracy=0.0156, train_loss=5.08]\n",
      "Evaluation:  30%|█████████████████████▎                                                 | 3/10 [00:01<00:03,  1.93it/s]\n"
     ]
    },
    {
     "name": "stdout",
     "output_type": "stream",
     "text": [
      "\t - Recall@20 epoch 5: 0.140625\n",
      "\t - MRR@20    epoch 5: 0.039965\n",
      "\n"
     ]
    },
    {
     "name": "stderr",
     "output_type": "stream",
     "text": [
      "Train:  98%|████████████████████████████████████▎| 1282/1306 [00:18<00:00, 69.00it/s, accuracy=0.0312, train_loss=4.87]\n",
      "Evaluation:  30%|█████████████████████▎                                                 | 3/10 [00:01<00:03,  1.94it/s]\n"
     ]
    },
    {
     "name": "stdout",
     "output_type": "stream",
     "text": [
      "\t - Recall@20 epoch 6: 0.140625\n",
      "\t - MRR@20    epoch 6: 0.039578\n",
      "\n"
     ]
    },
    {
     "name": "stderr",
     "output_type": "stream",
     "text": [
      "Train:  98%|████████████████████████████████████▎| 1282/1306 [00:18<00:00, 69.12it/s, accuracy=0.0469, train_loss=4.78]\n",
      "Evaluation:  30%|█████████████████████▎                                                 | 3/10 [00:01<00:03,  1.95it/s]\n"
     ]
    },
    {
     "name": "stdout",
     "output_type": "stream",
     "text": [
      "\t - Recall@20 epoch 7: 0.135417\n",
      "\t - MRR@20    epoch 7: 0.036349\n",
      "\n"
     ]
    },
    {
     "name": "stderr",
     "output_type": "stream",
     "text": [
      "Train:  98%|█████████████████████████████████████▎| 1282/1306 [00:18<00:00, 68.60it/s, accuracy=0.109, train_loss=4.42]\n",
      "Evaluation:  30%|█████████████████████▎                                                 | 3/10 [00:01<00:03,  1.76it/s]\n"
     ]
    },
    {
     "name": "stdout",
     "output_type": "stream",
     "text": [
      "\t - Recall@20 epoch 8: 0.130208\n",
      "\t - MRR@20    epoch 8: 0.030612\n",
      "\n"
     ]
    },
    {
     "name": "stderr",
     "output_type": "stream",
     "text": [
      "Train:  98%|█████████████████████████████████████▎| 1282/1306 [00:18<00:00, 68.56it/s, accuracy=0.156, train_loss=4.26]\n",
      "Evaluation:  30%|█████████████████████▎                                                 | 3/10 [00:01<00:03,  1.91it/s]\n"
     ]
    },
    {
     "name": "stdout",
     "output_type": "stream",
     "text": [
      "\t - Recall@20 epoch 9: 0.119792\n",
      "\t - MRR@20    epoch 9: 0.027894\n",
      "\n"
     ]
    },
    {
     "name": "stderr",
     "output_type": "stream",
     "text": [
      "Train:  98%|█████████████████████████████████████▎| 1282/1306 [00:18<00:00, 68.41it/s, accuracy=0.141, train_loss=4.08]\n",
      "Evaluation:  30%|█████████████████████▎                                                 | 3/10 [00:01<00:03,  1.90it/s]\n"
     ]
    },
    {
     "name": "stdout",
     "output_type": "stream",
     "text": [
      "\t - Recall@20 epoch 10: 0.098958\n",
      "\t - MRR@20    epoch 10: 0.024230\n",
      "\n"
     ]
    },
    {
     "name": "stderr",
     "output_type": "stream",
     "text": [
      "Train:  98%|█████████████████████████████████████▎| 1282/1306 [00:18<00:00, 68.70it/s, accuracy=0.172, train_loss=3.98]\n",
      "Evaluation:  30%|█████████████████████▎                                                 | 3/10 [00:01<00:03,  1.89it/s]\n"
     ]
    },
    {
     "name": "stdout",
     "output_type": "stream",
     "text": [
      "\t - Recall@20 epoch 11: 0.119792\n",
      "\t - MRR@20    epoch 11: 0.020398\n",
      "\n"
     ]
    },
    {
     "name": "stderr",
     "output_type": "stream",
     "text": [
      "Train:  98%|█████████████████████████████████████▎| 1282/1306 [00:18<00:00, 68.67it/s, accuracy=0.188, train_loss=3.74]\n",
      "Evaluation:  30%|█████████████████████▎                                                 | 3/10 [00:01<00:03,  1.88it/s]\n"
     ]
    },
    {
     "name": "stdout",
     "output_type": "stream",
     "text": [
      "\t - Recall@20 epoch 12: 0.093750\n",
      "\t - MRR@20    epoch 12: 0.017842\n",
      "\n"
     ]
    },
    {
     "name": "stderr",
     "output_type": "stream",
     "text": [
      "Train:  98%|██████████████████████████████████████▎| 1282/1306 [00:18<00:00, 67.94it/s, accuracy=0.203, train_loss=3.6]\n",
      "Evaluation:  30%|█████████████████████▎                                                 | 3/10 [00:01<00:03,  1.88it/s]\n"
     ]
    },
    {
     "name": "stdout",
     "output_type": "stream",
     "text": [
      "\t - Recall@20 epoch 13: 0.098958\n",
      "\t - MRR@20    epoch 13: 0.015298\n",
      "\n"
     ]
    },
    {
     "name": "stderr",
     "output_type": "stream",
     "text": [
      "Train:  98%|██████████████████████████████████████▎| 1282/1306 [00:18<00:00, 68.44it/s, accuracy=0.219, train_loss=3.4]\n",
      "Evaluation:  30%|█████████████████████▎                                                 | 3/10 [00:01<00:03,  1.90it/s]\n"
     ]
    },
    {
     "name": "stdout",
     "output_type": "stream",
     "text": [
      "\t - Recall@20 epoch 14: 0.104167\n",
      "\t - MRR@20    epoch 14: 0.018720\n",
      "\n"
     ]
    },
    {
     "name": "stderr",
     "output_type": "stream",
     "text": [
      "Train:  98%|██████████████████████████████████████▎| 1282/1306 [00:18<00:00, 67.96it/s, accuracy=0.25, train_loss=3.67]\n",
      "Evaluation:  30%|█████████████████████▎                                                 | 3/10 [00:01<00:03,  1.89it/s]\n"
     ]
    },
    {
     "name": "stdout",
     "output_type": "stream",
     "text": [
      "\t - Recall@20 epoch 15: 0.098958\n",
      "\t - MRR@20    epoch 15: 0.024294\n",
      "\n"
     ]
    },
    {
     "name": "stderr",
     "output_type": "stream",
     "text": [
      "Train:  98%|██████████████████████████████████████▎| 1282/1306 [00:18<00:00, 67.57it/s, accuracy=0.172, train_loss=3.7]\n",
      "Evaluation:  30%|█████████████████████▎                                                 | 3/10 [00:01<00:03,  1.91it/s]\n"
     ]
    },
    {
     "name": "stdout",
     "output_type": "stream",
     "text": [
      "\t - Recall@20 epoch 16: 0.114583\n",
      "\t - MRR@20    epoch 16: 0.021348\n",
      "\n"
     ]
    },
    {
     "name": "stderr",
     "output_type": "stream",
     "text": [
      "Train:  98%|█████████████████████████████████████▎| 1282/1306 [00:18<00:00, 68.26it/s, accuracy=0.156, train_loss=3.87]\n",
      "Evaluation:  30%|█████████████████████▎                                                 | 3/10 [00:01<00:03,  1.87it/s]\n"
     ]
    },
    {
     "name": "stdout",
     "output_type": "stream",
     "text": [
      "\t - Recall@20 epoch 17: 0.104167\n",
      "\t - MRR@20    epoch 17: 0.011033\n",
      "\n"
     ]
    },
    {
     "name": "stderr",
     "output_type": "stream",
     "text": [
      "Train:  98%|█████████████████████████████████████▎| 1282/1306 [00:18<00:00, 68.88it/s, accuracy=0.203, train_loss=3.63]\n",
      "Evaluation:  30%|█████████████████████▎                                                 | 3/10 [00:01<00:03,  1.85it/s]\n"
     ]
    },
    {
     "name": "stdout",
     "output_type": "stream",
     "text": [
      "\t - Recall@20 epoch 18: 0.093750\n",
      "\t - MRR@20    epoch 18: 0.016116\n",
      "\n"
     ]
    },
    {
     "name": "stderr",
     "output_type": "stream",
     "text": [
      "Train:  98%|█████████████████████████████████████▎| 1282/1306 [00:18<00:00, 67.50it/s, accuracy=0.312, train_loss=3.24]\n",
      "Evaluation:  30%|█████████████████████▎                                                 | 3/10 [00:01<00:04,  1.57it/s]\n"
     ]
    },
    {
     "name": "stdout",
     "output_type": "stream",
     "text": [
      "\t - Recall@20 epoch 19: 0.104167\n",
      "\t - MRR@20    epoch 19: 0.017385\n",
      "\n"
     ]
    },
    {
     "name": "stderr",
     "output_type": "stream",
     "text": [
      "Train:  98%|█████████████████████████████████████▎| 1282/1306 [00:19<00:00, 64.86it/s, accuracy=0.266, train_loss=3.54]\n",
      "Evaluation:  30%|█████████████████████▎                                                 | 3/10 [00:01<00:03,  1.76it/s]\n"
     ]
    },
    {
     "name": "stdout",
     "output_type": "stream",
     "text": [
      "\t - Recall@20 epoch 20: 0.093750\n",
      "\t - MRR@20    epoch 20: 0.017657\n",
      "\n"
     ]
    },
    {
     "name": "stderr",
     "output_type": "stream",
     "text": [
      "Train:  98%|██████████████████████████████████████▎| 1282/1306 [00:18<00:00, 69.06it/s, accuracy=0.25, train_loss=3.18]\n",
      "Evaluation:  30%|█████████████████████▎                                                 | 3/10 [00:01<00:03,  1.86it/s]\n"
     ]
    },
    {
     "name": "stdout",
     "output_type": "stream",
     "text": [
      "\t - Recall@20 epoch 21: 0.078125\n",
      "\t - MRR@20    epoch 21: 0.015029\n",
      "\n"
     ]
    },
    {
     "name": "stderr",
     "output_type": "stream",
     "text": [
      "Train:  98%|█████████████████████████████████████▎| 1282/1306 [00:18<00:00, 68.52it/s, accuracy=0.203, train_loss=3.52]\n",
      "Evaluation:  30%|█████████████████████▎                                                 | 3/10 [00:01<00:03,  1.85it/s]\n"
     ]
    },
    {
     "name": "stdout",
     "output_type": "stream",
     "text": [
      "\t - Recall@20 epoch 22: 0.093750\n",
      "\t - MRR@20    epoch 22: 0.010292\n",
      "\n"
     ]
    },
    {
     "name": "stderr",
     "output_type": "stream",
     "text": [
      "Train:  98%|█████████████████████████████████████▎| 1282/1306 [00:19<00:00, 67.44it/s, accuracy=0.188, train_loss=3.29]\n",
      "Evaluation:  30%|█████████████████████▎                                                 | 3/10 [00:01<00:03,  1.84it/s]\n"
     ]
    },
    {
     "name": "stdout",
     "output_type": "stream",
     "text": [
      "\t - Recall@20 epoch 23: 0.057292\n",
      "\t - MRR@20    epoch 23: 0.007518\n",
      "\n"
     ]
    },
    {
     "name": "stderr",
     "output_type": "stream",
     "text": [
      "Train:  98%|██████████████████████████████████████▎| 1282/1306 [00:18<00:00, 68.94it/s, accuracy=0.25, train_loss=3.41]\n",
      "Evaluation:  30%|█████████████████████▎                                                 | 3/10 [00:01<00:03,  1.85it/s]\n"
     ]
    },
    {
     "name": "stdout",
     "output_type": "stream",
     "text": [
      "\t - Recall@20 epoch 24: 0.083333\n",
      "\t - MRR@20    epoch 24: 0.011326\n",
      "\n"
     ]
    },
    {
     "name": "stderr",
     "output_type": "stream",
     "text": [
      "Train:  98%|█████████████████████████████████████▎| 1282/1306 [00:19<00:00, 66.22it/s, accuracy=0.281, train_loss=3.39]\n",
      "Evaluation:  30%|█████████████████████▎                                                 | 3/10 [00:01<00:03,  1.82it/s]\n"
     ]
    },
    {
     "name": "stdout",
     "output_type": "stream",
     "text": [
      "\t - Recall@20 epoch 25: 0.062500\n",
      "\t - MRR@20    epoch 25: 0.014004\n",
      "\n"
     ]
    },
    {
     "name": "stderr",
     "output_type": "stream",
     "text": [
      "Train:  98%|█████████████████████████████████████▎| 1282/1306 [00:19<00:00, 64.61it/s, accuracy=0.156, train_loss=3.15]\n",
      "Evaluation:  30%|█████████████████████▎                                                 | 3/10 [00:01<00:03,  1.87it/s]\n"
     ]
    },
    {
     "name": "stdout",
     "output_type": "stream",
     "text": [
      "\t - Recall@20 epoch 26: 0.104167\n",
      "\t - MRR@20    epoch 26: 0.023255\n",
      "\n"
     ]
    },
    {
     "name": "stderr",
     "output_type": "stream",
     "text": [
      "Train:  98%|█████████████████████████████████████▎| 1282/1306 [00:19<00:00, 64.81it/s, accuracy=0.297, train_loss=3.16]\n",
      "Evaluation:  30%|█████████████████████▎                                                 | 3/10 [00:01<00:03,  1.87it/s]\n"
     ]
    },
    {
     "name": "stdout",
     "output_type": "stream",
     "text": [
      "\t - Recall@20 epoch 27: 0.088542\n",
      "\t - MRR@20    epoch 27: 0.027388\n",
      "\n"
     ]
    },
    {
     "name": "stderr",
     "output_type": "stream",
     "text": [
      "Train:  98%|█████████████████████████████████████▎| 1282/1306 [00:19<00:00, 65.28it/s, accuracy=0.297, train_loss=2.93]\n",
      "Evaluation:  30%|█████████████████████▎                                                 | 3/10 [00:01<00:03,  1.89it/s]\n"
     ]
    },
    {
     "name": "stdout",
     "output_type": "stream",
     "text": [
      "\t - Recall@20 epoch 28: 0.104167\n",
      "\t - MRR@20    epoch 28: 0.022312\n",
      "\n"
     ]
    },
    {
     "name": "stderr",
     "output_type": "stream",
     "text": [
      "Train:  98%|█████████████████████████████████████▎| 1282/1306 [00:19<00:00, 64.94it/s, accuracy=0.312, train_loss=2.92]\n",
      "Evaluation:  30%|█████████████████████▎                                                 | 3/10 [00:01<00:03,  1.85it/s]\n"
     ]
    },
    {
     "name": "stdout",
     "output_type": "stream",
     "text": [
      "\t - Recall@20 epoch 29: 0.104167\n",
      "\t - MRR@20    epoch 29: 0.024804\n",
      "\n"
     ]
    },
    {
     "name": "stderr",
     "output_type": "stream",
     "text": [
      "Train:  98%|█████████████████████████████████████▎| 1282/1306 [00:19<00:00, 65.04it/s, accuracy=0.172, train_loss=3.39]\n",
      "Evaluation:  30%|█████████████████████▎                                                 | 3/10 [00:01<00:03,  1.82it/s]"
     ]
    },
    {
     "name": "stdout",
     "output_type": "stream",
     "text": [
      "\t - Recall@20 epoch 30: 0.067708\n",
      "\t - MRR@20    epoch 30: 0.014397\n",
      "\n"
     ]
    },
    {
     "name": "stderr",
     "output_type": "stream",
     "text": [
      "\n"
     ]
    }
   ],
   "source": [
    "train_model(model1_400, args1_400)"
   ]
  },
  {
   "cell_type": "code",
   "execution_count": 58,
   "id": "a372ffbe",
   "metadata": {},
   "outputs": [
    {
     "name": "stderr",
     "output_type": "stream",
     "text": [
      "Evaluation:  33%|███████████████████████▋                                               | 4/12 [00:02<00:04,  1.67it/s]"
     ]
    },
    {
     "name": "stdout",
     "output_type": "stream",
     "text": [
      "\t - Recall@20: 0.101562\n",
      "\t - MRR@20: 0.014591\n",
      "\n"
     ]
    },
    {
     "name": "stderr",
     "output_type": "stream",
     "text": [
      "\n"
     ]
    }
   ],
   "source": [
    "test_model(model1_400, args1_400, test)"
   ]
  },
  {
   "cell_type": "markdown",
   "id": "6af68e1a",
   "metadata": {},
   "source": [
    "## 5.2 유저를 기준으로 데이터 셋을 나눠봄  \n",
    "#### 단점: 유행을 반영하지 못함"
   ]
  },
  {
   "cell_type": "code",
   "execution_count": 59,
   "id": "e8887275",
   "metadata": {},
   "outputs": [],
   "source": [
    "def split_by_user(data: pd.DataFrame, val_ratio: float, test_ratio: float):\n",
    "    n_user = data['SessionId'].nunique()\n",
    "    \n",
    "    n_train = int(n_user *(1.0 - (val_ratio + test_ratio)))\n",
    "    n_val   = int(n_user * val_ratio)\n",
    "    n_test  = n_user - (n_train + n_val)\n",
    "    \n",
    "    train_val_set = data[data['user_id'] <  (n_train+n_val)]\n",
    "    train_set     = train_val_set[train_val_set['user_id'] <  n_train]\n",
    "    val_set       = train_val_set[train_val_set['user_id'] >= n_train]\n",
    "    val_set       = val_set[val_set['ItemId'].isin(train_set['ItemId'])]\n",
    "    test_set      = data[data['user_id'] >= (n_train+n_val)]\n",
    "    test_set      = test_set[test_set['ItemId'].isin(train_set['ItemId'])]\n",
    "    \n",
    "    return train_set, val_set, test_set"
   ]
  },
  {
   "cell_type": "code",
   "execution_count": 60,
   "id": "55b0acd9",
   "metadata": {},
   "outputs": [],
   "source": [
    "tr, val, test = split_by_user(data, val_ratio=0.1, test_ratio=0.1)"
   ]
  },
  {
   "cell_type": "code",
   "execution_count": 61,
   "id": "c2d9fb8a",
   "metadata": {},
   "outputs": [
    {
     "name": "stdout",
     "output_type": "stream",
     "text": [
      "* train Set Stats Info\n",
      "\t Events: 70120\n",
      "\t Sessions: 1544\n",
      "\t Items: 492\n",
      "\t First Time : 2000-07-03 15:25:38\n",
      "\t Last Time : 2003-02-27 23:31:15\n",
      "\n",
      "* valid Set Stats Info\n",
      "\t Events: 8538\n",
      "\t Sessions: 193\n",
      "\t Items: 492\n",
      "\t First Time : 2000-06-01 11:36:01\n",
      "\t Last Time : 2003-02-28 17:47:23\n",
      "\n",
      "* test Set Stats Info\n",
      "\t Events: 8601\n",
      "\t Sessions: 194\n",
      "\t Items: 492\n",
      "\t First Time : 2000-04-25 23:05:32\n",
      "\t Last Time : 2003-02-28 13:12:12\n",
      "\n"
     ]
    }
   ],
   "source": [
    "stats_info(tr, 'train')\n",
    "stats_info(val, 'valid')\n",
    "stats_info(test, 'test')"
   ]
  },
  {
   "cell_type": "code",
   "execution_count": 62,
   "id": "e6443c5e",
   "metadata": {},
   "outputs": [],
   "source": [
    "# id2idx = {item_id : index for index, item_id in enumerate(tr['ItemId'].unique())}\n",
    "tr   = indexing(tr, id2idx)\n",
    "val  = indexing(val, id2idx)\n",
    "test = indexing(test, id2idx)"
   ]
  },
  {
   "cell_type": "code",
   "execution_count": 63,
   "id": "d33d973d",
   "metadata": {},
   "outputs": [],
   "source": [
    "args2_400 = Args(tr, val, test, batch_size=64, hsz=400, drop_rate=0.1, lr=0.001, epochs=30, k=20)"
   ]
  },
  {
   "cell_type": "code",
   "execution_count": 64,
   "id": "6d7c4e2c",
   "metadata": {},
   "outputs": [
    {
     "name": "stdout",
     "output_type": "stream",
     "text": [
      "Model: \"model_2\"\n",
      "_________________________________________________________________\n",
      " Layer (type)                Output Shape              Param #   \n",
      "=================================================================\n",
      " input_3 (InputLayer)        [(64, 1, 492)]            0         \n",
      "                                                                 \n",
      " GRU (GRU)                   [(64, 400),               1072800   \n",
      "                              (64, 400)]                         \n",
      "                                                                 \n",
      " dropout_2 (Dropout)         (64, 400)                 0         \n",
      "                                                                 \n",
      " dense_2 (Dense)             (64, 492)                 197292    \n",
      "                                                                 \n",
      "=================================================================\n",
      "Total params: 1,270,092\n",
      "Trainable params: 1,270,092\n",
      "Non-trainable params: 0\n",
      "_________________________________________________________________\n"
     ]
    }
   ],
   "source": [
    "model2_400 = create_model(args2_400)"
   ]
  },
  {
   "cell_type": "code",
   "execution_count": 65,
   "id": "4299e61b",
   "metadata": {
    "scrolled": true
   },
   "outputs": [
    {
     "name": "stderr",
     "output_type": "stream",
     "text": [
      "Train:  98%|████████████████████████████████████▏| 1046/1071 [00:16<00:00, 61.73it/s, accuracy=0.0312, train_loss=5.95]\n",
      "Evaluation:  76%|████████████████████████████████████████████████████▌                | 99/130 [00:52<00:16,  1.89it/s]\n"
     ]
    },
    {
     "name": "stdout",
     "output_type": "stream",
     "text": [
      "\t - Recall@20 epoch 1: 0.140467\n",
      "\t - MRR@20    epoch 1: 0.031503\n",
      "\n"
     ]
    },
    {
     "name": "stderr",
     "output_type": "stream",
     "text": [
      "Train:  98%|████████████████████████████████████▏| 1046/1071 [00:15<00:00, 65.90it/s, accuracy=0.0312, train_loss=5.53]\n",
      "Evaluation:  76%|████████████████████████████████████████████████████▌                | 99/130 [00:50<00:15,  1.96it/s]\n"
     ]
    },
    {
     "name": "stdout",
     "output_type": "stream",
     "text": [
      "\t - Recall@20 epoch 2: 0.193971\n",
      "\t - MRR@20    epoch 2: 0.047624\n",
      "\n"
     ]
    },
    {
     "name": "stderr",
     "output_type": "stream",
     "text": [
      "Train:  98%|████████████████████████████████████▏| 1046/1071 [00:16<00:00, 64.54it/s, accuracy=0.0156, train_loss=5.34]\n",
      "Evaluation:  76%|████████████████████████████████████████████████████▌                | 99/130 [00:50<00:15,  1.96it/s]\n"
     ]
    },
    {
     "name": "stdout",
     "output_type": "stream",
     "text": [
      "\t - Recall@20 epoch 3: 0.197128\n",
      "\t - MRR@20    epoch 3: 0.048638\n",
      "\n"
     ]
    },
    {
     "name": "stderr",
     "output_type": "stream",
     "text": [
      "Train:  98%|████████████████████████████████████▏| 1046/1071 [00:16<00:00, 64.73it/s, accuracy=0.0312, train_loss=5.03]\n",
      "Evaluation:  76%|████████████████████████████████████████████████████▌                | 99/130 [00:50<00:15,  1.97it/s]\n"
     ]
    },
    {
     "name": "stdout",
     "output_type": "stream",
     "text": [
      "\t - Recall@20 epoch 4: 0.192235\n",
      "\t - MRR@20    epoch 4: 0.048532\n",
      "\n"
     ]
    },
    {
     "name": "stderr",
     "output_type": "stream",
     "text": [
      "Train:  98%|████████████████████████████████████▏| 1046/1071 [00:15<00:00, 66.12it/s, accuracy=0.0781, train_loss=4.83]\n",
      "Evaluation:  76%|████████████████████████████████████████████████████▌                | 99/130 [00:50<00:15,  1.95it/s]\n"
     ]
    },
    {
     "name": "stdout",
     "output_type": "stream",
     "text": [
      "\t - Recall@20 epoch 5: 0.181029\n",
      "\t - MRR@20    epoch 5: 0.047657\n",
      "\n"
     ]
    },
    {
     "name": "stderr",
     "output_type": "stream",
     "text": [
      "Train:  98%|████████████████████████████████████▏| 1046/1071 [00:15<00:00, 66.58it/s, accuracy=0.0625, train_loss=4.49]\n",
      "Evaluation:  76%|████████████████████████████████████████████████████▌                | 99/130 [00:50<00:15,  1.94it/s]\n"
     ]
    },
    {
     "name": "stdout",
     "output_type": "stream",
     "text": [
      "\t - Recall@20 epoch 6: 0.172664\n",
      "\t - MRR@20    epoch 6: 0.044293\n",
      "\n"
     ]
    },
    {
     "name": "stderr",
     "output_type": "stream",
     "text": [
      "Train:  98%|█████████████████████████████████████ | 1046/1071 [00:15<00:00, 68.75it/s, accuracy=0.0781, train_loss=4.4]\n",
      "Evaluation:  76%|████████████████████████████████████████████████████▌                | 99/130 [00:51<00:16,  1.91it/s]\n"
     ]
    },
    {
     "name": "stdout",
     "output_type": "stream",
     "text": [
      "\t - Recall@20 epoch 7: 0.166351\n",
      "\t - MRR@20    epoch 7: 0.041184\n",
      "\n"
     ]
    },
    {
     "name": "stderr",
     "output_type": "stream",
     "text": [
      "Train:  98%|█████████████████████████████████████ | 1046/1071 [00:15<00:00, 69.28it/s, accuracy=0.188, train_loss=4.03]\n",
      "Evaluation:  76%|████████████████████████████████████████████████████▌                | 99/130 [00:52<00:16,  1.90it/s]\n"
     ]
    },
    {
     "name": "stdout",
     "output_type": "stream",
     "text": [
      "\t - Recall@20 epoch 8: 0.162247\n",
      "\t - MRR@20    epoch 8: 0.039894\n",
      "\n"
     ]
    },
    {
     "name": "stderr",
     "output_type": "stream",
     "text": [
      "Train:  98%|█████████████████████████████████████ | 1046/1071 [00:15<00:00, 67.32it/s, accuracy=0.109, train_loss=3.91]\n",
      "Evaluation:  76%|████████████████████████████████████████████████████▌                | 99/130 [00:52<00:16,  1.90it/s]\n"
     ]
    },
    {
     "name": "stdout",
     "output_type": "stream",
     "text": [
      "\t - Recall@20 epoch 9: 0.155303\n",
      "\t - MRR@20    epoch 9: 0.037314\n",
      "\n"
     ]
    },
    {
     "name": "stderr",
     "output_type": "stream",
     "text": [
      "Train:  98%|█████████████████████████████████████ | 1046/1071 [00:16<00:00, 64.65it/s, accuracy=0.188, train_loss=3.74]\n",
      "Evaluation:  76%|████████████████████████████████████████████████████▌                | 99/130 [00:53<00:16,  1.86it/s]\n"
     ]
    },
    {
     "name": "stdout",
     "output_type": "stream",
     "text": [
      "\t - Recall@20 epoch 10: 0.147885\n",
      "\t - MRR@20    epoch 10: 0.033890\n",
      "\n"
     ]
    },
    {
     "name": "stderr",
     "output_type": "stream",
     "text": [
      "Train:  98%|█████████████████████████████████████ | 1046/1071 [00:15<00:00, 65.59it/s, accuracy=0.188, train_loss=3.64]\n",
      "Evaluation:  76%|████████████████████████████████████████████████████▌                | 99/130 [00:53<00:16,  1.86it/s]\n"
     ]
    },
    {
     "name": "stdout",
     "output_type": "stream",
     "text": [
      "\t - Recall@20 epoch 11: 0.141730\n",
      "\t - MRR@20    epoch 11: 0.033130\n",
      "\n"
     ]
    },
    {
     "name": "stderr",
     "output_type": "stream",
     "text": [
      "Train:  98%|█████████████████████████████████████ | 1046/1071 [00:14<00:00, 70.13it/s, accuracy=0.266, train_loss=3.39]\n",
      "Evaluation:  76%|████████████████████████████████████████████████████▌                | 99/130 [00:51<00:16,  1.92it/s]\n"
     ]
    },
    {
     "name": "stdout",
     "output_type": "stream",
     "text": [
      "\t - Recall@20 epoch 12: 0.136364\n",
      "\t - MRR@20    epoch 12: 0.032715\n",
      "\n"
     ]
    },
    {
     "name": "stderr",
     "output_type": "stream",
     "text": [
      "Train:  98%|██████████████████████████████████████ | 1046/1071 [00:15<00:00, 69.19it/s, accuracy=0.25, train_loss=3.33]\n",
      "Evaluation:  76%|████████████████████████████████████████████████████▌                | 99/130 [00:51<00:16,  1.91it/s]\n"
     ]
    },
    {
     "name": "stdout",
     "output_type": "stream",
     "text": [
      "\t - Recall@20 epoch 13: 0.134785\n",
      "\t - MRR@20    epoch 13: 0.030691\n",
      "\n"
     ]
    },
    {
     "name": "stderr",
     "output_type": "stream",
     "text": [
      "Train:  98%|█████████████████████████████████████ | 1046/1071 [00:15<00:00, 68.94it/s, accuracy=0.359, train_loss=3.09]\n",
      "Evaluation:  76%|████████████████████████████████████████████████████▌                | 99/130 [00:51<00:16,  1.91it/s]\n"
     ]
    },
    {
     "name": "stdout",
     "output_type": "stream",
     "text": [
      "\t - Recall@20 epoch 14: 0.132891\n",
      "\t - MRR@20    epoch 14: 0.031209\n",
      "\n"
     ]
    },
    {
     "name": "stderr",
     "output_type": "stream",
     "text": [
      "Train:  98%|█████████████████████████████████████ | 1046/1071 [00:16<00:00, 65.13it/s, accuracy=0.344, train_loss=3.02]\n",
      "Evaluation:  76%|████████████████████████████████████████████████████▌                | 99/130 [00:52<00:16,  1.90it/s]\n"
     ]
    },
    {
     "name": "stdout",
     "output_type": "stream",
     "text": [
      "\t - Recall@20 epoch 15: 0.134154\n",
      "\t - MRR@20    epoch 15: 0.030695\n",
      "\n"
     ]
    },
    {
     "name": "stderr",
     "output_type": "stream",
     "text": [
      "Train:  98%|█████████████████████████████████████ | 1046/1071 [00:16<00:00, 64.27it/s, accuracy=0.297, train_loss=3.01]\n",
      "Evaluation:  76%|████████████████████████████████████████████████████▌                | 99/130 [00:52<00:16,  1.89it/s]\n"
     ]
    },
    {
     "name": "stdout",
     "output_type": "stream",
     "text": [
      "\t - Recall@20 epoch 16: 0.129893\n",
      "\t - MRR@20    epoch 16: 0.030396\n",
      "\n"
     ]
    },
    {
     "name": "stderr",
     "output_type": "stream",
     "text": [
      "Train:  98%|█████████████████████████████████████ | 1046/1071 [00:15<00:00, 65.62it/s, accuracy=0.281, train_loss=3.08]\n",
      "Evaluation:  76%|████████████████████████████████████████████████████▌                | 99/130 [00:52<00:16,  1.88it/s]\n"
     ]
    },
    {
     "name": "stdout",
     "output_type": "stream",
     "text": [
      "\t - Recall@20 epoch 17: 0.130682\n",
      "\t - MRR@20    epoch 17: 0.030319\n",
      "\n"
     ]
    },
    {
     "name": "stderr",
     "output_type": "stream",
     "text": [
      "Train:  98%|█████████████████████████████████████ | 1046/1071 [00:16<00:00, 64.39it/s, accuracy=0.375, train_loss=2.83]\n",
      "Evaluation:  76%|████████████████████████████████████████████████████▌                | 99/130 [00:52<00:16,  1.90it/s]\n"
     ]
    },
    {
     "name": "stdout",
     "output_type": "stream",
     "text": [
      "\t - Recall@20 epoch 18: 0.130208\n",
      "\t - MRR@20    epoch 18: 0.029281\n",
      "\n"
     ]
    },
    {
     "name": "stderr",
     "output_type": "stream",
     "text": [
      "Train:  98%|███████████████████████████████████████ | 1046/1071 [00:16<00:00, 64.29it/s, accuracy=0.25, train_loss=3.1]\n",
      "Evaluation:  76%|████████████████████████████████████████████████████▌                | 99/130 [00:52<00:16,  1.90it/s]\n"
     ]
    },
    {
     "name": "stdout",
     "output_type": "stream",
     "text": [
      "\t - Recall@20 epoch 19: 0.129104\n",
      "\t - MRR@20    epoch 19: 0.030492\n",
      "\n"
     ]
    },
    {
     "name": "stderr",
     "output_type": "stream",
     "text": [
      "Train:  98%|█████████████████████████████████████ | 1046/1071 [00:15<00:00, 65.62it/s, accuracy=0.297, train_loss=2.99]\n",
      "Evaluation:  76%|████████████████████████████████████████████████████▌                | 99/130 [00:52<00:16,  1.88it/s]\n"
     ]
    },
    {
     "name": "stdout",
     "output_type": "stream",
     "text": [
      "\t - Recall@20 epoch 20: 0.123422\n",
      "\t - MRR@20    epoch 20: 0.029678\n",
      "\n"
     ]
    },
    {
     "name": "stderr",
     "output_type": "stream",
     "text": [
      "Train:  98%|█████████████████████████████████████ | 1046/1071 [00:15<00:00, 68.97it/s, accuracy=0.359, train_loss=2.88]\n",
      "Evaluation:  76%|████████████████████████████████████████████████████▌                | 99/130 [00:53<00:16,  1.86it/s]\n"
     ]
    },
    {
     "name": "stdout",
     "output_type": "stream",
     "text": [
      "\t - Recall@20 epoch 21: 0.124842\n",
      "\t - MRR@20    epoch 21: 0.027037\n",
      "\n"
     ]
    },
    {
     "name": "stderr",
     "output_type": "stream",
     "text": [
      "Train:  98%|█████████████████████████████████████ | 1046/1071 [00:15<00:00, 68.28it/s, accuracy=0.328, train_loss=2.87]\n",
      "Evaluation:  76%|████████████████████████████████████████████████████▌                | 99/130 [00:52<00:16,  1.90it/s]\n"
     ]
    },
    {
     "name": "stdout",
     "output_type": "stream",
     "text": [
      "\t - Recall@20 epoch 22: 0.122475\n",
      "\t - MRR@20    epoch 22: 0.027278\n",
      "\n"
     ]
    },
    {
     "name": "stderr",
     "output_type": "stream",
     "text": [
      "Train:  98%|█████████████████████████████████████ | 1046/1071 [00:15<00:00, 68.73it/s, accuracy=0.297, train_loss=2.94]\n",
      "Evaluation:  76%|████████████████████████████████████████████████████▌                | 99/130 [00:51<00:16,  1.90it/s]\n"
     ]
    },
    {
     "name": "stdout",
     "output_type": "stream",
     "text": [
      "\t - Recall@20 epoch 23: 0.126420\n",
      "\t - MRR@20    epoch 23: 0.027254\n",
      "\n"
     ]
    },
    {
     "name": "stderr",
     "output_type": "stream",
     "text": [
      "Train:  98%|██████████████████████████████████████ | 1046/1071 [00:15<00:00, 68.94it/s, accuracy=0.25, train_loss=3.01]\n",
      "Evaluation:  76%|████████████████████████████████████████████████████▌                | 99/130 [00:52<00:16,  1.88it/s]\n"
     ]
    },
    {
     "name": "stdout",
     "output_type": "stream",
     "text": [
      "\t - Recall@20 epoch 24: 0.119949\n",
      "\t - MRR@20    epoch 24: 0.028189\n",
      "\n"
     ]
    },
    {
     "name": "stderr",
     "output_type": "stream",
     "text": [
      "Train:  98%|█████████████████████████████████████ | 1046/1071 [00:14<00:00, 69.86it/s, accuracy=0.312, train_loss=2.78]\n",
      "Evaluation:  76%|████████████████████████████████████████████████████▌                | 99/130 [00:58<00:18,  1.69it/s]\n"
     ]
    },
    {
     "name": "stdout",
     "output_type": "stream",
     "text": [
      "\t - Recall@20 epoch 25: 0.121212\n",
      "\t - MRR@20    epoch 25: 0.027158\n",
      "\n"
     ]
    },
    {
     "name": "stderr",
     "output_type": "stream",
     "text": [
      "Train:  98%|█████████████████████████████████████ | 1046/1071 [00:15<00:00, 69.41it/s, accuracy=0.344, train_loss=2.56]\n",
      "Evaluation:  76%|████████████████████████████████████████████████████▌                | 99/130 [00:56<00:17,  1.77it/s]\n"
     ]
    },
    {
     "name": "stdout",
     "output_type": "stream",
     "text": [
      "\t - Recall@20 epoch 26: 0.119476\n",
      "\t - MRR@20    epoch 26: 0.027250\n",
      "\n"
     ]
    },
    {
     "name": "stderr",
     "output_type": "stream",
     "text": [
      "Train:  98%|██████████████████████████████████████ | 1046/1071 [00:15<00:00, 69.44it/s, accuracy=0.344, train_loss=2.8]\n",
      "Evaluation:  76%|████████████████████████████████████████████████████▌                | 99/130 [00:54<00:17,  1.80it/s]\n"
     ]
    },
    {
     "name": "stdout",
     "output_type": "stream",
     "text": [
      "\t - Recall@20 epoch 27: 0.119476\n",
      "\t - MRR@20    epoch 27: 0.026834\n",
      "\n"
     ]
    },
    {
     "name": "stderr",
     "output_type": "stream",
     "text": [
      "Train:  98%|██████████████████████████████████████ | 1046/1071 [00:15<00:00, 68.31it/s, accuracy=0.266, train_loss=2.8]\n",
      "Evaluation:  76%|████████████████████████████████████████████████████▌                | 99/130 [00:53<00:16,  1.85it/s]\n"
     ]
    },
    {
     "name": "stdout",
     "output_type": "stream",
     "text": [
      "\t - Recall@20 epoch 28: 0.116635\n",
      "\t - MRR@20    epoch 28: 0.025449\n",
      "\n"
     ]
    },
    {
     "name": "stderr",
     "output_type": "stream",
     "text": [
      "Train:  98%|█████████████████████████████████████ | 1046/1071 [00:15<00:00, 69.33it/s, accuracy=0.469, train_loss=2.39]\n",
      "Evaluation:  76%|████████████████████████████████████████████████████▌                | 99/130 [00:53<00:16,  1.86it/s]\n"
     ]
    },
    {
     "name": "stdout",
     "output_type": "stream",
     "text": [
      "\t - Recall@20 epoch 29: 0.117109\n",
      "\t - MRR@20    epoch 29: 0.025405\n",
      "\n"
     ]
    },
    {
     "name": "stderr",
     "output_type": "stream",
     "text": [
      "Train:  98%|██████████████████████████████████████ | 1046/1071 [00:15<00:00, 65.95it/s, accuracy=0.375, train_loss=2.4]\n",
      "Evaluation:  76%|████████████████████████████████████████████████████▌                | 99/130 [00:52<00:16,  1.87it/s]"
     ]
    },
    {
     "name": "stdout",
     "output_type": "stream",
     "text": [
      "\t - Recall@20 epoch 30: 0.114110\n",
      "\t - MRR@20    epoch 30: 0.025576\n",
      "\n"
     ]
    },
    {
     "name": "stderr",
     "output_type": "stream",
     "text": [
      "\n"
     ]
    }
   ],
   "source": [
    "train_model(model2_400, args2_400)"
   ]
  },
  {
   "cell_type": "code",
   "execution_count": 66,
   "id": "709b988b",
   "metadata": {},
   "outputs": [
    {
     "name": "stderr",
     "output_type": "stream",
     "text": [
      "Evaluation:  82%|████████████████████████████████████████████████████████            | 108/131 [00:57<00:12,  1.87it/s]"
     ]
    },
    {
     "name": "stdout",
     "output_type": "stream",
     "text": [
      "\t - Recall@20: 0.110532\n",
      "\t - MRR@20: 0.023243\n",
      "\n"
     ]
    },
    {
     "name": "stderr",
     "output_type": "stream",
     "text": [
      "\n"
     ]
    }
   ],
   "source": [
    "test_model(model2_400, args2_400, test)"
   ]
  },
  {
   "cell_type": "markdown",
   "id": "3b47eb0a",
   "metadata": {},
   "source": [
    "## 후기 :  \n",
    "#### 직전에 본 영화 데이터로 다음에 볼 영화를 예측하는 방식인데 결과는 신통치 않았다.   \n",
    "#### 취향을 고려하는 방식이 더 나을 것 같다. 보는 순서보다는 어떤 영화를 여태까지 보았고 다음에 볼 영화는 어떤 범주의 영화 일 것이다 이런식으로 하는 것이 좋아보인다.  \n",
    "#### epoch가 진행됨에 따라 Recall@20와 MRR@20는 조금 올라가는 듯 싶더니 정확도가 올라갈수록 두 수치는 더 낮아졌다.\n",
    "#### 트레이닝 셋과 테스트셋의 상관관계를 높이기 위해서 시간과 유저의 제약을 두면 조건에 맞는 데이터량은 줄었다.\n",
    "#### batch_size=64 를 늘리면 데이터양이 부족해서 그런지 에러가 났다.  \n",
    "#### hsz=400 100일 경우 평가수치의 개선이 보이지 않았고 400으로 올리자 트레이닝 중 정밀도는 높아졌다. 다른 수치는 그대로거나 조금 높아졌다가 처음보다 더 떨어졌다.\n",
    "\n",
    "#### 참고\n",
    "https://github.com/yhs968/pyGRU4REC  \n",
    "https://github.com/paxcema/KerasGRU4Rec"
   ]
  },
  {
   "cell_type": "code",
   "execution_count": null,
   "id": "8d91418f",
   "metadata": {},
   "outputs": [],
   "source": []
  }
 ],
 "metadata": {
  "kernelspec": {
   "display_name": "Python 3 (ipykernel)",
   "language": "python",
   "name": "python3"
  },
  "language_info": {
   "codemirror_mode": {
    "name": "ipython",
    "version": 3
   },
   "file_extension": ".py",
   "mimetype": "text/x-python",
   "name": "python",
   "nbconvert_exporter": "python",
   "pygments_lexer": "ipython3",
   "version": "3.10.0"
  }
 },
 "nbformat": 4,
 "nbformat_minor": 5
}
